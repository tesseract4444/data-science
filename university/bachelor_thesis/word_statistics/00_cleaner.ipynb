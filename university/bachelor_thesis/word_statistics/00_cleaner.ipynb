{
 "cells": [
  {
   "cell_type": "code",
   "execution_count": 108,
   "id": "99e34c58-5ecf-488e-b5f7-b5a211f52245",
   "metadata": {},
   "outputs": [],
   "source": [
    "import nltk\n",
    "from nltk.corpus import stopwords\n",
    "from nltk.stem import WordNetLemmatizer\n",
    "import re\n",
    "import string\n",
    "import glob\n",
    "from pathlib import Path\n",
    "from sklearn.feature_extraction.text import TfidfVectorizer\n",
    "from sklearn.feature_extraction.text import CountVectorizer\n",
    "import pandas as pd\n",
    "import os\n",
    "from nltk.tokenize import word_tokenize\n",
    "import spacy"
   ]
  },
  {
   "cell_type": "code",
   "execution_count": 109,
   "id": "a22fa2ac-2997-4174-8d2d-90624a281196",
   "metadata": {},
   "outputs": [],
   "source": [
    "nlp = spacy.load(\"en_core_web_sm\")\n",
    "nlp.max_length = 1500000"
   ]
  },
  {
   "cell_type": "markdown",
   "id": "8162438e-89ad-4d1a-96d3-02a31fdbaa6c",
   "metadata": {},
   "source": [
    "-----------"
   ]
  },
  {
   "cell_type": "code",
   "execution_count": 110,
   "id": "d4b94de6-3809-494e-bbcb-99ba46c42c40",
   "metadata": {},
   "outputs": [
    {
     "name": "stdin",
     "output_type": "stream",
     "text": [
      "Bitte Wortart eingeben (z.B. NOUN, VERB oder ADJ)... adj\n"
     ]
    }
   ],
   "source": [
    "def remove_punctuation(text):\n",
    "    text = text.replace(\"’\", \" \")\n",
    "    return text.translate(str.maketrans(\"\", \"\", string.punctuation))\n",
    "\n",
    "#weitere cleaning-prozesse\n",
    "def preprocess_text(text):\n",
    "    stop_words = set(stopwords.words('english'))\n",
    "    lemmatizer = WordNetLemmatizer()\n",
    "    words = text.lower().split()\n",
    "    words = [word for word in words if word not in stop_words]\n",
    "    words = [lemmatizer.lemmatize(word) for word in words]\n",
    "    return ' '.join(words)\n",
    "\n",
    "\n",
    "def remove_extra_signs(text):\n",
    "    text = text.replace(\"“\", \"\")\n",
    "    text = text.replace(\"”\", \"\")\n",
    "    return text\n",
    "\n",
    "#zahlen entfernen\n",
    "def remove_numbers(text):\n",
    "    text = re.sub(r\"\\d\", \"\", text)\n",
    "    text = re.sub(r\"\\s+\", \" \", text)\n",
    "    return text\n",
    "\n",
    "input_pos = input(\"Bitte Wortart eingeben (z.B. NOUN, VERB oder ADJ)...\").upper()\n",
    "\n",
    "#wortarten filtern\n",
    "def pos_filter(text):\n",
    "\n",
    "    \n",
    "    #analysieren des texts\n",
    "    doc = nlp(text)\n",
    "    \n",
    "    #extrahieren der substantive\n",
    "    substantives = [token.lemma_.lower() for token in doc if token.pos_ == input_pos]\n",
    "    \n",
    "    #drucken der ergebnisse\n",
    "    #print(substantives)\n",
    "    \n",
    "    #filtern der substantive nach länge\n",
    "    substantives = [token.lemma_.lower() for token in doc if token.pos_ == input_pos and len(token.lemma_) > 4]\n",
    "    \n",
    "    return \" \".join(substantives)"
   ]
  },
  {
   "cell_type": "code",
   "execution_count": 111,
   "id": "695ff16b-c103-4996-8e68-89426b96bfce",
   "metadata": {},
   "outputs": [],
   "source": [
    "def clean_all(text):\n",
    "    text = remove_punctuation(text)\n",
    "    text = preprocess_text(text)\n",
    "    text = remove_extra_signs(text)\n",
    "    text = remove_numbers(text)\n",
    "    text = pos_filter(text)\n",
    "    return text"
   ]
  },
  {
   "cell_type": "markdown",
   "id": "bf77b060-2035-42eb-8520-49e8ba4e4045",
   "metadata": {},
   "source": [
    "#### Alle Texte verarbeiten"
   ]
  },
  {
   "cell_type": "code",
   "execution_count": 112,
   "id": "ae55346f-e544-4688-ba9c-9661a5526bae",
   "metadata": {
    "scrolled": true
   },
   "outputs": [
    {
     "name": "stdin",
     "output_type": "stream",
     "text": [
      "Bitte Eingabeverzeichnis einfügen... /home/simon/Dokumente/Uni Würzburg/Digital Humanities/Bachelorarbeit/datasets/my_trump/00_cleaned_files/2024/youtube\n",
      "Bitte all_words, nouns, adjectives oder verbs eingeben... adjectives\n",
      "Name Ausgabe-Ordner eingeben... clean_trump\n"
     ]
    },
    {
     "name": "stdout",
     "output_type": "stream",
     "text": [
      "Bereinigter Text wurde erfolgreich in die Datei /home/simon/bachelorarbeit/vergleich_mk_trump/cleaned_docs/adjectives/clean_trump/FULL SPEECH: Trump Pledges To Enact The 'Largest Deportation In The History Of Our Country' In CPAC Speech.txt gespeichert.\n",
      "urgent alien whole little migrant deadly interesting tough tough middle tough migrant category severe violent mental insane insane asylum mental terrorist human secure super military military great ready ready entire mental large right equal entire horrible handsome handsome handsome great unbelievable representative wonderful competent criminal tough tough large crazy mexic medical contagious sorry sorry\n",
      "['urgent', 'alien', 'whole', 'little', 'migrant', 'deadly', 'interesting', 'tough', 'tough', 'middle']\n",
      "Bereinigter Text wurde erfolgreich in die Datei /home/simon/bachelorarbeit/vergleich_mk_trump/cleaned_docs/adjectives/clean_trump/FULL SPEECH: Trump Pledges To Carry Out 'The Largest Domestic Deportation Operation In American History'.txt gespeichert.\n",
      "insane mental right mental large mental great secure strong third right first massive incredible central colossal tough necessary local federal military large domestic federal known\n",
      "['insane', 'mental', 'right', 'mental', 'large', 'mental', 'great', 'secure', 'strong', 'third']\n",
      "Bereinigter Text wurde erfolgreich in die Datei /home/simon/bachelorarbeit/vergleich_mk_trump/cleaned_docs/adjectives/clean_trump/FULL SPEECH - President Trump speaks at a campaign event in Claremont, N.H. - 11_11_23.txt gespeichert.\n",
      "american american proud american least great tremendous great proud first third straight crooked great great pleased receive christen noble everybodys sudden sanctimonious amazing phenomenal great right great crooked special eternal proud great proud military horrible horrible incredible beautiful right beautiful beautiful great finished beautiful beautiful incredible right tight crazy horrible great american terrible prime mistreat civil horrible great permanent medical private preventative private private great online private private cheap horrible incredible solemn incredible horrible horrible little great beautiful beautiful personal homelessness great terrible illegal alien expensive illegal alien crazy illegal alien luxurious homeless terrible executive illegal large great alien single incredible entire large entire strange middle front nuclear important tremendous great great close close perfect ukraine whole pulled worth great incredible gross rough crazy unhappy unhappy independent primary armed warmong republican large great nasty terrible lousy political moral american quick exciting hungry tough strong orban powerful powerful european whole simple right great great stupid helpful nasty little right nasty nasty nasty tremendous close presidential unified smart smart horrible mental electric electric sorry whole crazy little whole middle great least enough beautiful beautiful american strange great whole electric expensive simple little expensive crooked central loose loose great nuclear smart smart smart intelligent meaningful caput entire unbelievable incredible incredible fifth prestigious little social single great strong quick quick quick quick quick guilty guilty guilty particular right ready large average average senior young humane small small different powerful strong drugged different small strong different large great interesting harsh funny conservative conservative common knocked whole amazing radical crooked crazy tough liberal tough tough wrong wrong right afraid amazing accurate right distant foreign american global afghan powerful thick concrete thick powerful powerful straight whole great great smart tough whole whole great territorial general general general general general first general extreme light outside central light short great fantastic clean beautiful human beautiful standard light beautiful light incredible confident light great congressional great great congressional sarcastic little congressional congressional general general great whole beautiful great great natural amazing great general general central general worth cheap cheap clean cheap general military incredible incompetent unbelievable unbelievable important general nuclear stupid general second portable portable portable least portable correct correct correct simple important auxiliary portable right general human human beautiful gorgeous white little prepared right terrorist sophisticated removed terrorist numerous little little different unbelievable young spend perfect handsome beautiful handsome tough possible great young unbelievable great tremendous incredible great great alive different incredible brilliant young brave single plastic strong first terrorist great great happy afraid afraid wrong similar liberal wonderful stupid simple stupid tough large military first endless historic incompetent biden corrupt incompetent legal indictment political political young careful careful arrive horrible human great great protect foreign stateoftheart crazy willing incredible great incredible little close incredible right great crazy great excellent crazy important disastrous powerful economic right liquid crooked lunatic desperate necessary plenty second first first former phony second tough tough right defend interesting great great incompetent important legal great inflated conservative radical incompetent whole little false whole crazy political political third sorry sorry whole sunny purdue arrogant arrogant stiff great weird right proud strong proud honest first correct criminal improper right certain great incompetent aware bogus bogus secret corrupt funny great bankrupt medium golden different great great corrupt dishonest straighten great unable unfair political local terrible honest dangerous clear fundamental constitutional right opposite public presidential corrupt massive firsthand horrible horrible corrupt public right appealing light federal dirty filthy ridden popular lovely lovely purple little lovely crooked messy presidential horrible terrible afraid right beautiful great wrong civil terrible great great great smart successful great incumbent second legendary successful great political single close military military right radical marxist fascist great appreciate great political great close federal great secure first military southern large domestic lunatic lunatic strong ideological great national large large large simple great branding strong social great senior social executive federal critical critical racial sexual political sexual sexual embarrassing uphold second continue innocent secure destructive great great third little great sorry serious radical lunatic interfere corrupt massive primary primary first final demolish expel horrible horrible warmonger marxist political great silent great fascist radical possible american radical right radical single sinister dangerous grave capable competent smart tough radical lunatic\n",
      "['american', 'american', 'proud', 'american', 'least', 'great', 'tremendous', 'great', 'proud', 'first']\n",
      "Bereinigter Text wurde erfolgreich in die Datei /home/simon/bachelorarbeit/vergleich_mk_trump/cleaned_docs/adjectives/clean_trump/FULL SPEECH: Trump announces 'largest deportation in American history' if he is reelected.txt gespeichert.\n",
      "unprecedented illegal alien common large first illegal alien incapable incompetent corrupt happy brilliant brilliant\n",
      "['unprecedented', 'illegal', 'alien', 'common', 'large', 'first', 'illegal', 'alien', 'incapable', 'incompetent']\n",
      "Bereinigter Text wurde erfolgreich in die Datei /home/simon/bachelorarbeit/vergleich_mk_trump/cleaned_docs/adjectives/clean_trump/FULL SPEECH: President Trump to Speak at Iowa Commit to Caucus Event in Waterloo, Iowa - 12_19_23_YOUTUBE.txt gespeichert.\n",
      "proud least american proud least proud least thank great right great incredible proud american merry great least important first first first simple thank special strong respected popular incredible handsome great bobby whole representative bobby fantastic fantastic slight great scary wonderful beautiful crazy important massive little brutal betrayal crazy politician scary crooked whole terrible incapable incompetent corrupt certain crooked little nonexistent average monthly terrible american economic instant important believable historic horde right interesting interesting third entire peaceful tough corrupt conservative communist marxist catholic catholic catholic catholic potential domestic major christian religious federal antichristian equitable illegal believable whole parental parental right american parental right parental fascist speakable american important early beautiful proud christian first federal great religious innocent judeochristian eternal american israeli historic lunatic desperate necessary willing right little embarrassed sanctimonious sanct primary interesting major great sanctimonious outli first crazy meaningful incredible great radical presidential presidential radical marxist fascist great simple large rural massive great political great political straight dramatic unfair countless incredible important local horrible horrible small happy happy giant communist chinese unable straight large great conceited large stuck great great worth amazing sanctimonious sudden american great important great covid right right nuclear right third right republican great great reciprocal reciprocal identical stiff military ready fourth first short independent strategic right relevant terrible common historic available glamorous simple environmental bankrupt horrible entire political electric electric electric crazy beautiful crazy crazy electric beautiful electric comparable comparable great massive crooked first illegal alien great political single first straight entire great orban hungry tough tough important great close nuclear nuclear nuclear unacceptable military nuclear tippy great amazing dangerous exact opposite unsafe sorry great little stupid horrible ready exact concrete obsolete obsolete single illegal incredible different healthy unhealthy criminal mental insane insane stupid vital migrant great beautiful beautiful whole first southern large domestic direct radical deranged great tremendous different presidential absolute different secure tippy dishonest classified classified classified wrong wrong impossible terrible presidential total appreciate nasty serious derangement derangement radical strong criminal great incredible willing great crazy nightmare foreign beautiful whole ridiculous median absolute foreign clean beautiful beautiful beautiful architectural rough great great compassionate armored young afraid social social social minimum liquid senior social indian expensive expensive executive federal critical inappropriate racial sexual political popular weightlifting whole great unfair strong uphold second secure simple local precinct great rapid great great believable single great great final communist marxist political great silent glorious thank\n",
      "['proud', 'least', 'american', 'proud', 'least', 'proud', 'least', 'thank', 'great', 'right']\n"
     ]
    }
   ],
   "source": [
    "input_directory = input(\"Bitte Eingabeverzeichnis einfügen...\")\n",
    "output_directory = \"/home/simon/bachelorarbeit/vergleich_mk_trump/cleaned_docs/\" + input(\"Bitte all_words, nouns, adjectives oder verbs eingeben...\") + \"/\" + input(\"Name Ausgabe-Ordner eingeben...\")\n",
    "\n",
    "#ausgabeverzeichnis erstellen, falls es nicht existiert\n",
    "if not os.path.exists(output_directory):\n",
    "    os.makedirs(output_directory)\n",
    "\n",
    "pattern = os.path.join(input_directory, \"*.txt\")\n",
    "\n",
    "\n",
    "for path in glob.glob(pattern):\n",
    "\n",
    "    with open(path, \"r\") as file:\n",
    "        text_raw = file.read()\n",
    "        text_cleaned = clean_all(text_raw)\n",
    "\n",
    "        #bereinigte datei in neuem verzeichnis speichern\n",
    "        output_file = os.path.join(output_directory, f\"{os.path.basename(path)}\")\n",
    "        with open(output_file, \"w\") as file:\n",
    "            file.write(text_cleaned)\n",
    "\n",
    "        print(f\"Bereinigter Text wurde erfolgreich in die Datei {output_file} gespeichert.\")\n",
    "\n",
    "        print(text_cleaned)\n",
    "        print(text_cleaned.split()[:10])\n"
   ]
  },
  {
   "cell_type": "code",
   "execution_count": null,
   "id": "12fa810a-8e6d-4c8b-b4d2-88f399705b2e",
   "metadata": {},
   "outputs": [],
   "source": []
  },
  {
   "cell_type": "code",
   "execution_count": null,
   "id": "e6270db8-69cc-4105-b6a9-23f25dbf8b73",
   "metadata": {},
   "outputs": [],
   "source": []
  }
 ],
 "metadata": {
  "kernelspec": {
   "display_name": "Python 3 (ipykernel)",
   "language": "python",
   "name": "python3"
  },
  "language_info": {
   "codemirror_mode": {
    "name": "ipython",
    "version": 3
   },
   "file_extension": ".py",
   "mimetype": "text/x-python",
   "name": "python",
   "nbconvert_exporter": "python",
   "pygments_lexer": "ipython3",
   "version": "3.11.9"
  }
 },
 "nbformat": 4,
 "nbformat_minor": 5
}
