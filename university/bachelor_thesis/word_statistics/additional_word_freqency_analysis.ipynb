{
 "cells": [
  {
   "cell_type": "markdown",
   "metadata": {
    "id": "uZ04nqj4SdC0"
   },
   "source": [
    "## Untersuchung von Trump- und Hitler-Texten nach dem Zipf'schen Gesetz, auf Hapax Legomena sowie der Type-Token-Ratio"
   ]
  },
  {
   "cell_type": "markdown",
   "metadata": {
    "id": "-aQECXguScGu"
   },
   "source": [
    "1. Zipf'sches Gesetz:\n",
    "Zipf'sches Gesetz besagt, dass die Häufigkeit eines Wortes in einem Text umgekehrt proportional zu seiner Rangfolge in der Häufigkeitsliste ist. Du kannst dies überprüfen, indem du die Wörter nach ihrer Häufigkeit sortierst und die Rangfolge bestimmen. Dann vergleichst du die tatsächliche Häufigkeit mit der erwarteten Häufigkeit nach Zipf'schem Gesetz.\n",
    "\n",
    "2. Hapax Legomena:\n",
    "Hapax Legomena sind Wörter, die im Text nur einmal vorkommen. Du kannst die Anzahl der Hapax Legomena zählen und als prozentualen Anteil an der Gesamtzahl der Wörter anzeigen.\n",
    "\n",
    "3. Type-Token Ratio:\n",
    "Die Type-Token Ratio ist das Verhältnis zwischen der Anzahl der verschiedenen Wörter (Types) und der Gesamtanzahl der Wörter im Text (Tokens). Dies gibt Aufschluss darüber, wie vielfältig der Wortschatz im Vergleich zur Gesamtlänge des Textes ist."
   ]
  },
  {
   "cell_type": "markdown",
   "metadata": {
    "id": "ZoNNif9VUytO"
   },
   "source": [
    "----------"
   ]
  },
  {
   "cell_type": "markdown",
   "metadata": {
    "id": "KKal6dM-Uyk9"
   },
   "source": [
    "#### Einlesen (zusätzlich über Colab)"
   ]
  },
  {
   "cell_type": "code",
   "execution_count": 1,
   "metadata": {
    "executionInfo": {
     "elapsed": 6,
     "status": "ok",
     "timestamp": 1716986157563,
     "user": {
      "displayName": "Sim Don",
      "userId": "09290070938786203900"
     },
     "user_tz": -120
    },
    "id": "jp24ry0eUZbQ"
   },
   "outputs": [],
   "source": [
    "#from google.colab import drive\n",
    "import os\n",
    "import glob\n",
    "from collections import Counter\n",
    "import matplotlib.pyplot as plt\n",
    "import math"
   ]
  },
  {
   "cell_type": "code",
   "execution_count": 5,
   "metadata": {
    "colab": {
     "base_uri": "https://localhost:8080/"
    },
    "executionInfo": {
     "elapsed": 17591,
     "status": "ok",
     "timestamp": 1716986207056,
     "user": {
      "displayName": "Sim Don",
      "userId": "09290070938786203900"
     },
     "user_tz": -120
    },
    "id": "6Q8c1MYxUgYn",
    "outputId": "5c987994-d392-4716-d616-51577dd1cf30"
   },
   "outputs": [],
   "source": [
    "#drive.mount('/content/drive')"
   ]
  },
  {
   "cell_type": "code",
   "execution_count": 6,
   "metadata": {
    "executionInfo": {
     "elapsed": 435,
     "status": "ok",
     "timestamp": 1716986209618,
     "user": {
      "displayName": "Sim Don",
      "userId": "09290070938786203900"
     },
     "user_tz": -120
    },
    "id": "shgkl9a9Ud58"
   },
   "outputs": [],
   "source": [
    "#os.chdir('/content/drive/MyDrive/Colab Notebooks')"
   ]
  },
  {
   "cell_type": "markdown",
   "metadata": {
    "id": "QC4FCu8SUvTq"
   },
   "source": [
    "------------------------------"
   ]
  },
  {
   "cell_type": "markdown",
   "metadata": {
    "id": "gfWa5xm7WTou"
   },
   "source": [
    "#### Einlesen der Verzeichnisse und Worteingrenzung"
   ]
  },
  {
   "cell_type": "code",
   "execution_count": 2,
   "metadata": {},
   "outputs": [
    {
     "name": "stdin",
     "output_type": "stream",
     "text": [
      "Was soll untersucht werden? Hitler, Trump oder beide? hitler\n"
     ]
    }
   ],
   "source": [
    "while True: \n",
    "    input_name = input(\"Was soll untersucht werden? Hitler, Trump oder beide?\").lower()\n",
    "    \n",
    "    if input_name == \"hitler\":\n",
    "        path_part = 'clean_hitler'\n",
    "        break\n",
    "    elif input_name == \"trump\":\n",
    "        path_part = 'clean_trump'\n",
    "        break\n",
    "    elif input_name == \"beide\":\n",
    "        path_part = 'cleaned_all_docs'\n",
    "        break\n",
    "    else: \n",
    "        print(\"Falsche Eingabe!\")"
   ]
  },
  {
   "cell_type": "code",
   "execution_count": 11,
   "metadata": {},
   "outputs": [
    {
     "name": "stdin",
     "output_type": "stream",
     "text": [
      "Was soll untersucht werden? allwords, nouns, adjectives oder verbs? allwords\n"
     ]
    },
    {
     "name": "stdout",
     "output_type": "stream",
     "text": [
      "\n",
      "****************************************************************************************************\n",
      "\n",
      "Im eingelesen Ordner befinden sich 29 Textdateien\n",
      "\n",
      "****************************************************************************************************\n",
      "\n",
      "Dateinamen:\n",
      "['00_preface_buch01.txt', 'chapter01_buch01.txt', 'chapter01_buch02.txt', 'chapter02_buch01.txt', 'chapter02_buch02.txt', 'chapter03_buch01.txt', 'chapter03_buch02.txt', 'chapter04_buch01.txt', 'chapter04_buch02.txt', 'chapter05_buch01.txt', 'chapter05_buch02.txt', 'chapter06_buch01.txt', 'chapter06_buch02.txt', 'chapter07_buch01.txt', 'chapter07_buch02.txt', 'chapter08_buch01.txt', 'chapter08_buch02.txt', 'chapter09_buch01.txt', 'chapter09_buch02.txt', 'chapter10_buch01.txt', 'chapter10_buch02.txt', 'chapter11_buch01.txt', 'chapter11_buch02.txt', 'chapter12_buch01.txt', 'chapter12_buch02.txt', 'chapter13_buch02.txt', 'chapter14_buch02.txt', 'chapter15_buch02.txt', 'epilogue_buch02.txt']\n",
      "\n",
      "****************************************************************************************************\n",
      "\n",
      "/Users/Simon/Bachelorarbeit/vergleich_mk_trump/cleaned_docs/all_words/clean_hitler\n",
      "april ist began serve sentence detention fortress landsberg lech following verdict pronounced munich\n"
     ]
    }
   ],
   "source": [
    "while True: \n",
    "    input_path = input(\"Was soll untersucht werden? allwords, nouns, adjectives oder verbs?\").lower()\n",
    "    \n",
    "    if input_path == \"allwords\":\n",
    "        #directory_path = \"/home/simon/bachelorarbeit/vergleich_mk_trump/cleaned_docs/all_words/\"+path_part #linux\n",
    "        directory_path = \"/Users/Simon/Bachelorarbeit/vergleich_mk_trump/cleaned_docs/all_words/\"+path_part #windows\n",
    "        break\n",
    "    elif input_path == \"nouns\":\n",
    "        #directory_path = \"/home/simon/bachelorarbeit/vergleich_mk_trump/cleaned_docs/nouns/\"+path_part\n",
    "        directory_path = \"/Users/Simon/Bachelorarbeit/vergleich_mk_trump/cleaned_docs/nouns/\"+path_part\n",
    "        break\n",
    "    elif input_path == \"verbs\":\n",
    "        #directory_path = \"/home/simon/bachelorarbeit/vergleich_mk_trump/cleaned_docs/verbs/\"+path_part\n",
    "        directory_path = \"/Users/Simon/Bachelorarbeit/vergleich_mk_trump/cleaned_docs/verbs/\"+path_part\n",
    "        break\n",
    "    elif input_path == \"adjectives\":\n",
    "        #directory_path = \"/home/simon/bachelorarbeit/vergleich_mk_trump/cleaned_docs/adjectives/\"+path_part\n",
    "        directory_path = \"/Users/Simon/Bachelorarbeit/vergleich_mk_trump/cleaned_docs/adjectives/\"+path_part\n",
    "        break\n",
    "    else: \n",
    "        print(\"Falsche Eingabe!\")\n",
    "\n",
    "print('\\n'+100*'*'+'\\n')\n",
    "\n",
    "text_files = []\n",
    "for filename in glob.glob(f\"{directory_path}/*.txt\"):\n",
    "    # Extract filename without path using os.path.basename()\n",
    "    base_filename = os.path.basename(filename)\n",
    "    text_files.append(base_filename)\n",
    "\n",
    "print(f'Im eingelesen Ordner befinden sich {len(text_files)} Textdateien')\n",
    "\n",
    "print('\\n'+100*'*'+'\\n')\n",
    "\n",
    "print('Dateinamen:')\n",
    "print(text_files)\n",
    "\n",
    "print('\\n'+100*'*'+'\\n')\n",
    "\n",
    "def read_texts_from_folder(folder_path):\n",
    "    texts = []\n",
    "    for filename in os.listdir(folder_path):\n",
    "        if filename.endswith('.txt'):\n",
    "            with open(os.path.join(folder_path, filename), 'r', encoding='utf-8') as file:\n",
    "                texts.append(file.read())\n",
    "    return ' '.join(texts)\n",
    "    \n",
    "print(directory_path)\n",
    "text = read_texts_from_folder(directory_path)\n",
    "print(text[:100])"
   ]
  },
  {
   "cell_type": "markdown",
   "metadata": {},
   "source": [
    "-------------------"
   ]
  },
  {
   "cell_type": "markdown",
   "metadata": {},
   "source": [
    "#### Umsetzung nach Zipf, Hapax Legomena und Type-Token-Ratio"
   ]
  },
  {
   "cell_type": "code",
   "execution_count": 12,
   "metadata": {
    "executionInfo": {
     "elapsed": 6,
     "status": "ok",
     "timestamp": 1716986809711,
     "user": {
      "displayName": "Sim Don",
      "userId": "09290070938786203900"
     },
     "user_tz": -120
    },
    "id": "PyjjE8oLQIy3"
   },
   "outputs": [],
   "source": [
    "def tokenize(text):\n",
    "    # Tokenisierung: Text in Wörter aufteilen\n",
    "    return text.split()\n",
    "\n",
    "def zipfs_law(word_freq, num_ranks):\n",
    "    # Wörter nach Häufigkeit sortieren\n",
    "    sorted_word_freq = sorted(word_freq.items(), key=lambda item: item[1], reverse=True)\n",
    "\n",
    "    # Nur die ersten num_ranks Ränge ausgeben\n",
    "    for rank, (word, freq) in enumerate(sorted_word_freq[:num_ranks], start=1):\n",
    "        print(f\"Rang {rank}: {word} - Häufigkeit: {freq}\")\n",
    "\n",
    "    # Visualisierung des Zipf'schen Gesetzes (nur die ersten num_ranks Ränge)\n",
    "    frequencies = [freq for word, freq in sorted_word_freq[:num_ranks]]\n",
    "    ranks = range(1, len(frequencies) + 1)\n",
    "    plt.plot(ranks, frequencies, marker='o', linestyle='None', color='b')\n",
    "    plt.xlabel('Rang')\n",
    "    plt.ylabel('Häufigkeit')\n",
    "    plt.title(f\"Zipf'sches Gesetz (erste {num_ranks} Ränge)\")\n",
    "    plt.show()\n",
    "\n",
    "def hapax_legomena(word_freq):\n",
    "    # Berechnung der Hapax Legomena\n",
    "    hapax_count = sum(1 for word, freq in word_freq.items() if freq == 1)\n",
    "    total_words = sum(word_freq.values())\n",
    "    hapax_percentage = (hapax_count / total_words) * 100\n",
    "    print(f\"Anzahl der Hapax Legomena: {hapax_count}\")\n",
    "    print(f\"Prozentualer Anteil der Hapax Legomena: {hapax_percentage:.2f}%\")\n",
    "\n",
    "def type_token_ratio(word_freq):\n",
    "    # Berechnung der Type-Token Ratio\n",
    "    num_types = len(word_freq)\n",
    "    num_tokens = sum(word_freq.values())\n",
    "    ttr = num_types / num_tokens\n",
    "    print(f\"Type-Token Ratio: {ttr:.4f}\")\n"
   ]
  },
  {
   "cell_type": "code",
   "execution_count": 13,
   "metadata": {
    "colab": {
     "base_uri": "https://localhost:8080/",
     "height": 750
    },
    "executionInfo": {
     "elapsed": 2816,
     "status": "ok",
     "timestamp": 1716986908678,
     "user": {
      "displayName": "Sim Don",
      "userId": "09290070938786203900"
     },
     "user_tz": -120
    },
    "id": "UtpIcAxSSYwQ",
    "outputId": "501697a3-da46-42df-e210-8e8fcd2c952b"
   },
   "outputs": [
    {
     "name": "stdin",
     "output_type": "stream",
     "text": [
      "Geben Sie die Anzahl der Ränge für das Zipf'sche Gesetz ein... 10\n"
     ]
    },
    {
     "name": "stdout",
     "output_type": "stream",
     "text": [
      "Rang 1: people - Häufigkeit: 985\n",
      "Rang 2: would - Häufigkeit: 960\n",
      "Rang 3: state - Häufigkeit: 884\n",
      "Rang 4: one - Häufigkeit: 868\n",
      "Rang 5: german - Häufigkeit: 861\n",
      "Rang 6: must - Häufigkeit: 698\n",
      "Rang 7: time - Häufigkeit: 659\n",
      "Rang 8: nation - Häufigkeit: 576\n",
      "Rang 9: could - Häufigkeit: 560\n",
      "Rang 10: movement - Häufigkeit: 558\n"
     ]
    },
    {
     "data": {
      "image/png": "[encoded data removed]",
      "text/plain": [
       "<Figure size 640x480 with 1 Axes>"
      ]
     },
     "metadata": {},
     "output_type": "display_data"
    },
    {
     "name": "stdout",
     "output_type": "stream",
     "text": [
      "\n",
      "Anzahl der Hapax Legomena: 5202\n",
      "Prozentualer Anteil der Hapax Legomena: 4.18%\n",
      "\n",
      "Type-Token Ratio: 0.0982\n"
     ]
    }
   ],
   "source": [
    "#tokenisierung\n",
    "tokens = tokenize(text)\n",
    "\n",
    "#wortfrequenz berechnen\n",
    "word_freq = Counter(tokens)\n",
    "\n",
    "#zipf'sches gesetz visualisieren mit eingabe der anzahl der ränge\n",
    "num_ranks = int(input(\"Geben Sie die Anzahl der Ränge für das Zipf'sche Gesetz ein...\"))\n",
    "zipfs_law(word_freq, num_ranks)\n",
    "\n",
    "print()\n",
    "\n",
    "#hapax legomena berechnen und anzeigen\n",
    "hapax_legomena(word_freq)\n",
    "\n",
    "print()\n",
    "\n",
    "#type-token ratio berechnen und anzeigen\n",
    "type_token_ratio(word_freq)"
   ]
  },
  {
   "cell_type": "markdown",
   "metadata": {
    "id": "34ymJkIvSYtb"
   },
   "source": [
    "--------------------"
   ]
  },
  {
   "cell_type": "markdown",
   "metadata": {
    "id": "qyWf73K0SYqp"
   },
   "source": [
    "#### Umsetzung von Shannon-Index und Simpson-Index"
   ]
  },
  {
   "cell_type": "markdown",
   "metadata": {},
   "source": [
    "Sowohl der Shannon-Index als auch der Simpson-Index werden normalerweise zur Berechnung der Biodiversität in einem Ökosystem verwendet, indem sie die Häufigkeit und Gleichmäßigkeit der Arten berücksichtigen. Bei einer Textanalyse könnten sie jedoch auch verwendet werden, um die Vielfalt und Gleichmäßigkeit der verwendeten Wörter zu bewerten.\n",
    "\n",
    "Shannon-Index:\n",
    "Beim Einsatz des Shannon-Index in einer Textanalyse würde man die verschiedenen Wörter im Text betrachten und ihre relative Häufigkeit berechnen. Ein höherer Shannon-Index würde darauf hindeuten, dass der Text eine größere Vielfalt an Wörtern aufweist und dass diese Wörter gleichmäßiger über den Text verteilt sind. Ein niedrigerer Shannon-Index deutet darauf hin, dass der Text weniger vielfältig ist und dass einige Wörter dominanter sind als andere.\n",
    "\n",
    "Simpson-Index:\n",
    "Der Simpson-Index in einer Textanalyse würde auch die relative Häufigkeit der verschiedenen Wörter berücksichtigen. Ein höherer Simpson-Index würde darauf hinweisen, dass der Text weniger vielfältig ist und dass einige Wörter dominanter sind als andere, ähnlich wie beim Shannon-Index. Ein niedrigerer Simpson-Index würde jedoch auf eine größere Vielfalt und eine gleichmäßigere Verteilung der Wörter hinweisen."
   ]
  },
  {
   "cell_type": "code",
   "execution_count": 14,
   "metadata": {},
   "outputs": [],
   "source": [
    "def shannon_index(text):\n",
    "    # Zähle die Häufigkeit jedes Wortes im Text\n",
    "    word_count = Counter(text.split())\n",
    "    total_words = sum(word_count.values())\n",
    "    \n",
    "    # Berechne die relative Häufigkeit jedes Wortes\n",
    "    word_probabilities = [count / total_words for count in word_count.values()]\n",
    "    \n",
    "    # Berechne den Shannon-Index\n",
    "    shannon = -sum(prob * math.log(prob) for prob in word_probabilities)\n",
    "    return shannon\n",
    "\n",
    "def simpson_index(text):\n",
    "    # Zähle die Häufigkeit jedes Wortes im Text\n",
    "    word_count = Counter(text.split())\n",
    "    total_words = sum(word_count.values())\n",
    "    \n",
    "    # Berechne die relative Häufigkeit jedes Wortes\n",
    "    word_probabilities = [count / total_words for count in word_count.values()]\n",
    "    \n",
    "    # Berechne den Simpson-Index\n",
    "    simpson = sum(prob**2 for prob in word_probabilities)\n",
    "    return simpson"
   ]
  },
  {
   "cell_type": "code",
   "execution_count": 15,
   "metadata": {},
   "outputs": [
    {
     "name": "stdout",
     "output_type": "stream",
     "text": [
      "Maximal möglicher Shannon-Index in diesem Text: 9.409846753521522\n"
     ]
    }
   ],
   "source": [
    "def shannon_index(text):\n",
    "    # Zähle die Häufigkeit jedes Wortes im Text\n",
    "    word_count = Counter(text.split())\n",
    "    total_words = sum(word_count.values())\n",
    "    num_unique_words = len(word_count)\n",
    "\n",
    "    # Berechne die relative Häufigkeit jedes Wortes\n",
    "    equal_probability = 1 / num_unique_words\n",
    "    word_probabilities = [equal_probability] * num_unique_words\n",
    "\n",
    "    # Berechne den maximalen Shannon-Index\n",
    "    max_shannon = -sum(prob * math.log(prob) for prob in word_probabilities)\n",
    "    return max_shannon\n",
    "\n",
    "\n",
    "# Berechne und drucke den maximalen Shannon-Index für den Beispieltext\n",
    "print(\"Maximal möglicher Shannon-Index in diesem Text:\", shannon_index(text))\n"
   ]
  },
  {
   "cell_type": "markdown",
   "metadata": {},
   "source": [
    "    "
   ]
  },
  {
   "cell_type": "markdown",
   "metadata": {},
   "source": [
    "Simpson-Index: Der maximale Wert des Simpson-Index tritt auf, wenn eine einzige Art oder ein einzelnes Element in deinem System oder deiner Population vorhanden ist. In diesem Fall wäre die relative Häufigkeit dieser Art oder dieses Elements gleich 1, während die relative Häufigkeit aller anderen Arten oder Elemente gleich 0 wäre."
   ]
  },
  {
   "cell_type": "markdown",
   "metadata": {},
   "source": [
    "        "
   ]
  },
  {
   "cell_type": "code",
   "execution_count": 16,
   "metadata": {},
   "outputs": [
    {
     "name": "stdout",
     "output_type": "stream",
     "text": [
      "Shannon-Index: 9.409846753521522\n",
      "Simpson-Index: 0.001083973332489689\n"
     ]
    }
   ],
   "source": [
    "# Berechne und drucke den Shannon-Index und den Simpson-Index für den Beispieltext\n",
    "print(\"Shannon-Index:\", shannon_index(text))\n",
    "print(\"Simpson-Index:\", simpson_index(text))"
   ]
  },
  {
   "cell_type": "code",
   "execution_count": null,
   "metadata": {},
   "outputs": [],
   "source": []
  }
 ],
 "metadata": {
  "colab": {
   "authorship_tag": "ABX9TyPB6nV1TDbBVxDf/2mIvDdo",
   "provenance": []
  },
  "kernelspec": {
   "display_name": "Python 3 (ipykernel)",
   "language": "python",
   "name": "python3"
  },
  "language_info": {
   "codemirror_mode": {
    "name": "ipython",
    "version": 3
   },
   "file_extension": ".py",
   "mimetype": "text/x-python",
   "name": "python",
   "nbconvert_exporter": "python",
   "pygments_lexer": "ipython3",
   "version": "3.11.5"
  }
 },
 "nbformat": 4,
 "nbformat_minor": 4
}
