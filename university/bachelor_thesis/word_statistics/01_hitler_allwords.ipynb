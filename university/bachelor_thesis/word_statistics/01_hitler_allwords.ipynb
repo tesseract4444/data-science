{
 "cells": [
  {
   "cell_type": "markdown",
   "id": "e34d330e-15c7-4356-b204-dc70252ef656",
   "metadata": {},
   "source": [
    "## Importieren der Module"
   ]
  },
  {
   "cell_type": "code",
   "execution_count": 38,
   "id": "60e2e6a9-1093-4e74-8af1-5422eb27f319",
   "metadata": {},
   "outputs": [],
   "source": [
    "from sklearn.feature_extraction.text import TfidfVectorizer\n",
    "from sklearn.feature_extraction.text import CountVectorizer\n",
    "import pandas as pd\n",
    "from pathlib import Path  \n",
    "import glob"
   ]
  },
  {
   "cell_type": "markdown",
   "id": "860ef31c-f503-466e-b5fe-d6e77c8978b7",
   "metadata": {},
   "source": [
    "-----------"
   ]
  },
  {
   "cell_type": "markdown",
   "id": "2f346a19-cf0b-42b8-b236-c241b6144cbc",
   "metadata": {},
   "source": [
    "## Pfad einlesen"
   ]
  },
  {
   "cell_type": "code",
   "execution_count": 39,
   "id": "740b3960-ec31-4ec7-83b3-02c55a8e3d16",
   "metadata": {},
   "outputs": [
    {
     "name": "stdin",
     "output_type": "stream",
     "text": [
      "Was soll untersucht werden? allwords, nouns, adjectives oder verbs? nouns\n"
     ]
    },
    {
     "name": "stdout",
     "output_type": "stream",
     "text": [
      "29\n"
     ]
    },
    {
     "data": {
      "text/plain": [
       "['/home/simon/bachelorarbeit/vergleich_mk_trump/cleaned_docs/nouns/clean_hitler/chapter15_buch02.txt',\n",
       " '/home/simon/bachelorarbeit/vergleich_mk_trump/cleaned_docs/nouns/clean_hitler/chapter03_buch01.txt',\n",
       " '/home/simon/bachelorarbeit/vergleich_mk_trump/cleaned_docs/nouns/clean_hitler/chapter03_buch02.txt',\n",
       " '/home/simon/bachelorarbeit/vergleich_mk_trump/cleaned_docs/nouns/clean_hitler/chapter11_buch01.txt',\n",
       " '/home/simon/bachelorarbeit/vergleich_mk_trump/cleaned_docs/nouns/clean_hitler/chapter01_buch01.txt',\n",
       " '/home/simon/bachelorarbeit/vergleich_mk_trump/cleaned_docs/nouns/clean_hitler/chapter07_buch02.txt',\n",
       " '/home/simon/bachelorarbeit/vergleich_mk_trump/cleaned_docs/nouns/clean_hitler/chapter14_buch02.txt',\n",
       " '/home/simon/bachelorarbeit/vergleich_mk_trump/cleaned_docs/nouns/clean_hitler/chapter09_buch01.txt',\n",
       " '/home/simon/bachelorarbeit/vergleich_mk_trump/cleaned_docs/nouns/clean_hitler/chapter13_buch02.txt',\n",
       " '/home/simon/bachelorarbeit/vergleich_mk_trump/cleaned_docs/nouns/clean_hitler/chapter06_buch02.txt']"
      ]
     },
     "execution_count": 39,
     "metadata": {},
     "output_type": "execute_result"
    }
   ],
   "source": [
    "while True: \n",
    "    input_path = input(\"Was soll untersucht werden? allwords, nouns, adjectives oder verbs?\").lower()\n",
    "    \n",
    "    if input_path == \"allwords\":\n",
    "        directory_path = [\"/home/simon/bachelorarbeit/vergleich_mk_trump/cleaned_docs/all_words/clean_hitler\"]\n",
    "        break\n",
    "    elif input_path == \"nouns\":\n",
    "        directory_path = [\"/home/simon/bachelorarbeit/vergleich_mk_trump/cleaned_docs/nouns/clean_hitler\"]\n",
    "        break\n",
    "    elif input_path == \"verbs\":\n",
    "        directory_path = [\"/home/simon/bachelorarbeit/vergleich_mk_trump/cleaned_docs/verbs/clean_hitler\"]\n",
    "        break\n",
    "    elif input_path == \"adjectives\":\n",
    "        directory_path = [\"/home/simon/bachelorarbeit/vergleich_mk_trump/cleaned_docs/adjectives/clean_hitler\"]\n",
    "        break\n",
    "    else: \n",
    "        print(\"Falsche Eingabe!\")\n",
    "\n",
    "text_files = []\n",
    "for path in directory_path:\n",
    "    text_files.extend(glob.glob(f\"{path}/*.txt\"))\n",
    "\n",
    "print(len(text_files))\n",
    "text_files[:10]"
   ]
  },
  {
   "cell_type": "code",
   "execution_count": 40,
   "id": "40e47f22-0993-4d83-9266-24b3daedebda",
   "metadata": {},
   "outputs": [],
   "source": [
    "#directory_path ="
   ]
  },
  {
   "cell_type": "code",
   "execution_count": 41,
   "id": "e0ac7817-ddfc-44d9-9cef-54f8458965b8",
   "metadata": {},
   "outputs": [],
   "source": [
    "#text_files = glob.glob(f\"{directory_path}/*.txt\")\n",
    "#text_files[:10]"
   ]
  },
  {
   "cell_type": "code",
   "execution_count": 42,
   "id": "41f8bf47-1165-4e7e-84a3-51c7107f1f16",
   "metadata": {},
   "outputs": [
    {
     "name": "stdout",
     "output_type": "stream",
     "text": [
      "29\n"
     ]
    },
    {
     "data": {
      "text/plain": [
       "['chapter15_buch02',\n",
       " 'chapter03_buch01',\n",
       " 'chapter03_buch02',\n",
       " 'chapter11_buch01',\n",
       " 'chapter01_buch01',\n",
       " 'chapter07_buch02',\n",
       " 'chapter14_buch02',\n",
       " 'chapter09_buch01',\n",
       " 'chapter13_buch02',\n",
       " 'chapter06_buch02']"
      ]
     },
     "execution_count": 42,
     "metadata": {},
     "output_type": "execute_result"
    }
   ],
   "source": [
    "text_titles = [Path(text).stem for text in text_files]\n",
    "print(len(text_titles))\n",
    "text_titles[:10]"
   ]
  },
  {
   "cell_type": "markdown",
   "id": "991e4366-f463-4d0c-b823-966550994281",
   "metadata": {},
   "source": [
    "--------------"
   ]
  },
  {
   "cell_type": "markdown",
   "id": "ba3d0b85-6ddf-4602-9d57-e582e66277e8",
   "metadata": {},
   "source": [
    "## TF-IDF berechnen"
   ]
  },
  {
   "cell_type": "code",
   "execution_count": 43,
   "id": "24a40e30-3e40-45ce-b3b8-867563d1ea65",
   "metadata": {},
   "outputs": [],
   "source": [
    "tfidf_vectorizer = TfidfVectorizer(input='filename')"
   ]
  },
  {
   "cell_type": "code",
   "execution_count": 44,
   "id": "67dd970f-4df6-4a41-a13a-210880b50823",
   "metadata": {},
   "outputs": [],
   "source": [
    "tfidf_vector = tfidf_vectorizer.fit_transform(text_files)"
   ]
  },
  {
   "cell_type": "code",
   "execution_count": 45,
   "id": "73a0e275-51fa-4647-b475-a1ae247f109b",
   "metadata": {},
   "outputs": [],
   "source": [
    "tfidf_df = pd.DataFrame(tfidf_vector.toarray(), index=text_titles, columns=tfidf_vectorizer.get_feature_names_out())"
   ]
  },
  {
   "cell_type": "code",
   "execution_count": 46,
   "id": "79aa7374-a8f5-49f5-8246-a588cc8fe482",
   "metadata": {},
   "outputs": [],
   "source": [
    "if input_path in (\"allwords\", \"nouns\"):\n",
    "    tfidf_slice = tfidf_df[['immigration', 'illegal']]\n",
    "    print(tfidf_slice.sort_index().round(decimals=2))\n",
    "else:\n",
    "    print(\"Keine Substantive enthalten!\")"
   ]
  },
  {
   "cell_type": "code",
   "execution_count": 47,
   "id": "55fc0482-65f3-44e7-8a15-11654f43a6de",
   "metadata": {},
   "outputs": [
    {
     "data": {
      "text/html": [
       "<div>\n",
       "<style scoped>\n",
       "    .dataframe tbody tr th:only-of-type {\n",
       "        vertical-align: middle;\n",
       "    }\n",
       "\n",
       "    .dataframe tbody tr th {\n",
       "        vertical-align: top;\n",
       "    }\n",
       "\n",
       "    .dataframe thead th {\n",
       "        text-align: right;\n",
       "    }\n",
       "</style>\n",
       "<table border=\"1\" class=\"dataframe\">\n",
       "  <thead>\n",
       "    <tr style=\"text-align: right;\">\n",
       "      <th></th>\n",
       "      <th>level_0</th>\n",
       "      <th>level_1</th>\n",
       "      <th>0</th>\n",
       "    </tr>\n",
       "  </thead>\n",
       "  <tbody>\n",
       "    <tr>\n",
       "      <th>0</th>\n",
       "      <td>chapter15_buch02</td>\n",
       "      <td>abandonment</td>\n",
       "      <td>0.000000</td>\n",
       "    </tr>\n",
       "    <tr>\n",
       "      <th>1</th>\n",
       "      <td>chapter15_buch02</td>\n",
       "      <td>abbot</td>\n",
       "      <td>0.000000</td>\n",
       "    </tr>\n",
       "    <tr>\n",
       "      <th>2</th>\n",
       "      <td>chapter15_buch02</td>\n",
       "      <td>aberration</td>\n",
       "      <td>0.000000</td>\n",
       "    </tr>\n",
       "    <tr>\n",
       "      <th>3</th>\n",
       "      <td>chapter15_buch02</td>\n",
       "      <td>abettor</td>\n",
       "      <td>0.000000</td>\n",
       "    </tr>\n",
       "    <tr>\n",
       "      <th>4</th>\n",
       "      <td>chapter15_buch02</td>\n",
       "      <td>abeyance</td>\n",
       "      <td>0.000000</td>\n",
       "    </tr>\n",
       "    <tr>\n",
       "      <th>...</th>\n",
       "      <td>...</td>\n",
       "      <td>...</td>\n",
       "      <td>...</td>\n",
       "    </tr>\n",
       "    <tr>\n",
       "      <th>126029</th>\n",
       "      <td>chapter09_buch02</td>\n",
       "      <td>yield</td>\n",
       "      <td>0.000000</td>\n",
       "    </tr>\n",
       "    <tr>\n",
       "      <th>126030</th>\n",
       "      <td>chapter09_buch02</td>\n",
       "      <td>youngster</td>\n",
       "      <td>0.000000</td>\n",
       "    </tr>\n",
       "    <tr>\n",
       "      <th>126031</th>\n",
       "      <td>chapter09_buch02</td>\n",
       "      <td>youth</td>\n",
       "      <td>0.015259</td>\n",
       "    </tr>\n",
       "    <tr>\n",
       "      <th>126032</th>\n",
       "      <td>chapter09_buch02</td>\n",
       "      <td>zeppelin</td>\n",
       "      <td>0.000000</td>\n",
       "    </tr>\n",
       "    <tr>\n",
       "      <th>126033</th>\n",
       "      <td>chapter09_buch02</td>\n",
       "      <td>zionist</td>\n",
       "      <td>0.000000</td>\n",
       "    </tr>\n",
       "  </tbody>\n",
       "</table>\n",
       "<p>126034 rows × 3 columns</p>\n",
       "</div>"
      ],
      "text/plain": [
       "                 level_0      level_1         0\n",
       "0       chapter15_buch02  abandonment  0.000000\n",
       "1       chapter15_buch02        abbot  0.000000\n",
       "2       chapter15_buch02   aberration  0.000000\n",
       "3       chapter15_buch02      abettor  0.000000\n",
       "4       chapter15_buch02     abeyance  0.000000\n",
       "...                  ...          ...       ...\n",
       "126029  chapter09_buch02        yield  0.000000\n",
       "126030  chapter09_buch02    youngster  0.000000\n",
       "126031  chapter09_buch02        youth  0.015259\n",
       "126032  chapter09_buch02     zeppelin  0.000000\n",
       "126033  chapter09_buch02      zionist  0.000000\n",
       "\n",
       "[126034 rows x 3 columns]"
      ]
     },
     "execution_count": 47,
     "metadata": {},
     "output_type": "execute_result"
    }
   ],
   "source": [
    "tfidf_df.stack().reset_index()"
   ]
  },
  {
   "cell_type": "code",
   "execution_count": 48,
   "id": "621cfa64-9827-4d88-9543-2d07bd6fadeb",
   "metadata": {},
   "outputs": [],
   "source": [
    "tfidf_df = tfidf_df.stack().reset_index()"
   ]
  },
  {
   "cell_type": "code",
   "execution_count": 49,
   "id": "e7c463bb-c3e2-4abc-814a-2317908cb721",
   "metadata": {},
   "outputs": [],
   "source": [
    "tfidf_df = tfidf_df.rename(columns={0:'tfidf', 'level_0': 'document','level_1': 'term', 'level_2': 'term'})"
   ]
  },
  {
   "cell_type": "code",
   "execution_count": 50,
   "id": "70133377-866d-407c-8694-2da3b885fb73",
   "metadata": {},
   "outputs": [
    {
     "data": {
      "text/plain": [
       "Index(['document', 'term', 'tfidf'], dtype='object')"
      ]
     },
     "execution_count": 50,
     "metadata": {},
     "output_type": "execute_result"
    }
   ],
   "source": [
    "tfidf_df.columns"
   ]
  },
  {
   "cell_type": "code",
   "execution_count": 51,
   "id": "cf9662aa-5755-4c5e-8eb8-1045912b3d50",
   "metadata": {},
   "outputs": [
    {
     "data": {
      "text/html": [
       "<div>\n",
       "<style scoped>\n",
       "    .dataframe tbody tr th:only-of-type {\n",
       "        vertical-align: middle;\n",
       "    }\n",
       "\n",
       "    .dataframe tbody tr th {\n",
       "        vertical-align: top;\n",
       "    }\n",
       "\n",
       "    .dataframe thead th {\n",
       "        text-align: right;\n",
       "    }\n",
       "</style>\n",
       "<table border=\"1\" class=\"dataframe\">\n",
       "  <thead>\n",
       "    <tr style=\"text-align: right;\">\n",
       "      <th></th>\n",
       "      <th>document</th>\n",
       "      <th>term</th>\n",
       "      <th>tfidf</th>\n",
       "    </tr>\n",
       "  </thead>\n",
       "  <tbody>\n",
       "    <tr>\n",
       "      <th>85617</th>\n",
       "      <td>chapter06_buch01</td>\n",
       "      <td>propaganda</td>\n",
       "      <td>0.784629</td>\n",
       "    </tr>\n",
       "    <tr>\n",
       "      <th>24163</th>\n",
       "      <td>chapter07_buch02</td>\n",
       "      <td>meeting</td>\n",
       "      <td>0.747428</td>\n",
       "    </tr>\n",
       "    <tr>\n",
       "      <th>60491</th>\n",
       "      <td>chapter12_buch02</td>\n",
       "      <td>tradeunion</td>\n",
       "      <td>0.634141</td>\n",
       "    </tr>\n",
       "    <tr>\n",
       "      <th>47172</th>\n",
       "      <td>chapter10_buch02</td>\n",
       "      <td>state</td>\n",
       "      <td>0.553100</td>\n",
       "    </tr>\n",
       "    <tr>\n",
       "      <th>74420</th>\n",
       "      <td>chapter08_buch01</td>\n",
       "      <td>capital</td>\n",
       "      <td>0.529196</td>\n",
       "    </tr>\n",
       "    <tr>\n",
       "      <th>...</th>\n",
       "      <td>...</td>\n",
       "      <td>...</td>\n",
       "      <td>...</td>\n",
       "    </tr>\n",
       "    <tr>\n",
       "      <th>99963</th>\n",
       "      <td>epilogue_buch02</td>\n",
       "      <td>abhor</td>\n",
       "      <td>0.000000</td>\n",
       "    </tr>\n",
       "    <tr>\n",
       "      <th>99964</th>\n",
       "      <td>epilogue_buch02</td>\n",
       "      <td>ability</td>\n",
       "      <td>0.000000</td>\n",
       "    </tr>\n",
       "    <tr>\n",
       "      <th>99965</th>\n",
       "      <td>epilogue_buch02</td>\n",
       "      <td>abjuration</td>\n",
       "      <td>0.000000</td>\n",
       "    </tr>\n",
       "    <tr>\n",
       "      <th>99966</th>\n",
       "      <td>epilogue_buch02</td>\n",
       "      <td>abler</td>\n",
       "      <td>0.000000</td>\n",
       "    </tr>\n",
       "    <tr>\n",
       "      <th>99967</th>\n",
       "      <td>epilogue_buch02</td>\n",
       "      <td>abode</td>\n",
       "      <td>0.000000</td>\n",
       "    </tr>\n",
       "  </tbody>\n",
       "</table>\n",
       "<p>10346 rows × 3 columns</p>\n",
       "</div>"
      ],
      "text/plain": [
       "               document        term     tfidf\n",
       "85617  chapter06_buch01  propaganda  0.784629\n",
       "24163  chapter07_buch02     meeting  0.747428\n",
       "60491  chapter12_buch02  tradeunion  0.634141\n",
       "47172  chapter10_buch02       state  0.553100\n",
       "74420  chapter08_buch01     capital  0.529196\n",
       "...                 ...         ...       ...\n",
       "99963   epilogue_buch02       abhor  0.000000\n",
       "99964   epilogue_buch02     ability  0.000000\n",
       "99965   epilogue_buch02  abjuration  0.000000\n",
       "99966   epilogue_buch02       abler  0.000000\n",
       "99967   epilogue_buch02       abode  0.000000\n",
       "\n",
       "[10346 rows x 3 columns]"
      ]
     },
     "execution_count": 51,
     "metadata": {},
     "output_type": "execute_result"
    }
   ],
   "source": [
    "tfidf_df.sort_values(by=['tfidf','document'], ascending=[False,False]).groupby(['tfidf']).head(10)"
   ]
  },
  {
   "cell_type": "code",
   "execution_count": 52,
   "id": "e925177b-9a66-4890-87af-5f8e86467c7a",
   "metadata": {},
   "outputs": [],
   "source": [
    "top_tfidf = tfidf_df.sort_values(by=['document','tfidf'], ascending=[True,False]).groupby(['document']).head(10)"
   ]
  },
  {
   "cell_type": "code",
   "execution_count": 53,
   "id": "883cb420-d944-47b4-8826-caa6e700af0b",
   "metadata": {},
   "outputs": [
    {
     "data": {
      "text/html": [
       "<div>\n",
       "<style scoped>\n",
       "    .dataframe tbody tr th:only-of-type {\n",
       "        vertical-align: middle;\n",
       "    }\n",
       "\n",
       "    .dataframe tbody tr th {\n",
       "        vertical-align: top;\n",
       "    }\n",
       "\n",
       "    .dataframe thead th {\n",
       "        text-align: right;\n",
       "    }\n",
       "</style>\n",
       "<table border=\"1\" class=\"dataframe\">\n",
       "  <thead>\n",
       "    <tr style=\"text-align: right;\">\n",
       "      <th></th>\n",
       "      <th>document</th>\n",
       "      <th>term</th>\n",
       "      <th>tfidf</th>\n",
       "    </tr>\n",
       "  </thead>\n",
       "  <tbody>\n",
       "    <tr>\n",
       "      <th>85617</th>\n",
       "      <td>chapter06_buch01</td>\n",
       "      <td>propaganda</td>\n",
       "      <td>0.784629</td>\n",
       "    </tr>\n",
       "    <tr>\n",
       "      <th>120385</th>\n",
       "      <td>chapter07_buch01</td>\n",
       "      <td>propaganda</td>\n",
       "      <td>0.180168</td>\n",
       "    </tr>\n",
       "    <tr>\n",
       "      <th>46503</th>\n",
       "      <td>chapter10_buch02</td>\n",
       "      <td>propaganda</td>\n",
       "      <td>0.108729</td>\n",
       "    </tr>\n",
       "    <tr>\n",
       "      <th>81271</th>\n",
       "      <td>chapter11_buch02</td>\n",
       "      <td>propaganda</td>\n",
       "      <td>0.323078</td>\n",
       "    </tr>\n",
       "  </tbody>\n",
       "</table>\n",
       "</div>"
      ],
      "text/plain": [
       "                document        term     tfidf\n",
       "85617   chapter06_buch01  propaganda  0.784629\n",
       "120385  chapter07_buch01  propaganda  0.180168\n",
       "46503   chapter10_buch02  propaganda  0.108729\n",
       "81271   chapter11_buch02  propaganda  0.323078"
      ]
     },
     "execution_count": 53,
     "metadata": {},
     "output_type": "execute_result"
    }
   ],
   "source": [
    "top_tfidf[top_tfidf['term'].str.contains('propaganda')]"
   ]
  },
  {
   "cell_type": "markdown",
   "id": "47358314-e289-42d2-87ed-91d8ae86b2f5",
   "metadata": {},
   "source": [
    "---------------"
   ]
  },
  {
   "cell_type": "markdown",
   "id": "1647d1b0-c3e3-4852-89af-6ea78bd8a418",
   "metadata": {},
   "source": [
    "## TF-IDF visualisieren"
   ]
  },
  {
   "cell_type": "code",
   "execution_count": 54,
   "id": "bd864e34-b7ea-4ace-90db-e61300c174fc",
   "metadata": {},
   "outputs": [
    {
     "data": {
      "text/html": [
       "\n",
       "<style>\n",
       "  #altair-viz-81b6c59c20074c3cb63677c5a9cfda0c.vega-embed {\n",
       "    width: 100%;\n",
       "    display: flex;\n",
       "  }\n",
       "\n",
       "  #altair-viz-81b6c59c20074c3cb63677c5a9cfda0c.vega-embed details,\n",
       "  #altair-viz-81b6c59c20074c3cb63677c5a9cfda0c.vega-embed details summary {\n",
       "    position: relative;\n",
       "  }\n",
       "</style>\n",
       "<div id=\"altair-viz-81b6c59c20074c3cb63677c5a9cfda0c\"></div>\n",
       "<script type=\"text/javascript\">\n",
       "  var VEGA_DEBUG = (typeof VEGA_DEBUG == \"undefined\") ? {} : VEGA_DEBUG;\n",
       "  (function(spec, embedOpt){\n",
       "    let outputDiv = document.currentScript.previousElementSibling;\n",
       "    if (outputDiv.id !== \"altair-viz-81b6c59c20074c3cb63677c5a9cfda0c\") {\n",
       "      outputDiv = document.getElementById(\"altair-viz-81b6c59c20074c3cb63677c5a9cfda0c\");\n",
       "    }\n",
       "    const paths = {\n",
       "      \"vega\": \"https://cdn.jsdelivr.net/npm/vega@5?noext\",\n",
       "      \"vega-lib\": \"https://cdn.jsdelivr.net/npm/vega-lib?noext\",\n",
       "      \"vega-lite\": \"https://cdn.jsdelivr.net/npm/vega-lite@5.17.0?noext\",\n",
       "      \"vega-embed\": \"https://cdn.jsdelivr.net/npm/vega-embed@6?noext\",\n",
       "    };\n",
       "\n",
       "    function maybeLoadScript(lib, version) {\n",
       "      var key = `${lib.replace(\"-\", \"\")}_version`;\n",
       "      return (VEGA_DEBUG[key] == version) ?\n",
       "        Promise.resolve(paths[lib]) :\n",
       "        new Promise(function(resolve, reject) {\n",
       "          var s = document.createElement('script');\n",
       "          document.getElementsByTagName(\"head\")[0].appendChild(s);\n",
       "          s.async = true;\n",
       "          s.onload = () => {\n",
       "            VEGA_DEBUG[key] = version;\n",
       "            return resolve(paths[lib]);\n",
       "          };\n",
       "          s.onerror = () => reject(`Error loading script: ${paths[lib]}`);\n",
       "          s.src = paths[lib];\n",
       "        });\n",
       "    }\n",
       "\n",
       "    function showError(err) {\n",
       "      outputDiv.innerHTML = `<div class=\"error\" style=\"color:red;\">${err}</div>`;\n",
       "      throw err;\n",
       "    }\n",
       "\n",
       "    function displayChart(vegaEmbed) {\n",
       "      vegaEmbed(outputDiv, spec, embedOpt)\n",
       "        .catch(err => showError(`Javascript Error: ${err.message}<br>This usually means there's a typo in your chart specification. See the javascript console for the full traceback.`));\n",
       "    }\n",
       "\n",
       "    if(typeof define === \"function\" && define.amd) {\n",
       "      requirejs.config({paths});\n",
       "      require([\"vega-embed\"], displayChart, err => showError(`Error loading script: ${err.message}`));\n",
       "    } else {\n",
       "      maybeLoadScript(\"vega\", \"5\")\n",
       "        .then(() => maybeLoadScript(\"vega-lite\", \"5.17.0\"))\n",
       "        .then(() => maybeLoadScript(\"vega-embed\", \"6\"))\n",
       "        .catch(showError)\n",
       "        .then(() => displayChart(vegaEmbed));\n",
       "    }\n",
       "  })({\"config\": {\"view\": {\"continuousWidth\": 300, \"continuousHeight\": 300}}, \"layer\": [{\"mark\": {\"type\": \"rect\"}, \"encoding\": {\"color\": {\"field\": \"tfidf\", \"type\": \"quantitative\"}, \"x\": {\"field\": \"rank\", \"type\": \"ordinal\"}, \"y\": {\"field\": \"document\", \"type\": \"nominal\"}}, \"transform\": [{\"window\": [{\"op\": \"rank\", \"field\": \"\", \"as\": \"rank\"}], \"groupby\": [\"document\"], \"sort\": [{\"field\": \"tfidf\", \"order\": \"descending\"}]}]}, {\"mark\": {\"type\": \"circle\", \"size\": 100}, \"encoding\": {\"color\": {\"condition\": {\"test\": {\"field\": \"term\", \"oneOf\": [\"war\", \"peace\"]}, \"value\": \"red\"}, \"value\": \"#FFFFFF00\"}, \"x\": {\"field\": \"rank\", \"type\": \"ordinal\"}, \"y\": {\"field\": \"document\", \"type\": \"nominal\"}}, \"transform\": [{\"window\": [{\"op\": \"rank\", \"field\": \"\", \"as\": \"rank\"}], \"groupby\": [\"document\"], \"sort\": [{\"field\": \"tfidf\", \"order\": \"descending\"}]}]}, {\"mark\": {\"type\": \"text\", \"baseline\": \"middle\"}, \"encoding\": {\"color\": {\"condition\": {\"test\": \"(datum.tfidf >= 0.23)\", \"value\": \"white\"}, \"value\": \"black\"}, \"text\": {\"field\": \"term\", \"type\": \"nominal\"}, \"x\": {\"field\": \"rank\", \"type\": \"ordinal\"}, \"y\": {\"field\": \"document\", \"type\": \"nominal\"}}, \"transform\": [{\"window\": [{\"op\": \"rank\", \"field\": \"\", \"as\": \"rank\"}], \"groupby\": [\"document\"], \"sort\": [{\"field\": \"tfidf\", \"order\": \"descending\"}]}]}], \"data\": {\"name\": \"data-6183c9d569eb8bc3e6c881d2d42f48c0\"}, \"width\": 600, \"$schema\": \"https://vega.github.io/schema/vega-lite/v5.17.0.json\", \"datasets\": {\"data-6183c9d569eb8bc3e6c881d2d42f48c0\": [{\"document\": \"00_preface_buch01\", \"term\": \"merchant\", \"tfidf\": 0.46277394240668723}, {\"document\": \"00_preface_buch01\", \"term\": \"fortress\", \"tfidf\": 0.38024209389363994}, {\"document\": \"00_preface_buch01\", \"term\": \"volume\", \"tfidf\": 0.2941871949282908}, {\"document\": \"00_preface_buch01\", \"term\": \"description\", \"tfidf\": 0.21425713938520555}, {\"document\": \"00_preface_buch01\", \"term\": \"official\", \"tfidf\": 0.21139657975063797}, {\"document\": \"00_preface_buch01\", \"term\": \"movement\", \"tfidf\": 0.16407974849392695}, {\"document\": \"00_preface_buch01\", \"term\": \"cavalry\", \"tfidf\": 0.14237049787358091}, {\"document\": \"00_preface_buch01\", \"term\": \"detention\", \"tfidf\": 0.1422838054050543}, {\"document\": \"00_preface_buch01\", \"term\": \"engineering\", \"tfidf\": 0.1423052973072731}, {\"document\": \"00_preface_buch01\", \"term\": \"manservant\", \"tfidf\": 0.1423455287269641}, {\"document\": \"chapter01_buch01\", \"term\": \"father\", \"tfidf\": 0.43007688735907845}, {\"document\": \"chapter01_buch01\", \"term\": \"career\", \"tfidf\": 0.3422866232662714}, {\"document\": \"chapter01_buch01\", \"term\": \"history\", \"tfidf\": 0.27324227882635177}, {\"document\": \"chapter01_buch01\", \"term\": \"mother\", \"tfidf\": 0.21232675705761284}, {\"document\": \"chapter01_buch01\", \"term\": \"realschule\", \"tfidf\": 0.2024794111644301}, {\"document\": \"chapter01_buch01\", \"term\": \"school\", \"tfidf\": 0.176940722198867}, {\"document\": \"chapter01_buch01\", \"term\": \"teacher\", \"tfidf\": 0.14234413715591146}, {\"document\": \"chapter01_buch01\", \"term\": \"state\", \"tfidf\": 0.14047647062135488}, {\"document\": \"chapter01_buch01\", \"term\": \"resolution\", \"tfidf\": 0.137164809164672}, {\"document\": \"chapter01_buch01\", \"term\": \"people\", \"tfidf\": 0.13588986489516058}, {\"document\": \"chapter01_buch02\", \"term\": \"programme\", \"tfidf\": 0.26418358810813597}, {\"document\": \"chapter01_buch02\", \"term\": \"faith\", \"tfidf\": 0.25230898115204303}, {\"document\": \"chapter01_buch02\", \"term\": \"conception\", \"tfidf\": 0.212016553984292}, {\"document\": \"chapter01_buch02\", \"term\": \"democracy\", \"tfidf\": 0.20315619833038337}, {\"document\": \"chapter01_buch02\", \"term\": \"belief\", \"tfidf\": 0.18661262140392446}, {\"document\": \"chapter01_buch02\", \"term\": \"people\", \"tfidf\": 0.16021898343078714}, {\"document\": \"chapter01_buch02\", \"term\": \"party\", \"tfidf\": 0.1589914547579292}, {\"document\": \"chapter01_buch02\", \"term\": \"parliamentarian\", \"tfidf\": 0.14845675032690928}, {\"document\": \"chapter01_buch02\", \"term\": \"marxism\", \"tfidf\": 0.1441672324722502}, {\"document\": \"chapter01_buch02\", \"term\": \"existence\", \"tfidf\": 0.13458283822672346}, {\"document\": \"chapter02_buch01\", \"term\": \"people\", \"tfidf\": 0.28688805515138194}, {\"document\": \"chapter02_buch01\", \"term\": \"tradeunion\", \"tfidf\": 0.18436432697846897}, {\"document\": \"chapter02_buch01\", \"term\": \"democracy\", \"tfidf\": 0.16133259082643234}, {\"document\": \"chapter02_buch01\", \"term\": \"question\", \"tfidf\": 0.15331837760691763}, {\"document\": \"chapter02_buch01\", \"term\": \"school\", \"tfidf\": 0.14439636591968324}, {\"document\": \"chapter02_buch01\", \"term\": \"class\", \"tfidf\": 0.13933439398132516}, {\"document\": \"chapter02_buch01\", \"term\": \"study\", \"tfidf\": 0.13044864904690565}, {\"document\": \"chapter02_buch01\", \"term\": \"reason\", \"tfidf\": 0.12364353016774235}, {\"document\": \"chapter02_buch01\", \"term\": \"press\", \"tfidf\": 0.11297111293510177}, {\"document\": \"chapter02_buch01\", \"term\": \"building\", \"tfidf\": 0.1121379226573657}, {\"document\": \"chapter02_buch02\", \"term\": \"state\", \"tfidf\": 0.4186593026372646}, {\"document\": \"chapter02_buch02\", \"term\": \"people\", \"tfidf\": 0.34401203733043195}, {\"document\": \"chapter02_buch02\", \"term\": \"training\", \"tfidf\": 0.22061241153862116}, {\"document\": \"chapter02_buch02\", \"term\": \"education\", \"tfidf\": 0.18700636732413706}, {\"document\": \"chapter02_buch02\", \"term\": \"nation\", \"tfidf\": 0.1857490781879554}, {\"document\": \"chapter02_buch02\", \"term\": \"language\", \"tfidf\": 0.13574293626684583}, {\"document\": \"chapter02_buch02\", \"term\": \"knowledge\", \"tfidf\": 0.1283066435054571}, {\"document\": \"chapter02_buch02\", \"term\": \"school\", \"tfidf\": 0.1244235818179371}, {\"document\": \"chapter02_buch02\", \"term\": \"faculty\", \"tfidf\": 0.11855930096822223}, {\"document\": \"chapter02_buch02\", \"term\": \"history\", \"tfidf\": 0.1158440748869201}, {\"document\": \"chapter03_buch01\", \"term\": \"state\", \"tfidf\": 0.2641069411758973}, {\"document\": \"chapter03_buch01\", \"term\": \"people\", \"tfidf\": 0.255442312933464}, {\"document\": \"chapter03_buch01\", \"term\": \"movement\", \"tfidf\": 0.21067176158986786}, {\"document\": \"chapter03_buch01\", \"term\": \"leader\", \"tfidf\": 0.17597661552511046}, {\"document\": \"chapter03_buch01\", \"term\": \"parliament\", \"tfidf\": 0.16924722909083703}, {\"document\": \"chapter03_buch01\", \"term\": \"institution\", \"tfidf\": 0.16419239400669572}, {\"document\": \"chapter03_buch01\", \"term\": \"problem\", \"tfidf\": 0.15167404582605612}, {\"document\": \"chapter03_buch01\", \"term\": \"schonerer\", \"tfidf\": 0.1507630594543971}, {\"document\": \"chapter03_buch01\", \"term\": \"church\", \"tfidf\": 0.14592427721769627}, {\"document\": \"chapter03_buch01\", \"term\": \"nationality\", \"tfidf\": 0.13793008759576142}, {\"document\": \"chapter03_buch02\", \"term\": \"state\", \"tfidf\": 0.4666329697936521}, {\"document\": \"chapter03_buch02\", \"term\": \"citizen\", \"tfidf\": 0.4601474155909486}, {\"document\": \"chapter03_buch02\", \"term\": \"citizenship\", \"tfidf\": 0.3796866645201564}, {\"document\": \"chapter03_buch02\", \"term\": \"nationality\", \"tfidf\": 0.20910335942361022}, {\"document\": \"chapter03_buch02\", \"term\": \"requirement\", \"tfidf\": 0.20230437407602922}, {\"document\": \"chapter03_buch02\", \"term\": \"diploma\", \"tfidf\": 0.180253880367881}, {\"document\": \"chapter03_buch02\", \"term\": \"subject\", \"tfidf\": 0.14818007614007972}, {\"document\": \"chapter03_buch02\", \"term\": \"privilege\", \"tfidf\": 0.1424143618863601}, {\"document\": \"chapter03_buch02\", \"term\": \"health\", \"tfidf\": 0.12670896661009926}, {\"document\": \"chapter03_buch02\", \"term\": \"confine\", \"tfidf\": 0.10160780792003139}, {\"document\": \"chapter04_buch01\", \"term\": \"alliance\", \"tfidf\": 0.3991759021908907}, {\"document\": \"chapter04_buch01\", \"term\": \"state\", \"tfidf\": 0.3158817707086032}, {\"document\": \"chapter04_buch01\", \"term\": \"policy\", \"tfidf\": 0.27923526299957646}, {\"document\": \"chapter04_buch01\", \"term\": \"nation\", \"tfidf\": 0.23304064392343823}, {\"document\": \"chapter04_buch01\", \"term\": \"territory\", \"tfidf\": 0.23055295040957982}, {\"document\": \"chapter04_buch01\", \"term\": \"people\", \"tfidf\": 0.2003656073043054}, {\"document\": \"chapter04_buch01\", \"term\": \"world\", \"tfidf\": 0.13929255793347017}, {\"document\": \"chapter04_buch01\", \"term\": \"colonisation\", \"tfidf\": 0.13525834046322918}, {\"document\": \"chapter04_buch01\", \"term\": \"power\", \"tfidf\": 0.12267330492004073}, {\"document\": \"chapter04_buch01\", \"term\": \"population\", \"tfidf\": 0.11833499701854183}, {\"document\": \"chapter04_buch02\", \"term\": \"invention\", \"tfidf\": 0.42089755427066544}, {\"document\": \"chapter04_buch02\", \"term\": \"personality\", \"tfidf\": 0.2171059772791527}, {\"document\": \"chapter04_buch02\", \"term\": \"principle\", \"tfidf\": 0.20075358840500263}, {\"document\": \"chapter04_buch02\", \"term\": \"state\", \"tfidf\": 0.1817347556629408}, {\"document\": \"chapter04_buch02\", \"term\": \"individual\", \"tfidf\": 0.1632756114544117}, {\"document\": \"chapter04_buch02\", \"term\": \"nation\", \"tfidf\": 0.15749167632314445}, {\"document\": \"chapter04_buch02\", \"term\": \"struggle\", \"tfidf\": 0.1503103239149692}, {\"document\": \"chapter04_buch02\", \"term\": \"animal\", \"tfidf\": 0.1478521012144845}, {\"document\": \"chapter04_buch02\", \"term\": \"responsibility\", \"tfidf\": 0.1343282767747205}, {\"document\": \"chapter04_buch02\", \"term\": \"majority\", \"tfidf\": 0.13204384828360874}, {\"document\": \"chapter05_buch01\", \"term\": \"force\", \"tfidf\": 0.2071636706636866}, {\"document\": \"chapter05_buch01\", \"term\": \"doctrine\", \"tfidf\": 0.19067205928926104}, {\"document\": \"chapter05_buch01\", \"term\": \"nation\", \"tfidf\": 0.18298396578165657}, {\"document\": \"chapter05_buch01\", \"term\": \"people\", \"tfidf\": 0.16660034144953584}, {\"document\": \"chapter05_buch01\", \"term\": \"state\", \"tfidf\": 0.15073629635966246}, {\"document\": \"chapter05_buch01\", \"term\": \"marxism\", \"tfidf\": 0.147584490522064}, {\"document\": \"chapter05_buch01\", \"term\": \"enthusiasm\", \"tfidf\": 0.14214624753874305}, {\"document\": \"chapter05_buch01\", \"term\": \"death\", \"tfidf\": 0.1363517933585944}, {\"document\": \"chapter05_buch01\", \"term\": \"world\", \"tfidf\": 0.13354561462806808}, {\"document\": \"chapter05_buch01\", \"term\": \"struggle\", \"tfidf\": 0.12247341111390543}, {\"document\": \"chapter05_buch02\", \"term\": \"movement\", \"tfidf\": 0.409907770746313}, {\"document\": \"chapter05_buch02\", \"term\": \"formulation\", \"tfidf\": 0.27704343298757533}, {\"document\": \"chapter05_buch02\", \"term\": \"programme\", \"tfidf\": 0.2641330886026736}, {\"document\": \"chapter05_buch02\", \"term\": \"party\", \"tfidf\": 0.23843758395346043}, {\"document\": \"chapter05_buch02\", \"term\": \"discipline\", \"tfidf\": 0.21894857321609218}, {\"document\": \"chapter05_buch02\", \"term\": \"order\", \"tfidf\": 0.14092280372485275}, {\"document\": \"chapter05_buch02\", \"term\": \"people\", \"tfidf\": 0.13629831142153592}, {\"document\": \"chapter05_buch02\", \"term\": \"doctrine\", \"tfidf\": 0.12229279233459461}, {\"document\": \"chapter05_buch02\", \"term\": \"intolerance\", \"tfidf\": 0.11874610911339108}, {\"document\": \"chapter05_buch02\", \"term\": \"faith\", \"tfidf\": 0.11710418266367259}, {\"document\": \"chapter06_buch01\", \"term\": \"propaganda\", \"tfidf\": 0.7847022479857547}, {\"document\": \"chapter06_buch01\", \"term\": \"enemy\", \"tfidf\": 0.19991492495184596}, {\"document\": \"chapter06_buch01\", \"term\": \"poster\", \"tfidf\": 0.16770058603301116}, {\"document\": \"chapter06_buch01\", \"term\": \"exhibition\", \"tfidf\": 0.14525770735204635}, {\"document\": \"chapter06_buch01\", \"term\": \"advertisement\", \"tfidf\": 0.132602580397869}, {\"document\": \"chapter06_buch01\", \"term\": \"people\", \"tfidf\": 0.11624394472772756}, {\"document\": \"chapter06_buch01\", \"term\": \"information\", \"tfidf\": 0.11191054125263997}, {\"document\": \"chapter06_buch01\", \"term\": \"weapon\", \"tfidf\": 0.10529848299389649}, {\"document\": \"chapter06_buch01\", \"term\": \"message\", \"tfidf\": 0.09686637384752142}, {\"document\": \"chapter06_buch01\", \"term\": \"nation\", \"tfidf\": 0.09451484171116012}, {\"document\": \"chapter06_buch02\", \"term\": \"orator\", \"tfidf\": 0.3427175683161836}, {\"document\": \"chapter06_buch02\", \"term\": \"treaty\", \"tfidf\": 0.2925336639837573}, {\"document\": \"chapter06_buch02\", \"term\": \"people\", \"tfidf\": 0.2528763319414948}, {\"document\": \"chapter06_buch02\", \"term\": \"writer\", \"tfidf\": 0.2514254380533191}, {\"document\": \"chapter06_buch02\", \"term\": \"speech\", \"tfidf\": 0.2272957407947869}, {\"document\": \"chapter06_buch02\", \"term\": \"hearer\", \"tfidf\": 0.1923949909164094}, {\"document\": \"chapter06_buch02\", \"term\": \"opinion\", \"tfidf\": 0.18406667117124953}, {\"document\": \"chapter06_buch02\", \"term\": \"movement\", \"tfidf\": 0.17437116111028317}, {\"document\": \"chapter06_buch02\", \"term\": \"meeting\", \"tfidf\": 0.1633020569183291}, {\"document\": \"chapter06_buch02\", \"term\": \"performance\", \"tfidf\": 0.12245703218841472}, {\"document\": \"chapter07_buch01\", \"term\": \"front\", \"tfidf\": 0.42852851434031924}, {\"document\": \"chapter07_buch01\", \"term\": \"soldier\", \"tfidf\": 0.278579998312796}, {\"document\": \"chapter07_buch01\", \"term\": \"hospital\", \"tfidf\": 0.2680237869844991}, {\"document\": \"chapter07_buch01\", \"term\": \"victory\", \"tfidf\": 0.23013255714665753}, {\"document\": \"chapter07_buch01\", \"term\": \"enemy\", \"tfidf\": 0.19330424994745643}, {\"document\": \"chapter07_buch01\", \"term\": \"propaganda\", \"tfidf\": 0.18017000432504804}, {\"document\": \"chapter07_buch01\", \"term\": \"munition\", \"tfidf\": 0.13678150039436657}, {\"document\": \"chapter07_buch01\", \"term\": \"entente\", \"tfidf\": 0.13479734143706615}, {\"document\": \"chapter07_buch01\", \"term\": \"regiment\", \"tfidf\": 0.12382142232045494}, {\"document\": \"chapter07_buch01\", \"term\": \"troop\", \"tfidf\": 0.12194198175928139}, {\"document\": \"chapter07_buch02\", \"term\": \"meeting\", \"tfidf\": 0.7474992220545005}, {\"document\": \"chapter07_buch02\", \"term\": \"police\", \"tfidf\": 0.15216483578561588}, {\"document\": \"chapter07_buch02\", \"term\": \"colour\", \"tfidf\": 0.13927733332712117}, {\"document\": \"chapter07_buch02\", \"term\": \"opponent\", \"tfidf\": 0.1325466158369543}, {\"document\": \"chapter07_buch02\", \"term\": \"circus\", \"tfidf\": 0.13158414549515451}, {\"document\": \"chapter07_buch02\", \"term\": \"people\", \"tfidf\": 0.11901124069905587}, {\"document\": \"chapter07_buch02\", \"term\": \"hallguard\", \"tfidf\": 0.11493624647724338}, {\"document\": \"chapter07_buch02\", \"term\": \"party\", \"tfidf\": 0.11255974455706444}, {\"document\": \"chapter07_buch02\", \"term\": \"squad\", \"tfidf\": 0.0984364952091612}, {\"document\": \"chapter07_buch02\", \"term\": \"swastika\", \"tfidf\": 0.09847524013957935}, {\"document\": \"chapter08_buch01\", \"term\": \"capital\", \"tfidf\": 0.5292335583939343}, {\"document\": \"chapter08_buch01\", \"term\": \"lecture\", \"tfidf\": 0.21172710032104844}, {\"document\": \"chapter08_buch01\", \"term\": \"feder\", \"tfidf\": 0.20869673666724425}, {\"document\": \"chapter08_buch01\", \"term\": \"politician\", \"tfidf\": 0.2058883434353515}, {\"document\": \"chapter08_buch01\", \"term\": \"stockexchange\", \"tfidf\": 0.1874528057550181}, {\"document\": \"chapter08_buch01\", \"term\": \"philosopher\", \"tfidf\": 0.1764237533479277}, {\"document\": \"chapter08_buch01\", \"term\": \"people\", \"tfidf\": 0.15688907883353967}, {\"document\": \"chapter08_buch01\", \"term\": \"truth\", \"tfidf\": 0.14909790433431358}, {\"document\": \"chapter08_buch01\", \"term\": \"discipline\", \"tfidf\": 0.13193321962174248}, {\"document\": \"chapter08_buch01\", \"term\": \"activity\", \"tfidf\": 0.12372258610096538}, {\"document\": \"chapter08_buch02\", \"term\": \"association\", \"tfidf\": 0.36097863357666343}, {\"document\": \"chapter08_buch02\", \"term\": \"movement\", \"tfidf\": 0.3020218062894896}, {\"document\": \"chapter08_buch02\", \"term\": \"coalition\", \"tfidf\": 0.2811754138110224}, {\"document\": \"chapter08_buch02\", \"term\": \"party\", \"tfidf\": 0.20823704898780782}, {\"document\": \"chapter08_buch02\", \"term\": \"people\", \"tfidf\": 0.1808746414785903}, {\"document\": \"chapter08_buch02\", \"term\": \"founder\", \"tfidf\": 0.161770246612497}, {\"document\": \"chapter08_buch02\", \"term\": \"group\", \"tfidf\": 0.1587087278511316}, {\"document\": \"chapter08_buch02\", \"term\": \"solution\", \"tfidf\": 0.1547111353236264}, {\"document\": \"chapter08_buch02\", \"term\": \"dispersion\", \"tfidf\": 0.1497461127473867}, {\"document\": \"chapter08_buch02\", \"term\": \"society\", \"tfidf\": 0.14120171056811437}, {\"document\": \"chapter09_buch01\", \"term\": \"feder\", \"tfidf\": 0.30293869447560845}, {\"document\": \"chapter09_buch01\", \"term\": \"pamphlet\", \"tfidf\": 0.25608717225406435}, {\"document\": \"chapter09_buch01\", \"term\": \"party\", \"tfidf\": 0.25343568473021544}, {\"document\": \"chapter09_buch01\", \"term\": \"meeting\", \"tfidf\": 0.22453081174667947}, {\"document\": \"chapter09_buch01\", \"term\": \"chairman\", \"tfidf\": 0.21344302852622715}, {\"document\": \"chapter09_buch01\", \"term\": \"letter\", \"tfidf\": 0.18771552213564682}, {\"document\": \"chapter09_buch01\", \"term\": \"soldier\", \"tfidf\": 0.16166510980481139}, {\"document\": \"chapter09_buch01\", \"term\": \"people\", \"tfidf\": 0.15803626901835255}, {\"document\": \"chapter09_buch01\", \"term\": \"barrack\", \"tfidf\": 0.15144498511184995}, {\"document\": \"chapter09_buch01\", \"term\": \"association\", \"tfidf\": 0.14654224809052174}, {\"document\": \"chapter09_buch02\", \"term\": \"state\", \"tfidf\": 0.30086632292399296}, {\"document\": \"chapter09_buch02\", \"term\": \"storm\", \"tfidf\": 0.29041555856442103}, {\"document\": \"chapter09_buch02\", \"term\": \"revolution\", \"tfidf\": 0.24961656891160716}, {\"document\": \"chapter09_buch02\", \"term\": \"detachment\", \"tfidf\": 0.21458205313401765}, {\"document\": \"chapter09_buch02\", \"term\": \"volunteer\", \"tfidf\": 0.20555259397779538}, {\"document\": \"chapter09_buch02\", \"term\": \"organisation\", \"tfidf\": 0.18159182115640046}, {\"document\": \"chapter09_buch02\", \"term\": \"defence\", \"tfidf\": 0.14693075690896726}, {\"document\": \"chapter09_buch02\", \"term\": \"people\", \"tfidf\": 0.1433158069406647}, {\"document\": \"chapter09_buch02\", \"term\": \"authority\", \"tfidf\": 0.14186622326533235}, {\"document\": \"chapter09_buch02\", \"term\": \"movement\", \"tfidf\": 0.13894151696205137}, {\"document\": \"chapter10_buch01\", \"term\": \"people\", \"tfidf\": 0.32346350134744367}, {\"document\": \"chapter10_buch01\", \"term\": \"nation\", \"tfidf\": 0.27195957688698785}, {\"document\": \"chapter10_buch01\", \"term\": \"state\", \"tfidf\": 0.1948629179320666}, {\"document\": \"chapter10_buch01\", \"term\": \"disease\", \"tfidf\": 0.16768775219780668}, {\"document\": \"chapter10_buch01\", \"term\": \"prostitution\", \"tfidf\": 0.14760874342465105}, {\"document\": \"chapter10_buch01\", \"term\": \"institution\", \"tfidf\": 0.13978845575689322}, {\"document\": \"chapter10_buch01\", \"term\": \"scourge\", \"tfidf\": 0.13628899785892273}, {\"document\": \"chapter10_buch01\", \"term\": \"press\", \"tfidf\": 0.13440113614429633}, {\"document\": \"chapter10_buch01\", \"term\": \"marriage\", \"tfidf\": 0.13436809664768729}, {\"document\": \"chapter10_buch01\", \"term\": \"collapse\", \"tfidf\": 0.12470292328497319}, {\"document\": \"chapter10_buch02\", \"term\": \"state\", \"tfidf\": 0.5531269165781628}, {\"document\": \"chapter10_buch02\", \"term\": \"reich\", \"tfidf\": 0.37429781367840254}, {\"document\": \"chapter10_buch02\", \"term\": \"people\", \"tfidf\": 0.17840448129993172}, {\"document\": \"chapter10_buch02\", \"term\": \"denomination\", \"tfidf\": 0.17763336073463018}, {\"document\": \"chapter10_buch02\", \"term\": \"federalist\", \"tfidf\": 0.14443171480919023}, {\"document\": \"chapter10_buch02\", \"term\": \"sovereignty\", \"tfidf\": 0.1397939430839269}, {\"document\": \"chapter10_buch02\", \"term\": \"policy\", \"tfidf\": 0.13129499184216648}, {\"document\": \"chapter10_buch02\", \"term\": \"bavaria\", \"tfidf\": 0.12265249901298819}, {\"document\": \"chapter10_buch02\", \"term\": \"interest\", \"tfidf\": 0.12257807323934712}, {\"document\": \"chapter10_buch02\", \"term\": \"propaganda\", \"tfidf\": 0.10880977854723207}, {\"document\": \"chapter11_buch01\", \"term\": \"people\", \"tfidf\": 0.4285910157581278}, {\"document\": \"chapter11_buch01\", \"term\": \"culture\", \"tfidf\": 0.26710036913001384}, {\"document\": \"chapter11_buch01\", \"term\": \"civilisation\", \"tfidf\": 0.21659274157181088}, {\"document\": \"chapter11_buch01\", \"term\": \"nature\", \"tfidf\": 0.14929635844517355}, {\"document\": \"chapter11_buch01\", \"term\": \"world\", \"tfidf\": 0.14220236595261382}, {\"document\": \"chapter11_buch01\", \"term\": \"state\", \"tfidf\": 0.14140493673919255}, {\"document\": \"chapter11_buch01\", \"term\": \"power\", \"tfidf\": 0.14029532977287895}, {\"document\": \"chapter11_buch01\", \"term\": \"idealism\", \"tfidf\": 0.14007192721829817}, {\"document\": \"chapter11_buch01\", \"term\": \"blood\", \"tfidf\": 0.1302307687139808}, {\"document\": \"chapter11_buch01\", \"term\": \"nation\", \"tfidf\": 0.11847110586505917}, {\"document\": \"chapter11_buch02\", \"term\": \"movement\", \"tfidf\": 0.4878148403243033}, {\"document\": \"chapter11_buch02\", \"term\": \"member\", \"tfidf\": 0.34663181369231466}, {\"document\": \"chapter11_buch02\", \"term\": \"propaganda\", \"tfidf\": 0.32315871996974255}, {\"document\": \"chapter11_buch02\", \"term\": \"committee\", \"tfidf\": 0.23319831267355892}, {\"document\": \"chapter11_buch02\", \"term\": \"organisation\", \"tfidf\": 0.18198089284521413}, {\"document\": \"chapter11_buch02\", \"term\": \"adherent\", \"tfidf\": 0.13942718552533392}, {\"document\": \"chapter11_buch02\", \"term\": \"party\", \"tfidf\": 0.13895732919652376}, {\"document\": \"chapter11_buch02\", \"term\": \"propagandist\", \"tfidf\": 0.13812384455413868}, {\"document\": \"chapter11_buch02\", \"term\": \"membership\", \"tfidf\": 0.13123433331957055}, {\"document\": \"chapter11_buch02\", \"term\": \"responsibility\", \"tfidf\": 0.12324313058818773}, {\"document\": \"chapter12_buch01\", \"term\": \"movement\", \"tfidf\": 0.5188776136856542}, {\"document\": \"chapter12_buch01\", \"term\": \"people\", \"tfidf\": 0.32118638912867853}, {\"document\": \"chapter12_buch01\", \"term\": \"meeting\", \"tfidf\": 0.31374992760849385}, {\"document\": \"chapter12_buch01\", \"term\": \"nation\", \"tfidf\": 0.20763305353743644}, {\"document\": \"chapter12_buch01\", \"term\": \"organisation\", \"tfidf\": 0.137431739933349}, {\"document\": \"chapter12_buch01\", \"term\": \"member\", \"tfidf\": 0.1272108558386895}, {\"document\": \"chapter12_buch01\", \"term\": \"class\", \"tfidf\": 0.11702614500837649}, {\"document\": \"chapter12_buch01\", \"term\": \"leader\", \"tfidf\": 0.11400519532247447}, {\"document\": \"chapter12_buch01\", \"term\": \"group\", \"tfidf\": 0.1018290182367332}, {\"document\": \"chapter12_buch01\", \"term\": \"success\", \"tfidf\": 0.10103531409029441}, {\"document\": \"chapter12_buch02\", \"term\": \"tradeunion\", \"tfidf\": 0.6342370028817594}, {\"document\": \"chapter12_buch02\", \"term\": \"employer\", \"tfidf\": 0.22336475966338434}, {\"document\": \"chapter12_buch02\", \"term\": \"movement\", \"tfidf\": 0.2090211864331869}, {\"document\": \"chapter12_buch02\", \"term\": \"tradeunionist\", \"tfidf\": 0.20546337600903672}, {\"document\": \"chapter12_buch02\", \"term\": \"state\", \"tfidf\": 0.190107264223075}, {\"document\": \"chapter12_buch02\", \"term\": \"community\", \"tfidf\": 0.1477842035790737}, {\"document\": \"chapter12_buch02\", \"term\": \"worker\", \"tfidf\": 0.13436604084763507}, {\"document\": \"chapter12_buch02\", \"term\": \"union\", \"tfidf\": 0.13056334274214962}, {\"document\": \"chapter12_buch02\", \"term\": \"nation\", \"tfidf\": 0.12355652801546056}, {\"document\": \"chapter12_buch02\", \"term\": \"question\", \"tfidf\": 0.11794604394963439}, {\"document\": \"chapter13_buch02\", \"term\": \"policy\", \"tfidf\": 0.3415004614452892}, {\"document\": \"chapter13_buch02\", \"term\": \"alliance\", \"tfidf\": 0.3142150401012154}, {\"document\": \"chapter13_buch02\", \"term\": \"nation\", \"tfidf\": 0.287655487560089}, {\"document\": \"chapter13_buch02\", \"term\": \"state\", \"tfidf\": 0.2786067297733246}, {\"document\": \"chapter13_buch02\", \"term\": \"power\", \"tfidf\": 0.26074605407934737}, {\"document\": \"chapter13_buch02\", \"term\": \"people\", \"tfidf\": 0.239118703897645}, {\"document\": \"chapter13_buch02\", \"term\": \"interest\", \"tfidf\": 0.16456973670562502}, {\"document\": \"chapter13_buch02\", \"term\": \"today\", \"tfidf\": 0.16264946591464516}, {\"document\": \"chapter13_buch02\", \"term\": \"government\", \"tfidf\": 0.15972262464562179}, {\"document\": \"chapter13_buch02\", \"term\": \"country\", \"tfidf\": 0.14915853788664074}, {\"document\": \"chapter14_buch02\", \"term\": \"policy\", \"tfidf\": 0.35606380847009594}, {\"document\": \"chapter14_buch02\", \"term\": \"nation\", \"tfidf\": 0.2905032832226322}, {\"document\": \"chapter14_buch02\", \"term\": \"state\", \"tfidf\": 0.2851304842390579}, {\"document\": \"chapter14_buch02\", \"term\": \"people\", \"tfidf\": 0.28101996517122474}, {\"document\": \"chapter14_buch02\", \"term\": \"alliance\", \"tfidf\": 0.260461650460318}, {\"document\": \"chapter14_buch02\", \"term\": \"world\", \"tfidf\": 0.25595438732426756}, {\"document\": \"chapter14_buch02\", \"term\": \"territory\", \"tfidf\": 0.23056985162278884}, {\"document\": \"chapter14_buch02\", \"term\": \"power\", \"tfidf\": 0.17838496090780073}, {\"document\": \"chapter14_buch02\", \"term\": \"today\", \"tfidf\": 0.15575702024449575}, {\"document\": \"chapter14_buch02\", \"term\": \"frontier\", \"tfidf\": 0.15432192915693926}, {\"document\": \"chapter15_buch02\", \"term\": \"nation\", \"tfidf\": 0.27172643761722576}, {\"document\": \"chapter15_buch02\", \"term\": \"people\", \"tfidf\": 0.25406566498979144}, {\"document\": \"chapter15_buch02\", \"term\": \"resistance\", \"tfidf\": 0.25243335469884143}, {\"document\": \"chapter15_buch02\", \"term\": \"enemy\", \"tfidf\": 0.2330989930002322}, {\"document\": \"chapter15_buch02\", \"term\": \"state\", \"tfidf\": 0.15398361188229295}, {\"document\": \"chapter15_buch02\", \"term\": \"occupation\", \"tfidf\": 0.14939921360708622}, {\"document\": \"chapter15_buch02\", \"term\": \"country\", \"tfidf\": 0.13473226702731828}, {\"document\": \"chapter15_buch02\", \"term\": \"french\", \"tfidf\": 0.12571698475604784}, {\"document\": \"chapter15_buch02\", \"term\": \"negotiator\", \"tfidf\": 0.12571148857656808}, {\"document\": \"chapter15_buch02\", \"term\": \"government\", \"tfidf\": 0.11100111796113878}, {\"document\": \"epilogue_buch02\", \"term\": \"correctness\", \"tfidf\": 0.3060692444111935}, {\"document\": \"epilogue_buch02\", \"term\": \"repression\", \"tfidf\": 0.30608385997950455}, {\"document\": \"epilogue_buch02\", \"term\": \"poisoning\", \"tfidf\": 0.27941659097193755}, {\"document\": \"epilogue_buch02\", \"term\": \"earth\", \"tfidf\": 0.2605011632139716}, {\"document\": \"epilogue_buch02\", \"term\": \"magnitude\", \"tfidf\": 0.25879166179213525}, {\"document\": \"epilogue_buch02\", \"term\": \"purity\", \"tfidf\": 0.24190462830628084}, {\"document\": \"epilogue_buch02\", \"term\": \"essence\", \"tfidf\": 0.22762298472757292}, {\"document\": \"epilogue_buch02\", \"term\": \"corruption\", \"tfidf\": 0.21521088512086803}, {\"document\": \"epilogue_buch02\", \"term\": \"persecution\", \"tfidf\": 0.2151666679033143}, {\"document\": \"epilogue_buch02\", \"term\": \"struggle\", \"tfidf\": 0.2049109547062183}]}}, {\"mode\": \"vega-lite\"});\n",
       "</script>"
      ],
      "text/plain": [
       "alt.LayerChart(...)"
      ]
     },
     "execution_count": 54,
     "metadata": {},
     "output_type": "execute_result"
    }
   ],
   "source": [
    "import altair as alt\n",
    "import numpy as np\n",
    "\n",
    "#terme die gesondert mit rotem punkt ausgezeichnet werden\n",
    "term_list = ['war', 'peace']\n",
    "\n",
    "#randomness fürs ranking\n",
    "top_tfidf_plusRand = top_tfidf.copy()\n",
    "top_tfidf_plusRand['tfidf'] = top_tfidf_plusRand['tfidf'] + np.random.rand(top_tfidf.shape[0])*0.0001\n",
    "\n",
    "#visualisierungen mit ranking\n",
    "base = alt.Chart(top_tfidf_plusRand).encode(\n",
    "    x = 'rank:O',\n",
    "    y = 'document:N'\n",
    ").transform_window(\n",
    "    rank = \"rank()\",\n",
    "    sort = [alt.SortField(\"tfidf\", order=\"descending\")],\n",
    "    groupby = [\"document\"],\n",
    ")\n",
    "\n",
    "#heatmap definieren\n",
    "heatmap = base.mark_rect().encode(\n",
    "    color = 'tfidf:Q'\n",
    ")\n",
    "\n",
    "#roter punkt für oben festgelegte terme definieren\n",
    "circle = base.mark_circle(size=100).encode(\n",
    "    color = alt.condition(\n",
    "        alt.FieldOneOfPredicate(field='term', oneOf=term_list),\n",
    "        alt.value('red'),\n",
    "        alt.value('#FFFFFF00')        \n",
    "    )\n",
    ")\n",
    "\n",
    "#text labels mit weiß für dunklere heatmap-einfärbungen\n",
    "text = base.mark_text(baseline='middle').encode(\n",
    "    text = 'term:N',\n",
    "    color = alt.condition(alt.datum.tfidf >= 0.23, alt.value('white'), alt.value('black'))\n",
    ")\n",
    "\n",
    "#visualisierungen darstellen\n",
    "(heatmap + circle + text).properties(width = 600)"
   ]
  },
  {
   "cell_type": "code",
   "execution_count": null,
   "id": "5ad49050-5d63-4b36-9d31-6915fdeec256",
   "metadata": {},
   "outputs": [],
   "source": []
  }
 ],
 "metadata": {
  "kernelspec": {
   "display_name": "Python 3 (ipykernel)",
   "language": "python",
   "name": "python3"
  },
  "language_info": {
   "codemirror_mode": {
    "name": "ipython",
    "version": 3
   },
   "file_extension": ".py",
   "mimetype": "text/x-python",
   "name": "python",
   "nbconvert_exporter": "python",
   "pygments_lexer": "ipython3",
   "version": "3.11.9"
  }
 },
 "nbformat": 4,
 "nbformat_minor": 5
}
