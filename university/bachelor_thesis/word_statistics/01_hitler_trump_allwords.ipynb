{
 "cells": [
  {
   "cell_type": "markdown",
   "id": "e34d330e-15c7-4356-b204-dc70252ef656",
   "metadata": {},
   "source": [
    "## Importieren der Module"
   ]
  },
  {
   "cell_type": "code",
   "execution_count": 2,
   "id": "60e2e6a9-1093-4e74-8af1-5422eb27f319",
   "metadata": {},
   "outputs": [],
   "source": [
    "from sklearn.feature_extraction.text import TfidfVectorizer\n",
    "from sklearn.feature_extraction.text import CountVectorizer\n",
    "import pandas as pd\n",
    "from pathlib import Path  \n",
    "import glob\n",
    "from nltk.tag import pos_tag"
   ]
  },
  {
   "cell_type": "markdown",
   "id": "860ef31c-f503-466e-b5fe-d6e77c8978b7",
   "metadata": {},
   "source": [
    "-----------"
   ]
  },
  {
   "cell_type": "markdown",
   "id": "2f346a19-cf0b-42b8-b236-c241b6144cbc",
   "metadata": {},
   "source": [
    "## Pfad einlesen"
   ]
  },
  {
   "cell_type": "code",
   "execution_count": 3,
   "id": "7647af74-171b-4de6-9cbf-930121bfa9e1",
   "metadata": {},
   "outputs": [
    {
     "name": "stdin",
     "output_type": "stream",
     "text": [
      "Was soll untersucht werden? allwords, nouns, adjectives oder verbs? allwords\n"
     ]
    },
    {
     "name": "stdout",
     "output_type": "stream",
     "text": [
      "130\n"
     ]
    },
    {
     "data": {
      "text/plain": [
       "['C:\\\\Users\\\\Simon\\\\Bachelorarbeit\\\\vergleich_mk_trump\\\\cleaned_docs\\\\all_words\\\\cleaned_all_docs\\\\00_preface_buch01.txt',\n",
       " 'C:\\\\Users\\\\Simon\\\\Bachelorarbeit\\\\vergleich_mk_trump\\\\cleaned_docs\\\\all_words\\\\cleaned_all_docs\\\\chapter01_buch01.txt',\n",
       " 'C:\\\\Users\\\\Simon\\\\Bachelorarbeit\\\\vergleich_mk_trump\\\\cleaned_docs\\\\all_words\\\\cleaned_all_docs\\\\chapter01_buch02.txt',\n",
       " 'C:\\\\Users\\\\Simon\\\\Bachelorarbeit\\\\vergleich_mk_trump\\\\cleaned_docs\\\\all_words\\\\cleaned_all_docs\\\\chapter02_buch01.txt',\n",
       " 'C:\\\\Users\\\\Simon\\\\Bachelorarbeit\\\\vergleich_mk_trump\\\\cleaned_docs\\\\all_words\\\\cleaned_all_docs\\\\chapter02_buch02.txt',\n",
       " 'C:\\\\Users\\\\Simon\\\\Bachelorarbeit\\\\vergleich_mk_trump\\\\cleaned_docs\\\\all_words\\\\cleaned_all_docs\\\\chapter03_buch01.txt',\n",
       " 'C:\\\\Users\\\\Simon\\\\Bachelorarbeit\\\\vergleich_mk_trump\\\\cleaned_docs\\\\all_words\\\\cleaned_all_docs\\\\chapter03_buch02.txt',\n",
       " 'C:\\\\Users\\\\Simon\\\\Bachelorarbeit\\\\vergleich_mk_trump\\\\cleaned_docs\\\\all_words\\\\cleaned_all_docs\\\\chapter04_buch01.txt',\n",
       " 'C:\\\\Users\\\\Simon\\\\Bachelorarbeit\\\\vergleich_mk_trump\\\\cleaned_docs\\\\all_words\\\\cleaned_all_docs\\\\chapter04_buch02.txt',\n",
       " 'C:\\\\Users\\\\Simon\\\\Bachelorarbeit\\\\vergleich_mk_trump\\\\cleaned_docs\\\\all_words\\\\cleaned_all_docs\\\\chapter05_buch01.txt']"
      ]
     },
     "execution_count": 3,
     "metadata": {},
     "output_type": "execute_result"
    }
   ],
   "source": [
    "while True: \n",
    "    input_path = input(\"Was soll untersucht werden? allwords, nouns, adjectives oder verbs?\").lower()\n",
    "    \n",
    "    if input_path == \"allwords\":\n",
    "        #directory_path = [\"/home/simon/bachelorarbeit/vergleich_mk_trump/cleaned_docs/all_words/cleaned_all_docs\"]\n",
    "        directory_path = [r\"C:\\Users\\Simon\\Bachelorarbeit\\vergleich_mk_trump\\cleaned_docs\\all_words\\cleaned_all_docs\"]\n",
    "        break\n",
    "    elif input_path == \"nouns\":\n",
    "        #directory_path = [\"/home/simon/bachelorarbeit/vergleich_mk_trump/cleaned_docs/nouns/cleaned_all_docs\"]\n",
    "        directory_path = [r\"C:\\Users\\Simon\\Bachelorarbeit\\vergleich_mk_trump\\cleaned_docs\\nouns\\cleaned_all_docs\"]\n",
    "        break\n",
    "    elif input_path == \"verbs\":\n",
    "        #directory_path = [\"/home/simon/bachelorarbeit/vergleich_mk_trump/cleaned_docs/verbs/cleaned_all_docs\"]\n",
    "        directory_path = [r\"C:\\Users\\Simon\\Bachelorarbeit\\vergleich_mk_trump\\cleaned_docs\\verbs\\cleaned_all_docs\"]\n",
    "        break\n",
    "    elif input_path == \"adjectives\":\n",
    "        #directory_path = [\"/home/simon/bachelorarbeit/vergleich_mk_trump/cleaned_docs/adjectives/cleaned_all_docs\"]\n",
    "        directory_path = [r\"C:\\Users\\Simon\\Bachelorarbeit\\vergleich_mk_trump\\cleaned_docs\\adjectives\\cleaned_all_docs\"]\n",
    "        break\n",
    "    else: \n",
    "        print(\"Falsche Eingabe!\")\n",
    "\n",
    "text_files = []\n",
    "for path in directory_path:\n",
    "    text_files.extend(glob.glob(f\"{path}/*.txt\"))\n",
    "\n",
    "print(len(text_files))\n",
    "text_files[:10]"
   ]
  },
  {
   "cell_type": "code",
   "execution_count": 11,
   "id": "e0ac7817-ddfc-44d9-9cef-54f8458965b8",
   "metadata": {},
   "outputs": [],
   "source": [
    "#text_files = glob.glob(f\"{directory_path}/*.txt\")\n",
    "#text_files[:10]"
   ]
  },
  {
   "cell_type": "code",
   "execution_count": 4,
   "id": "41f8bf47-1165-4e7e-84a3-51c7107f1f16",
   "metadata": {},
   "outputs": [
    {
     "data": {
      "text/plain": [
       "['00_preface_buch01',\n",
       " 'chapter01_buch01',\n",
       " 'chapter01_buch02',\n",
       " 'chapter02_buch01',\n",
       " 'chapter02_buch02',\n",
       " 'chapter03_buch01',\n",
       " 'chapter03_buch02',\n",
       " 'chapter04_buch01',\n",
       " 'chapter04_buch02',\n",
       " 'chapter05_buch01']"
      ]
     },
     "execution_count": 4,
     "metadata": {},
     "output_type": "execute_result"
    }
   ],
   "source": [
    "text_titles = [Path(text).stem for text in text_files]\n",
    "text_titles[:10]"
   ]
  },
  {
   "cell_type": "markdown",
   "id": "991e4366-f463-4d0c-b823-966550994281",
   "metadata": {},
   "source": [
    "--------------"
   ]
  },
  {
   "cell_type": "markdown",
   "id": "ba3d0b85-6ddf-4602-9d57-e582e66277e8",
   "metadata": {},
   "source": [
    "## TF-IDF berechnen"
   ]
  },
  {
   "cell_type": "code",
   "execution_count": 5,
   "id": "24a40e30-3e40-45ce-b3b8-867563d1ea65",
   "metadata": {},
   "outputs": [],
   "source": [
    "tfidf_vectorizer = TfidfVectorizer(input='filename')"
   ]
  },
  {
   "cell_type": "code",
   "execution_count": 6,
   "id": "67dd970f-4df6-4a41-a13a-210880b50823",
   "metadata": {},
   "outputs": [],
   "source": [
    "tfidf_vector = tfidf_vectorizer.fit_transform(text_files)"
   ]
  },
  {
   "cell_type": "code",
   "execution_count": 7,
   "id": "73a0e275-51fa-4647-b475-a1ae247f109b",
   "metadata": {},
   "outputs": [],
   "source": [
    "tfidf_df = pd.DataFrame(tfidf_vector.toarray(), index=text_titles, columns=tfidf_vectorizer.get_feature_names_out())"
   ]
  },
  {
   "cell_type": "code",
   "execution_count": 8,
   "id": "79aa7374-a8f5-49f5-8246-a588cc8fe482",
   "metadata": {},
   "outputs": [
    {
     "name": "stdout",
     "output_type": "stream",
     "text": [
      "                                                    immigration  illegal\n",
      "00_preface_buch01                                          0.00     0.00\n",
      "Donald Trump & Mike Pence Rally Speech Transcri...         0.00     0.00\n",
      "Donald Trump Addresses NRA Meeting in Indianapo...         0.00     0.01\n",
      "Donald Trump Alamo, Texas Speech Transcript Jan...         0.08     0.09\n",
      "Donald Trump CPAC 2021 Speech Transcript 02_28_21          0.03     0.06\n",
      "...                                                         ...      ...\n",
      "chapter12_buch02                                           0.00     0.00\n",
      "chapter13_buch02                                           0.00     0.00\n",
      "chapter14_buch02                                           0.00     0.00\n",
      "chapter15_buch02                                           0.00     0.00\n",
      "epilogue_buch02                                            0.00     0.00\n",
      "\n",
      "[130 rows x 2 columns]\n"
     ]
    }
   ],
   "source": [
    "if input_path in (\"allwords\", \"nouns\"):\n",
    "    tfidf_slice = tfidf_df[['immigration', 'illegal']]\n",
    "    print(tfidf_slice.sort_index().round(decimals=2))\n",
    "else:\n",
    "    print(\"Keine Substantive enthalten!\")"
   ]
  },
  {
   "cell_type": "code",
   "execution_count": 9,
   "id": "55fc0482-65f3-44e7-8a15-11654f43a6de",
   "metadata": {},
   "outputs": [
    {
     "data": {
      "text/html": [
       "<div>\n",
       "<style scoped>\n",
       "    .dataframe tbody tr th:only-of-type {\n",
       "        vertical-align: middle;\n",
       "    }\n",
       "\n",
       "    .dataframe tbody tr th {\n",
       "        vertical-align: top;\n",
       "    }\n",
       "\n",
       "    .dataframe thead th {\n",
       "        text-align: right;\n",
       "    }\n",
       "</style>\n",
       "<table border=\"1\" class=\"dataframe\">\n",
       "  <thead>\n",
       "    <tr style=\"text-align: right;\">\n",
       "      <th></th>\n",
       "      <th>level_0</th>\n",
       "      <th>level_1</th>\n",
       "      <th>0</th>\n",
       "    </tr>\n",
       "  </thead>\n",
       "  <tbody>\n",
       "    <tr>\n",
       "      <th>0</th>\n",
       "      <td>00_preface_buch01</td>\n",
       "      <td>aa</td>\n",
       "      <td>0.0</td>\n",
       "    </tr>\n",
       "    <tr>\n",
       "      <th>1</th>\n",
       "      <td>00_preface_buch01</td>\n",
       "      <td>aah</td>\n",
       "      <td>0.0</td>\n",
       "    </tr>\n",
       "    <tr>\n",
       "      <th>2</th>\n",
       "      <td>00_preface_buch01</td>\n",
       "      <td>aback</td>\n",
       "      <td>0.0</td>\n",
       "    </tr>\n",
       "    <tr>\n",
       "      <th>3</th>\n",
       "      <td>00_preface_buch01</td>\n",
       "      <td>abandon</td>\n",
       "      <td>0.0</td>\n",
       "    </tr>\n",
       "    <tr>\n",
       "      <th>4</th>\n",
       "      <td>00_preface_buch01</td>\n",
       "      <td>abandoned</td>\n",
       "      <td>0.0</td>\n",
       "    </tr>\n",
       "    <tr>\n",
       "      <th>...</th>\n",
       "      <td>...</td>\n",
       "      <td>...</td>\n",
       "      <td>...</td>\n",
       "    </tr>\n",
       "    <tr>\n",
       "      <th>2299695</th>\n",
       "      <td>Tucker on X Debate Night Interview with Donald...</td>\n",
       "      <td>zuckerberg</td>\n",
       "      <td>0.0</td>\n",
       "    </tr>\n",
       "    <tr>\n",
       "      <th>2299696</th>\n",
       "      <td>Tucker on X Debate Night Interview with Donald...</td>\n",
       "      <td>zuckerman</td>\n",
       "      <td>0.0</td>\n",
       "    </tr>\n",
       "    <tr>\n",
       "      <th>2299697</th>\n",
       "      <td>Tucker on X Debate Night Interview with Donald...</td>\n",
       "      <td>zulu</td>\n",
       "      <td>0.0</td>\n",
       "    </tr>\n",
       "    <tr>\n",
       "      <th>2299698</th>\n",
       "      <td>Tucker on X Debate Night Interview with Donald...</td>\n",
       "      <td>élan</td>\n",
       "      <td>0.0</td>\n",
       "    </tr>\n",
       "    <tr>\n",
       "      <th>2299699</th>\n",
       "      <td>Tucker on X Debate Night Interview with Donald...</td>\n",
       "      <td>étre</td>\n",
       "      <td>0.0</td>\n",
       "    </tr>\n",
       "  </tbody>\n",
       "</table>\n",
       "<p>2299700 rows × 3 columns</p>\n",
       "</div>"
      ],
      "text/plain": [
       "                                                   level_0     level_1    0\n",
       "0                                        00_preface_buch01          aa  0.0\n",
       "1                                        00_preface_buch01         aah  0.0\n",
       "2                                        00_preface_buch01       aback  0.0\n",
       "3                                        00_preface_buch01     abandon  0.0\n",
       "4                                        00_preface_buch01   abandoned  0.0\n",
       "...                                                    ...         ...  ...\n",
       "2299695  Tucker on X Debate Night Interview with Donald...  zuckerberg  0.0\n",
       "2299696  Tucker on X Debate Night Interview with Donald...   zuckerman  0.0\n",
       "2299697  Tucker on X Debate Night Interview with Donald...        zulu  0.0\n",
       "2299698  Tucker on X Debate Night Interview with Donald...        élan  0.0\n",
       "2299699  Tucker on X Debate Night Interview with Donald...        étre  0.0\n",
       "\n",
       "[2299700 rows x 3 columns]"
      ]
     },
     "execution_count": 9,
     "metadata": {},
     "output_type": "execute_result"
    }
   ],
   "source": [
    "tfidf_df.stack().reset_index()"
   ]
  },
  {
   "cell_type": "code",
   "execution_count": 10,
   "id": "621cfa64-9827-4d88-9543-2d07bd6fadeb",
   "metadata": {},
   "outputs": [],
   "source": [
    "tfidf_df = tfidf_df.stack().reset_index()"
   ]
  },
  {
   "cell_type": "code",
   "execution_count": 11,
   "id": "e7c463bb-c3e2-4abc-814a-2317908cb721",
   "metadata": {},
   "outputs": [],
   "source": [
    "tfidf_df = tfidf_df.rename(columns={0:'tfidf', 'level_0': 'document','level_1': 'term', 'level_2': 'term'})"
   ]
  },
  {
   "cell_type": "code",
   "execution_count": 12,
   "id": "70133377-866d-407c-8694-2da3b885fb73",
   "metadata": {},
   "outputs": [
    {
     "data": {
      "text/plain": [
       "Index(['document', 'term', 'tfidf'], dtype='object')"
      ]
     },
     "execution_count": 12,
     "metadata": {},
     "output_type": "execute_result"
    }
   ],
   "source": [
    "tfidf_df.columns"
   ]
  },
  {
   "cell_type": "code",
   "execution_count": 13,
   "id": "cf9662aa-5755-4c5e-8eb8-1045912b3d50",
   "metadata": {},
   "outputs": [
    {
     "data": {
      "text/html": [
       "<div>\n",
       "<style scoped>\n",
       "    .dataframe tbody tr th:only-of-type {\n",
       "        vertical-align: middle;\n",
       "    }\n",
       "\n",
       "    .dataframe tbody tr th {\n",
       "        vertical-align: top;\n",
       "    }\n",
       "\n",
       "    .dataframe thead th {\n",
       "        text-align: right;\n",
       "    }\n",
       "</style>\n",
       "<table border=\"1\" class=\"dataframe\">\n",
       "  <thead>\n",
       "    <tr style=\"text-align: right;\">\n",
       "      <th></th>\n",
       "      <th>document</th>\n",
       "      <th>term</th>\n",
       "      <th>tfidf</th>\n",
       "    </tr>\n",
       "  </thead>\n",
       "  <tbody>\n",
       "    <tr>\n",
       "      <th>206777</th>\n",
       "      <td>chapter06_buch01</td>\n",
       "      <td>propaganda</td>\n",
       "      <td>0.702924</td>\n",
       "    </tr>\n",
       "    <tr>\n",
       "      <th>2129528</th>\n",
       "      <td>Trump Speaks After Winning 2024 Iowa Caucuses ...</td>\n",
       "      <td>going</td>\n",
       "      <td>0.569127</td>\n",
       "    </tr>\n",
       "    <tr>\n",
       "      <th>380102</th>\n",
       "      <td>chapter11_buch01</td>\n",
       "      <td>jew</td>\n",
       "      <td>0.542117</td>\n",
       "    </tr>\n",
       "    <tr>\n",
       "      <th>257483</th>\n",
       "      <td>chapter07_buch02</td>\n",
       "      <td>meeting</td>\n",
       "      <td>0.506436</td>\n",
       "    </tr>\n",
       "    <tr>\n",
       "      <th>1792</th>\n",
       "      <td>00_preface_buch01</td>\n",
       "      <td>born</td>\n",
       "      <td>0.498402</td>\n",
       "    </tr>\n",
       "    <tr>\n",
       "      <th>...</th>\n",
       "      <td>...</td>\n",
       "      <td>...</td>\n",
       "      <td>...</td>\n",
       "    </tr>\n",
       "    <tr>\n",
       "      <th>1627485</th>\n",
       "      <td>epilogue_buch02</td>\n",
       "      <td>abandoning</td>\n",
       "      <td>0.000000</td>\n",
       "    </tr>\n",
       "    <tr>\n",
       "      <th>1627486</th>\n",
       "      <td>epilogue_buch02</td>\n",
       "      <td>abandonment</td>\n",
       "      <td>0.000000</td>\n",
       "    </tr>\n",
       "    <tr>\n",
       "      <th>1627487</th>\n",
       "      <td>epilogue_buch02</td>\n",
       "      <td>abbot</td>\n",
       "      <td>0.000000</td>\n",
       "    </tr>\n",
       "    <tr>\n",
       "      <th>1627488</th>\n",
       "      <td>epilogue_buch02</td>\n",
       "      <td>abbott</td>\n",
       "      <td>0.000000</td>\n",
       "    </tr>\n",
       "    <tr>\n",
       "      <th>1627489</th>\n",
       "      <td>epilogue_buch02</td>\n",
       "      <td>abbreviated</td>\n",
       "      <td>0.000000</td>\n",
       "    </tr>\n",
       "  </tbody>\n",
       "</table>\n",
       "<p>124053 rows × 3 columns</p>\n",
       "</div>"
      ],
      "text/plain": [
       "                                                  document         term  \\\n",
       "206777                                    chapter06_buch01   propaganda   \n",
       "2129528  Trump Speaks After Winning 2024 Iowa Caucuses ...        going   \n",
       "380102                                    chapter11_buch01          jew   \n",
       "257483                                    chapter07_buch02      meeting   \n",
       "1792                                     00_preface_buch01         born   \n",
       "...                                                    ...          ...   \n",
       "1627485                                    epilogue_buch02   abandoning   \n",
       "1627486                                    epilogue_buch02  abandonment   \n",
       "1627487                                    epilogue_buch02        abbot   \n",
       "1627488                                    epilogue_buch02       abbott   \n",
       "1627489                                    epilogue_buch02  abbreviated   \n",
       "\n",
       "            tfidf  \n",
       "206777   0.702924  \n",
       "2129528  0.569127  \n",
       "380102   0.542117  \n",
       "257483   0.506436  \n",
       "1792     0.498402  \n",
       "...           ...  \n",
       "1627485  0.000000  \n",
       "1627486  0.000000  \n",
       "1627487  0.000000  \n",
       "1627488  0.000000  \n",
       "1627489  0.000000  \n",
       "\n",
       "[124053 rows x 3 columns]"
      ]
     },
     "execution_count": 13,
     "metadata": {},
     "output_type": "execute_result"
    }
   ],
   "source": [
    "tfidf_df.sort_values(by=['tfidf','document'], ascending=[False,False]).groupby(['tfidf']).head(10)"
   ]
  },
  {
   "cell_type": "code",
   "execution_count": 14,
   "id": "e925177b-9a66-4890-87af-5f8e86467c7a",
   "metadata": {},
   "outputs": [],
   "source": [
    "top_tfidf = tfidf_df.sort_values(by=['document','tfidf'], ascending=[True,False]).groupby(['document']).head(10)"
   ]
  },
  {
   "cell_type": "code",
   "execution_count": 15,
   "id": "883cb420-d944-47b4-8826-caa6e700af0b",
   "metadata": {},
   "outputs": [
    {
     "data": {
      "text/html": [
       "<div>\n",
       "<style scoped>\n",
       "    .dataframe tbody tr th:only-of-type {\n",
       "        vertical-align: middle;\n",
       "    }\n",
       "\n",
       "    .dataframe tbody tr th {\n",
       "        vertical-align: top;\n",
       "    }\n",
       "\n",
       "    .dataframe thead th {\n",
       "        text-align: right;\n",
       "    }\n",
       "</style>\n",
       "<table border=\"1\" class=\"dataframe\">\n",
       "  <thead>\n",
       "    <tr style=\"text-align: right;\">\n",
       "      <th></th>\n",
       "      <th>document</th>\n",
       "      <th>term</th>\n",
       "      <th>tfidf</th>\n",
       "    </tr>\n",
       "  </thead>\n",
       "  <tbody>\n",
       "    <tr>\n",
       "      <th>1202319</th>\n",
       "      <td>Donald Trump Rose Garden Press Conference on C...</td>\n",
       "      <td>warp</td>\n",
       "      <td>0.125348</td>\n",
       "    </tr>\n",
       "    <tr>\n",
       "      <th>2246019</th>\n",
       "      <td>Trump Town Hall with Hannity 12_5_23 Transcrip...</td>\n",
       "      <td>warming</td>\n",
       "      <td>0.164558</td>\n",
       "    </tr>\n",
       "    <tr>\n",
       "      <th>176275</th>\n",
       "      <td>chapter05_buch01</td>\n",
       "      <td>war</td>\n",
       "      <td>0.141058</td>\n",
       "    </tr>\n",
       "    <tr>\n",
       "      <th>211655</th>\n",
       "      <td>chapter06_buch01</td>\n",
       "      <td>war</td>\n",
       "      <td>0.098104</td>\n",
       "    </tr>\n",
       "  </tbody>\n",
       "</table>\n",
       "</div>"
      ],
      "text/plain": [
       "                                                  document     term     tfidf\n",
       "1202319  Donald Trump Rose Garden Press Conference on C...     warp  0.125348\n",
       "2246019  Trump Town Hall with Hannity 12_5_23 Transcrip...  warming  0.164558\n",
       "176275                                    chapter05_buch01      war  0.141058\n",
       "211655                                    chapter06_buch01      war  0.098104"
      ]
     },
     "execution_count": 15,
     "metadata": {},
     "output_type": "execute_result"
    }
   ],
   "source": [
    "top_tfidf[top_tfidf['term'].str.contains('war')]"
   ]
  },
  {
   "cell_type": "markdown",
   "id": "47358314-e289-42d2-87ed-91d8ae86b2f5",
   "metadata": {},
   "source": [
    "---------------"
   ]
  },
  {
   "cell_type": "markdown",
   "id": "1647d1b0-c3e3-4852-89af-6ea78bd8a418",
   "metadata": {},
   "source": [
    "## TF-IDF visualisieren"
   ]
  },
  {
   "cell_type": "code",
   "execution_count": 16,
   "id": "bd864e34-b7ea-4ace-90db-e61300c174fc",
   "metadata": {},
   "outputs": [
    {
     "data": {
      "text/html": [
       "\n",
       "<style>\n",
       "  #altair-viz-60a9b4e383c043cb8f7faee9f6751a27.vega-embed {\n",
       "    width: 100%;\n",
       "    display: flex;\n",
       "  }\n",
       "\n",
       "  #altair-viz-60a9b4e383c043cb8f7faee9f6751a27.vega-embed details,\n",
       "  #altair-viz-60a9b4e383c043cb8f7faee9f6751a27.vega-embed details summary {\n",
       "    position: relative;\n",
       "  }\n",
       "</style>\n",
       "<div id=\"altair-viz-60a9b4e383c043cb8f7faee9f6751a27\"></div>\n",
       "<script type=\"text/javascript\">\n",
       "  var VEGA_DEBUG = (typeof VEGA_DEBUG == \"undefined\") ? {} : VEGA_DEBUG;\n",
       "  (function(spec, embedOpt){\n",
       "    let outputDiv = document.currentScript.previousElementSibling;\n",
       "    if (outputDiv.id !== \"altair-viz-60a9b4e383c043cb8f7faee9f6751a27\") {\n",
       "      outputDiv = document.getElementById(\"altair-viz-60a9b4e383c043cb8f7faee9f6751a27\");\n",
       "    }\n",
       "    const paths = {\n",
       "      \"vega\": \"https://cdn.jsdelivr.net/npm/vega@5?noext\",\n",
       "      \"vega-lib\": \"https://cdn.jsdelivr.net/npm/vega-lib?noext\",\n",
       "      \"vega-lite\": \"https://cdn.jsdelivr.net/npm/vega-lite@5.17.0?noext\",\n",
       "      \"vega-embed\": \"https://cdn.jsdelivr.net/npm/vega-embed@6?noext\",\n",
       "    };\n",
       "\n",
       "    function maybeLoadScript(lib, version) {\n",
       "      var key = `${lib.replace(\"-\", \"\")}_version`;\n",
       "      return (VEGA_DEBUG[key] == version) ?\n",
       "        Promise.resolve(paths[lib]) :\n",
       "        new Promise(function(resolve, reject) {\n",
       "          var s = document.createElement('script');\n",
       "          document.getElementsByTagName(\"head\")[0].appendChild(s);\n",
       "          s.async = true;\n",
       "          s.onload = () => {\n",
       "            VEGA_DEBUG[key] = version;\n",
       "            return resolve(paths[lib]);\n",
       "          };\n",
       "          s.onerror = () => reject(`Error loading script: ${paths[lib]}`);\n",
       "          s.src = paths[lib];\n",
       "        });\n",
       "    }\n",
       "\n",
       "    function showError(err) {\n",
       "      outputDiv.innerHTML = `<div class=\"error\" style=\"color:red;\">${err}</div>`;\n",
       "      throw err;\n",
       "    }\n",
       "\n",
       "    function displayChart(vegaEmbed) {\n",
       "      vegaEmbed(outputDiv, spec, embedOpt)\n",
       "        .catch(err => showError(`Javascript Error: ${err.message}<br>This usually means there's a typo in your chart specification. See the javascript console for the full traceback.`));\n",
       "    }\n",
       "\n",
       "    if(typeof define === \"function\" && define.amd) {\n",
       "      requirejs.config({paths});\n",
       "      require([\"vega-embed\"], displayChart, err => showError(`Error loading script: ${err.message}`));\n",
       "    } else {\n",
       "      maybeLoadScript(\"vega\", \"5\")\n",
       "        .then(() => maybeLoadScript(\"vega-lite\", \"5.17.0\"))\n",
       "        .then(() => maybeLoadScript(\"vega-embed\", \"6\"))\n",
       "        .catch(showError)\n",
       "        .then(() => displayChart(vegaEmbed));\n",
       "    }\n",
       "  })({\"config\": {\"view\": {\"continuousWidth\": 300, \"continuousHeight\": 300}}, \"layer\": [{\"mark\": {\"type\": \"rect\"}, \"encoding\": {\"color\": {\"field\": \"tfidf\", \"type\": \"quantitative\"}, \"x\": {\"field\": \"rank\", \"type\": \"ordinal\"}, \"y\": {\"field\": \"document\", \"type\": \"nominal\"}}, \"transform\": [{\"window\": [{\"op\": \"rank\", \"field\": \"\", \"as\": \"rank\"}], \"groupby\": [\"document\"], \"sort\": [{\"field\": \"tfidf\", \"order\": \"descending\"}]}]}, {\"mark\": {\"type\": \"circle\", \"size\": 100}, \"encoding\": {\"color\": {\"condition\": {\"test\": {\"field\": \"term\", \"oneOf\": [\"war\", \"peace\"]}, \"value\": \"red\"}, \"value\": \"#FFFFFF00\"}, \"x\": {\"field\": \"rank\", \"type\": \"ordinal\"}, \"y\": {\"field\": \"document\", \"type\": \"nominal\"}}, \"transform\": [{\"window\": [{\"op\": \"rank\", \"field\": \"\", \"as\": \"rank\"}], \"groupby\": [\"document\"], \"sort\": [{\"field\": \"tfidf\", \"order\": \"descending\"}]}]}, {\"mark\": {\"type\": \"text\", \"baseline\": \"middle\"}, \"encoding\": {\"color\": {\"condition\": {\"test\": \"(datum.tfidf >= 0.23)\", \"value\": \"white\"}, \"value\": \"black\"}, \"text\": {\"field\": \"term\", \"type\": \"nominal\"}, \"x\": {\"field\": \"rank\", \"type\": \"ordinal\"}, \"y\": {\"field\": \"document\", \"type\": \"nominal\"}}, \"transform\": [{\"window\": [{\"op\": \"rank\", \"field\": \"\", \"as\": \"rank\"}], \"groupby\": [\"document\"], \"sort\": [{\"field\": \"tfidf\", \"order\": \"descending\"}]}]}], \"data\": {\"name\": \"data-3ba224a03c3ceb5d0e5a6339ece92b71\"}, \"width\": 600, \"$schema\": \"https://vega.github.io/schema/vega-lite/v5.17.0.json\", \"datasets\": {\"data-3ba224a03c3ceb5d0e5a6339ece92b71\": [{\"document\": \"00_preface_buch01\", \"term\": \"born\", \"tfidf\": 0.4984445138054576}, {\"document\": \"00_preface_buch01\", \"term\": \"th\", \"tfidf\": 0.3358167576449932}, {\"document\": \"00_preface_buch01\", \"term\": \"merchant\", \"tfidf\": 0.2168943214594414}, {\"document\": \"00_preface_buch01\", \"term\": \"von\", \"tfidf\": 0.19727502648979453}, {\"document\": \"00_preface_buch01\", \"term\": \"landsberg\", \"tfidf\": 0.1877816242537552}, {\"document\": \"00_preface_buch01\", \"term\": \"lech\", \"tfidf\": 0.18781417595352093}, {\"document\": \"00_preface_buch01\", \"term\": \"volume\", \"tfidf\": 0.16380408988447923}, {\"document\": \"00_preface_buch01\", \"term\": \"fortress\", \"tfidf\": 0.15454866564621075}, {\"document\": \"00_preface_buch01\", \"term\": \"theodor\", \"tfidf\": 0.12524926000018566}, {\"document\": \"00_preface_buch01\", \"term\": \"august\", \"tfidf\": 0.12290886742612496}, {\"document\": \"Donald Trump & Mike Pence Rally Speech Transcript Traverse City, Michigan 2 November 11_02_20\", \"term\": \"going\", \"tfidf\": 0.2951114657579295}, {\"document\": \"Donald Trump & Mike Pence Rally Speech Transcript Traverse City, Michigan 2 November 11_02_20\", \"term\": \"know\", \"tfidf\": 0.2292679082354311}, {\"document\": \"Donald Trump & Mike Pence Rally Speech Transcript Traverse City, Michigan 2 November 11_02_20\", \"term\": \"said\", \"tfidf\": 0.20973154724120316}, {\"document\": \"Donald Trump & Mike Pence Rally Speech Transcript Traverse City, Michigan 2 November 11_02_20\", \"term\": \"want\", \"tfidf\": 0.19869094253199693}, {\"document\": \"Donald Trump & Mike Pence Rally Speech Transcript Traverse City, Michigan 2 November 11_02_20\", \"term\": \"great\", \"tfidf\": 0.18116177979575246}, {\"document\": \"Donald Trump & Mike Pence Rally Speech Transcript Traverse City, Michigan 2 November 11_02_20\", \"term\": \"year\", \"tfidf\": 0.14549368748169764}, {\"document\": \"Donald Trump & Mike Pence Rally Speech Transcript Traverse City, Michigan 2 November 11_02_20\", \"term\": \"right\", \"tfidf\": 0.14436736035748346}, {\"document\": \"Donald Trump & Mike Pence Rally Speech Transcript Traverse City, Michigan 2 November 11_02_20\", \"term\": \"one\", \"tfidf\": 0.13936941820617352}, {\"document\": \"Donald Trump & Mike Pence Rally Speech Transcript Traverse City, Michigan 2 November 11_02_20\", \"term\": \"michigan\", \"tfidf\": 0.13840008596013698}, {\"document\": \"Donald Trump & Mike Pence Rally Speech Transcript Traverse City, Michigan 2 November 11_02_20\", \"term\": \"biden\", \"tfidf\": 0.13107540416355645}, {\"document\": \"Donald Trump Addresses NRA Meeting in Indianapolis Transcript 04_17_23\", \"term\": \"gun\", \"tfidf\": 0.24376038655025048}, {\"document\": \"Donald Trump Addresses NRA Meeting in Indianapolis Transcript 04_17_23\", \"term\": \"going\", \"tfidf\": 0.21182812115800365}, {\"document\": \"Donald Trump Addresses NRA Meeting in Indianapolis Transcript 04_17_23\", \"term\": \"want\", \"tfidf\": 0.20325367938787567}, {\"document\": \"Donald Trump Addresses NRA Meeting in Indianapolis Transcript 04_17_23\", \"term\": \"know\", \"tfidf\": 0.17869399771067948}, {\"document\": \"Donald Trump Addresses NRA Meeting in Indianapolis Transcript 04_17_23\", \"term\": \"people\", \"tfidf\": 0.153545383454132}, {\"document\": \"Donald Trump Addresses NRA Meeting in Indianapolis Transcript 04_17_23\", \"term\": \"like\", \"tfidf\": 0.1432258487746582}, {\"document\": \"Donald Trump Addresses NRA Meeting in Indianapolis Transcript 04_17_23\", \"term\": \"lot\", \"tfidf\": 0.13744361912287592}, {\"document\": \"Donald Trump Addresses NRA Meeting in Indianapolis Transcript 04_17_23\", \"term\": \"nra\", \"tfidf\": 0.13507979686849092}, {\"document\": \"Donald Trump Addresses NRA Meeting in Indianapolis Transcript 04_17_23\", \"term\": \"country\", \"tfidf\": 0.13295525530435348}, {\"document\": \"Donald Trump Addresses NRA Meeting in Indianapolis Transcript 04_17_23\", \"term\": \"think\", \"tfidf\": 0.12429288153757265}, {\"document\": \"Donald Trump Alamo, Texas Speech Transcript January 12 25th Amendment Zero Risk to Me 01_12_21\", \"term\": \"border\", \"tfidf\": 0.25634718473907697}, {\"document\": \"Donald Trump Alamo, Texas Speech Transcript January 12 25th Amendment Zero Risk to Me 01_12_21\", \"term\": \"country\", \"tfidf\": 0.24138991949179067}, {\"document\": \"Donald Trump Alamo, Texas Speech Transcript January 12 25th Amendment Zero Risk to Me 01_12_21\", \"term\": \"wall\", \"tfidf\": 0.17964880002446354}, {\"document\": \"Donald Trump Alamo, Texas Speech Transcript January 12 25th Amendment Zero Risk to Me 01_12_21\", \"term\": \"law\", \"tfidf\": 0.15894140776400567}, {\"document\": \"Donald Trump Alamo, Texas Speech Transcript January 12 25th Amendment Zero Risk to Me 01_12_21\", \"term\": \"great\", \"tfidf\": 0.14417299306951917}, {\"document\": \"Donald Trump Alamo, Texas Speech Transcript January 12 25th Amendment Zero Risk to Me 01_12_21\", \"term\": \"gravy\", \"tfidf\": 0.13738614001189092}, {\"document\": \"Donald Trump Alamo, Texas Speech Transcript January 12 25th Amendment Zero Risk to Me 01_12_21\", \"term\": \"people\", \"tfidf\": 0.1318771383585481}, {\"document\": \"Donald Trump Alamo, Texas Speech Transcript January 12 25th Amendment Zero Risk to Me 01_12_21\", \"term\": \"year\", \"tfidf\": 0.12779526723096785}, {\"document\": \"Donald Trump Alamo, Texas Speech Transcript January 12 25th Amendment Zero Risk to Me 01_12_21\", \"term\": \"acre\", \"tfidf\": 0.12661230903373794}, {\"document\": \"Donald Trump Alamo, Texas Speech Transcript January 12 25th Amendment Zero Risk to Me 01_12_21\", \"term\": \"invisible\", \"tfidf\": 0.10307963827089124}, {\"document\": \"Donald Trump CPAC 2021 Speech Transcript 02_28_21\", \"term\": \"country\", \"tfidf\": 0.18007381431662736}, {\"document\": \"Donald Trump CPAC 2021 Speech Transcript 02_28_21\", \"term\": \"going\", \"tfidf\": 0.1655481551328894}, {\"document\": \"Donald Trump CPAC 2021 Speech Transcript 02_28_21\", \"term\": \"want\", \"tfidf\": 0.15804300542116767}, {\"document\": \"Donald Trump CPAC 2021 Speech Transcript 02_28_21\", \"term\": \"know\", \"tfidf\": 0.15710325447790002}, {\"document\": \"Donald Trump CPAC 2021 Speech Transcript 02_28_21\", \"term\": \"great\", \"tfidf\": 0.14346669585666674}, {\"document\": \"Donald Trump CPAC 2021 Speech Transcript 02_28_21\", \"term\": \"people\", \"tfidf\": 0.14087511841191885}, {\"document\": \"Donald Trump CPAC 2021 Speech Transcript 02_28_21\", \"term\": \"said\", \"tfidf\": 0.13926335640255624}, {\"document\": \"Donald Trump CPAC 2021 Speech Transcript 02_28_21\", \"term\": \"election\", \"tfidf\": 0.13346541421253486}, {\"document\": \"Donald Trump CPAC 2021 Speech Transcript 02_28_21\", \"term\": \"biden\", \"tfidf\": 0.1323362437484574}, {\"document\": \"Donald Trump CPAC 2021 Speech Transcript 02_28_21\", \"term\": \"would\", \"tfidf\": 0.13220869143642702}, {\"document\": \"Donald Trump CPAC 2021 Speech Transcript Dallas, TX 07_11_21\", \"term\": \"said\", \"tfidf\": 0.2162122218561457}, {\"document\": \"Donald Trump CPAC 2021 Speech Transcript Dallas, TX 07_11_21\", \"term\": \"going\", \"tfidf\": 0.20921733632370984}, {\"document\": \"Donald Trump CPAC 2021 Speech Transcript Dallas, TX 07_11_21\", \"term\": \"want\", \"tfidf\": 0.17192118324695949}, {\"document\": \"Donald Trump CPAC 2021 Speech Transcript Dallas, TX 07_11_21\", \"term\": \"people\", \"tfidf\": 0.15322053673287309}, {\"document\": \"Donald Trump CPAC 2021 Speech Transcript Dallas, TX 07_11_21\", \"term\": \"country\", \"tfidf\": 0.15161770741711253}, {\"document\": \"Donald Trump CPAC 2021 Speech Transcript Dallas, TX 07_11_21\", \"term\": \"know\", \"tfidf\": 0.1401485939096109}, {\"document\": \"Donald Trump CPAC 2021 Speech Transcript Dallas, TX 07_11_21\", \"term\": \"louie\", \"tfidf\": 0.13912593720455363}, {\"document\": \"Donald Trump CPAC 2021 Speech Transcript Dallas, TX 07_11_21\", \"term\": \"back\", \"tfidf\": 0.1317971353467268}, {\"document\": \"Donald Trump CPAC 2021 Speech Transcript Dallas, TX 07_11_21\", \"term\": \"great\", \"tfidf\": 0.12999425648613544}, {\"document\": \"Donald Trump CPAC 2021 Speech Transcript Dallas, TX 07_11_21\", \"term\": \"right\", \"tfidf\": 0.12667389854114375}, {\"document\": \"Donald Trump Concedes Election, Condemns Rioters Video Speech Transcript January 7 01_07_21\", \"term\": \"must\", \"tfidf\": 0.16908962827037405}, {\"document\": \"Donald Trump Concedes Election, Condemns Rioters Video Speech Transcript January 7 01_07_21\", \"term\": \"capitol\", \"tfidf\": 0.15250031490260355}, {\"document\": \"Donald Trump Concedes Election, Condemns Rioters Video Speech Transcript January 7 01_07_21\", \"term\": \"require\", \"tfidf\": 0.14721663890070955}, {\"document\": \"Donald Trump Concedes Election, Condemns Rioters Video Speech Transcript January 7 01_07_21\", \"term\": \"law\", \"tfidf\": 0.13860216258837457}, {\"document\": \"Donald Trump Concedes Election, Condemns Rioters Video Speech Transcript January 7 01_07_21\", \"term\": \"violence\", \"tfidf\": 0.13820583237217884}, {\"document\": \"Donald Trump Concedes Election, Condemns Rioters Video Speech Transcript January 7 01_07_21\", \"term\": \"demonstrator\", \"tfidf\": 0.13483226727451708}, {\"document\": \"Donald Trump Concedes Election, Condemns Rioters Video Speech Transcript January 7 01_07_21\", \"term\": \"inaugurated\", \"tfidf\": 0.13481040963691443}, {\"document\": \"Donald Trump Concedes Election, Condemns Rioters Video Speech Transcript January 7 01_07_21\", \"term\": \"seamless\", \"tfidf\": 0.1348183480891208}, {\"document\": \"Donald Trump Concedes Election, Condemns Rioters Video Speech Transcript January 7 01_07_21\", \"term\": \"upended\", \"tfidf\": 0.13478534792061636}, {\"document\": \"Donald Trump Concedes Election, Condemns Rioters Video Speech Transcript January 7 01_07_21\", \"term\": \"election\", \"tfidf\": 0.13423497147236504}, {\"document\": \"Donald Trump Cullman, Alabama Rally Speech Transcript 08_22_21\", \"term\": \"said\", \"tfidf\": 0.26583254408528645}, {\"document\": \"Donald Trump Cullman, Alabama Rally Speech Transcript 08_22_21\", \"term\": \"going\", \"tfidf\": 0.24613207122329725}, {\"document\": \"Donald Trump Cullman, Alabama Rally Speech Transcript 08_22_21\", \"term\": \"alabama\", \"tfidf\": 0.1917057402524}, {\"document\": \"Donald Trump Cullman, Alabama Rally Speech Transcript 08_22_21\", \"term\": \"people\", \"tfidf\": 0.18496462889576729}, {\"document\": \"Donald Trump Cullman, Alabama Rally Speech Transcript 08_22_21\", \"term\": \"country\", \"tfidf\": 0.17248451324675448}, {\"document\": \"Donald Trump Cullman, Alabama Rally Speech Transcript 08_22_21\", \"term\": \"great\", \"tfidf\": 0.1678636396445877}, {\"document\": \"Donald Trump Cullman, Alabama Rally Speech Transcript 08_22_21\", \"term\": \"know\", \"tfidf\": 0.14814135518136443}, {\"document\": \"Donald Trump Cullman, Alabama Rally Speech Transcript 08_22_21\", \"term\": \"got\", \"tfidf\": 0.12796863742636275}, {\"document\": \"Donald Trump Cullman, Alabama Rally Speech Transcript 08_22_21\", \"term\": \"never\", \"tfidf\": 0.11946465028148652}, {\"document\": \"Donald Trump Cullman, Alabama Rally Speech Transcript 08_22_21\", \"term\": \"tommy\", \"tfidf\": 0.11870868211708592}, {\"document\": \"Donald Trump Delivers Keynote Speech at New Hampshire GOP Annual Meeting Transcript 01_30_23\", \"term\": \"going\", \"tfidf\": 0.28164100671385073}, {\"document\": \"Donald Trump Delivers Keynote Speech at New Hampshire GOP Annual Meeting Transcript 01_30_23\", \"term\": \"said\", \"tfidf\": 0.2665144457047876}, {\"document\": \"Donald Trump Delivers Keynote Speech at New Hampshire GOP Annual Meeting Transcript 01_30_23\", \"term\": \"people\", \"tfidf\": 0.17194704714992812}, {\"document\": \"Donald Trump Delivers Keynote Speech at New Hampshire GOP Annual Meeting Transcript 01_30_23\", \"term\": \"sir\", \"tfidf\": 0.16371895150520888}, {\"document\": \"Donald Trump Delivers Keynote Speech at New Hampshire GOP Annual Meeting Transcript 01_30_23\", \"term\": \"think\", \"tfidf\": 0.15709149094262803}, {\"document\": \"Donald Trump Delivers Keynote Speech at New Hampshire GOP Annual Meeting Transcript 01_30_23\", \"term\": \"right\", \"tfidf\": 0.13937941215592695}, {\"document\": \"Donald Trump Delivers Keynote Speech at New Hampshire GOP Annual Meeting Transcript 01_30_23\", \"term\": \"steve\", \"tfidf\": 0.1375510785628536}, {\"document\": \"Donald Trump Delivers Keynote Speech at New Hampshire GOP Annual Meeting Transcript 01_30_23\", \"term\": \"want\", \"tfidf\": 0.13444832830283324}, {\"document\": \"Donald Trump Delivers Keynote Speech at New Hampshire GOP Annual Meeting Transcript 01_30_23\", \"term\": \"country\", \"tfidf\": 0.1257473131679185}, {\"document\": \"Donald Trump Delivers Keynote Speech at New Hampshire GOP Annual Meeting Transcript 01_30_23\", \"term\": \"would\", \"tfidf\": 0.12451208674215611}, {\"document\": \"Donald Trump Delivers Keynote Speech in Florida 4_21_22 Transcript 04_24_22\", \"term\": \"said\", \"tfidf\": 0.25938643561915553}, {\"document\": \"Donald Trump Delivers Keynote Speech in Florida 4_21_22 Transcript 04_24_22\", \"term\": \"going\", \"tfidf\": 0.2123366023603612}, {\"document\": \"Donald Trump Delivers Keynote Speech in Florida 4_21_22 Transcript 04_24_22\", \"term\": \"people\", \"tfidf\": 0.18582259379881483}, {\"document\": \"Donald Trump Delivers Keynote Speech in Florida 4_21_22 Transcript 04_24_22\", \"term\": \"country\", \"tfidf\": 0.15519489463760466}, {\"document\": \"Donald Trump Delivers Keynote Speech in Florida 4_21_22 Transcript 04_24_22\", \"term\": \"sir\", \"tfidf\": 0.14567973954967012}, {\"document\": \"Donald Trump Delivers Keynote Speech in Florida 4_21_22 Transcript 04_24_22\", \"term\": \"know\", \"tfidf\": 0.1419484787020158}, {\"document\": \"Donald Trump Delivers Keynote Speech in Florida 4_21_22 Transcript 04_24_22\", \"term\": \"thing\", \"tfidf\": 0.1356735252694454}, {\"document\": \"Donald Trump Delivers Keynote Speech in Florida 4_21_22 Transcript 04_24_22\", \"term\": \"one\", \"tfidf\": 0.1321221896335304}, {\"document\": \"Donald Trump Delivers Keynote Speech in Florida 4_21_22 Transcript 04_24_22\", \"term\": \"want\", \"tfidf\": 0.13178690089761513}, {\"document\": \"Donald Trump Delivers Keynote Speech in Florida 4_21_22 Transcript 04_24_22\", \"term\": \"right\", \"tfidf\": 0.12906788089467103}, {\"document\": \"Donald Trump Delivers Speech in South Carolina Transcript 02_12_24\", \"term\": \"got\", \"tfidf\": 0.22469781746207126}, {\"document\": \"Donald Trump Delivers Speech in South Carolina Transcript 02_12_24\", \"term\": \"said\", \"tfidf\": 0.20476322002443254}, {\"document\": \"Donald Trump Delivers Speech in South Carolina Transcript 02_12_24\", \"term\": \"like\", \"tfidf\": 0.19152019290412028}, {\"document\": \"Donald Trump Delivers Speech in South Carolina Transcript 02_12_24\", \"term\": \"people\", \"tfidf\": 0.19116818040300998}, {\"document\": \"Donald Trump Delivers Speech in South Carolina Transcript 02_12_24\", \"term\": \"going\", \"tfidf\": 0.17945587931424034}, {\"document\": \"Donald Trump Delivers Speech in South Carolina Transcript 02_12_24\", \"term\": \"say\", \"tfidf\": 0.17084663313933962}, {\"document\": \"Donald Trump Delivers Speech in South Carolina Transcript 02_12_24\", \"term\": \"know\", \"tfidf\": 0.15845141865857326}, {\"document\": \"Donald Trump Delivers Speech in South Carolina Transcript 02_12_24\", \"term\": \"get\", \"tfidf\": 0.1347018223506352}, {\"document\": \"Donald Trump Delivers Speech in South Carolina Transcript 02_12_24\", \"term\": \"president\", \"tfidf\": 0.1302905734602325}, {\"document\": \"Donald Trump Delivers Speech in South Carolina Transcript 02_12_24\", \"term\": \"great\", \"tfidf\": 0.1276896959788429}, {\"document\": \"Donald Trump Des Moines, Iowa Rally Speech Transcript October 9 10_09_21\", \"term\": \"people\", \"tfidf\": 0.2328822119847611}, {\"document\": \"Donald Trump Des Moines, Iowa Rally Speech Transcript October 9 10_09_21\", \"term\": \"said\", \"tfidf\": 0.2015220529137837}, {\"document\": \"Donald Trump Des Moines, Iowa Rally Speech Transcript October 9 10_09_21\", \"term\": \"country\", \"tfidf\": 0.2011634300845259}, {\"document\": \"Donald Trump Des Moines, Iowa Rally Speech Transcript October 9 10_09_21\", \"term\": \"great\", \"tfidf\": 0.18424360365297462}, {\"document\": \"Donald Trump Des Moines, Iowa Rally Speech Transcript October 9 10_09_21\", \"term\": \"going\", \"tfidf\": 0.18295866516113202}, {\"document\": \"Donald Trump Des Moines, Iowa Rally Speech Transcript October 9 10_09_21\", \"term\": \"want\", \"tfidf\": 0.15828041054718564}, {\"document\": \"Donald Trump Des Moines, Iowa Rally Speech Transcript October 9 10_09_21\", \"term\": \"sir\", \"tfidf\": 0.14402422665670347}, {\"document\": \"Donald Trump Des Moines, Iowa Rally Speech Transcript October 9 10_09_21\", \"term\": \"think\", \"tfidf\": 0.1395462824632759}, {\"document\": \"Donald Trump Des Moines, Iowa Rally Speech Transcript October 9 10_09_21\", \"term\": \"know\", \"tfidf\": 0.1375509276797509}, {\"document\": \"Donald Trump Des Moines, Iowa Rally Speech Transcript October 9 10_09_21\", \"term\": \"election\", \"tfidf\": 0.12909208476588643}, {\"document\": \"Donald Trump Election Campaign Rally in Sioux Center, Iowa Transcript 01_08_24\", \"term\": \"going\", \"tfidf\": 0.3325496833563321}, {\"document\": \"Donald Trump Election Campaign Rally in Sioux Center, Iowa Transcript 01_08_24\", \"term\": \"said\", \"tfidf\": 0.2854637051000059}, {\"document\": \"Donald Trump Election Campaign Rally in Sioux Center, Iowa Transcript 01_08_24\", \"term\": \"people\", \"tfidf\": 0.19503433818436725}, {\"document\": \"Donald Trump Election Campaign Rally in Sioux Center, Iowa Transcript 01_08_24\", \"term\": \"say\", \"tfidf\": 0.17636186340008228}, {\"document\": \"Donald Trump Election Campaign Rally in Sioux Center, Iowa Transcript 01_08_24\", \"term\": \"country\", \"tfidf\": 0.1658195284496594}, {\"document\": \"Donald Trump Election Campaign Rally in Sioux Center, Iowa Transcript 01_08_24\", \"term\": \"get\", \"tfidf\": 0.1596681774803474}, {\"document\": \"Donald Trump Election Campaign Rally in Sioux Center, Iowa Transcript 01_08_24\", \"term\": \"got\", \"tfidf\": 0.14337729839027036}, {\"document\": \"Donald Trump Election Campaign Rally in Sioux Center, Iowa Transcript 01_08_24\", \"term\": \"know\", \"tfidf\": 0.13912445829083886}, {\"document\": \"Donald Trump Election Campaign Rally in Sioux Center, Iowa Transcript 01_08_24\", \"term\": \"like\", \"tfidf\": 0.13700472434357633}, {\"document\": \"Donald Trump Election Campaign Rally in Sioux Center, Iowa Transcript 01_08_24\", \"term\": \"want\", \"tfidf\": 0.13255834064265504}, {\"document\": \"Donald Trump Election Day Interview Transcript Fox & Friends 11_03_20\", \"term\": \"think\", \"tfidf\": 0.3609257228781056}, {\"document\": \"Donald Trump Election Day Interview Transcript Fox & Friends 11_03_20\", \"term\": \"people\", \"tfidf\": 0.30260015726123757}, {\"document\": \"Donald Trump Election Day Interview Transcript Fox & Friends 11_03_20\", \"term\": \"going\", \"tfidf\": 0.19215497128533132}, {\"document\": \"Donald Trump Election Day Interview Transcript Fox & Friends 11_03_20\", \"term\": \"like\", \"tfidf\": 0.14511280741176813}, {\"document\": \"Donald Trump Election Day Interview Transcript Fox & Friends 11_03_20\", \"term\": \"thing\", \"tfidf\": 0.1393276903986977}, {\"document\": \"Donald Trump Election Day Interview Transcript Fox & Friends 11_03_20\", \"term\": \"well\", \"tfidf\": 0.1382765298306233}, {\"document\": \"Donald Trump Election Day Interview Transcript Fox & Friends 11_03_20\", \"term\": \"time\", \"tfidf\": 0.13105363895929603}, {\"document\": \"Donald Trump Election Day Interview Transcript Fox & Friends 11_03_20\", \"term\": \"got\", \"tfidf\": 0.12297004533718128}, {\"document\": \"Donald Trump Election Day Interview Transcript Fox & Friends 11_03_20\", \"term\": \"cop\", \"tfidf\": 0.12275341506240098}, {\"document\": \"Donald Trump Election Day Interview Transcript Fox & Friends 11_03_20\", \"term\": \"say\", \"tfidf\": 0.12032970597917603}, {\"document\": \"Donald Trump Georgia Phone Call Transcript with Sec. of State Brad Raffensperger. Says He Wants to \\u2018Find\\u2019 Votes 01_04_21\", \"term\": \"brad\", \"tfidf\": 0.31832255735150855}, {\"document\": \"Donald Trump Georgia Phone Call Transcript with Sec. of State Brad Raffensperger. Says He Wants to \\u2018Find\\u2019 Votes 01_04_21\", \"term\": \"ballot\", \"tfidf\": 0.3095121746734357}, {\"document\": \"Donald Trump Georgia Phone Call Transcript with Sec. of State Brad Raffensperger. Says He Wants to \\u2018Find\\u2019 Votes 01_04_21\", \"term\": \"ruby\", \"tfidf\": 0.25871679808487374}, {\"document\": \"Donald Trump Georgia Phone Call Transcript with Sec. of State Brad Raffensperger. Says He Wants to \\u2018Find\\u2019 Votes 01_04_21\", \"term\": \"vote\", \"tfidf\": 0.24038610860626985}, {\"document\": \"Donald Trump Georgia Phone Call Transcript with Sec. of State Brad Raffensperger. Says He Wants to \\u2018Find\\u2019 Votes 01_04_21\", \"term\": \"number\", \"tfidf\": 0.20854207471023326}, {\"document\": \"Donald Trump Georgia Phone Call Transcript with Sec. of State Brad Raffensperger. Says He Wants to \\u2018Find\\u2019 Votes 01_04_21\", \"term\": \"freeman\", \"tfidf\": 0.1868246048545242}, {\"document\": \"Donald Trump Georgia Phone Call Transcript with Sec. of State Brad Raffensperger. Says He Wants to \\u2018Find\\u2019 Votes 01_04_21\", \"term\": \"know\", \"tfidf\": 0.16239501271010442}, {\"document\": \"Donald Trump Georgia Phone Call Transcript with Sec. of State Brad Raffensperger. Says He Wants to \\u2018Find\\u2019 Votes 01_04_21\", \"term\": \"georgia\", \"tfidf\": 0.15947670846860662}, {\"document\": \"Donald Trump Georgia Phone Call Transcript with Sec. of State Brad Raffensperger. Says He Wants to \\u2018Find\\u2019 Votes 01_04_21\", \"term\": \"ryan\", \"tfidf\": 0.14366822902169632}, {\"document\": \"Donald Trump Georgia Phone Call Transcript with Sec. of State Brad Raffensperger. Says He Wants to \\u2018Find\\u2019 Votes 01_04_21\", \"term\": \"going\", \"tfidf\": 0.142096531887087}, {\"document\": \"Donald Trump Holds Campaign Event In Rochester, New Hampshire Transcript 01_22_24\", \"term\": \"going\", \"tfidf\": 0.3015236827824906}, {\"document\": \"Donald Trump Holds Campaign Event In Rochester, New Hampshire Transcript 01_22_24\", \"term\": \"people\", \"tfidf\": 0.21031801657681956}, {\"document\": \"Donald Trump Holds Campaign Event In Rochester, New Hampshire Transcript 01_22_24\", \"term\": \"want\", \"tfidf\": 0.1845085311127276}, {\"document\": \"Donald Trump Holds Campaign Event In Rochester, New Hampshire Transcript 01_22_24\", \"term\": \"said\", \"tfidf\": 0.1760868759077186}, {\"document\": \"Donald Trump Holds Campaign Event In Rochester, New Hampshire Transcript 01_22_24\", \"term\": \"like\", \"tfidf\": 0.160786125257064}, {\"document\": \"Donald Trump Holds Campaign Event In Rochester, New Hampshire Transcript 01_22_24\", \"term\": \"get\", \"tfidf\": 0.15909132524787478}, {\"document\": \"Donald Trump Holds Campaign Event In Rochester, New Hampshire Transcript 01_22_24\", \"term\": \"know\", \"tfidf\": 0.1555979316940266}, {\"document\": \"Donald Trump Holds Campaign Event In Rochester, New Hampshire Transcript 01_22_24\", \"term\": \"country\", \"tfidf\": 0.145918206509425}, {\"document\": \"Donald Trump Holds Campaign Event In Rochester, New Hampshire Transcript 01_22_24\", \"term\": \"one\", \"tfidf\": 0.1381741807928938}, {\"document\": \"Donald Trump Holds Campaign Event In Rochester, New Hampshire Transcript 01_22_24\", \"term\": \"go\", \"tfidf\": 0.129945111264909}, {\"document\": \"Donald Trump Holds Final Rally Before N.H. Primary Transcript 01_23_24\", \"term\": \"going\", \"tfidf\": 0.37545492126617924}, {\"document\": \"Donald Trump Holds Final Rally Before N.H. Primary Transcript 01_23_24\", \"term\": \"country\", \"tfidf\": 0.20280517367345313}, {\"document\": \"Donald Trump Holds Final Rally Before N.H. Primary Transcript 01_23_24\", \"term\": \"people\", \"tfidf\": 0.16756071593307728}, {\"document\": \"Donald Trump Holds Final Rally Before N.H. Primary Transcript 01_23_24\", \"term\": \"want\", \"tfidf\": 0.1503417197497935}, {\"document\": \"Donald Trump Holds Final Rally Before N.H. Primary Transcript 01_23_24\", \"term\": \"get\", \"tfidf\": 0.13465599394053238}, {\"document\": \"Donald Trump Holds Final Rally Before N.H. Primary Transcript 01_23_24\", \"term\": \"one\", \"tfidf\": 0.13050167808495114}, {\"document\": \"Donald Trump Holds Final Rally Before N.H. Primary Transcript 01_23_24\", \"term\": \"nation\", \"tfidf\": 0.13048448843972876}, {\"document\": \"Donald Trump Holds Final Rally Before N.H. Primary Transcript 01_23_24\", \"term\": \"know\", \"tfidf\": 0.12960340911532647}, {\"document\": \"Donald Trump Holds Final Rally Before N.H. Primary Transcript 01_23_24\", \"term\": \"right\", \"tfidf\": 0.12074738942007403}, {\"document\": \"Donald Trump Holds Final Rally Before N.H. Primary Transcript 01_23_24\", \"term\": \"biden\", \"tfidf\": 0.11745228844268671}, {\"document\": \"Donald Trump Hosts First 2024 Presidential Campaign Rally in Waco, Texas Transcript 03_27_23\", \"term\": \"people\", \"tfidf\": 0.2508201233879631}, {\"document\": \"Donald Trump Hosts First 2024 Presidential Campaign Rally in Waco, Texas Transcript 03_27_23\", \"term\": \"like\", \"tfidf\": 0.1872441490085808}, {\"document\": \"Donald Trump Hosts First 2024 Presidential Campaign Rally in Waco, Texas Transcript 03_27_23\", \"term\": \"one\", \"tfidf\": 0.18468484885317937}, {\"document\": \"Donald Trump Hosts First 2024 Presidential Campaign Rally in Waco, Texas Transcript 03_27_23\", \"term\": \"great\", \"tfidf\": 0.17715355700246524}, {\"document\": \"Donald Trump Hosts First 2024 Presidential Campaign Rally in Waco, Texas Transcript 03_27_23\", \"term\": \"said\", \"tfidf\": 0.16175239035293568}, {\"document\": \"Donald Trump Hosts First 2024 Presidential Campaign Rally in Waco, Texas Transcript 03_27_23\", \"term\": \"going\", \"tfidf\": 0.16079587114924948}, {\"document\": \"Donald Trump Hosts First 2024 Presidential Campaign Rally in Waco, Texas Transcript 03_27_23\", \"term\": \"country\", \"tfidf\": 0.15203176476093946}, {\"document\": \"Donald Trump Hosts First 2024 Presidential Campaign Rally in Waco, Texas Transcript 03_27_23\", \"term\": \"know\", \"tfidf\": 0.15162738362870587}, {\"document\": \"Donald Trump Hosts First 2024 Presidential Campaign Rally in Waco, Texas Transcript 03_27_23\", \"term\": \"got\", \"tfidf\": 0.14526168027463193}, {\"document\": \"Donald Trump Hosts First 2024 Presidential Campaign Rally in Waco, Texas Transcript 03_27_23\", \"term\": \"want\", \"tfidf\": 0.14482887579215775}, {\"document\": \"Donald Trump Hosts Operation Warp Speed COVID-19 Vaccine Summit Transcript 8 December 12_08_20\", \"term\": \"thank\", \"tfidf\": 0.3738693684367767}, {\"document\": \"Donald Trump Hosts Operation Warp Speed COVID-19 Vaccine Summit Transcript 8 December 12_08_20\", \"term\": \"vaccine\", \"tfidf\": 0.3301095078112404}, {\"document\": \"Donald Trump Hosts Operation Warp Speed COVID-19 Vaccine Summit Transcript 8 December 12_08_20\", \"term\": \"much\", \"tfidf\": 0.16762043258498874}, {\"document\": \"Donald Trump Hosts Operation Warp Speed COVID-19 Vaccine Summit Transcript 8 December 12_08_20\", \"term\": \"think\", \"tfidf\": 0.14696463893301007}, {\"document\": \"Donald Trump Hosts Operation Warp Speed COVID-19 Vaccine Summit Transcript 8 December 12_08_20\", \"term\": \"johnson\", \"tfidf\": 0.1239998293632614}, {\"document\": \"Donald Trump Hosts Operation Warp Speed COVID-19 Vaccine Summit Transcript 8 December 12_08_20\", \"term\": \"great\", \"tfidf\": 0.11820283706336701}, {\"document\": \"Donald Trump Hosts Operation Warp Speed COVID-19 Vaccine Summit Transcript 8 December 12_08_20\", \"term\": \"alex\", \"tfidf\": 0.1159482444413087}, {\"document\": \"Donald Trump Hosts Operation Warp Speed COVID-19 Vaccine Summit Transcript 8 December 12_08_20\", \"term\": \"test\", \"tfidf\": 0.11168781485415001}, {\"document\": \"Donald Trump Hosts Operation Warp Speed COVID-19 Vaccine Summit Transcript 8 December 12_08_20\", \"term\": \"american\", \"tfidf\": 0.11029560783219827}, {\"document\": \"Donald Trump Hosts Operation Warp Speed COVID-19 Vaccine Summit Transcript 8 December 12_08_20\", \"term\": \"deborah\", \"tfidf\": 0.10566624207812995}, {\"document\": \"Donald Trump Perry, Georgia Rally Speech Transcript 25 September 09_26_21\", \"term\": \"going\", \"tfidf\": 0.20690870310412124}, {\"document\": \"Donald Trump Perry, Georgia Rally Speech Transcript 25 September 09_26_21\", \"term\": \"people\", \"tfidf\": 0.20260277514083885}, {\"document\": \"Donald Trump Perry, Georgia Rally Speech Transcript 25 September 09_26_21\", \"term\": \"said\", \"tfidf\": 0.1966479532386655}, {\"document\": \"Donald Trump Perry, Georgia Rally Speech Transcript 25 September 09_26_21\", \"term\": \"great\", \"tfidf\": 0.16840905801647976}, {\"document\": \"Donald Trump Perry, Georgia Rally Speech Transcript 25 September 09_26_21\", \"term\": \"election\", \"tfidf\": 0.1645429950238296}, {\"document\": \"Donald Trump Perry, Georgia Rally Speech Transcript 25 September 09_26_21\", \"term\": \"country\", \"tfidf\": 0.16101630561817426}, {\"document\": \"Donald Trump Perry, Georgia Rally Speech Transcript 25 September 09_26_21\", \"term\": \"vote\", \"tfidf\": 0.15278830615824976}, {\"document\": \"Donald Trump Perry, Georgia Rally Speech Transcript 25 September 09_26_21\", \"term\": \"one\", \"tfidf\": 0.14862876054135488}, {\"document\": \"Donald Trump Perry, Georgia Rally Speech Transcript 25 September 09_26_21\", \"term\": \"georgia\", \"tfidf\": 0.1460133692002594}, {\"document\": \"Donald Trump Perry, Georgia Rally Speech Transcript 25 September 09_26_21\", \"term\": \"know\", \"tfidf\": 0.14337247120144084}, {\"document\": \"Donald Trump Phoenix, Arizona Rally Speech Transcript 24 July 07_24_21\", \"term\": \"going\", \"tfidf\": 0.33514515626899277}, {\"document\": \"Donald Trump Phoenix, Arizona Rally Speech Transcript 24 July 07_24_21\", \"term\": \"people\", \"tfidf\": 0.1902404939445704}, {\"document\": \"Donald Trump Phoenix, Arizona Rally Speech Transcript 24 July 07_24_21\", \"term\": \"said\", \"tfidf\": 0.1841513446780767}, {\"document\": \"Donald Trump Phoenix, Arizona Rally Speech Transcript 24 July 07_24_21\", \"term\": \"want\", \"tfidf\": 0.17449952673445077}, {\"document\": \"Donald Trump Phoenix, Arizona Rally Speech Transcript 24 July 07_24_21\", \"term\": \"know\", \"tfidf\": 0.15969456034114002}, {\"document\": \"Donald Trump Phoenix, Arizona Rally Speech Transcript 24 July 07_24_21\", \"term\": \"election\", \"tfidf\": 0.15383284082151036}, {\"document\": \"Donald Trump Phoenix, Arizona Rally Speech Transcript 24 July 07_24_21\", \"term\": \"kelly\", \"tfidf\": 0.14877483756835594}, {\"document\": \"Donald Trump Phoenix, Arizona Rally Speech Transcript 24 July 07_24_21\", \"term\": \"arizona\", \"tfidf\": 0.14316580299101975}, {\"document\": \"Donald Trump Phoenix, Arizona Rally Speech Transcript 24 July 07_24_21\", \"term\": \"say\", \"tfidf\": 0.14027886121644859}, {\"document\": \"Donald Trump Phoenix, Arizona Rally Speech Transcript 24 July 07_24_21\", \"term\": \"country\", \"tfidf\": 0.12147474602041017}, {\"document\": \"Donald Trump Press Conference Announcement Transcript. Sues Facebook, Twitter, Google Over Censorship Claims 07_07_21\", \"term\": \"jen\", \"tfidf\": 0.2139703450451251}, {\"document\": \"Donald Trump Press Conference Announcement Transcript. Sues Facebook, Twitter, Google Over Censorship Claims 07_07_21\", \"term\": \"people\", \"tfidf\": 0.18911717040388487}, {\"document\": \"Donald Trump Press Conference Announcement Transcript. Sues Facebook, Twitter, Google Over Censorship Claims 07_07_21\", \"term\": \"going\", \"tfidf\": 0.15862381752234173}, {\"document\": \"Donald Trump Press Conference Announcement Transcript. Sues Facebook, Twitter, Google Over Censorship Claims 07_07_21\", \"term\": \"thank\", \"tfidf\": 0.15857978426865277}, {\"document\": \"Donald Trump Press Conference Announcement Transcript. Sues Facebook, Twitter, Google Over Censorship Claims 07_07_21\", \"term\": \"tech\", \"tfidf\": 0.15083237345925338}, {\"document\": \"Donald Trump Press Conference Announcement Transcript. Sues Facebook, Twitter, Google Over Censorship Claims 07_07_21\", \"term\": \"say\", \"tfidf\": 0.14115163808550255}, {\"document\": \"Donald Trump Press Conference Announcement Transcript. Sues Facebook, Twitter, Google Over Censorship Claims 07_07_21\", \"term\": \"like\", \"tfidf\": 0.13472856512651163}, {\"document\": \"Donald Trump Press Conference Announcement Transcript. Sues Facebook, Twitter, Google Over Censorship Claims 07_07_21\", \"term\": \"want\", \"tfidf\": 0.12730110556842822}, {\"document\": \"Donald Trump Press Conference Announcement Transcript. Sues Facebook, Twitter, Google Over Censorship Claims 07_07_21\", \"term\": \"thing\", \"tfidf\": 0.11757899859744363}, {\"document\": \"Donald Trump Press Conference Announcement Transcript. Sues Facebook, Twitter, Google Over Censorship Claims 07_07_21\", \"term\": \"would\", \"tfidf\": 0.11229621315847994}, {\"document\": \"Donald Trump Rally In Greenwood, Nebraska 5_1_22 Transcript 05_03_22\", \"term\": \"going\", \"tfidf\": 0.245735829102768}, {\"document\": \"Donald Trump Rally In Greenwood, Nebraska 5_1_22 Transcript 05_03_22\", \"term\": \"said\", \"tfidf\": 0.2350292107508551}, {\"document\": \"Donald Trump Rally In Greenwood, Nebraska 5_1_22 Transcript 05_03_22\", \"term\": \"know\", \"tfidf\": 0.19642286156475422}, {\"document\": \"Donald Trump Rally In Greenwood, Nebraska 5_1_22 Transcript 05_03_22\", \"term\": \"people\", \"tfidf\": 0.19541079019988233}, {\"document\": \"Donald Trump Rally In Greenwood, Nebraska 5_1_22 Transcript 05_03_22\", \"term\": \"charles\", \"tfidf\": 0.17279305109835577}, {\"document\": \"Donald Trump Rally In Greenwood, Nebraska 5_1_22 Transcript 05_03_22\", \"term\": \"think\", \"tfidf\": 0.17050075403181827}, {\"document\": \"Donald Trump Rally In Greenwood, Nebraska 5_1_22 Transcript 05_03_22\", \"term\": \"want\", \"tfidf\": 0.16960397544405278}, {\"document\": \"Donald Trump Rally In Greenwood, Nebraska 5_1_22 Transcript 05_03_22\", \"term\": \"nebraska\", \"tfidf\": 0.1537493084422793}, {\"document\": \"Donald Trump Rally In Greenwood, Nebraska 5_1_22 Transcript 05_03_22\", \"term\": \"say\", \"tfidf\": 0.15042368105624893}, {\"document\": \"Donald Trump Rally In Greenwood, Nebraska 5_1_22 Transcript 05_03_22\", \"term\": \"like\", \"tfidf\": 0.13787276967048648}, {\"document\": \"Donald Trump Rally Speech Transcript Dalton, Georgia. Senate Runoff Election 01_04_21\", \"term\": \"kelly\", \"tfidf\": 0.3116059830769148}, {\"document\": \"Donald Trump Rally Speech Transcript Dalton, Georgia. Senate Runoff Election 01_04_21\", \"term\": \"georgia\", \"tfidf\": 0.2538769615486582}, {\"document\": \"Donald Trump Rally Speech Transcript Dalton, Georgia. Senate Runoff Election 01_04_21\", \"term\": \"want\", \"tfidf\": 0.1995395720277597}, {\"document\": \"Donald Trump Rally Speech Transcript Dalton, Georgia. Senate Runoff Election 01_04_21\", \"term\": \"vote\", \"tfidf\": 0.19899511387221264}, {\"document\": \"Donald Trump Rally Speech Transcript Dalton, Georgia. Senate Runoff Election 01_04_21\", \"term\": \"david\", \"tfidf\": 0.198299902056556}, {\"document\": \"Donald Trump Rally Speech Transcript Dalton, Georgia. Senate Runoff Election 01_04_21\", \"term\": \"going\", \"tfidf\": 0.1821855746872577}, {\"document\": \"Donald Trump Rally Speech Transcript Dalton, Georgia. Senate Runoff Election 01_04_21\", \"term\": \"ballot\", \"tfidf\": 0.1657360711610553}, {\"document\": \"Donald Trump Rally Speech Transcript Dalton, Georgia. Senate Runoff Election 01_04_21\", \"term\": \"tomorrow\", \"tfidf\": 0.16177745580979336}, {\"document\": \"Donald Trump Rally Speech Transcript Dalton, Georgia. Senate Runoff Election 01_04_21\", \"term\": \"people\", \"tfidf\": 0.15859151724938428}, {\"document\": \"Donald Trump Rally Speech Transcript Dalton, Georgia. Senate Runoff Election 01_04_21\", \"term\": \"state\", \"tfidf\": 0.14483921375717038}, {\"document\": \"Donald Trump Rally Speech Transcript Dubuque, Iowa 1 November 11_01_20\", \"term\": \"going\", \"tfidf\": 0.21967215504460588}, {\"document\": \"Donald Trump Rally Speech Transcript Dubuque, Iowa 1 November 11_01_20\", \"term\": \"chuck\", \"tfidf\": 0.2104295697580746}, {\"document\": \"Donald Trump Rally Speech Transcript Dubuque, Iowa 1 November 11_01_20\", \"term\": \"joni\", \"tfidf\": 0.1864358145067281}, {\"document\": \"Donald Trump Rally Speech Transcript Dubuque, Iowa 1 November 11_01_20\", \"term\": \"said\", \"tfidf\": 0.18310582685799276}, {\"document\": \"Donald Trump Rally Speech Transcript Dubuque, Iowa 1 November 11_01_20\", \"term\": \"right\", \"tfidf\": 0.16206759297665047}, {\"document\": \"Donald Trump Rally Speech Transcript Dubuque, Iowa 1 November 11_01_20\", \"term\": \"know\", \"tfidf\": 0.15896840299194476}, {\"document\": \"Donald Trump Rally Speech Transcript Dubuque, Iowa 1 November 11_01_20\", \"term\": \"got\", \"tfidf\": 0.15841691860252644}, {\"document\": \"Donald Trump Rally Speech Transcript Dubuque, Iowa 1 November 11_01_20\", \"term\": \"one\", \"tfidf\": 0.15651907332549805}, {\"document\": \"Donald Trump Rally Speech Transcript Dubuque, Iowa 1 November 11_01_20\", \"term\": \"people\", \"tfidf\": 0.1506722740427697}, {\"document\": \"Donald Trump Rally Speech Transcript Dubuque, Iowa 1 November 11_01_20\", \"term\": \"great\", \"tfidf\": 0.15056273140585205}, {\"document\": \"Donald Trump Rally Speech Transcript Fayetteville, NC 2 November 11_02_20\", \"term\": \"going\", \"tfidf\": 0.23446422106668202}, {\"document\": \"Donald Trump Rally Speech Transcript Fayetteville, NC 2 November 11_02_20\", \"term\": \"said\", \"tfidf\": 0.20191140487981069}, {\"document\": \"Donald Trump Rally Speech Transcript Fayetteville, NC 2 November 11_02_20\", \"term\": \"thank\", \"tfidf\": 0.17785032440173584}, {\"document\": \"Donald Trump Rally Speech Transcript Fayetteville, NC 2 November 11_02_20\", \"term\": \"people\", \"tfidf\": 0.17188271557848345}, {\"document\": \"Donald Trump Rally Speech Transcript Fayetteville, NC 2 November 11_02_20\", \"term\": \"say\", \"tfidf\": 0.16545701520163558}, {\"document\": \"Donald Trump Rally Speech Transcript Fayetteville, NC 2 November 11_02_20\", \"term\": \"know\", \"tfidf\": 0.16048475420366073}, {\"document\": \"Donald Trump Rally Speech Transcript Fayetteville, NC 2 November 11_02_20\", \"term\": \"want\", \"tfidf\": 0.1558338165849814}, {\"document\": \"Donald Trump Rally Speech Transcript Fayetteville, NC 2 November 11_02_20\", \"term\": \"great\", \"tfidf\": 0.15455234749644267}, {\"document\": \"Donald Trump Rally Speech Transcript Fayetteville, NC 2 November 11_02_20\", \"term\": \"biden\", \"tfidf\": 0.14352742750979564}, {\"document\": \"Donald Trump Rally Speech Transcript Fayetteville, NC 2 November 11_02_20\", \"term\": \"get\", \"tfidf\": 0.14131353645526415}, {\"document\": \"Donald Trump Rally Speech Transcript Grand Rapids, Michigan 2 November 11_02_20\", \"term\": \"going\", \"tfidf\": 0.2554308199238428}, {\"document\": \"Donald Trump Rally Speech Transcript Grand Rapids, Michigan 2 November 11_02_20\", \"term\": \"want\", \"tfidf\": 0.1926626304175281}, {\"document\": \"Donald Trump Rally Speech Transcript Grand Rapids, Michigan 2 November 11_02_20\", \"term\": \"great\", \"tfidf\": 0.17839185717414333}, {\"document\": \"Donald Trump Rally Speech Transcript Grand Rapids, Michigan 2 November 11_02_20\", \"term\": \"know\", \"tfidf\": 0.17206950363097537}, {\"document\": \"Donald Trump Rally Speech Transcript Grand Rapids, Michigan 2 November 11_02_20\", \"term\": \"michigan\", \"tfidf\": 0.15411313949135108}, {\"document\": \"Donald Trump Rally Speech Transcript Grand Rapids, Michigan 2 November 11_02_20\", \"term\": \"biden\", \"tfidf\": 0.15145833676562498}, {\"document\": \"Donald Trump Rally Speech Transcript Grand Rapids, Michigan 2 November 11_02_20\", \"term\": \"said\", \"tfidf\": 0.14716286567257972}, {\"document\": \"Donald Trump Rally Speech Transcript Grand Rapids, Michigan 2 November 11_02_20\", \"term\": \"thank\", \"tfidf\": 0.14341708031442174}, {\"document\": \"Donald Trump Rally Speech Transcript Grand Rapids, Michigan 2 November 11_02_20\", \"term\": \"year\", \"tfidf\": 0.1375860434202896}, {\"document\": \"Donald Trump Rally Speech Transcript Grand Rapids, Michigan 2 November 11_02_20\", \"term\": \"like\", \"tfidf\": 0.1367754043319643}, {\"document\": \"Donald Trump Rally Speech Transcript Hickory, North Carolina 1 November 11_01_20\", \"term\": \"going\", \"tfidf\": 0.24464289398497607}, {\"document\": \"Donald Trump Rally Speech Transcript Hickory, North Carolina 1 November 11_01_20\", \"term\": \"biden\", \"tfidf\": 0.17616756362165442}, {\"document\": \"Donald Trump Rally Speech Transcript Hickory, North Carolina 1 November 11_01_20\", \"term\": \"snake\", \"tfidf\": 0.16614849882003657}, {\"document\": \"Donald Trump Rally Speech Transcript Hickory, North Carolina 1 November 11_01_20\", \"term\": \"said\", \"tfidf\": 0.14483385323719897}, {\"document\": \"Donald Trump Rally Speech Transcript Hickory, North Carolina 1 November 11_01_20\", \"term\": \"great\", \"tfidf\": 0.14045822478144304}, {\"document\": \"Donald Trump Rally Speech Transcript Hickory, North Carolina 1 November 11_01_20\", \"term\": \"thank\", \"tfidf\": 0.13892343189597262}, {\"document\": \"Donald Trump Rally Speech Transcript Hickory, North Carolina 1 November 11_01_20\", \"term\": \"right\", \"tfidf\": 0.13128368999663534}, {\"document\": \"Donald Trump Rally Speech Transcript Hickory, North Carolina 1 November 11_01_20\", \"term\": \"tender\", \"tfidf\": 0.12264690856297315}, {\"document\": \"Donald Trump Rally Speech Transcript Hickory, North Carolina 1 November 11_01_20\", \"term\": \"america\", \"tfidf\": 0.11884099296238121}, {\"document\": \"Donald Trump Rally Speech Transcript Hickory, North Carolina 1 November 11_01_20\", \"term\": \"american\", \"tfidf\": 0.11885559746038901}, {\"document\": \"Donald Trump Rally Speech Transcript Kenosha, WI 2 November 11_02_20\", \"term\": \"going\", \"tfidf\": 0.27514439453379236}, {\"document\": \"Donald Trump Rally Speech Transcript Kenosha, WI 2 November 11_02_20\", \"term\": \"know\", \"tfidf\": 0.20695946684838357}, {\"document\": \"Donald Trump Rally Speech Transcript Kenosha, WI 2 November 11_02_20\", \"term\": \"like\", \"tfidf\": 0.1888375553446018}, {\"document\": \"Donald Trump Rally Speech Transcript Kenosha, WI 2 November 11_02_20\", \"term\": \"right\", \"tfidf\": 0.18263012240344373}, {\"document\": \"Donald Trump Rally Speech Transcript Kenosha, WI 2 November 11_02_20\", \"term\": \"great\", \"tfidf\": 0.16186460039211834}, {\"document\": \"Donald Trump Rally Speech Transcript Kenosha, WI 2 November 11_02_20\", \"term\": \"said\", \"tfidf\": 0.1608038151029248}, {\"document\": \"Donald Trump Rally Speech Transcript Kenosha, WI 2 November 11_02_20\", \"term\": \"kenosha\", \"tfidf\": 0.15711892500210525}, {\"document\": \"Donald Trump Rally Speech Transcript Kenosha, WI 2 November 11_02_20\", \"term\": \"good\", \"tfidf\": 0.14842951235019944}, {\"document\": \"Donald Trump Rally Speech Transcript Kenosha, WI 2 November 11_02_20\", \"term\": \"people\", \"tfidf\": 0.14424872762608076}, {\"document\": \"Donald Trump Rally Speech Transcript Kenosha, WI 2 November 11_02_20\", \"term\": \"thank\", \"tfidf\": 0.14113390162885842}, {\"document\": \"Donald Trump Rally Speech Transcript Opa-locka, Florida 1 November 11_01_20\", \"term\": \"going\", \"tfidf\": 0.2488926386522924}, {\"document\": \"Donald Trump Rally Speech Transcript Opa-locka, Florida 1 November 11_01_20\", \"term\": \"said\", \"tfidf\": 0.22582830831399545}, {\"document\": \"Donald Trump Rally Speech Transcript Opa-locka, Florida 1 November 11_01_20\", \"term\": \"know\", \"tfidf\": 0.210916912174713}, {\"document\": \"Donald Trump Rally Speech Transcript Opa-locka, Florida 1 November 11_01_20\", \"term\": \"great\", \"tfidf\": 0.18880749520604187}, {\"document\": \"Donald Trump Rally Speech Transcript Opa-locka, Florida 1 November 11_01_20\", \"term\": \"people\", \"tfidf\": 0.1671831291577101}, {\"document\": \"Donald Trump Rally Speech Transcript Opa-locka, Florida 1 November 11_01_20\", \"term\": \"one\", \"tfidf\": 0.16620782246884036}, {\"document\": \"Donald Trump Rally Speech Transcript Opa-locka, Florida 1 November 11_01_20\", \"term\": \"florida\", \"tfidf\": 0.14207298808894736}, {\"document\": \"Donald Trump Rally Speech Transcript Opa-locka, Florida 1 November 11_01_20\", \"term\": \"right\", \"tfidf\": 0.14190414654059041}, {\"document\": \"Donald Trump Rally Speech Transcript Opa-locka, Florida 1 November 11_01_20\", \"term\": \"job\", \"tfidf\": 0.13650491501506729}, {\"document\": \"Donald Trump Rally Speech Transcript Opa-locka, Florida 1 November 11_01_20\", \"term\": \"got\", \"tfidf\": 0.13551749500836113}, {\"document\": \"Donald Trump Rally Speech Transcript Rome, Georgia 1 November 11_01_20\", \"term\": \"going\", \"tfidf\": 0.29319828275125037}, {\"document\": \"Donald Trump Rally Speech Transcript Rome, Georgia 1 November 11_01_20\", \"term\": \"great\", \"tfidf\": 0.19693340845260474}, {\"document\": \"Donald Trump Rally Speech Transcript Rome, Georgia 1 November 11_01_20\", \"term\": \"georgia\", \"tfidf\": 0.1960430746177074}, {\"document\": \"Donald Trump Rally Speech Transcript Rome, Georgia 1 November 11_01_20\", \"term\": \"know\", \"tfidf\": 0.17950306767192767}, {\"document\": \"Donald Trump Rally Speech Transcript Rome, Georgia 1 November 11_01_20\", \"term\": \"thank\", \"tfidf\": 0.1607579997049073}, {\"document\": \"Donald Trump Rally Speech Transcript Rome, Georgia 1 November 11_01_20\", \"term\": \"said\", \"tfidf\": 0.15334142941905038}, {\"document\": \"Donald Trump Rally Speech Transcript Rome, Georgia 1 November 11_01_20\", \"term\": \"like\", \"tfidf\": 0.14867893433439394}, {\"document\": \"Donald Trump Rally Speech Transcript Rome, Georgia 1 November 11_01_20\", \"term\": \"want\", \"tfidf\": 0.14318351868879112}, {\"document\": \"Donald Trump Rally Speech Transcript Rome, Georgia 1 November 11_01_20\", \"term\": \"herschel\", \"tfidf\": 0.1418369304882319}, {\"document\": \"Donald Trump Rally Speech Transcript Rome, Georgia 1 November 11_01_20\", \"term\": \"say\", \"tfidf\": 0.13462456715051577}, {\"document\": \"Donald Trump Rally Speech Transcript Scranton, PA 2 November 11_02_20\", \"term\": \"going\", \"tfidf\": 0.2631383719321049}, {\"document\": \"Donald Trump Rally Speech Transcript Scranton, PA 2 November 11_02_20\", \"term\": \"pennsylvania\", \"tfidf\": 0.2519684152881048}, {\"document\": \"Donald Trump Rally Speech Transcript Scranton, PA 2 November 11_02_20\", \"term\": \"know\", \"tfidf\": 0.17033508658361135}, {\"document\": \"Donald Trump Rally Speech Transcript Scranton, PA 2 November 11_02_20\", \"term\": \"got\", \"tfidf\": 0.16885665305615116}, {\"document\": \"Donald Trump Rally Speech Transcript Scranton, PA 2 November 11_02_20\", \"term\": \"right\", \"tfidf\": 0.14941315754468584}, {\"document\": \"Donald Trump Rally Speech Transcript Scranton, PA 2 November 11_02_20\", \"term\": \"get\", \"tfidf\": 0.1427978987044076}, {\"document\": \"Donald Trump Rally Speech Transcript Scranton, PA 2 November 11_02_20\", \"term\": \"thank\", \"tfidf\": 0.1419701281160922}, {\"document\": \"Donald Trump Rally Speech Transcript Scranton, PA 2 November 11_02_20\", \"term\": \"nigel\", \"tfidf\": 0.14017061386979118}, {\"document\": \"Donald Trump Rally Speech Transcript Scranton, PA 2 November 11_02_20\", \"term\": \"like\", \"tfidf\": 0.13244129707108263}, {\"document\": \"Donald Trump Rally Speech Transcript Scranton, PA 2 November 11_02_20\", \"term\": \"great\", \"tfidf\": 0.12951116185868763}, {\"document\": \"Donald Trump Rally in Reno 12_17_23 Transcript 12_18_23\", \"term\": \"going\", \"tfidf\": 0.26857265235822364}, {\"document\": \"Donald Trump Rally in Reno 12_17_23 Transcript 12_18_23\", \"term\": \"country\", \"tfidf\": 0.2187247821226297}, {\"document\": \"Donald Trump Rally in Reno 12_17_23 Transcript 12_18_23\", \"term\": \"people\", \"tfidf\": 0.19622796459898653}, {\"document\": \"Donald Trump Rally in Reno 12_17_23 Transcript 12_18_23\", \"term\": \"great\", \"tfidf\": 0.13993125922174648}, {\"document\": \"Donald Trump Rally in Reno 12_17_23 Transcript 12_18_23\", \"term\": \"back\", \"tfidf\": 0.13802487549206244}, {\"document\": \"Donald Trump Rally in Reno 12_17_23 Transcript 12_18_23\", \"term\": \"said\", \"tfidf\": 0.13489268649133102}, {\"document\": \"Donald Trump Rally in Reno 12_17_23 Transcript 12_18_23\", \"term\": \"like\", \"tfidf\": 0.13391947070271573}, {\"document\": \"Donald Trump Rally in Reno 12_17_23 Transcript 12_18_23\", \"term\": \"want\", \"tfidf\": 0.12493307704682459}, {\"document\": \"Donald Trump Rally in Reno 12_17_23 Transcript 12_18_23\", \"term\": \"nation\", \"tfidf\": 0.12347282585437852}, {\"document\": \"Donald Trump Rally in Reno 12_17_23 Transcript 12_18_23\", \"term\": \"biden\", \"tfidf\": 0.11127288531300958}, {\"document\": \"Donald Trump Rally in Richmond 03_04_24\", \"term\": \"going\", \"tfidf\": 0.30158913532561965}, {\"document\": \"Donald Trump Rally in Richmond 03_04_24\", \"term\": \"country\", \"tfidf\": 0.2361399629103918}, {\"document\": \"Donald Trump Rally in Richmond 03_04_24\", \"term\": \"people\", \"tfidf\": 0.19684787317557847}, {\"document\": \"Donald Trump Rally in Richmond 03_04_24\", \"term\": \"know\", \"tfidf\": 0.17668295667930767}, {\"document\": \"Donald Trump Rally in Richmond 03_04_24\", \"term\": \"biden\", \"tfidf\": 0.15967299318275446}, {\"document\": \"Donald Trump Rally in Richmond 03_04_24\", \"term\": \"get\", \"tfidf\": 0.15874117394821038}, {\"document\": \"Donald Trump Rally in Richmond 03_04_24\", \"term\": \"said\", \"tfidf\": 0.155188838604149}, {\"document\": \"Donald Trump Rally in Richmond 03_04_24\", \"term\": \"want\", \"tfidf\": 0.13454474466304292}, {\"document\": \"Donald Trump Rally in Richmond 03_04_24\", \"term\": \"let\", \"tfidf\": 0.11977133605869714}, {\"document\": \"Donald Trump Rally in Richmond 03_04_24\", \"term\": \"joe\", \"tfidf\": 0.1152610244341284}, {\"document\": \"Donald Trump Rally in Schnecksville Pennsylvania 04_16_24\", \"term\": \"going\", \"tfidf\": 0.27353742418350313}, {\"document\": \"Donald Trump Rally in Schnecksville Pennsylvania 04_16_24\", \"term\": \"like\", \"tfidf\": 0.1769778607211049}, {\"document\": \"Donald Trump Rally in Schnecksville Pennsylvania 04_16_24\", \"term\": \"biden\", \"tfidf\": 0.17222734399447623}, {\"document\": \"Donald Trump Rally in Schnecksville Pennsylvania 04_16_24\", \"term\": \"people\", \"tfidf\": 0.16364035024605741}, {\"document\": \"Donald Trump Rally in Schnecksville Pennsylvania 04_16_24\", \"term\": \"know\", \"tfidf\": 0.1620661360099789}, {\"document\": \"Donald Trump Rally in Schnecksville Pennsylvania 04_16_24\", \"term\": \"country\", \"tfidf\": 0.15380666285939112}, {\"document\": \"Donald Trump Rally in Schnecksville Pennsylvania 04_16_24\", \"term\": \"one\", \"tfidf\": 0.14920879017834077}, {\"document\": \"Donald Trump Rally in Schnecksville Pennsylvania 04_16_24\", \"term\": \"pennsylvania\", \"tfidf\": 0.1485839776350184}, {\"document\": \"Donald Trump Rally in Schnecksville Pennsylvania 04_16_24\", \"term\": \"want\", \"tfidf\": 0.14617564994265847}, {\"document\": \"Donald Trump Rally in Schnecksville Pennsylvania 04_16_24\", \"term\": \"think\", \"tfidf\": 0.13082315892214394}, {\"document\": \"Donald Trump Rally in Selma NC North Carolina 4_9_22 Transcript 04_10_22\", \"term\": \"ted\", \"tfidf\": 0.3072144169517783}, {\"document\": \"Donald Trump Rally in Selma NC North Carolina 4_9_22 Transcript 04_10_22\", \"term\": \"going\", \"tfidf\": 0.20887096289754878}, {\"document\": \"Donald Trump Rally in Selma NC North Carolina 4_9_22 Transcript 04_10_22\", \"term\": \"country\", \"tfidf\": 0.16309909218881044}, {\"document\": \"Donald Trump Rally in Selma NC North Carolina 4_9_22 Transcript 04_10_22\", \"term\": \"people\", \"tfidf\": 0.15939005734979916}, {\"document\": \"Donald Trump Rally in Selma NC North Carolina 4_9_22 Transcript 04_10_22\", \"term\": \"want\", \"tfidf\": 0.15336107188528814}, {\"document\": \"Donald Trump Rally in Selma NC North Carolina 4_9_22 Transcript 04_10_22\", \"term\": \"know\", \"tfidf\": 0.14817997958704382}, {\"document\": \"Donald Trump Rally in Selma NC North Carolina 4_9_22 Transcript 04_10_22\", \"term\": \"budd\", \"tfidf\": 0.13924556951611436}, {\"document\": \"Donald Trump Rally in Selma NC North Carolina 4_9_22 Transcript 04_10_22\", \"term\": \"great\", \"tfidf\": 0.1380428215997525}, {\"document\": \"Donald Trump Rally in Selma NC North Carolina 4_9_22 Transcript 04_10_22\", \"term\": \"sheriff\", \"tfidf\": 0.13518239143474256}, {\"document\": \"Donald Trump Rally in Selma NC North Carolina 4_9_22 Transcript 04_10_22\", \"term\": \"like\", \"tfidf\": 0.11835796802169356}, {\"document\": \"Donald Trump Remarks Transcript. Pennsylvania Republican Hearing on 2020 Election 11_25_20\", \"term\": \"people\", \"tfidf\": 0.24181240269459472}, {\"document\": \"Donald Trump Remarks Transcript. Pennsylvania Republican Hearing on 2020 Election 11_25_20\", \"term\": \"vote\", \"tfidf\": 0.23485067424434497}, {\"document\": \"Donald Trump Remarks Transcript. Pennsylvania Republican Hearing on 2020 Election 11_25_20\", \"term\": \"ballot\", \"tfidf\": 0.22406991980751542}, {\"document\": \"Donald Trump Remarks Transcript. Pennsylvania Republican Hearing on 2020 Election 11_25_20\", \"term\": \"election\", \"tfidf\": 0.18967612429510816}, {\"document\": \"Donald Trump Remarks Transcript. Pennsylvania Republican Hearing on 2020 Election 11_25_20\", \"term\": \"watcher\", \"tfidf\": 0.18754202237056794}, {\"document\": \"Donald Trump Remarks Transcript. Pennsylvania Republican Hearing on 2020 Election 11_25_20\", \"term\": \"got\", \"tfidf\": 0.17753616508316392}, {\"document\": \"Donald Trump Remarks Transcript. Pennsylvania Republican Hearing on 2020 Election 11_25_20\", \"term\": \"weird\", \"tfidf\": 0.16505875055354347}, {\"document\": \"Donald Trump Remarks Transcript. Pennsylvania Republican Hearing on 2020 Election 11_25_20\", \"term\": \"happened\", \"tfidf\": 0.16263541654377292}, {\"document\": \"Donald Trump Remarks Transcript. Pennsylvania Republican Hearing on 2020 Election 11_25_20\", \"term\": \"affidavit\", \"tfidf\": 0.15445734767285135}, {\"document\": \"Donald Trump Remarks Transcript. Pennsylvania Republican Hearing on 2020 Election 11_25_20\", \"term\": \"rudy\", \"tfidf\": 0.15447056545248855}, {\"document\": \"Donald Trump Remarks to RNC Staff Transcript Arlington, VA 3 November 11_03_20\", \"term\": \"think\", \"tfidf\": 0.33018648535044703}, {\"document\": \"Donald Trump Remarks to RNC Staff Transcript Arlington, VA 3 November 11_03_20\", \"term\": \"going\", \"tfidf\": 0.2581222877718302}, {\"document\": \"Donald Trump Remarks to RNC Staff Transcript Arlington, VA 3 November 11_03_20\", \"term\": \"people\", \"tfidf\": 0.22428347355579953}, {\"document\": \"Donald Trump Remarks to RNC Staff Transcript Arlington, VA 3 November 11_03_20\", \"term\": \"done\", \"tfidf\": 0.1683285431623559}, {\"document\": \"Donald Trump Remarks to RNC Staff Transcript Arlington, VA 3 November 11_03_20\", \"term\": \"know\", \"tfidf\": 0.16703818553825234}, {\"document\": \"Donald Trump Remarks to RNC Staff Transcript Arlington, VA 3 November 11_03_20\", \"term\": \"tremendous\", \"tfidf\": 0.13647247581359792}, {\"document\": \"Donald Trump Remarks to RNC Staff Transcript Arlington, VA 3 November 11_03_20\", \"term\": \"ventilator\", \"tfidf\": 0.13153595667435575}, {\"document\": \"Donald Trump Remarks to RNC Staff Transcript Arlington, VA 3 November 11_03_20\", \"term\": \"say\", \"tfidf\": 0.12922082872498472}, {\"document\": \"Donald Trump Remarks to RNC Staff Transcript Arlington, VA 3 November 11_03_20\", \"term\": \"well\", \"tfidf\": 0.12826105994909678}, {\"document\": \"Donald Trump Remarks to RNC Staff Transcript Arlington, VA 3 November 11_03_20\", \"term\": \"ballot\", \"tfidf\": 0.12410857300421153}, {\"document\": \"Donald Trump Responds to Joe Biden\\u2019s 2024 Campaign Announcement Transcript 04_26_23\", \"term\": \"aa\", \"tfidf\": 6.992594227971887e-05}, {\"document\": \"Donald Trump Responds to Joe Biden\\u2019s 2024 Campaign Announcement Transcript 04_26_23\", \"term\": \"aah\", \"tfidf\": 4.214914417804775e-05}, {\"document\": \"Donald Trump Responds to Joe Biden\\u2019s 2024 Campaign Announcement Transcript 04_26_23\", \"term\": \"aback\", \"tfidf\": 3.6391670905307185e-05}, {\"document\": \"Donald Trump Responds to Joe Biden\\u2019s 2024 Campaign Announcement Transcript 04_26_23\", \"term\": \"abandon\", \"tfidf\": 1.0099643026169103e-05}, {\"document\": \"Donald Trump Responds to Joe Biden\\u2019s 2024 Campaign Announcement Transcript 04_26_23\", \"term\": \"abandoned\", \"tfidf\": 3.50568765150453e-05}, {\"document\": \"Donald Trump Responds to Joe Biden\\u2019s 2024 Campaign Announcement Transcript 04_26_23\", \"term\": \"abandoning\", \"tfidf\": 6.091370767755015e-05}, {\"document\": \"Donald Trump Responds to Joe Biden\\u2019s 2024 Campaign Announcement Transcript 04_26_23\", \"term\": \"abandonment\", \"tfidf\": 7.713307511750942e-05}, {\"document\": \"Donald Trump Responds to Joe Biden\\u2019s 2024 Campaign Announcement Transcript 04_26_23\", \"term\": \"abbot\", \"tfidf\": 1.4519202889442119e-05}, {\"document\": \"Donald Trump Responds to Joe Biden\\u2019s 2024 Campaign Announcement Transcript 04_26_23\", \"term\": \"abbott\", \"tfidf\": 3.4321381115419536e-05}, {\"document\": \"Donald Trump Responds to Joe Biden\\u2019s 2024 Campaign Announcement Transcript 04_26_23\", \"term\": \"abbreviated\", \"tfidf\": 4.175782451595495e-05}, {\"document\": \"Donald Trump Rose Garden Press Conference on COVID-19 Vaccine Transcript 13 November 11_13_20\", \"term\": \"vaccine\", \"tfidf\": 0.38853356469884553}, {\"document\": \"Donald Trump Rose Garden Press Conference on COVID-19 Vaccine Transcript 13 November 11_13_20\", \"term\": \"dos\", \"tfidf\": 0.163710180225569}, {\"document\": \"Donald Trump Rose Garden Press Conference on COVID-19 Vaccine Transcript 13 November 11_13_20\", \"term\": \"lockdown\", \"tfidf\": 0.16040671108476698}, {\"document\": \"Donald Trump Rose Garden Press Conference on COVID-19 Vaccine Transcript 13 November 11_13_20\", \"term\": \"ventilator\", \"tfidf\": 0.16013672720829772}, {\"document\": \"Donald Trump Rose Garden Press Conference on COVID-19 Vaccine Transcript 13 November 11_13_20\", \"term\": \"pfizer\", \"tfidf\": 0.1335195451145411}, {\"document\": \"Donald Trump Rose Garden Press Conference on COVID-19 Vaccine Transcript 13 November 11_13_20\", \"term\": \"thank\", \"tfidf\": 0.12772928239985226}, {\"document\": \"Donald Trump Rose Garden Press Conference on COVID-19 Vaccine Transcript 13 November 11_13_20\", \"term\": \"administration\", \"tfidf\": 0.12666090011719716}, {\"document\": \"Donald Trump Rose Garden Press Conference on COVID-19 Vaccine Transcript 13 November 11_13_20\", \"term\": \"warp\", \"tfidf\": 0.12537947168367938}, {\"document\": \"Donald Trump Rose Garden Press Conference on COVID-19 Vaccine Transcript 13 November 11_13_20\", \"term\": \"manufacturing\", \"tfidf\": 0.1205076036955685}, {\"document\": \"Donald Trump Rose Garden Press Conference on COVID-19 Vaccine Transcript 13 November 11_13_20\", \"term\": \"eua\", \"tfidf\": 0.11934582968049257}, {\"document\": \"Donald Trump SAVE AMERICA RALLY in Ohio 09_17_22 Transcript 09_18_22\", \"term\": \"ohio\", \"tfidf\": 0.25104720991255713}, {\"document\": \"Donald Trump SAVE AMERICA RALLY in Ohio 09_17_22 Transcript 09_18_22\", \"term\": \"going\", \"tfidf\": 0.24049317322318028}, {\"document\": \"Donald Trump SAVE AMERICA RALLY in Ohio 09_17_22 Transcript 09_18_22\", \"term\": \"jd\", \"tfidf\": 0.23561001293795772}, {\"document\": \"Donald Trump SAVE AMERICA RALLY in Ohio 09_17_22 Transcript 09_18_22\", \"term\": \"said\", \"tfidf\": 0.19946838166761022}, {\"document\": \"Donald Trump SAVE AMERICA RALLY in Ohio 09_17_22 Transcript 09_18_22\", \"term\": \"country\", \"tfidf\": 0.17984155288124026}, {\"document\": \"Donald Trump SAVE AMERICA RALLY in Ohio 09_17_22 Transcript 09_18_22\", \"term\": \"people\", \"tfidf\": 0.16107304707016373}, {\"document\": \"Donald Trump SAVE AMERICA RALLY in Ohio 09_17_22 Transcript 09_18_22\", \"term\": \"want\", \"tfidf\": 0.15729189785976122}, {\"document\": \"Donald Trump SAVE AMERICA RALLY in Ohio 09_17_22 Transcript 09_18_22\", \"term\": \"great\", \"tfidf\": 0.15435449656201178}, {\"document\": \"Donald Trump SAVE AMERICA RALLY in Ohio 09_17_22 Transcript 09_18_22\", \"term\": \"got\", \"tfidf\": 0.12998021261439247}, {\"document\": \"Donald Trump SAVE AMERICA RALLY in Ohio 09_17_22 Transcript 09_18_22\", \"term\": \"know\", \"tfidf\": 0.12585502453306946}, {\"document\": \"Donald Trump Sean Hannity Interview on Afghanistan August 17 Transcript 08_18_21\", \"term\": \"going\", \"tfidf\": 0.19597786113769244}, {\"document\": \"Donald Trump Sean Hannity Interview on Afghanistan August 17 Transcript 08_18_21\", \"term\": \"people\", \"tfidf\": 0.19587601942910016}, {\"document\": \"Donald Trump Sean Hannity Interview on Afghanistan August 17 Transcript 08_18_21\", \"term\": \"country\", \"tfidf\": 0.18827459052633025}, {\"document\": \"Donald Trump Sean Hannity Interview on Afghanistan August 17 Transcript 08_18_21\", \"term\": \"billion\", \"tfidf\": 0.17080637030277177}, {\"document\": \"Donald Trump Sean Hannity Interview on Afghanistan August 17 Transcript 08_18_21\", \"term\": \"got\", \"tfidf\": 0.15484186992838866}, {\"document\": \"Donald Trump Sean Hannity Interview on Afghanistan August 17 Transcript 08_18_21\", \"term\": \"great\", \"tfidf\": 0.13571375477525108}, {\"document\": \"Donald Trump Sean Hannity Interview on Afghanistan August 17 Transcript 08_18_21\", \"term\": \"thing\", \"tfidf\": 0.13562769789734153}, {\"document\": \"Donald Trump Sean Hannity Interview on Afghanistan August 17 Transcript 08_18_21\", \"term\": \"taliban\", \"tfidf\": 0.13170444035287043}, {\"document\": \"Donald Trump Sean Hannity Interview on Afghanistan August 17 Transcript 08_18_21\", \"term\": \"look\", \"tfidf\": 0.11905383744791412}, {\"document\": \"Donald Trump Sean Hannity Interview on Afghanistan August 17 Transcript 08_18_21\", \"term\": \"like\", \"tfidf\": 0.11723153601400535}, {\"document\": \"Donald Trump Second Video Speech Condemning Capitol Violence. Transcript 01_13_21\", \"term\": \"violence\", \"tfidf\": 0.3495552765482446}, {\"document\": \"Donald Trump Second Video Speech Condemning Capitol Violence. Transcript 01_13_21\", \"term\": \"american\", \"tfidf\": 0.2035846566916831}, {\"document\": \"Donald Trump Second Video Speech Condemning Capitol Violence. Transcript 01_13_21\", \"term\": \"law\", \"tfidf\": 0.2003504173508145}, {\"document\": \"Donald Trump Second Video Speech Condemning Capitol Violence. Transcript 01_13_21\", \"term\": \"vandalism\", \"tfidf\": 0.19488918152593226}, {\"document\": \"Donald Trump Second Video Speech Condemning Capitol Violence. Transcript 01_13_21\", \"term\": \"upholding\", \"tfidf\": 0.14276583111368726}, {\"document\": \"Donald Trump Second Video Speech Condemning Capitol Violence. Transcript 01_13_21\", \"term\": \"supporter\", \"tfidf\": 0.1359090225098809}, {\"document\": \"Donald Trump Second Video Speech Condemning Capitol Violence. Transcript 01_13_21\", \"term\": \"fellow\", \"tfidf\": 0.13255897076661477}, {\"document\": \"Donald Trump Second Video Speech Condemning Capitol Violence. Transcript 01_13_21\", \"term\": \"choose\", \"tfidf\": 0.1217227596545031}, {\"document\": \"Donald Trump Second Video Speech Condemning Capitol Violence. Transcript 01_13_21\", \"term\": \"mob\", \"tfidf\": 0.11670080741328322}, {\"document\": \"Donald Trump Second Video Speech Condemning Capitol Violence. Transcript 01_13_21\", \"term\": \"supporting\", \"tfidf\": 0.11221954496202043}, {\"document\": \"Donald Trump Speaks After Voting in Florida GOP Primary 03_21_24\", \"term\": \"people\", \"tfidf\": 0.31795823012713376}, {\"document\": \"Donald Trump Speaks After Voting in Florida GOP Primary 03_21_24\", \"term\": \"guided\", \"tfidf\": 0.29896714656160267}, {\"document\": \"Donald Trump Speaks After Voting in Florida GOP Primary 03_21_24\", \"term\": \"treated\", \"tfidf\": 0.2696542173172787}, {\"document\": \"Donald Trump Speaks After Voting in Florida GOP Primary 03_21_24\", \"term\": \"israel\", \"tfidf\": 0.23414411947866384}, {\"document\": \"Donald Trump Speaks After Voting in Florida GOP Primary 03_21_24\", \"term\": \"country\", \"tfidf\": 0.22520980832619572}, {\"document\": \"Donald Trump Speaks After Voting in Florida GOP Primary 03_21_24\", \"term\": \"jewish\", \"tfidf\": 0.18347758078972626}, {\"document\": \"Donald Trump Speaks After Voting in Florida GOP Primary 03_21_24\", \"term\": \"cash\", \"tfidf\": 0.17822468683270778}, {\"document\": \"Donald Trump Speaks After Voting in Florida GOP Primary 03_21_24\", \"term\": \"well\", \"tfidf\": 0.15847425137499263}, {\"document\": \"Donald Trump Speaks After Voting in Florida GOP Primary 03_21_24\", \"term\": \"badly\", \"tfidf\": 0.14682533847508197}, {\"document\": \"Donald Trump Speaks After Voting in Florida GOP Primary 03_21_24\", \"term\": \"come\", \"tfidf\": 0.1382950677678257}, {\"document\": \"Donald Trump Speaks During UAW Strike Transcript 09_28_23\", \"term\": \"going\", \"tfidf\": 0.3120128526208858}, {\"document\": \"Donald Trump Speaks During UAW Strike Transcript 09_28_23\", \"term\": \"auto\", \"tfidf\": 0.28361504121629644}, {\"document\": \"Donald Trump Speaks During UAW Strike Transcript 09_28_23\", \"term\": \"want\", \"tfidf\": 0.17972793590630515}, {\"document\": \"Donald Trump Speaks During UAW Strike Transcript 09_28_23\", \"term\": \"american\", \"tfidf\": 0.15526618348338156}, {\"document\": \"Donald Trump Speaks During UAW Strike Transcript 09_28_23\", \"term\": \"michigan\", \"tfidf\": 0.15155816676552752}, {\"document\": \"Donald Trump Speaks During UAW Strike Transcript 09_28_23\", \"term\": \"electric\", \"tfidf\": 0.14781441754372562}, {\"document\": \"Donald Trump Speaks During UAW Strike Transcript 09_28_23\", \"term\": \"said\", \"tfidf\": 0.14749735141448245}, {\"document\": \"Donald Trump Speaks During UAW Strike Transcript 09_28_23\", \"term\": \"country\", \"tfidf\": 0.14339949392388623}, {\"document\": \"Donald Trump Speaks During UAW Strike Transcript 09_28_23\", \"term\": \"car\", \"tfidf\": 0.1371210747765469}, {\"document\": \"Donald Trump Speaks During UAW Strike Transcript 09_28_23\", \"term\": \"worker\", \"tfidf\": 0.1351725561400721}, {\"document\": \"Donald Trump Speaks at Campaign Event in Derry, New Hampshire Transcript 10_24_23\", \"term\": \"going\", \"tfidf\": 0.23588398566717175}, {\"document\": \"Donald Trump Speaks at Campaign Event in Derry, New Hampshire Transcript 10_24_23\", \"term\": \"said\", \"tfidf\": 0.21281974354889518}, {\"document\": \"Donald Trump Speaks at Campaign Event in Derry, New Hampshire Transcript 10_24_23\", \"term\": \"people\", \"tfidf\": 0.18142823932352872}, {\"document\": \"Donald Trump Speaks at Campaign Event in Derry, New Hampshire Transcript 10_24_23\", \"term\": \"want\", \"tfidf\": 0.18007147403490217}, {\"document\": \"Donald Trump Speaks at Campaign Event in Derry, New Hampshire Transcript 10_24_23\", \"term\": \"like\", \"tfidf\": 0.17458435562502125}, {\"document\": \"Donald Trump Speaks at Campaign Event in Derry, New Hampshire Transcript 10_24_23\", \"term\": \"say\", \"tfidf\": 0.16418552469112158}, {\"document\": \"Donald Trump Speaks at Campaign Event in Derry, New Hampshire Transcript 10_24_23\", \"term\": \"got\", \"tfidf\": 0.15893552242665948}, {\"document\": \"Donald Trump Speaks at Campaign Event in Derry, New Hampshire Transcript 10_24_23\", \"term\": \"country\", \"tfidf\": 0.13872896286501443}, {\"document\": \"Donald Trump Speaks at Campaign Event in Derry, New Hampshire Transcript 10_24_23\", \"term\": \"trump\", \"tfidf\": 0.13732735895538034}, {\"document\": \"Donald Trump Speaks at Campaign Event in Derry, New Hampshire Transcript 10_24_23\", \"term\": \"know\", \"tfidf\": 0.13503316225986903}, {\"document\": \"Donald Trump Speaks at Las Vegas Event 7_08_22 Transcript 07_10_22\", \"term\": \"police\", \"tfidf\": 0.25570081142019263}, {\"document\": \"Donald Trump Speaks at Las Vegas Event 7_08_22 Transcript 07_10_22\", \"term\": \"people\", \"tfidf\": 0.22192178502202117}, {\"document\": \"Donald Trump Speaks at Las Vegas Event 7_08_22 Transcript 07_10_22\", \"term\": \"country\", \"tfidf\": 0.21902800161776315}, {\"document\": \"Donald Trump Speaks at Las Vegas Event 7_08_22 Transcript 07_10_22\", \"term\": \"drug\", \"tfidf\": 0.21499230582958775}, {\"document\": \"Donald Trump Speaks at Las Vegas Event 7_08_22 Transcript 07_10_22\", \"term\": \"want\", \"tfidf\": 0.17791529707035747}, {\"document\": \"Donald Trump Speaks at Las Vegas Event 7_08_22 Transcript 07_10_22\", \"term\": \"officer\", \"tfidf\": 0.1441249451773985}, {\"document\": \"Donald Trump Speaks at Las Vegas Event 7_08_22 Transcript 07_10_22\", \"term\": \"going\", \"tfidf\": 0.13569794107823274}, {\"document\": \"Donald Trump Speaks at Las Vegas Event 7_08_22 Transcript 07_10_22\", \"term\": \"crime\", \"tfidf\": 0.13336106160575786}, {\"document\": \"Donald Trump Speaks at Las Vegas Event 7_08_22 Transcript 07_10_22\", \"term\": \"great\", \"tfidf\": 0.11534246830406063}, {\"document\": \"Donald Trump Speaks at Las Vegas Event 7_08_22 Transcript 07_10_22\", \"term\": \"republican\", \"tfidf\": 0.10396278037486818}, {\"document\": \"Donald Trump Speaks at Rally in Las Vegas Transcript 01_29_24\", \"term\": \"going\", \"tfidf\": 0.29199970109225587}, {\"document\": \"Donald Trump Speaks at Rally in Las Vegas Transcript 01_29_24\", \"term\": \"said\", \"tfidf\": 0.2001029344913538}, {\"document\": \"Donald Trump Speaks at Rally in Las Vegas Transcript 01_29_24\", \"term\": \"people\", \"tfidf\": 0.1962736792065172}, {\"document\": \"Donald Trump Speaks at Rally in Las Vegas Transcript 01_29_24\", \"term\": \"want\", \"tfidf\": 0.19101517419991018}, {\"document\": \"Donald Trump Speaks at Rally in Las Vegas Transcript 01_29_24\", \"term\": \"one\", \"tfidf\": 0.15721320796686813}, {\"document\": \"Donald Trump Speaks at Rally in Las Vegas Transcript 01_29_24\", \"term\": \"like\", \"tfidf\": 0.1548149243470032}, {\"document\": \"Donald Trump Speaks at Rally in Las Vegas Transcript 01_29_24\", \"term\": \"border\", \"tfidf\": 0.15202970926302686}, {\"document\": \"Donald Trump Speaks at Rally in Las Vegas Transcript 01_29_24\", \"term\": \"caucus\", \"tfidf\": 0.14828035384639074}, {\"document\": \"Donald Trump Speaks at Rally in Las Vegas Transcript 01_29_24\", \"term\": \"thank\", \"tfidf\": 0.14750035091025465}, {\"document\": \"Donald Trump Speaks at Rally in Las Vegas Transcript 01_29_24\", \"term\": \"get\", \"tfidf\": 0.1425719547416454}, {\"document\": \"Donald Trump Speaks at Rally in Ohio 03_18_24\", \"term\": \"going\", \"tfidf\": 0.35352232338801776}, {\"document\": \"Donald Trump Speaks at Rally in Ohio 03_18_24\", \"term\": \"people\", \"tfidf\": 0.2142745192480127}, {\"document\": \"Donald Trump Speaks at Rally in Ohio 03_18_24\", \"term\": \"bernie\", \"tfidf\": 0.17732589338079635}, {\"document\": \"Donald Trump Speaks at Rally in Ohio 03_18_24\", \"term\": \"country\", \"tfidf\": 0.17669178403599747}, {\"document\": \"Donald Trump Speaks at Rally in Ohio 03_18_24\", \"term\": \"know\", \"tfidf\": 0.17339215820618126}, {\"document\": \"Donald Trump Speaks at Rally in Ohio 03_18_24\", \"term\": \"say\", \"tfidf\": 0.16517218919365514}, {\"document\": \"Donald Trump Speaks at Rally in Ohio 03_18_24\", \"term\": \"like\", \"tfidf\": 0.15560545498749864}, {\"document\": \"Donald Trump Speaks at Rally in Ohio 03_18_24\", \"term\": \"want\", \"tfidf\": 0.14939010567129984}, {\"document\": \"Donald Trump Speaks at Rally in Ohio 03_18_24\", \"term\": \"said\", \"tfidf\": 0.13822243962788555}, {\"document\": \"Donald Trump Speaks at Rally in Ohio 03_18_24\", \"term\": \"guy\", \"tfidf\": 0.13052177653177938}, {\"document\": \"Donald Trump Speech Transcript Departing White House on Inauguration Day 01_20_21\", \"term\": \"thank\", \"tfidf\": 0.29492989455574786}, {\"document\": \"Donald Trump Speech Transcript Departing White House on Inauguration Day 01_20_21\", \"term\": \"vet\", \"tfidf\": 0.276182828415218}, {\"document\": \"Donald Trump Speech Transcript Departing White House on Inauguration Day 01_20_21\", \"term\": \"great\", \"tfidf\": 0.20359934632703588}, {\"document\": \"Donald Trump Speech Transcript Departing White House on Inauguration Day 01_20_21\", \"term\": \"want\", \"tfidf\": 0.20300188206876396}, {\"document\": \"Donald Trump Speech Transcript Departing White House on Inauguration Day 01_20_21\", \"term\": \"worked\", \"tfidf\": 0.17148473876555242}, {\"document\": \"Donald Trump Speech Transcript Departing White House on Inauguration Day 01_20_21\", \"term\": \"really\", \"tfidf\": 0.16922213930893157}, {\"document\": \"Donald Trump Speech Transcript Departing White House on Inauguration Day 01_20_21\", \"term\": \"number\", \"tfidf\": 0.1665584054916053}, {\"document\": \"Donald Trump Speech Transcript Departing White House on Inauguration Day 01_20_21\", \"term\": \"people\", \"tfidf\": 0.16586114173663988}, {\"document\": \"Donald Trump Speech Transcript Departing White House on Inauguration Day 01_20_21\", \"term\": \"hit\", \"tfidf\": 0.14311866672796225}, {\"document\": \"Donald Trump Speech Transcript Departing White House on Inauguration Day 01_20_21\", \"term\": \"say\", \"tfidf\": 0.1312508586521763}, {\"document\": \"Donald Trump Speech Transcript at North Carolina GOP Convention Dinner 5 June 06_05_21\", \"term\": \"going\", \"tfidf\": 0.24350348274505254}, {\"document\": \"Donald Trump Speech Transcript at North Carolina GOP Convention Dinner 5 June 06_05_21\", \"term\": \"people\", \"tfidf\": 0.18172711000573122}, {\"document\": \"Donald Trump Speech Transcript at North Carolina GOP Convention Dinner 5 June 06_05_21\", \"term\": \"thing\", \"tfidf\": 0.1814488614782922}, {\"document\": \"Donald Trump Speech Transcript at North Carolina GOP Convention Dinner 5 June 06_05_21\", \"term\": \"country\", \"tfidf\": 0.1757929579883021}, {\"document\": \"Donald Trump Speech Transcript at North Carolina GOP Convention Dinner 5 June 06_05_21\", \"term\": \"great\", \"tfidf\": 0.16559338201406096}, {\"document\": \"Donald Trump Speech Transcript at North Carolina GOP Convention Dinner 5 June 06_05_21\", \"term\": \"know\", \"tfidf\": 0.15497934980647868}, {\"document\": \"Donald Trump Speech Transcript at North Carolina GOP Convention Dinner 5 June 06_05_21\", \"term\": \"like\", \"tfidf\": 0.15009079358468053}, {\"document\": \"Donald Trump Speech Transcript at North Carolina GOP Convention Dinner 5 June 06_05_21\", \"term\": \"said\", \"tfidf\": 0.13607688550875316}, {\"document\": \"Donald Trump Speech Transcript at North Carolina GOP Convention Dinner 5 June 06_05_21\", \"term\": \"would\", \"tfidf\": 0.13455293410709582}, {\"document\": \"Donald Trump Speech Transcript at North Carolina GOP Convention Dinner 5 June 06_05_21\", \"term\": \"want\", \"tfidf\": 0.117355596542931}, {\"document\": \"Donald Trump Speech Transcript. Kabul Bombing Would Not Have Happened If I Were Your President 08_26_21\", \"term\": \"american\", \"tfidf\": 0.32496470778909464}, {\"document\": \"Donald Trump Speech Transcript. Kabul Bombing Would Not Have Happened If I Were Your President 08_26_21\", \"term\": \"sacrifice\", \"tfidf\": 0.23572832102898927}, {\"document\": \"Donald Trump Speech Transcript. Kabul Bombing Would Not Have Happened If I Were Your President 08_26_21\", \"term\": \"afghanistan\", \"tfidf\": 0.23106095162488238}, {\"document\": \"Donald Trump Speech Transcript. Kabul Bombing Would Not Have Happened If I Were Your President 08_26_21\", \"term\": \"pray\", \"tfidf\": 0.1863284573714666}, {\"document\": \"Donald Trump Speech Transcript. Kabul Bombing Would Not Have Happened If I Were Your President 08_26_21\", \"term\": \"mourns\", \"tfidf\": 0.15556065074324593}, {\"document\": \"Donald Trump Speech Transcript. Kabul Bombing Would Not Have Happened If I Were Your President 08_26_21\", \"term\": \"condolence\", \"tfidf\": 0.14343462927788528}, {\"document\": \"Donald Trump Speech Transcript. Kabul Bombing Would Not Have Happened If I Were Your President 08_26_21\", \"term\": \"racing\", \"tfidf\": 0.1433828425687519}, {\"document\": \"Donald Trump Speech Transcript. Kabul Bombing Would Not Have Happened If I Were Your President 08_26_21\", \"term\": \"attack\", \"tfidf\": 0.1414877462971637}, {\"document\": \"Donald Trump Speech Transcript. Kabul Bombing Would Not Have Happened If I Were Your President 08_26_21\", \"term\": \"fellow\", \"tfidf\": 0.14102919167201805}, {\"document\": \"Donald Trump Speech Transcript. Kabul Bombing Would Not Have Happened If I Were Your President 08_26_21\", \"term\": \"grieve\", \"tfidf\": 0.1347279519824138}, {\"document\": \"Donald Trump Speech in Davenport, Iowa 3_13_23 Transcript 03_14_23\", \"term\": \"said\", \"tfidf\": 0.2629446106825806}, {\"document\": \"Donald Trump Speech in Davenport, Iowa 3_13_23 Transcript 03_14_23\", \"term\": \"going\", \"tfidf\": 0.2572482176372491}, {\"document\": \"Donald Trump Speech in Davenport, Iowa 3_13_23 Transcript 03_14_23\", \"term\": \"people\", \"tfidf\": 0.1726310603615427}, {\"document\": \"Donald Trump Speech in Davenport, Iowa 3_13_23 Transcript 03_14_23\", \"term\": \"one\", \"tfidf\": 0.17096497895770082}, {\"document\": \"Donald Trump Speech in Davenport, Iowa 3_13_23 Transcript 03_14_23\", \"term\": \"got\", \"tfidf\": 0.154140249458686}, {\"document\": \"Donald Trump Speech in Davenport, Iowa 3_13_23 Transcript 03_14_23\", \"term\": \"know\", \"tfidf\": 0.1508577565308819}, {\"document\": \"Donald Trump Speech in Davenport, Iowa 3_13_23 Transcript 03_14_23\", \"term\": \"lot\", \"tfidf\": 0.13315563814673692}, {\"document\": \"Donald Trump Speech in Davenport, Iowa 3_13_23 Transcript 03_14_23\", \"term\": \"get\", \"tfidf\": 0.1330295952740543}, {\"document\": \"Donald Trump Speech in Davenport, Iowa 3_13_23 Transcript 03_14_23\", \"term\": \"good\", \"tfidf\": 0.1300069229391287}, {\"document\": \"Donald Trump Speech in Davenport, Iowa 3_13_23 Transcript 03_14_23\", \"term\": \"farmer\", \"tfidf\": 0.12765543256666884}, {\"document\": \"Donald Trump Speech on Election Fraud Claims Transcript 2 December 12_02_20\", \"term\": \"ballot\", \"tfidf\": 0.40262250812167716}, {\"document\": \"Donald Trump Speech on Election Fraud Claims Transcript 2 December 12_02_20\", \"term\": \"election\", \"tfidf\": 0.281332098107286}, {\"document\": \"Donald Trump Speech on Election Fraud Claims Transcript 2 December 12_02_20\", \"term\": \"vote\", \"tfidf\": 0.22859421154113707}, {\"document\": \"Donald Trump Speech on Election Fraud Claims Transcript 2 December 12_02_20\", \"term\": \"voter\", \"tfidf\": 0.2024751963010178}, {\"document\": \"Donald Trump Speech on Election Fraud Claims Transcript 2 December 12_02_20\", \"term\": \"fraud\", \"tfidf\": 0.1915006539695995}, {\"document\": \"Donald Trump Speech on Election Fraud Claims Transcript 2 December 12_02_20\", \"term\": \"state\", \"tfidf\": 0.17418737218976205}, {\"document\": \"Donald Trump Speech on Election Fraud Claims Transcript 2 December 12_02_20\", \"term\": \"signature\", \"tfidf\": 0.173599322287182}, {\"document\": \"Donald Trump Speech on Election Fraud Claims Transcript 2 December 12_02_20\", \"term\": \"mailin\", \"tfidf\": 0.14229147033635248}, {\"document\": \"Donald Trump Speech on Election Fraud Claims Transcript 2 December 12_02_20\", \"term\": \"many\", \"tfidf\": 0.1386949100388363}, {\"document\": \"Donald Trump Speech on Election Fraud Claims Transcript 2 December 12_02_20\", \"term\": \"people\", \"tfidf\": 0.12491910906374008}, {\"document\": \"Donald Trump Speech \\u201cSave America\\u201d Rally Transcript January 6 01_06_21\", \"term\": \"vote\", \"tfidf\": 0.23972363485347037}, {\"document\": \"Donald Trump Speech \\u201cSave America\\u201d Rally Transcript January 6 01_06_21\", \"term\": \"going\", \"tfidf\": 0.2290410128924909}, {\"document\": \"Donald Trump Speech \\u201cSave America\\u201d Rally Transcript January 6 01_06_21\", \"term\": \"ballot\", \"tfidf\": 0.2201845108373135}, {\"document\": \"Donald Trump Speech \\u201cSave America\\u201d Rally Transcript January 6 01_06_21\", \"term\": \"people\", \"tfidf\": 0.2159300049562392}, {\"document\": \"Donald Trump Speech \\u201cSave America\\u201d Rally Transcript January 6 01_06_21\", \"term\": \"want\", \"tfidf\": 0.20139694867991634}, {\"document\": \"Donald Trump Speech \\u201cSave America\\u201d Rally Transcript January 6 01_06_21\", \"term\": \"election\", \"tfidf\": 0.16994941884653023}, {\"document\": \"Donald Trump Speech \\u201cSave America\\u201d Rally Transcript January 6 01_06_21\", \"term\": \"state\", \"tfidf\": 0.1567481684111231}, {\"document\": \"Donald Trump Speech \\u201cSave America\\u201d Rally Transcript January 6 01_06_21\", \"term\": \"get\", \"tfidf\": 0.15117351163740522}, {\"document\": \"Donald Trump Speech \\u201cSave America\\u201d Rally Transcript January 6 01_06_21\", \"term\": \"got\", \"tfidf\": 0.13576059055811235}, {\"document\": \"Donald Trump Speech \\u201cSave America\\u201d Rally Transcript January 6 01_06_21\", \"term\": \"one\", \"tfidf\": 0.1297913308246878}, {\"document\": \"Donald Trump Thanksgiving Call to Troops Transcript 2020. Addresses Possibility of Conceding Election 11_26_20\", \"term\": \"vote\", \"tfidf\": 0.23577825970848962}, {\"document\": \"Donald Trump Thanksgiving Call to Troops Transcript 2020. Addresses Possibility of Conceding Election 11_26_20\", \"term\": \"going\", \"tfidf\": 0.2302362922514108}, {\"document\": \"Donald Trump Thanksgiving Call to Troops Transcript 2020. Addresses Possibility of Conceding Election 11_26_20\", \"term\": \"glitch\", \"tfidf\": 0.21479129939065714}, {\"document\": \"Donald Trump Thanksgiving Call to Troops Transcript 2020. Addresses Possibility of Conceding Election 11_26_20\", \"term\": \"look\", \"tfidf\": 0.19219167785405644}, {\"document\": \"Donald Trump Thanksgiving Call to Troops Transcript 2020. Addresses Possibility of Conceding Election 11_26_20\", \"term\": \"people\", \"tfidf\": 0.17259402227988127}, {\"document\": \"Donald Trump Thanksgiving Call to Troops Transcript 2020. Addresses Possibility of Conceding Election 11_26_20\", \"term\": \"thank\", \"tfidf\": 0.16314211906500245}, {\"document\": \"Donald Trump Thanksgiving Call to Troops Transcript 2020. Addresses Possibility of Conceding Election 11_26_20\", \"term\": \"know\", \"tfidf\": 0.15726652340011893}, {\"document\": \"Donald Trump Thanksgiving Call to Troops Transcript 2020. Addresses Possibility of Conceding Election 11_26_20\", \"term\": \"signature\", \"tfidf\": 0.14852409281959475}, {\"document\": \"Donald Trump Thanksgiving Call to Troops Transcript 2020. Addresses Possibility of Conceding Election 11_26_20\", \"term\": \"coast\", \"tfidf\": 0.13972834883572904}, {\"document\": \"Donald Trump Thanksgiving Call to Troops Transcript 2020. Addresses Possibility of Conceding Election 11_26_20\", \"term\": \"want\", \"tfidf\": 0.1364434263226709}, {\"document\": \"Donald Trump Victory Speech After Winning South Carolina GOP Primary Transcript 02_26_24\", \"term\": \"going\", \"tfidf\": 0.2571704188301768}, {\"document\": \"Donald Trump Victory Speech After Winning South Carolina GOP Primary Transcript 02_26_24\", \"term\": \"thank\", \"tfidf\": 0.24882963443363637}, {\"document\": \"Donald Trump Victory Speech After Winning South Carolina GOP Primary Transcript 02_26_24\", \"term\": \"carolina\", \"tfidf\": 0.18890203798352131}, {\"document\": \"Donald Trump Victory Speech After Winning South Carolina GOP Primary Transcript 02_26_24\", \"term\": \"michael\", \"tfidf\": 0.1866383473427012}, {\"document\": \"Donald Trump Victory Speech After Winning South Carolina GOP Primary Transcript 02_26_24\", \"term\": \"lindsey\", \"tfidf\": 0.17822143535850468}, {\"document\": \"Donald Trump Victory Speech After Winning South Carolina GOP Primary Transcript 02_26_24\", \"term\": \"country\", \"tfidf\": 0.15273010622231775}, {\"document\": \"Donald Trump Victory Speech After Winning South Carolina GOP Primary Transcript 02_26_24\", \"term\": \"said\", \"tfidf\": 0.15262524279725734}, {\"document\": \"Donald Trump Victory Speech After Winning South Carolina GOP Primary Transcript 02_26_24\", \"term\": \"great\", \"tfidf\": 0.14800350582033384}, {\"document\": \"Donald Trump Victory Speech After Winning South Carolina GOP Primary Transcript 02_26_24\", \"term\": \"much\", \"tfidf\": 0.14537940338241262}, {\"document\": \"Donald Trump Victory Speech After Winning South Carolina GOP Primary Transcript 02_26_24\", \"term\": \"got\", \"tfidf\": 0.13483987079578022}, {\"document\": \"Donald Trump Video Speech Transcript on COVID Relief Bill 22 December 12_22_20\", \"term\": \"relief\", \"tfidf\": 0.23668514017918424}, {\"document\": \"Donald Trump Video Speech Transcript on COVID Relief Bill 22 December 12_22_20\", \"term\": \"bill\", \"tfidf\": 0.23446631976841126}, {\"document\": \"Donald Trump Video Speech Transcript on COVID Relief Bill 22 December 12_22_20\", \"term\": \"million\", \"tfidf\": 0.22734573321531398}, {\"document\": \"Donald Trump Video Speech Transcript on COVID Relief Bill 22 December 12_22_20\", \"term\": \"fish\", \"tfidf\": 0.2239941185797165}, {\"document\": \"Donald Trump Video Speech Transcript on COVID Relief Bill 22 December 12_22_20\", \"term\": \"package\", \"tfidf\": 0.21554741521805018}, {\"document\": \"Donald Trump Video Speech Transcript on COVID Relief Bill 22 December 12_22_20\", \"term\": \"restaurant\", \"tfidf\": 0.21551089755782282}, {\"document\": \"Donald Trump Video Speech Transcript on COVID Relief Bill 22 December 12_22_20\", \"term\": \"congress\", \"tfidf\": 0.18001085161681854}, {\"document\": \"Donald Trump Video Speech Transcript on COVID Relief Bill 22 December 12_22_20\", \"term\": \"wasteful\", \"tfidf\": 0.17470905732876624}, {\"document\": \"Donald Trump Video Speech Transcript on COVID Relief Bill 22 December 12_22_20\", \"term\": \"fault\", \"tfidf\": 0.15798366925955828}, {\"document\": \"Donald Trump Video Speech Transcript on COVID Relief Bill 22 December 12_22_20\", \"term\": \"covid\", \"tfidf\": 0.13528423797158678}, {\"document\": \"Donald Trump Wellington, Ohio Rally Speech Transcript. First Rally Since Leaving Office 06_27_21\", \"term\": \"going\", \"tfidf\": 0.24450047238090097}, {\"document\": \"Donald Trump Wellington, Ohio Rally Speech Transcript. First Rally Since Leaving Office 06_27_21\", \"term\": \"said\", \"tfidf\": 0.21171348692925487}, {\"document\": \"Donald Trump Wellington, Ohio Rally Speech Transcript. First Rally Since Leaving Office 06_27_21\", \"term\": \"ohio\", \"tfidf\": 0.21087697859141233}, {\"document\": \"Donald Trump Wellington, Ohio Rally Speech Transcript. First Rally Since Leaving Office 06_27_21\", \"term\": \"people\", \"tfidf\": 0.1975865487980653}, {\"document\": \"Donald Trump Wellington, Ohio Rally Speech Transcript. First Rally Since Leaving Office 06_27_21\", \"term\": \"know\", \"tfidf\": 0.1728920210616668}, {\"document\": \"Donald Trump Wellington, Ohio Rally Speech Transcript. First Rally Since Leaving Office 06_27_21\", \"term\": \"election\", \"tfidf\": 0.1544188231745361}, {\"document\": \"Donald Trump Wellington, Ohio Rally Speech Transcript. First Rally Since Leaving Office 06_27_21\", \"term\": \"country\", \"tfidf\": 0.15037784881773097}, {\"document\": \"Donald Trump Wellington, Ohio Rally Speech Transcript. First Rally Since Leaving Office 06_27_21\", \"term\": \"max\", \"tfidf\": 0.14104321869991107}, {\"document\": \"Donald Trump Wellington, Ohio Rally Speech Transcript. First Rally Since Leaving Office 06_27_21\", \"term\": \"snake\", \"tfidf\": 0.1397606057487817}, {\"document\": \"Donald Trump Wellington, Ohio Rally Speech Transcript. First Rally Since Leaving Office 06_27_21\", \"term\": \"great\", \"tfidf\": 0.13271432147690426}, {\"document\": \"Donald Trump White House Press Conference as Election Counts Continue Transcript 5 November 11_05_20\", \"term\": \"election\", \"tfidf\": 0.3341384167954584}, {\"document\": \"Donald Trump White House Press Conference as Election Counts Continue Transcript 5 November 11_05_20\", \"term\": \"vote\", \"tfidf\": 0.25140553868191945}, {\"document\": \"Donald Trump White House Press Conference as Election Counts Continue Transcript 5 November 11_05_20\", \"term\": \"observer\", \"tfidf\": 0.2501251477894017}, {\"document\": \"Donald Trump White House Press Conference as Election Counts Continue Transcript 5 November 11_05_20\", \"term\": \"counting\", \"tfidf\": 0.19697082118327283}, {\"document\": \"Donald Trump White House Press Conference as Election Counts Continue Transcript 5 November 11_05_20\", \"term\": \"litigation\", \"tfidf\": 0.19115911384420348}, {\"document\": \"Donald Trump White House Press Conference as Election Counts Continue Transcript 5 November 11_05_20\", \"term\": \"lot\", \"tfidf\": 0.18134242034859815}, {\"document\": \"Donald Trump White House Press Conference as Election Counts Continue Transcript 5 November 11_05_20\", \"term\": \"whittled\", \"tfidf\": 0.17182578688754263}, {\"document\": \"Donald Trump White House Press Conference as Election Counts Continue Transcript 5 November 11_05_20\", \"term\": \"want\", \"tfidf\": 0.16052805955604837}, {\"document\": \"Donald Trump White House Press Conference as Election Counts Continue Transcript 5 November 11_05_20\", \"term\": \"legal\", \"tfidf\": 0.12303325033159833}, {\"document\": \"Donald Trump White House Press Conference as Election Counts Continue Transcript 5 November 11_05_20\", \"term\": \"democrat\", \"tfidf\": 0.1216855431443659}, {\"document\": \"Donald Trump White House Press Conference on Lowering Drug Prices Transcript 11_20_20\", \"term\": \"drug\", \"tfidf\": 0.41621304539832693}, {\"document\": \"Donald Trump White House Press Conference on Lowering Drug Prices Transcript 11_20_20\", \"term\": \"price\", \"tfidf\": 0.29694532245353206}, {\"document\": \"Donald Trump White House Press Conference on Lowering Drug Prices Transcript 11_20_20\", \"term\": \"patient\", \"tfidf\": 0.27578605319001376}, {\"document\": \"Donald Trump White House Press Conference on Lowering Drug Prices Transcript 11_20_20\", \"term\": \"insulin\", \"tfidf\": 0.21520454193712676}, {\"document\": \"Donald Trump White House Press Conference on Lowering Drug Prices Transcript 11_20_20\", \"term\": \"pricing\", \"tfidf\": 0.17934650868738958}, {\"document\": \"Donald Trump White House Press Conference on Lowering Drug Prices Transcript 11_20_20\", \"term\": \"pharma\", \"tfidf\": 0.14444364523316505}, {\"document\": \"Donald Trump White House Press Conference on Lowering Drug Prices Transcript 11_20_20\", \"term\": \"discount\", \"tfidf\": 0.1434457002728101}, {\"document\": \"Donald Trump White House Press Conference on Lowering Drug Prices Transcript 11_20_20\", \"term\": \"middleman\", \"tfidf\": 0.132301073817332}, {\"document\": \"Donald Trump White House Press Conference on Lowering Drug Prices Transcript 11_20_20\", \"term\": \"american\", \"tfidf\": 0.12175969081584563}, {\"document\": \"Donald Trump White House Press Conference on Lowering Drug Prices Transcript 11_20_20\", \"term\": \"generic\", \"tfidf\": 0.10762512752390342}, {\"document\": \"Donald Trump held a rally in Greensburg, Pennsylvania on 5_07_22 in support of GOP Senate candidate Dr. Oz. Transcript 05_08_22\", \"term\": \"going\", \"tfidf\": 0.28146284576869846}, {\"document\": \"Donald Trump held a rally in Greensburg, Pennsylvania on 5_07_22 in support of GOP Senate candidate Dr. Oz. Transcript 05_08_22\", \"term\": \"said\", \"tfidf\": 0.19510889784447344}, {\"document\": \"Donald Trump held a rally in Greensburg, Pennsylvania on 5_07_22 in support of GOP Senate candidate Dr. Oz. Transcript 05_08_22\", \"term\": \"people\", \"tfidf\": 0.17866384173726257}, {\"document\": \"Donald Trump held a rally in Greensburg, Pennsylvania on 5_07_22 in support of GOP Senate candidate Dr. Oz. Transcript 05_08_22\", \"term\": \"pennsylvania\", \"tfidf\": 0.17281481222476916}, {\"document\": \"Donald Trump held a rally in Greensburg, Pennsylvania on 5_07_22 in support of GOP Senate candidate Dr. Oz. Transcript 05_08_22\", \"term\": \"great\", \"tfidf\": 0.1713371521598202}, {\"document\": \"Donald Trump held a rally in Greensburg, Pennsylvania on 5_07_22 in support of GOP Senate candidate Dr. Oz. Transcript 05_08_22\", \"term\": \"country\", \"tfidf\": 0.15123221461579442}, {\"document\": \"Donald Trump held a rally in Greensburg, Pennsylvania on 5_07_22 in support of GOP Senate candidate Dr. Oz. Transcript 05_08_22\", \"term\": \"would\", \"tfidf\": 0.1392645870835215}, {\"document\": \"Donald Trump held a rally in Greensburg, Pennsylvania on 5_07_22 in support of GOP Senate candidate Dr. Oz. Transcript 05_08_22\", \"term\": \"say\", \"tfidf\": 0.1345820244279184}, {\"document\": \"Donald Trump held a rally in Greensburg, Pennsylvania on 5_07_22 in support of GOP Senate candidate Dr. Oz. Transcript 05_08_22\", \"term\": \"sir\", \"tfidf\": 0.12928112781600243}, {\"document\": \"Donald Trump held a rally in Greensburg, Pennsylvania on 5_07_22 in support of GOP Senate candidate Dr. Oz. Transcript 05_08_22\", \"term\": \"arnold\", \"tfidf\": 0.1254371160062968}, {\"document\": \"Donald Trump speaks at a Campaign Event in Concord, New Hampshire Transcript 01_22_24\", \"term\": \"going\", \"tfidf\": 0.3116474722276269}, {\"document\": \"Donald Trump speaks at a Campaign Event in Concord, New Hampshire Transcript 01_22_24\", \"term\": \"people\", \"tfidf\": 0.24849832027778726}, {\"document\": \"Donald Trump speaks at a Campaign Event in Concord, New Hampshire Transcript 01_22_24\", \"term\": \"know\", \"tfidf\": 0.18374943262878002}, {\"document\": \"Donald Trump speaks at a Campaign Event in Concord, New Hampshire Transcript 01_22_24\", \"term\": \"like\", \"tfidf\": 0.17216866332192643}, {\"document\": \"Donald Trump speaks at a Campaign Event in Concord, New Hampshire Transcript 01_22_24\", \"term\": \"country\", \"tfidf\": 0.16740118439713045}, {\"document\": \"Donald Trump speaks at a Campaign Event in Concord, New Hampshire Transcript 01_22_24\", \"term\": \"said\", \"tfidf\": 0.1638398498185951}, {\"document\": \"Donald Trump speaks at a Campaign Event in Concord, New Hampshire Transcript 01_22_24\", \"term\": \"want\", \"tfidf\": 0.1620779166193445}, {\"document\": \"Donald Trump speaks at a Campaign Event in Concord, New Hampshire Transcript 01_22_24\", \"term\": \"one\", \"tfidf\": 0.14123339842312485}, {\"document\": \"Donald Trump speaks at a Campaign Event in Concord, New Hampshire Transcript 01_22_24\", \"term\": \"get\", \"tfidf\": 0.1327424564723522}, {\"document\": \"Donald Trump speaks at a Campaign Event in Concord, New Hampshire Transcript 01_22_24\", \"term\": \"got\", \"tfidf\": 0.13193883176994745}, {\"document\": \"Donald Trump\\u2019s First Comments Since Capitol Riots. Says He Wants No Violence 01_12_21\", \"term\": \"violence\", \"tfidf\": 0.37061112773060106}, {\"document\": \"Donald Trump\\u2019s First Comments Since Capitol Riots. Says He Wants No Violence 01_12_21\", \"term\": \"causing\", \"tfidf\": 0.2257495338439201}, {\"document\": \"Donald Trump\\u2019s First Comments Since Capitol Riots. Says He Wants No Violence 01_12_21\", \"term\": \"predicting\", \"tfidf\": 0.22212785044971217}, {\"document\": \"Donald Trump\\u2019s First Comments Since Capitol Riots. Says He Wants No Violence 01_12_21\", \"term\": \"anger\", \"tfidf\": 0.22095095513631685}, {\"document\": \"Donald Trump\\u2019s First Comments Since Capitol Riots. Says He Wants No Violence 01_12_21\", \"term\": \"analyzed\", \"tfidf\": 0.2087587990604396}, {\"document\": \"Donald Trump\\u2019s First Comments Since Capitol Riots. Says He Wants No Violence 01_12_21\", \"term\": \"tremendous\", \"tfidf\": 0.1888658890616353}, {\"document\": \"Donald Trump\\u2019s First Comments Since Capitol Riots. Says He Wants No Violence 01_12_21\", \"term\": \"riot\", \"tfidf\": 0.15394230885548277}, {\"document\": \"Donald Trump\\u2019s First Comments Since Capitol Riots. Says He Wants No Violence 01_12_21\", \"term\": \"avoid\", \"tfidf\": 0.1505235881964595}, {\"document\": \"Donald Trump\\u2019s First Comments Since Capitol Riots. Says He Wants No Violence 01_12_21\", \"term\": \"appropriate\", \"tfidf\": 0.14436170859722408}, {\"document\": \"Donald Trump\\u2019s First Comments Since Capitol Riots. Says He Wants No Violence 01_12_21\", \"term\": \"mistake\", \"tfidf\": 0.1329095545627597}, {\"document\": \"Donald Trump\\u2019s full NRA speech 5_27_22 Transcript 05_29_22\", \"term\": \"school\", \"tfidf\": 0.33954044052271654}, {\"document\": \"Donald Trump\\u2019s full NRA speech 5_27_22 Transcript 05_29_22\", \"term\": \"garcia\", \"tfidf\": 0.15805155808821655}, {\"document\": \"Donald Trump\\u2019s full NRA speech 5_27_22 Transcript 05_29_22\", \"term\": \"gun\", \"tfidf\": 0.1488564081871489}, {\"document\": \"Donald Trump\\u2019s full NRA speech 5_27_22 Transcript 05_29_22\", \"term\": \"teacher\", \"tfidf\": 0.1330122570408539}, {\"document\": \"Donald Trump\\u2019s full NRA speech 5_27_22 Transcript 05_29_22\", \"term\": \"pure\", \"tfidf\": 0.11917637777964879}, {\"document\": \"Donald Trump\\u2019s full NRA speech 5_27_22 Transcript 05_29_22\", \"term\": \"armed\", \"tfidf\": 0.11710049108143297}, {\"document\": \"Donald Trump\\u2019s full NRA speech 5_27_22 Transcript 05_29_22\", \"term\": \"many\", \"tfidf\": 0.11493006162487251}, {\"document\": \"Donald Trump\\u2019s full NRA speech 5_27_22 Transcript 05_29_22\", \"term\": \"rodriguez\", \"tfidf\": 0.1054223333434455}, {\"document\": \"Donald Trump\\u2019s full NRA speech 5_27_22 Transcript 05_29_22\", \"term\": \"torres\", \"tfidf\": 0.10536251655511455}, {\"document\": \"Donald Trump\\u2019s full NRA speech 5_27_22 Transcript 05_29_22\", \"term\": \"target\", \"tfidf\": 0.10098743235328257}, {\"document\": \"FULL SPEECH - President Trump speaks at a campaign event in Claremont, N.H. - 11_11_23\", \"term\": \"uh\", \"tfidf\": 0.42280049683717813}, {\"document\": \"FULL SPEECH - President Trump speaks at a campaign event in Claremont, N.H. - 11_11_23\", \"term\": \"dont\", \"tfidf\": 0.3979434135252671}, {\"document\": \"FULL SPEECH - President Trump speaks at a campaign event in Claremont, N.H. - 11_11_23\", \"term\": \"thats\", \"tfidf\": 0.27483625547040774}, {\"document\": \"FULL SPEECH - President Trump speaks at a campaign event in Claremont, N.H. - 11_11_23\", \"term\": \"theyre\", \"tfidf\": 0.2736628147367383}, {\"document\": \"FULL SPEECH - President Trump speaks at a campaign event in Claremont, N.H. - 11_11_23\", \"term\": \"im\", \"tfidf\": 0.22223947509564604}, {\"document\": \"FULL SPEECH - President Trump speaks at a campaign event in Claremont, N.H. - 11_11_23\", \"term\": \"know\", \"tfidf\": 0.19643118052999903}, {\"document\": \"FULL SPEECH - President Trump speaks at a campaign event in Claremont, N.H. - 11_11_23\", \"term\": \"didnt\", \"tfidf\": 0.18107940247964294}, {\"document\": \"FULL SPEECH - President Trump speaks at a campaign event in Claremont, N.H. - 11_11_23\", \"term\": \"said\", \"tfidf\": 0.17118930211372935}, {\"document\": \"FULL SPEECH - President Trump speaks at a campaign event in Claremont, N.H. - 11_11_23\", \"term\": \"youre\", \"tfidf\": 0.13092063962522935}, {\"document\": \"FULL SPEECH - President Trump speaks at a campaign event in Claremont, N.H. - 11_11_23\", \"term\": \"going\", \"tfidf\": 0.12564718513076792}, {\"document\": \"FULL SPEECH. President Trump to Speak at Iowa Commit to Caucus Event in Waterloo, Iowa - 12_19_23_YOUTUBE\", \"term\": \"theyre\", \"tfidf\": 0.43540939192693867}, {\"document\": \"FULL SPEECH. President Trump to Speak at Iowa Commit to Caucus Event in Waterloo, Iowa - 12_19_23_YOUTUBE\", \"term\": \"dont\", \"tfidf\": 0.3337595215818431}, {\"document\": \"FULL SPEECH. President Trump to Speak at Iowa Commit to Caucus Event in Waterloo, Iowa - 12_19_23_YOUTUBE\", \"term\": \"uh\", \"tfidf\": 0.28299995512156595}, {\"document\": \"FULL SPEECH. President Trump to Speak at Iowa Commit to Caucus Event in Waterloo, Iowa - 12_19_23_YOUTUBE\", \"term\": \"thats\", \"tfidf\": 0.25196119548095397}, {\"document\": \"FULL SPEECH. President Trump to Speak at Iowa Commit to Caucus Event in Waterloo, Iowa - 12_19_23_YOUTUBE\", \"term\": \"im\", \"tfidf\": 0.24309788699541432}, {\"document\": \"FULL SPEECH. President Trump to Speak at Iowa Commit to Caucus Event in Waterloo, Iowa - 12_19_23_YOUTUBE\", \"term\": \"going\", \"tfidf\": 0.21999561905587897}, {\"document\": \"FULL SPEECH. President Trump to Speak at Iowa Commit to Caucus Event in Waterloo, Iowa - 12_19_23_YOUTUBE\", \"term\": \"know\", \"tfidf\": 0.17098701187930643}, {\"document\": \"FULL SPEECH. President Trump to Speak at Iowa Commit to Caucus Event in Waterloo, Iowa - 12_19_23_YOUTUBE\", \"term\": \"youre\", \"tfidf\": 0.16040974940411537}, {\"document\": \"FULL SPEECH. President Trump to Speak at Iowa Commit to Caucus Event in Waterloo, Iowa - 12_19_23_YOUTUBE\", \"term\": \"didnt\", \"tfidf\": 0.14626166878035451}, {\"document\": \"FULL SPEECH. President Trump to Speak at Iowa Commit to Caucus Event in Waterloo, Iowa - 12_19_23_YOUTUBE\", \"term\": \"iowa\", \"tfidf\": 0.10340392865889897}, {\"document\": \"FULL SPEECH. Trump Pledges To Carry Out 'The Largest Domestic Deportation Operation In American History'\", \"term\": \"border\", \"tfidf\": 0.26506111595685544}, {\"document\": \"FULL SPEECH. Trump Pledges To Carry Out 'The Largest Domestic Deportation Operation In American History'\", \"term\": \"cant\", \"tfidf\": 0.26303875384967235}, {\"document\": \"FULL SPEECH. Trump Pledges To Carry Out 'The Largest Domestic Deportation Operation In American History'\", \"term\": \"eisenhower\", \"tfidf\": 0.22036532418882046}, {\"document\": \"FULL SPEECH. Trump Pledges To Carry Out 'The Largest Domestic Deportation Operation In American History'\", \"term\": \"country\", \"tfidf\": 0.1981645467983486}, {\"document\": \"FULL SPEECH. Trump Pledges To Carry Out 'The Largest Domestic Deportation Operation In American History'\", \"term\": \"patrol\", \"tfidf\": 0.19136100197163838}, {\"document\": \"FULL SPEECH. Trump Pledges To Carry Out 'The Largest Domestic Deportation Operation In American History'\", \"term\": \"mental\", \"tfidf\": 0.17793911815669947}, {\"document\": \"FULL SPEECH. Trump Pledges To Carry Out 'The Largest Domestic Deportation Operation In American History'\", \"term\": \"institution\", \"tfidf\": 0.1694822012543925}, {\"document\": \"FULL SPEECH. Trump Pledges To Carry Out 'The Largest Domestic Deportation Operation In American History'\", \"term\": \"deportation\", \"tfidf\": 0.15908897690092194}, {\"document\": \"FULL SPEECH. Trump Pledges To Carry Out 'The Largest Domestic Deportation Operation In American History'\", \"term\": \"happen\", \"tfidf\": 0.15298153782123036}, {\"document\": \"FULL SPEECH. Trump Pledges To Carry Out 'The Largest Domestic Deportation Operation In American History'\", \"term\": \"history\", \"tfidf\": 0.14381289914881407}, {\"document\": \"FULL SPEECH. Trump Pledges To Enact The 'Largest Deportation In The History Of Our Country' In CPAC Speech\", \"term\": \"youre\", \"tfidf\": 0.39409940094060625}, {\"document\": \"FULL SPEECH. Trump Pledges To Enact The 'Largest Deportation In The History Of Our Country' In CPAC Speech\", \"term\": \"theyre\", \"tfidf\": 0.3121401328918927}, {\"document\": \"FULL SPEECH. Trump Pledges To Enact The 'Largest Deportation In The History Of Our Country' In CPAC Speech\", \"term\": \"dont\", \"tfidf\": 0.28092220638994525}, {\"document\": \"FULL SPEECH. Trump Pledges To Enact The 'Largest Deportation In The History Of Our Country' In CPAC Speech\", \"term\": \"said\", \"tfidf\": 0.24622969841363962}, {\"document\": \"FULL SPEECH. Trump Pledges To Enact The 'Largest Deportation In The History Of Our Country' In CPAC Speech\", \"term\": \"going\", \"tfidf\": 0.20610767264501167}, {\"document\": \"FULL SPEECH. Trump Pledges To Enact The 'Largest Deportation In The History Of Our Country' In CPAC Speech\", \"term\": \"country\", \"tfidf\": 0.17245562791209954}, {\"document\": \"FULL SPEECH. Trump Pledges To Enact The 'Largest Deportation In The History Of Our Country' In CPAC Speech\", \"term\": \"thing\", \"tfidf\": 0.13333066401063295}, {\"document\": \"FULL SPEECH. Trump Pledges To Enact The 'Largest Deportation In The History Of Our Country' In CPAC Speech\", \"term\": \"thats\", \"tfidf\": 0.1313927273921434}, {\"document\": \"FULL SPEECH. Trump Pledges To Enact The 'Largest Deportation In The History Of Our Country' In CPAC Speech\", \"term\": \"mexico\", \"tfidf\": 0.13038029234998585}, {\"document\": \"FULL SPEECH. Trump Pledges To Enact The 'Largest Deportation In The History Of Our Country' In CPAC Speech\", \"term\": \"release\", \"tfidf\": 0.12947114470441135}, {\"document\": \"FULL SPEECH. Trump announces 'largest deportation in American history' if he is reelected\", \"term\": \"alien\", \"tfidf\": 0.23213726672153376}, {\"document\": \"FULL SPEECH. Trump announces 'largest deportation in American history' if he is reelected\", \"term\": \"kooka\", \"tfidf\": 0.22721863792052557}, {\"document\": \"FULL SPEECH. Trump announces 'largest deportation in American history' if he is reelected\", \"term\": \"invoke\", \"tfidf\": 0.19683157141706412}, {\"document\": \"FULL SPEECH. Trump announces 'largest deportation in American history' if he is reelected\", \"term\": \"joe\", \"tfidf\": 0.1948089656014598}, {\"document\": \"FULL SPEECH. Trump announces 'largest deportation in American history' if he is reelected\", \"term\": \"lo\", \"tfidf\": 0.18703014187587508}, {\"document\": \"FULL SPEECH. Trump announces 'largest deportation in American history' if he is reelected\", \"term\": \"theyve\", \"tfidf\": 0.1871011690180888}, {\"document\": \"FULL SPEECH. Trump announces 'largest deportation in American history' if he is reelected\", \"term\": \"biden\", \"tfidf\": 0.18696034946541631}, {\"document\": \"FULL SPEECH. Trump announces 'largest deportation in American history' if he is reelected\", \"term\": \"im\", \"tfidf\": 0.17907848156560202}, {\"document\": \"FULL SPEECH. Trump announces 'largest deportation in American history' if he is reelected\", \"term\": \"brilliant\", \"tfidf\": 0.17577869698640552}, {\"document\": \"FULL SPEECH. Trump announces 'largest deportation in American history' if he is reelected\", \"term\": \"invading\", \"tfidf\": 0.1722866579848842}, {\"document\": \"Former President Donald Trump Election Rally From New Hampshire Transcript 05_01_23\", \"term\": \"going\", \"tfidf\": 0.3181891026737438}, {\"document\": \"Former President Donald Trump Election Rally From New Hampshire Transcript 05_01_23\", \"term\": \"people\", \"tfidf\": 0.21560004953693276}, {\"document\": \"Former President Donald Trump Election Rally From New Hampshire Transcript 05_01_23\", \"term\": \"want\", \"tfidf\": 0.19761435117295562}, {\"document\": \"Former President Donald Trump Election Rally From New Hampshire Transcript 05_01_23\", \"term\": \"country\", \"tfidf\": 0.16404777624669045}, {\"document\": \"Former President Donald Trump Election Rally From New Hampshire Transcript 05_01_23\", \"term\": \"say\", \"tfidf\": 0.16021982875887392}, {\"document\": \"Former President Donald Trump Election Rally From New Hampshire Transcript 05_01_23\", \"term\": \"got\", \"tfidf\": 0.15022393161138167}, {\"document\": \"Former President Donald Trump Election Rally From New Hampshire Transcript 05_01_23\", \"term\": \"get\", \"tfidf\": 0.14698279986862098}, {\"document\": \"Former President Donald Trump Election Rally From New Hampshire Transcript 05_01_23\", \"term\": \"china\", \"tfidf\": 0.1352863946292027}, {\"document\": \"Former President Donald Trump Election Rally From New Hampshire Transcript 05_01_23\", \"term\": \"know\", \"tfidf\": 0.1304146884256881}, {\"document\": \"Former President Donald Trump Election Rally From New Hampshire Transcript 05_01_23\", \"term\": \"one\", \"tfidf\": 0.12565989259353716}, {\"document\": \"Former President Donald Trump speaks at CPAC 8_06_22 Transcript 08_07_22\", \"term\": \"going\", \"tfidf\": 0.23654994236979004}, {\"document\": \"Former President Donald Trump speaks at CPAC 8_06_22 Transcript 08_07_22\", \"term\": \"people\", \"tfidf\": 0.2344912889676947}, {\"document\": \"Former President Donald Trump speaks at CPAC 8_06_22 Transcript 08_07_22\", \"term\": \"country\", \"tfidf\": 0.20259297792255151}, {\"document\": \"Former President Donald Trump speaks at CPAC 8_06_22 Transcript 08_07_22\", \"term\": \"said\", \"tfidf\": 0.1804457683578639}, {\"document\": \"Former President Donald Trump speaks at CPAC 8_06_22 Transcript 08_07_22\", \"term\": \"want\", \"tfidf\": 0.15330524778583468}, {\"document\": \"Former President Donald Trump speaks at CPAC 8_06_22 Transcript 08_07_22\", \"term\": \"great\", \"tfidf\": 0.14667333039925046}, {\"document\": \"Former President Donald Trump speaks at CPAC 8_06_22 Transcript 08_07_22\", \"term\": \"back\", \"tfidf\": 0.13796388915197744}, {\"document\": \"Former President Donald Trump speaks at CPAC 8_06_22 Transcript 08_07_22\", \"term\": \"right\", \"tfidf\": 0.1345521869644951}, {\"document\": \"Former President Donald Trump speaks at CPAC 8_06_22 Transcript 08_07_22\", \"term\": \"like\", \"tfidf\": 0.12772692409519787}, {\"document\": \"Former President Donald Trump speaks at CPAC 8_06_22 Transcript 08_07_22\", \"term\": \"never\", \"tfidf\": 0.12585518085681768}, {\"document\": \"Former President Trump Responds to 2023 State of the Union Address Transcript 02_08_23\", \"term\": \"biden\", \"tfidf\": 0.28184607406912965}, {\"document\": \"Former President Trump Responds to 2023 State of the Union Address Transcript 02_08_23\", \"term\": \"mutilate\", \"tfidf\": 0.17812504920194092}, {\"document\": \"Former President Trump Responds to 2023 State of the Union Address Transcript 02_08_23\", \"term\": \"smuggling\", \"tfidf\": 0.1780769345443581}, {\"document\": \"Former President Trump Responds to 2023 State of the Union Address Transcript 02_08_23\", \"term\": \"soared\", \"tfidf\": 0.17812214432717835}, {\"document\": \"Former President Trump Responds to 2023 State of the Union Address Transcript 02_08_23\", \"term\": \"unfinished\", \"tfidf\": 0.17807371518861395}, {\"document\": \"Former President Trump Responds to 2023 State of the Union Address Transcript 02_08_23\", \"term\": \"country\", \"tfidf\": 0.16997525825667864}, {\"document\": \"Former President Trump Responds to 2023 State of the Union Address Transcript 02_08_23\", \"term\": \"raking\", \"tfidf\": 0.16208020011277283}, {\"document\": \"Former President Trump Responds to 2023 State of the Union Address Transcript 02_08_23\", \"term\": \"wasted\", \"tfidf\": 0.15593772015117202}, {\"document\": \"Former President Trump Responds to 2023 State of the Union Address Transcript 02_08_23\", \"term\": \"brink\", \"tfidf\": 0.15062637482282623}, {\"document\": \"Former President Trump Responds to 2023 State of the Union Address Transcript 02_08_23\", \"term\": \"kill\", \"tfidf\": 0.14538298806502278}, {\"document\": \"Former President Trump announces 2024 presidential bid Transcript 11_16_22\", \"term\": \"aa\", \"tfidf\": 1.0582614762028486e-05}, {\"document\": \"Former President Trump announces 2024 presidential bid Transcript 11_16_22\", \"term\": \"aah\", \"tfidf\": 1.468591619493439e-05}, {\"document\": \"Former President Trump announces 2024 presidential bid Transcript 11_16_22\", \"term\": \"aback\", \"tfidf\": 4.267288872610731e-05}, {\"document\": \"Former President Trump announces 2024 presidential bid Transcript 11_16_22\", \"term\": \"abandon\", \"tfidf\": 9.206616856152747e-05}, {\"document\": \"Former President Trump announces 2024 presidential bid Transcript 11_16_22\", \"term\": \"abandoned\", \"tfidf\": 9.211910535069664e-05}, {\"document\": \"Former President Trump announces 2024 presidential bid Transcript 11_16_22\", \"term\": \"abandoning\", \"tfidf\": 2.41191750874023e-05}, {\"document\": \"Former President Trump announces 2024 presidential bid Transcript 11_16_22\", \"term\": \"abandonment\", \"tfidf\": 9.42236036732551e-05}, {\"document\": \"Former President Trump announces 2024 presidential bid Transcript 11_16_22\", \"term\": \"abbot\", \"tfidf\": 2.415606258644656e-05}, {\"document\": \"Former President Trump announces 2024 presidential bid Transcript 11_16_22\", \"term\": \"abbott\", \"tfidf\": 9.306531848717953e-05}, {\"document\": \"Former President Trump announces 2024 presidential bid Transcript 11_16_22\", \"term\": \"abbreviated\", \"tfidf\": 8.595688373634668e-05}, {\"document\": \"Former President Trump speaks at NC campaign rally 9_23_22 Transcript 09_26_22\", \"term\": \"ted\", \"tfidf\": 0.29079840570894444}, {\"document\": \"Former President Trump speaks at NC campaign rally 9_23_22 Transcript 09_26_22\", \"term\": \"going\", \"tfidf\": 0.22551858966005506}, {\"document\": \"Former President Trump speaks at NC campaign rally 9_23_22 Transcript 09_26_22\", \"term\": \"people\", \"tfidf\": 0.18205396902741475}, {\"document\": \"Former President Trump speaks at NC campaign rally 9_23_22 Transcript 09_26_22\", \"term\": \"carolina\", \"tfidf\": 0.16665279781207518}, {\"document\": \"Former President Trump speaks at NC campaign rally 9_23_22 Transcript 09_26_22\", \"term\": \"said\", \"tfidf\": 0.16377873853773017}, {\"document\": \"Former President Trump speaks at NC campaign rally 9_23_22 Transcript 09_26_22\", \"term\": \"country\", \"tfidf\": 0.1589140802202809}, {\"document\": \"Former President Trump speaks at NC campaign rally 9_23_22 Transcript 09_26_22\", \"term\": \"north\", \"tfidf\": 0.1511709807263247}, {\"document\": \"Former President Trump speaks at NC campaign rally 9_23_22 Transcript 09_26_22\", \"term\": \"want\", \"tfidf\": 0.14709631350004723}, {\"document\": \"Former President Trump speaks at NC campaign rally 9_23_22 Transcript 09_26_22\", \"term\": \"budd\", \"tfidf\": 0.13844187417066936}, {\"document\": \"Former President Trump speaks at NC campaign rally 9_23_22 Transcript 09_26_22\", \"term\": \"got\", \"tfidf\": 0.13568293515548122}, {\"document\": \"Former US President Donald Trump Delivers Speech Ahead of Independence Day Transcript 07_03_23\", \"term\": \"going\", \"tfidf\": 0.17920512517060513}, {\"document\": \"Former US President Donald Trump Delivers Speech Ahead of Independence Day Transcript 07_03_23\", \"term\": \"pickens\", \"tfidf\": 0.17415979934705944}, {\"document\": \"Former US President Donald Trump Delivers Speech Ahead of Independence Day Transcript 07_03_23\", \"term\": \"country\", \"tfidf\": 0.17097535325076257}, {\"document\": \"Former US President Donald Trump Delivers Speech Ahead of Independence Day Transcript 07_03_23\", \"term\": \"people\", \"tfidf\": 0.17003312568404885}, {\"document\": \"Former US President Donald Trump Delivers Speech Ahead of Independence Day Transcript 07_03_23\", \"term\": \"biden\", \"tfidf\": 0.15921482734238454}, {\"document\": \"Former US President Donald Trump Delivers Speech Ahead of Independence Day Transcript 07_03_23\", \"term\": \"one\", \"tfidf\": 0.1584241527124685}, {\"document\": \"Former US President Donald Trump Delivers Speech Ahead of Independence Day Transcript 07_03_23\", \"term\": \"like\", \"tfidf\": 0.13708014203771976}, {\"document\": \"Former US President Donald Trump Delivers Speech Ahead of Independence Day Transcript 07_03_23\", \"term\": \"many\", \"tfidf\": 0.13613057549049765}, {\"document\": \"Former US President Donald Trump Delivers Speech Ahead of Independence Day Transcript 07_03_23\", \"term\": \"snake\", \"tfidf\": 0.13007574802233504}, {\"document\": \"Former US President Donald Trump Delivers Speech Ahead of Independence Day Transcript 07_03_23\", \"term\": \"right\", \"tfidf\": 0.12990828326256318}, {\"document\": \"Iowa Town Hall with Donald Trump 1_10_24 Transcript 01_11_24\", \"term\": \"going\", \"tfidf\": 0.3631786823407612}, {\"document\": \"Iowa Town Hall with Donald Trump 1_10_24 Transcript 01_11_24\", \"term\": \"think\", \"tfidf\": 0.19294559544566178}, {\"document\": \"Iowa Town Hall with Donald Trump 1_10_24 Transcript 01_11_24\", \"term\": \"people\", \"tfidf\": 0.18619540396457032}, {\"document\": \"Iowa Town Hall with Donald Trump 1_10_24 Transcript 01_11_24\", \"term\": \"said\", \"tfidf\": 0.13775909942524614}, {\"document\": \"Iowa Town Hall with Donald Trump 1_10_24 Transcript 01_11_24\", \"term\": \"want\", \"tfidf\": 0.1343539421031201}, {\"document\": \"Iowa Town Hall with Donald Trump 1_10_24 Transcript 01_11_24\", \"term\": \"chaos\", \"tfidf\": 0.1342022685704199}, {\"document\": \"Iowa Town Hall with Donald Trump 1_10_24 Transcript 01_11_24\", \"term\": \"money\", \"tfidf\": 0.13025054638113243}, {\"document\": \"Iowa Town Hall with Donald Trump 1_10_24 Transcript 01_11_24\", \"term\": \"say\", \"tfidf\": 0.12542502592842678}, {\"document\": \"Iowa Town Hall with Donald Trump 1_10_24 Transcript 01_11_24\", \"term\": \"would\", \"tfidf\": 0.1243592285098916}, {\"document\": \"Iowa Town Hall with Donald Trump 1_10_24 Transcript 01_11_24\", \"term\": \"lot\", \"tfidf\": 0.12276326634238677}, {\"document\": \"Meet The Press Full Donald Trump Interview Transcript 09_18_23\", \"term\": \"going\", \"tfidf\": 0.2881550924292159}, {\"document\": \"Meet The Press Full Donald Trump Interview Transcript 09_18_23\", \"term\": \"people\", \"tfidf\": 0.28194289924751464}, {\"document\": \"Meet The Press Full Donald Trump Interview Transcript 09_18_23\", \"term\": \"said\", \"tfidf\": 0.27724278822101905}, {\"document\": \"Meet The Press Full Donald Trump Interview Transcript 09_18_23\", \"term\": \"donald\", \"tfidf\": 0.18137258809286863}, {\"document\": \"Meet The Press Full Donald Trump Interview Transcript 09_18_23\", \"term\": \"trump\", \"tfidf\": 0.16620150846326745}, {\"document\": \"Meet The Press Full Donald Trump Interview Transcript 09_18_23\", \"term\": \"look\", \"tfidf\": 0.15693617406085492}, {\"document\": \"Meet The Press Full Donald Trump Interview Transcript 09_18_23\", \"term\": \"say\", \"tfidf\": 0.15091053065379556}, {\"document\": \"Meet The Press Full Donald Trump Interview Transcript 09_18_23\", \"term\": \"think\", \"tfidf\": 0.14587333557654192}, {\"document\": \"Meet The Press Full Donald Trump Interview Transcript 09_18_23\", \"term\": \"would\", \"tfidf\": 0.14403135221337093}, {\"document\": \"Meet The Press Full Donald Trump Interview Transcript 09_18_23\", \"term\": \"know\", \"tfidf\": 0.13409268391141207}, {\"document\": \"President Donald Trump Farewell Address Speech Transcript 01_19_21\", \"term\": \"american\", \"tfidf\": 0.2819887301398175}, {\"document\": \"President Donald Trump Farewell Address Speech Transcript 01_19_21\", \"term\": \"america\", \"tfidf\": 0.25064398907002816}, {\"document\": \"President Donald Trump Farewell Address Speech Transcript 01_19_21\", \"term\": \"nation\", \"tfidf\": 0.19333877923922613}, {\"document\": \"President Donald Trump Farewell Address Speech Transcript 01_19_21\", \"term\": \"citizen\", \"tfidf\": 0.13828828389818323}, {\"document\": \"President Donald Trump Farewell Address Speech Transcript 01_19_21\", \"term\": \"country\", \"tfidf\": 0.13228937355686174}, {\"document\": \"President Donald Trump Farewell Address Speech Transcript 01_19_21\", \"term\": \"world\", \"tfidf\": 0.1279137889177097}, {\"document\": \"President Donald Trump Farewell Address Speech Transcript 01_19_21\", \"term\": \"never\", \"tfidf\": 0.11168342459142433}, {\"document\": \"President Donald Trump Farewell Address Speech Transcript 01_19_21\", \"term\": \"restored\", \"tfidf\": 0.1092846930484544}, {\"document\": \"President Donald Trump Farewell Address Speech Transcript 01_19_21\", \"term\": \"people\", \"tfidf\": 0.1050768680977663}, {\"document\": \"President Donald Trump Farewell Address Speech Transcript 01_19_21\", \"term\": \"great\", \"tfidf\": 0.1007560118785618}, {\"document\": \"Trump Arrives In Iowa and Holds Town Hall Event 1_13_24 Transcript 01_14_24\", \"term\": \"going\", \"tfidf\": 0.25998705353443374}, {\"document\": \"Trump Arrives In Iowa and Holds Town Hall Event 1_13_24 Transcript 01_14_24\", \"term\": \"people\", \"tfidf\": 0.23671011666118802}, {\"document\": \"Trump Arrives In Iowa and Holds Town Hall Event 1_13_24 Transcript 01_14_24\", \"term\": \"country\", \"tfidf\": 0.19707981002536223}, {\"document\": \"Trump Arrives In Iowa and Holds Town Hall Event 1_13_24 Transcript 01_14_24\", \"term\": \"think\", \"tfidf\": 0.16586134751152892}, {\"document\": \"Trump Arrives In Iowa and Holds Town Hall Event 1_13_24 Transcript 01_14_24\", \"term\": \"go\", \"tfidf\": 0.16276528920641947}, {\"document\": \"Trump Arrives In Iowa and Holds Town Hall Event 1_13_24 Transcript 01_14_24\", \"term\": \"say\", \"tfidf\": 0.16151587361200712}, {\"document\": \"Trump Arrives In Iowa and Holds Town Hall Event 1_13_24 Transcript 01_14_24\", \"term\": \"got\", \"tfidf\": 0.15947946941804989}, {\"document\": \"Trump Arrives In Iowa and Holds Town Hall Event 1_13_24 Transcript 01_14_24\", \"term\": \"lot\", \"tfidf\": 0.15453525764394613}, {\"document\": \"Trump Arrives In Iowa and Holds Town Hall Event 1_13_24 Transcript 01_14_24\", \"term\": \"want\", \"tfidf\": 0.15304190163703021}, {\"document\": \"Trump Arrives In Iowa and Holds Town Hall Event 1_13_24 Transcript 01_14_24\", \"term\": \"said\", \"tfidf\": 0.1418995542771809}, {\"document\": \"Trump Campaigns in Georgia and Responds to the SOTU Address 03_11_24\", \"term\": \"going\", \"tfidf\": 0.2700911542524542}, {\"document\": \"Trump Campaigns in Georgia and Responds to the SOTU Address 03_11_24\", \"term\": \"people\", \"tfidf\": 0.22087970753769642}, {\"document\": \"Trump Campaigns in Georgia and Responds to the SOTU Address 03_11_24\", \"term\": \"said\", \"tfidf\": 0.19893012740621308}, {\"document\": \"Trump Campaigns in Georgia and Responds to the SOTU Address 03_11_24\", \"term\": \"know\", \"tfidf\": 0.18602019074675039}, {\"document\": \"Trump Campaigns in Georgia and Responds to the SOTU Address 03_11_24\", \"term\": \"country\", \"tfidf\": 0.15955056595375736}, {\"document\": \"Trump Campaigns in Georgia and Responds to the SOTU Address 03_11_24\", \"term\": \"think\", \"tfidf\": 0.15556606852339472}, {\"document\": \"Trump Campaigns in Georgia and Responds to the SOTU Address 03_11_24\", \"term\": \"great\", \"tfidf\": 0.14655474223991952}, {\"document\": \"Trump Campaigns in Georgia and Responds to the SOTU Address 03_11_24\", \"term\": \"got\", \"tfidf\": 0.14295404662468592}, {\"document\": \"Trump Campaigns in Georgia and Responds to the SOTU Address 03_11_24\", \"term\": \"biden\", \"tfidf\": 0.14105312669076944}, {\"document\": \"Trump Campaigns in Georgia and Responds to the SOTU Address 03_11_24\", \"term\": \"one\", \"tfidf\": 0.1311279094220149}, {\"document\": \"Trump Gives Keynote at New York Young Republicans Gala Transcript 12_11_23\", \"term\": \"going\", \"tfidf\": 0.26204164255469015}, {\"document\": \"Trump Gives Keynote at New York Young Republicans Gala Transcript 12_11_23\", \"term\": \"want\", \"tfidf\": 0.20092724333140066}, {\"document\": \"Trump Gives Keynote at New York Young Republicans Gala Transcript 12_11_23\", \"term\": \"said\", \"tfidf\": 0.18642941663957038}, {\"document\": \"Trump Gives Keynote at New York Young Republicans Gala Transcript 12_11_23\", \"term\": \"people\", \"tfidf\": 0.18154960954890656}, {\"document\": \"Trump Gives Keynote at New York Young Republicans Gala Transcript 12_11_23\", \"term\": \"like\", \"tfidf\": 0.16504659644287803}, {\"document\": \"Trump Gives Keynote at New York Young Republicans Gala Transcript 12_11_23\", \"term\": \"one\", \"tfidf\": 0.1598769750919245}, {\"document\": \"Trump Gives Keynote at New York Young Republicans Gala Transcript 12_11_23\", \"term\": \"know\", \"tfidf\": 0.1596169355166584}, {\"document\": \"Trump Gives Keynote at New York Young Republicans Gala Transcript 12_11_23\", \"term\": \"great\", \"tfidf\": 0.14669668418382348}, {\"document\": \"Trump Gives Keynote at New York Young Republicans Gala Transcript 12_11_23\", \"term\": \"get\", \"tfidf\": 0.146580589740912}, {\"document\": \"Trump Gives Keynote at New York Young Republicans Gala Transcript 12_11_23\", \"term\": \"say\", \"tfidf\": 0.13441106057159577}, {\"document\": \"Trump Holds Campaign Rally in New Hampshire with Vivek Ramaswamy Transcript 01_17_24\", \"term\": \"going\", \"tfidf\": 0.3497181912103208}, {\"document\": \"Trump Holds Campaign Rally in New Hampshire with Vivek Ramaswamy Transcript 01_17_24\", \"term\": \"want\", \"tfidf\": 0.2021110229610406}, {\"document\": \"Trump Holds Campaign Rally in New Hampshire with Vivek Ramaswamy Transcript 01_17_24\", \"term\": \"people\", \"tfidf\": 0.16240451738287695}, {\"document\": \"Trump Holds Campaign Rally in New Hampshire with Vivek Ramaswamy Transcript 01_17_24\", \"term\": \"got\", \"tfidf\": 0.1623354016139399}, {\"document\": \"Trump Holds Campaign Rally in New Hampshire with Vivek Ramaswamy Transcript 01_17_24\", \"term\": \"get\", \"tfidf\": 0.15483736703362078}, {\"document\": \"Trump Holds Campaign Rally in New Hampshire with Vivek Ramaswamy Transcript 01_17_24\", \"term\": \"know\", \"tfidf\": 0.13783158155672462}, {\"document\": \"Trump Holds Campaign Rally in New Hampshire with Vivek Ramaswamy Transcript 01_17_24\", \"term\": \"like\", \"tfidf\": 0.13575968450718362}, {\"document\": \"Trump Holds Campaign Rally in New Hampshire with Vivek Ramaswamy Transcript 01_17_24\", \"term\": \"go\", \"tfidf\": 0.13550595063410048}, {\"document\": \"Trump Holds Campaign Rally in New Hampshire with Vivek Ramaswamy Transcript 01_17_24\", \"term\": \"country\", \"tfidf\": 0.12649609198372136}, {\"document\": \"Trump Holds Campaign Rally in New Hampshire with Vivek Ramaswamy Transcript 01_17_24\", \"term\": \"biden\", \"tfidf\": 0.12458757986808544}, {\"document\": \"Trump Holds News Conference After Meeting With Teamsters About Union Support Transcript 02_01_24\", \"term\": \"teamster\", \"tfidf\": 0.3332541456241083}, {\"document\": \"Trump Holds News Conference After Meeting With Teamsters About Union Support Transcript 02_01_24\", \"term\": \"going\", \"tfidf\": 0.27683870559098334}, {\"document\": \"Trump Holds News Conference After Meeting With Teamsters About Union Support Transcript 02_01_24\", \"term\": \"bill\", \"tfidf\": 0.26841891694028563}, {\"document\": \"Trump Holds News Conference After Meeting With Teamsters About Union Support Transcript 02_01_24\", \"term\": \"want\", \"tfidf\": 0.2131377558132325}, {\"document\": \"Trump Holds News Conference After Meeting With Teamsters About Union Support Transcript 02_01_24\", \"term\": \"people\", \"tfidf\": 0.18259117497027283}, {\"document\": \"Trump Holds News Conference After Meeting With Teamsters About Union Support Transcript 02_01_24\", \"term\": \"would\", \"tfidf\": 0.18210980101869476}, {\"document\": \"Trump Holds News Conference After Meeting With Teamsters About Union Support Transcript 02_01_24\", \"term\": \"great\", \"tfidf\": 0.15939148304473777}, {\"document\": \"Trump Holds News Conference After Meeting With Teamsters About Union Support Transcript 02_01_24\", \"term\": \"think\", \"tfidf\": 0.15102567551842372}, {\"document\": \"Trump Holds News Conference After Meeting With Teamsters About Union Support Transcript 02_01_24\", \"term\": \"border\", \"tfidf\": 0.1399532420858359}, {\"document\": \"Trump Holds News Conference After Meeting With Teamsters About Union Support Transcript 02_01_24\", \"term\": \"union\", \"tfidf\": 0.13557483575516394}, {\"document\": \"Trump Holds Rally In Iowa Moments After Colorado Supreme Court Blocks Him From Ballot Transcript 12_20_23\", \"term\": \"going\", \"tfidf\": 0.37665333309675864}, {\"document\": \"Trump Holds Rally In Iowa Moments After Colorado Supreme Court Blocks Him From Ballot Transcript 12_20_23\", \"term\": \"iowa\", \"tfidf\": 0.1668534521199251}, {\"document\": \"Trump Holds Rally In Iowa Moments After Colorado Supreme Court Blocks Him From Ballot Transcript 12_20_23\", \"term\": \"say\", \"tfidf\": 0.15413208298168077}, {\"document\": \"Trump Holds Rally In Iowa Moments After Colorado Supreme Court Blocks Him From Ballot Transcript 12_20_23\", \"term\": \"country\", \"tfidf\": 0.1481215927965902}, {\"document\": \"Trump Holds Rally In Iowa Moments After Colorado Supreme Court Blocks Him From Ballot Transcript 12_20_23\", \"term\": \"said\", \"tfidf\": 0.14526624409410288}, {\"document\": \"Trump Holds Rally In Iowa Moments After Colorado Supreme Court Blocks Him From Ballot Transcript 12_20_23\", \"term\": \"people\", \"tfidf\": 0.14475859142596317}, {\"document\": \"Trump Holds Rally In Iowa Moments After Colorado Supreme Court Blocks Him From Ballot Transcript 12_20_23\", \"term\": \"know\", \"tfidf\": 0.13976380155087317}, {\"document\": \"Trump Holds Rally In Iowa Moments After Colorado Supreme Court Blocks Him From Ballot Transcript 12_20_23\", \"term\": \"want\", \"tfidf\": 0.1279435132178929}, {\"document\": \"Trump Holds Rally In Iowa Moments After Colorado Supreme Court Blocks Him From Ballot Transcript 12_20_23\", \"term\": \"like\", \"tfidf\": 0.11843380587764005}, {\"document\": \"Trump Holds Rally In Iowa Moments After Colorado Supreme Court Blocks Him From Ballot Transcript 12_20_23\", \"term\": \"biden\", \"tfidf\": 0.11711285779432706}, {\"document\": \"Trump Makes Statement From Mar-a-Lago Following NY Arraignment Transcript 08_04_23\", \"term\": \"trump\", \"tfidf\": 0.21142314023891914}, {\"document\": \"Trump Makes Statement From Mar-a-Lago Following NY Arraignment Transcript 08_04_23\", \"term\": \"president\", \"tfidf\": 0.16732165324841458}, {\"document\": \"Trump Makes Statement From Mar-a-Lago Following NY Arraignment Transcript 08_04_23\", \"term\": \"document\", \"tfidf\": 0.14240059779486022}, {\"document\": \"Trump Makes Statement From Mar-a-Lago Following NY Arraignment Transcript 08_04_23\", \"term\": \"going\", \"tfidf\": 0.14191796535611004}, {\"document\": \"Trump Makes Statement From Mar-a-Lago Following NY Arraignment Transcript 08_04_23\", \"term\": \"box\", \"tfidf\": 0.12363374559336127}, {\"document\": \"Trump Makes Statement From Mar-a-Lago Following NY Arraignment Transcript 08_04_23\", \"term\": \"never\", \"tfidf\": 0.12342891809113922}, {\"document\": \"Trump Makes Statement From Mar-a-Lago Following NY Arraignment Transcript 08_04_23\", \"term\": \"even\", \"tfidf\": 0.12246679381102717}, {\"document\": \"Trump Makes Statement From Mar-a-Lago Following NY Arraignment Transcript 08_04_23\", \"term\": \"said\", \"tfidf\": 0.11609082486201519}, {\"document\": \"Trump Makes Statement From Mar-a-Lago Following NY Arraignment Transcript 08_04_23\", \"term\": \"biden\", \"tfidf\": 0.11550077671902027}, {\"document\": \"Trump Makes Statement From Mar-a-Lago Following NY Arraignment Transcript 08_04_23\", \"term\": \"prosecutor\", \"tfidf\": 0.1118362788298326}, {\"document\": \"Trump Rally from Durham, New Hampshire 12_16_23 Transcript\", \"term\": \"going\", \"tfidf\": 0.2770151662810319}, {\"document\": \"Trump Rally from Durham, New Hampshire 12_16_23 Transcript\", \"term\": \"hampshire\", \"tfidf\": 0.18968325951125348}, {\"document\": \"Trump Rally from Durham, New Hampshire 12_16_23 Transcript\", \"term\": \"like\", \"tfidf\": 0.17754067595487252}, {\"document\": \"Trump Rally from Durham, New Hampshire 12_16_23 Transcript\", \"term\": \"biden\", \"tfidf\": 0.1564733786816059}, {\"document\": \"Trump Rally from Durham, New Hampshire 12_16_23 Transcript\", \"term\": \"tax\", \"tfidf\": 0.15514378295818337}, {\"document\": \"Trump Rally from Durham, New Hampshire 12_16_23 Transcript\", \"term\": \"people\", \"tfidf\": 0.15507858494587537}, {\"document\": \"Trump Rally from Durham, New Hampshire 12_16_23 Transcript\", \"term\": \"know\", \"tfidf\": 0.1510011783763048}, {\"document\": \"Trump Rally from Durham, New Hampshire 12_16_23 Transcript\", \"term\": \"new\", \"tfidf\": 0.14385242744666688}, {\"document\": \"Trump Rally from Durham, New Hampshire 12_16_23 Transcript\", \"term\": \"country\", \"tfidf\": 0.14235167221998013}, {\"document\": \"Trump Rally from Durham, New Hampshire 12_16_23 Transcript\", \"term\": \"get\", \"tfidf\": 0.13078852897098184}, {\"document\": \"Trump Rally in PA for Dr. Oz 11_05_22 Transcript 11_07_22\", \"term\": \"aa\", \"tfidf\": 8.552272944280915e-05}, {\"document\": \"Trump Rally in PA for Dr. Oz 11_05_22 Transcript 11_07_22\", \"term\": \"aah\", \"tfidf\": 8.031733945691554e-05}, {\"document\": \"Trump Rally in PA for Dr. Oz 11_05_22 Transcript 11_07_22\", \"term\": \"aback\", \"tfidf\": 4.248169627536013e-05}, {\"document\": \"Trump Rally in PA for Dr. Oz 11_05_22 Transcript 11_07_22\", \"term\": \"abandon\", \"tfidf\": 1.5087164103513008e-05}, {\"document\": \"Trump Rally in PA for Dr. Oz 11_05_22 Transcript 11_07_22\", \"term\": \"abandoned\", \"tfidf\": 1.542817891893631e-05}, {\"document\": \"Trump Rally in PA for Dr. Oz 11_05_22 Transcript 11_07_22\", \"term\": \"abandoning\", \"tfidf\": 3.1933788490673853e-06}, {\"document\": \"Trump Rally in PA for Dr. Oz 11_05_22 Transcript 11_07_22\", \"term\": \"abandonment\", \"tfidf\": 1.2213840536948206e-05}, {\"document\": \"Trump Rally in PA for Dr. Oz 11_05_22 Transcript 11_07_22\", \"term\": \"abbot\", \"tfidf\": 7.240351362837111e-05}, {\"document\": \"Trump Rally in PA for Dr. Oz 11_05_22 Transcript 11_07_22\", \"term\": \"abbott\", \"tfidf\": 9.368568354902917e-05}, {\"document\": \"Trump Rally in PA for Dr. Oz 11_05_22 Transcript 11_07_22\", \"term\": \"abbreviated\", \"tfidf\": 3.508058743082021e-07}, {\"document\": \"Trump Remarks after Dominant Super Tuesday Performance 03_06_24\", \"term\": \"going\", \"tfidf\": 0.4332500220145248}, {\"document\": \"Trump Remarks after Dominant Super Tuesday Performance 03_06_24\", \"term\": \"country\", \"tfidf\": 0.3786946018380756}, {\"document\": \"Trump Remarks after Dominant Super Tuesday Performance 03_06_24\", \"term\": \"people\", \"tfidf\": 0.18115469122874445}, {\"document\": \"Trump Remarks after Dominant Super Tuesday Performance 03_06_24\", \"term\": \"thing\", \"tfidf\": 0.14564490453037932}, {\"document\": \"Trump Remarks after Dominant Super Tuesday Performance 03_06_24\", \"term\": \"border\", \"tfidf\": 0.1293365914523534}, {\"document\": \"Trump Remarks after Dominant Super Tuesday Performance 03_06_24\", \"term\": \"said\", \"tfidf\": 0.1265422518039487}, {\"document\": \"Trump Remarks after Dominant Super Tuesday Performance 03_06_24\", \"term\": \"goggles\", \"tfidf\": 0.11423063861785696}, {\"document\": \"Trump Remarks after Dominant Super Tuesday Performance 03_06_24\", \"term\": \"world\", \"tfidf\": 0.1080280029541152}, {\"document\": \"Trump Remarks after Dominant Super Tuesday Performance 03_06_24\", \"term\": \"lot\", \"tfidf\": 0.1042878110954031}, {\"document\": \"Trump Remarks after Dominant Super Tuesday Performance 03_06_24\", \"term\": \"many\", \"tfidf\": 0.10205767662575423}, {\"document\": \"Trump Responds to Charges In Speech Following Arraignment In Federal Court Transcript 07_14_23\", \"term\": \"document\", \"tfidf\": 0.23355469261065634}, {\"document\": \"Trump Responds to Charges In Speech Following Arraignment In Federal Court Transcript 07_14_23\", \"term\": \"birthday\", \"tfidf\": 0.2116056289574681}, {\"document\": \"Trump Responds to Charges In Speech Following Arraignment In Federal Court Transcript 07_14_23\", \"term\": \"president\", \"tfidf\": 0.17931409940975676}, {\"document\": \"Trump Responds to Charges In Speech Following Arraignment In Federal Court Transcript 07_14_23\", \"term\": \"biden\", \"tfidf\": 0.16065195301797336}, {\"document\": \"Trump Responds to Charges In Speech Following Arraignment In Federal Court Transcript 07_14_23\", \"term\": \"presidential\", \"tfidf\": 0.1542785367437068}, {\"document\": \"Trump Responds to Charges In Speech Following Arraignment In Federal Court Transcript 07_14_23\", \"term\": \"tape\", \"tfidf\": 0.13070038285531813}, {\"document\": \"Trump Responds to Charges In Speech Following Arraignment In Federal Court Transcript 07_14_23\", \"term\": \"clinton\", \"tfidf\": 0.12806227134889503}, {\"document\": \"Trump Responds to Charges In Speech Following Arraignment In Federal Court Transcript 07_14_23\", \"term\": \"classified\", \"tfidf\": 0.12478591076583627}, {\"document\": \"Trump Responds to Charges In Speech Following Arraignment In Federal Court Transcript 07_14_23\", \"term\": \"record\", \"tfidf\": 0.12062331503117155}, {\"document\": \"Trump Responds to Charges In Speech Following Arraignment In Federal Court Transcript 07_14_23\", \"term\": \"sock\", \"tfidf\": 0.1149208899871341}, {\"document\": \"Trump Speaks After Court Hearing on Whether He is Immune from 2020 Election Prosecution Transcript 01_10_24\", \"term\": \"immunity\", \"tfidf\": 0.35322891535984763}, {\"document\": \"Trump Speaks After Court Hearing on Whether He is Immune from 2020 Election Prosecution Transcript 01_10_24\", \"term\": \"conceded\", \"tfidf\": 0.27395944249928644}, {\"document\": \"Trump Speaks After Court Hearing on Whether He is Immune from 2020 Election Prosecution Transcript 01_10_24\", \"term\": \"tape\", \"tfidf\": 0.1880264209088117}, {\"document\": \"Trump Speaks After Court Hearing on Whether He is Immune from 2020 Election Prosecution Transcript 01_10_24\", \"term\": \"think\", \"tfidf\": 0.17470672863975611}, {\"document\": \"Trump Speaks After Court Hearing on Whether He is Immune from 2020 Election Prosecution Transcript 01_10_24\", \"term\": \"people\", \"tfidf\": 0.16055817078798132}, {\"document\": \"Trump Speaks After Court Hearing on Whether He is Immune from 2020 Election Prosecution Transcript 01_10_24\", \"term\": \"compromised\", \"tfidf\": 0.15389418203761748}, {\"document\": \"Trump Speaks After Court Hearing on Whether He is Immune from 2020 Election Prosecution Transcript 01_10_24\", \"term\": \"president\", \"tfidf\": 0.14854288749159006}, {\"document\": \"Trump Speaks After Court Hearing on Whether He is Immune from 2020 Election Prosecution Transcript 01_10_24\", \"term\": \"case\", \"tfidf\": 0.14165373805444317}, {\"document\": \"Trump Speaks After Court Hearing on Whether He is Immune from 2020 Election Prosecution Transcript 01_10_24\", \"term\": \"prosecuted\", \"tfidf\": 0.13850987749864407}, {\"document\": \"Trump Speaks After Court Hearing on Whether He is Immune from 2020 Election Prosecution Transcript 01_10_24\", \"term\": \"voter\", \"tfidf\": 0.12190136345899176}, {\"document\": \"Trump Speaks After Winning 2024 Iowa Caucuses Transcript 01_16_24\", \"term\": \"going\", \"tfidf\": 0.5691478295616783}, {\"document\": \"Trump Speaks After Winning 2024 Iowa Caucuses Transcript 01_16_24\", \"term\": \"country\", \"tfidf\": 0.1920873919766922}, {\"document\": \"Trump Speaks After Winning 2024 Iowa Caucuses Transcript 01_16_24\", \"term\": \"great\", \"tfidf\": 0.1794690933033007}, {\"document\": \"Trump Speaks After Winning 2024 Iowa Caucuses Transcript 01_16_24\", \"term\": \"want\", \"tfidf\": 0.17696048903385772}, {\"document\": \"Trump Speaks After Winning 2024 Iowa Caucuses Transcript 01_16_24\", \"term\": \"solved\", \"tfidf\": 0.16521416897456728}, {\"document\": \"Trump Speaks After Winning 2024 Iowa Caucuses Transcript 01_16_24\", \"term\": \"people\", \"tfidf\": 0.16523395238977484}, {\"document\": \"Trump Speaks After Winning 2024 Iowa Caucuses Transcript 01_16_24\", \"term\": \"get\", \"tfidf\": 0.13996350971881555}, {\"document\": \"Trump Speaks After Winning 2024 Iowa Caucuses Transcript 01_16_24\", \"term\": \"rebuild\", \"tfidf\": 0.1276620114468171}, {\"document\": \"Trump Speaks After Winning 2024 Iowa Caucuses Transcript 01_16_24\", \"term\": \"never\", \"tfidf\": 0.11980056414757141}, {\"document\": \"Trump Speaks After Winning 2024 Iowa Caucuses Transcript 01_16_24\", \"term\": \"drill\", \"tfidf\": 0.10650187800931722}, {\"document\": \"Trump Speaks after Winning New Hampshire Primary Transcript 01_24_24\", \"term\": \"going\", \"tfidf\": 0.3433526251896245}, {\"document\": \"Trump Speaks after Winning New Hampshire Primary Transcript 01_24_24\", \"term\": \"win\", \"tfidf\": 0.2747713525240549}, {\"document\": \"Trump Speaks after Winning New Hampshire Primary Transcript 01_24_24\", \"term\": \"vivek\", \"tfidf\": 0.25841902266750816}, {\"document\": \"Trump Speaks after Winning New Hampshire Primary Transcript 01_24_24\", \"term\": \"nevada\", \"tfidf\": 0.2200775146370286}, {\"document\": \"Trump Speaks after Winning New Hampshire Primary Transcript 01_24_24\", \"term\": \"want\", \"tfidf\": 0.16264795847379174}, {\"document\": \"Trump Speaks after Winning New Hampshire Primary Transcript 01_24_24\", \"term\": \"say\", \"tfidf\": 0.1577531093413589}, {\"document\": \"Trump Speaks after Winning New Hampshire Primary Transcript 01_24_24\", \"term\": \"country\", \"tfidf\": 0.1483356251316502}, {\"document\": \"Trump Speaks after Winning New Hampshire Primary Transcript 01_24_24\", \"term\": \"said\", \"tfidf\": 0.14558437016879894}, {\"document\": \"Trump Speaks after Winning New Hampshire Primary Transcript 01_24_24\", \"term\": \"great\", \"tfidf\": 0.13183774208753837}, {\"document\": \"Trump Speaks after Winning New Hampshire Primary Transcript 01_24_24\", \"term\": \"thank\", \"tfidf\": 0.12191105711722698}, {\"document\": \"Trump Speaks at Alabama GOP Dinner after New Indictment Transcript 08_07_23\", \"term\": \"going\", \"tfidf\": 0.3193540266049314}, {\"document\": \"Trump Speaks at Alabama GOP Dinner after New Indictment Transcript 08_07_23\", \"term\": \"alabama\", \"tfidf\": 0.19681950500860831}, {\"document\": \"Trump Speaks at Alabama GOP Dinner after New Indictment Transcript 08_07_23\", \"term\": \"said\", \"tfidf\": 0.19624902050018994}, {\"document\": \"Trump Speaks at Alabama GOP Dinner after New Indictment Transcript 08_07_23\", \"term\": \"country\", \"tfidf\": 0.16660743535753997}, {\"document\": \"Trump Speaks at Alabama GOP Dinner after New Indictment Transcript 08_07_23\", \"term\": \"like\", \"tfidf\": 0.13742173429702365}, {\"document\": \"Trump Speaks at Alabama GOP Dinner after New Indictment Transcript 08_07_23\", \"term\": \"great\", \"tfidf\": 0.13392372528254776}, {\"document\": \"Trump Speaks at Alabama GOP Dinner after New Indictment Transcript 08_07_23\", \"term\": \"want\", \"tfidf\": 0.13324793396694315}, {\"document\": \"Trump Speaks at Alabama GOP Dinner after New Indictment Transcript 08_07_23\", \"term\": \"one\", \"tfidf\": 0.1303908304958905}, {\"document\": \"Trump Speaks at Alabama GOP Dinner after New Indictment Transcript 08_07_23\", \"term\": \"state\", \"tfidf\": 0.13040562993623514}, {\"document\": \"Trump Speaks at Alabama GOP Dinner after New Indictment Transcript 08_07_23\", \"term\": \"people\", \"tfidf\": 0.12209736333355051}, {\"document\": \"Trump Speaks at CPAC 2023 Transcript 03_06_23\", \"term\": \"said\", \"tfidf\": 0.20831338259505594}, {\"document\": \"Trump Speaks at CPAC 2023 Transcript 03_06_23\", \"term\": \"know\", \"tfidf\": 0.20118130469930665}, {\"document\": \"Trump Speaks at CPAC 2023 Transcript 03_06_23\", \"term\": \"people\", \"tfidf\": 0.19825812171934842}, {\"document\": \"Trump Speaks at CPAC 2023 Transcript 03_06_23\", \"term\": \"want\", \"tfidf\": 0.183943314500679}, {\"document\": \"Trump Speaks at CPAC 2023 Transcript 03_06_23\", \"term\": \"going\", \"tfidf\": 0.18180109499499003}, {\"document\": \"Trump Speaks at CPAC 2023 Transcript 03_06_23\", \"term\": \"thank\", \"tfidf\": 0.1724869471421279}, {\"document\": \"Trump Speaks at CPAC 2023 Transcript 03_06_23\", \"term\": \"prize\", \"tfidf\": 0.15538069969049137}, {\"document\": \"Trump Speaks at CPAC 2023 Transcript 03_06_23\", \"term\": \"great\", \"tfidf\": 0.14657528411609827}, {\"document\": \"Trump Speaks at CPAC 2023 Transcript 03_06_23\", \"term\": \"country\", \"tfidf\": 0.14044589215999886}, {\"document\": \"Trump Speaks at CPAC 2023 Transcript 03_06_23\", \"term\": \"get\", \"tfidf\": 0.13376714595971737}, {\"document\": \"Trump Speaks at Faith & Freedom Coalition Gala Transcript 07_26_23\", \"term\": \"going\", \"tfidf\": 0.21576246073541516}, {\"document\": \"Trump Speaks at Faith & Freedom Coalition Gala Transcript 07_26_23\", \"term\": \"president\", \"tfidf\": 0.18071700852858946}, {\"document\": \"Trump Speaks at Faith & Freedom Coalition Gala Transcript 07_26_23\", \"term\": \"want\", \"tfidf\": 0.17388090333821898}, {\"document\": \"Trump Speaks at Faith & Freedom Coalition Gala Transcript 07_26_23\", \"term\": \"know\", \"tfidf\": 0.16351357789924154}, {\"document\": \"Trump Speaks at Faith & Freedom Coalition Gala Transcript 07_26_23\", \"term\": \"people\", \"tfidf\": 0.1592558167303936}, {\"document\": \"Trump Speaks at Faith & Freedom Coalition Gala Transcript 07_26_23\", \"term\": \"sock\", \"tfidf\": 0.15784724343156725}, {\"document\": \"Trump Speaks at Faith & Freedom Coalition Gala Transcript 07_26_23\", \"term\": \"cuba\", \"tfidf\": 0.15609710970995058}, {\"document\": \"Trump Speaks at Faith & Freedom Coalition Gala Transcript 07_26_23\", \"term\": \"ralph\", \"tfidf\": 0.12922841726206077}, {\"document\": \"Trump Speaks at Faith & Freedom Coalition Gala Transcript 07_26_23\", \"term\": \"country\", \"tfidf\": 0.12777738097323948}, {\"document\": \"Trump Speaks at Faith & Freedom Coalition Gala Transcript 07_26_23\", \"term\": \"prize\", \"tfidf\": 0.12276588115012695}, {\"document\": \"Trump Town Hall with Hannity 12_5_23 Transcript 12_06_23\", \"term\": \"going\", \"tfidf\": 0.22125588849226308}, {\"document\": \"Trump Town Hall with Hannity 12_5_23 Transcript 12_06_23\", \"term\": \"country\", \"tfidf\": 0.20203810736193176}, {\"document\": \"Trump Town Hall with Hannity 12_5_23 Transcript 12_06_23\", \"term\": \"people\", \"tfidf\": 0.19744535197870014}, {\"document\": \"Trump Town Hall with Hannity 12_5_23 Transcript 12_06_23\", \"term\": \"want\", \"tfidf\": 0.1907570067255944}, {\"document\": \"Trump Town Hall with Hannity 12_5_23 Transcript 12_06_23\", \"term\": \"would\", \"tfidf\": 0.17660654861557368}, {\"document\": \"Trump Town Hall with Hannity 12_5_23 Transcript 12_06_23\", \"term\": \"one\", \"tfidf\": 0.17095792115612085}, {\"document\": \"Trump Town Hall with Hannity 12_5_23 Transcript 12_06_23\", \"term\": \"warming\", \"tfidf\": 0.16456874978891314}, {\"document\": \"Trump Town Hall with Hannity 12_5_23 Transcript 12_06_23\", \"term\": \"said\", \"tfidf\": 0.16451527958351855}, {\"document\": \"Trump Town Hall with Hannity 12_5_23 Transcript 12_06_23\", \"term\": \"say\", \"tfidf\": 0.14920965715930887}, {\"document\": \"Trump Town Hall with Hannity 12_5_23 Transcript 12_06_23\", \"term\": \"like\", \"tfidf\": 0.14245261493638856}, {\"document\": \"Trump Video Telling Protesters at Capitol Building to Go Home. Transcript 01_06_21\", \"term\": \"peace\", \"tfidf\": 0.34180889388742414}, {\"document\": \"Trump Video Telling Protesters at Capitol Building to Go Home. Transcript 01_06_21\", \"term\": \"home\", \"tfidf\": 0.34174267363459027}, {\"document\": \"Trump Video Telling Protesters at Capitol Building to Go Home. Transcript 01_06_21\", \"term\": \"go\", \"tfidf\": 0.2991853230362201}, {\"document\": \"Trump Video Telling Protesters at Capitol Building to Go Home. Transcript 01_06_21\", \"term\": \"know\", \"tfidf\": 0.287907199349146}, {\"document\": \"Trump Video Telling Protesters at Capitol Building to Go Home. Transcript 01_06_21\", \"term\": \"hurt\", \"tfidf\": 0.2533390931756944}, {\"document\": \"Trump Video Telling Protesters at Capitol Building to Go Home. Transcript 01_06_21\", \"term\": \"election\", \"tfidf\": 0.25226578481620415}, {\"document\": \"Trump Video Telling Protesters at Capitol Building to Go Home. Transcript 01_06_21\", \"term\": \"fraudulent\", \"tfidf\": 0.2064529793972867}, {\"document\": \"Trump Video Telling Protesters at Capitol Building to Go Home. Transcript 01_06_21\", \"term\": \"pain\", \"tfidf\": 0.18769724801316914}, {\"document\": \"Trump Video Telling Protesters at Capitol Building to Go Home. Transcript 01_06_21\", \"term\": \"order\", \"tfidf\": 0.17501025131836243}, {\"document\": \"Trump Video Telling Protesters at Capitol Building to Go Home. Transcript 01_06_21\", \"term\": \"law\", \"tfidf\": 0.17365403705922328}, {\"document\": \"Trump gives speech in Illinois 6_25_22 Transcript 06_26_22\", \"term\": \"mary\", \"tfidf\": 0.310325225221563}, {\"document\": \"Trump gives speech in Illinois 6_25_22 Transcript 06_26_22\", \"term\": \"darren\", \"tfidf\": 0.2257542155295472}, {\"document\": \"Trump gives speech in Illinois 6_25_22 Transcript 06_26_22\", \"term\": \"going\", \"tfidf\": 0.22192786393116548}, {\"document\": \"Trump gives speech in Illinois 6_25_22 Transcript 06_26_22\", \"term\": \"illinois\", \"tfidf\": 0.21216436743818784}, {\"document\": \"Trump gives speech in Illinois 6_25_22 Transcript 06_26_22\", \"term\": \"said\", \"tfidf\": 0.19438707741334263}, {\"document\": \"Trump gives speech in Illinois 6_25_22 Transcript 06_26_22\", \"term\": \"country\", \"tfidf\": 0.15868193003269054}, {\"document\": \"Trump gives speech in Illinois 6_25_22 Transcript 06_26_22\", \"term\": \"know\", \"tfidf\": 0.13926944259817808}, {\"document\": \"Trump gives speech in Illinois 6_25_22 Transcript 06_26_22\", \"term\": \"want\", \"tfidf\": 0.12960793609658955}, {\"document\": \"Trump gives speech in Illinois 6_25_22 Transcript 06_26_22\", \"term\": \"great\", \"tfidf\": 0.1268095345665405}, {\"document\": \"Trump gives speech in Illinois 6_25_22 Transcript 06_26_22\", \"term\": \"people\", \"tfidf\": 0.12206834223728895}, {\"document\": \"Trump speaks at Dr Oz rally in Pennsylvania Transcript 09_04_22\", \"term\": \"going\", \"tfidf\": 0.26138607274487086}, {\"document\": \"Trump speaks at Dr Oz rally in Pennsylvania Transcript 09_04_22\", \"term\": \"people\", \"tfidf\": 0.19841473497955076}, {\"document\": \"Trump speaks at Dr Oz rally in Pennsylvania Transcript 09_04_22\", \"term\": \"country\", \"tfidf\": 0.1691688867914455}, {\"document\": \"Trump speaks at Dr Oz rally in Pennsylvania Transcript 09_04_22\", \"term\": \"like\", \"tfidf\": 0.1557286758161216}, {\"document\": \"Trump speaks at Dr Oz rally in Pennsylvania Transcript 09_04_22\", \"term\": \"know\", \"tfidf\": 0.153508587852981}, {\"document\": \"Trump speaks at Dr Oz rally in Pennsylvania Transcript 09_04_22\", \"term\": \"said\", \"tfidf\": 0.1511716577708262}, {\"document\": \"Trump speaks at Dr Oz rally in Pennsylvania Transcript 09_04_22\", \"term\": \"doug\", \"tfidf\": 0.14719376768306366}, {\"document\": \"Trump speaks at Dr Oz rally in Pennsylvania Transcript 09_04_22\", \"term\": \"one\", \"tfidf\": 0.144318999975208}, {\"document\": \"Trump speaks at Dr Oz rally in Pennsylvania Transcript 09_04_22\", \"term\": \"want\", \"tfidf\": 0.14099230347245775}, {\"document\": \"Trump speaks at Dr Oz rally in Pennsylvania Transcript 09_04_22\", \"term\": \"pennsylvania\", \"tfidf\": 0.14075347652011114}, {\"document\": \"Trump\\u2019s Speech in Arizona 7_22_22 Transcript 07_24_22\", \"term\": \"going\", \"tfidf\": 0.238954383014497}, {\"document\": \"Trump\\u2019s Speech in Arizona 7_22_22 Transcript 07_24_22\", \"term\": \"people\", \"tfidf\": 0.20990340508991084}, {\"document\": \"Trump\\u2019s Speech in Arizona 7_22_22 Transcript 07_24_22\", \"term\": \"know\", \"tfidf\": 0.20620589286789784}, {\"document\": \"Trump\\u2019s Speech in Arizona 7_22_22 Transcript 07_24_22\", \"term\": \"country\", \"tfidf\": 0.1851370440973229}, {\"document\": \"Trump\\u2019s Speech in Arizona 7_22_22 Transcript 07_24_22\", \"term\": \"arizona\", \"tfidf\": 0.17442330735306535}, {\"document\": \"Trump\\u2019s Speech in Arizona 7_22_22 Transcript 07_24_22\", \"term\": \"blake\", \"tfidf\": 0.1655613311618976}, {\"document\": \"Trump\\u2019s Speech in Arizona 7_22_22 Transcript 07_24_22\", \"term\": \"want\", \"tfidf\": 0.1597300689015089}, {\"document\": \"Trump\\u2019s Speech in Arizona 7_22_22 Transcript 07_24_22\", \"term\": \"great\", \"tfidf\": 0.1453929341240174}, {\"document\": \"Trump\\u2019s Speech in Arizona 7_22_22 Transcript 07_24_22\", \"term\": \"like\", \"tfidf\": 0.1403293538710893}, {\"document\": \"Trump\\u2019s Speech in Arizona 7_22_22 Transcript 07_24_22\", \"term\": \"right\", \"tfidf\": 0.13241362703364123}, {\"document\": \"Tucker on X Debate Night Interview with Donald Trump Transcript 08_24_23\", \"term\": \"people\", \"tfidf\": 0.27218287071870273}, {\"document\": \"Tucker on X Debate Night Interview with Donald Trump Transcript 08_24_23\", \"term\": \"said\", \"tfidf\": 0.21676881652978466}, {\"document\": \"Tucker on X Debate Night Interview with Donald Trump Transcript 08_24_23\", \"term\": \"think\", \"tfidf\": 0.2121303341320917}, {\"document\": \"Tucker on X Debate Night Interview with Donald Trump Transcript 08_24_23\", \"term\": \"get\", \"tfidf\": 0.14118308206511138}, {\"document\": \"Tucker on X Debate Night Interview with Donald Trump Transcript 08_24_23\", \"term\": \"say\", \"tfidf\": 0.1401195338549913}, {\"document\": \"Tucker on X Debate Night Interview with Donald Trump Transcript 08_24_23\", \"term\": \"going\", \"tfidf\": 0.13943472684711503}, {\"document\": \"Tucker on X Debate Night Interview with Donald Trump Transcript 08_24_23\", \"term\": \"panama\", \"tfidf\": 0.13426903793588962}, {\"document\": \"Tucker on X Debate Night Interview with Donald Trump Transcript 08_24_23\", \"term\": \"go\", \"tfidf\": 0.13310554703028463}, {\"document\": \"Tucker on X Debate Night Interview with Donald Trump Transcript 08_24_23\", \"term\": \"got\", \"tfidf\": 0.13253158801113968}, {\"document\": \"Tucker on X Debate Night Interview with Donald Trump Transcript 08_24_23\", \"term\": \"know\", \"tfidf\": 0.1319790216296233}, {\"document\": \"chapter01_buch01\", \"term\": \"german\", \"tfidf\": 0.46589650647841985}, {\"document\": \"chapter01_buch01\", \"term\": \"father\", \"tfidf\": 0.20291396657782784}, {\"document\": \"chapter01_buch01\", \"term\": \"austria\", \"tfidf\": 0.18338043452161043}, {\"document\": \"chapter01_buch01\", \"term\": \"austrian\", \"tfidf\": 0.17155169243652857}, {\"document\": \"chapter01_buch01\", \"term\": \"realschule\", \"tfidf\": 0.14393774303549353}, {\"document\": \"chapter01_buch01\", \"term\": \"became\", \"tfidf\": 0.1385384234308266}, {\"document\": \"chapter01_buch01\", \"term\": \"reich\", \"tfidf\": 0.12195391835681037}, {\"document\": \"chapter01_buch01\", \"term\": \"career\", \"tfidf\": 0.11666913053158959}, {\"document\": \"chapter01_buch01\", \"term\": \"history\", \"tfidf\": 0.10103635299640205}, {\"document\": \"chapter01_buch01\", \"term\": \"habsburg\", \"tfidf\": 0.09701100262870406}, {\"document\": \"chapter01_buch02\", \"term\": \"weltanschauung\", \"tfidf\": 0.2516635104292994}, {\"document\": \"chapter01_buch02\", \"term\": \"ideal\", \"tfidf\": 0.23526943619592247}, {\"document\": \"chapter01_buch02\", \"term\": \"volkisch\", \"tfidf\": 0.19425957099390226}, {\"document\": \"chapter01_buch02\", \"term\": \"principle\", \"tfidf\": 0.19023195340698185}, {\"document\": \"chapter01_buch02\", \"term\": \"programme\", \"tfidf\": 0.1895516790770213}, {\"document\": \"chapter01_buch02\", \"term\": \"conception\", \"tfidf\": 0.15249110142029274}, {\"document\": \"chapter01_buch02\", \"term\": \"practical\", \"tfidf\": 0.14122274722074932}, {\"document\": \"chapter01_buch02\", \"term\": \"party\", \"tfidf\": 0.13399560269975774}, {\"document\": \"chapter01_buch02\", \"term\": \"bourgeois\", \"tfidf\": 0.1233002086344373}, {\"document\": \"chapter01_buch02\", \"term\": \"existence\", \"tfidf\": 0.12147309713249005}, {\"document\": \"chapter02_buch01\", \"term\": \"social\", \"tfidf\": 0.24557705807403418}, {\"document\": \"chapter02_buch01\", \"term\": \"jew\", \"tfidf\": 0.1739494850644362}, {\"document\": \"chapter02_buch01\", \"term\": \"thus\", \"tfidf\": 0.15265572014981105}, {\"document\": \"chapter02_buch01\", \"term\": \"one\", \"tfidf\": 0.14638832684164238}, {\"document\": \"chapter02_buch01\", \"term\": \"vienna\", \"tfidf\": 0.14499035678684613}, {\"document\": \"chapter02_buch01\", \"term\": \"tradeunion\", \"tfidf\": 0.12428169107871366}, {\"document\": \"chapter02_buch01\", \"term\": \"people\", \"tfidf\": 0.1180627124537559}, {\"document\": \"chapter02_buch01\", \"term\": \"often\", \"tfidf\": 0.10572546517088455}, {\"document\": \"chapter02_buch01\", \"term\": \"could\", \"tfidf\": 0.09391322358198449}, {\"document\": \"chapter02_buch01\", \"term\": \"time\", \"tfidf\": 0.09158220769624494}, {\"document\": \"chapter02_buch02\", \"term\": \"state\", \"tfidf\": 0.22957688549932018}, {\"document\": \"chapter02_buch02\", \"term\": \"german\", \"tfidf\": 0.19709035105181577}, {\"document\": \"chapter02_buch02\", \"term\": \"training\", \"tfidf\": 0.18302037365189644}, {\"document\": \"chapter02_buch02\", \"term\": \"must\", \"tfidf\": 0.16684575923276976}, {\"document\": \"chapter02_buch02\", \"term\": \"people\", \"tfidf\": 0.1622674023534687}, {\"document\": \"chapter02_buch02\", \"term\": \"would\", \"tfidf\": 0.15404603276921855}, {\"document\": \"chapter02_buch02\", \"term\": \"racial\", \"tfidf\": 0.1431209363761502}, {\"document\": \"chapter02_buch02\", \"term\": \"race\", \"tfidf\": 0.12701872480641319}, {\"document\": \"chapter02_buch02\", \"term\": \"present\", \"tfidf\": 0.11898609690466877}, {\"document\": \"chapter02_buch02\", \"term\": \"individual\", \"tfidf\": 0.11638570366323575}, {\"document\": \"chapter03_buch01\", \"term\": \"german\", \"tfidf\": 0.31738252903826086}, {\"document\": \"chapter03_buch01\", \"term\": \"pangerman\", \"tfidf\": 0.24334078963559957}, {\"document\": \"chapter03_buch01\", \"term\": \"austria\", \"tfidf\": 0.16754250441286744}, {\"document\": \"chapter03_buch01\", \"term\": \"habsburg\", \"tfidf\": 0.1408679075157714}, {\"document\": \"chapter03_buch01\", \"term\": \"movement\", \"tfidf\": 0.13920860258820983}, {\"document\": \"chapter03_buch01\", \"term\": \"parliamentary\", \"tfidf\": 0.1379982192212269}, {\"document\": \"chapter03_buch01\", \"term\": \"vienna\", \"tfidf\": 0.13133458081583457}, {\"document\": \"chapter03_buch01\", \"term\": \"parliament\", \"tfidf\": 0.1298554347536883}, {\"document\": \"chapter03_buch01\", \"term\": \"one\", \"tfidf\": 0.11825176903274057}, {\"document\": \"chapter03_buch01\", \"term\": \"state\", \"tfidf\": 0.11295080624751565}, {\"document\": \"chapter03_buch02\", \"term\": \"german\", \"tfidf\": 0.31142684624191097}, {\"document\": \"chapter03_buch02\", \"term\": \"state\", \"tfidf\": 0.29576595244857523}, {\"document\": \"chapter03_buch02\", \"term\": \"citizen\", \"tfidf\": 0.27072364466946397}, {\"document\": \"chapter03_buch02\", \"term\": \"citizenship\", \"tfidf\": 0.22437239714182147}, {\"document\": \"chapter03_buch02\", \"term\": \"subject\", \"tfidf\": 0.22205106289730622}, {\"document\": \"chapter03_buch02\", \"term\": \"nationality\", \"tfidf\": 0.20490704540386054}, {\"document\": \"chapter03_buch02\", \"term\": \"right\", \"tfidf\": 0.14460751844579642}, {\"document\": \"chapter03_buch02\", \"term\": \"civic\", \"tfidf\": 0.1366375918740126}, {\"document\": \"chapter03_buch02\", \"term\": \"alien\", \"tfidf\": 0.12442091845261569}, {\"document\": \"chapter03_buch02\", \"term\": \"requirement\", \"tfidf\": 0.11880627093139799}, {\"document\": \"chapter04_buch01\", \"term\": \"german\", \"tfidf\": 0.31500744354720617}, {\"document\": \"chapter04_buch01\", \"term\": \"alliance\", \"tfidf\": 0.2875373333006383}, {\"document\": \"chapter04_buch01\", \"term\": \"germany\", \"tfidf\": 0.21767629332142496}, {\"document\": \"chapter04_buch01\", \"term\": \"austria\", \"tfidf\": 0.20239158420610784}, {\"document\": \"chapter04_buch01\", \"term\": \"britain\", \"tfidf\": 0.18846562202241562}, {\"document\": \"chapter04_buch01\", \"term\": \"territory\", \"tfidf\": 0.15232624058329813}, {\"document\": \"chapter04_buch01\", \"term\": \"state\", \"tfidf\": 0.14191716239319882}, {\"document\": \"chapter04_buch01\", \"term\": \"would\", \"tfidf\": 0.13101371770760992}, {\"document\": \"chapter04_buch01\", \"term\": \"policy\", \"tfidf\": 0.12732579039049033}, {\"document\": \"chapter04_buch01\", \"term\": \"thus\", \"tfidf\": 0.11736713731473598}, {\"document\": \"chapter04_buch02\", \"term\": \"principle\", \"tfidf\": 0.31204591469585213}, {\"document\": \"chapter04_buch02\", \"term\": \"invention\", \"tfidf\": 0.2988777450538899}, {\"document\": \"chapter04_buch02\", \"term\": \"individual\", \"tfidf\": 0.2790584115414371}, {\"document\": \"chapter04_buch02\", \"term\": \"struggle\", \"tfidf\": 0.15026496885006385}, {\"document\": \"chapter04_buch02\", \"term\": \"must\", \"tfidf\": 0.1471926308984383}, {\"document\": \"chapter04_buch02\", \"term\": \"personality\", \"tfidf\": 0.1423185543805262}, {\"document\": \"chapter04_buch02\", \"term\": \"creative\", \"tfidf\": 0.14023868540131107}, {\"document\": \"chapter04_buch02\", \"term\": \"brain\", \"tfidf\": 0.11142488409293284}, {\"document\": \"chapter04_buch02\", \"term\": \"organisation\", \"tfidf\": 0.10964541260568342}, {\"document\": \"chapter04_buch02\", \"term\": \"responsibility\", \"tfidf\": 0.10279640297340081}, {\"document\": \"chapter05_buch01\", \"term\": \"german\", \"tfidf\": 0.2415089586516284}, {\"document\": \"chapter05_buch01\", \"term\": \"would\", \"tfidf\": 0.17845859929145177}, {\"document\": \"chapter05_buch01\", \"term\": \"spiritual\", \"tfidf\": 0.16081926409220393}, {\"document\": \"chapter05_buch01\", \"term\": \"doctrine\", \"tfidf\": 0.14142054639569518}, {\"document\": \"chapter05_buch01\", \"term\": \"war\", \"tfidf\": 0.14106074673327557}, {\"document\": \"chapter05_buch01\", \"term\": \"austrian\", \"tfidf\": 0.13346258467741232}, {\"document\": \"chapter05_buch01\", \"term\": \"struggle\", \"tfidf\": 0.11927911448378802}, {\"document\": \"chapter05_buch01\", \"term\": \"marxism\", \"tfidf\": 0.1145006023043306}, {\"document\": \"chapter05_buch01\", \"term\": \"day\", \"tfidf\": 0.1105078270054573}, {\"document\": \"chapter05_buch01\", \"term\": \"austria\", \"tfidf\": 0.10862520629896387}, {\"document\": \"chapter05_buch02\", \"term\": \"movement\", \"tfidf\": 0.24833779424841515}, {\"document\": \"chapter05_buch02\", \"term\": \"programme\", \"tfidf\": 0.22769337606118165}, {\"document\": \"chapter05_buch02\", \"term\": \"volkisch\", \"tfidf\": 0.21777807888820938}, {\"document\": \"chapter05_buch02\", \"term\": \"weltanschauung\", \"tfidf\": 0.20154510138369014}, {\"document\": \"chapter05_buch02\", \"term\": \"idea\", \"tfidf\": 0.17117624363347408}, {\"document\": \"chapter05_buch02\", \"term\": \"formulation\", \"tfidf\": 0.1642706689479294}, {\"document\": \"chapter05_buch02\", \"term\": \"party\", \"tfidf\": 0.14167894258895708}, {\"document\": \"chapter05_buch02\", \"term\": \"discipline\", \"tfidf\": 0.13511342457115086}, {\"document\": \"chapter05_buch02\", \"term\": \"must\", \"tfidf\": 0.13420577412986873}, {\"document\": \"chapter05_buch02\", \"term\": \"german\", \"tfidf\": 0.12858751058966114}, {\"document\": \"chapter06_buch01\", \"term\": \"propaganda\", \"tfidf\": 0.702960705223147}, {\"document\": \"chapter06_buch01\", \"term\": \"must\", \"tfidf\": 0.13538633155097113}, {\"document\": \"chapter06_buch01\", \"term\": \"mass\", \"tfidf\": 0.12714220358655362}, {\"document\": \"chapter06_buch01\", \"term\": \"art\", \"tfidf\": 0.12263335962917853}, {\"document\": \"chapter06_buch01\", \"term\": \"poster\", \"tfidf\": 0.12156317864484574}, {\"document\": \"chapter06_buch01\", \"term\": \"enemy\", \"tfidf\": 0.12058174117081137}, {\"document\": \"chapter06_buch01\", \"term\": \"exhibition\", \"tfidf\": 0.10782926215805408}, {\"document\": \"chapter06_buch01\", \"term\": \"advertisement\", \"tfidf\": 0.10250105907436617}, {\"document\": \"chapter06_buch01\", \"term\": \"intellectual\", \"tfidf\": 0.10031595490432493}, {\"document\": \"chapter06_buch01\", \"term\": \"war\", \"tfidf\": 0.09815516897530645}, {\"document\": \"chapter06_buch02\", \"term\": \"orator\", \"tfidf\": 0.2284163104382344}, {\"document\": \"chapter06_buch02\", \"term\": \"treaty\", \"tfidf\": 0.21488917293512422}, {\"document\": \"chapter06_buch02\", \"term\": \"mass\", \"tfidf\": 0.21049418868882447}, {\"document\": \"chapter06_buch02\", \"term\": \"versailles\", \"tfidf\": 0.13797609056431795}, {\"document\": \"chapter06_buch02\", \"term\": \"writer\", \"tfidf\": 0.13378366735035124}, {\"document\": \"chapter06_buch02\", \"term\": \"people\", \"tfidf\": 0.13320870762477682}, {\"document\": \"chapter06_buch02\", \"term\": \"hearer\", \"tfidf\": 0.13192482577657588}, {\"document\": \"chapter06_buch02\", \"term\": \"opinion\", \"tfidf\": 0.12646792918894498}, {\"document\": \"chapter06_buch02\", \"term\": \"one\", \"tfidf\": 0.12257075248638066}, {\"document\": \"chapter06_buch02\", \"term\": \"german\", \"tfidf\": 0.12110991481228774}, {\"document\": \"chapter07_buch01\", \"term\": \"german\", \"tfidf\": 0.32173667310383347}, {\"document\": \"chapter07_buch01\", \"term\": \"front\", \"tfidf\": 0.22848696047187797}, {\"document\": \"chapter07_buch01\", \"term\": \"propaganda\", \"tfidf\": 0.14604580953663926}, {\"document\": \"chapter07_buch01\", \"term\": \"germany\", \"tfidf\": 0.13843558060091635}, {\"document\": \"chapter07_buch01\", \"term\": \"offensive\", \"tfidf\": 0.13761274648232405}, {\"document\": \"chapter07_buch01\", \"term\": \"fatherland\", \"tfidf\": 0.13435447028463918}, {\"document\": \"chapter07_buch01\", \"term\": \"enemy\", \"tfidf\": 0.13401990436658498}, {\"document\": \"chapter07_buch01\", \"term\": \"soldier\", \"tfidf\": 0.1262978035665623}, {\"document\": \"chapter07_buch01\", \"term\": \"could\", \"tfidf\": 0.12516733041942515}, {\"document\": \"chapter07_buch01\", \"term\": \"would\", \"tfidf\": 0.1250461963907373}, {\"document\": \"chapter07_buch02\", \"term\": \"meeting\", \"tfidf\": 0.5064901521122418}, {\"document\": \"chapter07_buch02\", \"term\": \"hall\", \"tfidf\": 0.24980812957292908}, {\"document\": \"chapter07_buch02\", \"term\": \"colour\", \"tfidf\": 0.17441942048243655}, {\"document\": \"chapter07_buch02\", \"term\": \"red\", \"tfidf\": 0.15663715542360454}, {\"document\": \"chapter07_buch02\", \"term\": \"flag\", \"tfidf\": 0.13062274423856288}, {\"document\": \"chapter07_buch02\", \"term\": \"german\", \"tfidf\": 0.12235315558870666}, {\"document\": \"chapter07_buch02\", \"term\": \"bourgeois\", \"tfidf\": 0.12168597470013755}, {\"document\": \"chapter07_buch02\", \"term\": \"party\", \"tfidf\": 0.11953745938648669}, {\"document\": \"chapter07_buch02\", \"term\": \"one\", \"tfidf\": 0.11701483477544432}, {\"document\": \"chapter07_buch02\", \"term\": \"circus\", \"tfidf\": 0.10499263279032588}, {\"document\": \"chapter08_buch01\", \"term\": \"capital\", \"tfidf\": 0.2605702263521819}, {\"document\": \"chapter08_buch01\", \"term\": \"feder\", \"tfidf\": 0.2061562406924836}, {\"document\": \"chapter08_buch01\", \"term\": \"lecture\", \"tfidf\": 0.15867659942201812}, {\"document\": \"chapter08_buch01\", \"term\": \"stockexchange\", \"tfidf\": 0.12776162453076487}, {\"document\": \"chapter08_buch01\", \"term\": \"philosopher\", \"tfidf\": 0.12587443422699615}, {\"document\": \"chapter08_buch01\", \"term\": \"activity\", \"tfidf\": 0.12365305965460648}, {\"document\": \"chapter08_buch01\", \"term\": \"idea\", \"tfidf\": 0.11934759639812909}, {\"document\": \"chapter08_buch01\", \"term\": \"contemporary\", \"tfidf\": 0.11479538201637965}, {\"document\": \"chapter08_buch01\", \"term\": \"practical\", \"tfidf\": 0.11467542320306667}, {\"document\": \"chapter08_buch01\", \"term\": \"future\", \"tfidf\": 0.11425491968005386}, {\"document\": \"chapter08_buch02\", \"term\": \"association\", \"tfidf\": 0.22239448667657474}, {\"document\": \"chapter08_buch02\", \"term\": \"german\", \"tfidf\": 0.21910174363426266}, {\"document\": \"chapter08_buch02\", \"term\": \"cooperative\", \"tfidf\": 0.20706428208280378}, {\"document\": \"chapter08_buch02\", \"term\": \"movement\", \"tfidf\": 0.17221128257505292}, {\"document\": \"chapter08_buch02\", \"term\": \"aim\", \"tfidf\": 0.165400584312624}, {\"document\": \"chapter08_buch02\", \"term\": \"party\", \"tfidf\": 0.15630610130295738}, {\"document\": \"chapter08_buch02\", \"term\": \"coalition\", \"tfidf\": 0.15451467161444457}, {\"document\": \"chapter08_buch02\", \"term\": \"thus\", \"tfidf\": 0.1515831500269778}, {\"document\": \"chapter08_buch02\", \"term\": \"one\", \"tfidf\": 0.14734634129140273}, {\"document\": \"chapter08_buch02\", \"term\": \"may\", \"tfidf\": 0.1309786481872026}, {\"document\": \"chapter09_buch01\", \"term\": \"party\", \"tfidf\": 0.24954680414197952}, {\"document\": \"chapter09_buch01\", \"term\": \"feder\", \"tfidf\": 0.19487427588384237}, {\"document\": \"chapter09_buch01\", \"term\": \"pamphlet\", \"tfidf\": 0.17403385392181922}, {\"document\": \"chapter09_buch01\", \"term\": \"meeting\", \"tfidf\": 0.165193967293637}, {\"document\": \"chapter09_buch01\", \"term\": \"german\", \"tfidf\": 0.1617242488864588}, {\"document\": \"chapter09_buch01\", \"term\": \"association\", \"tfidf\": 0.1594562942813725}, {\"document\": \"chapter09_buch01\", \"term\": \"one\", \"tfidf\": 0.1257227074822279}, {\"document\": \"chapter09_buch01\", \"term\": \"could\", \"tfidf\": 0.11444974800965486}, {\"document\": \"chapter09_buch01\", \"term\": \"received\", \"tfidf\": 0.11042814271224703}, {\"document\": \"chapter09_buch01\", \"term\": \"labour\", \"tfidf\": 0.11008498240647817}, {\"document\": \"chapter09_buch02\", \"term\": \"detachment\", \"tfidf\": 0.28101816382241174}, {\"document\": \"chapter09_buch02\", \"term\": \"revolution\", \"tfidf\": 0.24180245317966956}, {\"document\": \"chapter09_buch02\", \"term\": \"defence\", \"tfidf\": 0.20986882106818047}, {\"document\": \"chapter09_buch02\", \"term\": \"storm\", \"tfidf\": 0.19935358110259505}, {\"document\": \"chapter09_buch02\", \"term\": \"organisation\", \"tfidf\": 0.1688962133866543}, {\"document\": \"chapter09_buch02\", \"term\": \"german\", \"tfidf\": 0.1574317902664281}, {\"document\": \"chapter09_buch02\", \"term\": \"league\", \"tfidf\": 0.1522040739226146}, {\"document\": \"chapter09_buch02\", \"term\": \"state\", \"tfidf\": 0.13802234701327531}, {\"document\": \"chapter09_buch02\", \"term\": \"coburg\", \"tfidf\": 0.12391942770721627}, {\"document\": \"chapter09_buch02\", \"term\": \"volunteer\", \"tfidf\": 0.12171793674254515}, {\"document\": \"chapter10_buch01\", \"term\": \"german\", \"tfidf\": 0.3166640215478549}, {\"document\": \"chapter10_buch01\", \"term\": \"would\", \"tfidf\": 0.14790856009270892}, {\"document\": \"chapter10_buch01\", \"term\": \"people\", \"tfidf\": 0.1379113989534208}, {\"document\": \"chapter10_buch01\", \"term\": \"nation\", \"tfidf\": 0.13150135744891567}, {\"document\": \"chapter10_buch01\", \"term\": \"one\", \"tfidf\": 0.12147386578385075}, {\"document\": \"chapter10_buch01\", \"term\": \"thus\", \"tfidf\": 0.11647884707903666}, {\"document\": \"chapter10_buch01\", \"term\": \"reich\", \"tfidf\": 0.1080730567298579}, {\"document\": \"chapter10_buch01\", \"term\": \"must\", \"tfidf\": 0.10053578979765385}, {\"document\": \"chapter10_buch01\", \"term\": \"public\", \"tfidf\": 0.09832541133875596}, {\"document\": \"chapter10_buch01\", \"term\": \"time\", \"tfidf\": 0.09820408917982304}, {\"document\": \"chapter10_buch02\", \"term\": \"reich\", \"tfidf\": 0.3910930234187472}, {\"document\": \"chapter10_buch02\", \"term\": \"state\", \"tfidf\": 0.25083356939652407}, {\"document\": \"chapter10_buch02\", \"term\": \"german\", \"tfidf\": 0.24320627695234778}, {\"document\": \"chapter10_buch02\", \"term\": \"prussia\", \"tfidf\": 0.2075117102149544}, {\"document\": \"chapter10_buch02\", \"term\": \"individual\", \"tfidf\": 0.16851398460327105}, {\"document\": \"chapter10_buch02\", \"term\": \"bavaria\", \"tfidf\": 0.1653463276399506}, {\"document\": \"chapter10_buch02\", \"term\": \"sovereign\", \"tfidf\": 0.1615315737828861}, {\"document\": \"chapter10_buch02\", \"term\": \"bavarian\", \"tfidf\": 0.15740923541644392}, {\"document\": \"chapter10_buch02\", \"term\": \"jew\", \"tfidf\": 0.1262928498643327}, {\"document\": \"chapter10_buch02\", \"term\": \"national\", \"tfidf\": 0.12257618631661535}, {\"document\": \"chapter11_buch01\", \"term\": \"jew\", \"tfidf\": 0.5421263129111975}, {\"document\": \"chapter11_buch01\", \"term\": \"aryan\", \"tfidf\": 0.1730510706169343}, {\"document\": \"chapter11_buch01\", \"term\": \"people\", \"tfidf\": 0.157634566957313}, {\"document\": \"chapter11_buch01\", \"term\": \"jewish\", \"tfidf\": 0.15365620942970246}, {\"document\": \"chapter11_buch01\", \"term\": \"civilisation\", \"tfidf\": 0.13941275435577222}, {\"document\": \"chapter11_buch01\", \"term\": \"race\", \"tfidf\": 0.12917115195403214}, {\"document\": \"chapter11_buch01\", \"term\": \"culture\", \"tfidf\": 0.12302073020824944}, {\"document\": \"chapter11_buch01\", \"term\": \"nature\", \"tfidf\": 0.10710436318118012}, {\"document\": \"chapter11_buch01\", \"term\": \"thus\", \"tfidf\": 0.10059580366098371}, {\"document\": \"chapter11_buch01\", \"term\": \"existence\", \"tfidf\": 0.08841073177273266}, {\"document\": \"chapter11_buch02\", \"term\": \"movement\", \"tfidf\": 0.34117695259285785}, {\"document\": \"chapter11_buch02\", \"term\": \"propaganda\", \"tfidf\": 0.29698990135312425}, {\"document\": \"chapter11_buch02\", \"term\": \"organisation\", \"tfidf\": 0.22233375736982477}, {\"document\": \"chapter11_buch02\", \"term\": \"member\", \"tfidf\": 0.20210755962648652}, {\"document\": \"chapter11_buch02\", \"term\": \"organising\", \"tfidf\": 0.17826381409529593}, {\"document\": \"chapter11_buch02\", \"term\": \"party\", \"tfidf\": 0.15697326493662683}, {\"document\": \"chapter11_buch02\", \"term\": \"businessmanager\", \"tfidf\": 0.13792965449798825}, {\"document\": \"chapter11_buch02\", \"term\": \"committee\", \"tfidf\": 0.13558814014680398}, {\"document\": \"chapter11_buch02\", \"term\": \"adherent\", \"tfidf\": 0.12924894174857968}, {\"document\": \"chapter11_buch02\", \"term\": \"body\", \"tfidf\": 0.12658549919866458}, {\"document\": \"chapter12_buch01\", \"term\": \"movement\", \"tfidf\": 0.34764054870432665}, {\"document\": \"chapter12_buch01\", \"term\": \"mass\", \"tfidf\": 0.18672754579758252}, {\"document\": \"chapter12_buch01\", \"term\": \"meeting\", \"tfidf\": 0.1799463788483959}, {\"document\": \"chapter12_buch01\", \"term\": \"people\", \"tfidf\": 0.15897610311018714}, {\"document\": \"chapter12_buch01\", \"term\": \"german\", \"tfidf\": 0.1497435562351824}, {\"document\": \"chapter12_buch01\", \"term\": \"must\", \"tfidf\": 0.1397201164114511}, {\"document\": \"chapter12_buch01\", \"term\": \"organisation\", \"tfidf\": 0.13924789921920566}, {\"document\": \"chapter12_buch01\", \"term\": \"one\", \"tfidf\": 0.13896385871738706}, {\"document\": \"chapter12_buch01\", \"term\": \"national\", \"tfidf\": 0.12231741121336101}, {\"document\": \"chapter12_buch01\", \"term\": \"ideal\", \"tfidf\": 0.1166769651594702}, {\"document\": \"chapter12_buch02\", \"term\": \"tradeunions\", \"tfidf\": 0.3023201861209633}, {\"document\": \"chapter12_buch02\", \"term\": \"tradeunion\", \"tfidf\": 0.2920977636234564}, {\"document\": \"chapter12_buch02\", \"term\": \"national\", \"tfidf\": 0.28806632767732493}, {\"document\": \"chapter12_buch02\", \"term\": \"socialist\", \"tfidf\": 0.2382718097348901}, {\"document\": \"chapter12_buch02\", \"term\": \"must\", \"tfidf\": 0.18905873357911232}, {\"document\": \"chapter12_buch02\", \"term\": \"economic\", \"tfidf\": 0.18448384884854055}, {\"document\": \"chapter12_buch02\", \"term\": \"tradeunionist\", \"tfidf\": 0.18375396356648194}, {\"document\": \"chapter12_buch02\", \"term\": \"struggle\", \"tfidf\": 0.17072796784763633}, {\"document\": \"chapter12_buch02\", \"term\": \"employer\", \"tfidf\": 0.15709755410517046}, {\"document\": \"chapter12_buch02\", \"term\": \"movement\", \"tfidf\": 0.1420562199432468}, {\"document\": \"chapter13_buch02\", \"term\": \"britain\", \"tfidf\": 0.3832167329335059}, {\"document\": \"chapter13_buch02\", \"term\": \"alliance\", \"tfidf\": 0.22823301742117189}, {\"document\": \"chapter13_buch02\", \"term\": \"germany\", \"tfidf\": 0.20274713448695766}, {\"document\": \"chapter13_buch02\", \"term\": \"german\", \"tfidf\": 0.1984322646267322}, {\"document\": \"chapter13_buch02\", \"term\": \"british\", \"tfidf\": 0.19447663744226967}, {\"document\": \"chapter13_buch02\", \"term\": \"france\", \"tfidf\": 0.16543697571495572}, {\"document\": \"chapter13_buch02\", \"term\": \"tyrol\", \"tfidf\": 0.1638198784728164}, {\"document\": \"chapter13_buch02\", \"term\": \"policy\", \"tfidf\": 0.15191028746490698}, {\"document\": \"chapter13_buch02\", \"term\": \"nation\", \"tfidf\": 0.1348029264888084}, {\"document\": \"chapter13_buch02\", \"term\": \"power\", \"tfidf\": 0.1317675553294548}, {\"document\": \"chapter14_buch02\", \"term\": \"german\", \"tfidf\": 0.31922345336987223}, {\"document\": \"chapter14_buch02\", \"term\": \"would\", \"tfidf\": 0.215379779034536}, {\"document\": \"chapter14_buch02\", \"term\": \"germany\", \"tfidf\": 0.20709269419929582}, {\"document\": \"chapter14_buch02\", \"term\": \"alliance\", \"tfidf\": 0.1970635210111148}, {\"document\": \"chapter14_buch02\", \"term\": \"policy\", \"tfidf\": 0.17055979862748122}, {\"document\": \"chapter14_buch02\", \"term\": \"territory\", \"tfidf\": 0.1670364614287546}, {\"document\": \"chapter14_buch02\", \"term\": \"britain\", \"tfidf\": 0.16175145451000034}, {\"document\": \"chapter14_buch02\", \"term\": \"must\", \"tfidf\": 0.14594098559307697}, {\"document\": \"chapter14_buch02\", \"term\": \"state\", \"tfidf\": 0.1436423412917456}, {\"document\": \"chapter14_buch02\", \"term\": \"nation\", \"tfidf\": 0.13126256658882046}, {\"document\": \"chapter15_buch02\", \"term\": \"german\", \"tfidf\": 0.28768711769742955}, {\"document\": \"chapter15_buch02\", \"term\": \"french\", \"tfidf\": 0.2615748365307773}, {\"document\": \"chapter15_buch02\", \"term\": \"ruhr\", \"tfidf\": 0.2529631091822628}, {\"document\": \"chapter15_buch02\", \"term\": \"germany\", \"tfidf\": 0.24748536160672394}, {\"document\": \"chapter15_buch02\", \"term\": \"france\", \"tfidf\": 0.23155750282428988}, {\"document\": \"chapter15_buch02\", \"term\": \"cuno\", \"tfidf\": 0.1834045914025215}, {\"document\": \"chapter15_buch02\", \"term\": \"resistance\", \"tfidf\": 0.16140145154219354}, {\"document\": \"chapter15_buch02\", \"term\": \"would\", \"tfidf\": 0.12196873514505961}, {\"document\": \"chapter15_buch02\", \"term\": \"nation\", \"tfidf\": 0.10909182532093176}, {\"document\": \"chapter15_buch02\", \"term\": \"one\", \"tfidf\": 0.10587132037906415}, {\"document\": \"epilogue_buch02\", \"term\": \"beguile\", \"tfidf\": 0.17609292862092543}, {\"document\": \"epilogue_buch02\", \"term\": \"dedicates\", \"tfidf\": 0.17605525985375628}, {\"document\": \"epilogue_buch02\", \"term\": \"profoundest\", \"tfidf\": 0.17609664723764057}, {\"document\": \"epilogue_buch02\", \"term\": \"rightful\", \"tfidf\": 0.17610723217583962}, {\"document\": \"epilogue_buch02\", \"term\": \"supporters\", \"tfidf\": 0.17608986879669236}, {\"document\": \"epilogue_buch02\", \"term\": \"vilification\", \"tfidf\": 0.17607922960680436}, {\"document\": \"epilogue_buch02\", \"term\": \"prohibited\", \"tfidf\": 0.16231351091577886}, {\"document\": \"epilogue_buch02\", \"term\": \"struggle\", \"tfidf\": 0.15964790522160638}, {\"document\": \"epilogue_buch02\", \"term\": \"certainty\", \"tfidf\": 0.15257007030807693}, {\"document\": \"epilogue_buch02\", \"term\": \"firmer\", \"tfidf\": 0.15252954518533424}]}}, {\"mode\": \"vega-lite\"});\n",
       "</script>"
      ],
      "text/plain": [
       "alt.LayerChart(...)"
      ]
     },
     "execution_count": 16,
     "metadata": {},
     "output_type": "execute_result"
    }
   ],
   "source": [
    "import altair as alt\n",
    "import numpy as np\n",
    "\n",
    "#terme die gesondert mit rotem punkt ausgezeichnet werden\n",
    "term_list = ['war', 'peace']\n",
    "\n",
    "#randomness fürs ranking\n",
    "top_tfidf_plusRand = top_tfidf.copy()\n",
    "top_tfidf_plusRand['tfidf'] = top_tfidf_plusRand['tfidf'] + np.random.rand(top_tfidf.shape[0])*0.0001\n",
    "\n",
    "#visualisierungen mit ranking\n",
    "base = alt.Chart(top_tfidf_plusRand).encode(\n",
    "    x = 'rank:O',\n",
    "    y = 'document:N'\n",
    ").transform_window(\n",
    "    rank = \"rank()\",\n",
    "    sort = [alt.SortField(\"tfidf\", order=\"descending\")],\n",
    "    groupby = [\"document\"],\n",
    ")\n",
    "\n",
    "#heatmap definieren\n",
    "heatmap = base.mark_rect().encode(\n",
    "    color = 'tfidf:Q'\n",
    ")\n",
    "\n",
    "#roter punkt für oben festgelegte terme definieren\n",
    "circle = base.mark_circle(size=100).encode(\n",
    "    color = alt.condition(\n",
    "        alt.FieldOneOfPredicate(field='term', oneOf=term_list),\n",
    "        alt.value('red'),\n",
    "        alt.value('#FFFFFF00')        \n",
    "    )\n",
    ")\n",
    "\n",
    "#text labels mit weiß für dunklere heatmap-einfärbungen\n",
    "text = base.mark_text(baseline='middle').encode(\n",
    "    text = 'term:N',\n",
    "    color = alt.condition(alt.datum.tfidf >= 0.23, alt.value('white'), alt.value('black'))\n",
    ")\n",
    "\n",
    "#visualisierungen darstellen\n",
    "(heatmap + circle + text).properties(width = 600)"
   ]
  },
  {
   "cell_type": "markdown",
   "id": "b56443a2-c880-4d6e-9f39-5042d5da93fd",
   "metadata": {},
   "source": [
    "----------------"
   ]
  },
  {
   "cell_type": "markdown",
   "id": "47e39298-91f8-4d84-92ed-bbd907185f24",
   "metadata": {},
   "source": [
    "## Vergleich über anteiliges Wortvorkommen"
   ]
  },
  {
   "cell_type": "code",
   "execution_count": 17,
   "id": "0ae6bb10-e9af-4324-a0c6-87bfe003e22f",
   "metadata": {},
   "outputs": [
    {
     "name": "stdin",
     "output_type": "stream",
     "text": [
      "Bitte das Wort eingeben, das gezählt werden soll:  war\n"
     ]
    }
   ],
   "source": [
    "#für spätere einzelwortanalyse\n",
    "word_input = input(\"Bitte das Wort eingeben, das gezählt werden soll: \").lower()"
   ]
  },
  {
   "cell_type": "markdown",
   "id": "d16d409b-ebd7-4191-ab3a-448f6207d1f7",
   "metadata": {},
   "source": [
    "#### Hitler"
   ]
  },
  {
   "cell_type": "code",
   "execution_count": 18,
   "id": "99bed149-9c10-4ffc-80df-299854c4a6de",
   "metadata": {},
   "outputs": [
    {
     "name": "stdin",
     "output_type": "stream",
     "text": [
      "Was soll untersucht werden? allwords, nouns, adjectives oder verbs? allwords\n"
     ]
    },
    {
     "name": "stdout",
     "output_type": "stream",
     "text": [
      "29\n"
     ]
    },
    {
     "data": {
      "text/plain": [
       "['C:\\\\Users\\\\Simon\\\\Bachelorarbeit\\\\vergleich_mk_trump\\\\cleaned_docs\\\\all_words\\\\clean_hitler\\\\00_preface_buch01.txt',\n",
       " 'C:\\\\Users\\\\Simon\\\\Bachelorarbeit\\\\vergleich_mk_trump\\\\cleaned_docs\\\\all_words\\\\clean_hitler\\\\chapter01_buch01.txt',\n",
       " 'C:\\\\Users\\\\Simon\\\\Bachelorarbeit\\\\vergleich_mk_trump\\\\cleaned_docs\\\\all_words\\\\clean_hitler\\\\chapter01_buch02.txt',\n",
       " 'C:\\\\Users\\\\Simon\\\\Bachelorarbeit\\\\vergleich_mk_trump\\\\cleaned_docs\\\\all_words\\\\clean_hitler\\\\chapter02_buch01.txt',\n",
       " 'C:\\\\Users\\\\Simon\\\\Bachelorarbeit\\\\vergleich_mk_trump\\\\cleaned_docs\\\\all_words\\\\clean_hitler\\\\chapter02_buch02.txt',\n",
       " 'C:\\\\Users\\\\Simon\\\\Bachelorarbeit\\\\vergleich_mk_trump\\\\cleaned_docs\\\\all_words\\\\clean_hitler\\\\chapter03_buch01.txt',\n",
       " 'C:\\\\Users\\\\Simon\\\\Bachelorarbeit\\\\vergleich_mk_trump\\\\cleaned_docs\\\\all_words\\\\clean_hitler\\\\chapter03_buch02.txt',\n",
       " 'C:\\\\Users\\\\Simon\\\\Bachelorarbeit\\\\vergleich_mk_trump\\\\cleaned_docs\\\\all_words\\\\clean_hitler\\\\chapter04_buch01.txt',\n",
       " 'C:\\\\Users\\\\Simon\\\\Bachelorarbeit\\\\vergleich_mk_trump\\\\cleaned_docs\\\\all_words\\\\clean_hitler\\\\chapter04_buch02.txt',\n",
       " 'C:\\\\Users\\\\Simon\\\\Bachelorarbeit\\\\vergleich_mk_trump\\\\cleaned_docs\\\\all_words\\\\clean_hitler\\\\chapter05_buch01.txt']"
      ]
     },
     "execution_count": 18,
     "metadata": {},
     "output_type": "execute_result"
    }
   ],
   "source": [
    "while True: \n",
    "    input_path_hitler = input(\"Was soll untersucht werden? allwords, nouns, adjectives oder verbs?\").lower()\n",
    "    \n",
    "    if input_path_hitler == \"allwords\":\n",
    "        #directory_path = [\"/home/simon/bachelorarbeit/vergleich_mk_trump/cleaned_docs/all_words/clean_hitler\"]\n",
    "        directory_path = [r\"C:\\Users\\Simon\\Bachelorarbeit\\vergleich_mk_trump\\cleaned_docs\\all_words\\clean_hitler\"]\n",
    "        break\n",
    "    elif input_path_hitler == \"nouns\":\n",
    "        #directory_path = [\"/home/simon/bachelorarbeit/vergleich_mk_trump/cleaned_docs/nouns/clean_hitler\"]\n",
    "        directory_path = [r\"C:\\Users\\Simon\\Bachelorarbeit\\vergleich_mk_trump\\cleaned_docs\\nouns\\clean_hitler\"]\n",
    "        break\n",
    "    elif input_path_hitler == \"verbs\":\n",
    "        #directory_path = [\"/home/simon/bachelorarbeit/vergleich_mk_trump/cleaned_docs/verbs/clean_hitler\"]\n",
    "        directory_path = [r\"C:\\Users\\Simon\\Bachelorarbeit\\vergleich_mk_trump\\cleaned_docs\\verbs\\clean_hitler\"]\n",
    "        break\n",
    "    elif input_path_hitler == \"adjectives\":\n",
    "        #directory_path = [\"/home/simon/bachelorarbeit/vergleich_mk_trump/cleaned_docs/adjectives/clean_hitler\"]\n",
    "        directory_path = [r\"C:\\Users\\Simon\\Bachelorarbeit\\vergleich_mk_trump\\cleaned_docs\\adjectives\\clean_hitler\"]\n",
    "        break\n",
    "    else: \n",
    "        print(\"Falsche Eingabe!\")\n",
    "\n",
    "text_files_hitler = []\n",
    "for path in directory_path:\n",
    "    text_files_hitler.extend(glob.glob(f\"{path}/*.txt\"))\n",
    "\n",
    "print(len(text_files_hitler))\n",
    "text_files_hitler[:10]"
   ]
  },
  {
   "cell_type": "code",
   "execution_count": 19,
   "id": "3294d696-44d4-413d-9fb1-4df43496f659",
   "metadata": {},
   "outputs": [
    {
     "name": "stdout",
     "output_type": "stream",
     "text": [
      "Anzahl der Textdateien: 29\n",
      "Gesamte Anzahl der Wörter: 124310\n",
      "['april', 'ist', 'began', 'serve', 'sentence', 'detention', 'fortress', 'landsberg', 'lech', 'following', 'verdict', 'pronounced', 'munich', 'people’s', 'court', 'day', 'year', 'uninterrupted', 'labour', 'possible', 'first', 'time', 'begin', 'work', 'many', 'asked', 'felt', 'would', 'profitable', 'movement', 'therefore', 'decided', 'devote', 'two', 'volume', 'description', 'aim', 'movement', 'also', 'development']\n"
     ]
    }
   ],
   "source": [
    "import os\n",
    "\n",
    "texts_all_hitler = []\n",
    "\n",
    "# Durchlaufen aller Textdateien und Einlesen des Inhalts\n",
    "for file_path in text_files_hitler:\n",
    "    with open(file_path, 'r', encoding='utf-8') as file:\n",
    "        content = file.read()\n",
    "        texts_all_hitler.append(content)\n",
    "\n",
    "# Anzahl der gefundenen und eingelesenen Textdateien ausgeben\n",
    "print(f\"Anzahl der Textdateien: {len(texts_all_hitler)}\")\n",
    "\n",
    "# Alle Texte in ein einzelnes Dokument zusammenfassen und in Wörter aufteilen\n",
    "texts_all_hitler = ' '.join(texts_all_hitler)\n",
    "wordlist_hitler = texts_all_hitler.split()\n",
    "\n",
    "# Gesamtlänge des Textes (in Wörtern) ausgeben\n",
    "print(f\"Gesamte Anzahl der Wörter: {len(wordlist_hitler)}\")\n",
    "print(wordlist_hitler[:40])"
   ]
  },
  {
   "cell_type": "code",
   "execution_count": 20,
   "id": "3f850b7c-2754-4785-a15d-3b44f4c02e70",
   "metadata": {},
   "outputs": [
    {
     "name": "stdout",
     "output_type": "stream",
     "text": [
      "people: 985, 0.00792\n",
      "would: 960, 0.00772\n",
      "state: 884, 0.00711\n",
      "one: 868, 0.00698\n",
      "german: 861, 0.00693\n",
      "must: 698, 0.00561\n",
      "time: 659, 0.0053\n",
      "nation: 576, 0.00463\n",
      "could: 560, 0.0045\n",
      "movement: 558, 0.00449\n",
      "national: 484, 0.00389\n",
      "even: 470, 0.00378\n",
      "political: 423, 0.0034\n",
      "first: 416, 0.00335\n",
      "may: 411, 0.00331\n",
      "party: 401, 0.00323\n",
      "great: 366, 0.00294\n",
      "way: 365, 0.00294\n",
      "new: 362, 0.00291\n",
      "world: 354, 0.00285\n"
     ]
    }
   ],
   "source": [
    "from collections import Counter\n",
    "\n",
    "# Wörter zählen\n",
    "count_words_hitler = Counter(wordlist_hitler)\n",
    "\n",
    "mfw_hitler = count_words_hitler.most_common(20) #mfw = most frequent words\n",
    "for word_h, count_h in mfw_hitler:\n",
    "    print(f\"{word_h}: {count_h}, {round(count_h/(len(wordlist_hitler)),5)}\")"
   ]
  },
  {
   "cell_type": "markdown",
   "id": "e86c57cc-77ee-4521-a20b-caaf6b768d32",
   "metadata": {},
   "source": [
    "      "
   ]
  },
  {
   "cell_type": "code",
   "execution_count": 21,
   "id": "48e5f142-80b4-4647-823c-9313731fe6e7",
   "metadata": {},
   "outputs": [
    {
     "name": "stdout",
     "output_type": "stream",
     "text": [
      "Häufigkeit von'war' bei Trump: 354 mal mit einer Frequenz von 0.002848\n"
     ]
    }
   ],
   "source": [
    "#word_hitler = input(\"Bitte das Wort eingeben, das gezählt werden soll: \").lower()\n",
    "\n",
    "#worteingabe zählen lassen, ciw = count input word\n",
    "ciw_hitler = wordlist_hitler.count(word_input)\n",
    "\n",
    "# Ergebnis ausgeben\n",
    "print(f\"Häufigkeit von'{word_input}' bei Trump: {count_h} mal mit einer Frequenz von {round(count_h/(len(wordlist_hitler)),6)}\")"
   ]
  },
  {
   "cell_type": "markdown",
   "id": "148cf520-2eac-4cc8-80ad-bbd9b2a45658",
   "metadata": {},
   "source": [
    "#### Trump"
   ]
  },
  {
   "cell_type": "code",
   "execution_count": 22,
   "id": "9b5f4a7d-a4b2-41a6-baa7-e3218a498e1d",
   "metadata": {},
   "outputs": [
    {
     "name": "stdin",
     "output_type": "stream",
     "text": [
      "Was soll untersucht werden? allwords, nouns, adjectives oder verbs? allwords\n"
     ]
    },
    {
     "name": "stdout",
     "output_type": "stream",
     "text": [
      "102\n"
     ]
    },
    {
     "data": {
      "text/plain": [
       "['C:\\\\Users\\\\Simon\\\\Bachelorarbeit\\\\vergleich_mk_trump\\\\cleaned_docs\\\\all_words\\\\clean_trump\\\\Donald Trump & Mike Pence Rally Speech Transcript Traverse City, Michigan 2 November 11_02_20.txt',\n",
       " 'C:\\\\Users\\\\Simon\\\\Bachelorarbeit\\\\vergleich_mk_trump\\\\cleaned_docs\\\\all_words\\\\clean_trump\\\\Donald Trump Addresses NRA Meeting in Indianapolis Transcript 04_17_23.txt',\n",
       " 'C:\\\\Users\\\\Simon\\\\Bachelorarbeit\\\\vergleich_mk_trump\\\\cleaned_docs\\\\all_words\\\\clean_trump\\\\Donald Trump Alamo, Texas Speech Transcript January 12 25th Amendment Zero Risk to Me 01_12_21.txt',\n",
       " 'C:\\\\Users\\\\Simon\\\\Bachelorarbeit\\\\vergleich_mk_trump\\\\cleaned_docs\\\\all_words\\\\clean_trump\\\\Donald Trump Concedes Election, Condemns Rioters Video Speech Transcript January 7 01_07_21.txt',\n",
       " 'C:\\\\Users\\\\Simon\\\\Bachelorarbeit\\\\vergleich_mk_trump\\\\cleaned_docs\\\\all_words\\\\clean_trump\\\\Donald Trump CPAC 2021 Speech Transcript 02_28_21.txt',\n",
       " 'C:\\\\Users\\\\Simon\\\\Bachelorarbeit\\\\vergleich_mk_trump\\\\cleaned_docs\\\\all_words\\\\clean_trump\\\\Donald Trump CPAC 2021 Speech Transcript Dallas, TX 07_11_21.txt',\n",
       " 'C:\\\\Users\\\\Simon\\\\Bachelorarbeit\\\\vergleich_mk_trump\\\\cleaned_docs\\\\all_words\\\\clean_trump\\\\Donald Trump Cullman, Alabama Rally Speech Transcript 08_22_21.txt',\n",
       " 'C:\\\\Users\\\\Simon\\\\Bachelorarbeit\\\\vergleich_mk_trump\\\\cleaned_docs\\\\all_words\\\\clean_trump\\\\Donald Trump Delivers Keynote Speech at New Hampshire GOP Annual Meeting Transcript 01_30_23.txt',\n",
       " 'C:\\\\Users\\\\Simon\\\\Bachelorarbeit\\\\vergleich_mk_trump\\\\cleaned_docs\\\\all_words\\\\clean_trump\\\\Donald Trump Delivers Keynote Speech in Florida 4_21_22 Transcript 04_24_22.txt',\n",
       " 'C:\\\\Users\\\\Simon\\\\Bachelorarbeit\\\\vergleich_mk_trump\\\\cleaned_docs\\\\all_words\\\\clean_trump\\\\Donald Trump Delivers Speech in South Carolina Transcript 02_12_24.txt']"
      ]
     },
     "execution_count": 22,
     "metadata": {},
     "output_type": "execute_result"
    }
   ],
   "source": [
    "while True: \n",
    "    input_path_trump = input(\"Was soll untersucht werden? allwords, nouns, adjectives oder verbs?\").lower()\n",
    "    \n",
    "    if input_path_trump == \"allwords\":\n",
    "        #directory_path = [\"/home/simon/bachelorarbeit/vergleich_mk_trump/cleaned_docs/all_words/clean_trump\"]\n",
    "        directory_path = [r\"C:\\Users\\Simon\\Bachelorarbeit\\vergleich_mk_trump\\cleaned_docs\\all_words\\clean_trump\"]\n",
    "        break\n",
    "    elif input_path_trump == \"nouns\":\n",
    "        #directory_path = [\"/home/simon/bachelorarbeit/vergleich_mk_trump/cleaned_docs/nouns/clean_trump\"]\n",
    "        directory_path = [r\"C:\\Users\\Simon\\Bachelorarbeit\\vergleich_mk_trump\\cleaned_docs\\nouns\\clean_trump\"]\n",
    "        break\n",
    "    elif input_path_trump == \"verbs\":\n",
    "        #directory_path = [\"/home/simon/bachelorarbeit/vergleich_mk_trump/cleaned_docs/verbs/clean_trump\"]\n",
    "        directory_path = [r\"C:\\Users\\Simon\\Bachelorarbeit\\vergleich_mk_trump\\cleaned_docs\\verbs\\clean_trump\"]\n",
    "        break\n",
    "    elif input_path_trump == \"adjectives\":\n",
    "        #directory_path = [\"/home/simon/bachelorarbeit/vergleich_mk_trump/cleaned_docs/adjectives/clean_trump\"]\n",
    "        directory_path = [r\"C:\\Users\\Simon\\Bachelorarbeit\\vergleich_mk_trump\\cleaned_docs\\adjectives\\clean_trump\"]\n",
    "        break\n",
    "    else: \n",
    "        print(\"Falsche Eingabe!\")\n",
    "\n",
    "text_files_trump = []\n",
    "for path in directory_path:\n",
    "    text_files_trump.extend(glob.glob(f\"{path}/*.txt\"))\n",
    "\n",
    "print(len(text_files_trump))\n",
    "text_files_trump[:10]"
   ]
  },
  {
   "cell_type": "code",
   "execution_count": 23,
   "id": "609256c0-3195-41c6-9062-f84e1c58afe9",
   "metadata": {},
   "outputs": [
    {
     "name": "stdout",
     "output_type": "stream",
     "text": [
      "Anzahl der Textdateien: 102\n",
      "Gesamte Anzahl der Wörter: 359831\n",
      "['oh', 'thank', 'oh', 'wow', 'big', 'crowd', 'lot', 'big', 'crowd', 'big', 'crowd', 'great', 'thank', 'much', 'hello', 'traverse', 'city', 'hello', 'michigan', 'want', 'result', 'four', 'year', 'ago', 'michigan', 'right', 'fulfilled', 'promise', 'auto', 'plant', 'many', 'one', 'year', 'going', 'going', 'fast', 'know', 'nobody', 'complaining', 'tell']\n"
     ]
    }
   ],
   "source": [
    "import os\n",
    "\n",
    "texts_all_trump = []\n",
    "\n",
    "# Durchlaufen aller Textdateien und Einlesen des Inhalts\n",
    "for file_path in text_files_trump:\n",
    "    with open(file_path, 'r', encoding='utf-8') as file:\n",
    "        content = file.read()\n",
    "        texts_all_trump.append(content)\n",
    "\n",
    "# Anzahl der gefundenen und eingelesenen Textdateien ausgeben\n",
    "print(f\"Anzahl der Textdateien: {len(texts_all_trump)}\")\n",
    "\n",
    "# Alle Texte in ein einzelnes Dokument zusammenfassen und in Wörter aufteilen\n",
    "texts_all_trump = ' '.join(texts_all_trump)\n",
    "wordlist_trump = texts_all_trump.split()\n",
    "\n",
    "# Gesamtlänge des Textes (in Wörtern) ausgeben\n",
    "print(f\"Gesamte Anzahl der Wörter: {len(wordlist_trump)}\")\n",
    "print(wordlist_trump[:40])"
   ]
  },
  {
   "cell_type": "code",
   "execution_count": 24,
   "id": "cf02f152-d460-47d4-a539-9463b8861d58",
   "metadata": {},
   "outputs": [
    {
     "name": "stdout",
     "output_type": "stream",
     "text": [
      "going: 5337, 0.014832\n",
      "people: 4772, 0.013262\n",
      "said: 4010, 0.011144\n",
      "know: 3715, 0.010324\n",
      "country: 3670, 0.010199\n",
      "want: 3372, 0.009371\n",
      "like: 3082, 0.008565\n",
      "great: 3081, 0.008562\n",
      "one: 2834, 0.007876\n",
      "say: 2625, 0.007295\n",
      "think: 2608, 0.007248\n",
      "right: 2483, 0.0069\n",
      "get: 2477, 0.006884\n",
      "got: 2264, 0.006292\n",
      "never: 2218, 0.006164\n",
      "would: 2184, 0.00607\n",
      "year: 2117, 0.005883\n",
      "thing: 2116, 0.005881\n",
      "go: 1979, 0.0055\n",
      "thank: 1839, 0.005111\n"
     ]
    }
   ],
   "source": [
    "from collections import Counter\n",
    "\n",
    "# Wörter zählen\n",
    "count_words_trump = Counter(wordlist_trump)\n",
    "\n",
    "mfw_trump = count_words_trump.most_common(20) #mfw = most frequent words\n",
    "for word_t, count_t in mfw_trump:\n",
    "    print(f\"{word_t}: {count_t}, {round(count_t/(len(wordlist_trump)),6)}\")"
   ]
  },
  {
   "cell_type": "code",
   "execution_count": 25,
   "id": "a29f34c4-4a85-431e-9441-af05f54cd537",
   "metadata": {},
   "outputs": [
    {
     "name": "stdout",
     "output_type": "stream",
     "text": [
      "Häufigkeit von 'war' bei Trump: 1839 mal mit einer Frequenz von 0.005111\n"
     ]
    }
   ],
   "source": [
    "#word_trump = input(\"Bitte das Wort eingeben, das gezählt werden soll: \").lower()\n",
    "\n",
    "#worteingabe zählen lassen, ciw = count input word\n",
    "ciw_trump = wordlist_trump.count(word_input)\n",
    "\n",
    "# Ergebnis ausgeben\n",
    "print(f\"Häufigkeit von '{word_input}' bei Trump: {count_t} mal mit einer Frequenz von {round(count_t/(len(wordlist_trump)),6)}\")"
   ]
  },
  {
   "cell_type": "markdown",
   "id": "7cf26255-c689-48e6-9f37-61bc46b9ac70",
   "metadata": {},
   "source": [
    "    "
   ]
  },
  {
   "cell_type": "markdown",
   "id": "451c3eea-7a1b-435d-a988-532f016bb5b2",
   "metadata": {},
   "source": [
    "#### Corpora zum Vergleich"
   ]
  },
  {
   "cell_type": "code",
   "execution_count": 26,
   "id": "2dbcf9f2-33f7-4383-bb5c-f2e404e9d232",
   "metadata": {},
   "outputs": [
    {
     "name": "stdout",
     "output_type": "stream",
     "text": [
      "Häufigkeit von 'war' bei Hitler: 354 mal mit einer Frequenz von 0.002848, bei einer Corpusgröße von 124310 Wörtern\n",
      "Häufigkeit von 'war' bei Trump: 1839 mal mit einer Frequenz von 0.005111, bei einer Corpusgröße von 359831 Wörtern\n",
      "Häufigkeit von 'war' in Brown Corpus: 305 mal mit einer Frequenz von 0.026266%, bei einer Corpusgröße von 1161192 Wörtern\n",
      "Häufigkeit von 'war' in Reuters Corpus: 157 mal mit einer Frequenz von 0.009123%, bei einer Corpusgröße von 1720901 Wörtern\n",
      "Häufigkeit von 'war' in Gutenberg Corpus: 440 mal mit einer Frequenz von 0.016784%, bei einer Corpusgröße von 2621613 Wörtern\n",
      "Häufigkeit von 'war' in Inaugural Corpus: 164 mal mit einer Frequenz von 0.107259%, bei einer Corpusgröße von 152901 Wörtern\n",
      "Häufigkeit von 'war' in Web Text Corpus: 9 mal mit einer Frequenz von 0.002269%, bei einer Corpusgröße von 396733 Wörtern\n",
      "Häufigkeit von 'war' in NPS Chat Corpus: 0 mal mit einer Frequenz von 0.000000%, bei einer Corpusgröße von 45010 Wörtern\n"
     ]
    }
   ],
   "source": [
    "import nltk\n",
    "from nltk.corpus import brown, reuters, gutenberg, inaugural, webtext, nps_chat\n",
    "\n",
    "#corpora herunterladen\n",
    "\"\"\"nltk.download('brown')\n",
    "nltk.download('reuters')\n",
    "nltk.download('gutenberg')\n",
    "nltk.download('inaugural')\n",
    "nltk.download('webtext')\n",
    "nltk.download('wordnet')\n",
    "nltk.download('nps_chat')\"\"\"\n",
    "\n",
    "#berechnung der wortfrequenz und prozentualer anteil im corpus\n",
    "def get_word_statistics(corpus, word):\n",
    "    words = corpus.words()\n",
    "    total_words = len(words)  # Hier verschieben, um sicherzustellen, dass total_words definiert ist\n",
    "    word_count = words.count(word.lower())\n",
    "    frequency_percentage = (word_count / total_words) * 100\n",
    "    return word_count, frequency_percentage, total_words\n",
    "\n",
    "\n",
    "\n",
    "#liste der corpora\n",
    "corpora = {\n",
    "    'Brown': brown,\n",
    "    'Reuters': reuters,\n",
    "    'Gutenberg': gutenberg,\n",
    "    'Inaugural': inaugural,\n",
    "    'Web Text': webtext,\n",
    "    'NPS Chat': nps_chat,\n",
    "}\n",
    "\n",
    "print(f\"Häufigkeit von '{word_input}' bei Hitler: {count_h} mal mit einer Frequenz von {round(count_h/(len(wordlist_hitler)),6)}, bei einer Corpusgröße von {len(wordlist_hitler)} Wörtern\")\n",
    "print(f\"Häufigkeit von '{word_input}' bei Trump: {count_t} mal mit einer Frequenz von {round(count_t/(len(wordlist_trump)),6)}, bei einer Corpusgröße von {len(wordlist_trump)} Wörtern\")\n",
    "\n",
    "#worthäufigkeit in jedem corpus + corpuslänge\n",
    "for corpus_name, corpus in corpora.items():\n",
    "    word_count, frequency_percentage, total_words = get_word_statistics(corpus, word_input)\n",
    "    print(f\"Häufigkeit von '{word_input}' in {corpus_name} Corpus: {word_count} mal mit einer Frequenz von {frequency_percentage:.6f}%, bei einer Corpusgröße von {total_words} Wörtern\")\n"
   ]
  },
  {
   "cell_type": "code",
   "execution_count": 27,
   "id": "4d49294d-610d-46d0-b68c-5a4b12e9b00d",
   "metadata": {},
   "outputs": [
    {
     "name": "stdout",
     "output_type": "stream",
     "text": [
      "Gesamtdurchschnitt aller Jahre: 0.00021036410720914742\n",
      "\n",
      "1900: 0.00016980930740828626\n",
      "1901: 0.00016843236808199434\n",
      "1902: 0.00016498456534463912\n",
      "1903: 0.00016021027113310993\n",
      "1904: 0.0001504118720601712\n",
      "1905: 0.000143774101161398\n",
      "1906: 0.00013716695788649043\n",
      "1907: 0.00013416733002356653\n",
      "1908: 0.00012741384229489734\n",
      "1909: 0.0001226956696232914\n",
      "1910: 0.00012116676537386541\n",
      "1911: 0.00013065936426366015\n",
      "1912: 0.00016026365171585764\n",
      "1913: 0.00019425051868893206\n",
      "1914: 0.0002470020657970703\n",
      "1915: 0.00032549702362822633\n",
      "1916: 0.000388457729838722\n",
      "1917: 0.00042650639079511166\n",
      "1918: 0.0004445398683726255\n",
      "1919: 0.0004364985382250909\n",
      "1920: 0.00041898883189008174\n",
      "1921: 0.0003807876575072961\n",
      "1922: 0.00031408752589153925\n",
      "1923: 0.0002637970194752727\n",
      "1924: 0.00023635902159315134\n",
      "1925: 0.00021829377302700386\n",
      "1926: 0.00020609722871865545\n",
      "1927: 0.00019906446063292345\n",
      "1928: 0.0001924261180517663\n",
      "1929: 0.00018983186289135898\n",
      "1930: 0.00018518753183473433\n",
      "1931: 0.0001835686167136633\n",
      "1932: 0.00018183109101041088\n",
      "1933: 0.00018084866834604845\n",
      "1934: 0.00018239442475273142\n",
      "1935: 0.00018639877089299262\n",
      "1936: 0.00019990310621713952\n",
      "1937: 0.00022743107027573778\n",
      "1938: 0.0002635653654579073\n",
      "1939: 0.0003433060275191175\n",
      "1940: 0.00043771403891566606\n",
      "1941: 0.0005270326572437105\n",
      "1942: 0.0005988273437001876\n",
      "1943: 0.0006334497219151152\n",
      "1944: 0.0006404366369159627\n",
      "1945: 0.0006271574987165098\n",
      "1946: 0.0005616827152802476\n",
      "1947: 0.000482312569926892\n",
      "1948: 0.0004044364406062024\n",
      "1949: 0.0003375208283874339\n",
      "1950: 0.00029531230601216\n",
      "1951: 0.0002660292125905731\n",
      "1952: 0.00024498667750906734\n",
      "1953: 0.0002314786148157769\n",
      "1954: 0.00021469828581237898\n",
      "1955: 0.0001989703263721562\n",
      "1956: 0.00018791167323277996\n",
      "1957: 0.00018034451724296168\n",
      "1958: 0.0001746140208394666\n",
      "1959: 0.00017013082521901066\n",
      "1960: 0.00016585809394850263\n",
      "1961: 0.00016472116112709045\n",
      "1962: 0.00016635563432438566\n",
      "1963: 0.0001689183762729434\n",
      "1964: 0.0001707329709980903\n",
      "1965: 0.00017341136325350299\n",
      "1966: 0.00017597836267668754\n",
      "1967: 0.00017864371433721056\n",
      "1968: 0.0001803287907802899\n",
      "1969: 0.0001782567414920777\n",
      "1970: 0.00017286044437371726\n",
      "1971: 0.0001654743349977902\n",
      "1972: 0.0001564872488545786\n",
      "1973: 0.00014723644146995087\n",
      "1974: 0.00013736093803475211\n",
      "1975: 0.00012843419972341508\n",
      "1976: 0.00012156318864851658\n",
      "1977: 0.00011679672856449283\n",
      "1978: 0.0001146367919448364\n",
      "1979: 0.00011401906626165978\n",
      "1980: 0.00011407518884100552\n",
      "1981: 0.00011571458786160551\n",
      "1982: 0.00011725385307467409\n",
      "1983: 0.00011851040056041841\n",
      "1984: 0.00011964546346072373\n",
      "1985: 0.00012093242444929533\n",
      "1986: 0.0001211958858350824\n",
      "1987: 0.00012212880392326042\n",
      "1988: 0.00012428584990889898\n",
      "1989: 0.00012441344525931136\n",
      "1990: 0.000124060912639834\n",
      "1991: 0.0001239134352155296\n",
      "1992: 0.00012349372991593555\n",
      "1993: 0.00012370640615699813\n",
      "1994: 0.00012317294749664143\n",
      "1995: 0.00012186492572904431\n",
      "1996: 0.00012301989460995953\n",
      "1997: 0.00012534730506428917\n",
      "1998: 0.0001281861259485595\n",
      "1999: 0.00013251426779398962\n",
      "2000: 0.0001368474560357364\n",
      "2001: 0.0001419873276193227\n",
      "2002: 0.000146130145627207\n",
      "2003: 0.0001504082652640396\n",
      "2004: 0.0001553196509900902\n",
      "2005: 0.00015962265648080835\n",
      "2006: 0.00016198396666108498\n",
      "2007: 0.00016384727704072638\n",
      "2008: 0.0001640566292085818\n",
      "2009: 0.00016174228221643716\n",
      "2010: 0.00016190972486843487\n",
      "2011: 0.00016167323337867856\n",
      "2012: 0.00016245033891339387\n",
      "2013: 0.0001632517419888505\n",
      "2014: 0.00016303145509612347\n",
      "2015: 0.00016347808663600257\n",
      "2016: 0.00016489954266164984\n",
      "2017: 0.00016542710606396818\n",
      "2018: 0.00016465939697809517\n",
      "2019: 0.0001623328498681076\n",
      "\n"
     ]
    }
   ],
   "source": [
    "import requests\n",
    "\n",
    "word_to_find = 'war'\n",
    "start_year = 1900\n",
    "end_year = 2019 #max jahr der daten: 2019\n",
    "corpus = 'eng_2012'\n",
    "\n",
    "#URL der Google Ngram Viewer API\n",
    "url = f\"https://books.google.com/ngrams/json?content={word_to_find}&year_start={start_year}&year_end={end_year}&corpus={corpus}&smoothing=3\"\n",
    "\n",
    "#request an url\n",
    "response = requests.get(url)\n",
    "\n",
    "#daten verarbeieten\n",
    "if response.status_code == 200:\n",
    "    data = response.json()\n",
    "    if data:\n",
    "        frequency_data = data[0]['timeseries']\n",
    "        years = list(range(start_year, end_year + 1))\n",
    "        \n",
    "        #jahr und häufigkeit kombinieren lassen\n",
    "        year_frequency_pairs = list(zip(years, frequency_data))\n",
    "\n",
    "        print(f'Gesamtdurchschnitt aller Jahre: {sum(frequency_data)/len(frequency_data)}')\n",
    "\n",
    "        print()\n",
    "        \n",
    "        #jahr + häufigkeit ausgeben\n",
    "        for year, frequency in year_frequency_pairs:\n",
    "            print(f\"{year}: {frequency}\")\n",
    "\n",
    "        print()\n",
    "        \n",
    "        #altnerativ: als liste\n",
    "        #print(year_frequency_pairs)\n",
    "    else:\n",
    "        print(f\"No data found for '{word_to_find}'\")\n",
    "else:\n",
    "    print(f\"Error: {response.status_code}\")\n"
   ]
  },
  {
   "cell_type": "code",
   "execution_count": 28,
   "id": "cc4f00d2-8661-4dcd-9106-caebb322c440",
   "metadata": {},
   "outputs": [
    {
     "data": {
      "image/png": "[encoded data removed]",
      "text/plain": [
       "<Figure size 1200x500 with 1 Axes>"
      ]
     },
     "metadata": {},
     "output_type": "display_data"
    }
   ],
   "source": [
    "import requests\n",
    "import matplotlib.pyplot as plt\n",
    "\n",
    "word_to_find = 'war'\n",
    "start_year = 1900\n",
    "end_year = 2019 #max jahr der daten: 2019\n",
    "corpus = 'eng_2012'\n",
    "\n",
    "#URL der Google Ngram Viewer API\n",
    "url = f\"https://books.google.com/ngrams/json?content={word_to_find}&year_start={start_year}&year_end={end_year}&corpus={corpus}&smoothing=3\"\n",
    "\n",
    "#request an url\n",
    "response = requests.get(url)\n",
    "\n",
    "#daten verarbeieten und zeichnen\n",
    "if response.status_code == 200:\n",
    "    data = response.json()\n",
    "    if data:\n",
    "        frequency_data = data[0]['timeseries']\n",
    "        years = list(range(start_year, end_year + 1))\n",
    "\n",
    "        # Plot erstellen\n",
    "        plt.figure(figsize=(12, 5))\n",
    "        plt.plot(years, frequency_data, label=word_to_find)\n",
    "   \n",
    "        plt.xlabel('Jahr')\n",
    "        plt.ylabel('Verwendungshäufigkeit')\n",
    "        plt.title(f'Verwendungshäufigkeit des Wortes \"{word_to_find}\" nach Zeitperiode')\n",
    "        plt.legend()\n",
    "        plt.grid(True)\n",
    "        plt.show()\n",
    "    else:\n",
    "        print(f\"No data found for '{word_to_find}'\")\n",
    "else:\n",
    "    print(f\"Error: {response.status_code}\")\n"
   ]
  },
  {
   "cell_type": "code",
   "execution_count": 29,
   "id": "6317a942-09ad-4a8a-8742-fa03cc40c5d9",
   "metadata": {},
   "outputs": [
    {
     "data": {
      "image/png": "[encoded data removed]",
      "text/plain": [
       "<Figure size 1200x500 with 1 Axes>"
      ]
     },
     "metadata": {},
     "output_type": "display_data"
    }
   ],
   "source": [
    "import requests\n",
    "import matplotlib.pyplot as plt\n",
    "\n",
    "word_to_find = 'war'\n",
    "start_year = 1900\n",
    "end_year = 2019 #max jahr der daten: 2019\n",
    "corpus = 'eng_2012'\n",
    "\n",
    "#URL der Google Ngram Viewer API\n",
    "url = f\"https://books.google.com/ngrams/json?content={word_to_find}&year_start={start_year}&year_end={end_year}&corpus={corpus}&smoothing=3\"\n",
    "\n",
    "#request an url\n",
    "response = requests.get(url)\n",
    "\n",
    "#daten verarbeieten und zeichnen\n",
    "if response.status_code == 200:\n",
    "    data = response.json()\n",
    "    if data:\n",
    "        frequency_data = data[0]['timeseries']\n",
    "        years = list(range(start_year, end_year + 1))\n",
    "\n",
    "        # Plot erstellen\n",
    "        plt.figure(figsize=(12, 5))\n",
    "        plt.plot(years, frequency_data, label=word_to_find)\n",
    "\n",
    "        year_hitler = 1935\n",
    "        frequency_hitler = round(count_h/(len(wordlist_hitler)),6)\n",
    "        plt.scatter(year_hitler, frequency_hitler, color='red', label=f'Hitler: {year_hitler}:{frequency_hitler}', zorder=5)\n",
    "\n",
    "        year_trump = 2024\n",
    "        frequency_trump = round(count_t/(len(wordlist_trump)),6)\n",
    "        plt.scatter(year_trump, frequency_trump, color='green', label=f'Trump: {year_trump}:{frequency_trump}', zorder=5)\n",
    "        \n",
    "        \n",
    "        plt.xlabel('Jahr')\n",
    "        plt.ylabel('Verwendungshäufigkeit')\n",
    "        plt.title(f'Verwendungshäufigkeit des Wortes \"{word_to_find}\" nach Zeitperiode')\n",
    "        plt.legend()\n",
    "        plt.grid(True)\n",
    "        plt.show()\n",
    "    else:\n",
    "        print(f\"No data found for '{word_to_find}'\")\n",
    "else:\n",
    "    print(f\"Error: {response.status_code}\")\n"
   ]
  },
  {
   "cell_type": "markdown",
   "id": "9f8913f8-1723-4ff2-a6cd-da0a844eeeee",
   "metadata": {},
   "source": [
    "------------------"
   ]
  },
  {
   "cell_type": "markdown",
   "id": "7a30eec7-3b56-49e3-b999-246585b67f3d",
   "metadata": {},
   "source": [
    "## N-Gramme finden und filtern"
   ]
  },
  {
   "cell_type": "code",
   "execution_count": 30,
   "id": "5a760eca-b7c2-4eda-8408-1804888b303e",
   "metadata": {},
   "outputs": [
    {
     "name": "stdout",
     "output_type": "stream",
     "text": [
      "['april', 'ist', 'began', 'serve', 'sentence', 'detention', 'fortress', 'landsberg', 'lech', 'following']\n",
      "['oh', 'thank', 'oh', 'wow', 'big', 'crowd', 'lot', 'big', 'crowd', 'big']\n"
     ]
    }
   ],
   "source": [
    "print(wordlist_hitler[:10])\n",
    "print(wordlist_trump[:10])"
   ]
  },
  {
   "cell_type": "markdown",
   "id": "a87f33e6-84f6-4b07-be26-2aa495cd5fab",
   "metadata": {},
   "source": [
    "#### Hitler"
   ]
  },
  {
   "cell_type": "code",
   "execution_count": 31,
   "id": "7028a194-c27b-429d-b0c9-4c5fa28ffb60",
   "metadata": {},
   "outputs": [
    {
     "name": "stdout",
     "output_type": "stream",
     "text": [
      "1. ('national', 'socialist'), 137 mal\n",
      "2. ('german', 'people'), 98 mal\n",
      "3. ('broad', 'mass'), 75 mal\n",
      "4. ('german', 'nation'), 71 mal\n",
      "5. ('foreign', 'policy'), 71 mal\n",
      "6. ('point', 'view'), 62 mal\n",
      "7. ('one', 'day'), 61 mal\n",
      "8. ('looked', 'upon'), 52 mal\n",
      "9. ('german', 'reich'), 48 mal\n",
      "10. ('take', 'place'), 44 mal\n",
      "11. ('one', 'another'), 44 mal\n",
      "12. ('first', 'time'), 43 mal\n",
      "13. ('mass', 'people'), 42 mal\n",
      "14. ('attitude', 'towards'), 42 mal\n",
      "15. ('state', 'affair'), 40 mal\n",
      "16. ('even', 'though'), 40 mal\n",
      "17. ('socialist', 'movement'), 39 mal\n",
      "18. ('volkisch', 'state'), 39 mal\n",
      "19. ('hundred', 'thousand'), 36 mal\n",
      "20. ('new', 'movement'), 33 mal\n"
     ]
    }
   ],
   "source": [
    "# Erstelle Bigrams aus den Token\n",
    "bigrams = list(nltk.bigrams(wordlist_hitler))\n",
    "\n",
    "# Zähle die Häufigkeit jedes Bigrams\n",
    "bigram_counts = {}\n",
    "for bigram in bigrams:\n",
    "    if bigram in bigram_counts:\n",
    "        bigram_counts[bigram] += 1\n",
    "    else:\n",
    "        bigram_counts[bigram] = 1\n",
    "\n",
    "# Sortiere die Bigrams nach Häufigkeit\n",
    "sorted_bigrams = sorted(bigram_counts.items(), key=lambda x: x[1], reverse=True)\n",
    "\n",
    "# Nimm die ersten 10 Bigrams\n",
    "top_n_bigrams = sorted_bigrams[:20]\n",
    "\n",
    "# Ausgabe mit Platzierung\n",
    "for idx, (bigram, count) in enumerate(top_n_bigrams, 1):\n",
    "    print(f'{idx}. {bigram}, {count} mal')"
   ]
  },
  {
   "cell_type": "code",
   "execution_count": 32,
   "id": "adc8641c-fde0-4801-a51d-eb4979017868",
   "metadata": {},
   "outputs": [
    {
     "name": "stdout",
     "output_type": "stream",
     "text": [
      "('national', 'socialist') 137\n",
      "('broad', 'mass') 75\n",
      "('german', 'nation') 71\n",
      "('foreign', 'policy') 71\n",
      "('point', 'view') 62\n",
      "('german', 'reich') 48\n",
      "('first', 'time') 43\n",
      "('state', 'affair') 40\n",
      "('socialist', 'movement') 39\n",
      "('volkisch', 'state') 39\n",
      "('new', 'movement') 33\n",
      "('german', 'labour') 32\n",
      "('storm', 'detachment') 32\n",
      "('german', 'element') 31\n",
      "('individual', 'state') 31\n",
      "('political', 'party') 30\n",
      "('social', 'democratic') 29\n",
      "('labour', 'party') 28\n",
      "('public', 'opinion') 28\n",
      "('national', 'community') 27\n",
      "('bourgeois', 'party') 26\n",
      "('world', 'war') 25\n",
      "('german', 'state') 23\n",
      "('socialist', 'german') 23\n",
      "('social', 'democracy') 23\n",
      "('austrian', 'state') 22\n",
      "('defence', 'league') 22\n",
      "('authority', 'state') 21\n",
      "('fundamental', 'principle') 20\n",
      "('struggle', 'existence') 20\n",
      "('great', 'mass') 20\n",
      "('pangerman', 'movement') 20\n",
      "('daily', 'bread') 19\n",
      "('long', 'time') 19\n",
      "('instinct', 'selfpreservation') 19\n",
      "('whole', 'nation') 19\n",
      "('rest', 'world') 19\n",
      "('policy', 'alliance') 19\n",
      "('federal', 'state') 19\n",
      "('matter', 'fact') 18\n",
      "('put', 'practice') 18\n",
      "('life', 'nation') 18\n",
      "('mass', 'meeting') 17\n",
      "('social', 'democrat') 17\n",
      "('young', 'movement') 17\n",
      "('form', 'government') 17\n",
      "('new', 'territory') 17\n",
      "('interest', 'nation') 16\n",
      "('long', 'run') 16\n",
      "('military', 'service') 16\n"
     ]
    }
   ],
   "source": [
    "# Erstelle Bigrams aus den Token\n",
    "bigrams_hitler = list(nltk.bigrams(wordlist_hitler))\n",
    "\n",
    "# Filtere Bigrams nach Wortart-Kombinationen\n",
    "valid_bigrams = []\n",
    "for bigram in bigrams_hitler:\n",
    "    # Bestimme die Wortart-Tags\n",
    "    tagged_bigram = pos_tag(bigram)\n",
    "    \n",
    "    # Filtere nach gewünschten Kombinationen\n",
    "    if (tagged_bigram[0][1] in ['JJ', 'NN'] and tagged_bigram[1][1] in ['NN', 'JJ']) or \\\n",
    "       (tagged_bigram[0][1] in ['NN'] and tagged_bigram[1][1] in ['VB']):\n",
    "        valid_bigrams.append(bigram)\n",
    "\n",
    "# Zähle die Häufigkeit jedes Bigrams\n",
    "bigram_counts = {}\n",
    "for bigram in valid_bigrams:\n",
    "    if bigram in bigram_counts:\n",
    "        bigram_counts[bigram] += 1\n",
    "    else:\n",
    "        bigram_counts[bigram] = 1\n",
    "\n",
    "# Sortiere die Bigrams nach Häufigkeit\n",
    "sorted_bigrams = sorted(bigram_counts.items(), key=lambda x: x[1], reverse=True)\n",
    "\n",
    "# Nimm die ersten 10 Bigrams\n",
    "top_10_bigrams = sorted_bigrams[:50]\n",
    "\n",
    "# Drucke die Top-10-Bigrams\n",
    "for bigram, count in top_10_bigrams:\n",
    "    print(bigram, count)\n"
   ]
  },
  {
   "cell_type": "code",
   "execution_count": 33,
   "id": "ae9f9141-fa75-4fa9-84c6-e3b133408985",
   "metadata": {},
   "outputs": [
    {
     "name": "stdout",
     "output_type": "stream",
     "text": [
      "('national', 'socialist') 137\n",
      "('broad', 'mass') 75\n",
      "('german', 'nation') 71\n",
      "('foreign', 'policy') 71\n",
      "('german', 'reich') 48\n",
      "('first', 'time') 43\n",
      "('socialist', 'movement') 39\n",
      "('new', 'movement') 33\n",
      "('german', 'labour') 32\n",
      "('german', 'element') 31\n",
      "('individual', 'state') 31\n",
      "('political', 'party') 30\n",
      "('public', 'opinion') 28\n",
      "('national', 'community') 27\n",
      "('german', 'state') 23\n",
      "('social', 'democracy') 23\n",
      "('austrian', 'state') 22\n",
      "('fundamental', 'principle') 20\n",
      "('great', 'mass') 20\n",
      "('pangerman', 'movement') 20\n",
      "('daily', 'bread') 19\n",
      "('long', 'time') 19\n",
      "('instinct', 'selfpreservation') 19\n",
      "('whole', 'nation') 19\n",
      "('federal', 'state') 19\n",
      "('social', 'democrat') 17\n",
      "('young', 'movement') 17\n",
      "('form', 'government') 17\n",
      "('new', 'territory') 17\n",
      "('long', 'run') 16\n",
      "('military', 'service') 16\n",
      "('intellectual', 'class') 16\n",
      "('political', 'power') 16\n",
      "('civil', 'servant') 15\n",
      "('educational', 'system') 15\n",
      "('german', 'history') 14\n",
      "('everyday', 'life') 14\n",
      "('racial', 'stock') 14\n",
      "('present', 'time') 14\n",
      "('mean', 'end') 14\n",
      "('many', 'case') 14\n",
      "('national', 'body') 14\n",
      "('physical', 'training') 14\n",
      "('political', 'leader') 14\n",
      "('large', 'number') 14\n",
      "('old', 'reich') 14\n",
      "('civil', 'service') 13\n",
      "('public', 'life') 13\n",
      "('human', 'culture') 13\n",
      "('whole', 'world') 13\n"
     ]
    }
   ],
   "source": [
    "# Erstelle Bigrams aus den Token\n",
    "bigrams_hitler = list(nltk.bigrams(wordlist_hitler))\n",
    "\n",
    "# Filtere Bigrams nach Wortart-Kombinationen\n",
    "valid_bigrams = []\n",
    "for bigram in bigrams_hitler:\n",
    "    # Bestimme die Wortart-Tags\n",
    "    tagged_bigram = pos_tag(bigram)\n",
    "    \n",
    "    # Filtere nach Adjektiv gefolgt von Nomen\n",
    "    if tagged_bigram[0][1] == 'JJ' and tagged_bigram[1][1] == 'NN':\n",
    "        valid_bigrams.append(bigram)\n",
    "\n",
    "# Zähle die Häufigkeit jedes Bigrams\n",
    "bigram_counts = {}\n",
    "for bigram in valid_bigrams:\n",
    "    if bigram in bigram_counts:\n",
    "        bigram_counts[bigram] += 1\n",
    "    else:\n",
    "        bigram_counts[bigram] = 1\n",
    "\n",
    "# Sortiere die Bigrams nach Häufigkeit\n",
    "sorted_bigrams = sorted(bigram_counts.items(), key=lambda x: x[1], reverse=True)\n",
    "\n",
    "# Nimm die ersten 10 Bigrams\n",
    "top_10_bigrams = sorted_bigrams[:50]\n",
    "\n",
    "# Drucke die Top-10-Bigrams\n",
    "for bigram, count in top_10_bigrams:\n",
    "    print(bigram, count)\n"
   ]
  },
  {
   "cell_type": "code",
   "execution_count": 34,
   "id": "adaa431e-a8fc-4630-9b93-1038f4691a79",
   "metadata": {},
   "outputs": [
    {
     "name": "stdin",
     "output_type": "stream",
     "text": [
      "Bitte geben Sie ein Wort ein: war\n"
     ]
    },
    {
     "name": "stdout",
     "output_type": "stream",
     "text": [
      "('attitude', 'towards') 42\n",
      "('world', 'war') 25\n",
      "('put', 'forward') 19\n",
      "('come', 'forward') 12\n",
      "('towards', 'end') 11\n",
      "('war', 'would') 11\n",
      "('directed', 'towards') 9\n",
      "('wage', 'war') 9\n",
      "('even', 'war') 9\n",
      "('outward', 'appearance') 8\n",
      "('war', 'propaganda') 8\n",
      "('war', 'even') 7\n",
      "('war', 'aim') 7\n",
      "('war', 'german') 6\n",
      "('waging', 'war') 6\n",
      "('lost', 'war') 6\n",
      "('prewar', 'germany') 6\n",
      "('looked', 'forward') 5\n",
      "('hostility', 'towards') 5\n",
      "('prewar', 'time') 5\n"
     ]
    }
   ],
   "source": [
    "#bigrams nach user input\n",
    "# Abfrage des Benutzereingabe Wortes\n",
    "user_input_hitler = input(\"Bitte geben Sie ein Wort ein:\")\n",
    "\n",
    "\n",
    "# Erstelle Bigrams aus den Token\n",
    "bigrams_hitler = list(nltk.bigrams(wordlist_hitler))\n",
    "\n",
    "# Filtere Bigrams nach Benutzereingabe\n",
    "valid_bigrams = []\n",
    "for bigram in bigrams_hitler:\n",
    "    if user_input_hitler in bigram[0] or user_input_hitler in bigram[1]:\n",
    "        valid_bigrams.append(bigram)\n",
    "\n",
    "# Zähle die Häufigkeit jedes Bigrams\n",
    "bigram_counts = {}\n",
    "for bigram in valid_bigrams:\n",
    "    if bigram in bigram_counts:\n",
    "        bigram_counts[bigram] += 1\n",
    "    else:\n",
    "        bigram_counts[bigram] = 1\n",
    "\n",
    "# Sortiere die Bigrams nach Häufigkeit\n",
    "sorted_bigrams = sorted(bigram_counts.items(), key=lambda x: x[1], reverse=True)\n",
    "\n",
    "# Nimm die ersten 20 Bigrams\n",
    "top_n_bigrams = sorted_bigrams[:20]\n",
    "\n",
    "# Drucke die Top-20-Bigrams\n",
    "for bigram, count in top_n_bigrams:\n",
    "    print(bigram, count)\n"
   ]
  },
  {
   "cell_type": "markdown",
   "id": "8ad57f62-7a11-4cb9-8bc3-1ac5962c70bf",
   "metadata": {},
   "source": [
    "              "
   ]
  },
  {
   "cell_type": "markdown",
   "id": "417f14b9-8e12-4874-acf9-2f1766fabea5",
   "metadata": {},
   "source": [
    "#### Trump"
   ]
  },
  {
   "cell_type": "code",
   "execution_count": 35,
   "id": "a9fe5109-6374-4cec-85c8-804e2a765ead",
   "metadata": {},
   "outputs": [
    {
     "name": "stdout",
     "output_type": "stream",
     "text": [
      "1. ('joe', 'biden'), 639 mal\n",
      "2. ('thank', 'much'), 605 mal\n",
      "3. ('united', 'state'), 464 mal\n",
      "4. ('year', 'ago'), 382 mal\n",
      "5. ('great', 'job'), 326 mal\n",
      "6. ('history', 'country'), 324 mal\n",
      "7. ('radical', 'left'), 315 mal\n",
      "8. ('make', 'america'), 315 mal\n",
      "9. ('four', 'year'), 311 mal\n",
      "10. ('fake', 'news'), 300 mal\n",
      "11. ('nobody', 'ever'), 280 mal\n",
      "12. ('lot', 'people'), 277 mal\n",
      "13. ('new', 'york'), 269 mal\n",
      "14. ('thank', 'thank'), 253 mal\n",
      "15. ('said', 'i'), 252 mal\n",
      "16. ('going', 'win'), 249 mal\n",
      "17. ('ever', 'seen'), 241 mal\n",
      "18. ('billion', 'dollar'), 239 mal\n",
      "19. ('would', 'never'), 236 mal\n",
      "20. ('crooked', 'joe'), 226 mal\n"
     ]
    }
   ],
   "source": [
    "# Erstelle Bigrams aus den Token\n",
    "bigrams_trump = list(nltk.bigrams(wordlist_trump))\n",
    "\n",
    "# Zähle die Häufigkeit jedes Bigrams\n",
    "bigram_counts = {}\n",
    "for bigram in bigrams_trump:\n",
    "    if bigram in bigram_counts:\n",
    "        bigram_counts[bigram] += 1\n",
    "    else:\n",
    "        bigram_counts[bigram] = 1\n",
    "\n",
    "# Sortiere die Bigrams nach Häufigkeit\n",
    "sorted_bigrams = sorted(bigram_counts.items(), key=lambda x: x[1], reverse=True)\n",
    "\n",
    "# Nimm die ersten 10 Bigrams\n",
    "top_n_bigrams = sorted_bigrams[:20]\n",
    "\n",
    "# Ausgabe mit Platzierung\n",
    "for idx, (bigram, count) in enumerate(top_n_bigrams, 1):\n",
    "    print(f'{idx}. {bigram}, {count} mal')"
   ]
  },
  {
   "cell_type": "code",
   "execution_count": 36,
   "id": "5e96a826-56c7-4759-a3e6-6be325f1fa88",
   "metadata": {},
   "outputs": [
    {
     "name": "stderr",
     "output_type": "stream",
     "text": [
      "\n",
      "KeyboardInterrupt\n",
      "\n"
     ]
    }
   ],
   "source": [
    "# Erstelle Bigrams aus den Token\n",
    "bigrams_trump = list(nltk.bigrams(wordlist_trump))\n",
    "\n",
    "# Filtere Bigrams nach Wortart-Kombinationen\n",
    "valid_bigrams = []\n",
    "for bigram in bigrams_trump:\n",
    "    # Bestimme die Wortart-Tags\n",
    "    tagged_bigram = pos_tag(bigram)\n",
    "    \n",
    "    # Filtere nach gewünschten Kombinationen\n",
    "    if (tagged_bigram[0][1] in ['JJ', 'NN'] and tagged_bigram[1][1] in ['NN', 'JJ']) or \\\n",
    "       (tagged_bigram[0][1] in ['NN'] and tagged_bigram[1][1] in ['VB']):\n",
    "        valid_bigrams.append(bigram)\n",
    "\n",
    "# Zähle die Häufigkeit jedes Bigrams\n",
    "bigram_counts = {}\n",
    "for bigram in valid_bigrams:\n",
    "    if bigram in bigram_counts:\n",
    "        bigram_counts[bigram] += 1\n",
    "    else:\n",
    "        bigram_counts[bigram] = 1\n",
    "\n",
    "# Sortiere die Bigrams nach Häufigkeit\n",
    "sorted_bigrams = sorted(bigram_counts.items(), key=lambda x: x[1], reverse=True)\n",
    "\n",
    "# Nimm die ersten 10 Bigrams\n",
    "top_10_bigrams = sorted_bigrams[:50]\n",
    "\n",
    "# Drucke die Top-10-Bigrams\n",
    "for bigram, count in top_10_bigrams:\n",
    "    print(bigram, count)\n"
   ]
  },
  {
   "cell_type": "code",
   "execution_count": null,
   "id": "0b15d15a-122c-4572-bd69-d4c1e61c0a6b",
   "metadata": {},
   "outputs": [],
   "source": [
    "# Erstelle Bigrams aus den Token\n",
    "bigrams_hitler = list(nltk.bigrams(wordlist_hitler))\n",
    "\n",
    "# Filtere Bigrams nach Wortart-Kombinationen\n",
    "valid_bigrams = []\n",
    "for bigram in bigrams_hitler:\n",
    "    # Bestimme die Wortart-Tags\n",
    "    tagged_bigram = pos_tag(bigram)\n",
    "    \n",
    "    # Filtere nach Adjektiv gefolgt von Nomen\n",
    "    if tagged_bigram[0][1] == 'JJ' and tagged_bigram[1][1] == 'NN':\n",
    "        valid_bigrams.append(bigram)\n",
    "\n",
    "# Zähle die Häufigkeit jedes Bigrams\n",
    "bigram_counts = {}\n",
    "for bigram in valid_bigrams:\n",
    "    if bigram in bigram_counts:\n",
    "        bigram_counts[bigram] += 1\n",
    "    else:\n",
    "        bigram_counts[bigram] = 1\n",
    "\n",
    "# Sortiere die Bigrams nach Häufigkeit\n",
    "sorted_bigrams = sorted(bigram_counts.items(), key=lambda x: x[1], reverse=True)\n",
    "\n",
    "# Nimm die ersten 10 Bigrams\n",
    "top_10_bigrams = sorted_bigrams[:50]\n",
    "\n",
    "# Drucke die Top-10-Bigrams\n",
    "for bigram, count in top_10_bigrams:\n",
    "    print(bigram, count)\n"
   ]
  },
  {
   "cell_type": "code",
   "execution_count": null,
   "id": "3b1995e3-eab7-4c76-98d3-d9b6a557d10b",
   "metadata": {},
   "outputs": [],
   "source": [
    "#bigrams nach user input\n",
    "# Abfrage des Benutzereingabe Wortes\n",
    "user_input_trump = input(\"Bitte geben Sie ein Wort ein:\")\n",
    "\n",
    "\n",
    "# Erstelle Bigrams aus den Token\n",
    "bigrams_trump = list(nltk.bigrams(wordlist_trump))\n",
    "\n",
    "# Filtere Bigrams nach Benutzereingabe\n",
    "valid_bigrams = []\n",
    "for bigram in bigrams_hitler:\n",
    "    if user_input_trump in bigram[0] or user_input_trump in bigram[1]:\n",
    "        valid_bigrams.append(bigram)\n",
    "\n",
    "# Zähle die Häufigkeit jedes Bigrams\n",
    "bigram_counts = {}\n",
    "for bigram in valid_bigrams:\n",
    "    if bigram in bigram_counts:\n",
    "        bigram_counts[bigram] += 1\n",
    "    else:\n",
    "        bigram_counts[bigram] = 1\n",
    "\n",
    "# Sortiere die Bigrams nach Häufigkeit\n",
    "sorted_bigrams = sorted(bigram_counts.items(), key=lambda x: x[1], reverse=True)\n",
    "\n",
    "# Nimm die ersten 20 Bigrams\n",
    "top_n_bigrams = sorted_bigrams[:20]\n",
    "\n",
    "# Drucke die Top-20-Bigrams\n",
    "for bigram, count in top_n_bigrams:\n",
    "    print(bigram, count)\n"
   ]
  },
  {
   "cell_type": "code",
   "execution_count": null,
   "id": "61c41d76-08a2-484d-8096-13f2ddbcd42e",
   "metadata": {},
   "outputs": [],
   "source": []
  }
 ],
 "metadata": {
  "kernelspec": {
   "display_name": "Python 3 (ipykernel)",
   "language": "python",
   "name": "python3"
  },
  "language_info": {
   "codemirror_mode": {
    "name": "ipython",
    "version": 3
   },
   "file_extension": ".py",
   "mimetype": "text/x-python",
   "name": "python",
   "nbconvert_exporter": "python",
   "pygments_lexer": "ipython3",
   "version": "3.11.5"
  }
 },
 "nbformat": 4,
 "nbformat_minor": 5
}
