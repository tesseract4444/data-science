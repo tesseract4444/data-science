{
 "cells": [
  {
   "cell_type": "code",
   "execution_count": null,
   "id": "99e34c58-5ecf-488e-b5f7-b5a211f52245",
   "metadata": {},
   "outputs": [],
   "source": [
    "import glob\n",
    "import os\n",
    "import re\n",
    "from nltk.tokenize import sent_tokenize, word_tokenize\n",
    "from nltk.text import Text"
   ]
  },
  {
   "cell_type": "markdown",
   "id": "8162438e-89ad-4d1a-96d3-02a31fdbaa6c",
   "metadata": {},
   "source": [
    "-----------"
   ]
  },
  {
   "cell_type": "markdown",
   "id": "bf77b060-2035-42eb-8520-49e8ba4e4045",
   "metadata": {},
   "source": [
    "#### Alle Texte verarbeiten"
   ]
  },
  {
   "cell_type": "code",
   "execution_count": null,
   "id": "ae55346f-e544-4688-ba9c-9661a5526bae",
   "metadata": {},
   "outputs": [],
   "source": [
    "import os\n",
    "import glob\n",
    "import re\n",
    "\n",
    "input_year = int(input(\"Welches Jahr soll bearbeitet werden?\"))\n",
    "\n",
    "input_directory = \"/home/simon/Dokumente/Uni Würzburg/Digital Humanities/Bachelorarbeit/datasets/my_biden/\" + str(input_year)\n",
    "output_directory = \"/home/simon/Dokumente/Uni Würzburg/Digital Humanities/Bachelorarbeit/datasets/my_biden/00_cleaned_files/\" + str(input_year)\n",
    "\n",
    "# Erstellen Sie das Ausgabeverzeichnis, falls es nicht existiert\n",
    "if not os.path.exists(output_directory):\n",
    "    os.makedirs(output_directory)\n",
    "\n",
    "pattern = os.path.join(input_directory, \"*.txt\")\n",
    "\n",
    "\n",
    "for path in glob.glob(pattern):\n",
    "    # Öffnen Sie die Datei im Lesemodus\n",
    "    with open(path, \"r\") as file:\n",
    "        # Lesen Sie den Inhalt der Datei\n",
    "        text_raw = file.read()\n",
    "\n",
    "        # Bearbeiten Sie den Dateiinhalt nach Bedarf\n",
    "        print(f'\\n*****************************************************************************************************\\n')\n",
    "        print(f\"Datei: {os.path.basename(path)}\\n\")\n",
    "        print(f\"Inhalt: {text_raw}\")\n",
    "\n",
    "        \n",
    "        pattern = r'(?:President\\s+Joe(?:\\s+J\\.)?\\s+Biden?|Joe(?:\\s+J\\.)?\\s+Biden?|President Biden):.*?\\n(.*?)(?=\\n(?:[^:]+:|$))'\n",
    "        matches = re.findall(pattern, text_raw, re.MULTILINE | re.DOTALL) \n",
    "        united = \"\\n\\n\".join(matches) \n",
    "\n",
    "\n",
    "        # Reguläre Ausdrücke zum Entfernen von Zeitangaben und eckigen Klammern\n",
    "        text_cleaned = re.sub(r'\\(\\d+:\\d+(:\\d+)?\\)', ' ', united) # Zeitangaben entfernen\n",
    "        text_cleaned = re.sub(r\"\\[.*?\\]\", '', text_cleaned) # Eckige Klammern samt Inhalt entfernen\n",
    "\n",
    "        # Speichern des bereinigten Textes in eine neue Datei im Ausgabeverzeichnis\n",
    "        output_file = os.path.join(output_directory, f\"{os.path.basename(path)}\")\n",
    "        with open(output_file, \"w\") as file:\n",
    "            file.write(text_cleaned)\n",
    "\n",
    "        print(f\"Bereinigter Text wurde erfolgreich in die Datei {output_file} gespeichert.\")\n",
    "\n",
    "        print(text_cleaned)\n",
    "        print(text_cleaned.split()[:10])\n"
   ]
  },
  {
   "cell_type": "code",
   "execution_count": null,
   "id": "12fa810a-8e6d-4c8b-b4d2-88f399705b2e",
   "metadata": {},
   "outputs": [],
   "source": []
  }
 ],
 "metadata": {
  "kernelspec": {
   "display_name": "Python 3 (ipykernel)",
   "language": "python",
   "name": "python3"
  },
  "language_info": {
   "codemirror_mode": {
    "name": "ipython",
    "version": 3
   },
   "file_extension": ".py",
   "mimetype": "text/x-python",
   "name": "python",
   "nbconvert_exporter": "python",
   "pygments_lexer": "ipython3",
   "version": "3.11.5"
  }
 },
 "nbformat": 4,
 "nbformat_minor": 5
}
