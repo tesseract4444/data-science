{
 "cells": [
  {
   "cell_type": "code",
   "execution_count": 1,
   "id": "f1945d5b-af58-47f4-af6d-0ef477f714f3",
   "metadata": {},
   "outputs": [],
   "source": [
    "import pandas as pd\n",
    "import os\n",
    "import re\n",
    "import string\n",
    "from tqdm import tqdm\n",
    "import nltk\n",
    "from nltk.corpus import stopwords\n",
    "from nltk.text import Text\n",
    "from collections import Counter\n",
    "from nltk.tag import pos_tag"
   ]
  },
  {
   "cell_type": "markdown",
   "id": "1a2765b3-d4ee-4603-bad1-3c7d0d76456c",
   "metadata": {},
   "source": [
    "### Dataframe betrachten"
   ]
  },
  {
   "cell_type": "code",
   "execution_count": 2,
   "id": "448b181e-24d9-4d91-a5d9-4ceb2b1d8f17",
   "metadata": {},
   "outputs": [],
   "source": [
    "#csv einlesen\n",
    "df = '/home/simon/Dokumente/Uni Würzburg/Digital Humanities/Bachelorarbeit/datasets/TrumpTweetToMeinKampf/Data/all_trump_original_tweets_072620.csv'"
   ]
  },
  {
   "cell_type": "code",
   "execution_count": 3,
   "id": "54dae2a5-dd42-4f1b-91dd-3c4e09843c49",
   "metadata": {},
   "outputs": [],
   "source": [
    "df = pd.read_csv (df)"
   ]
  },
  {
   "cell_type": "code",
   "execution_count": 4,
   "id": "10a1a44e-7ee3-4a72-829f-1b3f41c7c8a8",
   "metadata": {},
   "outputs": [
    {
     "data": {
      "text/html": [
       "<div>\n",
       "<style scoped>\n",
       "    .dataframe tbody tr th:only-of-type {\n",
       "        vertical-align: middle;\n",
       "    }\n",
       "\n",
       "    .dataframe tbody tr th {\n",
       "        vertical-align: top;\n",
       "    }\n",
       "\n",
       "    .dataframe thead th {\n",
       "        text-align: right;\n",
       "    }\n",
       "</style>\n",
       "<table border=\"1\" class=\"dataframe\">\n",
       "  <thead>\n",
       "    <tr style=\"text-align: right;\">\n",
       "      <th></th>\n",
       "      <th>num</th>\n",
       "      <th>text</th>\n",
       "    </tr>\n",
       "  </thead>\n",
       "  <tbody>\n",
       "    <tr>\n",
       "      <th>0</th>\n",
       "      <td>1</td>\n",
       "      <td>Last week to enter the \"Think Like A Champion\"...</td>\n",
       "    </tr>\n",
       "    <tr>\n",
       "      <th>1</th>\n",
       "      <td>2</td>\n",
       "      <td>- Wishing a Happy Father's Day to all the Dad'...</td>\n",
       "    </tr>\n",
       "    <tr>\n",
       "      <th>2</th>\n",
       "      <td>3</td>\n",
       "      <td>Donald Trump’s commercial-free WWE Raw does bi...</td>\n",
       "    </tr>\n",
       "    <tr>\n",
       "      <th>3</th>\n",
       "      <td>4</td>\n",
       "      <td>and here's another....http://www.trump.com/Gol...</td>\n",
       "    </tr>\n",
       "    <tr>\n",
       "      <th>4</th>\n",
       "      <td>5</td>\n",
       "      <td>@oreillyfactor is having a poll, cast your vot...</td>\n",
       "    </tr>\n",
       "    <tr>\n",
       "      <th>...</th>\n",
       "      <td>...</td>\n",
       "      <td>...</td>\n",
       "    </tr>\n",
       "    <tr>\n",
       "      <th>43132</th>\n",
       "      <td>43133</td>\n",
       "      <td>All is well! Missiles launched from Iran at tw...</td>\n",
       "    </tr>\n",
       "    <tr>\n",
       "      <th>43133</th>\n",
       "      <td>43134</td>\n",
       "      <td>CHINA!</td>\n",
       "    </tr>\n",
       "    <tr>\n",
       "      <th>43134</th>\n",
       "      <td>43135</td>\n",
       "      <td>https://t.co/VXeKiVzpTf</td>\n",
       "    </tr>\n",
       "    <tr>\n",
       "      <th>43135</th>\n",
       "      <td>43136</td>\n",
       "      <td>The United States of America will be designati...</td>\n",
       "    </tr>\n",
       "    <tr>\n",
       "      <th>43136</th>\n",
       "      <td>43137</td>\n",
       "      <td>A$AP Rocky released from prison and on his way...</td>\n",
       "    </tr>\n",
       "  </tbody>\n",
       "</table>\n",
       "<p>43137 rows × 2 columns</p>\n",
       "</div>"
      ],
      "text/plain": [
       "         num                                               text\n",
       "0          1  Last week to enter the \"Think Like A Champion\"...\n",
       "1          2  - Wishing a Happy Father's Day to all the Dad'...\n",
       "2          3  Donald Trump’s commercial-free WWE Raw does bi...\n",
       "3          4  and here's another....http://www.trump.com/Gol...\n",
       "4          5  @oreillyfactor is having a poll, cast your vot...\n",
       "...      ...                                                ...\n",
       "43132  43133  All is well! Missiles launched from Iran at tw...\n",
       "43133  43134                                             CHINA!\n",
       "43134  43135                            https://t.co/VXeKiVzpTf\n",
       "43135  43136  The United States of America will be designati...\n",
       "43136  43137  A$AP Rocky released from prison and on his way...\n",
       "\n",
       "[43137 rows x 2 columns]"
      ]
     },
     "execution_count": 4,
     "metadata": {},
     "output_type": "execute_result"
    }
   ],
   "source": [
    "df"
   ]
  },
  {
   "cell_type": "code",
   "execution_count": 5,
   "id": "e4617ee0-5831-427e-9290-957dc878a281",
   "metadata": {},
   "outputs": [
    {
     "data": {
      "text/plain": [
       "text\n",
       "MAKE AMERICA GREAT AGAIN!                                                                                                                   39\n",
       "PRESIDENTIAL HARASSMENT!                                                                                                                    12\n",
       "LAW &amp; ORDER!                                                                                                                            11\n",
       "KEEP AMERICA GREAT!                                                                                                                          7\n",
       "95% Approval Rating in the Republican Party. Thank you!                                                                                      6\n",
       "For all of those who have been asking about online sales, the Donald J. Trump Signature Collection ties &amp; shirts are sold @Macys.com     5\n",
       "WITCH HUNT!                                                                                                                                  5\n",
       "Entrepreneurs: Negotiation is an art. Treat it like one.                                                                                     4\n",
       "96% Approval Rating in the Republican Party. Thank you!                                                                                      4\n",
       "AMERICA FIRST!                                                                                                                               4\n",
       "Name: count, dtype: int64"
      ]
     },
     "execution_count": 5,
     "metadata": {},
     "output_type": "execute_result"
    }
   ],
   "source": [
    "df[\"text\"].value_counts().head(10)"
   ]
  },
  {
   "cell_type": "markdown",
   "id": "2992e9fe-c946-4dbd-9c74-26fe00d053fa",
   "metadata": {},
   "source": [
    "--------"
   ]
  },
  {
   "cell_type": "markdown",
   "id": "7e3dd409-26bb-4717-b2ff-91f2507e14e6",
   "metadata": {},
   "source": [
    "### Dataframe aufbereiten"
   ]
  },
  {
   "cell_type": "code",
   "execution_count": 6,
   "id": "131c3a0e-ad78-49c7-baef-9263356c6db2",
   "metadata": {},
   "outputs": [
    {
     "data": {
      "text/html": [
       "<div>\n",
       "<style scoped>\n",
       "    .dataframe tbody tr th:only-of-type {\n",
       "        vertical-align: middle;\n",
       "    }\n",
       "\n",
       "    .dataframe tbody tr th {\n",
       "        vertical-align: top;\n",
       "    }\n",
       "\n",
       "    .dataframe thead th {\n",
       "        text-align: right;\n",
       "    }\n",
       "</style>\n",
       "<table border=\"1\" class=\"dataframe\">\n",
       "  <thead>\n",
       "    <tr style=\"text-align: right;\">\n",
       "      <th></th>\n",
       "      <th>num</th>\n",
       "      <th>text</th>\n",
       "    </tr>\n",
       "  </thead>\n",
       "  <tbody>\n",
       "    <tr>\n",
       "      <th>0</th>\n",
       "      <td>1</td>\n",
       "      <td>Last week to enter the \"Think Like A Champion\"...</td>\n",
       "    </tr>\n",
       "    <tr>\n",
       "      <th>1</th>\n",
       "      <td>2</td>\n",
       "      <td>- Wishing a Happy Father's Day to all the Dad'...</td>\n",
       "    </tr>\n",
       "    <tr>\n",
       "      <th>2</th>\n",
       "      <td>3</td>\n",
       "      <td>Donald Trump’s commercial-free WWE Raw does bi...</td>\n",
       "    </tr>\n",
       "    <tr>\n",
       "      <th>3</th>\n",
       "      <td>4</td>\n",
       "      <td>and here's another....http://www.trump.com/Gol...</td>\n",
       "    </tr>\n",
       "    <tr>\n",
       "      <th>4</th>\n",
       "      <td>5</td>\n",
       "      <td>@oreillyfactor is having a poll, cast your vot...</td>\n",
       "    </tr>\n",
       "  </tbody>\n",
       "</table>\n",
       "</div>"
      ],
      "text/plain": [
       "   num                                               text\n",
       "0    1  Last week to enter the \"Think Like A Champion\"...\n",
       "1    2  - Wishing a Happy Father's Day to all the Dad'...\n",
       "2    3  Donald Trump’s commercial-free WWE Raw does bi...\n",
       "3    4  and here's another....http://www.trump.com/Gol...\n",
       "4    5  @oreillyfactor is having a poll, cast your vot..."
      ]
     },
     "execution_count": 6,
     "metadata": {},
     "output_type": "execute_result"
    }
   ],
   "source": [
    "df.head()"
   ]
  },
  {
   "cell_type": "code",
   "execution_count": 7,
   "id": "fd3746a0-f854-4003-9248-e8cf8ca01798",
   "metadata": {},
   "outputs": [],
   "source": [
    "df[\"clean_text\"] = df['text']"
   ]
  },
  {
   "cell_type": "code",
   "execution_count": 8,
   "id": "fdd3c0ff-8e79-4a77-81f2-f8e1f584cd20",
   "metadata": {},
   "outputs": [
    {
     "data": {
      "text/plain": [
       "0    last week enter think like champion signed boo...\n",
       "1    wishing happy fathers day dads champion today ...\n",
       "2     donald trump’s commercialfree wwe raw big rating\n",
       "3                                        heres another\n",
       "4                                       poll cast vote\n",
       "5             innocent italian government pay travesty\n",
       "6                                    done nothing help\n",
       "7            stop china curse pass china currency bill\n",
       "8    sold first week copies ordered holidays dont w...\n",
       "9                  tops 500 best hotels world congrats\n",
       "Name: clean_text, dtype: object"
      ]
     },
     "execution_count": 8,
     "metadata": {},
     "output_type": "execute_result"
    }
   ],
   "source": [
    "def remove_unwanted_text(text):\n",
    "    \n",
    "    #hyperlinks entfernen\n",
    "    text = re.sub(r'http\\S+', '', text)\n",
    "\n",
    "    #hashtags entfernen\n",
    "    text = re.sub(r'#\\w+', '', text)\n",
    "\n",
    "    #@namen entfernen\n",
    "    text = re.sub(r'@\\w+', '', text)\n",
    "\n",
    "    #lowercase\n",
    "    text = text.lower()\n",
    "\n",
    "    #interpunktion entfernen\n",
    "    text = text.translate(str.maketrans('', '', string.punctuation))\n",
    "\n",
    "    # Laden der Stoppwortliste\n",
    "    #nltk.download('stopwords')\n",
    "    stopwords = nltk.corpus.stopwords.words('english')\n",
    "    \n",
    "    # Stoppwörter entfernen\n",
    "    words = text.split()\n",
    "    words = [word for word in words if word not in stopwords]\n",
    "    text = ' '.join(words)\n",
    "\n",
    "    return text\n",
    "\n",
    "# Funktion auf Spalte anwenden\n",
    "df['clean_text'] = df['clean_text'].apply(remove_unwanted_text)\n",
    "\n",
    "df[\"clean_text\"].head(10)"
   ]
  },
  {
   "cell_type": "markdown",
   "id": "ba1fc3ae-731c-4e73-9e0b-b0de593b8327",
   "metadata": {},
   "source": [
    "-------------"
   ]
  },
  {
   "cell_type": "markdown",
   "id": "3e65294c-fcf3-4f72-bbaa-c6b498fc80f9",
   "metadata": {},
   "source": [
    "### Text-Dateien aus Dataframe einlesen und ausgeben"
   ]
  },
  {
   "cell_type": "code",
   "execution_count": 9,
   "id": "4897eadb-cdcb-4c94-8565-f2e14abbfda4",
   "metadata": {},
   "outputs": [
    {
     "name": "stdout",
     "output_type": "stream",
     "text": [
      "['last week enter think like champion signed book keychain contest', 'wishing happy fathers day dads champion today everyday', 'donald trump’s commercialfree wwe raw big rating', 'heres another', 'poll cast vote', 'innocent italian government pay travesty', 'done nothing help', 'stop china curse pass china currency bill', 'sold first week copies ordered holidays dont worry', 'tops 500 best hotels world congrats', 'hes smart man poor journalist likes fabricating truth reasons ratings stink', 'first job working father fred c trump', 'parent education high priority important went one best schools cont', 'already two great pilots', 'every citizen right political analysisand shouldas well endorse cont', 'qa receive great many requests interviews nationally internationally', 'could possibility plans moment season celebrity apprentice greatbe sure watch', 'agenda cant meet always nice asked wish best', 'youll watch find', 'trademarked']\n"
     ]
    }
   ],
   "source": [
    "# Extrahieren von Sätzen\n",
    "text_df = df[\"clean_text\"]\n",
    "\n",
    "# Erstellen einer leeren Liste\n",
    "text = []\n",
    "\n",
    "# Erweitern der Liste um die Sätze\n",
    "text.extend(text_df)\n",
    "\n",
    "# Drucken der Liste\n",
    "print(text[:20])"
   ]
  },
  {
   "cell_type": "markdown",
   "id": "ac1882a2-b5b6-498b-8292-24a43a861059",
   "metadata": {},
   "source": [
    "----------"
   ]
  },
  {
   "cell_type": "markdown",
   "id": "6d1ecda4-1f8f-4d2f-a90e-b9ce915b0ee8",
   "metadata": {},
   "source": [
    "### Neuen Dataframe erstellen mit Textinhalt"
   ]
  },
  {
   "cell_type": "code",
   "execution_count": 10,
   "id": "89504720-165b-4df1-ad86-d4c2f9cebc58",
   "metadata": {},
   "outputs": [
    {
     "data": {
      "text/html": [
       "<div>\n",
       "<style scoped>\n",
       "    .dataframe tbody tr th:only-of-type {\n",
       "        vertical-align: middle;\n",
       "    }\n",
       "\n",
       "    .dataframe tbody tr th {\n",
       "        vertical-align: top;\n",
       "    }\n",
       "\n",
       "    .dataframe thead th {\n",
       "        text-align: right;\n",
       "    }\n",
       "</style>\n",
       "<table border=\"1\" class=\"dataframe\">\n",
       "  <thead>\n",
       "    <tr style=\"text-align: right;\">\n",
       "      <th></th>\n",
       "      <th>num</th>\n",
       "      <th>text</th>\n",
       "      <th>clean_text</th>\n",
       "    </tr>\n",
       "  </thead>\n",
       "  <tbody>\n",
       "    <tr>\n",
       "      <th>0</th>\n",
       "      <td>1</td>\n",
       "      <td>Last week to enter the \"Think Like A Champion\"...</td>\n",
       "      <td>last week enter think like champion signed boo...</td>\n",
       "    </tr>\n",
       "    <tr>\n",
       "      <th>1</th>\n",
       "      <td>2</td>\n",
       "      <td>- Wishing a Happy Father's Day to all the Dad'...</td>\n",
       "      <td>wishing happy fathers day dads champion today ...</td>\n",
       "    </tr>\n",
       "    <tr>\n",
       "      <th>2</th>\n",
       "      <td>3</td>\n",
       "      <td>Donald Trump’s commercial-free WWE Raw does bi...</td>\n",
       "      <td>donald trump’s commercialfree wwe raw big rating</td>\n",
       "    </tr>\n",
       "    <tr>\n",
       "      <th>3</th>\n",
       "      <td>4</td>\n",
       "      <td>and here's another....http://www.trump.com/Gol...</td>\n",
       "      <td>heres another</td>\n",
       "    </tr>\n",
       "    <tr>\n",
       "      <th>4</th>\n",
       "      <td>5</td>\n",
       "      <td>@oreillyfactor is having a poll, cast your vot...</td>\n",
       "      <td>poll cast vote</td>\n",
       "    </tr>\n",
       "    <tr>\n",
       "      <th>...</th>\n",
       "      <td>...</td>\n",
       "      <td>...</td>\n",
       "      <td>...</td>\n",
       "    </tr>\n",
       "    <tr>\n",
       "      <th>43132</th>\n",
       "      <td>43133</td>\n",
       "      <td>All is well! Missiles launched from Iran at tw...</td>\n",
       "      <td>well missiles launched iran two military bases...</td>\n",
       "    </tr>\n",
       "    <tr>\n",
       "      <th>43133</th>\n",
       "      <td>43134</td>\n",
       "      <td>CHINA!</td>\n",
       "      <td>china</td>\n",
       "    </tr>\n",
       "    <tr>\n",
       "      <th>43134</th>\n",
       "      <td>43135</td>\n",
       "      <td>https://t.co/VXeKiVzpTf</td>\n",
       "      <td></td>\n",
       "    </tr>\n",
       "    <tr>\n",
       "      <th>43135</th>\n",
       "      <td>43136</td>\n",
       "      <td>The United States of America will be designati...</td>\n",
       "      <td>united states america designating antifa terro...</td>\n",
       "    </tr>\n",
       "    <tr>\n",
       "      <th>43136</th>\n",
       "      <td>43137</td>\n",
       "      <td>A$AP Rocky released from prison and on his way...</td>\n",
       "      <td>aap rocky released prison way home united stat...</td>\n",
       "    </tr>\n",
       "  </tbody>\n",
       "</table>\n",
       "<p>43137 rows × 3 columns</p>\n",
       "</div>"
      ],
      "text/plain": [
       "         num                                               text  \\\n",
       "0          1  Last week to enter the \"Think Like A Champion\"...   \n",
       "1          2  - Wishing a Happy Father's Day to all the Dad'...   \n",
       "2          3  Donald Trump’s commercial-free WWE Raw does bi...   \n",
       "3          4  and here's another....http://www.trump.com/Gol...   \n",
       "4          5  @oreillyfactor is having a poll, cast your vot...   \n",
       "...      ...                                                ...   \n",
       "43132  43133  All is well! Missiles launched from Iran at tw...   \n",
       "43133  43134                                             CHINA!   \n",
       "43134  43135                            https://t.co/VXeKiVzpTf   \n",
       "43135  43136  The United States of America will be designati...   \n",
       "43136  43137  A$AP Rocky released from prison and on his way...   \n",
       "\n",
       "                                              clean_text  \n",
       "0      last week enter think like champion signed boo...  \n",
       "1      wishing happy fathers day dads champion today ...  \n",
       "2       donald trump’s commercialfree wwe raw big rating  \n",
       "3                                          heres another  \n",
       "4                                         poll cast vote  \n",
       "...                                                  ...  \n",
       "43132  well missiles launched iran two military bases...  \n",
       "43133                                              china  \n",
       "43134                                                     \n",
       "43135  united states america designating antifa terro...  \n",
       "43136  aap rocky released prison way home united stat...  \n",
       "\n",
       "[43137 rows x 3 columns]"
      ]
     },
     "execution_count": 10,
     "metadata": {},
     "output_type": "execute_result"
    }
   ],
   "source": [
    "df"
   ]
  },
  {
   "cell_type": "code",
   "execution_count": 11,
   "id": "b412c278-0022-4934-9d94-81564d5e52dd",
   "metadata": {},
   "outputs": [
    {
     "name": "stdout",
     "output_type": "stream",
     "text": [
      "Datei gespeichert...\n"
     ]
    }
   ],
   "source": [
    "df.to_csv(\"trump_clean.csv\")\n",
    "print(\"Datei gespeichert...\")"
   ]
  }
 ],
 "metadata": {
  "kernelspec": {
   "display_name": "Python 3 (ipykernel)",
   "language": "python",
   "name": "python3"
  },
  "language_info": {
   "codemirror_mode": {
    "name": "ipython",
    "version": 3
   },
   "file_extension": ".py",
   "mimetype": "text/x-python",
   "name": "python",
   "nbconvert_exporter": "python",
   "pygments_lexer": "ipython3",
   "version": "3.11.7"
  }
 },
 "nbformat": 4,
 "nbformat_minor": 5
}
