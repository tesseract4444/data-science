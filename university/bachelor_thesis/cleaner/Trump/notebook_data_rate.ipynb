{
 "cells": [
  {
   "cell_type": "code",
   "execution_count": null,
   "id": "5574035d-7eef-48c0-9666-7c4b543c966f",
   "metadata": {},
   "outputs": [
    {
     "name": "stdout",
     "output_type": "stream",
     "text": [
      "\u001b[32m[I 2024-05-03 12:01:04.729 ServerApp]\u001b[m Package notebook took 0.0000s to import\n",
      "\u001b[32m[I 2024-05-03 12:01:04.756 ServerApp]\u001b[m Package jupyter_lsp took 0.0265s to import\n",
      "\u001b[33m[W 2024-05-03 12:01:04.756 ServerApp]\u001b[m A `_jupyter_server_extension_points` function was not found in jupyter_lsp. Instead, a `_jupyter_server_extension_paths` function was found and will be used for now. This function name will be deprecated in future releases of Jupyter Server.\n",
      "\u001b[32m[I 2024-05-03 12:01:04.765 ServerApp]\u001b[m Package jupyter_server_terminals took 0.0083s to import\n",
      "\u001b[32m[I 2024-05-03 12:01:04.766 ServerApp]\u001b[m Package jupyterlab took 0.0000s to import\n",
      "\u001b[32m[I 2024-05-03 12:01:04.806 ServerApp]\u001b[m Package notebook_shim took 0.0000s to import\n",
      "\u001b[33m[W 2024-05-03 12:01:04.806 ServerApp]\u001b[m A `_jupyter_server_extension_points` function was not found in notebook_shim. Instead, a `_jupyter_server_extension_paths` function was found and will be used for now. This function name will be deprecated in future releases of Jupyter Server.\n",
      "\u001b[32m[I 2024-05-03 12:01:04.807 ServerApp]\u001b[m jupyter_lsp | extension was successfully linked.\n",
      "\u001b[32m[I 2024-05-03 12:01:04.815 ServerApp]\u001b[m jupyter_server_terminals | extension was successfully linked.\n",
      "\u001b[33m[W 2024-05-03 12:01:04.818 LabApp]\u001b[m 'iopub_data_rate_limit' has moved from NotebookApp to ServerApp. This config will be passed to ServerApp. Be sure to update your config before our next release.\n",
      "\u001b[33m[W 2024-05-03 12:01:04.822 ServerApp]\u001b[m ServerApp.iopub_data_rate_limit config is deprecated in 2.0. Use ZMQChannelsWebsocketConnection.iopub_data_rate_limit.\n",
      "\u001b[32m[I 2024-05-03 12:01:04.822 ServerApp]\u001b[m jupyterlab | extension was successfully linked.\n",
      "\u001b[32m[I 2024-05-03 12:01:04.828 ServerApp]\u001b[m notebook | extension was successfully linked.\n",
      "\u001b[32m[I 2024-05-03 12:01:05.169 ServerApp]\u001b[m notebook_shim | extension was successfully linked.\n",
      "\u001b[32m[I 2024-05-03 12:01:05.197 ServerApp]\u001b[m notebook_shim | extension was successfully loaded.\n",
      "\u001b[32m[I 2024-05-03 12:01:05.200 ServerApp]\u001b[m jupyter_lsp | extension was successfully loaded.\n",
      "\u001b[32m[I 2024-05-03 12:01:05.201 ServerApp]\u001b[m jupyter_server_terminals | extension was successfully loaded.\n",
      "\u001b[32m[I 2024-05-03 12:01:05.203 LabApp]\u001b[m JupyterLab extension loaded from /home/simon/anaconda3/envs/notebook/lib/python3.11/site-packages/jupyterlab\n",
      "\u001b[32m[I 2024-05-03 12:01:05.204 LabApp]\u001b[m JupyterLab application directory is /home/simon/anaconda3/envs/notebook/share/jupyter/lab\n",
      "\u001b[32m[I 2024-05-03 12:01:05.204 LabApp]\u001b[m Extension Manager is 'pypi'.\n",
      "\u001b[32m[I 2024-05-03 12:01:05.208 ServerApp]\u001b[m jupyterlab | extension was successfully loaded.\n",
      "\u001b[32m[I 2024-05-03 12:01:05.212 ServerApp]\u001b[m notebook | extension was successfully loaded.\n",
      "\u001b[32m[I 2024-05-03 12:01:05.212 ServerApp]\u001b[m The port 8888 is already in use, trying another port.\n",
      "\u001b[32m[I 2024-05-03 12:01:05.213 ServerApp]\u001b[m The port 8889 is already in use, trying another port.\n",
      "\u001b[32m[I 2024-05-03 12:01:05.213 ServerApp]\u001b[m Serving notebooks from local directory: /home/simon/bachelorarbeit/vergleich_mk_trump/Trump\n",
      "\u001b[32m[I 2024-05-03 12:01:05.213 ServerApp]\u001b[m Jupyter Server 2.10.0 is running at:\n",
      "\u001b[32m[I 2024-05-03 12:01:05.213 ServerApp]\u001b[m http://localhost:8890/tree?token=5556e07eea1d9b6f32d5b8c924bc4a1e0c25eb32a62bda9f\n",
      "\u001b[32m[I 2024-05-03 12:01:05.213 ServerApp]\u001b[m     http://127.0.0.1:8890/tree?token=5556e07eea1d9b6f32d5b8c924bc4a1e0c25eb32a62bda9f\n",
      "\u001b[32m[I 2024-05-03 12:01:05.213 ServerApp]\u001b[m Use Control-C to stop this server and shut down all kernels (twice to skip confirmation).\n",
      "\u001b[35m[C 2024-05-03 12:01:05.282 ServerApp]\u001b[m \n",
      "    \n",
      "    To access the server, open this file in a browser:\n",
      "        file:///home/simon/.local/share/jupyter/runtime/jpserver-14477-open.html\n",
      "    Or copy and paste one of these URLs:\n",
      "        http://localhost:8890/tree?token=5556e07eea1d9b6f32d5b8c924bc4a1e0c25eb32a62bda9f\n",
      "        http://127.0.0.1:8890/tree?token=5556e07eea1d9b6f32d5b8c924bc4a1e0c25eb32a62bda9f\n",
      "\u001b[32m[I 2024-05-03 12:01:05.318 ServerApp]\u001b[m Skipped non-installed server(s): bash-language-server, dockerfile-language-server-nodejs, javascript-typescript-langserver, jedi-language-server, julia-language-server, pyright, python-language-server, python-lsp-server, r-languageserver, sql-language-server, texlab, typescript-language-server, unified-language-server, vscode-css-languageserver-bin, vscode-html-languageserver-bin, vscode-json-languageserver-bin, yaml-language-server\n",
      "0.00s - Debugger warning: It seems that frozen modules are being used, which may\n",
      "0.00s - make the debugger miss breakpoints. Please pass -Xfrozen_modules=off\n",
      "0.00s - to python to disable frozen modules.\n",
      "0.00s - Note: Debugging will proceed. Set PYDEVD_DISABLE_FILE_VALIDATION=1 to disable this validation.\n",
      "\u001b[32m[I 2024-05-03 12:01:28.017 ServerApp]\u001b[m Kernel started: 5de37f0e-b495-4732-9956-73d6af0721e3\n",
      "0.00s - Debugger warning: It seems that frozen modules are being used, which may\n",
      "0.00s - make the debugger miss breakpoints. Please pass -Xfrozen_modules=off\n",
      "0.00s - to python to disable frozen modules.\n",
      "0.00s - Note: Debugging will proceed. Set PYDEVD_DISABLE_FILE_VALIDATION=1 to disable this validation.\n",
      "\u001b[32m[I 2024-05-03 12:01:29.020 ServerApp]\u001b[m Connecting to kernel 5de37f0e-b495-4732-9956-73d6af0721e3.\n",
      "\u001b[32m[I 2024-05-03 12:03:19.002 ServerApp]\u001b[m AsyncIOLoopKernelRestarter: restarting kernel (1/5), keep random ports\n",
      "\u001b[33m[W 2024-05-03 12:03:19.071 ServerApp]\u001b[m kernel 5de37f0e-b495-4732-9956-73d6af0721e3 restarted\n"
     ]
    }
   ],
   "source": [
    "!jupyter notebook --NotebookApp.iopub_data_rate_limit=1.0e10"
   ]
  },
  {
   "cell_type": "code",
   "execution_count": null,
   "id": "4d608d49-537f-427f-8f0c-3f0015d4c403",
   "metadata": {},
   "outputs": [],
   "source": []
  }
 ],
 "metadata": {
  "kernelspec": {
   "display_name": "Python 3 (ipykernel)",
   "language": "python",
   "name": "python3"
  },
  "language_info": {
   "codemirror_mode": {
    "name": "ipython",
    "version": 3
   },
   "file_extension": ".py",
   "mimetype": "text/x-python",
   "name": "python",
   "nbconvert_exporter": "python",
   "pygments_lexer": "ipython3",
   "version": "3.11.9"
  }
 },
 "nbformat": 4,
 "nbformat_minor": 5
}
