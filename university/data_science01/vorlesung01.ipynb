{
 "cells": [
  {
   "cell_type": "markdown",
   "id": "b3b455af",
   "metadata": {},
   "source": [
    "## Introduction"
   ]
  },
  {
   "cell_type": "markdown",
   "id": "f9401ac0",
   "metadata": {},
   "source": [
    "#### Python's syntax, or: Programming with pseudocode"
   ]
  },
  {
   "cell_type": "code",
   "execution_count": 1,
   "id": "07e3fbf7",
   "metadata": {},
   "outputs": [],
   "source": [
    "def count_word_lengths(text):\n",
    "    words = text.split(\" \")\n",
    "    all_word_lengths = []\n",
    "    for word in words:\n",
    "        word_length = len(word)\n",
    "        all_word_lengths.append(word_length)\n",
    "    return all_word_lengths"
   ]
  },
  {
   "cell_type": "code",
   "execution_count": 2,
   "id": "85cba8df",
   "metadata": {},
   "outputs": [
    {
     "data": {
      "text/plain": [
       "[11, 2, 6, 10, 9, 4, 8, 5, 4, 7]"
      ]
     },
     "execution_count": 2,
     "metadata": {},
     "output_type": "execute_result"
    }
   ],
   "source": [
    "count_word_lengths(\n",
    "    \"Programming in Python alleviates executing your research ideas very quickly\"\n",
    ")"
   ]
  },
  {
   "cell_type": "markdown",
   "id": "9c9d1149",
   "metadata": {},
   "source": [
    "#### First things first: Hello World"
   ]
  },
  {
   "cell_type": "code",
   "execution_count": 3,
   "id": "9abd0663",
   "metadata": {},
   "outputs": [
    {
     "name": "stdout",
     "output_type": "stream",
     "text": [
      "Hello World\n"
     ]
    }
   ],
   "source": [
    "print(\"Hello World\")"
   ]
  },
  {
   "cell_type": "markdown",
   "id": "6f555865",
   "metadata": {},
   "source": [
    "#### The print-function takes in data and writes it the current output"
   ]
  },
  {
   "cell_type": "code",
   "execution_count": 4,
   "id": "a5742213",
   "metadata": {},
   "outputs": [
    {
     "name": "stdout",
     "output_type": "stream",
     "text": [
      "0 1 3\n",
      "A B C\n",
      "0 A 1 B 2 C\n"
     ]
    }
   ],
   "source": [
    "print(0, 1, 3)\n",
    "print(\"A\", \"B\", \"C\")\n",
    "print(0, \"A\", 1, \"B\", 2, \"C\")"
   ]
  },
  {
   "cell_type": "markdown",
   "id": "64f1a217",
   "metadata": {},
   "source": [
    "## Basics: Variables\n",
    "- Variables are used to store and retrieve data.\n",
    "- They consist of a name and a value that is bound to the name\n",
    "\n"
   ]
  },
  {
   "cell_type": "code",
   "execution_count": 5,
   "id": "240d9154",
   "metadata": {},
   "outputs": [
    {
     "name": "stdout",
     "output_type": "stream",
     "text": [
      "0\n"
     ]
    }
   ],
   "source": [
    "my_data = 0\n",
    "print(my_data)"
   ]
  },
  {
   "cell_type": "markdown",
   "id": "90af8a52",
   "metadata": {},
   "source": [
    "- The value of a variable might change but its name is fixed"
   ]
  },
  {
   "cell_type": "code",
   "execution_count": 6,
   "id": "f9986635",
   "metadata": {},
   "outputs": [
    {
     "name": "stdout",
     "output_type": "stream",
     "text": [
      "1\n"
     ]
    }
   ],
   "source": [
    "my_data = 1\n",
    "print(my_data)\n",
    "\n"
   ]
  },
  {
   "cell_type": "markdown",
   "id": "987debca",
   "metadata": {},
   "source": [
    "- return data type of a variable"
   ]
  },
  {
   "cell_type": "markdown",
   "id": "a9358077",
   "metadata": {},
   "source": [
    "print(type(my_data))"
   ]
  },
  {
   "cell_type": "markdown",
   "id": "6d0b7aa5",
   "metadata": {},
   "source": [
    "- change of data type"
   ]
  },
  {
   "cell_type": "code",
   "execution_count": 9,
   "id": "896bcc45",
   "metadata": {},
   "outputs": [
    {
     "name": "stdout",
     "output_type": "stream",
     "text": [
      "<class 'str'>\n",
      "Hello World\n"
     ]
    }
   ],
   "source": [
    "my_data = \"Hello World\"\n",
    "print(type(my_data))\n",
    "print(my_data)\n",
    "\n"
   ]
  },
  {
   "cell_type": "markdown",
   "id": "303306ab",
   "metadata": {},
   "source": [
    "- only 2 types of the same kind fit together"
   ]
  },
  {
   "cell_type": "code",
   "execution_count": 10,
   "id": "6a1a8b1f",
   "metadata": {},
   "outputs": [
    {
     "ename": "TypeError",
     "evalue": "can only concatenate str (not \"int\") to str",
     "output_type": "error",
     "traceback": [
      "\u001b[1;31m---------------------------------------------------------------------------\u001b[0m",
      "\u001b[1;31mTypeError\u001b[0m                                 Traceback (most recent call last)",
      "\u001b[1;32m~\\AppData\\Local\\Temp/ipykernel_33616/3931737855.py\u001b[0m in \u001b[0;36m<module>\u001b[1;34m\u001b[0m\n\u001b[0;32m      2\u001b[0m \u001b[0mmy_number\u001b[0m \u001b[1;33m=\u001b[0m \u001b[1;36m1\u001b[0m\u001b[1;33m\u001b[0m\u001b[1;33m\u001b[0m\u001b[0m\n\u001b[0;32m      3\u001b[0m \u001b[1;33m\u001b[0m\u001b[0m\n\u001b[1;32m----> 4\u001b[1;33m \u001b[0mprint\u001b[0m\u001b[1;33m(\u001b[0m\u001b[0mmy_data\u001b[0m \u001b[1;33m+\u001b[0m \u001b[0mmy_number\u001b[0m\u001b[1;33m)\u001b[0m\u001b[1;33m\u001b[0m\u001b[1;33m\u001b[0m\u001b[0m\n\u001b[0m\u001b[0;32m      5\u001b[0m \u001b[1;33m\u001b[0m\u001b[0m\n",
      "\u001b[1;31mTypeError\u001b[0m: can only concatenate str (not \"int\") to str"
     ]
    }
   ],
   "source": [
    "my_data = \"1\"\n",
    "my_number = 1\n",
    "\n",
    "print(my_data + my_number)\n",
    "\n"
   ]
  },
  {
   "cell_type": "markdown",
   "id": "ff1e4ad3",
   "metadata": {},
   "source": [
    "## Naming conventions for variables"
   ]
  },
  {
   "cell_type": "markdown",
   "id": "c7179a6f",
   "metadata": {},
   "source": [
    "- wrong: Number = 1, 0var = 0, my first var = 0, MyFirstVar = 0\n",
    "- right: number = 1, zero_var = 0, my_first_var = 0\n",
    "- ALWAYS (¡ with NO exceptions !) name your variables in a semantically meaningful way. So spare your future-you, your collaborators (and your supervisors), the pain of guessing the purpose of your variables.\n",
    "var 1 => books_sold"
   ]
  },
  {
   "cell_type": "markdown",
   "id": "e267ac89",
   "metadata": {},
   "source": [
    "## Data types"
   ]
  },
  {
   "cell_type": "markdown",
   "id": "e4800263",
   "metadata": {},
   "source": [
    "\n",
    "#### Operations"
   ]
  },
  {
   "cell_type": "code",
   "execution_count": 11,
   "id": "456ce3c8",
   "metadata": {},
   "outputs": [
    {
     "name": "stdout",
     "output_type": "stream",
     "text": [
      "2\n",
      "1\n",
      "2.5\n",
      "2\n",
      "4\n",
      "1\n"
     ]
    }
   ],
   "source": [
    "print(1 + 1)\n",
    "print(2 - 1)\n",
    "print(5 / 2)\n",
    "print(5 // 2)\n",
    "print(2 * 2)\n",
    "print(5 % 2)"
   ]
  },
  {
   "cell_type": "markdown",
   "id": "c675c114",
   "metadata": {},
   "source": [
    "#### Special string characters"
   ]
  },
  {
   "cell_type": "code",
   "execution_count": 14,
   "id": "2b678580",
   "metadata": {},
   "outputs": [
    {
     "name": "stdout",
     "output_type": "stream",
     "text": [
      "Hello.\n",
      "Dow you know what the \\n character is good for?\n",
      "\n",
      "\tBest wishes,\n",
      "\tA friend\n"
     ]
    }
   ],
   "source": [
    "print(\"Hello.\\nDow you know what the \\\\n character is good for?\\n\\n\\tBest wishes,\\n\\tA friend\")"
   ]
  },
  {
   "cell_type": "code",
   "execution_count": 15,
   "id": "c7161db6",
   "metadata": {},
   "outputs": [
    {
     "name": "stdout",
     "output_type": "stream",
     "text": [
      "'\\nMy dear fried,\\nIt has been a hell of a week!\\nLet me tell you the story of I how   REALLY   fucked up:\\n    [...]\\nBest,\\nA friend\\n'\n"
     ]
    }
   ],
   "source": [
    "longer_text = \"\"\"\n",
    "My dear fried,\n",
    "It has been a hell of a week!\n",
    "Let me tell you the story of I how   REALLY   fucked up:\n",
    "    [...]\n",
    "Best,\n",
    "A friend\n",
    "\"\"\"\n",
    "print(repr(longer_text))"
   ]
  },
  {
   "cell_type": "markdown",
   "id": "4773bf86",
   "metadata": {},
   "source": [
    "#### Concatenate 2 strings"
   ]
  },
  {
   "cell_type": "code",
   "execution_count": 16,
   "id": "b096a8cf",
   "metadata": {},
   "outputs": [
    {
     "name": "stdout",
     "output_type": "stream",
     "text": [
      "Hello Lennart\n"
     ]
    }
   ],
   "source": [
    "message = \"Hello \"\n",
    "name = \"Lennart\"\n",
    "print(message + name)\n",
    "\n"
   ]
  },
  {
   "cell_type": "markdown",
   "id": "bcff526a",
   "metadata": {},
   "source": [
    "#### Working with strings"
   ]
  },
  {
   "cell_type": "code",
   "execution_count": 17,
   "id": "db28f092",
   "metadata": {},
   "outputs": [
    {
     "name": "stdout",
     "output_type": "stream",
     "text": [
      "capitalize\tcasefold\tcenter\tcount\tencode\tendswith\texpandtabs\tfind\tformat\tformat_map\tindex\tisalnum\tisalpha\tisascii\tisdecimal\tisdigit\tisidentifier\tislower\tisnumeric\tisprintable\tisspace\tistitle\tisupper\tjoin\tljust\tlower\tlstrip\tmaketrans\tpartition\tremoveprefix\tremovesuffix\treplace\trfind\trindex\trjust\trpartition\trsplit\trstrip\tsplit\tsplitlines\tstartswith\tstrip\tswapcase\ttitle\ttranslate\tupper\tzfill\n"
     ]
    }
   ],
   "source": [
    "print(*[m for m in dir(\"\") if not m.startswith(\"_\")], sep=\"\\t\")"
   ]
  },
  {
   "cell_type": "code",
   "execution_count": 18,
   "id": "86a0e925",
   "metadata": {},
   "outputs": [
    {
     "name": "stdout",
     "output_type": "stream",
     "text": [
      "1\n",
      "['My', 'spacebar', 'is', 'broken', '😞']\n",
      "True\n",
      "9\n"
     ]
    }
   ],
   "source": [
    "print(\"var1\".removeprefix(\"var\"))\n",
    "print(\"My|spacebar|is|broken|😞\".split(\"|\"))\n",
    "print(\"123\".isnumeric())\n",
    "print(\"001110000111111\".count(\"1\"))\n",
    "# and so much more!\n",
    "\n"
   ]
  },
  {
   "cell_type": "markdown",
   "id": "28258154",
   "metadata": {},
   "source": [
    "## Lists"
   ]
  },
  {
   "cell_type": "markdown",
   "id": "cfc17a23",
   "metadata": {},
   "source": [
    "#### container for all data types"
   ]
  },
  {
   "cell_type": "code",
   "execution_count": 21,
   "id": "b77eb360",
   "metadata": {},
   "outputs": [
    {
     "name": "stdout",
     "output_type": "stream",
     "text": [
      "[0, '1', 2.0, [3]]\n"
     ]
    }
   ],
   "source": [
    "my_list = [0, \"1\", 2.0, [3]]\n",
    "print(my_list)"
   ]
  },
  {
   "cell_type": "markdown",
   "id": "280d1299",
   "metadata": {},
   "source": [
    "#### lists can be changed"
   ]
  },
  {
   "cell_type": "code",
   "execution_count": 27,
   "id": "6fabcd5a",
   "metadata": {},
   "outputs": [
    {
     "name": "stdout",
     "output_type": "stream",
     "text": [
      "[1]\n"
     ]
    }
   ],
   "source": [
    "#add elements\n",
    "my_list = []\n",
    "my_list.append(1) \n",
    "print(my_list)"
   ]
  },
  {
   "cell_type": "code",
   "execution_count": 28,
   "id": "20ef082b",
   "metadata": {},
   "outputs": [
    {
     "name": "stdout",
     "output_type": "stream",
     "text": [
      "[1, 2, 3]\n"
     ]
    }
   ],
   "source": [
    "#add elements\n",
    "my_list.extend([2, 3]) \n",
    "print(my_list)"
   ]
  },
  {
   "cell_type": "code",
   "execution_count": 29,
   "id": "7a78799f",
   "metadata": {},
   "outputs": [
    {
     "name": "stdout",
     "output_type": "stream",
     "text": [
      "[2, 3]\n"
     ]
    }
   ],
   "source": [
    "#remove elements\n",
    "my_list.pop(0) \n",
    "print(my_list)"
   ]
  },
  {
   "cell_type": "code",
   "execution_count": 30,
   "id": "faef20bd",
   "metadata": {},
   "outputs": [
    {
     "name": "stdout",
     "output_type": "stream",
     "text": [
      "[2, 3, 4, 5]\n",
      "[2, 3]\n",
      "[4, 5]\n"
     ]
    }
   ],
   "source": [
    "#concatenate two lists\n",
    "my_second_list = [4, 5]\n",
    "my_super_list = my_list + my_second_list\n",
    "print(my_super_list)\n",
    "print(my_list)\n",
    "print(my_second_list)"
   ]
  },
  {
   "cell_type": "code",
   "execution_count": 33,
   "id": "b2ce209e",
   "metadata": {},
   "outputs": [
    {
     "name": "stdout",
     "output_type": "stream",
     "text": [
      "[1, 2, 3]\n",
      "[3, 1, 2]\n",
      "['Ape', 'Banana', 'Cat']\n"
     ]
    }
   ],
   "source": [
    "#sorting a list\n",
    "my_list = [3, 1, 2]\n",
    "my_sorted_list = sorted(my_list)\n",
    "print(my_sorted_list)\n",
    "print(my_list)\n",
    "\n",
    "\n",
    "my_list = [\"Banana\", \"Ape\", \"Cat\"]\n",
    "my_list = sorted(my_list)\n",
    "print(my_list)"
   ]
  },
  {
   "cell_type": "markdown",
   "id": "92d0a5c3",
   "metadata": {},
   "source": [
    "## Tuples\n",
    "- can't be changed"
   ]
  },
  {
   "cell_type": "code",
   "execution_count": 36,
   "id": "910d4e0e",
   "metadata": {},
   "outputs": [
    {
     "name": "stdout",
     "output_type": "stream",
     "text": [
      "(0, '1', 2.0, [3])\n"
     ]
    }
   ],
   "source": [
    "my_tuple = (0, \"1\", 2.0, [3])\n",
    "print(my_tuple)\n",
    "\n",
    "#my_tuple.append(1) #not working"
   ]
  },
  {
   "cell_type": "markdown",
   "id": "42ce84b5",
   "metadata": {},
   "source": [
    "## Indexing and Slicing"
   ]
  },
  {
   "cell_type": "markdown",
   "id": "1e8d6f26",
   "metadata": {},
   "source": [
    "#### Indexing"
   ]
  },
  {
   "cell_type": "code",
   "execution_count": 38,
   "id": "351f3181",
   "metadata": {},
   "outputs": [
    {
     "name": "stdout",
     "output_type": "stream",
     "text": [
      "1 6\n",
      "H 🙄\n",
      "1 3\n",
      "[1, 2, 3, 4, 5, 1]\n"
     ]
    }
   ],
   "source": [
    "my_list = [1, 2, 3, 4, 5, 6]\n",
    "print(my_list[0], my_list[-1])\n",
    "\n",
    "my_string = \"Hello World. 🙄\"\n",
    "print(my_string[0], my_string[-1])\n",
    "\n",
    "my_tuple = (1, 2, 3)\n",
    "print(my_tuple[0], my_tuple[-1])\n",
    "\n",
    "my_list[-1] = 1\n",
    "print(my_list)"
   ]
  },
  {
   "cell_type": "markdown",
   "id": "fa150085",
   "metadata": {},
   "source": [
    "#### Slicing"
   ]
  },
  {
   "cell_type": "code",
   "execution_count": 40,
   "id": "f93d9f63",
   "metadata": {},
   "outputs": [
    {
     "name": "stdout",
     "output_type": "stream",
     "text": [
      "[1, 2] [1, 2] [5, 6]\n",
      "He He  🙄\n",
      "(1, 2) (1, 2) (2, 3)\n",
      "[0, 0, 0, 4, 5, 6]\n"
     ]
    }
   ],
   "source": [
    "my_list = [1, 2, 3, 4, 5, 6]\n",
    "print(my_list[0:2], my_list[:2], my_list[-2:])\n",
    "\n",
    "my_string = \"Hello World. 🙄\"\n",
    "print(my_string[0:2], my_string[:2], my_string[-2:])\n",
    "\n",
    "my_tuple = (1, 2, 3)\n",
    "print(my_tuple[0:2], my_tuple[:2], my_tuple[-2:])\n",
    "\n",
    "#change a subsequence via slicing\n",
    "my_list[:3] = [0, 0, 0]\n",
    "print(my_list)\n",
    "\n",
    "#slice of a slice\n",
    "my_list = [1, 2, 3, 4, 5, 6]\n",
    "print(my_list[:4:2], my_list[::2], my_list[::-1])"
   ]
  },
  {
   "cell_type": "markdown",
   "id": "445613e7",
   "metadata": {},
   "source": [
    "## Check conditions"
   ]
  },
  {
   "cell_type": "code",
   "execution_count": 41,
   "id": "983a3ec2",
   "metadata": {},
   "outputs": [
    {
     "name": "stdout",
     "output_type": "stream",
     "text": [
      "True\n",
      "True\n",
      "True\n"
     ]
    }
   ],
   "source": [
    "print(1 in [1, 2, 3])\n",
    "print(2 in (1, 2, 3))\n",
    "print(\"Hello\" in \"Hello World 😊\")"
   ]
  },
  {
   "cell_type": "markdown",
   "id": "e354eeaa",
   "metadata": {},
   "source": [
    "## Dictionaries\n",
    "- dictionaries help store a mapping from one unary element to another and are great for storing a collection of related data and using the keys as labels"
   ]
  },
  {
   "cell_type": "code",
   "execution_count": 42,
   "id": "5ba5a926",
   "metadata": {},
   "outputs": [
    {
     "name": "stdout",
     "output_type": "stream",
     "text": [
      "Haus\n"
     ]
    }
   ],
   "source": [
    "my_dictionary = {\n",
    "   # Key  :  Value \n",
    "    \"Beer\": \"Bier\",\n",
    "    \"Apple\": \"Apfel\",\n",
    "    \"House\": \"Haus\"\n",
    "}\n",
    "\n",
    "\n",
    "print(my_dictionary[\"House\"])"
   ]
  },
  {
   "cell_type": "markdown",
   "id": "3a02b8af",
   "metadata": {},
   "source": [
    "#### Access keys"
   ]
  },
  {
   "cell_type": "code",
   "execution_count": 43,
   "id": "88d06ca8",
   "metadata": {},
   "outputs": [
    {
     "name": "stdout",
     "output_type": "stream",
     "text": [
      "dict_keys(['Beer', 'Apple', 'House'])\n"
     ]
    }
   ],
   "source": [
    "print(my_dictionary.keys())"
   ]
  },
  {
   "cell_type": "markdown",
   "id": "bbf1e37a",
   "metadata": {},
   "source": [
    "#### Access values"
   ]
  },
  {
   "cell_type": "code",
   "execution_count": 44,
   "id": "f6226c92",
   "metadata": {},
   "outputs": [
    {
     "name": "stdout",
     "output_type": "stream",
     "text": [
      "dict_values(['Bier', 'Apfel', 'Haus'])\n"
     ]
    }
   ],
   "source": [
    "print(my_dictionary.values())"
   ]
  },
  {
   "cell_type": "markdown",
   "id": "251a4fe7",
   "metadata": {},
   "source": [
    "#### Access pairs"
   ]
  },
  {
   "cell_type": "code",
   "execution_count": 45,
   "id": "875652f9",
   "metadata": {},
   "outputs": [
    {
     "name": "stdout",
     "output_type": "stream",
     "text": [
      "dict_items([('Beer', 'Bier'), ('Apple', 'Apfel'), ('House', 'Haus')])\n"
     ]
    }
   ],
   "source": [
    "print(my_dictionary.items())"
   ]
  },
  {
   "cell_type": "markdown",
   "id": "56aab335",
   "metadata": {},
   "source": [
    "## Booleans"
   ]
  },
  {
   "cell_type": "code",
   "execution_count": 48,
   "id": "30de9fe5",
   "metadata": {},
   "outputs": [
    {
     "name": "stdout",
     "output_type": "stream",
     "text": [
      "True\n",
      "False\n"
     ]
    }
   ],
   "source": [
    "am_i_right = True\n",
    "is_this_hard = False\n",
    "\n",
    "print(am_i_right)\n",
    "print(is_this_hard)"
   ]
  },
  {
   "cell_type": "markdown",
   "id": "f931aab5",
   "metadata": {},
   "source": [
    "## Conditions"
   ]
  },
  {
   "cell_type": "markdown",
   "id": "4c976cd1",
   "metadata": {},
   "source": [
    "#### Single if-statements"
   ]
  },
  {
   "cell_type": "code",
   "execution_count": 49,
   "id": "d2a8795e",
   "metadata": {},
   "outputs": [
    {
     "name": "stdout",
     "output_type": "stream",
     "text": [
      "What a good day!\n",
      "Go on!\n",
      "Closing the shop!\n"
     ]
    }
   ],
   "source": [
    "# [Standard programm flow]\n",
    "revenue = 1000\n",
    "if revenue > 750:\n",
    "    print(\"What a good day!\")\n",
    "    print(\"Go on!\")\n",
    "print(\"Closing the shop!\")\n",
    "# [Standard programm proceeds]"
   ]
  },
  {
   "cell_type": "markdown",
   "id": "0d598916",
   "metadata": {},
   "source": [
    "#### if-else-statements"
   ]
  },
  {
   "cell_type": "code",
   "execution_count": 50,
   "id": "1dbd8e60",
   "metadata": {},
   "outputs": [
    {
     "name": "stdout",
     "output_type": "stream",
     "text": [
      "Alert, we should change somehting!\n"
     ]
    }
   ],
   "source": [
    "# [Standard programm flow]\n",
    "revenue = 1000\n",
    "if revenue > 1500:\n",
    "    print(\"What a good day!\")\n",
    "else:\n",
    "    print(\"Alert, we should change somehting!\")\n",
    "# [Standard programm proceeds]"
   ]
  },
  {
   "cell_type": "code",
   "execution_count": 51,
   "id": "b97b8733",
   "metadata": {},
   "outputs": [
    {
     "name": "stdout",
     "output_type": "stream",
     "text": [
      "We did okay\n"
     ]
    }
   ],
   "source": [
    "revenue = 867\n",
    "if revenue < 500:\n",
    "    print(\"Horrendous day\")\n",
    "elif revenue > 500 and revenue < 750:\n",
    "    print(\"Bad day\")\n",
    "elif revenue > 750 and revenue < 1000:\n",
    "    print(\"We did okay\")\n",
    "else:\n",
    "    print(\"We did great\")"
   ]
  },
  {
   "cell_type": "code",
   "execution_count": 52,
   "id": "31e1494f",
   "metadata": {},
   "outputs": [
    {
     "name": "stdout",
     "output_type": "stream",
     "text": [
      "Message:\n",
      "'Hello\n",
      "my mobile number is 01234\n",
      "greetings Lennart'\n",
      "achieved a politeness score of 2\n"
     ]
    }
   ],
   "source": [
    "text = \"Hello\\nmy mobile number is 01234\\ngreetings Lennart\"\n",
    "\n",
    "words = text.lower().split()\n",
    "\n",
    "politeness_score = 0\n",
    "if words[0] in [\"hello\", \"ciao\", ...]:\n",
    "    # If there is a greeting, increase politeness score\n",
    "    politeness_score += 1\n",
    "if words[-2] == \"greetings\":\n",
    "    # If there is a salute, also increase politeness score\n",
    "    politeness_score += 1\n",
    "if \"moron\" in words:\n",
    "    # If there is an insult, we set politeness score to zero..\n",
    "    politeness_score = 0\n",
    "\n",
    "print(f\"Message:\\n'{text}'\\nachieved a politeness score of {politeness_score}\")"
   ]
  },
  {
   "cell_type": "markdown",
   "id": "6363ea4d",
   "metadata": {},
   "source": [
    "## Loops"
   ]
  },
  {
   "cell_type": "markdown",
   "id": "79af32ef",
   "metadata": {},
   "source": [
    "#### for"
   ]
  },
  {
   "cell_type": "code",
   "execution_count": 53,
   "id": "cb8d91d3",
   "metadata": {},
   "outputs": [
    {
     "name": "stdout",
     "output_type": "stream",
     "text": [
      "[2]\n",
      "[2, 4]\n",
      "[2, 4, 6]\n"
     ]
    }
   ],
   "source": [
    "my_list = [1, 2, 3]\n",
    "my_new_list = []\n",
    "\n",
    "for elem in my_list:\n",
    "    new_element = elem * 2\n",
    "    my_new_list.append(new_element)\n",
    "\n",
    "    print(my_new_list)"
   ]
  },
  {
   "cell_type": "code",
   "execution_count": 54,
   "id": "830426e3",
   "metadata": {},
   "outputs": [
    {
     "name": "stdout",
     "output_type": "stream",
     "text": [
      "False\n",
      "False\n",
      "False\n",
      "False\n",
      "False\n",
      "False\n",
      "False\n",
      "False\n",
      "False\n",
      "False\n",
      "False\n",
      "False\n",
      "False\n",
      "False\n",
      "False\n",
      "True\n",
      "True\n",
      "True\n"
     ]
    }
   ],
   "source": [
    "for charachter in \"Mobile number: 123\":\n",
    "    print(charachter.isnumeric())"
   ]
  },
  {
   "cell_type": "code",
   "execution_count": 55,
   "id": "88a6637b",
   "metadata": {},
   "outputs": [
    {
     "name": "stdout",
     "output_type": "stream",
     "text": [
      "512\n"
     ]
    }
   ],
   "source": [
    "#repeting something n times\n",
    "x = 2\n",
    "for run in range(8):\n",
    "    x = x * 2\n",
    "\n",
    "print(x)"
   ]
  },
  {
   "cell_type": "markdown",
   "id": "e2e8f52e",
   "metadata": {},
   "source": [
    "#### While"
   ]
  },
  {
   "cell_type": "code",
   "execution_count": 56,
   "id": "9a649c1c",
   "metadata": {},
   "outputs": [
    {
     "name": "stdout",
     "output_type": "stream",
     "text": [
      "10\n",
      "9\n",
      "8\n",
      "7\n",
      "6\n",
      "5\n",
      "4\n",
      "3\n",
      "2\n",
      "1\n"
     ]
    }
   ],
   "source": [
    "x = 10\n",
    "while x > 0:\n",
    "    print(x)\n",
    "    x = x - 1"
   ]
  },
  {
   "cell_type": "markdown",
   "id": "2058c4a3",
   "metadata": {},
   "source": [
    "#### Breaking the loops"
   ]
  },
  {
   "cell_type": "code",
   "execution_count": 57,
   "id": "ec435c06",
   "metadata": {},
   "outputs": [
    {
     "name": "stdout",
     "output_type": "stream",
     "text": [
      "Do you want to keep on waiting for Godot? (y/n) y\n",
      "Do you want to keep on waiting for Godot? (y/n) n\n",
      "Maybe he'll come tomorrow!\n"
     ]
    }
   ],
   "source": [
    "from time import sleep\n",
    "for i in range(10):\n",
    "    sleep(1)\n",
    "    do_continue = input(\"Do you want to keep on waiting for Godot? (y/n) \")\n",
    "    if do_continue.lower() in (\"n\", \"no\"):\n",
    "        print(\"Maybe he'll come tomorrow!\")\n",
    "        break"
   ]
  },
  {
   "cell_type": "code",
   "execution_count": 58,
   "id": "8c505cbd",
   "metadata": {},
   "outputs": [
    {
     "name": "stdout",
     "output_type": "stream",
     "text": [
      "2\n"
     ]
    }
   ],
   "source": [
    "my_number = 1\n",
    "while True:\n",
    "    my_number += 1\n",
    "    if my_number >= 1:\n",
    "        break\n",
    "print(my_number)"
   ]
  },
  {
   "cell_type": "code",
   "execution_count": null,
   "id": "e4f7b318",
   "metadata": {},
   "outputs": [],
   "source": []
  }
 ],
 "metadata": {
  "kernelspec": {
   "display_name": "Python 3 (ipykernel)",
   "language": "python",
   "name": "python3"
  },
  "language_info": {
   "codemirror_mode": {
    "name": "ipython",
    "version": 3
   },
   "file_extension": ".py",
   "mimetype": "text/x-python",
   "name": "python",
   "nbconvert_exporter": "python",
   "pygments_lexer": "ipython3",
   "version": "3.9.7"
  }
 },
 "nbformat": 4,
 "nbformat_minor": 5
}
