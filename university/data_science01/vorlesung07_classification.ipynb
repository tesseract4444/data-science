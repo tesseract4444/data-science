{
 "cells": [
  {
   "cell_type": "markdown",
   "metadata": {
    "id": "wiv1_5RpqqUz"
   },
   "source": [
    "# Session 7: Supervised Machine Learning (classification) \n",
    "\n",
    "In this guide we will perform traditional text classification using sparse text representations (TF-IDF) vectors\n",
    "We will also examine image classification \n",
    "We will use the same set of models for both. \n",
    "\n",
    "### Data loading and preprocessing: text\n",
    "We will be loading a corpus of Amazon reviews **labeled** for sentiment (positive or negative)\n"
   ]
  },
  {
   "cell_type": "code",
   "execution_count": 1,
   "metadata": {
    "id": "V287rtqYqqU2",
    "outputId": "4a3c0013-1c28-4242-9eb7-384b7fe09bde"
   },
   "outputs": [
    {
     "name": "stdout",
     "output_type": "stream",
     "text": [
      "     label  score                                            content\n",
      "0      NEG    2.0   cons tips extremely easy on carpet and if you...\n",
      "1      NEG    1.0   It's a nice look, but it tips over very easil...\n",
      "2      NEG    1.0   I have bought and returned three of these uni...\n",
      "3      NEG    1.0   I knew these were inexpensive CD cases, but I...\n",
      "4      NEG    2.0   I used a 25 pack of these doing DVD backups, ...\n",
      "...    ...    ...                                                ...\n",
      "1795   POS    5.0   I just recieved my HDMI cable and am very imp...\n",
      "1796   POS    5.0   This is the perfect keyboard ( I know cuz I a...\n",
      "1797   POS    5.0   SanDisk has done it again. They never seem to...\n",
      "1798   POS    5.0   Fast shipping, Very happy with the GARMIN. Th...\n",
      "1799   POS    5.0   The SanDisk 1GB Micro SD Card arrived quickly...\n",
      "\n",
      "[1800 rows x 3 columns]\n"
     ]
    }
   ],
   "source": [
    "# importing the Python's Pandas library for data loading and manipulation\n",
    "import pandas as pd\n",
    "\n",
    "# Step #1: loading our annotated reviews\n",
    "train_data = pd.read_csv('reviews_train.csv', delimiter = '\\t') # in our file, the values are actually TAB-separated\n",
    "eval_data = pd.read_csv('reviews_test.csv', delimiter = '\\t')\n",
    "\n",
    "# let's see what our data actually looks like\n",
    "print(train_data)\n",
    "#print(train_data.count()) #note: size training\n",
    "#print(eval_data.count()) #note: size eval"
   ]
  },
  {
   "cell_type": "markdown",
   "metadata": {},
   "source": [
    "\n",
    " **SpaCy** (https://spacy.io/) is a library that offers a lot of functionality for text processing and many pretrained NLP models: \n",
    " - tokenization\n",
    " - POS-tagging \n",
    " - Syntactic parsing\n",
    " - Named entity recognition, \n",
    " - and many more..."
   ]
  },
  {
   "cell_type": "code",
   "execution_count": 2,
   "metadata": {
    "id": "ceAe_gRqqqU4",
    "outputId": "0c5940c9-fb1f-4221-9bef-ff72fcc62ec3"
   },
   "outputs": [
    {
     "name": "stdout",
     "output_type": "stream",
     "text": [
      "{'should', \"aren't\", 'against', 'have', 'while', \"you're\", 'with', 'not', \"you'd\", \"we're\", 'and', 'else', 'did', \"it's\", 'by', 'just', '!', 'between', 'http', \"we'd\", 'too', 'as', \"isn't\", \"i'll\", \"he'll\", 'further', 'i', 'no', 'again', 'ever', 'him', 'those', 'where', 'above', 'since', \"doesn't\", ';', 'before', 'doing', 'get', \"wasn't\", 'himself', 'there', 'cannot', \"hadn't\", 'until', 'you', 'then', 'r', \"they'll\", 'in', 'few', \"don't\", 'most', 'their', 'your', 'nor', 'on', 'does', 'otherwise', 'which', 'was', 'her', 'some', \"who's\", 'themselves', 'they', 'www', 'having', \"i've\", \"when's\", 'could', 'been', \"how's\", 'through', \"he's\", 'very', 'them', \"you've\", 'yourself', 'after', 'so', 'these', 'under', 'up', \"wouldn't\", 'k', 'yourselves', 'more', 'any', 'is', 'how', 'he', \"they'd\", \"shan't\", 'hers', '.', \"that's\", \"he'd\", \"let's\", '(', 'at', 'who', 'myself', 'for', 'hence', 'therefore', 'theirs', 'each', 'herself', 'itself', 'to', '?', 'shall', 'what', 'can', \"you'll\", 'do', \"i'm\", ':', \"we'll\", ')', 'down', 'during', 'me', 'whom', 'were', \"won't\", 'all', 'ought', 'the', '\"', 'than', 'ours', 'when', 'she', 'however', 'my', 'but', 'about', 'same', \"i'd\", \"weren't\", 'am', 'ourselves', 'yours', \"there's\", \"she'd\", 'its', \"what's\", \"where's\", 'would', 'our', 'from', \"hasn't\", ',', \"shouldn't\", 'be', \"we've\", 'being', \"why's\", 'only', 'if', 'both', 'that', 'com', \"'\", 'like', \"here's\", 'we', 'such', 'his', \"couldn't\", 'out', 'into', \"she'll\", 'has', 'a', 'had', \"haven't\", \"mustn't\", 'below', 'an', 'it', 'or', \"they've\", \"can't\", 'off', 'are', 'here', \"she's\", 'this', 'of', 'why', 'over', 'because', \"didn't\", \"they're\", 'other', 'also', 'once', 'own'}\n"
     ]
    }
   ],
   "source": [
    "# let us preprocess (tokenize and lemmatize) the texts\n",
    "# install spacy with pip or conda, e.g., pip install spacy\n",
    "import spacy\n",
    "\n",
    "# wordcloud library displays texts as word clouds, based on word frequency statistics\n",
    "import wordcloud\n",
    "\n",
    "# wordcloud has its own list of STOPWORDS\n",
    "from wordcloud import STOPWORDS\n",
    "\n",
    "# removing the repetitions if there are any, converting the list to set\n",
    "stopwords = set(list(STOPWORDS) + ['.', \"?\", \"!\", \",\", \"(\", \")\", \":\", \";\", \"\\\"\", \"'\"])\n",
    "print(stopwords)\n",
    "\n"
   ]
  },
  {
   "cell_type": "markdown",
   "metadata": {},
   "source": [
    "When we preprocess text for text classification, we often: \n",
    "- Remove stopwords (like \"a\", \"the\", \"of\", \"in\", \"and\")\n",
    "- Lemmatize words (reduce different forms of the same word to a common form: houses -> house)\n"
   ]
  },
  {
   "cell_type": "code",
   "execution_count": 3,
   "metadata": {},
   "outputs": [
    {
     "data": {
      "text/html": [
       "<div>\n",
       "<style scoped>\n",
       "    .dataframe tbody tr th:only-of-type {\n",
       "        vertical-align: middle;\n",
       "    }\n",
       "\n",
       "    .dataframe tbody tr th {\n",
       "        vertical-align: top;\n",
       "    }\n",
       "\n",
       "    .dataframe thead th {\n",
       "        text-align: right;\n",
       "    }\n",
       "</style>\n",
       "<table border=\"1\" class=\"dataframe\">\n",
       "  <thead>\n",
       "    <tr style=\"text-align: right;\">\n",
       "      <th></th>\n",
       "      <th>label</th>\n",
       "      <th>score</th>\n",
       "      <th>content</th>\n",
       "      <th>tokens</th>\n",
       "    </tr>\n",
       "  </thead>\n",
       "  <tbody>\n",
       "    <tr>\n",
       "      <th>0</th>\n",
       "      <td>NEG</td>\n",
       "      <td>2.0</td>\n",
       "      <td>cons tips extremely easy on carpet and if you...</td>\n",
       "      <td>[con, tip, extremely, easy, carpet, lot, cd, s...</td>\n",
       "    </tr>\n",
       "    <tr>\n",
       "      <th>1</th>\n",
       "      <td>NEG</td>\n",
       "      <td>1.0</td>\n",
       "      <td>It's a nice look, but it tips over very easil...</td>\n",
       "      <td>[be, nice, look, tip, easily, steady, rug, sur...</td>\n",
       "    </tr>\n",
       "    <tr>\n",
       "      <th>2</th>\n",
       "      <td>NEG</td>\n",
       "      <td>1.0</td>\n",
       "      <td>I have bought and returned three of these uni...</td>\n",
       "      <td>[buy, return, three, unit, now, one, defective...</td>\n",
       "    </tr>\n",
       "    <tr>\n",
       "      <th>3</th>\n",
       "      <td>NEG</td>\n",
       "      <td>1.0</td>\n",
       "      <td>I knew these were inexpensive CD cases, but I...</td>\n",
       "      <td>[know, inexpensive, cd, case, can, not, even, ...</td>\n",
       "    </tr>\n",
       "    <tr>\n",
       "      <th>4</th>\n",
       "      <td>NEG</td>\n",
       "      <td>2.0</td>\n",
       "      <td>I used a 25 pack of these doing DVD backups, ...</td>\n",
       "      <td>[use, 25, pack, dvd, backup, last, 5, failed, ...</td>\n",
       "    </tr>\n",
       "    <tr>\n",
       "      <th>...</th>\n",
       "      <td>...</td>\n",
       "      <td>...</td>\n",
       "      <td>...</td>\n",
       "      <td>...</td>\n",
       "    </tr>\n",
       "    <tr>\n",
       "      <th>1795</th>\n",
       "      <td>POS</td>\n",
       "      <td>5.0</td>\n",
       "      <td>I just recieved my HDMI cable and am very imp...</td>\n",
       "      <td>[recieve, hdmi, cable, impressed, price, $, 5,...</td>\n",
       "    </tr>\n",
       "    <tr>\n",
       "      <th>1796</th>\n",
       "      <td>POS</td>\n",
       "      <td>5.0</td>\n",
       "      <td>This is the perfect keyboard ( I know cuz I a...</td>\n",
       "      <td>[perfect, keyboard, know, cuz, type, right, no...</td>\n",
       "    </tr>\n",
       "    <tr>\n",
       "      <th>1797</th>\n",
       "      <td>POS</td>\n",
       "      <td>5.0</td>\n",
       "      <td>SanDisk has done it again. They never seem to...</td>\n",
       "      <td>[sandisk, do, never, seem, let, product, marke...</td>\n",
       "    </tr>\n",
       "    <tr>\n",
       "      <th>1798</th>\n",
       "      <td>POS</td>\n",
       "      <td>5.0</td>\n",
       "      <td>Fast shipping, Very happy with the GARMIN. Th...</td>\n",
       "      <td>[fast, shipping, happy, garmin, tech, support,...</td>\n",
       "    </tr>\n",
       "    <tr>\n",
       "      <th>1799</th>\n",
       "      <td>POS</td>\n",
       "      <td>5.0</td>\n",
       "      <td>The SanDisk 1GB Micro SD Card arrived quickly...</td>\n",
       "      <td>[sandisk, 1, gb, micro, sd, card, arrive, quic...</td>\n",
       "    </tr>\n",
       "  </tbody>\n",
       "</table>\n",
       "<p>1800 rows × 4 columns</p>\n",
       "</div>"
      ],
      "text/plain": [
       "     label  score                                            content  \\\n",
       "0      NEG    2.0   cons tips extremely easy on carpet and if you...   \n",
       "1      NEG    1.0   It's a nice look, but it tips over very easil...   \n",
       "2      NEG    1.0   I have bought and returned three of these uni...   \n",
       "3      NEG    1.0   I knew these were inexpensive CD cases, but I...   \n",
       "4      NEG    2.0   I used a 25 pack of these doing DVD backups, ...   \n",
       "...    ...    ...                                                ...   \n",
       "1795   POS    5.0   I just recieved my HDMI cable and am very imp...   \n",
       "1796   POS    5.0   This is the perfect keyboard ( I know cuz I a...   \n",
       "1797   POS    5.0   SanDisk has done it again. They never seem to...   \n",
       "1798   POS    5.0   Fast shipping, Very happy with the GARMIN. Th...   \n",
       "1799   POS    5.0   The SanDisk 1GB Micro SD Card arrived quickly...   \n",
       "\n",
       "                                                 tokens  \n",
       "0     [con, tip, extremely, easy, carpet, lot, cd, s...  \n",
       "1     [be, nice, look, tip, easily, steady, rug, sur...  \n",
       "2     [buy, return, three, unit, now, one, defective...  \n",
       "3     [know, inexpensive, cd, case, can, not, even, ...  \n",
       "4     [use, 25, pack, dvd, backup, last, 5, failed, ...  \n",
       "...                                                 ...  \n",
       "1795  [recieve, hdmi, cable, impressed, price, $, 5,...  \n",
       "1796  [perfect, keyboard, know, cuz, type, right, no...  \n",
       "1797  [sandisk, do, never, seem, let, product, marke...  \n",
       "1798  [fast, shipping, happy, garmin, tech, support,...  \n",
       "1799  [sandisk, 1, gb, micro, sd, card, arrive, quic...  \n",
       "\n",
       "[1800 rows x 4 columns]"
      ]
     },
     "execution_count": 3,
     "metadata": {},
     "output_type": "execute_result"
    }
   ],
   "source": [
    "# The model we want to load needs to be first downloaded: \n",
    "# in command line: python -m spacy download en_core_web_sm\n",
    "# load the spacy models for English\n",
    "nlp = spacy.load(\"en_core_web_sm\") #download module first\n",
    "\n",
    "train_data[\"tokens\"] = train_data.content.apply(lambda x: [t.lemma_.lower() for t in nlp(x, disable=[\"parser\", \"ner\"]) if (t.text.strip() != \"\" and (t.text.lower() not in stopwords))]) #lemma reduces word case to nominative\n",
    "eval_data[\"tokens\"] = eval_data.content.apply(lambda x: [t.lemma_.lower() for t in nlp(x, disable=[\"parser\", \"ner\"]) if (t.text.strip() != \"\" and (t.text.lower() not in stopwords))])\n",
    "\n",
    "train_data\n",
    "#doesnt work: remove tagger in line 6 and 7 -> ex: disable=[\"tagger\", \"parser\", \""
   ]
  },
  {
   "cell_type": "markdown",
   "metadata": {
    "id": "ZP6FYCS0qqU4"
   },
   "source": [
    "## Traditional text classification \n",
    "\n",
    "### Converting texts into TF-IDF sparse vectors\n",
    "\n",
    "- To this end we will use the existing functionality (TF-IDF vectorizer) from the Scikit-Learn library\n",
    "- One could alternatively also use the CountVectorizer (as we did for in Session 6)\n",
    "\n",
    "We have already seen the Scikit-Learn library in Python the last time. It offers many machine learning (but also text processing) methods, models, and tools that can be used out of the box with a very consistent and uniform API (same functions, like fit, transform, fit_transform, ...)"
   ]
  },
  {
   "cell_type": "code",
   "execution_count": 4,
   "metadata": {
    "id": "OkSZAD2oqqU5",
    "outputId": "47711504-d1f4-43b7-b749-13f989cd8f3c",
    "scrolled": true
   },
   "outputs": [
    {
     "name": "stdout",
     "output_type": "stream",
     "text": [
      "{'con': 2105, 'tip': 8176, 'extremely': 3334, 'easy': 2987, 'carpet': 1763, 'lot': 5007, 'cd': 1798, 'stack': 7637, 'top': 8210, 'poorly': 6230, 'design': 2590, 'vertical': 8703, 'rack': 6559, 'not': 5649, 'individual': 4396, 'slot': 7431, 'want': 8823, 'bottom': 1541, 'basically': 1329, 'pull': 6468, 'whole': 8937, 'put': 6488, 'together': 8193, 'pain': 5943, 'one': 5780, 'buy': 1658, 'break': 1563, 'piece': 6135, 'metal': 5248, 'fit': 3509, 'guide': 3937, 'hole': 4140, '..': 69, '...': 70, 'even': 3206, 'well': 8902, 'gap': 3757, 'casse': 1781, 'loose': 4998, 'fitting': 3511, 'pro': 6357, '..........': 77, 'guess': 3935, 'hold': 4138, '....': 71, 'be': 1347, 'nice': 5603, 'look': 4993, 'easily': 2984, 'steady': 7674, 'rug': 7010, 'surface': 7875, 'dispite': 2744, 'picture': 6132, 'box': 1547, 'show': 7315, 'advice': 848, 'need': 5550, \"'s\": 10, 'save': 7094, 'money': 5390, 'invest': 4554, 'something': 7503, 'sturdy': 7768, 'return': 6897, 'three': 8126, 'unit': 8501, 'now': 5673, 'defective': 2521, 'finally': 3480, 'give': 3825, 'system': 7933, 'dvd': 2919, 'player': 6182, 'constantly': 2183, 'bad': 1300, 'disc': 2706, 'error': 3169, 'skip': 7397, 'slight': 7419, 'smudge': 7456, 'sound': 7528, 'quality': 6509, 'price': 6335, 'work': 9029, 'essentially': 3184, 'useless': 8606, 'complete': 2080, 'rip': 6952, '-': 18, 'point': 6216, 'know': 4750, 'inexpensive': 4404, 'case': 1776, 'can': 1719, 'open': 5798, 'without': 8997, 'two': 8380, 'use': 8600, '25': 336, 'pack': 5931, 'backup': 1296, 'last': 4815, '5': 479, 'failed': 3373, 'think': 8108, 'software': 7478, 'get': 3802, 'new': 5586, 'first': 3506, 'package': 5932, 'fail': 3372, 'burner': 1641, 'another': 1042, 'reviewer': 6911, 'suggest': 7824, 'imply': 4323, 'people': 6050, 'learn': 4852, 'read': 6611, 'brand': 1559, 'require': 6831, 'firmware': 3504, 'upgrade': 8566, 'mention': 5229, 'suck': 7810, 'high': 4101, 'failure': 3375, 'rate': 6589, 'consensus': 2163, 'seem': 7185, 'tdk': 8008, 'sony': 7512, 'good': 3850, 'frustration': 3683, 'compusa': 2101, 'order': 5828, 'online': 5786, 'wate': 8859, 'buck': 1610, 'burn': 1640, 'much': 5462, 'bang': 1315, 'many': 5128, 'never': 5582, 'memorex': 5225, 'usually': 8614, 'verbatim': 8689, 'ridata': 6932, 'mam': 5106, 'disgruntled': 2732, 'make': 5099, 'coaster': 1982, 'maybe': 5181, 'whatever': 8914, 'will': 8956, 'product': 6381, 'successfully': 7806, 'movie': 5438, 'excellent': 3243, 'problem': 6364, 'every': 3215, '3': 368, 'plextor': 6195, 'love': 5016, 'go': 3843, 'try': 8340, 'luck': 5035, 'different': 2657, 'unacceptable': 8417, 'less': 4882, 'cost': 2267, 'bother': 1539, 'time': 8163, 'waste': 8856, 'hope': 4159, 'live': 4958, 'crap': 2311, 'late': 4820, 'opinion': 5808, 'liteon': 4952, 'sohw-802s': 7483, 'hate': 4020, 'rarely': 6587, 'decent': 2500, 'often': 5755, 'discover': 2723, 'watch': 8858, 'horrid': 4169, 'stutter': 7769, 'stop': 7711, 'disappointing': 2702, 'unfortunately': 8483, 'find': 3482, 'cmc': 1972, 'medium': 5212, '0': 100, '50': 489, '%': 7, 'success': 7804, '[': 678, 'review': 6909, 'machine': 5064, 'clear': 1932, 'lexar': 4891, 'serious': 7234, 'control': 2217, 'other': 5847, 'miserable': 5335, 'latter': 4826, 'group': 3917, 'sigh': 7336, 'mine': 5308, 'dead': 2481, 'arrival': 1134, 'device': 2623, '*': 13, 'windows': 8972, 'xp': 9098, 'unrecognize': 8533, 'tech': 8013, 'support': 7858, 'subsequently': 7792, 'prove': 6439, 'contradiction': 2211, 'term': 8055, 'email': 3060, 'request': 6829, 'help': 4080, 'cash': 1779, 'back': 1282, 'offer': 5746, 'true': 8332, 'sure': 7872, 'enough': 3122, 'reject': 6756, 'upc': 8561, 'keep': 4705, 'copy': 2246, 'hound': 4181, 'contact': 2193, 'business': 1647, 'bureau': 1638, 'say': 7099, 'whoop': 8938, 'mistake': 5350, 'fleeting': 3546, 'suspicion': 7893, 'intentional': 4490, 'please': 6189, 'expect': 3282, 'purchase': 6475, 'promise': 6411, 'date': 2457, \"'ve\": 11, 'deny': 2568, 'twice': 8376, 'second': 7172, 'u': 8393, 'p': 5920, 'c': 1668, 'number': 5689, 'invalid': 4546, 'original': 5838, 'barcode': 1320, 'meticulous': 5254, 'file': 3468, 'paperwork': 5972, 'yet': 9122, 'state': 7659, 'submit': 7788, 'meanwhile': 5199, 'phone': 6104, 'amaz0n': 982, 'lodge': 4974, 'formal': 3614, 'complaint': 2077, 'average': 1251, 'definitely': 2530, 'worth': 9047, 'full': 3693, 'asking': 1155, 'free': 3650, 'lunch': 5041, '&': 8, 'pay': 6024, 'verdict': 8691, 'poor': 6228, 'rating': 6591, 'discourage': 2721, 'binder': 1438, 'logic': 4980, 'pricey': 6337, 'low': 5019, 'alternative': 973, 'expense': 3289, 'tco': 8004, 'total': 8217, 'ownership': 5915, 'flap': 3526, 'customer': 2401, 'service': 7240, 'rebate': 6639, 'zipper': 9152, 'sleeve': 7414, 'bind': 1437, 'pause': 6020, '.....': 72, 'someone': 7500, 'xtreme': 9105, 'management': 5111, 'attention': 1202, 'fix': 3513, 'content': 2199, 'lose': 5004, 'everything': 3220, 'everyone': 3219, 'markt': 5151, 'collection': 2007, '1500': 223, 'disk': 2738, '/': 97, 'year': 9118, 'avoid': 1253, 'month': 5401, 'ago': 883, 'dx4330': 2938, 'kodak': 4753, '3mp': 424, 'digital': 2668, 'camera': 1714, '2': 286, 'day': 2464, 'everytime': 3222, 'reformat': 6724, 'card': 1748, 'wth': 9075, 'always': 979, 'confidence': 2130, 'previous': 6331, 'amazon': 987, 'throw': 8135, 'away': 1259, 'shipping': 7294, 'test': 8063, 'ok.i': 5764, 'long': 4990, 'needless': 5553, 'confident': 2131, 'buyer': 1660, 'beware': 1418, 'game': 3751, 'pad': 5935, 'due': 2894, '$': 6, '15': 217, 'build': 1622, 'pretty': 6326, 'comfortable': 2028, 'hand': 3973, 'programming': 6399, 'alright': 964, 'nostromo': 5648, 'n50/52': 5506, 'example': 3237, 'relavant': 6763, 'firstly': 3507, 'toggle': 8194, 'lock': 4970, 'shift': 7288, 'button': 1655, 'press': 6321, 'accident': 743, 'momentary': 5386, 'agian': 882, 'interupte': 4523, 'play': 6177, '7': 563, '8': 606, 'paddle': 5939, 'rather': 6590, 'thumb': 8139, 'quite': 6533, 'far': 3397, 'normal': 5641, 'hard': 3996, 'quickly': 6522, 'map': 5129, 'limit': 4928, '10': 139, 'reason': 6633, 'way': 8869, 'invoke': 4560, 'fight': 3465, 'nhl06': 5598, 'ship': 7291, 'ill': 4287, 'soon': 7516, 'logitech': 4984, 'thing': 8106, 'hour': 4182, 'row': 6997, 'spend': 7578, 'several': 7252, 'hardware': 4002, 'express': 3313, 'endless': 3099, 'old': 5766, 'story': 7720, 'must': 5485, 'computer': 2103, 'fly': 3576, 'either': 3030, 'media': 5207, 'type': 8386, 'exceed': 3239, 'requirement': 6833, 'advertise': 844, 'ads': 834, 'exchange': 3254, 'item': 4610, 'supposedly': 7861, 'check': 1870, 'tell': 8035, 'person': 6081, 'trouble': 8322, 'website': 8884, 'hundred': 4223, 'ulead': 8405, 'factory': 3369, 'come': 2024, 'bundle': 1636, 'uleads': 8406, 'cap': 1736, 'wiz': 9001, 'program': 6396, 'duh': 2897, 'final': 3478, 'solution': 7493, 'version': 8701, 'might': 5287, 'aggravation': 879, 'p.s.': 5923, 'consider': 2169, 'refund': 6729, 'allow': 945, 'trade': 8247, 'star': 7652, 'ju': 4672, 'sd': 7148, 'nikon': 5611, 'coolpix': 2240, 's6': 7042, 'fuji': 3689, 'sandisk': 7072, 'novi': 5671, 'replace': 6810, 'absolutely': 720, 'range': 6580, 'channel': 1846, 'distance': 2756, 'approx': 1106, '110': 170, 'ft': 3687, 'house': 4183, 'barn': 1324, 'room': 6984, 'attempt': 1200, 'currently': 2389, 'four': 3630, 'immediately': 4308, 'third': 8113, 'horrible': 4167, 'search': 7163, 'internet': 4515, 'variety': 8660, 'similar': 7353, 'settle': 7246, '900': 645, 'megahertz': 5217, 'wireless': 8988, 'intercom': 4496, 'radio': 6562, 'shack': 7260, '43': 448, '3102': 385, 'beautiful': 1360, 'half': 3965, 'reporter': 6818, 'featue': 3431, 'claim': 1916, '300': 379, 'foot': 3596, 'oppose': 5814, '1000': 150, 'warranty': 8841, 'extend': 3315, 'warrarnty': 8843, 'anyway': 1072, 'happy': 3994, 'rs': 7003, 'recommend': 6685, '4': 428, 'arrive': 1135, 'faulty': 3417, 'battery': 1342, 'pleased': 6190, 'wear': 8879, 'couple': 2284, 'ther': 8095, 'charge': 1851, 'recharge': 6666, 'per': 6052, 'instruction': 4465, 'monster': 5399, 'little': 4955, 'disappointed': 2701, 'jnr': 4650, 'power': 6272, 'detect': 2611, 'multiple': 5472, 'may': 5179, 'lemon': 4873, 'bookstand': 1518, 'despite': 2600, 'description': 2583, 'suitable': 7828, 'heavy': 4068, 'book': 1513, 'stand': 7646, 'prop': 6420, 'likely': 4923, 'snap': 7457, 'flimsy': 3557, 'plastic': 6171, 'part': 5987, 'afraid': 865, 'ten': 8046, 'minute': 5327, 'fall': 3381, 'importantly': 4327, 'handle': 3977, 'large': 4809, 'manual': 5120, 'particular': 5989, 'holder': 4139, 'page': 5940, 'happen': 3990, 'middle': 5281, 'chapter': 1847, 'base': 1325, 'estimate': 3191, 'totally': 8218, 'worthless': 9048, 'anyone': 1068, 'training': 8254, 'five': 3512, 'six': 7382, 'anticipate': 1055, 'big': 1428, 'glue': 3840, 'rubber': 7005, 'eye': 3335, 'retainer': 6888, 'ok': 5763, 'policy': 6221, 'see': 7183, 'rid': 6931, 'hunk': 4225, 'send': 7205, 'dependability': 2571, 'questionable': 6518, 'memory': 5226, 'list': 4944, 'accessory': 742, 'receive': 6655, 'disappoint': 2700, 'wrong': 9069, 'shape': 7269, 'size': 7386, 'unable': 8416, 'fact': 3367, 'company': 2051, 'response': 6865, 'extra': 3329, 'start': 7656, 'report': 6817, 'week': 8889, 'counting': 2280, 'still': 7702, 'astonish': 1173, 'n.e.w.': 5504, 'ask': 1154, 'shame': 7268, 'embarrassment': 3066, 'rep': 6801, 'inform': 4414, 'take': 7973, 'least': 4856, 'warrantied': 8839, 'pre': 6292, 'label': 4771, 'instead': 4460, 'printer': 6346, 'cover': 2290, 'word': 9028, 'replacement': 6812, 'possibly': 6257, 'eight': 3027, 'cancel': 1724, 'contract': 2209, 'really': 6625, 'math': 5166, 'grado': 3866, 'sennheiser': 7208, 'koss': 4756, 'stay': 7671, 'feeling': 3442, 'simple': 7356, 'wish': 8993, 'die': 2654, '13': 202, '30': 377, 'outside': 5870, 'warrantly': 8840, 'apple': 1094, 'sorry': 7525, 'tough': 8225, 'figure': 3467, 'ipod': 4572, 'within': 8996, 'period': 6067, 'becuase': 1366, 'store': 7717, 'course': 2287, 'past': 6007, '12': 182, 'track': 8242, 'substnatial': 7798, 'investment': 4557, 'fantastic': 3392, 'cause': 1793, 'would': 9051, 'fan': 3388, 'cfii': 1832, 'datum': 2459, 'write': 9065, 'girlfriend': 3823, 'pix': 6153, 'care': 1753, 'ziplock': 9151, 'none': 5630, 'removal': 6792, 'image': 4300, 'age': 874, 'upset': 8575, 'chance': 1841, 'great': 3893, 'grand': 3877, 'mother': 5417, 'actual': 789, 'right': 6942, 'important': 4326, 'frederic': 3649, 'ups': 8574, 'plug': 6200, 'shutdown': 7323, 'outage': 5855, 'set': 7243, '1': 110, 'small': 7438, 'attach': 1193, 'cut': 2406, 'shut': 7322, 'restore': 6877, 'beep': 1373, 'click': 1939, 'temporarily': 8041, 'dropped': 2868, 'reboot': 6641, 'switch': 7915, 'interrupt': 4518, 'drop': 2866, 'cable': 1688, 'modem': 5369, 'broadband': 1588, 'connection': 2157, 'aps': 1110, 'lightning': 4918, 'hit': 4124, 'near': 5535, 'motherboard': 5418, 'plus': 6203, 'router': 6993, 'fry': 3684, 'intact': 4472, 'backend': 1284, 'surge': 7877, 'damage': 2437, 'though': 8120, 'hurt': 4230, 'await': 1257, 'resolution': 6857, 'drive': 2860, 'writing': 9068, 'verification': 8692, 'proboem': 6370, 'arise': 1123, 'external': 3326, 'firewire': 3501, 'enclosure': 3088, 'fine': 3484, 'internal': 4511, 'ide': 4260, 'bus': 1644, 'issue': 4604, 'import': 4324, 'drai': 2843, 'end': 3098, 'december': 2499, 'quick': 6520, 'run': 7017, 'yesterday': 9121, 'equivalent': 3157, 'lockjaw': 4972, 'tray': 8287, 'release': 6765, 'operate': 5803, 'probably': 6362, 'next': 5595, 'recommendation': 6686, 'depend': 2570, 'inconvenient': 4371, 'needed': 5551, 'job': 4651, 'do': 2785, 'previously': 6333, 'develop': 2621, 'strategy': 7731, 'handy': 3983, 'seething': 7187, 'hair': 3963, 'rage': 6566, '100': 148, 'reliable': 6768, 'risk': 6954, 'travel': 8280, 'completely': 2081, 'anything': 1069, 'rubbish': 7007, 'walmart': 8818, 'remove': 6793, 'scuff': 7147, '-100': 41, 'line': 4931, 'noticeably': 5663, 'although': 974, '6': 522, 'changer': 1844, 'perhaps': 6066, 'lease': 4854, 'durable': 2908, '40': 436, 'light': 4913, 'reassuring': 6637, 'lead': 4845, 'gold': 3848, 'refuse': 6733, 'xd': 9092, 'erase': 3163, 'photo': 6112, 'irreplaceable': 4586, 'cheap': 1860, 'yes': 9120, 'junk': 4684, 'keyboard': 4716, 'minor': 5322, 'spill': 7581, 'destroy': 2603, 'include': 4361, 'clean': 1927, 'apart': 1078, 'dry': 2878, 'self': 7196, 'destruct': 2604, 'count': 2276, 'screw': 7142, 'call': 1706, 'dell': 2550, 'nobody': 5619, 'retail': 6885, 'street': 7738, 'competition': 2073, 'retirement': 6889, 'anylonger': 1066, 'positive': 6251, 'upon': 8570, 'dreaded': 2854, 'unplug': 8522, 'protect': 6431, 'screen': 7141, 'turn': 8361, 'moment': 5384, 'mode': 5367, 'short': 7306, 'wire': 8986, 'overheating': 5891, 'stone': 7708, 'cold': 2003, 'speaker': 7554, 'option': 5822, 'unhook': 8488, 'repack': 6802, 'exactly': 3234, 'reship': 6850, 'enormous': 3121, 'hastle': 4018, 'receiver': 6657, 'authorized': 1231, 'center': 1815, 'across': 778, 'town': 8238, 'monday': 5388, 'friday': 3668, '9': 639, '5pm': 518, 'convenient': 2221, 'already': 963, 'repair': 6804, 'video': 8716, 'input': 4439, 'audio': 1218, 'doornail': 2810, 'came': 1712, 'forever': 3609, 'load': 4963, 'hdmi': 4040, 'user': 8608, 'television': 8034, 'crappy': 2313, 'god': 3845, '2nd': 366, 'generation': 3783, 'shuffle': 7320, 'accord': 755, 'derable': 2581, 'orange': 5825, 'green': 3897, 'flash': 3528, 'death': 2492, 'space': 7542, 'un': 8414, 'recoverable': 6699, 'pitch': 6150, 'extensive': 3320, 'revive': 6919, 'apparently': 1089, 'like': 4922, 'hush': 4232, 'suffer': 7819, 'blink': 1472, 'salesman': 7058, 'sign': 7338, 'appointment': 1099, 'genius': 3787, 'bar': 1318, 'engineering': 3111, 'whether': 8922, 'involve': 4561, 'understand': 8455, 'appear': 1092, 'trendy': 8300, 'haircut': 3964, 'discount': 2720, 'answer': 1046, 'question': 6517, 'retitle': 6890, 'idiot': 4267, 'extendable': 3316, 'arm': 1125, 'wait': 8801, 'consumer': 2190, 'usb': 8596, 'i.e.': 4243, '512': 500, 'mb': 5184, 'mini': 5310, '256': 342, 'performance': 6063, 'wise': 8992, 'delete': 2542, 'doubt': 2821, 'micro': 5269, 'capacity': 1740, 'plan': 6163, 'gb': 3769, 'writer': 9066, 'personal': 6083, '200': 305, 'dvd+r': 2922, 'philips': 6099, 'flaw': 3538, 'playback': 6179, 'flawless': 3540, 'overall': 5876, 'recorder': 6695, 'moderate': 5371, 'inconvenience': 4370, 'record': 6691, 'finalize': 3479, 'unexplained': 8474, 'irrelevant': 4585, 'waist': 8798, 'june': 4683, '17': 241, '2006': 312, 'specific': 7563, 'panasonic': 5958, 'dmr': 2781, 'e55': 2959, 'able': 710, 'ram': 6575, 'es10s': 3171, 'recently': 6660, 'begin': 1379, 'noise': 5622, 'occasionally': 5726, 'eject': 3032, 'today': 8189, 'especially': 3179, 'follow': 3588, 'strange': 7728, 'hear': 4057, 'actually': 791, '--': 20, 'post': 6258, 'result': 6881, 'update': 8565, 'november': 5670, 'letter': 4888, 'authorize': 1230, 'labor': 4774, 'place': 6159, 'home': 4145, 'research': 6839, 'choose': 1890, 'bring': 1586, 'entire': 3131, 'mechanism': 5206, 'mean': 5195, 'shop': 7302, 'july': 4678, 'beginning': 1382, 'fundamentally': 3705, 'effort': 3020, 'model': 5368, 'difficulty': 2664, 'continue': 2204, '90': 644, 'steadily': 7673, 'decline': 2506, 'ihome': 4283, 'song': 7510, 'anymore': 1067, 'static': 7662, 'christmas': 1894, 'spite': 7587, 'glaring': 3833, 'bright': 1581, 'setting': 7245, 'block': 1476, 'sleep': 7413, 'awhile': 1268, 'register': 6741, 'ipods': 4573, 'existence': 3270, 'enjoy': 3118, 'thirty': 8115, 'disgrace': 2731, 'become': 1364, 'nothing': 5658, 'nuisance': 5685, 'pick': 6126, 'station': 7664, 'alarm': 920, 'vaguely': 8646, 'annoying': 1036, 'function': 3699, 'disabled': 2695, 'almost': 950, 'display': 2745, 'white': 8933, 'violet': 8734, 'visibility': 8742, 'clock': 1950, 'husband': 4231, 'dark': 2448, 'asleep': 1156, 'sweater': 7903, 'towel': 8235, 'feature': 3432, 'satisfied': 7087, 'interface': 4504, 'intuitive': 4540, 'override': 5902, 'docking': 2789, 'port': 6239, 'construct': 2185, 'walk': 8807, 'table': 7962, 'sit': 7376, 'recognize': 6678, 'reliably': 6769, 'justify': 4689, 'mistakenly': 5352, 'believe': 1394, 'hype': 4235, 'kill': 4730, 'emit': 3074, 'stoppable(i.e': 7713, 'shriek': 7319, 'smart': 7439, 'talented': 7975, 'idiotically': 4268, 'convince': 2232, 'ear': 2964, 'pierce': 6136, 'defeat': 2519, 'silence': 7344, 'addition': 803, 'prevent': 6328, 'stoppable': 7712, 'a.m.': 687, 'apc': 1080, 'deliterious': 2547, 'matter': 5170, 'let': 4887, 'us': 8590, 'honest': 4151, 'decide': 2502, 'cpenusa.com': 2298, 'delivery': 2549, 'pen': 6045, 'connector': 2159, 'connect': 2154, 'pc': 6029, 'main': 5091, 'office': 5748, 'sweden': 7907, 'e': 2943, 'mail': 5090, 'cpenusa': 2297, \"great(i'll\": 3894, 'them': 8091, 'interested': 4500, 'electronic': 3042, 'equipment': 3155, 'ahead': 888, 'trust': 8334, 'respect': 6862, 'sale': 7056, 'sooo': 7517, 'frustrated': 3681, 'mouse': 5432, 'own': 5913, 'sproadically': 7613, 'sometimes': 7505, 'change': 1843, 'tempremental': 8043, 'experience': 3293, 'prepared': 6312, 'life': 4906, 'dock': 2788, 'major': 5097, 'structural': 7753, 'aside': 1150, 'electronics': 3043, 'bit': 1448, 'deteriorate': 2615, 'volume': 8767, 'fluctuate': 3570, 'add': 801, 'kind': 4732, 'bump': 1633, 'stress': 7743, 'simply': 7359, 'perform': 6062, 'remote': 6788, 'hd': 4029, 'assign': 1162, 'position': 6249, 'various': 8662, 'tv': 8368, 'routinely': 6995, 'activate': 782, 'logistics': 4983, 'harmony': 4008, 'perfectly': 6059, 'remotely': 6789, 'satellite': 7083, 'certain': 1822, 'replay': 6813, '10min': 167, 'pic': 6125, 'canon': 1733, 'pro1': 6359, '250': 337, 'initially': 4425, 'cycle': 2421, 'suppose': 7860, 'weekend': 8890, 'rear': 6631, 'pleasy': 6193, 'thank': 8079, 'epiphane': 3142, 'flaviu': 3537, '4x': 476, 'slow': 7433, '2x': 367, 'dru500a': 2873, 'compatibility': 2063, 'lesson': 4885, 'lite': 4951, 'dvdrw': 2927, 'sohw-1673s': 7482, 'revision': 6918, 'js02': 4670, 'fast': 3406, 'g4': 3736, 'mac': 5059, 'os': 5843, 'x': 9082, 'tiger': 8153, 'toast': 8186, 'titanium': 8179, 'nominally': 5627, '16x': 239, 'capable': 1738, '6x': 561, 'setup': 7248, 'ata': 1184, '33': 394, '8x': 637, '+': 14, '-r': 61, 'verify': 8693, 'maxell': 5175, 'ignorable': 4277, '20': 298, 'aborted': 713, 'blank': 1457, 'band': 1312, 'refer': 6716, 'manufacturer': 5125, 'id': 4258, 'mag': 5078, 'am3': 981, 'videohelp.com': 8720, 'sell': 7198, 'name': 5512, 'mixed': 5355, 'imho': 4304, 'btw': 1606, 'format': 3615, 'demo': 2560, 'outdate': 5856, 'opperate': 5811, 'tiger.com': 8154, 'reply': 6816, 'false': 3383, 'advertisement': 846, 'intend': 4483, 'functional': 3700, 'pm': 6205, 'series': 7232, 'stereo': 7689, 'browse': 1597, 'drunk': 2877, 'night': 5607, 'exception': 3247, 'advantage': 840, 'inferior': 4406, 'ergonomic': 3165, 'appearance': 1093, 'fm': 3577, 'reception': 6662, 'laughably': 4828, 'hiss': 4120, 'abound': 714, 'local': 4966, 'unreachable': 8529, 'stick': 7695, 'honor': 4154, 'habit': 3957, 'proprietary': 6426, 'market': 5147, 'antenna': 1051, 'weird': 8898, 'notice': 5661, 'damned': 2440, 'grrr': 3920, 'proceed': 6373, 'quit': 6532, 'infrequent': 4418, 'g5': 3737, 'hungry': 4224, '23': 328, 'inch': 4357, 'lcd': 4842, 'comment': 2035, 'belkin': 1397, 'compete': 2071, 'web': 8882, 'dealer': 2488, 'refurbish': 6731, 'reflection': 6723, 'popularity': 6234, 'reliability': 6767, 'precious': 6295, 'fear': 3428, 'loss': 5005, 'blackout': 1454, 'suppressor': 7865, 'potential': 6266, 'storm': 7719, 'flexibility': 3550, 'essential': 3183, 'insurance': 4470, 'puchase': 6463, 'identical': 4263, 'operational': 5806, 'accept': 731, 'vary': 8663, 'vendor': 8682, 'factor': 3368, 'begrudge': 1384, 'tear': 8012, 'explain': 3303, 'recurrent': 6704, 'frustate': 3679, 'hidden': 4098, 'silicon': 7346, 'construction': 2186, 'feel': 3441, 'grippy': 3910, 'sticky': 7698, 'instance': 4456, 'opening': 5800, 'push': 6487, 'around': 1129, 'flip': 3558, 'edge': 3000, 'headphone': 4047, 'jack': 4621, 'somewhat': 7506, 'difficult': 2663, 'seat': 7169, 'pop': 6231, 'armband': 1126, 'satisfactory': 7085, 'standard': 7647, 'frill': 3672, 'velcro': 8680, 'tempt': 8044, '2000': 306, 'mah': 5089, 'juice': 4675, 'shoot': 7300, 'frame': 3642, '1600': 231, 'contrast': 2214, 'shot': 7311, 'mp3': 5441, 'supply': 7857, 'hr': 4196, 'peak': 6041, 'current': 2388, 'flashlight': 3531, 'dimly': 2676, 'yeah': 9117, 'lenmar': 4877, 'duration': 2910, 'charger': 1852, 'complain': 2076, 'affair': 854, 'department': 2569, 'regard': 6737, 'action': 780, 'shady': 7264, 'off': 5743, 'nowadays': 5674, 'nimh': 5612, 'sanyo': 7080, 'handed': 3974, 'non': 5628, 'spring': 7612, 'leaf': 4847, 'manage': 5109, 'bent': 1409, 'path': 6011, 'impossible': 4328, 'tool': 8205, 'side': 7330, 'gps': 3861, 'canada': 1721, 'twain': 8371, 'meet': 5213, 'car': 1745, 'eastern': 2986, 'swap': 7900, 'faraway': 3398, 'tomtom': 8199, 'nearby': 5536, 'canadian': 1722, 'contiguous': 2201, 'border': 1531, 'cross': 2343, 'trip': 8313, 'oh': 5757, 'provide': 6440, 'later': 4823, 'dated': 2458, 'iffy': 4274, 'terrific': 8061, 'pda': 6037, 'stylus': 7777, 'amazing': 984, '600': 531, 'mile': 5294, 'waypoint': 8872, 'road': 6963, 'force': 3602, 'route': 6992, 'choice': 1889, 'database': 2454, 'circle': 1907, 'indication': 4392, 'garmin': 3762, 'i2': 4244, 'se': 7154, 'fl': 3516, 'usa': 8592, 'sc': 7105, 'c330': 1674, 'destination': 2601, 'manufacture': 5123, 'used': 8602, 'inav': 4351, 'iguidance': 4282, 'mapopolis': 5130, 'navigon': 5531, 'navigator': 5530, 'blue': 1485, 'logger': 4978, 'atlas': 1189, '.out': 92, '2.1.1': 291, '.blue': 87, 'v': 8621, 'impractical': 4330, 'bcuz': 1346, 'onoff': 5788, 'mone': 5389, 'hub': 4207, 'forget': 3610, 'unpowered': 8524, '1.1': 117, '2.0': 288, 'compliant': 2087, 'clunky': 1969, 'comke': 2033, 'adapte': 797, 'pci': 6033, 'adapter': 798, 'realize': 6624, 'convenience': 2220, 'locate': 4968, 'backplane': 1294, 'floor': 3561, 'appropriate': 1104, 'cord': 2248, 'solve': 7494, 'extension': 3319, 'besides': 1412, 'immediate': 4307, 'approach': 1103, 'move': 5436, 'laptop': 4808, 'purpose': 6483, 'compact': 2046, 'reader': 6613, 'inkjet': 4431, 'driver': 2862, 'instal': 4450, 'correctly': 2259, '98': 659, 'available': 1247, 'connected': 2156, 'disappear': 2699, 'eventually': 3212, 'deduce': 2510, 'wiring': 8990, 'inside': 4445, 'draw': 2849, 'ac': 728, 'combination': 2020, 'possible': 6256, 'improve': 4337, 'mess': 5243, 'suspect': 7892, 'discontinue': 2719, 'necessary': 5544, 'somebody': 7497, 'soundsticks': 7536, 'along': 953, 'airport': 903, 'faq': 3396, 'install': 4452, 'smooth': 7451, 'w2k': 8788, 'inspiron': 4448, 'notebook': 5653, '24': 330, 'nowhere': 5675, 'd': 2426, 'link': 4935, 'talk': 7976, 'staff': 7638, 'countless': 2281, 'download': 2823, 'automatic': 1236, 'match': 5163, 'sp': 7540, 'senior': 7207, 'etc': 3195, 'clearly': 1935, 'speak': 7553, 'intelligble': 4480, 'english': 3113, 'resort': 6860, 'technical': 8016, 'alone': 952, 'cnet': 1975, 'site': 7377, 'dwl': 2935, 'g650': 3741, 'operating': 5804, 'font': 3591, 'message': 5244, 'news': 5593, 'utterly': 8620, 'well-': 8903, 'reduce': 6711, 'clutter': 1971, 'desk': 2595, 'hook': 4156, 'powermac': 6281, 'targus': 7994, 'adaptor': 800, 'info': 4413, 'volt': 8765, '2.1': 290, 'amp': 1005, 'online-': 5787, 'carry': 1768, '181': 247, 'hang': 3985, 'boot': 1529, 'prompt': 6413, 'rma': 6961, 'm230': 5053, 'c150': 1673, 'rave': 6597, 'unless': 8505, 'lifetime': 4911, 'exercise': 3264, 'thi': 8101, 'unsuccessful': 8544, 'attachment': 1197, 'advance': 837, 'cam': 1710, 'las': 4812, 'vegas': 8674, 'bare': 1321, 'spot': 7606, 'outer': 5860, 'purport': 6482, 'spindle': 7583, 'sometime': 7504, 'problematic': 6366, 'insane': 4441, 'single': 7365, 'scare': 7117, 'relate': 6759, 'notch': 5651, 'fool': 3595, 'frisbee': 3673, 'careful': 1755, 'apply': 1098, 'awful': 1266, 'direct': 2685, 'macintosh': 5068, 'template': 8040, 'print': 6344, 'style': 7773, 'awfully': 1267, 'appleworks': 1095, 'powerpoint': 6282, 'misrepresent': 5345, 'macs': 5072, 'cheat': 1868, 'lie': 4903, 'serveral': 7239, 'rebel': 6640, 'vike': 8731, 'fortunately': 3622, 'occur': 5731, 'data': 2453, 'mega': 5216, 'pixel': 6154, 'sec': 7171, 'a40': 689, 'impressed': 4332, 'note': 5652, 'wheel': 8917, '60': 528, 'vacation': 8643, '60gb': 537, 'have': 4024, 'separately': 7222, 'grr': 3919, 'here': 4085, 'imac': 4299, 'w/': 8783, 'intel': 4479, 'chip': 1886, 'hardly': 3999, 'kicker': 4725, 'freind': 3660, 'overseas': 5903, 'idea': 4261, 'deal': 2486, 'advertised': 845, 'resubmit': 6880, 'hoax': 4134, 'perpetrate': 6076, 'earphone': 2974, 'flight': 3554, 'sore': 7522, 'adjust': 815, 'foam': 3579, 'difference': 2656, 'definition': 2531, 'terrible': 8059, 'frustrating': 3682, 'unlucky': 8510, 'somewhere': 7507, '-4': 43, 'opinio': 5807, 'upconverter': 8564, 'hdtv': 4041, 'co.': 1978, 'provider': 6443, 'tree': 8294, 'magically': 5085, 'signal': 7339, '550': 510, 'noticable': 5659, 'wife': 8949, 'okay': 5765, 'ready': 6617, 'quot;it': 6540, 'on!!&quot': 5778, 'reaction': 6610, 'certianly': 1824, 'noticably': 5660, 'insist': 4446, 'prefer': 6303, 'directly': 2688, 'thru': 8137, 'close': 1955, '---': 21, 'best': 1413, 'rapid': 6584, 'chargers': 1853, 'shelf': 7282, '---they': 34, 'decision': 2503, 'behind': 1389, 'prior': 6350, 'sealed': 7158, 'target.com': 7993, 'mfg': 5261, 'contain': 2195, 'virus': 8739, 'quicktime': 6524, 'hip': 4118, 'target': 7992, 'notify': 5665, 'corupt': 2265, 'useful': 8603, 'drawing': 2852, 'tablet': 7963, 'paint': 5947, 'access': 738, 'norton': 5646, 'catch': 1789, 'excited': 3255, 'arg': 1120, 'pass': 5998, 'expensive': 3291, 'doa': 2786, 'motor': 5423, 'mutilate': 5489, 'voiding': 8761, 'properly': 6422, 'carousel': 1760, 'rotation': 6986, 'trap': 8277, 'altogether': 976, 'we': 8875, 'carefully': 1757, 'malfunction': 5104, 'circumstance': 1911, 'correct': 2257, 'toss': 8215, 'heck': 4069, 'dirty': 2692, 'unplugged': 8523, 'lift': 4912, 'expertise': 3299, 'knowledge': 4751, 'eyeroll': 3337, 'nudge': 5683, 'lense': 4881, 'slide': 7416, 'elation': 3035, 'dumb': 2899, 'satisfaction': 7084, 'calculate': 1699, 'lol': 4989, 'hopefully': 4160, 'downrate': 2827, 'solely': 7488, 'view': 8726, 'hi': 4096, 'cyberhome': 2420, 'april': 1109, 'region': 6739, 'code': 1993, 'automatically': 1237, 'yo': 9124, 'fiddle': 3459, 'replugge': 6815, 'repeatedly': 6807, 'socket': 7474, 'restart': 6874, 'blow': 1484, 'fuse': 3712, 'mechanic': 5203, 'avail': 1244, 'toshiba': 8213, 'a60': 693, 'watt': 8864, 'lamp': 4789, 'heat': 4063, 'spec': 7559, 'sheet': 7279, '400': 439, 'min': 5306, '140': 210, 'continuous': 2206, '2a': 359, '240': 333, 'vac': 8642, 'agree': 886, '230': 329, 'inverter': 4553, 'demand': 2555, 'continuously': 2207, 'linksys': 4939, 'operation': 5805, 'cleaner': 1929, 'music': 5481, 'cassette': 1782, 'deck': 2504, 'coby': 1989, 'unresponsive': 8536, 'luckily': 5036, 'bet': 1415, 'distortion': 2762, 'interference': 4506, 'transmitter': 8272, 'frequency': 3662, 'sf': 7258, 'bay': 1344, 'area': 1119, 'postage': 6259, 'originally': 5839, 'overuse': 5909, 'switching': 7916, 'via': 8710, 'explicitly': 3307, 'specification': 7565, 'mislead': 5340, 'seek': 7184, 'playing': 6184, 'x2': 9084, 'roughly': 6988, '14': 206, 'sport': 7602, 'event': 3209, 'ncaa': 5533, 'nfl': 5596, '1200': 188, 'hrs': 4197, '799': 603, 'extended': 3317, 'super': 7841, 'powershot': 6283, 'a510': 692, 'transfer': 8260, 'sudden': 7815, 'converter': 2229, 'joke': 4661, 'r': 6548, 'unreliable': 8535, 'dvdr': 2926, 'imation': 4303, 'ensure': 3124, 'dvds': 2928, 'nano': 5514, 'leave': 4859, '~$20': 9166, 'network': 5578, 'trendnet': 8299, 'meter': 5252, 'generally': 3780, '~95': 9170, 'strength': 7741, 'regain': 6736, 'stable': 7636, 'flawlessly': 3541, 'packaging': 5933, 'title': 8180, 'stuff': 7760, 'eveythe': 3224, 'networking': 5579, 'linksis': 4937, 'recover': 6698, 'gig': 3811, 'hardrive': 4000, 'dedicated': 2509, 'attached': 1195, 'storage': 7716, 'cordless': 2251, 'headset': 4052, 'employee': 3079, 'alot': 956, 'voice': 8757, 'lt': 5027, 'colleague': 2005, 'plantronics': 6168, 'cartoonist': 1773, 'color': 2011, 'client': 1943, 'staples': 7651, '2500': 339, 'toner': 8202, 'cartridge': 1774, 'leak': 4848, 'rapidly': 6585, 'dimishe': 2675, 'reluctant': 6775, 'hp': 4188, 'markedly': 5145, '1/2': 133, 'giant': 3807, 'magenta': 5082, 'spew': 7579, 'everywhere': 3223, 'cyan': 2418, 'streak': 7735, 'feed': 3437, 'lackluster': 4781, 'accomplish': 754, 'doorstop': 2811, 'paperweight': 5971, 'stamp': 7644, 'obviously': 5721, 'leakage': 4849, 'powder': 6271, 'ruin': 7013, 'greyish': 3901, 'dirt': 2691, 'wash': 8850, 'furious': 3709, 'pleasure': 6192, 'domestic': 2800, 'international': 4513, 'pocket': 6208, 'annual': 1038, 'aka': 913, 'tour': 8229, 'practically': 6287, 'buggy': 1621, 'touchy': 8224, 'compatible': 2066, 'dsl': 2883, 'ethernet': 3197, '70': 566, 'hotel': 4178, 'hot': 4176, 'cool': 2237, 'excellent-': 3244, 'alabama': 919, 'bangkok': 1316, 'netgear': 5575, 'hassle': 4016, 'wi': 8941, 'fi': 3456, 'desktop': 2597, 'wgr101': 8910, 'encrypt': 3095, 'wired': 8987, 'encryption': 3096, 'severe': 7253, 'wep': 8904, 'multi': 5469, 'ability': 707, 'seemingly': 7186, 'random': 6578, 'interval': 4525, 'restablish': 6873, 'unencrypted': 8465, 'sangean': 7076, 'dt200v': 2887, '2.5': 295, 'padded': 5937, 'briefcase': 1580, 'significant': 7342, 'shock': 7296, 'temperature': 8038, 'extreme': 3333, 'occasion': 5724, 'faint': 3376, 'volumn': 8768, 'significantly': 7343, 'affect': 855, 'corrosion': 2262, 'wary': 8847, 'sensitive': 7215, 'tiny': 8175, 'waft': 8796, 'air': 895, 'kidding': 4728, 'whim': 8925, 'shortly': 7309, 'madden': 5074, 'fro': 3675, '-(oh': 19, 'have!)-': 4025, 'physically': 6122, 'shave': 7277, 'underside': 8454, 'touch': 8221, 'conversely': 2226, 'gut': 3942, 'thankfully': 8081, 'scan': 7110, 'fuzz': 3718, 'intelligent': 4481, 'crackle': 2303, 'exist': 3268, 'anywhere': 1075, 'planet': 6165, 'zero': 9148, 'trial': 8304, 'act': 779, 'joggle': 4657, 'pair': 5950, 'preset': 6320, 'weirdly': 8899, 're': 6607, 'screwdriver': 7143, 'board': 1494, 'direction': 2686, 'scoot': 7131, 'minimal': 5314, 'movement': 5437, 'prayer': 6291, 'repeat': 6806, 'process': 6374, 'wall': 8812, '_': 680, 'receipt': 6653, 'void': 8760, 'split': 7592, 'grudgingly': 3921, 'exclusively': 3258, 'listen': 4947, 'nicely': 5604, 'amount': 1002, 'fault': 3416, 'low-': 5020, 'indoor': 4398, 'saturate': 7093, 'cubby': 2372, 'environment': 3138, 'window': 8970, 'strong': 7751, 'environ': 3137, 'electrical': 3039, 'field': 3463, 'musical': 5482, 'criticism': 2341, 'canniness': 1731, 'lack': 4779, 'fullness': 3695, 'midrange': 5285, 'warmth': 8833, 'bass': 1332, 'signature': 7340, 'boost': 1528, 'clarity': 1920, 'ignore': 4280, 'aspect': 1158, 'higher': 4102, 'importance': 4325, 'fealt': 3427, 'palm': 5952, 'rest': 6872, 'hump': 4222, 'uncomfortable': 8441, 'angle': 1023, 'slick': 7415, 'compatability': 2061, 'respond': 6864, 'value': 8653, 'adjustment': 819, 'aa': 696, 'problems': 6367, 'reformatte': 6726, 'speed': 7573, 'minolta': 5321, 'xg': 9093, 'times': 8165, 'faster': 3407, 'cripple': 2333, 'fourteen': 3631, 'dishonest': 2737, 'curse': 2391, 'o': 5701, 'ses': 7241, 'detailed': 2609, 'gaming': 3756, 'ip': 4566, 'engineer': 3110, 'dual': 2890, 'segment': 7189, ']': 679, 'bridging': 1578, 'appliance': 1096, 'ms': 5450, 'dhcp': 2631, 'handshake': 3981, 'xbox': 9089, '48': 463, '54': 506, 'mbps': 5185, 'reproduce': 6823, 'xbmc': 9088, 'spotty': 7608, 'detail': 2608, 'swift': 7909, 'nic': 5600, 'buffer': 1618, 'fill': 3471, 'select': 7192, 'g': 3728, 'tired': 8177, 'cycling': 2422, 'f.': 3343, 'configure': 2137, 'disconnect': 2717, 'woman': 9016, 'india': 4390, 'ton': 8200, 'accent': 730, 'session': 7242, 'chat': 1859, 'unknown': 8504, 'lady': 4784, 'mix': 5354, 'gigabeat': 3812, 'f40': 3349, '150': 222, 'bargain': 1323, 'regret': 6744, 'failing': 3374, 'application': 1097, 'till': 8160, 'directory': 2689, 'library': 4900, 'hanging': 3987, 'resume': 6882, 'sync': 7929, 'present': 6315, 'microsoft': 5275, 'synchronize': 7931, '35': 402, '18': 245, '8100': 623, 'prepare': 6311, 'maddening': 5075, 'consuming': 2191, 'obvious': 5720, 'fragility': 3640, '1986': 273, 'unreasonable': 8532, 'estimation': 3192, 'maintenance': 5096, 'explorer': 3310, 'casette': 1778, 'kit': 4738, 'primary': 6341, 'loosly': 5001, 'cheaply': 1865, 'annoy': 1033, 'co': 1977, 'worker': 9034, 'siemens': 7335, '8825': 634, 'motorola': 5427, '7081': 573, 'rich': 6930, 'lacking': 4780, 'handset': 3980, 'reasonable': 6634, 'fairly': 3378, 'sort': 7526, 'phonebook': 6105, 'alphabetically': 961, 'share': 7270, 'maximum': 5177, 'barely': 1322, 'speakerphone': 7555, 'distort': 2761, 'fuzzy': 3720, 'adequate': 809, 'z': 9136, 'scroll': 7145, 'outgoing': 5861, 'level': 4890, 'indicator': 4394, 'cradle': 2305, 'showstopper': 7318, 'echo': 2995, 'earpiece': 2975, 'distract': 2763, 'disconcerting': 2715, 'mount': 5428, 'bracket': 1555, 'straight': 7723, 'nose': 5647, 'location': 4969, 'strike': 7748, 'unexcusable': 8469, 'oversight': 5904, 'microphone': 5272, 'front': 3676, 'rca': 6605, 'creative': 2322, 'moron': 5410, 'itunes': 4615, 'm$': 5046, 'wma': 9007, 'elsewhere': 3057, 'conversion': 2227, '64kbps': 543, 'convert': 2228, 'itune': 4614, 'licking': 4901, 'google': 3855, 'grab': 3862, '99': 663, 'upcoming': 8562, 'espect': 3181, 'completly': 2083, 'silent': 7345, 'obviusly': 5722, 'intention': 4489, 'conjunction': 2152, 'recent': 6659, 'ride': 6934, 'incredibly': 4377, 'folder': 3585, 'exclamation': 3256, 'samsung': 7068, 'disapointe': 2697, 'frustrate': 3680, 'dvi': 2929, 'humax': 4218, 'tuner': 8353, 'charm': 1855, 'sir': 7370, 't451': 7940, 'thought': 8121, 'mainstream': 5094, '3rd': 425, 'duracell': 2909, 'stayed': 7672, 'batch': 1335, 'mr.': 5449, 'loftin': 4975, 'silver': 7349, 'black': 1452, 'working': 9036, 'ka': 4696, 'intelligible': 4482, 'warn': 8834, 'anyways': 1074, 'menu': 5230, 's': 7032, 'noooo': 5638, 'city': 1914, 'metropolitan': 5257, 'driving': 2863, 'span': 7547, 'kudo': 4763, 'tunebase': 8347, 'highly': 4107, 'massage': 5159, 'voip': 8763, 'voicepulse': 8759, 'ring': 6945, 'indicate': 4391, 'incoming': 4364, 'reset': 6847, 'default': 2518, 'at&t': 1180, 'workaround': 9032, 'caller': 1707, 'mic': 5266, 'mouth': 5434, 'resend': 6843, 'unusable': 8551, 'describe': 2582, 'c550': 1678, 'transparent': 8273, 'powerful': 6278, 'untrue': 8550, 'stabilize': 7635, 'antiroll': 1057, 'crossbar': 2344, 'vague': 8645, 'equalization': 3151, 'deliver': 2548, '18hz': 250, '20khz': 321, 'aiwa': 910, 'bud': 1613, 'japan': 4631, 'walkman': 8810, '1990': 277, 'compare': 2055, 'mx400': 5499, 'reputable': 6827, 'marketplace': 5149, 'retract': 6891, 'automate': 1235, 'disconect': 2716, 'pny': 6207, 'mad': 5073, 'samething': 7064, 'helper': 4082, 'determine': 2617, 'apearently': 1081, 'ink': 4429, 'cartidge': 1771, 'dish': 2735, 'networks': 5580, 'technology': 8022, 'dvr': 2933, 'menus': 5231, 'pricing': 6338, 'dispute': 2749, 'net': 5571, 'hassel': 4015, 'miss': 5346, 'ohio': 5759, 'michigan': 5268, 'tbd': 8003, 'consistently': 2177, 'murphy': 5476, 'law': 4832, 'j.clark': 4619, 'san': 7070, 'jose': 4663, 'ca': 1682, 'expectation': 3283, 'months': 5404, 'excessively': 3253, 'smell': 7447, '#': 5, 'broken': 1592, 'flawed': 3539, 'competitor': 2075, 'rangemax': 6581, 'suprize': 7870, 'inquiry': 4440, 'resolve': 6858, 'explore': 3309, 'smoothly': 7453, 'contrary': 2213, 'programmable': 6397, 'predefine': 6300, 'paste': 6008, 'neither': 5564, 'irritation': 4591, 'popup': 6235, 'weak': 8876, 'officedepot': 5749, 'gamer': 3754, 'monitor': 5393, 'veiwe': 8679, 'scale': 7106, '=': 674, 'ghosting': 3805, 'ghost': 3804, 'brightness': 1582, 'controller': 2218, 'forward': 3625, 'hide': 4099, 'dash': 2450, 'sight': 7337, 'boy': 1552, 'adpater': 833, 'artist': 1142, 'album': 924, 'hell': 4076, 'alpine': 962, 'scrolling': 7146, '3000': 380, 'reach': 6608, 'reciever': 6671, 'flat': 3533, 'sucks': 7813, 'uselss': 8607, 'artst': 1143, 'damn': 2439, 'sense': 7212, 'bunch': 1635, 'practicalness': 6288, '9847': 661, 'hijack': 4111, 'intuitve': 4542, 'catalog': 1788, 'slowly': 7434, 'knob': 4748, 'eqaul': 3149, 'unlike': 8506, 'equal': 3150, 'dozen': 2835, 'spin': 7582, '........': 75, 'cumbersome': 2380, 'deactivate': 2480, 'form': 3613, 'infinitely': 4408, 'buzz': 1663, 'muffled': 5467, 'background': 1285, 'electical': 3037, 'outlet': 5862, 'jeep': 4637, 'liberty': 4899, 'ridiculously': 6939, 'percent': 6054, 'tape': 7989, 'pt-1750': 6456, 'scissor': 7129, 'eliminate': 3053, 'wasted': 8857, 'brother': 1595, 'invalidate': 4547, 'tactic': 7967, 'increase': 4374, 'additional': 804, 'dollar': 2798, 'printing': 6347, 'empty': 3081, 'freebie': 3651, '1.15': 120, 'fully': 3696, 'consume': 2189, 'text': 8070, '17.99': 242, '14.99': 209, 'outrageous': 5868, 'obscene': 5710, 'hp720c': 4193, 'pavilion': 6021, 'among': 1001, 'vow': 8774, 'future': 3716, 'pixima': 6156, 'hog': 4137, 'fidelity': 3462, 'fair': 3377, 'incident': 4359, 'overbear': 5879, 'daytime': 2467, 'stuck': 7756, '1.5': 127, 'mission': 5347, 'etrex': 3199, 'vista': 8748, 'cx': 2414, 'attachement': 1196, 'lug': 5038, 'microsd': 5274, '010': 104, '10361': 158, '00': 103, 'anoye': 1044, 'vtech': 8779, 'phones': 6107, 'begining': 1380, 'rechargeable': 6667, 'baterrie': 1336, 'conversation': 2225, 'head': 4043, '45': 455, 'daily': 2434, 'ritual': 6955, 'legibible': 4871, 'opposite': 5815, 'telephone': 8032, 'voicemail': 8758, 'amplify': 1010, 'loud': 5008, 'shout': 7314, 'severely': 7254, 'suppress': 7863, 'audible': 1214, 'usable': 8594, 'approximately': 1108, 'suddenely': 7816, 'disturbance': 2767, 'embarrase': 3062, 'face': 3363, 'sensitivity': 7216, 'security': 7182, 'activation': 783, 'i.e': 4242, 'thin': 8105, 'valuble': 8652, 'uniformly': 8491, 'crash': 2314, 'dss': 2885, 'crude': 2352, '3.1': 370, 'ds-2': 2880, 'finder': 3483, 'compuer': 2100, 'double': 2820, 'relanch': 6758, 'export': 3311, 'aiff': 892, 'nearly': 5539, 'olympus': 5769, 'reveal': 6904, 'painful': 5944, 'europe': 3202, 'left': 4865, 'disconnected': 2718, 'solder': 7485, 'superglue': 7848, 'sheath': 7278, 'fray': 3647, 'underneath': 8453, 'sounding': 7532, 'corner': 2253, 'aweful': 1261, 'remember': 6782, 'loosen': 4999, 'srf': 7625, 'hm01v': 4130, 's2': 7037, 'sports': 7605, ':)': 669, 'seldom': 7191, 'class': 1921, 'reunion': 6901, 'dial': 2638, 'huge': 4211, '60,000': 530, 'farmland': 3400, 'tune': 8346, 'crystal': 2362, 'nut': 5693, 'fax': 3424, 'spotless': 7607, 'carrying': 1769, 'perfect': 6057, 'you(sarcasm': 9126, 'z22': 9140, 'sylus': 7923, 'selling': 7201, 'purchasing': 6476, 'affortable': 861, 'utilize': 8618, 'predecessor': 6299, 'fantastically': 3393, 'enter': 3125, 'vcr': 8668, 'duty': 2916, 'longevity': 4991, 'goal': 3844, 'elsewher': 3056, 'rule': 7014, 'tweak': 8372, 'improvement': 4338, 'shipment': 7292, 'webcam': 8883, 'acer': 766, 'ferrari': 3449, 'east': 2985, 'meadow': 5194, 'guy': 3943, 'acceptable': 733, 'namebrand': 5513, 'sharp': 7273, 'suffice': 7820, 'costco': 2269, 'rechargable': 6665, 'upto': 8579, 'dese': 2584, 'em': 3059, 'mi': 5264, 'skool': 7401, 'n': 5503, 'da': 2431, 'turrble': 8367, 'hav': 4023, 'lik': 4921, 'puttin': 6489, 'pressure': 6323, 'ur': 8582, 'f': 3338, 'king': 4734, 'dog': 2795, 'h.ear': 3948, 'dose': 2816, 'alwayz': 980, 'portablity': 6245, 'earpeice': 2973, 'particularly': 5990, 'combo': 2022, 'rotate': 6985, 'freely': 3654, 'accidently': 747, 'professional': 6388, 'picker': 6128, 'spontaneously': 7598, 'inadvertently': 4346, 'engage': 3108, 'surprise': 7882, 'stressor': 7745, 'mobility': 5365, 'theft': 8090, 'deterrant': 2618, 'transport': 8275, 'ambient': 994, 'pod': 6211, 'headpohone': 4050, 'bank': 1317, 'plane': 6164, 'frequently': 3664, 'cry': 2361, 'uneven': 8467, 'length': 4875, 'irritating-': 4590, 'weight': 8896, 'uncomfortable-': 8442, 'workout': 9038, 'produce': 6379, 'rub': 7004, 'clothing': 1963, 'effect': 3014, 'disruptive': 2751, 'listening': 4950, 'stationary': 7665, 'stethescope': 7692, 'effect-': 3015, 'hunt': 4226, 'jog': 4654, 'persistent': 6080, 'arrow': 1137, 'fashion': 3402, 'macally': 5060, 'kensington': 4711, 'ugly': 8401, 'ice': 4255, 'misleading': 5341, 'console': 2179, 'initial': 4422, 'isolation': 4600, 'insert': 4443, 'seal': 7157, 'canal': 1723, 'commute': 2045, 'j': 4617, 'train': 8253, 'rail': 6571, 'classical': 1923, 'earbud': 2965, 'mdr': 5193, 'ex71': 3231, 'attenuation': 1204, 'superb': 7844, 'partnership': 5995, 'etymotic': 3201, 'evident': 3226, 'rock': 6974, 'grunge': 3922, 'sonys': 7514, 'muddy': 5464, 'balanced': 1308, 'string': 7749, 'rei': 6749, 'jacket': 4622, 'symmetric': 7926, 'neck': 5548, 'solid': 7489, 'fragile': 3639, 'er6': 3161, 'replaceable': 6811, 'eartip': 2980, 'tightly': 8159, 'ridiculous': 6938, 'bulky': 1629, 'portability': 6242, 'comfort': 2026, 'sadly': 7051, 'flanged': 3525, 'altec': 969, 'lansing': 4801, 'documentation': 2792, 'alteclansing.com/inmotionearphone': 970, '404': 443, 'visit': 8745, 'pathetic': 6012, '1/19/2006)i': 132, '1/10/2006': 131, 'suit': 7827, 'impression': 4333, 'deep': 2514, 'reproduction': 6824, 'defect': 2520, 'backlight': 1287, 'shortcoming': 7307, 'early': 2970, 'handspring': 3982, 'visors': 8747, 'neutral': 5581, 'expedite': 3285, 'ps': 6445, 'grey': 3900, 'assume': 1168, 'sentence': 7218, 'installation': 4453, 'server': 7238, 'freeze': 3658, 'gentleman': 3790, 'whose': 8940, 'win': 8959, 'encounter': 3091, 'typically': 8390, 'incompatible': 4365, 'exit': 3273, 'disable': 2694, 'firm': 3502, 'advise': 849, 'configuration': 2135, 'fellow': 3444, 'supervisor': 7854, 'fluent': 3571, 'understanding': 8457, 'situation': 7381, 'analysis': 1016, 'frozen': 3677, 'coincidently': 2001, 'exact': 3233, 'skepticism': 7390, 'towards': 8234, 'explanation': 3305, 'reassure': 6636, 'emphasis': 3077, 'symptom': 7927, 'technician': 8018, 'bill': 1433, 'stunned': 7762, 'intuitively': 4541, 'heaven': 4066, 'aaron': 699, 'neville': 5585, 'limb': 4926, 'sever': 7251, 'zz': 9162, 'tomorrow': 8198, 'retailer': 6886, 'protector': 6434, 'dlp': 2780, 'strip': 7750, 'purple': 6481, 'neato': 5541, 'mill': 5298, 'independent': 4384, 'circuitry': 1909, 'minimize': 5316, 'subwoofer': 7803, 'thinkpad': 8110, 'thereafter': 8097, 't60': 7956, 'hey': 4094, 'universal': 8503, 'introduce': 4535, 'smarttip': 7443, 'lenovo': 4879, 'someday': 7498, 'brick': 1575, 'lightweight': 4920, 'sleek': 7412, 'reviewrs': 6912, 'brilliant': 1583, 'tangle': 7983, 'igo': 4281, '120': 186, 'capability': 1737, 'delay': 2540, 'unforgivable': 8477, 'tinny': 8173, 'brassy': 1561, 'virtually': 8738, 'unsatisfactory': 8538, 'kx': 4766, 'tg6700b.': 8077, 'layout': 4837, 'answering': 1048, 'silly': 7348, 'chintzy': 1885, 'wonderful': 9019, 'responsibility': 6867, 'seller': 7200, 'consolidate': 2180, 'regularly': 6747, '890': 635, 'disappointment': 2703, 'key': 4714, 'basic': 1328, 'juggle': 4674, 'cypress': 2425, 'at2lp': 1183, 'rc42': 6604, 'western': 8906, 'housing': 4185, 'drive-': 2861, 'pickup': 6129, 'regardless': 6738, 'cs50': 2365, 'invariably': 4549, 'building': 1623, 'expose': 3312, 'door': 2809, 'cubicle': 2374, 'gear': 3773, 'specifically': 7564, 'ntsc': 5680, 'ieee': 4272, 'common': 2039, 'ohm': 5760, 'hookup': 4157, 'ineffective': 4402, 'shielding': 7286, 'conductance': 2123, 'wreck': 9062, 'grounding': 3916, 'chromatic': 1895, 'aberration': 705, 'skin': 7395, 'tone': 8201, 'blotching': 1482, 'gray': 3891, 'highlight': 4106, 'murky': 5475, 'shadow': 7263, 'noisy': 5624, 'red': 6705, 'balance': 1307, 'impedance': 4317, 'mismatch': 5342, 'bleeding': 1465, 'pattern': 6017, 'ar': 1114, 'belden': 1392, 'viewsonics': 8730, 'vast': 8665, 'grainy': 3873, 'lighting': 4916, 'focus': 3581, 'weigh': 8895, 'pound': 6270, 'warm': 8832, 'motion': 5419, 'wrt54gl': 9073, 'dummies': 2900, 'cat5e': 1787, 'patch': 6010, 'surf': 7874, 'de': 2478, 'welcome': 8901, 'warning': 8835, 'password': 6006, 'freak': 3648, 'unimpressed': 8493, 'young': 9130, 'amuse': 1011, 'laugh': 4827, 'logon': 4988, 'gripe': 3909, 'rom': 6982, 'wizard': 9002, 'norm': 5640, 'stink': 7703, 'wusb54gc': 9076, 'primarily': 6340, 'unannounced': 8422, 'existent': 3271, 'rude': 7008, 'tungsten': 8355, 't5': 7943, 'helpful': 4083, 'redirect': 6709, 'county': 2283, 'beach': 1348, 'mid': 5280, 'stuttering': 7770, 'francisco': 3643, 'oakland': 5705, 'friend': 3670, 'bear': 1353, 'mind': 5307, 'acknowledge': 769, 'summary': 7832, 'mapquest': 5134, 'finish': 3491, 'teleatlas': 8030, 'producer': 6380, 'gui': 3936, 'graphic': 3884, 'interact': 4491, 'art': 1139, 'presentation': 6316, '3d': 420, '2d.': 360, 'planning': 6166, 'icon': 4257, 'irritant': 4587, 'vie': 8724, 'desire': 2594, 'annoyingly': 1037, 'bluetooth': 1487, 'interstate': 4521, 'highway': 4109, 'plain': 6162, 'mapping': 5132, 'certainly': 1823, 'appeal': 1090, 'casual': 1784, 'allowance': 946, 'anew': 1021, 'omission': 5773, 'wisconsin': 8991, 'minnesota': 5320, 'create': 2320, 'idiosyncracie': 4266, 'anomaly': 1040, 'bug': 1620, 'compute': 2102, 'tend': 8047, 'expressway': 3314, 'preference': 6305, 'metro': 5256, 'lace': 4777, 'convolute': 2235, 'logical': 4982, 'tedious': 8026, 'clueless': 1967, 'grasp': 3886, 'straw': 7732, 'contradict': 2210, 'condition': 2120, 'party': 5996, 'repackage': 6803, 'insult': 4469, 'deceive': 2498, 'unanswered': 8423, 'history': 4123, 'possese': 6253, 'contempt': 2198, 'marginally': 5142, 'abandon': 702, 'jerr': 4641, 'maps': 5135, 'obtain': 5719, 'proof': 6418, 'nonsense': 5634, '269': 344, 'mobile': 5363, 'axims': 1272, 'wm5': 9006, 'touratech': 8230, '60c': 535, 'ground': 3914, 'rental': 6798, 'trolling': 8321, 'valley': 8650, 'portable': 6243, 'ique': 4575, '3600': 408, '700': 568, 'unique': 8500, 'palmpilot': 5954, 'integrate': 4476, 'palmv.': 5956, 'awkward': 1269, 'chore': 1893, 'fitfully': 3510, 'irritating': 4589, 'seamlessly': 7161, 'address': 807, 'section': 7176, 'cleanly': 1931, 'retype': 6900, 'graffiti': 3870, 'backward': 1297, 'sky': 7402, 'randomly': 6579, 'navigation': 5528, 'deploy': 2574, 'windshield': 8975, 'except': 3245, 'passenger': 6002, 'dashboard': 2451, 'navigate': 5527, 'stupid': 7764, 'dangerous': 2445, 'unhelpful': 8487, 'simulate': 7361, 'ottawa': 5851, 'ui': 8404, 'inconsistent': 4368, 'arbitrary': 1115, 'entirely': 3132, 'imagine': 4301, 'grandma': 3879, 'atrocious': 1192, 'information': 4415, 'apparent': 1088, 'saving': 7096, 'secure': 7178, 'max': 5174, 'california': 1705, 'hostile': 4175, 'fatal': 3411, 'irritate': 4588, 'tether': 8068, 'tradeoff': 8248, 'implementation': 4322, 'shark': 7272, 'antennae': 1052, 'enjoyment': 3120, 'bathroom': 1337, '1.50': 128, 'penny': 6048, 'pric': 6334, '128': 197, 'wpa': 9053, 'opt': 5816, 'assure': 1171, 'micro$oft': 5270, 'unaware': 8425, 'patience': 6013, 'favour': 3422, 'consistency': 2175, 'dubious': 2891, 'tradition': 8249, 'mn-700': 5362, 'conspiratively': 2181, 'infrastructure': 4417, 'deserve': 2588, 'favor': 3418, 'shoddy': 7298, '20/10': 304, 'vision': 8744, 'bestbuy': 1414, '11': 169, \"woudn't\": 9050, 'reconnecte': 6690, 'intermittently': 4510, 'afternoon': 869, 'fire': 3497, 'son': 7509, 'extinguish': 3327, 'flame': 3522, 'mx75': 5500, 'vibration': 8714, 'sweating': 7904, 'unusually': 8555, 'stiff': 7699, 'consequently': 2166, 'maintain': 5095, 'corkscrew': 2252, 'substantially': 7796, 'slack': 7408, 'shade': 7262, 'conventional': 2224, 'lime': 4927, 'annoyance': 1034, 'hunting': 4227, 'awesome': 1262, 'separate': 7221, 'rabbit': 6556, 'misc': 5331, 'popular': 6233, 'hue': 4209, 'blurry': 1491, 'sooooo': 7518, 'reasonably': 6635, 'o.k': 5704, 'powerbook': 6273, 'macbook': 5061, 'saitek': 7055, 'illuminate': 4290, 'embed': 3067, 'splash': 7589, 'fn': 3578, 'compactflash': 2047, 'officejet': 5750, '7130': 578, 'backwards': 1298, 'amber': 991, 'cp': 2295, 'cpf': 2299, 'article': 1140, 'dud': 2893, 'tekxon': 8027, 'stressful': 7744, 'quot;this': 6545, 'lt;whatever&gt;.&quot': 5029, 'famous': 3387, 'auction': 1212, 'gas': 3763, 'inject': 4426, 'plate': 6173, 'shield': 7285, 'analog': 1014, 'swinge': 7912, 'backedup': 1283, 'treid': 8295, 'regonize': 6743, 'redail': 6706, 'uniden': 8489, 'fluke': 3572, 'nero': 5568, 'layer': 4836, 'jump': 4679, 'pixellate': 6155, 'unwatchable': 8557, 'dissapointing': 2753, 'sping': 7584, 'selector': 7195, 'thick': 8102, 'rigid': 6943, 'tension': 8051, 'e.g.': 2947, 'twist': 8378, 'odd': 5735, 'slip': 7426, 'depth': 2580, 'compensate': 2069, 'traction': 8246, 'cables': 1689, 'angled': 1024, 'pin': 6138, 'corded': 2250, 'land': 4792, 'forth': 3620, 'sporatic': 7601, '1.20': 122, 'dealbreaker': 2487, 'log': 4976, 'administrator': 821, 'willing': 8957, 'skype': 7405, 'calling': 1709, 'dismal': 2740, 'reinstall': 6755, 'vosky': 8772, 'dph-50u': 2837, 'hurry': 4229, 'grief': 3902, 'replug': 6814, 'unexceptible': 8468, 'wonder': 9018, 'laser': 4813, '6000': 532, 'mx': 5496, 'body': 1499, 'pointer': 6217, 'flicker': 3552, 'mx320': 5498, 'microsot': 5277, 'tigerdirect': 8155, 'buy.com': 1659, 'rikaline': 6944, '6010': 533, 'evertime': 3214, 'initialize': 4423, 'embarrass': 3063, '---i': 30, 'sp2': 7541, '---signal': 31, 'peripheral': 6069, 'special': 7562, 'sticker': 7696, 'deduct': 2511, '---told': 35, 'mom': 5383, 'firewall': 3500, '---stupid': 33, 'hexidecimal': 4093, 'alphabet': 960, 'z.': 9139, '---slow': 32, 'impatient': 4316, \"---can't\": 29, 'hibernate': 4097, '--overall': 39, 'alongside': 955, 'wrt54gs': 9074, 'flaky': 3521, 'rectify': 6703, 'dice': 2649, 'dropout': 2867, 'v3': 8631, 'toy': 8239, 'ilove': 4294, 'abande': 701, 'brudle': 1601, 'alive': 935, 'safe': 7052, 'becuse': 1367, 'wast': 8855, 'ginger': 3820, 'newborn': 5589, 'kittin': 4741, 'refurb': 6730, 'testing': 8067, 'fade': 3370, 'bandwidth': 1314, 'snapping': 7458, 'popping': 6232, 'marginal': 5141, 'cent': 1814, 'wallmart': 8814, 'broadcast': 1589, 'gain': 3748, 'variable': 8656, 'disguise': 2733, 'real': 6618, 'garbage': 3759, 'roof': 6983, 'cabling': 1691, 'preamp': 6293, 'adjustable': 817, 'uhf': 8403, 'vhf': 8708, 'ken': 4709, 'document': 2791, 'presenter': 6317, 'pgup': 6092, 'pgdown': 6091, 'neat': 5540, 'trick': 8306, 'pres': 6313, 'b': 1274, 'beem': 1372, 'somethimg': 7501, 'needs': 5554, 'expansion': 3279, 'missle': 5348, 'recieve': 6670, 'bussiness': 1649, 'manufacturing': 5126, 'louder': 5009, 'interview': 4526, 'regular': 6746, 'hamstring': 3972, 'muffle': 5466, 'squeal': 7620, 'feedback': 3438, 'unampflied': 8420, 'thrilled': 8129, 'loop': 4997, 'man': 5107, 'female': 3446, 'hanger': 3986, 'adhesive': 813, 'removable': 6791, 'permanent': 6070, 'mechanical': 5204, 'greatly': 3895, 'treo': 8301, '650': 545, 'pure': 6477, 'booklet': 1514, 'outline': 5863, 'hp-1200': 4189, 'contraption': 2212, 'somehow': 7499, 'corrupt': 2263, 'beast': 1354, 'phenomenal': 6095, 'debug': 2495, 'steer': 7681, 'wifi': 8950, 'tot': 8216, 'active': 784, 'detection': 2612, 'magellen': 5081, 'roadblock': 6964, 'traffic': 8251, 'longtime': 4992, 'wacom': 8794, 'intuos': 4543, '2.5ghz': 297, 'graphire': 3885, 'responsiveness': 6871, 'grip': 3908, 'toothpick': 8209, 'manipulate': 5116, 'effectively': 3017, 'durability': 2907, 'additionally': 805, 'mold': 5381, 'whenever': 8918, 'behave': 1385, 'attractive': 1210, 'responsive': 6870, 'deficiency': 2523, 'mercedes': 5232, 'honda': 4150, 'civic': 1915, 'mileage': 5295, 'benz': 1410, 'general': 3779, 'pink)is': 6143, 'discharge': 2710, 'backlighte': 1288, 'gladly': 3831, 'thet': 8100, 'realistically': 6622, 'evaluate': 3204, 'dig': 2665, 'discman': 2713, 'clue': 1966, 'transpod': 8274, 'unusual': 8554, '192kbps': 258, 'aac': 698, 'encode': 3089, 'sub': 7778, 'woofer': 9023, 'thumping': 8142, 'scansnap': 7115, 'minus': 5326, 'jams': 4627, 'incredible': 4376, 'roller': 6980, 'grade': 3865, 'copi': 2243, 'paper': 5968, 'thankful': 8080, 'organizing': 5836, 'adf': 811, 'flatbe': 3534, 'scanner': 7113, 'baby': 1279, 'jam': 4624, 'fiddling': 3460, 'reorganize': 6800, 'misfeed': 5338, 'clearing': 1934, 'deeply': 2515, 'lid': 4902, 'glass': 3834, 'flow': 3567, 'anywayer': 1073, 'sorely': 7523, 'dissappointe': 2754, 'abysmal': 727, 'nonuse': 5636, 'redial': 6707, 'friendly': 3671, 'exhibit': 3266, 'trait': 8255, 'smash': 7444, 'hammer': 3970, 'decrease': 2508, 'gamble': 3750, 'cell': 1808, '2255': 327, 'suckere': 7812, 'ratio': 6592, '2002': 308, 'chevy': 1877, 'tahoe': 7970, 'harley': 4004, 'davidson': 2462, 'fltri': 3569, 'cpa-9c.': 2296, 'auto': 1232, 'troubleshooting': 8324, 'generic': 3785, 'rf': 6925, 'normally': 5642, 'trex': 8303, 'stare': 7654, 'overcast': 5881, 'seattle': 7170, 'enemy': 3103, 'mediocre': 5211, 'waas': 8791, 'accuracy': 761, '5.5': 485, '350': 403, 'conduct': 2122, 'unobstructed': 8516, 'motionless': 5420, 'quarter': 6513, 'inaccurate': 4343, 'lane': 4795, 'hwy': 4233, 'tacoma': 7966, 'wa': 8790, '38th': 414, 'compass': 2060, 'accurate': 762, 'reading': 6615, 'understandable': 8456, 'bike': 1431, '5.3': 484, 'ounce': 5852, 'wal-mart.com': 8806, 'tempermental': 8039, 'mostly': 5414, 'nightmare': 5609, 'archaic': 1116, 'minue': 5324, 'staggering': 7639, 'amazingly': 985, 'throughout': 8133, 'startup': 7658, 'cruzer': 2360, 'u3': 8396, 'compel': 2068, 'negative': 5556, 'mere': 5237, 'higlhly': 4110, 'hidrance': 4100, 'liability': 4896, 'educational': 3010, 'institution': 4461, 'wher': 8919, 'responsibel': 6866, 'organize': 5835, 'launch': 4829, 'preloade': 6307, 'anti': 1054, 'intruder': 4537, 'tick': 8149, 'uninstaller': 8498, 'offend': 5745, 'uninstall': 8495, 'cheesy': 1874, 'scratch': 7136, 'spare': 7549, 'e.': 2946, 'noticeable': 5662, 'closed': 1956, 'latch': 4818, 'unexpectedly': 8472, 'purse': 6485, 'brief': 1579, 'destructive': 2606, 'toddler': 8192, 'dru-710a': 2872, 'recording': 6696, 'attempe': 1199, 'lockup': 4973, 'film': 3473, 'physical': 6121, 'premium': 6309, 'successful': 7805, 'asin': 1152, 'b0001mku4': 1278, 'recognition': 6676, 'amplifier': 1009, 'plantronic': 6167, 'yay': 9115, 'hum': 4215, 'witht': 8999, 'eh': 3025, 'rec': 6645, 'funny': 3708, 'labtec': 4776, 'equivelent': 3158, 'dialog-301': 2641, 'whopping': 8939, 'chrystal': 1897, '185': 249, 'wedding': 8887, 'readable': 6612, 'flashcard': 3529, 'faith': 3379, 'ebay': 2992, '782c': 598, 'dvd+rw': 2923, 'amazed': 983, 'struggle': 7755, 'excuse': 3260, 'mr': 5448, \"clean'ing\": 1928, \"skipdr'ing\": 7399, 'fundamental': 3704, 'badly': 1302, 'person(s': 6082, 'responsible': 6868, 'usual': 8613, 'corporate': 2255, 'practice': 6289, 'promote': 6412, 'ladder': 4782, 'inflict': 4412, 'customers': 2402, 'quid': 6526, 'quo': 6534, 'agreement': 887, 'quot;product&quot': 6542, 'loading': 4964, 'skipping': 7400, 'freezing': 3659, 'combine': 2021, 'quot;defective&quot': 6537, 'firmly': 3503, 'belief': 1393, 'quot;dirty&quot': 6538, 'drawer': 2851, 'jiggle': 4646, 'dime': 2672, '@&amp;*!&quot': 677, 'millionaire': 5302, 'arrogant': 1136, 'criminal': 2332, '~i': 9171, 'mvsv3': 5494, 'm': 5045, 'pioneer': 6145, 'v555': 8636, 'wega': 8894, 'kv-27fs12': 4764, 'naked': 5511, 'regade': 6735, 'visual': 8749, 'sharpness': 7275, 'composite': 2092, 'component': 2090, 'video~~': 8723, 'alledge': 938, 'ultra': 8409, 'benchmark': 1404, 'rattle': 6596, 'darn': 2449, 'cowon': 2293, 'iaudio': 4248, '800': 616, 'ticket': 8150, 'electrogalaxy': 3041, 'officially': 5752, 'arranged': 1131, 'wind': 8966, 'hte': 4199, '192.168.0.10': 255, '.0': 81, 'subnet': 7789, '.10': 83, 'incorrectly': 4373, 'specificy': 7566, 'ssid': 7629, 'swear': 7901, 'linksy': 4938, 'wirelessly': 8989, 'aggrevation': 881, 'plague': 6161, 'everytihe': 3221, 'legacy': 4867, 'sounblaster': 7527, 'compatibiltiy': 2064, 'bio': 1441, 'chipset': 1888, 'yada': 9110, 'aforementioned': 864, 'conflict': 2140, 'expire': 3301, 'jamming': 4626, '2005': 311, 'mark': 5144, 'fedex': 3435, 'material': 5164, 'fourth': 3632, 'mutlifunction': 5490, 'tooth': 8208, 'kbd': 4702, 'acceptably': 734, 'mainly': 5093, 'mighty': 5288, '610': 538, 'proper': 6421, 'shortcut': 7308, 'utter': 8619, 'cream': 2319, 'secondly': 7174, 'widget': 8946, 'f12': 3347, 'browser': 1598, 'thirdly': 8114, 'logitechs': 4985, 'comforting': 2031, 'cursor': 2393, 'osx': 5845, 'adjustability': 816, 'gasp': 3765, 'horrendous': 4166, 'clatter': 1925, 'nonexistant': 5631, 'shallow': 7267, 'texture': 8071, 'uniform': 8490, 'raise': 6574, 'dot': 2819, 'asdf': 1147, 'jkl': 4649, 'typist': 8392, 'unforgiveable': 8478, 'sin': 7363, 'transform': 8263, 'peck': 6042, 'typer': 8387, 'visually': 8750, 'superior': 7849, 'loved': 5017, 'nwb': 5697, 'remodeling': 6786, 'at&amp;t': 1179, 'colored': 2012, 'shirt': 7295, 'reverse': 6907, 'adhere': 812, 'flake': 3519, 'chunk': 1899, 'embarrassed': 3064, 'admit': 824, '140.00': 211, '1989': 275, 'woot.com': 9025, 'transmission': 8270, 'hissing': 4121, 'grant': 3881, 'crazy': 2317, 'configurable': 2134, '~15': 9168, 'terribly': 8060, 'crack': 2302, 'vhs': 8709, 'dlink': 2778, 'sales': 7057, 'hah': 3961, 'uninitiated': 8494, '.ftp': 88, 'ap': 1077, 'manager': 5112, 'dwl-2100ap': 2936, 'gibberish': 3808, 'dope': 2812, 'blah': 1455, 'assessment': 1161, 'confuse': 2145, 'moniter': 5392, 'whe': 8916, 'nat': 5521, 'angry.i': 1026, 'hassle.i': 4017, 't': 7937, 'ic': 4253, 'bad.the': 1301, 'adapter.so': 799, 'trinidadian': 8311, 'work.i': 9030, 'family': 3386, 'relocate': 6774, 'intouch': 4532, 'grandmother': 3880, 'lifecam': 4907, 'tag': 7969, 'pentium': 6049, 'processor': 6376, 'uninstalle': 8497, 'stepwise': 7688, 'conectivity': 2128, 'assurity': 1172, 'assurance': 1170, 'checking': 1872, 'kb': 4701, 'cpu': 2300, 'usage': 8595, 'lo': 4962, 'behold': 1390, 'task': 7995, 'dutifully': 2915, 'resource': 6861, 'overrated': 5901, 'cancelling': 1729, 'snug': 7467, 'circuit': 1908, 'reduction': 6713, 'thise': 8116, 'ammount': 1000, 'mow': 5439, 'lawn': 4833, 'cancelleation': 1728, 'drum': 2874, 'heaphone': 4056, 'locked': 4971, 'cabinet': 1687, 'bag': 1304, 'morning': 5409, 'peice': 6044, 'squeeze': 7621, 'improperly': 4336, 'noone': 5637, 'filter': 3476, 'kid': 4727, 'ambiant': 993, 'crank': 2309, 'painfully': 5945, 'inline': 4433, 'triangle': 8305, 'clip': 1947, 'naturally': 5524, 'expert': 3298, 'means': 5197, 'bode': 1498, 'avaya': 1250, 'roadwarrior': 6967, 'gn': 3842, 'netcom': 5574, 'listener': 4949, 'airplane': 901, 'humming': 4221, 'dragon': 2842, 'speaking': 7558, 'cheapo': 1866, 'mike': 5291, 'antonline': 1060, 'stonewall': 7709, 'zen': 9145, 'approve': 1105, 'unsigned': 8542, 'groovy': 3912, 'accommodate': 749, 'works': 9039, 'thanks': 8082, 'speedbooster': 7574, 'procedure': 6372, 'connectivity': 2158, 'wanna': 8822, 'f5d7010': 3350, '54mbps': 507, '108': 160, 'http://www.amazon.com/exec/obidos/tg/detail/-/b000085bcx/qid=1125546516/sr=8-5/ref=pd_bbs_unbuck_5/002-4891207-7082407?v=glance&s=electronics&n=17259': 4204, 'yard': 9114, 'gravity': 3890, 'sink': 7368, 'downward': 2834, 'toward': 8233, 'leash': 4855, 'fence': 3447, 'pet': 6089, 'responsible--': 6869, 'cheap--': 1861, 'volunteer': 8769, 'animal': 1027, 'shelter': 7284, 'guardianship': 3932, 'doodad': 2807, 'bait': 1305, 'lab': 4770, 'happen--': 3991, 'fingerprint': 3488, 'steal': 7675, 'admin': 820, 'bios': 1444, 'privledge': 6356, 'recorded': 6694, 'codec': 1994, 'vix': 8753, 'unreadable': 8530, 'utility': 8616, '1.06': 116, 'trigger': 8309, 'communication': 2042, 'ran': 6577, 'edt': 3008, 'atlantic': 1188, 'vote': 8773, 'scheme': 7123, 'beyond': 1420, 'reseller': 6841, 'outlining': 5864, 'cf': 1830, '4300': 449, '-another': 48, 'kingston': 4735, 'glow': 3838, 'unstable': 8543, 'footprint': 3598, 'fold': 3584, 'eat': 2989, 'subaru': 7782, 'ashtray': 1149, 'park': 5986, 'mountain': 5429, 'hill': 4112, 'mph': 5447, 'starting': 7657, 'shake': 7266, 'wobble': 9012, 'lest': 4886, 'knock': 4749, 'griffin': 3904, 'reccommend': 6652, 'manually': 5122, 'finger': 3486, 'wiggle': 8952, 'fingernail': 3487, 'ridge': 6936, 'dcs-900w': 2473, 'crape': 2312, 'fifth': 3464, 'drill': 2858, 'thanksgiving': 8083, 'graduate': 3869, 'student': 7757, 'suggestion': 7826, 'drastically': 2848, 'credit': 2326, 'account': 757, '52': 501, 'anybody': 1062, 'convincing': 2234, 'truth': 8337, '1.0': 114, '32bit': 392, '45min': 459, 'iii': 4285, 'aware': 1258, 'sustained': 7895, 'upload': 8569, 'ii': 4284, 'sparatic': 7548, 'honestly': 4152, '16': 229, 'pcmcia': 6036, 'praise': 6290, '32': 386, 'kinda': 4733, 'glad': 3829, 'treat': 8290, '19': 251, 'panel': 5960, 'dongle': 2805, 'wake': 8804, 'ctrl': 2368, 'ancient': 1019, 'quietkey': 6528, 'frankly': 3645, 'behemoth': 1388, 'onto': 5792, 'increment': 4378, 'unbearable': 8426, 'bluetooh': 1486, 'cabe': 1686, 'xbr960': 9091, 'pts1000': 6457, 'owner': 5914, 'examination': 3235, 'somethinfg': 7502, 'shopping': 7304, '11010': 173, 'repositionable': 6821, 'tab': 7961, 'render': 6796, 'remain': 6777, 'nyc': 5699, 'unused': 8553, 'icarplay': 4254, 'givben': 3824, 'heartbeat': 4061, 'expedition': 3286, 'drown': 2871, 'misbehave': 5330, 'continual': 2202, 'notorious': 5666, 'thief': 8104, 'industry': 4401, 'personally': 6084, '1,600': 113, 'dcr': 2471, 'pc5': 6032, 'cdx': 1802, 'c90': 1680, '1,200': 112, 'ambiguous': 995, 'statement': 7660, '~$780': 9167, 'handycam': 3984, 'unfortunate': 8482, 'testament': 8064, 'widely': 8944, 'publicize': 6461, 'qc': 6502, 'fiasco': 3457, '1,000': 111, 'indeed': 4381, 'kept': 4713, 'blatant': 1462, 'ahold': 890, 'literally': 4953, 'beforehand': 1375, 'seriously': 7235, 'gag': 3747, 'coverage': 2291, 'whoever': 8936, 'ashamed': 1148, 'liable': 4897, 'belong': 1400, 'unfriendly': 8486, 'prison': 6352, '161.80': 234, 'warrant': 8837, 'confirmation': 2139, 'falter': 3384, 'companies': 2049, 'earplug': 2976, 'lanyard': 4803, 'persuade': 6086, 'pessimistic': 6088, 'quietly': 6529, 'cu': 2369, 'terribl': 8058, 'hearing': 4058, 'disability': 2693, 't33': 7939, 'clerk': 1937, 'smile': 7448, 'surely': 7873, 'impossibly': 4329, 'tight': 8156, 'discomfort': 2714, 'underdash': 8450, 'cupholder': 2383, 'glove': 3837, 'compartment': 2059, 'installer': 4454, '700p': 570, 'north': 5643, 'carolina': 1759, 'misname': 5343, 'critical': 2340, '101': 154, '101n': 156, 'complex': 2085, 'interchange': 4493, 'actively': 785, 'basis': 1330, 'familiar': 3385, 'unfamiliar': 8476, 'territory': 8062, 'unclear': 8438, 'usele': 8605, 'ordeal': 5827, 'outlook': 5865, 'ipaq': 4569, 'foreshadowing': 3608, 'fun': 3698, 'techno': 8020, 'handheld': 3975, 'essence': 3182, 'water': 8860, 'terminate': 8056, 'microwave': 5279, 'flashy': 3532, 'conceive': 2107, 'tg5576': 8076, 'underwhelme': 8458, 'pansonic': 5964, 'representative': 6822, 'ringtone': 6949, 'wallpaper': 8815, 'monthly': 5403, 'lieu': 4905, 'callers': 1708, 'edison': 3002, 'custom': 2400, 'dinky': 2681, 'backlighting': 1289, 'keypad': 4718, 'regional': 6740, 'coding': 1996, 'busily': 1646, 'principle': 6343, 'secretely': 7175, 'catridge': 1792, 'snotty': 7465, 'us$': 8591, '75': 586, 'sixth': 7384, '-koss': 57, 'plugs': 6202, 'spark': 7550, '09/15/2006': 108, '-apple': 49, 'viewer': 8727, 'precede': 6294, '20-$30': 300, 'buds': 1616, 'enhance': 3115, 'aaa': 697, 'saver': 7095, 'alkaline': 936, 'legend': 4869, 'shoreline': 7305, 'drain': 2844, 'deadline': 2483, 'ripoff': 6953, 'tinker': 8170, 'actiontec': 781, 'antonline.com': 1061, 'curved': 2396, 'sloping': 7428, '1988': 274, '300e': 381, 'daewoo': 2433, 'lanos': 4800, 'armour': 1128, 'protective': 6433, 'coating': 1984, 'jolt': 4662, 'experiment': 3296, 'daughter': 2460, 'powerline': 6280, 'etherernet': 3196, 'module': 5378, 'overheat': 5890, 'detector': 2613, 'ibook': 4251, 'fruitless': 3678, 'step': 7685, 'hack': 3960, 'saw': 7098, 'ibooks': 4252, 'compensation': 2070, 'strongly': 7752, 'drink': 2859, 'coffee': 1997, 'thermal': 8099, 'carafe': 1746, 'coffeemaker': 1998, 'hotter': 4180, 'fresher': 3666, 'tasting': 7999, 'cup': 2382, 'capresso': 1742, 'mt-500': 5458, 'slightly': 7420, 'taste': 7997, 'japanese': 4632, 'zojirushi': 9154, 'mechanically': 5205, 'reuseable': 6902, 'mesh': 5242, 'krups': 4759, 'proaroma': 6361, 'definite': 2529, 'concern': 2110, 'bean': 1351, '\\x1athe': 4, 'mm': 5359, 'padding': 5938, 'modification': 5375, '\\x1aat': 1, 'slider': 7417, '\\x1aafter': 0, 'mute': 5487, '\\x1ai': 2, 'portion': 6247, '\\x1ain': 3, 'observation': 5713, 'receiving': 6658, 'exceptionally': 3249, 'chord': 1892, 'robust': 6973, 'beneath': 1407, 'accidentally': 745, 'extraordinary': 3331, 'foremost': 3605, 'uncomfortably': 8443, 'airspace': 905, 'insulated': 4468, 'muff': 5465, 'summer': 7833, 'exhaustion': 3265, 'y': 9108, 'splitter': 7593, 'crawl': 2315, 'logitek': 4986, 'onboard': 5779, 'output': 5867, 'beam': 1350, \"5'10\": 481, 'uglier': 8400, 'feal': 3426, 'palmone': 5953, 'tx': 8383, 'comparison': 2057, 'lexus': 4893, 'concept': 2109, 'intriguing': 4534, 'realty': 6629, 'sobering': 7472, 'meaningful': 5196, 'in': 4340, 'und': 8447, 'serve': 7237, 'acquire': 774, 'oem': 5740, 'outdated': 5857, 'precise': 6296, 'nav': 5526, 'phoenix': 6102, 'az': 1273, 'neighborhood': 5562, 'seven': 7249, 'freeway': 3657, 'intersection': 4520, 'clumsy': 1968, 'soft': 7476, 'disrupt': 2750, 'navigational': 5529, 'aid': 891, 'truly': 8333, 'reality': 6623, 'marketing': 5148, 'featured': 3433, 'poi': 6215, 'interest': 4499, 'prone': 6415, 'advanced': 838, 'hint': 4117, 'scramble': 7133, 'puzzle': 6490, 'solving': 7495, 'h10': 3949, 'subscription': 7790, 'iriver': 4579, 'desperately': 2598, 'caution': 1794, 'bazillion': 1345, 'initiallize': 4424, 'hawaii': 4026, 'alaska': 922, 'haha': 3962, 'bose': 1536, 'aftermarket': 868, 'mazda': 5183, 'f1500': 3348, 'crt': 2349, 'kvm': 4765, 'horror': 4172, 'overlay': 5894, 'associate': 1166, 'w': 8781, 'refresh': 6727, 'height': 4072, 'upper': 8571, 'tilt': 8161, 'jaggie': 4623, 'refesh': 6719, 'era': 3162, 'vga': 8707, 'nonstandard': 5635, 'cluster': 1970, 'context': 2200, 'multimedia': 5471, 'employer': 3080, 'winxp': 8983, 'dread': 2853, 've': 8670, 'eventual': 3211, 'xm': 9096, 'john': 4658, 'quaility': 6506, 'locally': 4967, 'lexmark': 4892, 'bell': 1399, 'whistle': 8931, 'epson': 3147, 'dull': 2898, 'mild': 5293, 'brown': 1596, 'haze': 4028, 'passably': 6000, 'fortune': 3623, 'speechless': 7572, 'compatable': 2062, 'anycom': 1063, 'lynksy': 5043, 'conflicting': 2141, 'oppinion': 5812, 'atleast': 1190, 'um': 8412, 'peace': 6039, 'gadget': 3746, 'jointed': 4660, 'nature': 5525, 'comfortably': 2030, 'dust': 2912, 'magnet': 5087, 'encrust': 3094, 'lint': 4941, 'sneak': 7462, 'dna': 2782, 'sample': 7066, 'paradise': 5976, 'forensic': 3606, 'paranoid': 5979, 'shiny': 7290, 'sansa': 7077, 'moral': 5406, 'sister': 7375, 'intermittent': 4509, 'problems-': 6368, 'staticy': 7663, 'blocky': 1479, 'apex': 1082, 'resaon': 6838, 'dive': 2769, 'thinking': 8109, 'abuse': 726, 'loathe': 4965, 'usability': 8593, 'source': 7539, 'compress': 2097, 'usb1': 8598, 'worry': 9043, 'rush': 7024, 'italian': 4607, 'thickness': 8103, '3.5': 374, 'amazo': 986, 'adore': 832, 'spacing': 7545, 'anytime': 1070, 'hugely': 4212, 'overprice': 5900, 'belt': 1401, 'activity': 787, 'flex': 3547, 'bicep': 1424, 'constrict': 2184, 'muscle': 5477, 'waistband': 8799, 'sweatpant': 7905, 'treadmill': 8289, 'world': 9041, 'destine': 2602, 'whilst': 8924, 'problme': 6369, 'roll': 6979, 'distinct': 2758, 'buzzing': 1665, 'gracious': 3864, 'c01u': 1672, 'witih': 9000, 'ableton': 711, '10.4.7': 145, 'macbookpro': 5062, 'lag': 4785, 'builtin': 1625, 'centrino': 1819, 'enbale': 3085, '108mbps': 162, \"coudln't\": 2272, 'enable': 3084, 'g.': 3731, 'bout': 1545, 'wpc54gx': 9057, 'h3': 3952, 'indestructable': 4387, 'square': 7617, 'curve': 2395, 'crown': 2348, 'loosens': 5000, 'earpad': 2972, 'wobbly': 9013, 'stalk': 7642, 'bummer': 1632, 'impressive': 4334, 'translate': 8269, 'functionality': 3701, 'schedule': 7122, 'readily': 6614, 'keystroke': 4719, 'revert': 6908, 'scientific': 7127, 'atlanta': 1187, 'vastly': 8666, 'pricetag': 6336, 'relative': 6761, 'sad': 7049, 'study': 7759, 'natural': 5523, 'typing': 8391, 'emergency': 3069, 'sofware': 7480, 'scanning': 7114, 'parameter': 5978, 'sided': 7331, 'definitively': 2532, 'observe': 5714, 'soho': 7481, 'confusing': 2147, 'troubleshoot': 8323, 'savvy': 7097, 'feeder': 3439, 'platform': 6175, 'trasnfer': 8279, \"wasen't\": 8849, 'picutere': 6134, 'hinge': 4116, 'warp': 8836, 'headband': 4046, 'massive': 5160, 'cushioning': 2398, 'funky': 3707, 'styling': 7775, 'fate': 3412, 'central': 1817, 'pinch': 6139, 'dim': 2671, 'calculator': 1701, 'trash': 8278, 'digit': 2667, 'rpn': 7002, 'devotee': 2625, '11c.': 179, 'horribly': 4168, 'entry': 3134, 'bust': 1650, 'absent': 718, 'jvc': 4690, 'ha': 3956, 'fx55v.': 3725, 'array': 1132, 'offering': 5747, 'daunt': 2461, 'jplug': 4669, 'shure': 7321, '500': 492, 'distribute': 2765, '119': 178, '499': 471, 'girl': 3822, 'tricky': 8307, 'bulb': 1626, 'whirl': 8928, 'transmit': 8271, 'dismally': 2741, 'product-': 6382, 'disaster': 2705, 'corrupted': 2264, '37': 411, 'mopre': 5405, 'fritz': 3674, 'cs': 2364, 'notable': 5650, 'folk': 3587, 'disposable': 2746, 'commodity': 2038, 'breakdown': 1565, 'wow': 9052, 'household': 4184, 'nov.': 5668, 'stock': 7706, '29th': 357, 'discouraging': 2722, '201': 316, '7575': 589, 'american': 998, 'metiocracy': 5255, 'independently': 4385, 'cancellation': 1727, 'philip': 6098, 'philp': 6101, 'arrange': 1130, 'reconnect': 6689, 'insistent': 4447, 'thereof': 8098, 'jumpdrives': 4681, 'jumpdrive': 4680, 'keychain': 4717, 'terk': 8054, 'makes': 5101, 'multiswitch': 5473, '154.00': 226, 'asap': 1146, 'protection': 6432, 'wor': 9027, 'caramel': 1747, 'veil': 8677, 'indistinct': 4395, 'abundant': 725, 'stax': 7670, 'superclean': 7845, 'clinical': 1946, 'hd600s': 4037, 'borrow': 1535, 'w20': 8787, 'audition': 1222, 'rare': 6586, '-small': 64, '-recording': 63, '-hold': 54, '-bug': 50, 'f***ed': 3340, '-software': 65, '-mic': 58, 'noice': 5621, '-device': 53, '-a': 45, 'following': 3590, 'ds-2200': 2881, 'olympu': 5768, 'smoke': 7449, 'ironic': 4582, '4.99': 434, '3.99': 375, 'fw': 3724, 'blackberry': 1453, 'ma': 5057, 'everyday': 3218, 'relatively': 6762, 'roadtrip': 6966, 'drama': 2845, 'vehicle': 8675, 'million': 5301, 'equalizer': 3152, 'bles': 1468, 'favorite': 3421, 'equally': 3153, 'tethered': 8069, 'behavior': 1386, 'incarnation': 4355, 'tender': 8048, 'resuscitation': 6883, 'iogear': 4564, 'suddenly': 7817, 'technologically': 8021, 'qa': 6499, 'necessity': 5547, 'riddle': 6933, 'clause': 1926, 'exclude': 3257, 'reputation': 6828, 'crutchfield.com': 2359, 'yr': 9132, '29.99': 354, '59.99': 513, 'crutchfield': 2358, 'boon': 1525, 'consitently': 2178, 'lip': 4943, 'vo': 8755, 'ad': 795, 'appolgie': 1100, 'happ': 3988, 'z-5450': 9137, 'ease': 2982, 'guarantee': 3930, 'cyber': 2419, 'amazon.com': 988, 'rigg': 6941, 'thread': 8124, 'futze': 3717, 'half-': 3966, 'toooo': 8207, 'plier': 6197, 'recept': 6661, 'verry': 8696, 'vice': 8715, 'clamp': 1917, 'forcefully': 3603, 'securely': 7181, 'delicate': 2544, 'retractable': 6892, 'feasible': 3429, 'gentle': 3789, 'trv33': 8339, 'clog': 1952, 'cleaning': 1930, 'compound': 2093, 'lubricate': 5032, 'stil': 7701, 'zr-90': 9159, 'abc': 703, 'warehouse': 8831, 'camcorder': 1711, 'videotape': 8722, 'basketball': 1331, 'coach': 1979, '340.00': 399, 'irive': 4578, 'wrap': 9061, 'palmtop': 5955, 'incessantly': 4356, 'injury': 4428, 'chinese': 1884, 'meat': 5202, 'bone': 1509, 'microtrack': 5278, 'woefully': 9015, 'wgt624v3': 8911, 'connetion': 2160, 'novelty': 5669, 'brine': 1585, 'ibm': 4250, 'r51': 6554, 'vpn': 8775, 'rediculous': 6708, 'msn': 5454, 'yahoo': 9111, 'thinkvantage': 8111, '95': 653, 'scanned': 7112, '97': 657, '@': 676, '54mbs': 508, 'winsocks': 8980, 'winsockxp': 8981, 'website)and': 8885, 'yea': 9116, 'stability': 7634, 'conection': 2127, 'bin': 1436, 'saying': 7100, 'cnnot': 1976, 'cat': 1785, 'strand': 7727, 'january': 4630, 'iopd': 4565, 'upsetting': 8576, 'finlay': 3493, 'serial': 7230, 'angry': 1025, 'dont': 2806, 'vonage': 8771, 'everthing': 3213, 'dad': 2432, 'flee': 3544, 'drove': 2870, 'p.': 5921, 'o.': 5703, 's.': 7033, 'pos': 6248, 'offset': 5754, 'crc': 2318, 'im': 4296, 'hasnt': 4014, 'recall': 6649, 'crummy': 2356, 'recognizable': 6677, 'gift': 3810, 'school': 7125, 'f8v366': 3351, 'apl': 1084, 'f8v367': 3352, 'you)': 9127, 'f8v7067': 3353, '15!)': 218, 'occupy': 5730, 'twin': 8377, 'father': 3413, 'iron': 4581, 'precisely': 6297, 'concerned': 2111, 'up': 8560, 'stye': 7772, 'fillipe': 3472, 'expandable': 3276, 'mischance': 5333, 'reimbursement': 6751, 'team': 8011, 'fulfil': 3692, 'acquisition': 775, 'lucky': 5037, 'whatsoever': 8915, 'practical': 6286, 'boo': 1512, 'footstep': 3599, 'birthday': 1447, 'confirm': 2138, '1.0.5.0': 115, '1.12': 119, 'facility': 3366, 's182': 7036, 'daxon0016s': 2463, 'compaq': 2052, '7970': 602, 'amd': 996, 'k7': 4694, 'frequent': 3663, 'irq': 4583, 'sharing': 7271, 'ot': 5846, 'fa310,fa311': 3356, 'fa312': 3357, 'reformate': 6725, 'absolutly': 722, 'mmorpg': 5360, 'edition': 3006, 'beg': 1378, 'cheapest': 1863, 'tower': 8237, 'lightening': 4914, 'dfe-530tx+': 2628, 'minimum': 5317, '10.2': 142, '10.3': 143, 'realtek': 6627, 'modern': 5373, 'gigabyte': 3814, 'velocity': 8681, 'uncompatibility': 8444, 'hace': 3958, 't7200': 7959, '7200': 580, '7400': 585, '24.00': 331, 'depot': 2576, 'clearance': 1933, '44.00': 451, 'recommended': 6688, 'september': 7227, 'borderline': 1533, 'powerjolt': 6279, 'overwhelming': 5912, 'public': 6459, 'transportation': 8276, 'majority': 5098, 'earbuds': 2966, 'hn110': 4133, 'beefy': 1371, 'scrawny': 7139, 'batt': 1339, 'tad': 7968, 'thus': 8145, 'hn': 4132, 'merchandise': 5233, 'authorization': 1229, 'hefty': 4071, 'stethascope': 7691, 'warrenty': 8844, 'crackling': 2304, 'whip': 8926, 'scrap': 7134, 'resolder': 6855, 'resoldere': 6856, 'persist': 6078, 'im3c': 4297, 'mojo': 5380, 'wonderfully': 9020, 'propreitary': 6425, 'floppy': 3565, 'seventh': 7250, 'work??,': 9031, 'degree': 2538, 'object': 5707, 'skycaddie': 7403, 'modify': 5376, 'again,': 872, 'often,': 5756, 'probally': 6363, 'skygolf': 7404, 'correction': 2258, 'tin': 8168, 'nickel': 5605, 'oxygen': 5916, 'sheilde': 7280, 'supreme': 7868, 'cheapie': 1864, 'visible': 8743, 'oscilloscope': 5844, 'leg': 4866, 'bidding': 1427, 'estate': 3189, 'wrong-': 9070, 'confusion': 2149, 'production)-': 6384, 'largely': 4810, 'bluray': 1489, 'implement': 4321, 'versus': 8702, 'designer': 2593, 'harsh': 4012, 'treatment': 8291, 'shielding-': 7287, 'toughen': 8226, 'certify': 1828, 'nuclear': 5682, 'fallout': 3382, 'entertainment': 3129, 'fare': 3399, 'emp': 3076, 'plusse': 6204, 'sturdiness': 7767, 'branding': 1560, 'tmds': 8183, '80': 614, 'vibrant': 8712, 'digitally': 2669, 'sucker': 7811, 'abide': 706, 'presence': 6314, 'favorable': 3419, 'flexibe': 3549, 'st': 7632, 'louis': 5013, 'intereference': 4498, 'dlo': 2779, 'junky': 4686, 'compression': 2098, 'ex81lp': 3232, 'medical': 5210, 'blasting': 1461, 'er-6': 3159, 'dissapointed': 2752, 'vacuum': 8644, 'environmental': 3139, 'attenuate': 1203, 'ex51': 3229, '325': 389, 'sitting': 7379, 'encourage': 3092, \"new'model-\": 5587, 'effective': 3016, 'supposte': 7862, 'ocz': 5734, 'msh-128': 5453, '20th': 322, 'p100': 5924, 'c:13:01': 1681, 'stores': 7718, 'travle': 8286, 'arizona': 1124, 'x51v.': 9087, 'recoginize': 6674, 'oneday': 5784, 'wipe': 8985, 'recive': 6672, 'swindle': 7910, 'formating': 3616, 'deletion': 2543, 'remedy': 6781, 'discete': 2709, 'refurbished': 6732, 'bulgaria': 1627, 'fortunate': 3621, 'mabey': 5058, 'stitch': 7704, 'supple': 7855, 'leather': 4857, 'speck': 7568, 'toughskin': 8227, 'heal': 4054, 'constant': 2182, 'totaly': 8219, 'inaudible': 4350, 'lower': 5022, 'lean': 4850, 'fhd351': 3455, 'c340': 1675, 'pilot': 6137, 'wrongly': 9071, 'achieve': 768, 'valuable': 8651, 'notification': 5664, 'illegal': 4288, 'publicity': 6460, 'ordered': 5829, 'legal': 4868, 'crumble': 2355, 'peel': 6043, 'quot;burned': 6536, 'out&quot': 5854, 'details': 2610, '450': 456, 'discussion': 2730, 'cart': 1770, 'cards': 1751, 'disney': 2743, 'convention': 2223, 'scandisk': 7111, 'invent': 4550, 'tecnology': 8025, '50.00': 491, 'anatomy': 1017, 'dare': 2447, 'running': 7022, 'unuseable': 8552, 'sweet': 7908, 'considerable': 2170, 'tie': 8151, 'generate': 3782, 'uh': 8402, 'pt': 6455, 'busy': 1652, 'reference': 6718, 'permission': 6072, 'limitation': 4929, 'inclined': 4360, 'optical': 5818, 'shine': 7289, 'wrist': 9064, 'mush': 5478, ':-/': 671, 'donate': 2804, 'ball': 1309, 'awesomefun': 1263, 'isntalle': 4598, 'ed': 2999, 'coincidence': 2000, 'remind': 6784, 'windowsxp-kb884020-x86-enu.exe': 8973, '-------------------------------------': 26, 'di-624': 2634, 'encrpte': 3093, 'endlessly': 3100, 'bps': 1554, '1499.99': 215, 'tvhd': 8369, 'august': 1224, 'amozon': 1004, \"dosen't\": 2817, '......': 73, 'protocol': 6436, '524': 502, 'd.': 2428, 'di-52': 2633, 'consist': 2172, 'script': 7144, 'whizz': 8935, 'master': 5161, '3:00': 417, 'afford': 859, 'epiphany': 3143, 'ceo': 1821, 'stephen': 7686, 'joe': 4653, '1.23': 123, 'ping': 6141, 'misery': 5337, ':(': 668, 'sand': 7071, 'walkie': 8808, 'talkie': 7978, 'charging': 1854, 'humberto': 4219, 'gonzalez': 3849, 'costa': 2268, 'ric': 6929, 'usefull': 8604, '283': 352, '1311': 203, 'registration': 6742, 'warrany': 8842, '2003': 309, '2004': 310, 'invoice': 4559, 'belittle': 1395, 'fyi': 3727, 'cdo': 1799, 'kds': 4704, 'returnable': 6898, 'mart': 5153, 'fashioned': 3403, 'adorama': 831, 'pkg': 6158, '270': 347, 'instruct': 4464, 'aug': 1223, '28th': 353, 'gal': 3749, 'boombox': 1520, 'boomboxe': 1521, 'roady': 6969, 'delphi': 2553, 'los': 5003, 'angeles': 1022, 'xt': 9103, 'xm2go': 9097, 'hissy': 4122, 'monaural': 5387, 'imo': 4314, 'plenty': 6194, 'interruption': 4519, 'professionally': 6389, 'join': 4659, 'allloooooonnnng': 942, 'relevant': 6766, 'antennas': 1053, 'energizers': 3105, '1600mah': 233, 'energizer': 3104, '2500mah': 341, 'rayovac': 6600, 'rayovacs': 6601, \"spec'e\": 7560, '4th': 475, '5th': 520, 'trusty': 8336, 'idpod': 4270, 'bend': 1405, 'earclip': 2967, 'hands': 3979, '96': 655, 'beautifull': 1361, 'weekly': 8892, 'dosent': 2818, 'tim': 8162, '2_0_0_7': 358, 'publish': 6462, 'nov': 5667, 'zboard': 9143, 'playbility': 6180, 'efficiency': 3019, '-the': 66, 'mirroring': 5329, 'interpret': 4517, 'command': 2034, '-accorde': 46, 'winamp': 8965, '-you': 68, 'macro': 5070, 'autofire': 1233, 'numpad': 5692, 'differently': 2661, 'attack': 1198, 'pvpe': 6491, 'warcraft': 8828, 'arsenal': 1138, 'spell': 7577, 'wail': 8797, 'binding': 1439, 'revamp': 6903, 'contour': 2208, 'quiet': 6527, 'audiophile': 1220, 'overly': 5897, 'omit': 5774, 'v2.50': 8626, 'wli': 9005, 'tx4': 8384, 'g54hp': 3739, 'hex': 4092, '64': 540, 'encryption--': 3097, 'lame': 4787, 'crud': 2351, 'shopper': 7303, 'dishnetwork': 2736, '942': 652, '21&quot': 324, 'traditional': 8250, '19&quot': 252, 'bob': 1497, 'archos': 1118, '8/26': 613, '10/1': 147, 'align': 933, 'centimeter': 1816, 'cardstock': 1752, 'trim': 8310, 'cutter': 2410, 'experiance': 3292, 'measure': 5200, 'preview': 6330, 'beginner': 1381, 'stamper': 7645, 'paperstock': 5970, 'justice': 4687, 'glossy': 3836, 'beat': 1356, 'garim': 3761, 'summit': 7834, 'identify': 4265, 'sideways': 7334, 'overexposed': 5886, 'viewsonic': 8729, 'immediatly': 4310, 'ps2': 6447, 'creepy': 2328, 'pstwo': 6453, '870': 631, 'iway': 4616, 'maryland': 5157, 'york': 9125, 'island': 4596, 'jersey': 4642, 'turnpike': 8364, 'chart': 1856, 'obstruction': 5717, 'recalculate': 6646, 'retry': 6895, 'bronx': 1593, 'journey': 4665, 'stretch': 7746, '1.2.0': 121, '212': 325, 'ny': 5698, 'calculation': 1700, 'c530': 1677, '350c': 404, 'eleven': 3051, '865': 629, 'georgia': 3800, 'tybee': 8385, 'pine': 6140, 'newnan': 5591, 'rely': 6776, 'episode': 3144, 'newly': 5590, 'react': 6609, 'turning': 8363, 'sequence': 7228, 'sixty': 7385, 'way.)two': 8870, 'preferred': 6306, 'enroute': 3123, 'passanger': 6001, 'wim': 8958, 'unfortunalty': 8481, 'unfortunaltey': 8480, 'economical': 2997, 'gotcha': 3859, 'limited': 4930, 'specfic': 7561, 'neighbor': 5561, 'rejection': 6757, 'magellan': 5080, 'roadmate': 6965, 'sytem': 7936, 'rw': 7026, 'moreover': 5407, 'pardon': 5981, 'machines.': 5067, 'cpus': 2301, '3ghz': 421, 'rudeness': 7009, 'easycd': 2988, 'creator': 2323, 'uninstallation': 8496, 'roxio': 6998, '10gb': 164, 'nerovision': 5569, '1gb': 282, 'quarrel': 6512, 'patiently': 6015, '720': 579, '710': 575, 'et': 3194, 'al': 918, 'ridicolous': 6937, 'software(s': 7479, 'incompetence': 4366, 'breaking': 1567, '720ul': 583, '710ul': 576, 'manning': 5118, 'ia': 4247, 'runaround': 7018, 'mercy': 5236, '...............': 79, 'cardbus': 1750, 'bsod': 1604, 'inoperative': 4437, 'certified': 1827, 'narrow': 5517, 'fa511': 3358, 'culprit': 2378, 'inactivity': 4345, 'wildly': 8955, 'inappropriate': 4348, 'escalate': 3173, 'shocked': 7297, 'straightforward': 7725, 'ninety': 5614, '3com': 419, 'smc': 7445, 'xircom': 9095, 'tremendous': 8297, 'seprately': 7225, 'gimic': 3818, 'contribute': 2215, 'cox': 2294, 'tivo': 8181, 'series2': 7233, 'commitment': 2037, '12.95': 185, 'seperate': 7223, 'tricycle': 8308, 'interuppte': 4522, '1/4': 135, 'asnd': 1157, 'similarly': 7354, '42': 446, 'akai': 914, 'plasma': 6169, 'wishlist': 8994, 'artifact': 1141, 'dnr': 2783, 'heath': 4064, 'club': 1965, 'rebroadcast': 6643, 'circular': 1910, 'minumum': 5325, 'custumer': 2405, 'military': 5296, 'deployment': 2575, 'aol': 1076, 'blog': 1480, 'tank': 7985, 'absolute': 719, 'worst': 9046, 'untouched': 8549, 'overnight': 5898, 'possibilite': 6254, 'lamination': 4788, 'smoothe': 7452, 'intense': 4485, 'downloading': 2825, 'finicky': 3490, 'brain': 1556, 'surgery': 7879, 'sincerely': 7364, 'befw11s4': 1377, 'unobtrusive': 8517, 'furniture': 3710, 'equip': 3154, 'howver': 4187, 'painlessly': 5946, 'stream': 7736, 'submerse': 7786, 'internally': 4512, 'waterproofness': 8863, 'baloney': 1310, 'integrity': 4478, 'humidity': 4220, 'mapsource': 5136, 'absolutley': 721, 'stellar': 7683, 'bliss': 1473, 'klipsch': 4743, 'backordere': 1291, 'inc.': 4354, '360': 407, 'tax': 8002, 'occurance': 5732, '125': 194, '970': 658, \"hasen't\": 4013, 'lube': 5031, 'klipschhorns': 4744, 'promedia': 6408, 'fabulous': 3362, 'division': 2773, 'inc': 4353, 'uncooperative': 8446, 'unsympathetic': 8546, 'curt': 2394, 'unprofessional': 8527, 'ultimately': 8408, 'elswhere': 3058, 'klipsh': 4745, 'heed': 4070, 'garage': 3758, 'blast': 1459, 'lacie': 4778, 'swipe': 7913, 'biometric': 1442, 'sensor': 7217, 'swiping': 7914, 'partione': 5992, 'partition': 5993, 'partion': 5991, 'slam': 7409, 'stomp': 7707, 'cease': 1804, 'forbid': 3601, 'malfunctioning': 5105, 'reinserte': 6754, 'jan': 4628, 'md7001': 5191, 'prominently': 6410, 'lifespan': 4910, 'extent': 3322, 'accurately': 763, 'dislike': 2739, 'invisible': 4558, 'nail': 5508, 'tacky': 7965, 'boxwave': 1549, 'cleartouch': 1936, 'fellowes': 3445, 'writeright': 9067, 'm130': 5050, 'imitator': 4306, 'triumph': 8318, 'substance': 7793, 'ruthlessly': 7025, 'exploit': 3308, 'naivete': 5510, 'salespeople': 7059, 'for\"---but': 3600, 'interconnect': 4497, 'optimal': 5820, 'gauge': 3768, 'fraction': 3638, 'disgusted': 2734, 'crucial': 2350, 'win98se': 8964, 'exists': 3272, 'advertising': 847, 'production': 6383, 'a612': 694, 'flukey': 3573, 'pro4aat': 6360, 'vinyl': 8733, 'breathe': 1571, 'leatherette': 4858, 'washing': 8853, 'ocean': 5733, 'truck': 8330, 'nestle': 5570, 'bullet': 1630, 'gimick': 3819, 'costly': 2271, 'ratpadzgs': 6595, 'ratpadz': 6594, 'compaire': 2048, 'ratpad': 6593, 'density': 2565, 'o(tm': 5702, 'g7': 3742, 'gs': 3923, 'curser': 2392, 'mousepad': 5433, 'jittere': 4648, 'indicative': 4393, 'groove': 3911, 'budge': 1614, 'recomend': 6681, 'bubble': 1608, 'tennessee': 8050, 'technically': 8017, 'complicated': 2088, 'moreso': 5408, 'grandchild': 3878, 'sweat': 7902, 'addressing': 808, 'establish': 3188, 'dunno': 2903, 'headache': 4045, 'troublshooting': 8327, '22': 326, 'beasty': 1355, 'dp': 2836, 'g321': 3735, 'z320': 9141, 'psc': 6448, '1250': 195, 'photosmart': 6118, '7310': 584, 'parallel': 5977, 'laserjet': 4814, '1100': 171, 'wave': 8867, 'secured': 7179, 'wps54gu2': 9060, 'l': 4767, 'method': 5253, 'unnoticable': 8514, 'mp530': 5444, 'lengthy': 4876, 'reenter': 6715, 'traveldrive': 8282, 'logo': 4987, 'ilussion': 4295, 'didn': 2652, '250.00': 338, 'previousl': 6332, 'grievance': 3903, 'retraction': 6893, 'bounce': 1543, 'threaten': 8125, '5month': 516, 'tint': 8174, 'tube': 8341, 'som': 7496, 'reseting': 6848, 'sexy': 7257, 'lightly': 4917, 'pity': 6151, 'lowercase': 5023, 's510': 7040, 'subtract': 7800, 'wide': 8943, 'fancy': 3389, 'cat5': 1786, 'sheilding': 7281, 'oz': 5918, '12.0': 183, '14.0': 207, '10.0': 141, '4.0': 429, '30.00': 378, 'clix': 1949, 'gel': 3776, 'ooze': 5796, 'staple': 7650, 'definately': 2525, 'out': 5853, 'two+': 8381, '4750': 462, 'champ': 1839, 'lay': 4835, 'nokia': 5625, '6682': 553, 'voltage': 8766, 'isse': 4603, 'ir': 4576, 'jet': 4643, 'app': 1086, 'member': 5222, 'dye': 2940, 'deterioration': 2616, 'stain': 7640, 'thrill': 8128, 'however(before': 4186, 'broke)wa': 1591, 'organization': 5834, 'commonly': 2040, 'character': 1848, 'copying': 2247, 'undisclosed': 8460, 'cranking': 2310, 'got': 3858, 'heartattack': 4060, 'cope': 2242, 'typewriter': 8388, 'q': 6495, 'overlapping': 5893, 'esoteric': 3177, 'resistance': 6852, 'guideline': 3938, 'warrantee': 8838, 'diminish': 2674, 'closely': 1957, 'overcompressed': 5883, 'mp3s': 5442, 'mushy': 5479, 'slant': 7410, 'oversized': 5905, '|\\\\': 9163, 'accomodate': 751, 'consequence': 2164, 'miniaturize': 5311, 'shell': 7283, 'programmer': 6398, 'pipe': 6147, 'escape': 3174, 'immideatley': 4312, 'styli': 7774, 'worse': 9044, 'placement': 6160, 'av': 1242, 'reprogramme': 6826, 'lg': 4895, 'theory': 8094, 'ge': 3772, 'superadio': 7842, 'tuning': 8356, 'dissimilar': 2755, 'superadio2': 7843, 'overated.piossibly': 5877, 'ehter': 3026, '55': 509, 'phillips': 6100, 'conk': 2153, 'learning': 4853, 'defunct': 2534, 'reservation': 6845, 'led': 4862, 'endure': 3102, 'monsters': 5400, 'whir': 8927, 'vcd': 8667, 'country': 2282, 'recomme': 6684, 'intutive': 4545, 'occational': 5729, 'burden': 1637, 'restriction': 6879, 'touchpad': 8222, 'supersede': 7852, 'rename': 6795, 'unprovoked': 8528, 'negligence': 5559, 'overlook': 5896, 'verse': 8700, 'bs': 1603, 'unlock': 8509, 'ordinary': 5831, 'evidence': 3225, 'refute': 6734, 'st_jx410': 7633, 'strde': 7734, '197': 259, 'monoral': 5397, 'jx410': 4691, 'onkyo': 5785, 'sr304': 7624, 'expandability': 3275, 'orchestra': 5826, 'softly': 7477, 'capacitor': 1739, 'blend': 1467, 'rolloff': 6981, 'decoder': 2507, 'pll': 6198, 'khz': 4723, 'selectivity': 7194, 'alternate': 972, 'flippin': 3559, 'steaming': 7676, 'turd': 8360, 'china': 1883, 'clap': 1918, 'scamme': 7109, 'comparable': 2053, 'status': 7669, 'gash': 3764, 'ding': 2679, 'unpresentable': 8526, 'rhinoskin': 6928, 'latching': 4819, 'boxwave.com': 1550, 'hardcase': 3997, 'availab': 1245, 'le': 4844, 'liner': 4934, 'march': 5138, 'insufficient': 4467, 'closing': 1959, 'delighted': 2546, 'rugged': 7011, 'dealership': 2489, 'toughskins': 8228, 'rough': 6987, 'products': 6386, 'pastime': 6009, 'melt': 5221, 'dependant': 2573, 'holy': 4144, 'grail': 3871, 'itchy': 4609, 'fabric': 3360, 'crush': 2357, 'review-': 6910, 'substandard': 7794, 'avoi': 1252, 'surrounding': 7888, 'extention': 3323, 'treble': 8292, 'argh': 1121, 'seiko': 7190, 'promptly': 6414, 'definetly': 2528, 'iskin': 4595, 'waiste': 8800, 'safety': 7054, 'incher': 4358, 'bulkier': 1628, 'psyched': 6454, 'triple': 8314, 'homemade': 4146, 'to': 8185, 'breaker': 1566, 'subsequent': 7791, 'lb': 4840, 'miserably': 5336, 'flop': 3564, 'audiovox': 1221, 'parent': 5982, 'interior': 4507, 'resent': 6844, 'desert': 2587, 'fund': 3703, 'certificate': 1825, 'processing': 6375, 'inventory': 4552, 'centric': 1818, 'unwooded': 8558, 'bush': 1645, 'overhead': 5889, 'canopy': 1734, 'confrm': 2143, 'tramper': 8256, 'tracking': 8244, 'oziexplorer': 5919, 'percentage': 6055, 'guatemala': 3934, 'inexpesive': 4405, 'preteen': 6324, 'symbol': 7925, '40.00': 437, 'wig': 8951, 'bedroom': 1369, 'dumpster': 2902, 'spacebar': 7543, 'glitch': 3835, 'handling': 3978, 'sick': 7328, 'phase': 6094, 'verbal': 8687, 'affirmation': 856, 'wav': 8866, 'fussy': 3715, 'forwards': 3628, 'specify': 7567, 'marker': 5146, 'define': 2526, 'spartan': 7552, 'smple': 7455, 'win2': 8960, 'novice': 5672, 'hater': 4021, 'humanity': 4217, 'confusingly': 2148, 'buzzer': 1664, 'timex': 8166, 'comapare': 2018, 'g-54lp(beware': 3730, 'g54lp': 3740, 'ex': 3228, '71': 574, '81': 622, 'e2c': 2954, 'nasty': 5520, 'evidently': 3227, 'sm': 7437, 'thee': 8088, 'rewrite': 6924, '80.00': 615, 'passport': 6005, 'x50': 9085, 'escort': 3175, 'radar': 6560, 'cal\"s': 1698, 'required': 6832, 'confused': 2146, 'thumbwheel': 8140, 'cigarette': 1903, 'lighter': 4915, 'ignition': 4276, 'excessive': 3252, '�': 9172, 'sun': 7835, 'margin': 5140, 'ski': 7391, 'troubling': 8326, 'furthermore': 3711, 'coaxial': 1986, 'degrade': 2536, 'partial': 5988, 'dysfunctional': 2942, 'monroe': 5398, 'toledo': 8195, 'detroit': 2620, 'radi': 6561, 'shutoff': 7324, 'bel': 1391, 'rx65': 7028, 'selfcal': 7197, 'requiered': 6830, 'valentine': 8647, 'http://www.radarbusters.com/': 4205, 'www.007radardetectors.com': 9078, 'www.consumersearch.com': 9080, 'surround': 7887, 'fat': 3408, 'stopped': 7714, 'spinning': 7585, 'didnt': 2653, 'picked': 6127, 'days': 2466, 'one(that': 5782, 'returned': 6899, 'one---': 5783, 'debate': 2494, '369.00': 409, '7/19/05': 565, 'giving': 3827, 'birth': 1446, 'may)and': 5180, '93.00': 650, 'pissed': 6148, 'idle': 4269, 'neet': 5555, 'especiatlly': 3180, '1:1': 281, 'sunday': 7836, 'football': 3597, 'season': 7168, 'blame': 1456, 'ie': 4271, 'skypephone': 7406, 'numerous': 5691, 'postponement': 6263, 'asus': 1177, 'p525': 5926, 'smartphone': 7442, 'ce': 1803, 'gsm': 3924, 'whereas': 8920, 'alergic': 927, 'symbian': 7924, 'sonyericsson': 7513, 'boxes': 1548, 'proticol': 6435, 'purchace': 6474, 'united': 8502, 'states': 7661, 'postal': 6260, 'expierance': 3300, 'buying': 1661, 'tonight': 8204, 'linkage': 4936, 'babysit': 1280, 'inconsistently': 4369, 'grap': 3883, 'disclose': 2712, 'doc': 2787, 'page(s': 5941, 'expedient': 3284, 'acrobat': 777, '+90': 17, 'foul': 3629, 'swing': 7911, 'fujitsu': 3691, 'g700ap': 3743, 'appal': 1087, 'machines': 5066, 'pixma': 6157, 'ip6000d': 4568, 'anothe': 1041, 'chemical': 1875, 'squishy': 7623, 'bed': 1368, 'slipper': 7427, 'brookstone': 1594, 'surprised': 7883, 'theese': 8089, 'fvs338': 3723, 'throughput': 8134, 'fvs318': 3722, '1.2mbps': 126, 'infuriate': 4419, 'comprehension': 2096, 'deptartment': 2579, 'netgears': 5576, 'wich': 8942, 'sue': 7818, 'venting': 8685, 'prosafe': 6428, '30mbs': 383, 'fsv318v3': 3686, '25mb': 343, '6.5mbs': 527, 'keyword': 4720, 'blocking': 1478, 'checkbox': 1871, '5mbs': 515, 'keywords': 4721, 'surprisingly': 7885, 'waterproof': 8862, 'clever': 1938, 'mise': 5334, 'typical': 8389, 'thingie': 8107, 'fumble': 3697, 'lifesaver': 4909, '50cent': 496, 'dance': 2442, 'airline': 898, 'craze': 2316, ';-)': 673, 'tiresome': 8178, 'canceling': 1725, 'discernible': 2708, 'cloth': 1961, 'machinery': 5065, 'yank': 9113, 'he-592': 4042, 'radioshack': 6564, 'standpoint': 7648, 'outstanding': 5872, 'silicone': 7347, 'touchpoint': 8223, 'flange': 3524, 'boat': 1496, 'picky': 6130, 'crowd': 2346, 'affordable': 860, 'educate': 3009, 'impedence': 4318, 'spectrum': 7570, 'untangle': 8547, 'the': 8085, 'troublesome': 8325, 'pocketbook': 6209, 'annoyed': 1035, 'meantime': 5198, 'conference': 2129, 'baffle': 1303, 'varient': 8659, 'resette': 6849, 'duplex': 2905, 'airplane(with': 902, 'deluxe': 2554, 'motivation': 5421, 'infinity': 4410, 'desperation': 2599, 'gen': 3778, 'pot': 6265, 'pdf': 6038, 'artwork': 1144, 'official': 5751, 'odor': 5738, 'strap': 7729, 'twisted': 8379, 'shoulder': 7312, 'lastly': 4817, 'stupidly': 7765, 'depress': 2577, 'button\"---not': 1656, 'execute': 3262, 'lord': 5002, 'screech': 7140, 'eton': 3198, 'receptionist': 6663, 'classic': 1922, 'disapointed': 2698, '1st': 285, 'gym': 3945, 'unfreeze': 8485, 'exicte': 3267, 'finnaly': 3494, 'ampe': 1006, 'dang': 2444, 'happe': 3989, 'reviews!!!!!!!like': 6914, 'reviews-': 6917, 'today(11': 8190, '05': 106, '.........': 76, 'h.': 3947, 'dec.': 2496, 'posting': 6262, 'rat': 6588, 'differentce': 2658, 'faceplate': 3364, 'chassis': 1858, 'tighte': 8157, 'tighten': 8158, 'maxtor': 5178, 'gamepad': 3753, 'dsc': 2882, 's40': 7039, 'veiw': 8678, 'durre': 2911, 'persistance': 6079, 'restocking': 6876, 'fee': 3436, 'restock': 6875, 'f@#k': 3355, 'isp': 4601, 'apartment': 1079, 'landlord': 4793, 'assumption': 1169, 'cloning': 1954, 'tuesday': 8343, 'x.': 9083, 'wrt54': 9072, 'hp4705': 4191, 'hp5510': 4192, 'options': 5824, 'alignment': 934, 'voila': 8762, 'grammar': 3875, 'inability': 4341, 'variant': 8657, 'knowlege': 4752, 'hire': 4119, 'native': 5522, 'periodically': 6068, 'eithernet': 3031, 'f8z063': 3354, 'blk': 1474, 'nanos': 5515, 'sb': 7101, 'conclusion': 2115, 'blaster': 1460, 'ca-739': 1685, 'horrify': 4171, 'denver': 2567, 'stations': 7666, 'river': 6957, 'winter': 8982, 'oregon': 5832, 'wash.': 8851, 'dc': 2469, 'interuption': 4524, 'hillside': 4113, 'tall': 7979, 'pacific': 5929, 'northwest': 5645, 'nw': 5696, 'tunnel': 8357, 'flutuate': 3575, 'sunlight': 7838, 'remainder': 6778, 'induce': 4399, '~30': 9169, 'simcity': 7352, 'enjoyable': 3119, 'slim': 7421, 'keyboad': 4715, 'inlet': 4432, 'datavac': 2456, 'child': 1880, 'substantial': 7795, 'matte': 5169, 'comcast': 2023, 'conclude': 2114, 'rural': 7023, '1s': 284, '0s': 109, 'nifty': 5606, 'gradually': 3868, 'gradual': 3867, 'transistor': 8266, 'resute': 6884, 'undone': 8463, 'orgaize': 5833, 'genre': 3788, 'author': 1227, 'dvd740e': 2925, 'cdr': 1801, 'lightscribe': 4919, '30pk': 384, 'bonus': 1511, 'vent': 8683, 'flakey': 3520, 'delayed': 2541, 'developer': 2622, 'filmmaking': 3475, 'filmmaker': 3474, 'heavily': 4067, 'harddrive': 3998, 'daisychain': 2435, 'rpm': 7001, 'cons': 2161, '----': 22, 'biggest': 1429, 'bridge': 1576, 'varioius': 8661, 'project': 6403, '-----': 23, 'indestructive': 4388, 'sidenote': 7332, 'jabra': 4620, 'boomy': 1524, 'ultraata': 8410, 'segate': 7188, 'baracuda': 1319, '7200.8': 581, 'bidder': 1426, 'playlist': 6185, 'unbelievable': 8428, 'forum': 3624, 'fixable': 3514, 'statistically': 7668, 'jsut': 4671, 'befsr41': 1376, 'v4': 8633, 'url': 8589, 'simplicity': 7357, 'sx700s': 7921, 'cellphone': 1811, 'pager': 5942, 'lousy': 5015, 'former': 3618, 'category': 1790, 'cruise': 2353, 'midland': 5284, 'cobra': 1988, 'stylish': 7776, 't6500r': 7958, 'confront': 2144, 'undestand': 8459, 'forgive': 3611, 'mexican': 5258, 'riviera': 6958, 'puerto': 6467, 'vallarta': 8649, 'mazatlan': 5182, 'cabo': 1692, 'lucas': 5033, 'encase': 3086, 'conductor': 2125, 'recharger': 6668, 'outsource': 5871, \"int'l\": 4471, 'ltd': 5030, 'genuine': 3794, 'mistaken': 5351, 'talkabout': 7977, 'round': 6990, 'vibrate': 8713, 'noaa': 5618, 'qt': 6503, 'ptt': 6458, 'garble': 3760, 'merchant': 5234, 'gmrs': 3841, 'lake': 4786, 'i-5': 4240, 'communications': 2043, 'communicate': 2041, 'spouse': 7609, 'reports': 6819, 'gxt500': 3944, 'wattage': 8865, 'reveiw': 6905, 'biopod': 1443, 'omnipass': 5776, '2.09': 289, 'v2.09': 8624, 'firefox': 3499, 'halfway': 3967, 'sector': 7177, 'unformattable': 8479, 'cute': 2407, 'ornament': 5842, 'embroider': 3068, 'royal': 6999, 'pouch': 6269, 'sew': 7256, 'fleece': 3545, 'tuck': 8342, 'monogrammed': 5396, 'millenium': 5300, 'deaf': 2485, 'hl-1440': 4127, 'envelope': 3136, 'realtime': 6628, 'monitoring': 5394, 'crisscross': 2338, 'automotive': 1238, 'boil': 1501, '2720': 349, '2730': 350, 'unacceptably': 8418, 'routing': 6996, 'lookup': 4996, 'deficient': 2524, 'suction': 7814, '1.25': 124, 'prohibit': 6401, 'mounting': 5431, 'positioning': 6250, 'beanbag': 1352, 'friction': 3667, 'fabricate': 3361, 'dismount': 2742, 'remount': 6790, 'timely': 8164, 'manner': 5117, 'gtm11': 3926, '750': 588, 'linux': 4942, '98se': 662, 'maufacturer': 5172, '.zip': 96, 'winzip': 8984, 'unzip': 8559, 'dvd+': 2920, 'covering': 2292, 'jitter': 4647, 'sonic': 7511, 'playable': 6178, 'copiable': 2244, 'surprising': 7884, 'tunecast': 8348, 'distant': 2757, 'poo': 6227, 'diamond': 2645, '60;&#60;&#60;although': 534, 'nmea-0183': 5617, 'regrettably': 6745, 'website.&#62;&#62;&#62': 8886, 'ml-300': 5358, 'printwheel': 6349, 'contacted': 2194, 'chief': 1879, 'pencil': 6047, 'sized': 7387, 'aloh': 951, 'dire': 2684, 'excedrin': 3238, 'migraine': 5290, '39': 415, 'busted': 1651, 'jogging': 4656, 'walking': 8809, 'stoop': 7710, 'xtrememac': 9106, 'headphones': 4048, 'splotchy': 7594, '1/4th': 137, 'expander': 3278, 'explaination': 3304, 'expanded': 3277, 'unexpanded': 8470, 'srx': 7627, 'flea': 3543, 'abmismal': 712, 'quickzoom': 6525, '34': 396, 'skeptical': 7389, 'waive': 8803, 'rebuttal': 6644, 'electric': 3038, 'eardrum': 2969, 'chair': 1835, 'puddle': 6464, 'kididng': 4729, 'membrane': 5223, 'isolate': 4599, 'hx2755': 4234, '94': 651, 'wal': 8805, 'wander': 8821, 'trail': 8252, 'precision': 6298, 'erratically': 3168, '984': 660, 'attendent': 1201, 'tansaction': 7986, 'retune': 6896, 'sporadically': 7600, 'tap': 7988, 'jammed': 4625, 'podtape': 6214, 'sender': 7206, 'recoton': 6697, 'accessories': 740, '2950': 355, 'emma': 3075, 'mary': 5156, '32746': 391, 'chin': 1882, 'bacl': 1299, 'yrs': 9133, 'bot': 1538, '760': 593, 'at-65': 1181, 'rectangular': 6702, 'cardboard': 1749, 'at-65)in': 1182, 'jennifer': 4638, 'investigate': 4555, 'apologetic': 1085, 'motorcycle': 5425, 'helmut': 4079, 'unsafe': 8537, 'distraction': 2764, 'ryder': 7030, 'lapse': 4807, 'concentration': 2108, 'outright': 5869, 'motorcycles-': 5426, 'headstet': 4053, 'breakup': 1568, 'usless': 8611, '1/8': 138, 'discrace': 2725, 'bogus': 1500, 'opportunity': 5813, 'bruce': 1600, 'payn': 6027, 'frail': 3641, '85': 627, 'survive': 7889, 'hurricane': 4228, 'alley': 940, 'west': 8905, 'coast': 1981, 'florida': 3566, 'assemble': 1160, 'tout': 8232, 'assistance': 1164, 'butter': 1653, 'knife': 4747, 'injure': 4427, 'inappropriately': 4349, '20.18': 303, 'science': 7126, 'rhapsody': 6927, 'caliber': 1703, 'patient': 6014, 'mtp': 5460, 'host': 4174, 'msd': 5452, 'mass': 5158, 'drag': 2841, 'pointless': 6218, 'scatter': 7119, '82': 625, 'rings': 6948, 'dump': 2901, '8+gb': 607, 'swan': 7899, 'nails': 5509, 'bach': 1281, 'cantata': 1735, 'm3u': 5055, 'hopeless': 4161, 'hopelessly': 4162, 'throughly': 8132, 'overhaul': 5888, 'merit': 5240, 'e280': 2953, 'versatility': 8699, 'msc': 5451, 'drawback': 2850, 'creation': 2321, 'catogorizing': 1791, 'adopt': 828, 'mentality': 5228, 'e200': 2949, 'itrip': 4613, 'interfere': 4505, 'phony': 6110, 'hesitant': 4088, 'cound': 2275, 'spike': 7580, 'irregular': 4584, 'lt;2': 5028, 'es': 3170, 'unexpected': 8471, 'conditioning': 2121, 'offline': 5753, 'breakage': 1564, 'burning': 1642, 'satisfy': 7088, 'openion': 5801, 'intime': 4530, 'bye': 1667, 'kira': 4736, 'outdoor': 5859, 'wild': 8953, 'weather': 8881, 'muc': 5461, 'pretend': 6325, 'photographer': 6115, '127': 196, 'smartmedia': 7441, 'breeze': 1572, 'respectable': 6863, 'unrelated': 8534, 'runner': 7021, 'shutter': 7325, 'fps': 3635, 'ultimate': 8407, 'duo': 2904, 'succession': 7807, 'digitial': 2670, 'sdsdh-512': 7152, '901': 647, 'unopened': 8518, 'sdsdh-1024': 7151, 'absoultely': 723, 'excelent': 3240, 'appreciate': 1101, 'traveling': 8284, 'consistantly': 2174, 'pleasantly': 6188, 'cake': 1697, 'paintshop': 5949, 'painter': 5948, 'photoshop': 6117, 'nulooq': 5687, 'junkie': 4685, 'ti': 8148, 'brush': 1602, 'pan': 5957, 'zoom': 9157, 'horizontally': 4165, 'nec': 5542, '2500a': 340, '4x.': 477, 'qualified': 6507, \"f'n\": 3339, 'g15': 3734, 'lanne': 4799, 'pace': 5928, 'qam': 6500, 'unscrambled': 8540, 'discovery': 2724, 'weep': 8893, 'happiness': 3993, 'illuminated': 4291, 'def': 2517, 'criterion': 2339, 'worried': 9042, 'commercial': 2036, 'convinced': 2233, 'contributor': 2216, 'consistent': 2176, 'individually': 4397, 'variability': 8655, 'breath': 1570, 'stumble': 7761, 'altitude': 975, '10,000': 140, 'sea': 7155, 'kick': 4724, 'shipper': 7293, 'eagle': 2963, 'dallas': 2436, 'livelihood': 4959, 'weary': 8880, 'perosn': 6075, '.....................': 80, 'oman': 5770, 'crowded': 2347, 'occasional': 5725, 'weaker': 8877, 'lx': 5042, 'dx': 2937, 'availability': 1246, 'unfair': 8475, 'downright': 2828, 'crisp': 2335, 'degraded': 2537, 'anyday': 1064, 'viable': 8711, '9510i': 654, 'recovery': 6700, 'fanstastic': 3391, 'quot;abc&quot': 6535, 'admitt': 825, 'ohtherwise': 5762, 'energy': 3106, 'powered': 6276, 'sprare': 7610, '7900': 601, 'gtx': 3927, 'bi---': 1423, 'college': 2009, 'dorm': 2814, 'fantasy': 3394, 'playstation': 6186, 'downside': 2829, 'budget': 1615, 'h5': 3955, '2700mah': 348, 'intuos3': 4544, '6x11': 562, 'progam': 6394, 'joy': 4666, 'alowe': 958, 'versa': 8697, 'eraser': 3164, 'inactive': 4344, '20d': 319, 'slr': 7435, 'transient': 8265, 'fiddly': 3461, 'insecure': 4442, 'buckle': 1612, 'junction': 4682, 'edged': 3001, 'chasis': 1857, 'lens': 4880, 'tripod': 8315, 'dropping': 2869, 'fujifilm': 3690, 'i`ve': 4246, 'don`t': 2803, 'ventilation': 8684, 'recordable': 6693, 'edit': 3003, 'you`ve': 9129, 'a++': 682, 'effusive': 3022, 'nemo': 5566, 'harry': 4011, 'potter': 6268, 'kdf-42e2000': 4703, '3lcd': 422, 'projection': 6404, 'sacrifice': 7048, 'squat': 7618, 'recode': 6673, 'finished': 3492, 'sharpen': 7274, 'editing': 3005, 'proficient': 6390, 'score': 7132, 'gross': 3913, 'ignorance': 4278, 'astonishing': 1174, 'challenge': 1836, 'jewel': 4644, 'conserve': 2167, 'cheaper': 1862, 'accidentaly': 746, 'corner(s': 2254, 'cochlear': 1990, 'implant': 4320, 'washer': 8852, 'settlement': 7247, 'esaki': 3172, 'si': 7327, 'ta': 7960, 'campion': 1718, 'tremendo': 8296, 'di': 2632, 'sistema': 7374, 'pa': 5927, 'por': 6236, 'potret': 6267, 'ariba': 1122, 'bo': 1493, 'hopi': 4163, 'bon': 1508, 'facil': 3365, 'pone': 6225, 'saca': 7045, 'systema': 7934, 'aki': 916, 'chip.(tremendo': 1887, 'quirk': 6531, 'alswy': 965, 'dj': 2776, 'rounded': 6991, 'getting': 3803, 'flexible': 3551, 'backpack': 1292, 'nascar': 5519, 'racing': 6558, 'reprogramable': 6825, 'dv': 2917, 'supermarket': 7850, 'theatre': 8087, 'hardy': 4003, 'walkmen': 8811, 'shortwave': 7310, 'fh': 3454, 'e656': 2961, '1992': 278, 'mhcec70': 5262, 'unattractive': 8424, 'resemble': 6842, 'vs': 8777, 'glance': 3832, 'skimpy': 7394, 'pm71sd': 6206, 'crippled': 2334, 'drm': 2864, 'brian': 1574, 'wap54': 8825, 'repeater': 6808, 'virtual': 8737, 'hesitate': 4089, 'newness': 5592, 'investigation': 4556, '192.168.1.245': 256, 'userid': 8609, 'telnet': 8036, 'mobilemate': 5364, 'peron': 6074, 'handhled': 3976, 'delorme': 2552, 'hh': 4095, 'nemerous': 5565, 'mappoint': 5133, '50,000': 490, 'analize': 1013, 'elevation': 3049, 'yellow': 9119, 'stiche': 7694, 'acrilic': 776, 'mux': 5492, 'scrape': 7135, 'serface': 7229, 'uplink': 8568, 'latitude': 4825, 'pp01l': 6285, 'inbetween': 4352, '11mb': 180, 'cisco': 1912, 'aironet': 900, 'subject': 7783, 'aback': 700, 'snoop': 7464, 'pertain': 6087, 'pauh217u': 6018, 'dryer': 2879, 'inaccessible': 4342, '/inconvenient': 99, 'ben': 1402, 'dpi': 2838, 'minidisc': 5312, 'lecture': 4861, 'mono': 5395, 'minidiscs': 5313, 'agc': 873, 'booming': 1523, 'refine': 6722, 'batter': 1340, '.rec': 94, '.mp3': 90, 'amout': 1003, 'molding': 5382, 'alow': 957, 'ifp-799': 4275, 'marathon': 5137, 'hubby': 4208, 'rehoboth': 6748, 'sirius': 7373, '2007': 313, 'lettering': 4889, 'daylight': 2465, 'sunglass': 7837, 'adapt': 796, 'bolt': 1506, 'little/': 4956, 'costl': 2270, 'valid': 8648, '40x': 444, 'jpeg': 4668, 'raw': 6598, '444': 454, 'awsome': 1270, '5yrs': 521, 'ebook': 2993, 'winding': 8969, 'electricity': 3040, 'wool': 9024, 'peacoat': 6040, 'clothe': 1962, 'scarf': 7118, 'comparie': 2056, 'flawlessy': 3542, 'deattache': 2493, 'reattache': 6638, '10.4.8': 146, 'ahhhhh': 889, '480mb': 466, 'hazard': 4027, '9.1': 640, 'slinger': 7424, 'tamrac': 7981, 'unfotunately': 8484, 'sufficient': 7821, 'bottle': 1540, 'duffel': 2896, 'lowepro': 5021, 'customizable': 2403, 'vest': 8705, 'hood': 4155, 'teleconverter': 8031, 'evenly': 3208, 'manageable': 5110, 'thousand': 8123, 'zoo': 9156, 'rain': 6572, 'snow': 7466, 'ipo': 4571, 'manufactured': 5124, 'closure': 1960, 'element': 3047, 'f/2.8l': 3344, 'usm': 8612, 'f/4l': 3346, 'f/3.5': 3345, '4.5': 432, 'ef': 3013, 'efs': 3023, 'pros': 6427, '2gbs': 361, '8.2': 609, 'mp': 5440, 'tweaking': 8373, 'beautifully': 1362, 'pink': 6142, 'buff': 1617, 'permit': 6073, 'occassionally': 5728, 'hinder': 4115, 'skipdoctor': 7398, 'useable': 8601, 'necessarily': 5543, 'acheive': 767, 'buffing': 1619, 'lesser': 4884, 'severity': 7255, 'grime': 3906, 'functioning': 3702, 'visable': 8741, 'carefull': 1756, 'ebookman': 2994, 'flier': 3553, 'huh': 4213, 'rio': 6951, 'lately': 4821, 'rj45': 6959, 'searched': 7164, 'relief': 6770, 'ergonomically': 3166, 'ccradio': 1797, \"60'\": 529, 'tinnier': 8172, 'immediatey': 4309, 'neareast': 5537, 'happily': 3992, 'roar': 6970, 'lawnmower': 4834, 'exclusivey': 3259, 'plop': 6199, 'follower': 3589, 'bitter': 1451, 'scam': 7108, 'counterpart': 2279, 'embarrassing': 3065, 'ca-709': 1684, 'ca-706': 1683, 'prepackage': 6310, 'transcriptionist': 8259, '.i': 89, 'comparably': 2054, 'theater': 8086, 'compliment': 2089, 'banana': 1311, 'coax': 1985, 'selection': 7193, 'language': 4797, 'frys': 3685, 'polk': 6222, 'r15': 6549, 'indecently': 4380, 'cerwin': 1829, 'vega': 8673, 'pronounce': 6417, 'profile': 6391, 'armoire': 1127, 'enterntainment': 3126, 'hellboy': 4078, 'missus': 5349, 'ss': 7628, 'mf650h': 5259, 'directional': 2687, '50khz': 497, 'boxy': 1551, 'spread': 7611, 'diaphragm': 2648, 'sustain': 7894, 'cutoff': 2409, 'punchy': 6471, 'lfe': 4894, 'perceive': 6053, 'human': 4216, 'hz': 4237, 'rms': 6962, 'ssmf650h': 7630, 'studio': 7758, 'wharfedale': 8913, '8.4': 610, 'expand': 3274, '~$100': 9165, 'sdat': 7149, 'leb-404': 4860, 'overstock': 5906, 'mf650h.': 5260, 'apprehensive': 1102, 'soundstage': 7535, 'expansive': 3280, 'living': 4960, 'sep': 7220, 'dvd-224': 2924, 'germany': 3801, 'carr': 1766, 'nine': 5613, 'tine': 8169, 'sturdily': 7766, 'execution': 3263, 'cache': 1693, 'unchoppy': 8436, 'secondary': 7173, 'cellular': 1812, 'sling': 7422, 'accesorie': 735, 'modest': 5374, 'colbert': 2002, 'porta': 6241, 'misgiving': 5339, '3x': 426, 'twenty': 8375, 'everyda': 3217, 'snappy': 7459, 'eyeball': 3336, 'mids': 5286, 'highs': 4108, 'soothe': 7519, 'guitar': 3939, 'addiction': 802, 'loudly': 5010, '=)': 675, 'crossover': 2345, 'gigantic': 3815, 'halo': 3969, 'rewritable': 6923, '10x': 168, 'workday': 9033, 'soreness': 7524, 'gently': 3792, 'fadeout': 3371, 'nuvi': 5694, 'aggresive': 880, 'buch': 1609, 'bottomline': 1542, 'recoil': 6679, 'amazonian': 989, 'brainer': 1558, 'disclaimer': 2711, 'hq': 4195, '15,600': 219, 'noises--': 5623, 'pun': 6470, 'intended': 4484, 'lessen': 4883, 'endorse': 3101, 'overstretch': 5907, 'undoubtedly': 8464, 'hd-433': 4033, 'hd-437': 4034, 'hd-457': 4035, '437': 450, '457': 458, 'buck$': 1611, 'soundcard': 7530, 'soundmax': 7533, 'ac97': 729, 'k8v': 4695, 'metallica-': 5251, 'it`s': 4606, 'you`re': 9128, 'harman': 4006, 'kardon': 4698, 'drastic': 2847, 'recommand': 6683, 'won`t': 9017, 'can`t': 1720, 'retrieve': 6894, 'qaulity': 6501, 'intimate': 4529, 'varied': 8658, 'nonobtrusive': 5633, 'loyal': 5025, 'seminar': 7202, 'files': 3469, 'received': 6656, 'coaching': 1980, 'capture': 1744, 'audibly': 1215, 'fresh': 3665, 'uninterrupted': 8499, 'merge': 5239, '190': 253, 'lyra': 5044, 'rd2315': 6606, 'ruggedness': 7012, 'biking': 1432, '180': 246, 'memo': 5224, '3.11': 371, '1.11': 118, 'w/20': 8784, '16x9': 240, 'dorky': 2813, '1680x1050': 237, '280': 351, 'm2': 5052, 'candle': 1730, '800:1': 618, '400:1': 441, '14ms': 216, 'www.apple.com/displays/specs.html': 9079, 'gateway': 3766, '21': 323, '599': 514, '1000:1': 151, '2405fpw': 335, '1920': 257, 'aim': 893, 'lcds': 4843, 'undamaged': 8448, 'unadulterated': 8419, 'dos': 2815, 'scarce': 7116, 'aluminum': 978, 'mint': 5323, 'px100': 6492, 'suprise': 7869, '149.95': 214, '124.95': 193, 'ollie': 5767, '...........': 78, 'pico': 6131, 'proximity': 6444, 'piano': 6124, 'lasting': 4816, 'instrument': 4466, 'labeler': 4772, '1750': 244, 'labeling': 4773, 'hyphen': 4236, 'cid': 1902, 'trough': 8328, 'clockwise': 1951, 'counterclockwise': 2278, 'viewing': 8728, 'pivot': 6152, 'swivel': 7917, 'xr70': 9102, 'incorrect': 4372, '9/32\"h.': 643, 'remorse': 6787, 'dd': 2474, '5.1': 482, 'discernable': 2707, 'threshold': 8127, 'sloppy': 7430, 'panny': 5962, 'linear': 4933, 'cinema': 1904, 'weakness': 8878, '-it': 56, 'dsp': 2884, '-no': 60, 'upconvert': 8563, 'el': 3033, 'diego': 2655, '199.99': 276, 'r30': 6551, 'klh': 4742, '10inch': 165, 'tremor': 8298, '650.00': 546, 'ant': 1049, 'roun': 6989, 'cylinder': 2423, 'outweigh': 5873, 'prev': 6327, 'bu': 1607, 'pump': 6469, 'consistant': 2173, '320': 387, 'archive': 1117, 'sol': 7484, 'spectacular': 7569, 'toslink': 8214, 'dts': 2889, 'boomi': 1522, 'crisper': 2336, 'dolby': 2797, 'gladiator': 3830, '1010': 155, 'coldplay': 2004, 'scientist': 7128, 'indescribable': 4386, '65': 544, 'comfy': 2032, 'quickcam': 6521, 'stx': 7771, 'greece': 3896, 'instant': 4457, 'messenger': 5247, 'isight': 4594, 'anyhow': 1065, 'samll': 7065, 'shoe': 7299, 'usinf': 8610, 'e3s': 2958, 'allude': 948, 'milage': 5292, 'conduction': 2124, 'impact': 4315, 'eliptical': 3054, 'bicycle': 1425, '2001': 307, 'bmw': 1492, '325ci': 390, 'unmounte': 8511, 'cure': 2385, 'urban': 8586, 'axim': 1271, 'x51v': 9086, '480': 464, '1100mah': 172, 'unconfirmed': 8445, '624': 539, 'mhz': 5263, 'pxa270': 6494, '2ghz': 362, 'blaze': 1463, 'astounded': 1175, 'qvga': 6546, 'moderately': 5372, 'tcpmp': 8005, 'odyssey': 5739, 'activesync': 786, 'deselect': 2586, 'myriad': 5501, 'bt': 1605, 'unbeatable': 8427, 'nicad': 5601, 'nicads': 5602, 'subtstanial': 7801, 'platinum': 6176, 'looking': 4995, 'ex51lp': 3230, 'fontopia': 3592, 'choppy': 1891, 'mbs': 5187, 'panoramic': 5963, 'stitching': 7705, 'mx(tm)500': 5497, '4000': 440, 'awesomestufffree.com/plasma-t': 1264, 'triport': 8316, 'recess': 6664, 'earcup': 2968, 'microphoto': 5273, 'traveldock': 8281, 'enthusiast': 3130, 'attachable': 1194, 'ff': 3453, 'rew': 6921, 'labs': 4775, 'cons;like': 2162, 'grill': 3905, 'guard': 3931, 't.v': 7938, 'rival': 6956, 'pristine': 6353, 'avr': 1254, 'jensen': 4639, 'iterm': 4612, 'hp8450': 4194, 'spit': 7586, 'profit': 6393, 'throwaway': 8136, 'unsatisfied': 8539, 'oddly': 5737, 'cushion': 2397, 'teach': 8010, 'orientation': 5837, 'medially': 5209, 'pinna': 6144, 'superoposterior': 7851, 'straighten': 7724, 'doctor': 2790, 'maneuver': 5113, 'examine': 3236, 'otoscope': 5849, 'insertion': 4444, 'relieve': 6771, 'eustachian': 3203, 'swallow': 7898, 'climbing': 1945, 'skyscraper': 7407, 'elevator': 3050, 'westinghouse': 8907, '37inch': 412, 'contemplate': 2196, 'seagate': 7156, 'par': 5973, '160': 230, '149': 213, 'actuality': 790, 'fuss': 3714, 'fart': 3401, '114': 176, 'a+': 681, 'whisper': 8930, 'flac': 3517, 'foobar2000': 3593, 'io': 4563, 'intensive': 4488, 'kitchen': 4739, 'counter': 2277, 'boston': 1537, 'acoustics': 773, 'tivoli': 8182, 'overpower': 5899, 'cellphne': 1810, 'martin': 5154, 'logan': 4977, 'legendary': 4870, 'maximize': 5176, 'bi': 1422, '12.00': 184, '66': 550, '69': 558, 'agenda': 876, 'akk': 917, 'meeting': 5214, 'techie': 8015, 'wpn311': 9059, 'completion': 2082, 'utilization': 8617, 'executable': 3261, 'wlancfg5.exe': 9004, 'routine': 6994, 'csrss.exe': 2366, 'net.exe': 5572, 'net1.exe': 5573, 'wlancfg5': 9003, 'booted': 1530, 'mimo': 5305, 'configurator': 2136, 'wzc': 9081, 'microsoft.com': 5276, '871122': 632, 'queens': 6515, 'dependable': 2572, 'powercenter': 6274, 'hts800': 4201, 'acoustically': 772, 'iem': 4273, 'ety': 3200, 'er4p': 3160, 'im716': 4298, 'ksc75': 4760, 'bloated': 1475, 'tame': 7980, 'eq': 3148, 'vol': 8764, 'phonendoscope': 6106, 'beyer': 1419, 'dt770': 2888, 'physic': 6120, 'asymmetric': 1178, 'food': 3594, 'resistant': 6853, 'perspective': 6085, 'fang': 3390, 'there': 8096, 'keyz': 4722, 'sansas': 7078, '5/5': 488, 'e6': 2960, 'goodie': 3851, 'q.': 6496, 'invaluable': 4548, 'trackball': 8243, 'noncompliance': 5629, 'ominous': 5772, 'gb/5': 3770, 'coat': 1983, 'datalife': 2455, 'r200': 6550, 'r300': 6552, 'r320': 6553, 'printable': 6345, 'verbatims': 8690, 'taiwan': 7972, 'instantly': 4458, 'superdrive': 7846, 'd2': 2430, 'players': 6183, '134': 204, 'notebooks': 5654, 'highest': 4103, 'interchangeability': 4494, 'fusion': 3713, 'gieco': 3809, 'alien': 932, 'champion': 1840, 'bore': 1534, 'uncle': 8437, 'carpel': 1762, 'movable': 5435, 'splice': 7590, 'retain': 6887, 'extract': 3330, 'rocker': 6975, 'radioshark': 6565, '10.4': 144, 'klunky': 4746, 'heart': 4059, 'dink': 2680, 'unessential': 8466, 'freeware': 3656, 'audacity': 1213, 'oddity': 5736, 'rzr': 7031, 'assortment': 1167, 'aebs': 850, 'youth': 9131, 'headphones-': 4049, 'man-': 5108, 'career': 1754, 'cough': 2273, 'comfortable-': 2029, 'full-': 3694, 'thump': 8141, 'fatigue': 3415, 'line-': 4932, 'rocket': 6976, 'engine': 3109, 'aircraft': 896, 'apu': 1111, 'f-4': 3342, 'phantom': 6093, 'afterburner': 867, 'cx7300': 2417, '3yr': 427, 'systems': 7935, 'fiber': 3458, 'optic': 5817, '-my': 59, 'values': 8654, 'obscenely': 5711, 'thx': 8146, 'certification': 1826, 'blurb': 1490, 'forefront': 3604, 'unparalleled': 8520, 'distribution': 2766, 'excellence': 3242, 'cement': 1813, 'manhandle': 5114, '-i.e': 55, 'bending': 1406, 'gamecube': 3752, 'transit': 8267, 'cooler': 2238, 'testimonial': 8066, 'smartly': 7440, 'foresee': 3607, 'quibble': 6519, 'purposely': 6484, 'antec': 1050, 'purfect': 6479, 'imitate': 4305, 'raggedy': 6567, 'earmuff': 2971, 'likewise': 4925, 'qz-50': 6547, 'ur-10': 8583, 'ur-20': 8584, 'adorable': 830, 'lifelike': 4908, 'lazer': 4838, 'tendonitis': 8049, 'flare': 3527, 'chronic': 1896, 'v200': 8627, 'effortless': 3021, 'v450': 8634, 'setpoint': 7244, 'sensativity': 7211, 'sensativitie': 7210, 'jbl': 4635, 'panic': 5961, 'negativity': 5557, '3)worde': 369, 'visa': 8740, 'mc': 5188, 'sw': 7897, '2.55': 296, 'zenith': 9146, 'manhattan': 5115, '7th': 605, '3200': 388, 'atop': 1191, 'provide-': 6441, 'cushiony': 2399, 'supportive': 7859, 'g.p.s': 3732, 'marine': 5143, 'breast': 1569, 'float': 3560, 'nuff': 5684, 'unbox': 8433, 'macos': 5069, 'airtunes': 907, '802.11': 619, '--the': 40, '2,300': 287, 'intrude': 4536, 'picturemate': 6133, 'ddp': 2476, 'fp50': 3634, '475': 461, '4800x1200dpi': 465, '4x6': 478, 'boarderless': 1495, 'vivid': 8752, 'mixture': 5357, '1505': 224, 'characteristic': 1849, 'unbranded': 8434, 'about-': 715, 'cutting': 2411, 'puppy': 6473, 'definetely': 2527, 'trebley': 8293, 'difficlulty': 2662, 'earth': 2978, 'speakers/': 7557, 'chamber': 1837, 'cranium': 2308, 'resonate': 6859, 'serie': 7231, 'thunder': 8144, '69.99': 559, 'aficionado': 862, 'j&amp;r': 4618, 'quickly(you': 6523, 'mitsubishi': 5353, 'dvp': 2930, 'ns700p': 5678, 'graininess': 3872, 'hesitation': 4090, 'diagram': 2637, 'intialize': 4527, 'divx': 2775, 'instore': 4462, '8.00': 608, 'monthe': 5402, 'seamless': 7160, 'casing': 1780, 'clickwheel': 1942, 'formatting': 3617, 'raher': 6568, '6:00': 560, 'ipiod': 4570, 'availible': 1248, 'ibass': 4249, 'waay': 8792, 'accessorite': 741, 'turbo': 8359, 'suitcase': 7829, 'consulting': 2188, 'magazine': 5079, 'impress': 4331, 'wase': 8848, '7.0': 564, 'feeding': 3440, 'photograph': 6114, 'concert': 2112, 'receiption': 6654, 'timing': 8167, 'everybody': 3216, 'closet': 1958, 'aw771': 1256, 'multifunction': 5470, 'midiland': 5283, 'thoroughly': 8119, 'aged': 875, '999': 664, 'customize': 2404, 'and/or': 1020, 'aesthetically': 853, 'pleasing': 6191, 'attractiveness': 1211, 'competent': 2072, 'qualm': 6510, 'marking': 5150, 'presently': 6318, 'audience': 1216, 'affluent': 858, 'soundtrack': 7537, 'matrix': 5168, 'snatch': 7461, 'differentiate': 2659, 'ladies': 4783, 'gentlemen': 3791, 'a-': 685, 'b-': 1276, 'sandisk.com': 7073, 'u3.com': 8397, 'c-': 1669, 'd-': 2427, 'http://portableapps.com': 4203, 'launchpad': 4830, 'e-': 2945, 'passable': 5999, 'destruction': 2605, 'ya': 9109, 'g-': 3729, 'v1.0': 8622, 'prominent': 6409, 'billy': 1435, 'pak': 5951, 'compose': 2091, 'instability': 4449, 'win2000': 8961, 'win2003': 8962, 'h-': 3946, 'ignorant': 4279, 'site(s': 7378, 'i-': 4239, 'expend': 3288, 'quantity': 6511, 'transfering': 8262, 'rm': 6960, 'clarify': 1919, 'literature': 4954, 'traveler': 8283, 'characteristice': 1850, 'sx': 7919, 'jazz': 4634, 'divider': 2772, 'showbiz': 7316, 'invention': 4551, '1.75': 129, 'dc4000': 2470, 'e20s': 2950, 'e30s': 2956, 'e25': 2951, 'harmon': 4007, 'e30': 2955, 'bookshelf': 1517, 'speakers': 7556, 'kong': 4754, '7lbs': 604, 'lbs': 4841, 'cast': 1783, 'dutch': 2914, 'oven': 5874, 'oomph': 5793, 'ooommphhhh': 5794, 'animals': 1028, 'singles': 7366, 'paul': 6019, 'revere': 6906, 'raiders': 6569, 'kicks': 4726, 'vintage': 8732, 'circa': 1906, 'airwave': 908, 'vivaldi': 8751, 'concerto': 2113, 'herbert': 4084, 'von': 8770, 'karajan': 4697, 'bpo': 1553, 'anne': 1030, 'sophie': 7520, 'mutter': 5491, 'violin': 8735, 'harpsacord': 4009, 'inflation': 4411, 'advent': 841, 'loudspeakers': 5012, 'advents': 842, 'mcintosh': 5190, 'turntable': 8365, 'magnetic': 5088, 'perfomance': 6061, 'repartitione': 6805, 'usb2.0': 8599, 'interne': 4514, 'noel': 5620, 'lee': 4863, 'stunning': 7763, 'scene': 7120, 'bold': 1504, 'unprepared': 8525, 'dramatic': 2846, 'warts': 8846, 'all\"so': 937, 'crew': 2330, 'mvs3': 5493, 'quot;over': 6541, 'head&quot': 4044, 'ktx': 4761, 'sportapro': 7603, 'portapro': 6246, 'mercury': 5235, 'cadmium': 1695, 'carpal': 1761, 'syndrom': 7932, 'misplace': 5344, 'spoil': 7595, 'den': 2563, 'abilty': 708, 'ringer': 6946, 'tcx905': 8007, 'iraq': 4577, 'tent': 8052, 'w/o': 8785, 'compatiblity': 2067, 'overview': 5910, 'boiling': 1502, 'psp': 6451, 'features': 3434, 'coolest': 2239, 'prolong': 6407, 'situated': 7380, 'numeric': 5690, 'mimimum': 5304, 'anount': 1043, 'kepad': 4712, '913ns': 649, '712n.': 577, 'samsungs': 7069, 'interestingly': 4502, '5ms': 517, '8ms': 636, 'widescreen': 8945, 'strain': 7726, 'accommodation': 750, '3/4': 376, '87': 630, 'billion': 1434, 'diddly': 2651, '.pdf': 93, 'explanatory': 3306, 'interactive': 4492, 'surcharge': 7871, 'wood': 9022, 'lathe': 4824, 'dns': 2784, 'realibly': 6620, 'horde': 4164, 'neighbour': 5563, 'abeit': 704, 'clicking': 1941, 'pacing': 5930, '5.8': 486, '900mhz': 646, 'tcx805': 8006, 'trivial': 8319, 'automagically': 1234, 'dialing': 2639, 'upright': 8573, 'aliasing': 931, 'downstairs': 2831, 'pip': 6146, 'sputter': 7614, 'whirr': 8929, \"m's(which\": 5047, 'grow': 3918, 'width': 8947, 'dimension': 2673, 'comparitively': 2058, 'seam': 7159, 'stale': 7641, 'colorful': 2013, 'joystick': 4667, 'wedge': 8888, 'upward': 8580, 'accidental': 744, 'wmp11': 9009, 'newbie': 5588, 'theoretical': 8093, 'wmas': 9008, 'accesories': 736, 'mortar': 5411, 'justified': 4688, 'apx-6420': 1112, 'mull': 5468, 'maker': 5100, '4.1': 430, 'sole': 7487, 'z-5500': 9138, 'langsing': 4796, 'fx6021': 3726, 'declare': 2505, 'sub-$200': 7781, 'msrp': 5455, 'bitrate': 1450, 'buzzy': 1666, 'discrete': 2726, 'subjective': 7784, 'sane': 7075, 'dialogue': 2642, 'controls': 2219, 'seperately': 7224, 'pandora': 5959, 'comforable': 2025, 'glowing': 3839, 'chameleon': 1838, 'improvment': 4339, 'skill': 7393, 'razor': 6602, 'diamondback': 2646, '1600dpi': 232, 'squeak': 7619, 'erratic': 3167, 'wpc54gs': 9056, 'wpc54': 9055, 'v2.1': 8625, 'submission': 7787, 'a45': 691, 's121': 7035, 'phil': 6097, 'mesa': 5241, 'structurally': 7754, 'fasione': 3404, 'solidly': 7490, '6.0': 524, 'megapixel': 5218, 's3': 7038, 'psd1grf3': 6449, 'apiece': 1083, 'rebrande': 6642, 'daneelec': 2443, 'm7480n': 5056, 'adobe': 827, 'elements': 3048, 'premiere': 6308, 'intially': 4528, 'zooming': 9158, 'dcs-900': 2472, 'along-': 954, 'dt': 2886, '200v': 315, 'zip': 9150, '.75': 85, 'materials': 5165, 'reviews': 6913, 'helped': 4081, 'purely': 6478, 'stepmania': 7687, 'revolution': 6920, 'clone': 1953, 'esspecially': 3185, '06': 107, 'patio': 6016, 'lound': 5014, 'thye': 8147, '42.99': 447, 'codeless': 1995, 'experince': 3297, 'bravo': 1562, 'elapsed': 3034, 'approximate': 1107, 'slingbox': 7423, 'slinglink': 7425, 'renew': 6797, 'lan': 4790, '700w': 572, 'undock': 8461, 'undocking': 8462, 'forward/': 3626, 'buttonw': 1657, 'taskbar': 7996, 'hardship': 4001, ':-)': 670, 't5320': 7945, 't5400': 7946, 't5420': 7947, 't5600': 7949, 't5620': 7950, 't5700': 7951, 't5720': 7952, 't5800': 7953, 't5820': 7954, '53615': 505, 't4800': 7941, 't4900': 7942, 't5000': 7944, 't5500': 7948, 't5900': 7955, 't6500': 7957, 'fv500': 3721, 'extensively': 3321, '802.11b': 621, 'alert': 928, 'coltrane': 2016, 'goosebump': 3856, 'passionate': 6003, 'lover': 5018, 'collector': 2008, 'ears': 2977, 'basshead': 1333, 'disproportionately': 2748, 'complement': 2078, 'ue': 8399, 'unnatural': 8513, 'marvelous': 5155, 'pleasant': 6187, 'thumpy': 8143, 'overbalance': 5878, 'eb': 2991, 'ideal': 4262, 'rap': 6583, 'hop': 4158, 'bassline': 1334, 'comprise': 2099, 'dominate': 2802, 'superficially': 7847, 'thinness': 8112, 'vulnerable': 8780, 'thoughtfully': 8122, 'blessing': 1470, 'entrance': 3133, 'attenuator': 1205, 'earwax': 2981, 'silvery': 7350, 'winder': 8967, 'tangling': 7984, 'unlikely': 8507, 'dominant': 2801, '1993': 279, 'gravis': 3889, 'uprade': 8572, 'midi': 5282, 'wanted': 8824, 'nfs': 5597, '3mins': 423, 'rumble': 7015, 'mw': 5495, 'ea': 2962, 'games': 3755, 'feather': 3430, '67': 554, 'gravi': 3888, 'race': 6557, 'progressive': 6400, 'steering': 7682, 'betetr': 1416, 'cnd': 1974, 'snes': 7463, '4/5': 435, 'answereing': 1047, 'sattelite': 7092, 'satelite': 7082, 'aup': 1225, 'tel': 8028, 'simultaneous': 7362, 'gigabit': 3813, 'intrusion': 4538, 'feels': 3443, 'snugly': 7469, 'ghz': 3806, 'vs.': 8778, '2.4': 292, 'immune': 4313, 'heating': 4065, 'truckin': 8331, '9volt': 667, 'bedside': 1370, 'technique': 8019, 'manufacuter': 5127, 'tread': 8288, 'laniard': 4798, 'sleak': 7411, 'drone': 2865, 'unimpose': 8492, 'sounddock': 7531, 'recomendation': 6682, 'listend': 4948, 'raido': 6570, 'disadvantage': 2696, 'easier(but': 2983, 'jogger': 4655, 'proccess': 6371, 'finepix': 3485, 'devout': 2626, 's800': 7043, 'blotchy': 1483, 'draft': 2840, 'msx': 5456, 'm1gn': 5051, 'accompany': 753, 'paris': 5984, 'camp': 1716, 'northern': 5644, '10k': 166, 'usb07051c-01': 8597, '3.16': 372, 'verizon': 8695, 'polycom': 6224, 'communicator': 2044, 'pita': 6149, 'a.': 686, 'b.': 1277, 'envariably': 3135, 'deshevele': 2589, 'ocasionally': 5723, 'sporadic': 7599, 'downfall': 2822, 'bomb': 1507, 'unpack': 8519, 'corresponding': 2261, 'sbs': 7104, 'ep': 3141, 'quest': 6516, 'sceptical': 7121, 'harm': 4005, 'stall': 7643, 'horse': 4173, 'dusty': 2913, 'collect': 2006, 'dashmount': 2452, 'blanket': 1458, 'pliable': 6196, 'f-250': 3341, 'bouncy': 1544, 'creep': 2327, 'dangle': 2446, 'toyota': 8240, 'avalon': 1249, 'floorboard': 3562, 'temtation': 8045, 'robber': 6971, 'hotas': 4177, 'sst': 7631, 'dogfight': 2796, 'obsess': 5715, 'drumming': 2875, 'marching': 5139, 'tupperware': 8358, 'parade': 5975, 'cumbersonme': 2381, 'cymbal': 2424, 'steep': 7680, 'childhood': 1881, 'airt': 906, 'upstairs': 8577, 'extender': 3318, 'downstair': 2830, 'whit': 8932, 'filet': 3470, 'mignon': 5289, 'holster': 4143, 'worthwhile': 9049, 'cube': 2373, 'sucessfully': 7809, 'storag': 7715, 'duplication': 2906, 'teac': 8009, 'flatscreen': 3536, 'bandwagon': 1313, 'immense': 4311, \"e'nuf\": 2944, '8.5x11': 611, 'prohibitive': 6402, 's041727': 7034, 'a++++++++++': 683, 'continued': 2205, 'emap': 3061, '12v': 201, 'yup': 9135, 'burst': 1643, 'poke': 6219, 'battle': 1343, 'sensetivity': 7213, 'illustrator': 4293, 'macromedia': 5071, 'impressively': 4335, 'lap': 4804, 'telescopic': 8033, 'booklight': 1515, 'finnicky': 3495, 'advandage': 839, '/-': 98, 'mature': 5171, 'alder': 926, 'fir': 3496, 'gilsson': 3817, 'hat': 4019, 'aquisition': 1113, 'sunny': 7839, 'related': 6760, 'convient': 2231, 'deskjet': 2596, '3930': 416, 'convience': 2230, 'b+': 1275, 'napster': 5516, 'myslef': 5502, 'leader': 4846, 'sanso': 7079, 'pressesd': 6322, '3am': 418, 'tuffwrap': 8344, 'xtrememac-': 9107, 'blee': 1464, 'fingertip': 3489, 'hewlett': 4091, 'packard': 5934, 'c3906a': 1676, 'cartrige': 1775, 'tword': 8382, 'allmost': 943, 'reorder': 6799, 'konk': 4755, 'removeable': 6794, 'synch': 7930, 'simplify': 7358, 'syche': 7922, 'bumping': 1634, '04': 105, 'involved': 4562, 'repetition': 6809, 'throttle': 8131, 'downloadable': 2824, 'ch': 1834, 'prod': 6378, 'goflight': 3847, 'modular': 5377, 'cockpit': 1991, 'sim': 7351, 'suited': 7830, 'aspiring': 1159, 'advaced': 836, 'flt': 3568, 'simmer': 7355, 'notes': 5656, 'calender': 1702, 'razr': 6603, 'spair': 7546, 'phonetools': 6109, 'sx-1030': 7920, 'arrgghh': 1133, '1030': 157, 'quot;small&quot': 6543, 'airflow': 897, 'cfm': 1833, 'refugee': 6728, 'basement': 1326, 'wherever': 8921, 'w2k.': 8789, 'oop': 5795, 'wonky': 9021, 'dgl-4300': 2630, 'omnimount': 5775, 'mustang': 5486, 'moto': 5422, 'reseat': 6840, 'skinny': 7396, 'h250': 3951, 'confortable': 2142, 'acustic': 794, 'property': 6423, 'vocal': 8756, 'multitracke': 5474, 'samson': 7067, 'c01b': 1671, 'condenser': 2119, 'freedom': 3652, 'portablility': 6244, 'headroom': 4051, 'millenia': 5299, '79': 599, 'latency': 4822, '44100hz': 453, 'fasoft': 3405, 'liberating': 4898, 'job.(if': 4652, 'opossum': 5810, 'porch': 6237, 'prong': 6416, 'supplement': 7856, 'powersquid': 6284, 'temporary': 8042, 'sentry': 7219, 'accordance': 756, 'overload': 5895, 'cheater': 1869, 'grounded': 3915, 'generator': 3784, 'p.c.': 5922, 'cuando': 2371, 'compr': 2094, 'una': 8415, 'm105': 5049, 'pantalla': 5966, 'eleg': 3044, 'este': 3190, 'maletin': 5103, 'porque': 6238, 'lei': 4872, 'que': 6514, 'sus': 7890, 'ajustaban': 911, 'equipo': 3156, 'est': 3186, 'forrado': 3619, 'cuenta': 2376, 'divisiones': 2774, 'suficientes': 7823, 'para': 5974, 'llevar': 4961, 'cargador': 1758, 'poder': 6213, 'la': 4769, 'asimismo': 1151, 'puedo': 6466, 'incluir': 4363, 'documento': 2793, 'otros': 5850, 'accesorio': 737, 'asa': 1145, 'moda': 5366, 'correa': 2256, 'incluida': 4362, 'ancha': 1018, 'ajustable': 912, 'largo': 4811, 'uno': 8515, 'desee': 2585, 'estoy': 3193, 'satisfecho': 7086, 'esta': 3187, 'compra': 2095, '6500b': 547, '2.4ghz': 293, 'tru8866': 8329, 'ans': 1045, 'mach': 5063, 'vm': 8754, 'bonker': 1510, 'accumulate': 759, 'nope': 5639, 'md7081': 5192, '5.8ghz': 487, '6500b.': 548, 'hmmm': 4131, 'elegantly': 3046, 'opion': 5809, '48gx': 468, 'obsolete': 5716, 'gret': 3899, 'woowho': 9026, 'eventhough': 3210, 'healthy': 4055, 'wax': 8868, 'underestimate': 8451, 'cafe': 1696, 'win98': 8963, '100.00': 149, 'audiobook': 1219, 'technophobe': 8023, 'toysrus': 8241, '15.00': 220, 'better': 1417, 'sears': 7166, 'a400': 690, 'perplexing': 6077, 'unbiased': 8432, 'sdsdb-128': 7150, 'a10': 688, '142': 212, '106': 159, '51': 498, 'complexity': 2086, 'algorithm': 930, 'intensely': 4486, 'washington': 8854, 'maine': 5092, 'guam': 3929, 'virgin': 8736, 'islands': 4597, 'd.c.': 2429, 'transferable': 8261, 'manu': 5119, 'payable': 6025, 'uncertain': 8435, 'reimburse': 6750, 'seriousness': 7236, 'summarize': 7831, 'phrase': 6119, 'discretion': 2727, 'jerk': 4640, 'pricy': 6339, 'boonie': 1526, 'suggested': 7825, 'continually': 2203, 'negotiate': 5560, 'ramp': 6576, 'zillion': 9149, 'admirably': 822, 'snuggly': 7468, '8.99': 612, 'eektech': 3012, 'eek': 3011, 'sufficiently': 7822, 'assignment': 1163, 'reinsert': 6753, 'upholstery': 8567, 'jean': 4636, 'alter': 971, 'cautious': 1795, 'fab': 3359, 'v270': 8628, 'wel': 8900, 'authority': 1228, 'increasingly': 4375, 'podcast': 6212, '--only': 38, '--no': 36, 'strenuous': 7742, '--nowhere': 37, 'gingerly': 3821, 'relieved': 6772, 'alleviate': 939, 'wringer': 9063, 'videophile': 8721, 'merely': 5238, '192': 254, 'subtle': 7799, 'nuance': 5681, 'vaseline': 8664, 'lossless': 5006, 'accustomed': 765, 'differentiation': 2660, 'bloody': 1481, 'miracle': 5328, 'overwhelmed': 5911, 'hd-600': 4036, 'hd-25': 4030, 'hd-25sp': 4031, 'bite': 1449, 'absence': 717, 'mccartney': 5189, 'lennon': 4878, \"''\": 9, 'economy': 2998, 'beatles': 1359, 'george': 3799, 'harrison': 4010, 'ringo': 6947, 'starr': 7655, 'decade': 2497, 'discs': 2729, 'analogue': 1015, 'solo': 7492, '1982': 272, 'tug': 8345, 'war': 8827, 'stereofield': 7690, 'geoff': 3797, 'emerick': 3071, 'egg': 3024, 'milk': 5297, 'honey': 4153, 'walls': 8816, 'bridges': 1577, 'dream': 2855, 'gorgeous': 3857, 'dictate': 2650, 'carpeting': 1764, 'ceiling': 1805, 'plaster': 6170, 'snare': 7460, 'inconsistency': 4367, 'sabotage': 7044, 'phenomenally': 6096, 'sennhesier': 7209, 'noteworthy': 5657, 'isao': 4592, 'tomita': 8197, 'firebird': 3498, '1976': 267, 'eponymous': 3145, '1979': 270, 'steely': 7679, 'dan': 2441, 'gaucho': 3767, '1980': 271, 'walsh': 8819, 'smoker': 7450, '1973': 263, '10cc': 163, '1975': 266, 'godley': 3846, 'creme': 2329, 'consequences': 2165, '1977': 268, 'supertramp': 7853, 'crime': 2331, 'century': 1820, '1974': 265, 'xtc': 9104, 'peter': 6090, 'gabriel': 3745, 'kate': 4700, 'dreaming': 2856, 'pursuit': 6486, 'accidents': 748, 'cobham': 1987, '1972': 262, 'frank': 3644, 'zappa': 9142, 'goodnight': 3853, 'vienna': 8725, 'prince': 6342, 'todd': 8191, 'rundgren': 7019, 'hermit': 4086, 'mink': 5319, 'hollow': 4142, '1978': 269, 'oyster': 5917, 'cult': 2379, 'agents': 877, 'venus': 8686, 'mars': 5152, '1971': 261, '1970': 260, 'karma': 4699, 'clipping': 1948, 'remaster': 6780, 'antiquated': 1056, 'searching': 7165, 'acurate': 793, 'transcend': 8257, 'gbyte': 3771, 'har': 3995, '.wav': 95, '.msv': 91, '32meg': 393, 'hearts': 4062, 'npr': 5677, 'streaming': 7737, 'shackle': 7261, 'goodness': 3852, 'auxiliary': 1241, 'boom': 1519, 'hp12c': 4190, 'productivity': 6385, 'consultant': 2187, 'withstand': 8998, 'statistical': 7667, 'financial': 3481, 'mathematical': 5167, '650mah': 549, '1000mah': 152, 'accupower': 760, 'postcard': 6261, 'camer': 1713, 'notepad': 5655, '535': 504, 'pong': 6226, 'purhcase': 6480, 'bf2': 1421, 'util': 8615, 'ne': 5534, 'mucho': 5463, 'parusing': 5997, 'reasign': 6632, 'reccomend': 6651, 'connectability': 2155, '1996': 280, 'winplay': 8979, 'l3enc': 4768, 'nomad': 5626, 'jukebox': 4676, '20gig': 320, 'africa': 866, '70,000': 567, 'zune': 9161, 'stray': 7733, ';)': 672, 'generous': 3786, 'e260': 2952, 'cartoon': 1772, 'flush': 3574, 'protrusion': 6438, 'phones(included': 6108, 'dvd+/-': 2921, '299': 356, 'thonk': 8118, '2.4gig': 294, 'p4': 5925, 'drumroll': 2876, 'fridge': 3669, 'crammme': 2307, 'emi': 3073, 'suppression': 7864, '75db': 590, 'surgemaster': 7878, 'belkin.com': 1398, 'astounding': 1176, 'dynamic': 2941, 'provided': 6442, 'tho': 8117, 'iteration': 4611, '-control': 52, \"-can't\": 51, 'listem': 4946, 'goofey': 3854, 'moster': 5413, 'inprovement': 4438, 'mt': 5457, '6.1': 525, 'runing': 7020, 'intall': 4473, 'brezz': 1573, 'surond': 7880, 'wayne': 8871, 'mn': 5361, 'soldier': 7486, 'combat': 2019, 'eclipse': 2996, 'exterior': 3324, 'proteck': 6430, 'veary': 8671, 'agai': 871, 'omg': 5771, 'yamaha': 9112, 'wharfdale': 8912, 'diamonds': 2647, 'inste': 4459, 'opener': 5799, '123.5': 192, '121': 191, 'ht': 4198, 'filtering': 3477, 'benefit': 1408, 'diversity': 2770, 'esp': 3178, 'sat': 7081, 'cablevision': 1690, 'logic3': 4981, 'camping': 1717, 'ambiance': 992, '59.00': 512, 'atachee': 1185, 'appealing': 1091, 'unsightly': 8541, 'ons': 5789, 'church': 1900, '75th': 591, 'anniversary': 1031, 'celebration': 1806, 'sweatshirt': 7906, 'quot;invent': 6539, 'it!&quot': 4605, 'hammermill': 3971, 'wet': 8908, 'launder': 4831, 'lookin': 4994, 'ysp-1': 9134, 'companion': 2050, 'hitachi': 4125, 'ultravision': 8411, 'infiniti': 4409, 'aestethic': 851, 'salesroom': 7060, 'demonstration': 2562, 'enhancement': 3116, 'mimic': 5303, 'designation': 2592, 'minimalistic': 5315, 'subway': 7802, 'rider': 6935, 'spongy': 7597, 'tinkering': 8171, 'becomme': 1365, 'modem(moto4200)+wlanrouter': 5370, 'steelbar': 7678, 'enforce': 3107, 'concrete': 2116, 'performenc': 6064, '9mbits': 665, 'penatration': 6046, 'g120': 3733, 'demention': 2556, 'allover': 944, 'allrange': 947, 'adjacent': 814, 'negihbor': 5558, 'celeron': 1807, '800/256mbram': 617, 'mine~': 5309, '5stars': 519, 'config': 2133, 'pavillion': 6022, 'zd7050': 9144, 'e3c': 2957, 'industrial': 4400, 'detergent': 2614, 'soak': 7470, 'rinse': 6950, 'rockin': 6977, 'landscape': 4794, 'conglomerate': 2151, 'buyout': 1662, 'trio': 8312, 'magical': 5084, 'magic': 5083, 'madness': 5076, 'intec': 4475, 'nasal': 5518, 'sixteen': 7383, 'fraternity': 3646, 'moterola': 5416, 'soo': 7515, 'upwards': 8581, 'relax': 6764, 'sack': 7047, 'entertain': 3127, 'ubiquitous': 8398, 'substitute': 7797, 'italy': 4608, 'squeezebox': 7622, 'devices': 2624, 'medialife': 5208, 'realplayer': 6626, 'windvd': 8976, 'powerdvd': 6275, 'worship': 9045, 'biggie': 1430, 'alt+right': 968, 'alt+left': 967, 'browsin': 1599, 'admittedly': 826, 'dweller': 2934, 'plasticky': 6172, 'quot;standard&quot': 6544, 'trustworthy': 8335, 'berate': 1411, 'bench': 1403, 'measurement': 5201, 'informed': 4416, 'recom': 6680, 'cfd': 1831, 'v5': 8635, 'oritron': 5841, 'op5034': 5797, 'rp2410': 7000, 'fuzziness': 3719, 'lend': 4874, 'ordering': 5830, 'inferiority': 4407, '6600gt': 552, 'verto': 8704, 'ddr3': 2477, 'quadrofx': 6505, 'agp': 885, 'parhelia': 5983, 'dl256': 2777, 'beater': 1357, 'pcie': 6034, 'shuttle': 7326, 'xpc': 9099, 'sb75g2': 7102, 'delight': 2545, 'absurdly': 724, 'zippy': 9153, 'windowing': 8971, 'nvidia': 5695, 'grace': 3863, 'duck': 2892, 'alas': 921, '3840': 413, '2400': 334, 'cuz': 2412, 'realestate': 6619, 'geforce': 3775, '7800': 595, 'gt': 3925, 'quadro': 6504, '7800gt': 596, '6800ultra': 557, 'ddl': 2475, '6800gt': 556, '6600': 551, 'g5(pci': 3738, '4500': 457, '3400': 400, '3450': 401, '4400': 452, '7800gtx': 597, 'v8': 8641, 'v7': 8640, 'madrid': 5077, 'undergo': 8452, 'veer': 8672, 'topographical': 8212, 'existance': 3269, 'tailor': 7971, 'independant': 4383, 'deduction': 2512, 'transition': 8268, 'zone': 9155, 'envision': 3140, 'en-7100': 3083, 'resist': 6851, 's560d': 7041, 'res': 6837, 'surpass': 7881, 'gotton': 3860, 'flooring': 3563, 'nj': 5616, '700p.': 571, 'n70': 5507, 'favourite': 3423, 'str': 7722, 'de898': 2479, 'plated': 6174, 'miscalculate': 5332, 'hulk': 4214, 'private': 6355, 'ryan': 7029, 'gunfight': 3941, 'distinctly': 2759, '330': 395, 'emergenie': 3070, 'abroad': 716, 'comfortability': 2027, 'clicker': 1940, 'perfection': 6058, 'adequately': 810, 'awe': 1260, '1200x1600p': 189, 'almanac': 949, 'recalibrate': 6647, 'recalibration': 6648, 'hertz': 4087, 'neverlost': 5583, 'lazy': 4839, 'recreation': 6701, '175': 243, 'chug': 1898, 'burger': 1639, 'krispy': 4758, 'kreme': 4757, 'geocacher': 3796, 'geocache': 3795, 'c5xx': 1679, 'sirf': 7372, 'cloud': 1964, 'speech': 7571, 'announce': 1032, 'topo': 8211, 'adventure': 843, 'inevitable': 4403, 'ammonia': 999, 'fog': 3583, 'antiseptic': 1058, 'alcohol': 925, 'towelette': 8236, 'wardriving': 8829, 'netstumbl': 5577, 'pocketwarrior': 6210, 'kismet': 4737, 'airsnort': 904, 'wcf12': 8873, 'prism': 6351, 'lucent': 5034, 'orinoco': 5840, 'photgrapher': 6111, 'obesse': 5706, 'expensicve': 3290, 'keeping': 4706, 'selle': 7199, 'morter': 5412, 'payment': 6026, 'compatibilty': 2065, 'interet': 4503, 'sublime': 7785, 'squall': 7616, 'downstream': 2832, '-7': 44, '+9': 16, 'upstream': 8578, 'rg59': 6926, 'r6': 6555, 'untill': 8548, 'mot': 5415, '6412': 541, '36xbr800': 410, 'unlimited': 8508, 'realistic': 6621, 'ago.my': 884, 'vehile': 8676, 'radio.the': 6563, 'indash': 4379, 'poor.on': 6229, 'aux': 1240, 'manual.i': 5121, 'into.xm': 4531, '40.00.all': 438, 'powerex': 6277, 'batterie': 1341, 'outdo': 5858, 'weeklong': 8891, 'recharging': 6669, 'http://esupport.sony.com/us/perl/model-documents.pl?mdl=dvpns90v&loc=3': 4202, 'ns90v': 5679, '76': 592, '-15': 42, 'db': 2468, '+5': 15, '77': 594, 'sacd': 7046, 'objective': 5708, 'evaluation': 3205, 'surprize': 7886, 'optional': 5823, 'conveniently': 2222, 'downmixe': 2826, 'pcm': 6035, 'prologic': 6406, 'pseudo': 6450, 'slideshow': 7418, 'onscreen': 5790, 'shooter': 7301, 'geek': 3774, '84': 626, 'xr55': 9101, 'amping': 1007, 'sq': 7615, 'boutique': 1546, 'fixed': 3515, 'hl-2070n': 4128, 'i\"ve': 4238, 'curling': 2387, '1280': 198, 'gentoo': 3793, 'cups': 2384, 'tabloid': 7964, 'slurps': 7436, 'homer': 4147, 'simpson': 7360, 'beer': 1374, 'niagara': 5599, 'cite': 1913, 'unclog': 8439, 'mtink': 5459, 'plugged': 6201, 'reservoir': 6846, 'sponge': 7596, 'sandpaper': 7074, 'overflow': 5887, 'smear': 7446, 'windex': 8968, 'somone': 7508, 'nozzle': 5676, 'vey': 8706, 'mat': 5162, 'cue': 2375, 'parchase': 5980, 'profesional': 6387, 'workhorse': 9035, 'acomadate': 770, 'payolla': 6028, 'expence': 3287, 'nullify': 5686, 'printout': 6348, 'cadadate': 1694, '205': 317, 'mixing': 5356, 'whiz': 8934, 'sword': 7918, 'acounstic': 771, 'coupling': 2285, 'supra': 7867, 'aural': 1226, '20,000': 299, 'spl': 7588, '1khz': 283, 'vrm': 8776, '112': 175, 'thd': 8084, '0.5': 101, 'ohms': 5761, '):': 12, '206': 318, 'singnal': 7367, 'copper': 2245, 'ofc': 5741, '6.3': 526, 'id.with': 4259, 'coordinate': 2241, 'bingo': 1440, 'unexpensive': 8473, 'held': 4073, '4121s': 445, 'admire': 823, 'faithful': 3380, 'satsfie': 7091, 'wpa2': 9054, 'privacy': 6354, 'xbox360': 9090, 'gizmo': 3828, 'carpool': 1765, 'referbishe': 6717, 'hd841': 4039, '642': 542, '850': 628, '480p': 467, '720p': 582, 'index': 4389, 'offbrand': 5744, 'perfomace': 6060, 'discription': 2728, 'mp4': 5443, 'instread': 4463, 'flack': 3518, 'chane': 1842, 'technosavy': 8024, 'ray': 6599, '1080p': 161, 'deflection': 2533, 'sloppiness': 7429, 'altough': 977, 'sofa': 7475, '500-$600': 493, 'miniplug': 5318, 'umbrella': 8413, 'foldup': 3586, 'intrusive': 4539, 'luggage': 5039, 'expecially': 3281, 'holiday': 4141, 'sdsdqu-1024': 7153, 'e10m.': 2948, 'u.s.': 8394, 'wg111': 8909, 'america': 997, 'wallet': 8813, 'nylon': 5700, 'remember-': 6783, 'accompane': 752, 'parite': 5985, 'flexability': 3548, 'record--': 6692, 'teriffic': 8053, 'icing': 4256, 'wierd': 8948, '.......': 74, 'creature': 2324, 'lansings': 4802, 'sbl': 7103, 'acually': 792, 'hd650': 4038, 'cancell': 1726, 'denon': 2564, 'cheapy': 1867, 'doohickey': 2808, 'speedy': 7575, 'vcr+': 8669, 'tvio': 8370, 'granular': 3882, 'forwarding': 3627, 'deadzone': 2484, 'blockiness': 1477, 'blur': 1488, 'animate': 1029, 'lp': 5026, 'freespace': 3655, '-ram': 62, 'sensible': 7214, 'interesting': 4501, 'trivially': 8320, 'hts': 4200, 'reviews,(which': 6916, 'hls-5687w': 4129, 'directv': 2690, 'successor': 7808, '49g.': 472, 'securedigital': 7180, '0.9': 102, '49': 469, 'accessible': 739, 'recognice': 6675, 'fat16': 3409, 'fat32': 3410, 'metallic': 5250, 'distinguish': 2760, 'tomato': 8196, 'turquiose': 8366, 'tan': 7982, 'anodized': 1039, 'tastefully': 7998, 'buttery': 1654, 'ingeniousness': 4420, 'wwii': 9077, 'strictly': 7747, 'pap2': 5967, 'extreamly': 3332, 'salt': 7061, '911': 648, 'physics': 6123, 'susceptible': 7891, 'emf': 3072, 'flimpsy': 3555, '5001': 494, 'seaseme': 7167, '15.4': 221, 'chicago': 1878, 'downtown': 2833, 'wacker': 8793, 'dr.': 2839, 'reroute': 6836, 'soundwise': 7538, '5.1s': 483, 'soundblaster': 7529, '128kbps': 200, 'encoding': 3090, 'loudness': 5011, 'homework': 4149, 'sparse': 7551, 'paperback': 5969, 'testbook': 8065, 'courteous': 2288, 'tunedok': 8351, 'tunecok': 8350, 'rubbery': 7006, 'wan': 8820, 'u2': 8395, '960': 656, 'dv5139us': 2918, '1.8': 130, 'wdth': 8874, '14.1': 208, 'meg': 5215, 'wildfire': 8954, 'robbery': 6972, 'kitten': 4740, 'resize': 6854, 'helicopter': 4075, 'police': 6220, 'poll': 6223, 'deer': 2516, 'dept': 2578, 'wafer': 8795, 'hug': 4210, 'curl': 2386, 'tunecastii': 8349, 'safely': 7053, 'congestion': 2150, 'overlap': 5892, 'rewind': 6922, 'greeting': 3898, 'elderly': 3036, 'gemstar': 3777, '1150': 177, 'openness': 5802, 'beauty': 1363, 'photographing': 6116, 'shatter': 7276, 'domain': 2799, 'moisture': 5379, 'condensation': 2118, 'dew': 2627, 'temp': 8037, 'overbearing': 5880, 'completo': 2084, 'colocar': 2010, 'peque': 6051, 'inal': 4347, 'mbrica': 5186, 'casera': 1777, 'problema': 6365, 'sencillo': 7204, 'instalar': 4451, 'tanto': 7987, 'cualquier': 2370, 'bolsa': 1505, 'experiencia': 3295, 'puede': 6465, 'hacerse': 3959, 'tiene': 8152, 'fuerte': 3688, 'atenuacione': 1186, 'saludo': 7062, '27': 345, 'video4': 8717, 'dvp360': 2931, 'dinosaur': 2683, 'elite': 3055, 'scratched': 7137, 'projector': 6405, 'playe': 6181, 'linkysys': 4940, 'expirience': 3302, 'intermittant': 4508, 'amazons': 990, '}': 9164, 'intensify': 4487, 'videocamera': 8718, 'addrese': 806, '3.2': 373, 'firmwave': 3505, '4.32': 431, 'jansport': 4629, 'kelty': 4708, 'backpacker': 1293, 'proofing': 6419, 'sophisticated': 7521, 'lumbar': 5040, 'kennisington': 4710, 'strap--': 7730, 'journalist': 4664, 'tote': 8220, 'microcassette': 5271, 'transcribe': 8258, '.avi': 86, 'ware': 8830, 'few': 3452, 'momentarily': 5385, '1.26': 125, 'leery': 4864, 'conside': 2168, 'cvr600': 2413, 'contemporary': 2197, 'flammable': 3523, 'wally': 8817, 'm1000': 5048, 'sv': 7896, 'beating': 1358, 'preemptively': 6301, 'bum': 1631, 'deadbolt': 2482, 'preface': 6302, 'reviews(here': 6915, 'bash': 1327, 'alt': 966, 'cod2': 1992, 'rumor': 7016, 'nonexistent': 5632, 'illiterate': 4289, 'judge': 4673, 'grammatical': 3876, 'quietness': 6530, 'confidently': 2132, 'design(no': 2591, 'illumination': 4292, 'demerit': 2557, 'capitalize': 1741, 'aesthetic': 852, 'experienced': 3294, 'one(although': 5781, 'engineers': 3112, 'recap': 6650, 'throbbing': 8130, 'backspace': 1295, '100ma': 153, 'ps/2': 6446, 'visor': 8746, 'techgnet': 8014, 'accurrate': 764, 'coure': 2286, 'spekaer': 7576, 'cmss': 1973, 'neo': 5567, 'din': 2678, 'integrated': 4477, 'megaworks': 5219, 'gigaworks': 3816, 'crystalizer': 2363, 'belive': 1396, 'asio': 1153, 'audigy': 1217, 'zs': 9160, 'esi': 3176, 'juli@': 4677, 'theme': 8092, 'beacuse': 1349, 'warrnty': 8845, \"could't\": 2274, 'urc9910': 8587, '880': 633, 'urc9910s': 8588, 'identically': 4264, 'afik': 863, 'progammable': 6395, 'mappable': 5131, 'obscure': 5712, 'performer': 6065, 'epsom': 3146, 'q5949x': 6497, '120.00': 187, 'divide': 2771, 'cx2610': 2415, 'lapdesk': 4805, 'reposition': 6820, 'versatile': 8698, 'curropt': 2390, 'steve': 7693, 'cdpcx355': 1800, '301': 382, 'hobby': 4135, 'sear': 7162, 'sickening': 7329, 'dent': 2566, 'xplode': 9100, 'adult': 835, 'male': 5102, '27&quot': 346, 'correspond': 2260, 'tau': 8000, 'consideration': 2171, '16:9': 238, '36&quot': 405, 'freq': 3661, 'grind': 3907, 'htz': 4206, 'enjo': 3117, 'unmute': 8512, 'melody': 5220, 'pc155': 6030, 'spacial': 7544, 'imaging': 4302, 'imperfection': 4319, 'sock': 7473, 'obligated': 5709, 'pc165': 6031, '155': 227, '165s': 236, '155s': 228, '165': 235, 'dg5': 2629, 'killer': 4731, 'otherhand': 5848, 'steller': 7684, 'deminish': 2558, 'complementary': 2079, 'ur29': 8585, 'nc20': 5532, 'overdrive': 5884, 'sportapros': 7604, 'akg': 915, 'k240s': 4692, 'ditto': 2768, 'hd-420s': 4032, 'k26p': 4693, '1812': 248, 'overture': 5908, 'cannon': 1732, 'stow': 7721, 'px100s': 6493, 'steel': 7677, 'unbend': 8430, 'unbent': 8431, 'scalp': 7107, 'satisifie': 7090, 'autoroute': 1239, 'phoenomenal': 6103, 'm37v': 5054, 'srf-59': 7626, 'cousin': 2289, 'evening': 3207, 'remixe': 6785, 'eighty': 3028, 'blessfully': 1469, 'fish': 3508, 'necessitate': 5545, 'musicality': 5483, 'nevertheless': 5584, 'sinus': 7369, 'slouch': 7432, 'haul': 4022, 'woai': 9011, 'antonio': 1059, 'dxing': 2939, 'xin': 9094, 'feng': 3448, 'aiplane': 894, 'entertained': 3128, 'einstein': 3029, 'airliner': 899, 'on': 5777, 'caveat': 1796, 'sam': 7063, 'traveller': 8285, 'doesn;t': 2794, 'fofill': 3582, 'hoe': 4136, 'logi3': 4979, 'ippod': 4574, 'propose': 6424, 'onstage': 5791, 'toaster': 8187, 'ovens': 5875, 'delonghi': 2551, 'alfredo': 929, 'cuisinart': 2377, 'tob-30bc': 8188, 'bake': 1306, 'cook': 2236, 'reinforcement': 6752, 'workstation': 9040, 'assisted': 1165, 'aggravating': 878, 'woe': 9014, 'unamplified': 8421, 'mice(cordless': 5267, 'optical)and': 5819, 'gram': 3874, 'liek': 4904, 'cos': 2266, 'readjusting': 6616, 'changin': 1845, '2hr': 363, 'likethe': 4924, 'transformer': 8264, \"shoulldn't\": 7313, 'restraint': 6878, 'backin': 1286, 'stiffness': 7700, 'overcome': 5882, 'degradation': 2535, 'mp830': 5446, 'sadden': 7050, 'demise': 2559, 'cx6400': 2416, 'videography': 8719, 'lapel': 4806, 'iriver-795': 4580, 'recommende': 6687, 'lancing': 4791, 'intalle': 4474, 'ilink': 4286, 'realy': 6630, '60cs': 536, 'broad': 1587, 'geography': 3798, 'v2': 8623, 'v2s': 8630, 'v6': 8637, 'v6s': 8639, 'concur': 2117, 'reducetreble': 6712, 'overemphasize': 5885, 'flatness': 3535, 'coloring': 2014, 'albeit': 923, 'damaging': 2438, 'uncolored': 8440, 'v600': 8638, 'musicians': 5484, 'talent': 7974, 'isqueez': 4602, 'awesomestufffree.com/portabledv': 1265, 'editor': 3007, 'newspaper': 5594, 'elegant': 3045, 'an': 1012, 'fob': 3580, 'sub-$150': 7779, '20.00': 301, 'classy': 1924, 'starbucks': 7653, 'qualit': 6508, 'g710': 3744, 'passive': 6004, 'cram': 2306, 'backlit': 1290, 'scold': 7130, '9/05': 642, 'tele': 8029, 'hitch': 4126, 'i.d': 4241, 'v3.0_20': 8632, 'fr114p': 3636, 'highlander': 4104, 'windsheild': 8974, 'signel': 7341, 'ishuffle': 4593, 'livable': 4957, 'alpahbetical': 959, 'blind': 1471, 'helen': 4074, 'keller': 4707, 'engrave': 3114, '79.00': 600, 'degreed': 2539, 'eazy': 2990, 'necklace': 5549, 'greasy': 3892, 'soap': 7471, 'detract': 2619, 'pant': 5965, '24.99': 332, '49.99': 470, '34.99': 397, 'cingular': 1905, '8125': 624, 'demon': 2561, 'attest': 1206, 'inherently': 4421, 'occasionnally': 5727, 'wit': 8995, 'paw': 6023, 'duet': 2895, '36.95': 406, 'dealmac': 2490, 'thud': 8138, 'abit': 709, 'activly': 788, \"6'3\": 523, 'posture': 6264, 'tritton': 8317, '8x10s': 638, 'tg2700': 8072, 'tg2720': 8073, 'tg2730': 8074, 'tg2740': 8075, 'tga271v': 8078, 'instaltion': 4455, 'sizing': 7388, 'messages': 5245, 'ofen': 5742, 'interchangeable': 4495, 'metalic': 5249, 'indent': 4382, 'horrific': 4170, 'prospective': 6429, 'employ': 3078, 'braindead': 1557, 'dimwit': 2677, 'detachable': 2607, 'needed-': 5552, 'built!)and': 1624, 'diagonally': 2636, 'accross': 758, 'chest': 1876, 'aisle': 909, \"5'1\": 480, 'decently': 2501, 'foward': 3633, 'affix': 857, 'defend': 2522, 'nightly': 5608, 'books': 1516, 'preferable': 6304, 'cheep': 1873, 'cone': 2126, 'yield': 9123, 'monie': 5391, 'twelve': 8374, 'boose': 1527, 'acceptabl': 732, 'unbelievably': 8429, 'giveaway': 3826, 'musi': 5480, 'deem': 2513, 'enclose': 3087, 'drift': 2857, 'profiler': 6392, 'splinter': 7591, 'wing': 8978, 'alliance': 941, 'diagonal': 2635, 'fighter': 3466, '500:1': 495, '700:1': 569, '20.1': 302, 'unreal': 8531, 'tournament': 8231, '4:3': 473, 'excess': 3251, 'cordage': 2249, 'adjusting': 818, 'earthshake': 2979, 'stremlined': 7740, 'requirment': 6835, 'boke': 1503, 'nightstand': 5610, 'veritable': 8694, 'attract': 1209, 'possibility': 6255, 'muted': 5488, 'truthfully': 8338, 'ferret': 3450, 'puncture': 6472, 'refill': 6720, 'inkject': 4430, 'flimsiness': 3556, 'dialtone': 2643, '110v': 174, 'oher': 5758, 'extort': 3328, 'undeliverd': 8449, 'diggiti': 2666, 'chyrsler': 1901, 'cruiser': 2354, 'column': 2017, 'unwanted': 8556, 'scratching': 7138, 'blemish': 1466, 'jay': 4633, 'shahee': 7265, 'partner': 5994, '.01': 82, 'a9': 695, '4.50': 433, 'trepidation': 8302, 'carre': 1767, 'menber': 5227, 'stap': 7649, 'favorably': 3420, 'obtaibe': 5718, 'sunrocket': 7840, 'hella': 4077, 'shower': 7317, 'sticks': 7697, 'creatures': 2325, 'nearley': 5538, 'supprise': 7866, 'highley': 4105, 'homesick': 4148, 'fantatstic': 3395, 'mp780': 5445, 'borderless': 1532, '1/2x11': 134, 'turnaround': 8362, 'verbati': 8688, 'i5': 4245, 'prevention': 6329, '56': 511, '2mp': 365, 'waiting': 8802, 'mia': 5265, 'dialog': 2640, 'cutie': 2408, 'dvpnss550': 2932, 'mavica': 5173, 'cameras': 1715, '.42': 84, 'workload': 9037, 'faxing': 3425, 'photocopy': 6113, 'fathom': 3414, 'hall': 3968, 'taut': 8001, 'guitarist': 3940, 'rediscover': 6710, 'percussion': 6056, 'dearly': 2491, 'ktxpro1s': 4762, 'edith': 3004, 'funeral': 3706, 'disposal': 2747, 'fork': 3612, 'sub-$20': 7780, 'adopter': 829, 'h120': 3950, 'h320': 3953, 'h340': 3954, 'av500': 1243, 'reencode': 6714, 'pro-4aa': 6358, '1/4\"-to-3.5': 136, 'watergate': 8861, '1973/1974': 264, 'senators': 7203, 'attorney': 1208, '4aa': 474, 'extermely': 3325, 'coil': 1999, 'positives': 6252, 'paddde': 5936, 'preserve': 6319, 'listeining': 4945, 'conceal': 2106, 'weighty': 8897, 'nite': 5615, 'sideway': 7333, 'generaly': 3781, 'q9b': 6498, 'unpleasant': 8521, 'disassemble': 2704, 'crispness': 2337, '120dpi': 190, '1280x1024': 199, 'computing': 2104, 'surfing': 7876, '400x300': 442, 'psps': 6452, 'ip4000': 4567, 'refilled': 6721, '13x19': 205, 'satisife': 7089, 'w.this': 8782, 'windy': 8977, 'lowrance': 5024, 'sgood': 7259, '340': 398, 'businessweek': 1648, 'rank': 6582, 'excerpt': 3250, 'streetpilot': 7739, 'tmj': 8184, 'crook': 2342, 'dinner': 2682, 'elfishly': 3052, 'necessitiy': 5546, 'w2': 8786, 'ridiculus': 6940, 'competitive': 2074, 'schmuck': 7124, 'exceptable': 3246, 'caps': 1743, 'num': 5688, 'grave': 3887, 'skid': 7392, 'broadside': 1590, 'proclaiming': 6377, 'intrigue': 4533, 'fetish': 3451, 'outmatch': 5866, 'brilliantly': 1584, 'emulate': 3082, 'innovative': 4435, 'anyuse': 1071, 'soundock': 7534, 'unsure': 8545, 'solitaire': 7491, 'tunejuice': 8352, '9v': 666, '-------': 24, 'efficently': 3018, '-use': 67, '-adjust': 47, 'port(extra': 6240, 'raio': 6573, 'consumme': 2192, '2mg': 364, 'rx': 7027, 'v2700': 8629, '46': 460, 'batman': 1338, 'begins': 1383, 'permanently': 6071, 'reload': 6773, '680': 555, 'jiffy': 4645, 'n.y.c.': 5505, 'protrude': 6437, 'tard': 7991, '75.99': 587, 'zens': 9147, 'leap': 4851, 'wap55ag': 8826, 'wmp55ag': 9010, 'wpc55ag': 9058, '----------------------------------------': 27, 'a+g': 684, 'climb': 1944, 'attic': 1207, 'cellar': 1809, 'messaging': 5246, '802.11a': 620, 'interoperate': 4516, '11mbps': 181, 'hotspot': 4179, 'whichever': 8923, '152': 225, '--------------------------------': 25, 'requirements': 6834, '---------------------------------------------': 28, '200mhz': 314, 'smoothness': 7454, 'freeing': 3653, 'inobtrusive': 4436, '530': 503, 'aw-810': 1255, 'calibrate': 1704, 'exceptional': 3248, 'trackman': 8245, 'sept.': 7226, 'behe': 1387, '510': 499, 'colour': 2015, 'fr300': 3637, 'roadway': 6968, 'ctrex': 2367, 'magmount': 5086, 'remarkedly': 6779, 'hilly': 4114, 'guarentee': 3933, 'bird': 1445, 'gtx600vp4': 3928, 'ample': 1008, 'terrain': 8057, 'rocky': 6978, 'mountains': 5430, 'c.': 1670, 'inluding': 4434, 'flashing': 3530, 'siren': 7371, 'afterthought': 870, '9.99': 641, 'excellecnt': 3241, 'motorala': 5424, 'tools': 8206, 'tunes': 8354, 'tones': 8203, 'syn1301b': 7928, 'diameter': 2644, 'taper': 7990, 'optimization': 5821}\n",
      "\n",
      "9173\n",
      "9172\n",
      "�\n"
     ]
    },
    {
     "name": "stderr",
     "output_type": "stream",
     "text": [
      "C:\\ProgramData\\Anaconda3\\lib\\site-packages\\sklearn\\feature_extraction\\text.py:516: UserWarning: The parameter 'token_pattern' will not be used since 'tokenizer' is not None'\n",
      "  warnings.warn(\n"
     ]
    }
   ],
   "source": [
    "# we will use the sklearn library for text preprocessing (and later also for classification and clustering algorithms/models)\n",
    "import sklearn\n",
    "\n",
    "# for this we need the TfidfVectorizer class from scikit-learn (sklearn) \n",
    "from sklearn.feature_extraction.text import TfidfVectorizer, CountVectorizer #note: high idf, if word appears more often\n",
    "\n",
    "# dummy function, returning our already tokenized text. TfidfVectorizer usually expects raw text and performs tokenization of\n",
    "# its own. Since we already tokenized the texts ourselves with SpaCy, we just provide those tokens\n",
    "def dummy(tokenized_text):\n",
    "    return tokenized_text\n",
    "\n",
    "# Converting Pandas data series into a list of tokenized texts (input format required by scikit-learn's TfidfVectorizer)\n",
    "train_set = train_data[\"tokens\"].tolist()\n",
    "eval_set = eval_data[\"tokens\"].tolist()\n",
    "\n",
    "# initializing the TF-IDF vectorizer\n",
    "vectorizer = TfidfVectorizer(tokenizer = dummy, preprocessor = dummy)\n",
    "\n",
    "# vectorizer learns the vocabulary from the (tokenized) train set tweets\n",
    "vectorizer.fit(train_set) #fit builds the vocabulary\n",
    "\n",
    "# let's see what the vocabulary looks like\n",
    "print(vectorizer.vocabulary_)\n",
    "\n",
    "print()\n",
    "\n",
    "# let's see how many different words we have in our vocabulary\n",
    "print(len(vectorizer.vocabulary_))\n",
    "\n",
    "#personal note: find max\n",
    "print(max(vectorizer.vocabulary_.values()))\n",
    "print(max(vectorizer.vocabulary_.keys()))\n",
    "\n",
    "#note: output example \"con\" with position 2105 etc. "
   ]
  },
  {
   "cell_type": "code",
   "execution_count": 5,
   "metadata": {
    "id": "nego7E0kqqU5",
    "outputId": "1f61c138-65d7-4cad-92f8-614ae349ee86"
   },
   "outputs": [
    {
     "name": "stdout",
     "output_type": "stream",
     "text": [
      "Train set TF-IDF vectors\n",
      "(1800, 9173)\n",
      "\n",
      "  (0, 8937)\t0.10102057390137142\n",
      "  (0, 8902)\t0.04569912536166878\n",
      "  (0, 8823)\t0.06170195607024618\n",
      "  (0, 8703)\t0.1494719003287464\n",
      "  (0, 8210)\t0.08582608188389235\n",
      "  (0, 8193)\t0.10294638971407037\n",
      "  (0, 8176)\t0.11015328249762119\n",
      "  (0, 7637)\t0.3818207709833976\n",
      "  (0, 7431)\t0.10921330964371818\n",
      "  (0, 6559)\t0.139150273973618\n",
      "  (0, 6488)\t0.07225819490186158\n",
      "  (0, 6468)\t0.0947536539717236\n",
      "  (0, 6357)\t0.09430955318215681\n",
      "  (0, 6230)\t0.21842661928743637\n",
      "  (0, 6135)\t0.08312797693921625\n",
      "  (0, 5943)\t0.11015328249762119\n",
      "  (0, 5780)\t0.04355835249477955\n",
      "  (0, 5649)\t0.07448794660146939\n",
      "  (0, 5248)\t0.12146075181154553\n",
      "  (0, 5007)\t0.14222292079897825\n",
      "  (0, 4998)\t0.11564791329529184\n",
      "  (0, 4396)\t0.12965348755389228\n",
      "  (0, 4140)\t0.11834601823996795\n",
      "  (0, 4138)\t0.07544680706589965\n",
      "  (0, 3937)\t0.12321888390231862\n",
      "  :\t:\n",
      "  (1799, 3615)\t0.06044989493160704\n",
      "  (1799, 3533)\t0.06633285438301216\n",
      "  (1799, 3468)\t0.05106373915206322\n",
      "  (1799, 3274)\t0.16592083291278847\n",
      "  (1799, 3131)\t0.12527852062064224\n",
      "  (1799, 2965)\t0.12299243980272244\n",
      "  (1799, 2964)\t0.04891253287890357\n",
      "  (1799, 2644)\t0.09655479888138987\n",
      "  (1799, 2248)\t0.05256042370427467\n",
      "  (1799, 2228)\t0.07247583398740644\n",
      "  (1799, 2135)\t0.0716221065266211\n",
      "  (1799, 1932)\t0.05030435120905215\n",
      "  (1799, 1808)\t0.0686969986581496\n",
      "  (1799, 1748)\t0.08744192852412822\n",
      "  (1799, 1723)\t0.07438331610303558\n",
      "  (1799, 1342)\t0.041653813606647806\n",
      "  (1799, 1135)\t0.05917963804280141\n",
      "  (1799, 738)\t0.1813496847948211\n",
      "  (1799, 522)\t0.052384901042978556\n",
      "  (1799, 368)\t0.04202543733608409\n",
      "  (1799, 282)\t0.09153751680975288\n",
      "  (1799, 110)\t0.08886668335325962\n",
      "  (1799, 70)\t0.15803224428308965\n",
      "  (1799, 8)\t0.05532163328068913\n",
      "  (1799, 5)\t0.1432442130532422\n"
     ]
    }
   ],
   "source": [
    "# Step 2: Create TF-IDF vectors for train set and evaluation set reviews, convert the \"string\" labels into numeric labels\n",
    "\n",
    "# Creating now TF-IDF vectors for train set, and then for evaluation set\n",
    "train_tfidf_vectors = vectorizer.transform(train_set)\n",
    "eval_tfidf_vectors = vectorizer.transform(eval_set)\n",
    "\n",
    "# let's see what the TF-IDF vectors of training set tweets look like\n",
    "print(\"Train set TF-IDF vectors\")\n",
    "print(train_tfidf_vectors.shape)\n",
    "print()\n",
    "print(train_tfidf_vectors)\n",
    "\n",
    "#output: shows only the position of non-zeros"
   ]
  },
  {
   "cell_type": "code",
   "execution_count": 6,
   "metadata": {
    "id": "LMtj4ALxqqU6",
    "outputId": "7f27c72c-e42e-48e4-e5e6-43dca0c30961"
   },
   "outputs": [
    {
     "name": "stdout",
     "output_type": "stream",
     "text": [
      "Train set labels\n",
      "[0, 0, 0, 0, 0, 0, 0, 0, 0, 0, 0, 0, 0, 0, 0, 0, 0, 0, 0, 0, 0, 0, 0, 0, 0, 0, 0, 0, 0, 0, 0, 0, 0, 0, 0, 0, 0, 0, 0, 0, 0, 0, 0, 0, 0, 0, 0, 0, 0, 0, 0, 0, 0, 0, 0, 0, 0, 0, 0, 0, 0, 0, 0, 0, 0, 0, 0, 0, 0, 0, 0, 0, 0, 0, 0, 0, 0, 0, 0, 0, 0, 0, 0, 0, 0, 0, 0, 0, 0, 0, 0, 0, 0, 0, 0, 0, 0, 0, 0, 0, 0, 0, 0, 0, 0, 0, 0, 0, 0, 0, 0, 0, 0, 0, 0, 0, 0, 0, 0, 0, 0, 0, 0, 0, 0, 0, 0, 0, 0, 0, 0, 0, 0, 0, 0, 0, 0, 0, 0, 0, 0, 0, 0, 0, 0, 0, 0, 0, 0, 0, 0, 0, 0, 0, 0, 0, 0, 0, 0, 0, 0, 0, 0, 0, 0, 0, 0, 0, 0, 0, 0, 0, 0, 0, 0, 0, 0, 0, 0, 0, 0, 0, 0, 0, 0, 0, 0, 0, 0, 0, 0, 0, 0, 0, 0, 0, 0, 0, 0, 0, 0, 0, 0, 0, 0, 0, 0, 0, 0, 0, 0, 0, 0, 0, 0, 0, 0, 0, 0, 0, 0, 0, 0, 0, 0, 0, 0, 0, 0, 0, 0, 0, 0, 0, 0, 0, 0, 0, 0, 0, 0, 0, 0, 0, 0, 0, 0, 0, 0, 0, 0, 0, 0, 0, 0, 0, 0, 0, 0, 0, 0, 0, 0, 0, 0, 0, 0, 0, 0, 0, 0, 0, 0, 0, 0, 0, 0, 0, 0, 0, 0, 0, 0, 0, 0, 0, 0, 0, 0, 0, 0, 0, 0, 0, 0, 0, 0, 0, 0, 0, 0, 0, 0, 0, 0, 0, 0, 0, 0, 0, 0, 0, 0, 0, 0, 0, 0, 0, 0, 0, 0, 0, 0, 0, 0, 0, 0, 0, 0, 0, 0, 0, 0, 0, 0, 0, 0, 0, 0, 0, 0, 0, 0, 0, 0, 0, 0, 0, 0, 0, 0, 0, 0, 0, 0, 0, 0, 0, 0, 0, 0, 0, 0, 0, 0, 0, 0, 0, 0, 0, 0, 0, 0, 0, 0, 0, 0, 0, 0, 0, 0, 0, 0, 0, 0, 0, 0, 0, 0, 0, 0, 0, 0, 0, 0, 0, 0, 0, 0, 0, 0, 0, 0, 0, 0, 0, 0, 0, 0, 0, 0, 0, 0, 0, 0, 0, 0, 0, 0, 0, 0, 0, 0, 0, 0, 0, 0, 0, 0, 0, 0, 0, 0, 0, 0, 0, 0, 0, 0, 0, 0, 0, 0, 0, 0, 0, 0, 0, 0, 0, 0, 0, 0, 0, 0, 0, 0, 0, 0, 0, 0, 0, 0, 0, 0, 0, 0, 0, 0, 0, 0, 0, 0, 0, 0, 0, 0, 0, 0, 0, 0, 0, 0, 0, 0, 0, 0, 0, 0, 0, 0, 0, 0, 0, 0, 0, 0, 0, 0, 0, 0, 0, 0, 0, 0, 0, 0, 0, 0, 0, 0, 0, 0, 0, 0, 0, 0, 0, 0, 0, 0, 0, 0, 0, 0, 0, 0, 0, 0, 0, 0, 0, 0, 0, 0, 0, 0, 0, 0, 0, 0, 0, 0, 0, 0, 0, 0, 0, 0, 0, 0, 0, 0, 0, 0, 0, 0, 0, 0, 0, 0, 0, 0, 0, 0, 0, 0, 0, 0, 0, 0, 0, 0, 0, 0, 0, 0, 0, 0, 0, 0, 0, 0, 0, 0, 0, 0, 0, 0, 0, 0, 0, 0, 0, 0, 0, 0, 0, 0, 0, 0, 0, 0, 0, 0, 0, 0, 0, 0, 0, 0, 0, 0, 0, 0, 0, 0, 0, 0, 0, 0, 0, 0, 0, 0, 0, 0, 0, 0, 0, 0, 0, 0, 0, 0, 0, 0, 0, 0, 0, 0, 0, 0, 0, 0, 0, 0, 0, 0, 0, 0, 0, 0, 0, 0, 0, 0, 0, 0, 0, 0, 0, 0, 0, 0, 0, 0, 0, 0, 0, 0, 0, 0, 0, 0, 0, 0, 0, 0, 0, 0, 0, 0, 0, 0, 0, 0, 0, 0, 0, 0, 0, 0, 0, 0, 0, 0, 0, 0, 0, 0, 0, 0, 0, 0, 0, 0, 0, 0, 0, 0, 0, 0, 0, 0, 0, 0, 0, 0, 0, 0, 0, 0, 0, 0, 0, 0, 0, 0, 0, 0, 0, 0, 0, 0, 0, 0, 0, 0, 0, 0, 0, 0, 0, 0, 0, 0, 0, 0, 0, 0, 0, 0, 0, 0, 0, 0, 0, 0, 0, 0, 0, 0, 0, 0, 0, 0, 0, 0, 0, 0, 0, 0, 0, 0, 0, 0, 0, 0, 0, 0, 0, 0, 0, 0, 0, 0, 0, 0, 0, 0, 0, 0, 0, 0, 0, 0, 0, 0, 0, 0, 0, 0, 0, 0, 0, 0, 0, 0, 0, 0, 0, 0, 0, 0, 0, 0, 0, 0, 0, 0, 0, 0, 0, 0, 0, 0, 0, 0, 0, 0, 0, 0, 0, 0, 0, 0, 0, 0, 0, 0, 0, 0, 0, 0, 0, 0, 0, 0, 0, 0, 0, 0, 0, 0, 0, 0, 0, 0, 0, 0, 0, 0, 0, 0, 0, 0, 0, 0, 0, 0, 0, 0, 0, 0, 0, 0, 0, 0, 0, 0, 0, 0, 0, 0, 0, 0, 0, 0, 0, 0, 0, 0, 0, 0, 0, 0, 0, 0, 0, 1, 1, 1, 1, 1, 1, 1, 1, 1, 1, 1, 1, 1, 1, 1, 1, 1, 1, 1, 1, 1, 1, 1, 1, 1, 1, 1, 1, 1, 1, 1, 1, 1, 1, 1, 1, 1, 1, 1, 1, 1, 1, 1, 1, 1, 1, 1, 1, 1, 1, 1, 1, 1, 1, 1, 1, 1, 1, 1, 1, 1, 1, 1, 1, 1, 1, 1, 1, 1, 1, 1, 1, 1, 1, 1, 1, 1, 1, 1, 1, 1, 1, 1, 1, 1, 1, 1, 1, 1, 1, 1, 1, 1, 1, 1, 1, 1, 1, 1, 1, 1, 1, 1, 1, 1, 1, 1, 1, 1, 1, 1, 1, 1, 1, 1, 1, 1, 1, 1, 1, 1, 1, 1, 1, 1, 1, 1, 1, 1, 1, 1, 1, 1, 1, 1, 1, 1, 1, 1, 1, 1, 1, 1, 1, 1, 1, 1, 1, 1, 1, 1, 1, 1, 1, 1, 1, 1, 1, 1, 1, 1, 1, 1, 1, 1, 1, 1, 1, 1, 1, 1, 1, 1, 1, 1, 1, 1, 1, 1, 1, 1, 1, 1, 1, 1, 1, 1, 1, 1, 1, 1, 1, 1, 1, 1, 1, 1, 1, 1, 1, 1, 1, 1, 1, 1, 1, 1, 1, 1, 1, 1, 1, 1, 1, 1, 1, 1, 1, 1, 1, 1, 1, 1, 1, 1, 1, 1, 1, 1, 1, 1, 1, 1, 1, 1, 1, 1, 1, 1, 1, 1, 1, 1, 1, 1, 1, 1, 1, 1, 1, 1, 1, 1, 1, 1, 1, 1, 1, 1, 1, 1, 1, 1, 1, 1, 1, 1, 1, 1, 1, 1, 1, 1, 1, 1, 1, 1, 1, 1, 1, 1, 1, 1, 1, 1, 1, 1, 1, 1, 1, 1, 1, 1, 1, 1, 1, 1, 1, 1, 1, 1, 1, 1, 1, 1, 1, 1, 1, 1, 1, 1, 1, 1, 1, 1, 1, 1, 1, 1, 1, 1, 1, 1, 1, 1, 1, 1, 1, 1, 1, 1, 1, 1, 1, 1, 1, 1, 1, 1, 1, 1, 1, 1, 1, 1, 1, 1, 1, 1, 1, 1, 1, 1, 1, 1, 1, 1, 1, 1, 1, 1, 1, 1, 1, 1, 1, 1, 1, 1, 1, 1, 1, 1, 1, 1, 1, 1, 1, 1, 1, 1, 1, 1, 1, 1, 1, 1, 1, 1, 1, 1, 1, 1, 1, 1, 1, 1, 1, 1, 1, 1, 1, 1, 1, 1, 1, 1, 1, 1, 1, 1, 1, 1, 1, 1, 1, 1, 1, 1, 1, 1, 1, 1, 1, 1, 1, 1, 1, 1, 1, 1, 1, 1, 1, 1, 1, 1, 1, 1, 1, 1, 1, 1, 1, 1, 1, 1, 1, 1, 1, 1, 1, 1, 1, 1, 1, 1, 1, 1, 1, 1, 1, 1, 1, 1, 1, 1, 1, 1, 1, 1, 1, 1, 1, 1, 1, 1, 1, 1, 1, 1, 1, 1, 1, 1, 1, 1, 1, 1, 1, 1, 1, 1, 1, 1, 1, 1, 1, 1, 1, 1, 1, 1, 1, 1, 1, 1, 1, 1, 1, 1, 1, 1, 1, 1, 1, 1, 1, 1, 1, 1, 1, 1, 1, 1, 1, 1, 1, 1, 1, 1, 1, 1, 1, 1, 1, 1, 1, 1, 1, 1, 1, 1, 1, 1, 1, 1, 1, 1, 1, 1, 1, 1, 1, 1, 1, 1, 1, 1, 1, 1, 1, 1, 1, 1, 1, 1, 1, 1, 1, 1, 1, 1, 1, 1, 1, 1, 1, 1, 1, 1, 1, 1, 1, 1, 1, 1, 1, 1, 1, 1, 1, 1, 1, 1, 1, 1, 1, 1, 1, 1, 1, 1, 1, 1, 1, 1, 1, 1, 1, 1, 1, 1, 1, 1, 1, 1, 1, 1, 1, 1, 1, 1, 1, 1, 1, 1, 1, 1, 1, 1, 1, 1, 1, 1, 1, 1, 1, 1, 1, 1, 1, 1, 1, 1, 1, 1, 1, 1, 1, 1, 1, 1, 1, 1, 1, 1, 1, 1, 1, 1, 1, 1, 1, 1, 1, 1, 1, 1, 1, 1, 1, 1, 1, 1, 1, 1, 1, 1, 1, 1, 1, 1, 1, 1, 1, 1, 1, 1, 1, 1, 1, 1, 1, 1, 1, 1, 1, 1, 1, 1, 1, 1, 1, 1, 1, 1, 1, 1, 1, 1, 1, 1, 1, 1, 1, 1, 1, 1, 1, 1, 1, 1, 1, 1, 1, 1, 1, 1, 1, 1, 1, 1, 1, 1, 1, 1, 1, 1, 1, 1, 1, 1, 1, 1, 1, 1, 1, 1, 1, 1, 1, 1, 1, 1, 1, 1, 1, 1, 1, 1, 1, 1, 1, 1, 1, 1, 1, 1, 1, 1, 1, 1, 1, 1, 1, 1, 1, 1, 1, 1, 1, 1, 1, 1, 1, 1, 1, 1, 1, 1, 1, 1, 1, 1, 1, 1, 1, 1, 1, 1, 1, 1, 1, 1, 1, 1, 1, 1, 1, 1, 1, 1, 1, 1, 1, 1, 1, 1, 1, 1, 1, 1, 1, 1, 1, 1, 1, 1, 1, 1, 1, 1, 1, 1, 1, 1, 1, 1, 1, 1, 1, 1, 1, 1, 1, 1, 1, 1, 1, 1, 1, 1, 1, 1, 1, 1, 1, 1, 1, 1, 1, 1, 1, 1, 1, 1, 1, 1, 1, 1, 1, 1, 1, 1, 1, 1, 1, 1, 1, 1, 1, 1, 1, 1, 1, 1, 1, 1, 1, 1, 1, 1, 1, 1, 1, 1, 1, 1, 1]\n",
      "\n",
      "Test set labels\n",
      "[1, 1, 1, 1, 1, 1, 1, 1, 1, 1, 1, 1, 1, 1, 1, 1, 1, 1, 1, 1, 1, 1, 1, 1, 1, 1, 1, 1, 1, 1, 1, 1, 1, 1, 1, 1, 1, 1, 1, 1, 1, 1, 1, 1, 1, 1, 1, 1, 1, 1, 1, 1, 1, 1, 1, 1, 1, 1, 1, 1, 1, 1, 1, 1, 1, 1, 1, 1, 1, 1, 1, 1, 1, 1, 1, 1, 1, 1, 1, 1, 1, 1, 1, 1, 1, 1, 1, 1, 1, 1, 1, 1, 1, 1, 1, 1, 1, 1, 1, 1, 0, 0, 0, 0, 0, 0, 0, 0, 0, 0, 0, 0, 0, 0, 0, 0, 0, 0, 0, 0, 0, 0, 0, 0, 0, 0, 0, 0, 0, 0, 0, 0, 0, 0, 0, 0, 0, 0, 0, 0, 0, 0, 0, 0, 0, 0, 0, 0, 0, 0, 0, 0, 0, 0, 0, 0, 0, 0, 0, 0, 0, 0, 0, 0, 0, 0, 0, 0, 0, 0, 0, 0, 0, 0, 0, 0, 0, 0, 0, 0, 0, 0, 0, 0, 0, 0, 0, 0, 0, 0, 0, 0, 0, 0, 0, 0, 0, 0, 0, 0]\n",
      "1800\n",
      "1800\n"
     ]
    }
   ],
   "source": [
    "# Converting labels \"POS\" and \"NEG\" into numeric labels, as required by the logistic regression classifier\n",
    "\n",
    "# for the train set (trains the logistic regression)\n",
    "train_labels = train_data[\"label\"].tolist() #always create a list via .tolist() => makes it easier to observe\n",
    "train_labels = [(1 if tl == \"POS\" else 0) for tl in train_labels]\n",
    "\n",
    "# for the evaluation set\n",
    "eval_labels = eval_data[\"label\"].tolist()\n",
    "eval_labels = [(1 if el == \"POS\" else 0) for el in eval_labels]\n",
    "\n",
    "# let's see what the TF-IDF labels of training set tweets look like\n",
    "print(\"Train set labels\")\n",
    "print(train_labels)\n",
    "print()\n",
    "print(\"Test set labels\")\n",
    "print(eval_labels)\n",
    "\n",
    "\n",
    "print(len(train_labels))\n",
    "print(train_tfidf_vectors.shape[0])"
   ]
  },
  {
   "cell_type": "markdown",
   "metadata": {
    "id": "pt14HieKqqU6"
   },
   "source": [
    "### Model training (logistic regression) and evalution"
   ]
  },
  {
   "cell_type": "code",
   "execution_count": 17,
   "metadata": {
    "id": "bMzbGREvqqU6",
    "outputId": "06d1864f-c6e1-432f-a626-f067e5db0569"
   },
   "outputs": [
    {
     "name": "stdout",
     "output_type": "stream",
     "text": [
      "LogisticRegression(C=32)\n"
     ]
    }
   ],
   "source": [
    "# Step 3: Train the logistic regression classifier on the training set\n",
    "\n",
    "# For this we need the LogisticRegression class \n",
    "from sklearn.linear_model import LogisticRegression\n",
    "\n",
    "# we now train (\"fit\") the logistic regression classifier by providing the training input (tf-idf vectors of train tweets) and \n",
    "# corresponding offensiveness labels for those tweets\n",
    "classifier = LogisticRegression(C = 32, solver = 'lbfgs') #c for pruning (= against overfitting), default c = 1.0\n",
    "classifier.fit(train_tfidf_vectors, train_labels)\n",
    "\n",
    "# the result is a trained classifier, which we can examine more closely in the next steps and make predictions with\n",
    "print(classifier)"
   ]
  },
  {
   "cell_type": "code",
   "execution_count": 18,
   "metadata": {
    "id": "9TtW_SmbqqU6",
    "outputId": "f29ecf28-27e0-45b9-8744-b30637b4f471"
   },
   "outputs": [
    {
     "name": "stdout",
     "output_type": "stream",
     "text": [
      "Classification accuracy: 85.5%\n"
     ]
    }
   ],
   "source": [
    "# Step 4: Let's evaluate the accuracy of our classifier on evaluation tweets\n",
    "# for this we can directly use the \"score\" function of the LogisticRegression classifier\n",
    "accuracy = classifier.score(eval_tfidf_vectors, eval_labels)\n",
    "print(\"Classification accuracy: \" + str(accuracy * 100) + \"%\")\n",
    "#note: for different results change the c in column above"
   ]
  },
  {
   "cell_type": "code",
   "execution_count": 9,
   "metadata": {
    "id": "2tkA3SIBqqU7",
    "outputId": "eec160d6-e59f-4150-df1a-9a698119f7d2"
   },
   "outputs": [
    {
     "data": {
      "text/plain": [
       "array([-0.30966687, -0.30966687, -0.30966687, ..., -0.22639049,\n",
       "       -0.38358932,  1.35579177])"
      ]
     },
     "execution_count": 9,
     "metadata": {},
     "output_type": "execute_result"
    }
   ],
   "source": [
    "classifier.coef_[0]"
   ]
  },
  {
   "cell_type": "code",
   "execution_count": 23,
   "metadata": {
    "id": "7R3j-zjcqqU7",
    "outputId": "b0da582d-e1a8-4939-f3eb-6db8bcc4ecff"
   },
   "outputs": [
    {
     "name": "stdout",
     "output_type": "stream",
     "text": [
      "[('great', 9.575495327954993), ('excellent', 8.103151645052478), ('price', 7.736031272641112), ('perfect', 7.377469269205877), ('highly', 6.8288041533703625), ('good', 6.6356784539805815), ('fast', 6.621491748404619), ('allow', 6.47182393025674), ('memory', 6.392839005798289), ('use', 5.85237879498952), ('movie', 5.348078097564736), ('easy', 5.1266024710194715), ('happy', 4.983530526397363), ('fantastic', 4.752451798838538), ('clear', 4.713011631469344), ('comfortable', 4.586802375970739), ('little', 4.563646992793037), ('want', 4.559771921164016), ('g', 4.553685928498685), ('pretty', 4.501070694801781), ('amazing', 4.490686362084374), ('bit', 4.3150384434407965), ('worth', 4.220283079855858), ('glad', 4.216787294628772), ('lot', 4.186413270012008), ('value', 4.076667848029703), ('without', 4.072605302000999), ('awesome', 4.067667561427626), ('perform', 4.038353026820253), ('extra', 4.003623550952014), (\"'ve\", 3.9849987106119755), ('output', 3.870035841216675), ('complain', 3.8582688928648436), ('verbati', 3.810315397358505), ('+', 3.8066106940802893), ('payment', 3.7570756131713376), ('top', 3.7494834579154315), ('gb', 3.73072455668808), ('minor', 3.7228733530588123), ('perfectly', 3.6863419430803632), ('space', 3.6753212056250026), ('size', 3.670413076642941), ('across', 3.657854783303009), ('spare', 3.5615431807236826), ('overall', 3.4951376062111583), ('itrip', 3.4903304504948216), ('delivery', 3.4793331469299766), ('bass', 3.4357433332640084), ('outstanding', 3.4122515695753024), ('crisp', 3.4071715082704532), ('simple', 3.3993459538230115), ('plenty', 3.3534990103073765), ('negative', 3.3037315553130453), ('investment', 3.2955255232571683), ('wrist', 3.2166788402211623), ('need', 3.2115655409245583), ('plug', 3.196511903664912), ('wrong', 3.1764715545156443), ('reception', 3.1616700363414423), ('care', 3.1549461080069063), ('backpack', 3.148659862550731), ('pro', 3.118578290702201), ('dvd-224', 3.106278509074022), ('advertise', 3.086067921391338), ('bright', 3.076862174231081), ('contract', 3.044278003552992), ('screen', 3.034686879383233), ('beat', 3.0321886348828917), ('far', 3.01659994703598), ('accurate', 2.9931356159663607), ('wringer', 2.968961616062234), ('expect', 2.889911567011779), ('love', 2.835986352508744), ('front', 2.8135101202237998), ('consider', 2.8001111903673443), ('100', 2.7717127290783528), ('living', 2.762747147417942), ('undeliverd', 2.7622168134180556), ('extort', 2.7622168134180556), ('small', 2.755822827088686), ('one', 2.7527866849942115), ('ago', 2.750966857663228), ('laptop', 2.743620219433946), ('look', 2.7357808388880587), ('pleased', 2.7175354249924317), ('nicely', 2.7140107738925603), ('everyday', 2.7113650916999457), ('cent', 2.694113831588056), ('job', 2.662565285264133), ('con', 2.659654981921942), ('compare', 2.642275304817371), ('solid', 2.642207347987559), ('headband', 2.6402961212623417), ('cup', 2.6391210676069514), ('specific', 2.6379214157144557), ('outlet', 2.6321765705992193), ('especially', 2.6222153977526363), ('roadmate', 2.6204408592499546), ('place', 2.6201540118293614), ('ink', 2.614090578441886)]\n"
     ]
    }
   ],
   "source": [
    "# Step 5: Intepretability of the classifier: analysis of weights assigned to individual terms\n",
    "\n",
    "# let's build a dictionary with words from our vocabulary as keys and their associated weights \n",
    "# (produced by the LogisticRegression) classifier as values\n",
    "\n",
    "# initialize the empty dictionary\n",
    "weights_dict = {}\n",
    "\n",
    "# for each term in the \"vectorizer.vocabulary_\" (dict that maps terms to IDs)\n",
    "for term in vectorizer.vocabulary_:\n",
    "    # we add that term and look up the LR weight at the corresponding ID\n",
    "    weights_dict[term] = classifier.coef_[0][vectorizer.vocabulary_[term]] #coef[0] at position=index of the term\n",
    "\n",
    "# let's sort terms according to their LR weights, from lowest (largest negative values) to highest (largest positive values) \n",
    "weights_sorted = list(sorted(weights_dict.items(), key=lambda item: item[1])) #note: lambda is necessary\n",
    "\n",
    "# 20 terms with smallest weights (most indicative of the 0 class: \"not offensive\")\n",
    "#print(weights_sorted[:100])\n",
    "\n",
    "weights_sorted.reverse()\n",
    "#output: negative values have the lowest weight, in this case use following code (without reverse)\n",
    "#weights_sorted\n",
    "\n",
    "#print()\n",
    "print(weights_sorted[:100])\n",
    "\n",
    "\n",
    "#word = \"fragile\"\n",
    "#word_w = classifier.coef_[0][vectorizer.vocabulary_[word]]\n",
    "#print(word + \": \" + str(word_w))\n",
    "\n",
    "\n"
   ]
  },
  {
   "cell_type": "code",
   "execution_count": 26,
   "metadata": {},
   "outputs": [
    {
     "name": "stdout",
     "output_type": "stream",
     "text": [
      "fragile: -0.7421316457940917\n"
     ]
    }
   ],
   "source": [
    "word = \"fragile\"\n",
    "word_w = classifier.coef_[0][vectorizer.vocabulary_[word]]\n",
    "print(word + \": \" + str(word_w))"
   ]
  },
  {
   "cell_type": "code",
   "execution_count": 31,
   "metadata": {
    "id": "Mp-BffdXqqU7",
    "outputId": "602c7cf6-3987-4ea3-947c-923fbfd4593f",
    "scrolled": true
   },
   "outputs": [
    {
     "name": "stdout",
     "output_type": "stream",
     "text": [
      "[['love', 'device']]\n",
      "  (0, 5016)\t0.7237647834237045\n",
      "  (0, 2623)\t0.690046765281628\n",
      "[1]\n",
      "[[0.08723331 0.91276669]]\n"
     ]
    }
   ],
   "source": [
    "# new texts\n",
    "new_texts = [\"I love this device\"]\n",
    "#new_texts = [\"I love this device\", \"This is the worst MP3 I've ever seen...\"]\n",
    "\n",
    "# tokenization & lemmatization of new texts\n",
    "new_texts_tokenized = [[t.lemma_.lower() for t in nlp(x, disable=[\"tagger\", \"parser\", \"ner\"]) if (t.text.strip() != \"\" and (t.text.lower() not in stopwords))] for x in new_texts]\n",
    "\n",
    "print(new_texts_tokenized)\n",
    "\n",
    "tf_idf_feats = vectorizer.transform(new_texts_tokenized)\n",
    "print(tf_idf_feats)\n",
    "\n",
    "print(classifier.predict(tf_idf_feats))\n",
    "print(classifier.predict_proba(tf_idf_feats))\n",
    "\n",
    "#probs: 1st negative, 2nd positive (neg + pos show if a review is more positive or more negative according to its probability)"
   ]
  },
  {
   "cell_type": "markdown",
   "metadata": {},
   "source": [
    "### Data loading and preprocessing: images\n",
    "We will be loading a collection of images of handwritten digits (MNIST)\n",
    "\n",
    "Keras is a library for deep learning, but we will just use it to load the MNIST dataset of images from it. You will have to install both keras and tensorflow libraries \n",
    "\n",
    "- pip install tensorflow\n",
    "- pip install keras\n"
   ]
  },
  {
   "cell_type": "code",
   "execution_count": 32,
   "metadata": {
    "scrolled": true
   },
   "outputs": [
    {
     "name": "stdout",
     "output_type": "stream",
     "text": [
      "60000 10000\n",
      "(28, 28)\n",
      "[[0.         0.         0.         0.         0.         0.\n",
      "  0.         0.         0.         0.         0.         0.\n",
      "  0.         0.         0.         0.         0.         0.\n",
      "  0.         0.         0.         0.         0.         0.\n",
      "  0.         0.         0.         0.        ]\n",
      " [0.         0.         0.         0.         0.         0.\n",
      "  0.         0.         0.         0.         0.         0.\n",
      "  0.         0.         0.         0.         0.         0.\n",
      "  0.         0.         0.         0.         0.         0.\n",
      "  0.         0.         0.         0.        ]\n",
      " [0.         0.         0.         0.         0.         0.\n",
      "  0.         0.         0.         0.         0.         0.\n",
      "  0.         0.         0.         0.         0.         0.\n",
      "  0.         0.         0.         0.         0.         0.\n",
      "  0.         0.         0.         0.        ]\n",
      " [0.         0.         0.         0.         0.         0.\n",
      "  0.         0.         0.         0.         0.         0.\n",
      "  0.         0.         0.         0.         0.         0.\n",
      "  0.         0.         0.         0.         0.         0.\n",
      "  0.         0.         0.         0.        ]\n",
      " [0.         0.         0.         0.         0.         0.\n",
      "  0.         0.         0.         0.         0.         0.\n",
      "  0.         0.         0.         0.         0.         0.\n",
      "  0.         0.         0.         0.         0.         0.\n",
      "  0.         0.         0.         0.        ]\n",
      " [0.         0.         0.         0.         0.         0.\n",
      "  0.         0.         0.         0.         0.         0.\n",
      "  0.         0.         0.         0.         0.         0.\n",
      "  0.         0.         0.         0.         0.         0.\n",
      "  0.         0.         0.         0.        ]\n",
      " [0.         0.         0.         0.         0.         0.\n",
      "  0.         0.         0.         0.         0.         0.\n",
      "  0.         0.         0.         0.12156863 0.5647059  0.98039216\n",
      "  0.99607843 0.6509804  0.         0.         0.         0.\n",
      "  0.         0.         0.         0.        ]\n",
      " [0.         0.         0.         0.         0.         0.\n",
      "  0.         0.         0.         0.         0.         0.\n",
      "  0.         0.         0.38431373 0.94509804 0.8        0.38039216\n",
      "  0.49411765 0.99215686 0.15686275 0.         0.         0.\n",
      "  0.         0.         0.         0.        ]\n",
      " [0.         0.         0.         0.         0.         0.\n",
      "  0.         0.         0.         0.         0.         0.\n",
      "  0.02352941 0.4745098  0.96862745 0.52156866 0.0627451  0.\n",
      "  0.19607843 0.99215686 0.10588235 0.         0.         0.\n",
      "  0.         0.         0.         0.        ]\n",
      " [0.         0.         0.         0.         0.         0.\n",
      "  0.         0.         0.         0.         0.         0.\n",
      "  0.40392157 0.99215686 0.42745098 0.         0.         0.\n",
      "  0.47058824 0.90588236 0.         0.         0.         0.\n",
      "  0.         0.         0.         0.        ]\n",
      " [0.         0.         0.         0.         0.         0.\n",
      "  0.         0.         0.         0.         0.         0.07058824\n",
      "  0.91764706 0.6627451  0.01568628 0.         0.         0.12156863\n",
      "  0.8627451  0.90588236 0.         0.         0.         0.\n",
      "  0.         0.         0.         0.        ]\n",
      " [0.         0.         0.         0.         0.         0.\n",
      "  0.         0.         0.         0.         0.01568628 0.84313726\n",
      "  0.83137256 0.07058824 0.         0.         0.         0.7647059\n",
      "  0.99607843 0.54509807 0.         0.         0.         0.\n",
      "  0.         0.         0.         0.        ]\n",
      " [0.         0.         0.         0.         0.         0.\n",
      "  0.         0.         0.         0.         0.34509805 0.99215686\n",
      "  0.24705882 0.         0.         0.         0.3529412  0.9843137\n",
      "  0.9490196  0.09019608 0.         0.         0.         0.\n",
      "  0.         0.         0.         0.        ]\n",
      " [0.         0.         0.         0.         0.         0.\n",
      "  0.         0.         0.         0.         0.7176471  0.8392157\n",
      "  0.01960784 0.         0.         0.09411765 0.9137255  0.99215686\n",
      "  0.52156866 0.         0.         0.         0.         0.\n",
      "  0.         0.         0.         0.        ]\n",
      " [0.         0.         0.         0.         0.         0.\n",
      "  0.         0.         0.         0.         0.99607843 0.4862745\n",
      "  0.         0.         0.05490196 0.77254903 0.99215686 0.58431375\n",
      "  0.05490196 0.         0.         0.         0.         0.\n",
      "  0.         0.         0.         0.        ]\n",
      " [0.         0.         0.         0.         0.         0.\n",
      "  0.         0.         0.         0.2627451  0.99607843 0.1764706\n",
      "  0.         0.2784314  0.8784314  0.99607843 0.85490197 0.05882353\n",
      "  0.         0.         0.         0.         0.         0.\n",
      "  0.         0.         0.         0.        ]\n",
      " [0.         0.         0.         0.         0.         0.\n",
      "  0.         0.         0.         0.1764706  0.9647059  0.8392157\n",
      "  0.8901961  0.972549   0.94509804 1.         0.43529412 0.\n",
      "  0.         0.         0.         0.         0.         0.\n",
      "  0.         0.         0.         0.        ]\n",
      " [0.         0.         0.         0.         0.         0.\n",
      "  0.         0.         0.         0.         0.36862746 0.75686276\n",
      "  0.654902   0.30588236 0.8862745  0.7411765  0.03137255 0.\n",
      "  0.         0.         0.         0.         0.         0.\n",
      "  0.         0.         0.         0.        ]\n",
      " [0.         0.         0.         0.         0.         0.\n",
      "  0.         0.         0.         0.         0.         0.\n",
      "  0.00392157 0.5686275  0.9764706  0.20784314 0.         0.\n",
      "  0.         0.         0.         0.         0.         0.\n",
      "  0.         0.         0.         0.        ]\n",
      " [0.         0.         0.         0.         0.         0.\n",
      "  0.         0.         0.         0.         0.         0.\n",
      "  0.2509804  0.99215686 0.50980395 0.         0.         0.\n",
      "  0.         0.         0.         0.         0.         0.\n",
      "  0.         0.         0.         0.        ]\n",
      " [0.         0.         0.         0.         0.         0.\n",
      "  0.         0.         0.         0.         0.         0.\n",
      "  0.9019608  0.8901961  0.04705882 0.         0.         0.\n",
      "  0.         0.         0.         0.         0.         0.\n",
      "  0.         0.         0.         0.        ]\n",
      " [0.         0.         0.         0.         0.         0.\n",
      "  0.         0.         0.         0.         0.         0.20392157\n",
      "  0.98039216 0.40784314 0.         0.         0.         0.\n",
      "  0.         0.         0.         0.         0.         0.\n",
      "  0.         0.         0.         0.        ]\n",
      " [0.         0.         0.         0.         0.         0.\n",
      "  0.         0.         0.         0.         0.03137255 0.80784315\n",
      "  0.8745098  0.04313726 0.         0.         0.         0.\n",
      "  0.         0.         0.         0.         0.         0.\n",
      "  0.         0.         0.         0.        ]\n",
      " [0.         0.         0.         0.         0.         0.\n",
      "  0.         0.         0.         0.         0.4117647  0.99215686\n",
      "  0.1764706  0.         0.         0.         0.         0.\n",
      "  0.         0.         0.         0.         0.         0.\n",
      "  0.         0.         0.         0.        ]\n",
      " [0.         0.         0.         0.         0.         0.\n",
      "  0.         0.         0.         0.         0.8392157  0.8117647\n",
      "  0.01568628 0.         0.         0.         0.         0.\n",
      "  0.         0.         0.         0.         0.         0.\n",
      "  0.         0.         0.         0.        ]\n",
      " [0.         0.         0.         0.         0.         0.\n",
      "  0.         0.         0.         0.         0.9098039  0.41568628\n",
      "  0.         0.         0.         0.         0.         0.\n",
      "  0.         0.         0.         0.         0.         0.\n",
      "  0.         0.         0.         0.        ]\n",
      " [0.         0.         0.         0.         0.         0.\n",
      "  0.         0.         0.         0.         0.         0.\n",
      "  0.         0.         0.         0.         0.         0.\n",
      "  0.         0.         0.         0.         0.         0.\n",
      "  0.         0.         0.         0.        ]\n",
      " [0.         0.         0.         0.         0.         0.\n",
      "  0.         0.         0.         0.         0.         0.\n",
      "  0.         0.         0.         0.         0.         0.\n",
      "  0.         0.         0.         0.         0.         0.\n",
      "  0.         0.         0.         0.        ]]\n",
      "9\n"
     ]
    },
    {
     "data": {
      "text/plain": [
       "<matplotlib.image.AxesImage at 0x2cda6f0f0a0>"
      ]
     },
     "execution_count": 32,
     "metadata": {},
     "output_type": "execute_result"
    },
    {
     "data": {
      "image/png": "[encoded data removed]",
      "text/plain": [
       "<Figure size 640x480 with 1 Axes>"
      ]
     },
     "metadata": {},
     "output_type": "display_data"
    }
   ],
   "source": [
    "from keras.datasets import mnist\n",
    "import numpy as np\n",
    "import matplotlib.pyplot as plt\n",
    "\n",
    "# Loading the MNIST data\n",
    "(X_train, y_train), (X_test, y_test) = mnist.load_data() \n",
    "\n",
    "print(len(X_train), len(X_test))\n",
    "\n",
    "X_train = X_train.astype('float32') / 255. #to get the number between 0 and 1 devide the value by 255 (max color value)\n",
    "X_test = X_test.astype('float32') / 255.\n",
    "\n",
    "\n",
    "print(X_train[0].shape)\n",
    "\n",
    "print(X_train[22])\n",
    "print(y_train[22])\n",
    "\n",
    "plt.imshow(X_train[22])"
   ]
  },
  {
   "cell_type": "code",
   "execution_count": 61,
   "metadata": {},
   "outputs": [
    {
     "name": "stdout",
     "output_type": "stream",
     "text": [
      "(1000, 784)\n"
     ]
    },
    {
     "name": "stderr",
     "output_type": "stream",
     "text": [
      "C:\\ProgramData\\Anaconda3\\lib\\site-packages\\sklearn\\linear_model\\_logistic.py:814: ConvergenceWarning: lbfgs failed to converge (status=1):\n",
      "STOP: TOTAL NO. of ITERATIONS REACHED LIMIT.\n",
      "\n",
      "Increase the number of iterations (max_iter) or scale the data as shown in:\n",
      "    https://scikit-learn.org/stable/modules/preprocessing.html\n",
      "Please also refer to the documentation for alternative solver options:\n",
      "    https://scikit-learn.org/stable/modules/linear_model.html#logistic-regression\n",
      "  n_iter_i = _check_optimize_result(\n"
     ]
    },
    {
     "data": {
      "text/plain": [
       "LogisticRegression(C=1)"
      ]
     },
     "execution_count": 61,
     "metadata": {},
     "output_type": "execute_result"
    }
   ],
   "source": [
    "# let's train the same classification algorithm as for text classification\n",
    "# logistic regression\n",
    "from sklearn.linear_model import LogisticRegression\n",
    "\n",
    "X_train = X_train.reshape((len(X_train), np.prod(X_train.shape[1:]))) #LR requires a vector not a matrix, so we have to reshape it\n",
    "print(X_train.shape)\n",
    "# 60000 instances with 784 features each is a big dataset to train logistic regression\n",
    "\n",
    "# reduce to 10000 examples\n",
    "X_train = X_train[:10000]\n",
    "y_train = y_train[:10000]\n",
    "\n",
    "classifier = LogisticRegression(C=1)#(C = 1, solver = 'lbfgs')\n",
    "classifier.fit(X_train, y_train)"
   ]
  },
  {
   "cell_type": "code",
   "execution_count": 57,
   "metadata": {},
   "outputs": [
    {
     "name": "stdout",
     "output_type": "stream",
     "text": [
      "10\n",
      "784\n"
     ]
    }
   ],
   "source": [
    "#instead of 1 weight as for texts, for pictures we have 1 pixel\n",
    "print(len(classifier.coef_)) #all classes\n",
    "print(len(classifier.coef_[3])) #class 3"
   ]
  },
  {
   "cell_type": "code",
   "execution_count": 60,
   "metadata": {},
   "outputs": [
    {
     "name": "stdout",
     "output_type": "stream",
     "text": [
      "Classification accuracy: 86.53999999999999%\n"
     ]
    }
   ],
   "source": [
    "# let's score its performance on the evaluation set\n",
    "\n",
    "X_test = X_test.reshape((len(X_test), np.prod(X_test.shape[1:]))) \n",
    "\n",
    "accuracy = classifier.score(X_test, y_test)\n",
    "print(\"Classification accuracy: \" + str(accuracy * 100) + \"%\")"
   ]
  },
  {
   "cell_type": "code",
   "execution_count": 64,
   "metadata": {},
   "outputs": [
    {
     "name": "stdout",
     "output_type": "stream",
     "text": [
      "Classification accuracy: 90.83%\n"
     ]
    }
   ],
   "source": [
    "# we can do exactly the same thing: training + prediction/evaluation with a different classifier -- SVM\n",
    "\n",
    "from sklearn.svm import SVC \n",
    "\n",
    "# initialize classifier\n",
    "classifier = SVC(C = 1, kernel = \"rbf\") #kernel=\"linear\" is faster but not as accurate as rbf\n",
    "\n",
    "# train classifier\n",
    "classifier.fit(X_train, y_train)\n",
    "\n",
    "# predict and evaluate classifier\n",
    "accuracy = classifier.score(X_test, y_test)\n",
    "print(\"Classification accuracy: \" + str(accuracy * 100) + \"%\")"
   ]
  },
  {
   "cell_type": "code",
   "execution_count": null,
   "metadata": {},
   "outputs": [],
   "source": [
    "#LG: if you have more zeros\n",
    "#SVM: "
   ]
  }
 ],
 "metadata": {
  "colab": {
   "provenance": []
  },
  "kernelspec": {
   "display_name": "Python 3 (ipykernel)",
   "language": "python",
   "name": "python3"
  },
  "language_info": {
   "codemirror_mode": {
    "name": "ipython",
    "version": 3
   },
   "file_extension": ".py",
   "mimetype": "text/x-python",
   "name": "python",
   "nbconvert_exporter": "python",
   "pygments_lexer": "ipython3",
   "version": "3.9.7"
  }
 },
 "nbformat": 4,
 "nbformat_minor": 1
}
