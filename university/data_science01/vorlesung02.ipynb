{
 "cells": [
  {
   "cell_type": "markdown",
   "id": "16b17f93",
   "metadata": {},
   "source": [
    "## 01 Functions\n",
    "- make code reusable\n",
    "- inheritance: classes and functions"
   ]
  },
  {
   "cell_type": "code",
   "execution_count": 2,
   "id": "38e93d35",
   "metadata": {},
   "outputs": [
    {
     "data": {
      "text/plain": [
       "2.0"
      ]
     },
     "execution_count": 2,
     "metadata": {},
     "output_type": "execute_result"
    }
   ],
   "source": [
    "def mean(values):\n",
    "    return sum(values) / len(values)\n",
    "\n",
    "mean([1,2,3])"
   ]
  },
  {
   "cell_type": "code",
   "execution_count": 3,
   "id": "19796449",
   "metadata": {},
   "outputs": [
    {
     "name": "stdout",
     "output_type": "stream",
     "text": [
      "Hello World\n",
      "😊\n"
     ]
    }
   ],
   "source": [
    "#functions with two arguments\n",
    "def concat_strings(string_1, string_2):\n",
    "    return string_1 + string_2\n",
    "\n",
    "# A function with no arguments\n",
    "def smile():\n",
    "    return \"😊\"\n",
    "\n",
    "print(concat_strings(\"Hello \", \"World\"))\n",
    "print(smile())"
   ]
  },
  {
   "cell_type": "code",
   "execution_count": 6,
   "id": "49b77da5",
   "metadata": {},
   "outputs": [
    {
     "name": "stdout",
     "output_type": "stream",
     "text": [
      "Hello Simon!\n"
     ]
    }
   ],
   "source": [
    "def print_greeting(name):\n",
    "    print(f\"Hello {name}!\")\n",
    "\n",
    "print_greeting(\"Simon\")"
   ]
  },
  {
   "cell_type": "markdown",
   "id": "e0a36358",
   "metadata": {},
   "source": [
    "#### Functions: Scopes\n",
    "- you can create new variables within a function (they are only used there, no external access!)"
   ]
  },
  {
   "cell_type": "code",
   "execution_count": 8,
   "id": "db270f72",
   "metadata": {},
   "outputs": [
    {
     "name": "stdout",
     "output_type": "stream",
     "text": [
      "Hello World\n"
     ]
    }
   ],
   "source": [
    "def concat_strings(string_1, string_2):\n",
    "    concatenated_string = string_1 + string_2\n",
    "    return concatenated_string\n",
    "\n",
    "print(concat_strings(\"Hello \", \"World\"))"
   ]
  },
  {
   "cell_type": "markdown",
   "id": "149f370d",
   "metadata": {},
   "source": [
    "#### Functions as objects\n",
    "- len() and sorted()"
   ]
  },
  {
   "cell_type": "code",
   "execution_count": 9,
   "id": "5a411543",
   "metadata": {},
   "outputs": [
    {
     "name": "stdout",
     "output_type": "stream",
     "text": [
      "['Fontane', 'Goethe', 'Hahn', 'Kracht', 'Schiller']\n",
      "6\n",
      "['Hahn', 'Goethe', 'Kracht', 'Fontane', 'Schiller']\n"
     ]
    }
   ],
   "source": [
    "authors = [\"Goethe\", \"Kracht\", \"Fontane\", \"Schiller\", \"Hahn\"]\n",
    "\n",
    "print(sorted(authors))\n",
    "\n",
    "print(len(\"Goethe\"))\n",
    "print(sorted(authors, key=len)) #sortiert nach key=länge"
   ]
  },
  {
   "cell_type": "markdown",
   "id": "2ad8f9dd",
   "metadata": {},
   "source": [
    "#### Functions: Default arguments\n",
    "- arguments (start=value) can be changed (in this case: the value) "
   ]
  },
  {
   "cell_type": "code",
   "execution_count": 10,
   "id": "6374baef",
   "metadata": {},
   "outputs": [
    {
     "name": "stdout",
     "output_type": "stream",
     "text": [
      "6\n",
      "12\n"
     ]
    }
   ],
   "source": [
    "def product(values, start=1):\n",
    "    product = start\n",
    "    for value in values:\n",
    "        product = product * value\n",
    "    return product\n",
    "\n",
    "print(product([1, 2, 3]))\n",
    "print(product([1, 2, 3], start=2))"
   ]
  },
  {
   "cell_type": "markdown",
   "id": "fd8f83cf",
   "metadata": {},
   "source": [
    "#### List expressions\n",
    "- operations on an existing list"
   ]
  },
  {
   "cell_type": "code",
   "execution_count": 11,
   "id": "9dbd2b16",
   "metadata": {},
   "outputs": [
    {
     "name": "stdout",
     "output_type": "stream",
     "text": [
      "[6, 6, 7, 8, 4]\n"
     ]
    }
   ],
   "source": [
    "len_names = []\n",
    "for name in authors:\n",
    "    len_names.append(len(name))\n",
    "print(len_names)"
   ]
  },
  {
   "cell_type": "code",
   "execution_count": 12,
   "id": "07bfa3f0",
   "metadata": {},
   "outputs": [
    {
     "name": "stdout",
     "output_type": "stream",
     "text": [
      "[6, 6, 7, 8, 4]\n"
     ]
    }
   ],
   "source": [
    "len_names = [len(name) for name in authors]\n",
    "print(len_names)"
   ]
  },
  {
   "cell_type": "code",
   "execution_count": 11,
   "id": "2d5d93a7",
   "metadata": {},
   "outputs": [
    {
     "name": "stdout",
     "output_type": "stream",
     "text": [
      "My Thesis Title\n"
     ]
    }
   ],
   "source": [
    "op1 = \" \".join([token.capitalize() for token in \"my thesis title\".split()]) #join() empty separator oder bestimmtes zeichen joinen lassen\n",
    "print(op1)"
   ]
  },
  {
   "cell_type": "markdown",
   "id": "2d8965ce",
   "metadata": {},
   "source": [
    "#### List expressions: Filtering -> if/else"
   ]
  },
  {
   "cell_type": "code",
   "execution_count": 15,
   "id": "e6148ff4",
   "metadata": {},
   "outputs": [
    {
     "name": "stdout",
     "output_type": "stream",
     "text": [
      "[2, 4, 6, 8, 10, 12, 14, 16, 18, 20, 22, 24]\n"
     ]
    }
   ],
   "source": [
    "even_numbers = [number for number in range(1, 26) if number % 2 == 0]\n",
    "print(even_numbers)"
   ]
  },
  {
   "cell_type": "code",
   "execution_count": 19,
   "id": "8b4859b7",
   "metadata": {},
   "outputs": [
    {
     "name": "stdout",
     "output_type": "stream",
     "text": [
      "['1 is odd', '2 is even', '3 is odd', '4 is even', '5 is odd', '6 is even', '7 is odd', '8 is even', '9 is odd', '10 is even', '11 is odd', '12 is even', '13 is odd', '14 is even', '15 is odd', '16 is even', '17 is odd', '18 is even', '19 is odd', '20 is even', '21 is odd', '22 is even', '23 is odd', '24 is even', '25 is odd']\n"
     ]
    }
   ],
   "source": [
    "even_numbers_str = [\n",
    "    f\"{number} is even\" if number % 2 == 0 else f\"{number} is odd\" #rückgabe\n",
    "    for number in range(1, 26) #schleife nach rückgabe\n",
    "]\n",
    "print(even_numbers_str)"
   ]
  },
  {
   "cell_type": "markdown",
   "id": "a70d8254",
   "metadata": {},
   "source": [
    "## 02 Object Oriented Programming (OOP)\n",
    "- OOP to store data that operates on the data\n",
    "- structured data\n",
    "- customize things more easily\n",
    "- makes code easier to read and understand"
   ]
  },
  {
   "cell_type": "code",
   "execution_count": 20,
   "id": "c43f1735",
   "metadata": {},
   "outputs": [
    {
     "data": {
      "text/plain": [
       "'OOP CAN BE HELPFUL'"
      ]
     },
     "execution_count": 20,
     "metadata": {},
     "output_type": "execute_result"
    }
   ],
   "source": [
    "text = \"OOP can be helpful\" # <- Data: Sequence of characters\n",
    "text.upper() # <- `Function` (actually it is called method)\n",
    "             # that operates on the data of the string in variable `text`"
   ]
  },
  {
   "cell_type": "code",
   "execution_count": 21,
   "id": "93483120",
   "metadata": {},
   "outputs": [],
   "source": [
    "#bundled data\n",
    "my_dataset = {\n",
    "    \"excavation_ids\": [\"south_1\", \"south_2\", \"south_3\", \"north_1\", \"north_2\", \"east_1\", \"east_2\"],\n",
    "    \"num_artifacts\": [1, 3, 4, 10, 9, 2, 5]\n",
    "}"
   ]
  },
  {
   "cell_type": "markdown",
   "id": "3f4a627b",
   "metadata": {},
   "source": [
    "#### Normal structure with functions"
   ]
  },
  {
   "cell_type": "code",
   "execution_count": 23,
   "id": "235f0692",
   "metadata": {},
   "outputs": [],
   "source": [
    "def mean_by_direction(excavation_ids, num_artifacts):\n",
    "    directions = [excavation_id.split(\"_\")[0] for excavation_id in excavation_ids]\n",
    "    results = {}\n",
    "    for uniq_direction in set(directions):\n",
    "        aggregated_num_findings = [\n",
    "            n_artifacts\n",
    "            for excavation_id, n_artifacts in zip(excavation_ids, num_artifacts) #zip: bei listen, um e1 aus l1 e1 aus l2 zuzuweisen etc.\n",
    "            if excavation_id.startswith(uniq_direction)\n",
    "        ]\n",
    "        results[uniq_direction] = mean(aggregated_num_findings)\n",
    "    return results"
   ]
  },
  {
   "cell_type": "code",
   "execution_count": 24,
   "id": "5ff2c5a1",
   "metadata": {},
   "outputs": [
    {
     "data": {
      "text/plain": [
       "{'south': 2.6666666666666665, 'east': 3.5, 'north': 9.5}"
      ]
     },
     "execution_count": 24,
     "metadata": {},
     "output_type": "execute_result"
    }
   ],
   "source": [
    "mean_by_direction(my_dataset[\"excavation_ids\"], my_dataset[\"num_artifacts\"])"
   ]
  },
  {
   "cell_type": "markdown",
   "id": "39f2988f",
   "metadata": {},
   "source": [
    "#### Better structure with classes"
   ]
  },
  {
   "cell_type": "code",
   "execution_count": 18,
   "id": "ffff5d48",
   "metadata": {},
   "outputs": [],
   "source": [
    "#perfect (reusable) data set\n",
    "\n",
    "class ExcavationDataset:\n",
    "    \n",
    "    # Constructor of the class, defines how a object is created\n",
    "    # Its main purpose is to define the way data is stored within the object.\n",
    "    def __init__(self, excavation_ids, num_artifacts):\n",
    "        # The self-argument in each method represents the object itself.\n",
    "        # It is used to access the attributes and methods of the object.\n",
    "        # If you call a method, it's not necessary to care about the self argument,\n",
    "        # Python will set it automatically\n",
    "        # Each following argument is exposed to the outside and must be set when calling the method.\n",
    "        \n",
    "        # By assinging fields to self you can create attributes\n",
    "        # (I.e., internal variables that store data within an object)\n",
    "        \n",
    "        self.excavation_ids = excavation_ids\n",
    "        self.num_artifacts = num_artifacts\n",
    "    \n",
    "    # Besides special methods such as the __init__-constructor-method, you can also define custom methods.\n",
    "    # The mean_by_direction method only operates on the internal data of the objects,\n",
    "    # so it does not receive any external arguments. \n",
    "    def mean_by_direction(self):\n",
    "        directions = [\n",
    "            excavation_id.split(\"_\")[0]\n",
    "            # Using the self-argument you can access attributes and other methods of the object\n",
    "            for excavation_id in self.excavation_ids \n",
    "        ]\n",
    "        results = {}\n",
    "        for uniq_direction in set(directions): #set() erstellte eine random order von objekten einer liste\n",
    "            aggregated_num_findings = [\n",
    "                n_artifacts\n",
    "                for excavation_id, n_artifacts in zip(self.excavation_ids, self.num_artifacts)\n",
    "                if excavation_id.startswith(uniq_direction)\n",
    "            ]\n",
    "            results[uniq_direction] = mean(aggregated_num_findings)\n",
    "        return results"
   ]
  },
  {
   "cell_type": "code",
   "execution_count": 19,
   "id": "8d31d61c",
   "metadata": {},
   "outputs": [
    {
     "data": {
      "text/plain": [
       "__main__.ExcavationDataset"
      ]
     },
     "execution_count": 19,
     "metadata": {},
     "output_type": "execute_result"
    }
   ],
   "source": [
    "#objects that store our data from the class before\n",
    "\n",
    "\n",
    "dataset = ExcavationDataset(\n",
    "    excavation_ids=[\"south_1\", \"south_2\", \"south_3\", \"north_1\", \"north_2\", \"east_1\", \"east_2\"],\n",
    "    num_artifacts=[1, 3, 4, 10, 9, 2, 5]\n",
    ")\n",
    "type(dataset)"
   ]
  },
  {
   "cell_type": "code",
   "execution_count": 20,
   "id": "0df8b3f5",
   "metadata": {},
   "outputs": [
    {
     "data": {
      "text/plain": [
       "['south_1', 'south_2', 'south_3', 'north_1', 'north_2', 'east_1', 'east_2']"
      ]
     },
     "execution_count": 20,
     "metadata": {},
     "output_type": "execute_result"
    }
   ],
   "source": [
    "dataset.excavation_ids"
   ]
  },
  {
   "cell_type": "code",
   "execution_count": 34,
   "id": "574d1b1e",
   "metadata": {},
   "outputs": [
    {
     "data": {
      "text/plain": [
       "{'south': 2.6666666666666665, 'east': 3.5, 'north': 9.5}"
      ]
     },
     "execution_count": 34,
     "metadata": {},
     "output_type": "execute_result"
    }
   ],
   "source": [
    "dataset.mean_by_direction()"
   ]
  },
  {
   "cell_type": "markdown",
   "id": "da7e009c",
   "metadata": {},
   "source": [
    "#### Terminology\n",
    "- Class: Defintion of how to structure and create objects of the same kind (like a Blueprint)\n",
    "- Instance/ object: Concrete manifestion of a class. They contain concrete data. Mutliple objects of the same class can be instantiated.\n",
    "- Method: Functions that are bound to an object, and can access its data (via the self-argument).\n",
    "- Attribute/ Field: Data of an object.\n",
    "- Inheritance: Classes can inherit properties (e.g. methods and attributes) from other classes.\n",
    "- Superclass and Subclass: If class B inherits properties from class A, class A is called superclass of B. Vice versa Class B is called subclass (or child-class) of A."
   ]
  },
  {
   "cell_type": "markdown",
   "id": "f58b8cfb",
   "metadata": {},
   "source": [
    "#### Regression model using OOP\n",
    "- advantages: train your model, access its parameters, make predictions, save and load it later"
   ]
  },
  {
   "cell_type": "code",
   "execution_count": 35,
   "id": "b99da611",
   "metadata": {},
   "outputs": [],
   "source": [
    "class RegressionModel:\n",
    "    def __init__(self, learning_rate=1.0, n_iterations=100):\n",
    "        self.learning_rate = learning_rate\n",
    "        self.n_iterations = n_iterations\n",
    "    \n",
    "    def predict(self, x):\n",
    "        y_pred = [self.weight_ * xi + self.bias_ for xi in x]\n",
    "        return y_pred\n",
    "        \n",
    "    def fit(self, x, y):\n",
    "        self.weight_, self.bias_ = sum(x) / len(x), 0.0\n",
    "        for iteration in range(self.n_iterations):\n",
    "            weight_gradient, bias_gradient = 0.0, 0.0\n",
    "            for xi, yi in zip(x, y):\n",
    "                weight_gradient += xi * (self.predict([xi])[0] - yi)\n",
    "                bias_gradient += self.predict([xi])[0] - yi\n",
    "            self.weight_ -= self.learning_rate * (weight_gradient / len(x)) \n",
    "            self.bias_ -= self.learning_rate * (bias_gradient / len(x))\n",
    "        return self"
   ]
  },
  {
   "cell_type": "code",
   "execution_count": 36,
   "id": "07f16498",
   "metadata": {},
   "outputs": [
    {
     "name": "stdout",
     "output_type": "stream",
     "text": [
      "Learned weight: -0.99751188719238 and bias: 2.998707444486552\n"
     ]
    },
    {
     "data": {
      "image/png": "[encoded data removed]",
      "text/plain": [
       "<Figure size 432x288 with 1 Axes>"
      ]
     },
     "metadata": {
      "needs_background": "light"
     },
     "output_type": "display_data"
    }
   ],
   "source": [
    "import matplotlib.pyplot as plt\n",
    "\n",
    "x, y = [i/100 for i in range(1, 101, 5)], [3-((i/100)) for i in range(1, 101, 5)]\n",
    "\n",
    "regressor = RegressionModel().fit(x, y)\n",
    "print(f\"Learned weight: {regressor.weight_} and bias: {regressor.bias_}\")\n",
    "\n",
    "x_pred = [i/100 for i in range(-25, 126, 5)]\n",
    "y_pred = regressor.predict(x_pred)\n",
    "plt.scatter(x, y)\n",
    "plt.plot(x_pred, y_pred, color=\"red\")\n",
    "plt.show()"
   ]
  },
  {
   "cell_type": "code",
   "execution_count": 37,
   "id": "2943ec9b",
   "metadata": {},
   "outputs": [
    {
     "name": "stdout",
     "output_type": "stream",
     "text": [
      "Learned weight: -0.99751188719238 and bias: 2.998707444486552\n"
     ]
    }
   ],
   "source": [
    "import pickle\n",
    "\n",
    "# Save model to disk\n",
    "with open(\"my_model.pickle\", \"wb\") as out_f:\n",
    "    pickle.dump(regressor, out_f)\n",
    "\n",
    "# Delete the model from memory\n",
    "del regressor\n",
    "\n",
    "# Load it from disk\n",
    "with open(\"my_model.pickle\", \"rb\") as in_f:\n",
    "    regressor = pickle.load(in_f)\n",
    "\n",
    "print(f\"Learned weight: {regressor.weight_} and bias: {regressor.bias_}\")"
   ]
  },
  {
   "cell_type": "markdown",
   "id": "67ff8841",
   "metadata": {},
   "source": [
    "#### OOP: Inheritance\n",
    "- inheritance: enables classes and objects to inherit methods and attributes from other types (=classes)\n",
    "- you can derive subclasses from another class"
   ]
  },
  {
   "cell_type": "code",
   "execution_count": 38,
   "id": "f8ef9b4d",
   "metadata": {},
   "outputs": [],
   "source": [
    "# Recall the ExcavationDataset\n",
    "\n",
    "class ExcavationDataset:\n",
    "    def __init__(self, excavation_ids, num_artifacts):\n",
    "        self.excavation_ids = excavation_ids\n",
    "        self.num_artifacts = num_artifacts\n",
    "    \n",
    "    def mean_by_direction(self):\n",
    "        directions = [\n",
    "            excavation_id.split(\"_\")[0]\n",
    "            for excavation_id in self.excavation_ids \n",
    "        ]\n",
    "        results = {}\n",
    "        for uniq_direction in set(directions):\n",
    "            aggregated_num_findings = [\n",
    "                n_artifacts\n",
    "                for excavation_id, n_artifacts in zip(self.excavation_ids, self.num_artifacts)\n",
    "                if excavation_id.startswith(uniq_direction)\n",
    "            ]\n",
    "            results[uniq_direction] = mean(aggregated_num_findings)\n",
    "        return results"
   ]
  },
  {
   "cell_type": "code",
   "execution_count": 39,
   "id": "4fef6398",
   "metadata": {},
   "outputs": [],
   "source": [
    "# We state the class we want to inherit in round brackets after the class name.\n",
    "class DepthExcavationDataset(ExcavationDataset):\n",
    "    def __init__(self, excavation_ids, num_artifacts, depth_of_artifacts):\n",
    "        # We can leverage the constructor of our superclass\n",
    "        # since it already defines how to handle the values of excavation_ids and num_artifacts.\n",
    "        # Calling the super function within a method returns the superclass of the current class.\n",
    "        super().__init__(excavation_ids=excavation_ids, num_artifacts=num_artifacts)\n",
    "\n",
    "        # We only define how to handle the new arguments. \n",
    "        self.depth_of_artifacts = depth_of_artifacts\n",
    "    \n",
    "    # Now, we can add new methods to the subclass\n",
    "    def count_artifacts_depth_range(self, min_depth, max_depth):\n",
    "        return sum([\n",
    "            n_artifacts \n",
    "            for n_artifacts, depth in zip(self.num_artifacts, self.depth_of_artifacts)\n",
    "            if min_depth <= depth <= max_depth\n",
    "        ])"
   ]
  },
  {
   "cell_type": "code",
   "execution_count": 41,
   "id": "c691a1d7",
   "metadata": {},
   "outputs": [],
   "source": [
    "dataset = DepthExcavationDataset(\n",
    "    excavation_ids=[\"south_1\", \"south_2\", \"south_3\", \"north_1\", \"north_2\", \"east_1\", \"east_2\"],\n",
    "    num_artifacts=[1, 3, 4, 10, 9, 2, 5],\n",
    "    depth_of_artifacts=[0.3, 0.2, 1.0, 0.1, 0.2, 0.5, 0.5]\n",
    ")"
   ]
  },
  {
   "cell_type": "code",
   "execution_count": 42,
   "id": "dc070f89",
   "metadata": {},
   "outputs": [
    {
     "data": {
      "text/plain": [
       "23"
      ]
     },
     "execution_count": 42,
     "metadata": {},
     "output_type": "execute_result"
    }
   ],
   "source": [
    "#using new methods\n",
    "dataset.count_artifacts_depth_range(0.1, 0.4)"
   ]
  },
  {
   "cell_type": "code",
   "execution_count": 45,
   "id": "584a4483",
   "metadata": {},
   "outputs": [
    {
     "data": {
      "text/plain": [
       "{'south': 2.6666666666666665, 'east': 3.5, 'north': 9.5}"
      ]
     },
     "execution_count": 45,
     "metadata": {},
     "output_type": "execute_result"
    }
   ],
   "source": [
    "#get values from our superclass\n",
    "dataset.mean_by_direction()"
   ]
  },
  {
   "cell_type": "markdown",
   "id": "640ce19f",
   "metadata": {},
   "source": [
    "## 03 Documentation and type annotations\n",
    "- helps us to reconsider how we solved a coding problem\n",
    "- helps our colleagues to understand our code much better"
   ]
  },
  {
   "cell_type": "markdown",
   "id": "01a7527d",
   "metadata": {},
   "source": [
    "#### Documenting a function\n",
    "Docstrings concisely describe what your function does, how the input should look, and how the output is structured.\n",
    "Type annotations describe what types your arguments can have, and the data type of the returned values of the function (after the -> arrow) All of that is parsed by the help function and assembled into a human-readable manual of your function.\n",
    "\n"
   ]
  },
  {
   "cell_type": "code",
   "execution_count": 8,
   "id": "8fbed987",
   "metadata": {},
   "outputs": [
    {
     "name": "stdout",
     "output_type": "stream",
     "text": [
      "Help on function tokenize in module __main__:\n",
      "\n",
      "tokenize(text: str) -> List\n",
      "    Tokenizes a text and strips all punctuation marks from single tokens.\n",
      "    \n",
      "    Args:\n",
      "        text: The text to tokenize\n",
      "    \n",
      "    Returns:\n",
      "        The list of tokens\n",
      "\n",
      "None\n",
      "['My', 'dear', 'friend', 'Documenting', 'my', 'code', 'is', 'a', 'hardly', 'bearable', 'chore', 'But', 'I', 'will', 'pull', 'myself', 'together', 'for', 'the', 'noble', 'cause', 'Yours', 'truly', 'A', 'responsible', 'programmer']\n"
     ]
    }
   ],
   "source": [
    "from typing import List\n",
    "from string import punctuation\n",
    "\n",
    "def tokenize(text: str) -> List:\n",
    "    \"\"\"Tokenizes a text and strips all punctuation marks from single tokens.\n",
    "    \n",
    "    Args:\n",
    "        text: The text to tokenize\n",
    "\n",
    "    Returns:\n",
    "        The list of tokens \n",
    "    \"\"\"\n",
    "    tokens = [token.strip(punctuation) for token in text.split() if token.strip()] #strip() entfernt whitespaces per default oder eine bestimmte bedingung (eingetragen in klammmern)\n",
    "    return tokens\n",
    "\n",
    "print(help(tokenize))\n",
    "\n",
    "print(tokenize(\"\"\"\n",
    "\n",
    "My dear friend,\n",
    "Documenting my code is a hardly bearable chore....\n",
    "But I will pull myself together for the noble cause!!!\n",
    "Yours truly,\n",
    "A responsible programmer\n",
    "\n",
    "\"\"\"))"
   ]
  },
  {
   "cell_type": "markdown",
   "id": "0c3fbbd5",
   "metadata": {},
   "source": [
    "#### Documenting classes\n",
    "- methods within a class can be documented like functions\n",
    "- describe the whole class"
   ]
  },
  {
   "cell_type": "code",
   "execution_count": 47,
   "id": "90d5365a",
   "metadata": {},
   "outputs": [],
   "source": [
    "from typing import List, Dict\n",
    "class ExcavationDataset:\n",
    "    \"\"\"This class represents a dataset describing a set of excavation sites.\n",
    "    Attributes:\n",
    "        excavation_ids: ID of each individual excavation site of format \"<direction>_<num>\"\n",
    "        num_artifacts: The number of found artifacts at each site.\n",
    "    \"\"\"\n",
    "    def __init__(self, excavation_ids: List[str], num_artifacts: List[int]):\n",
    "        \"\"\"Constructor of the class.\n",
    "        Attributes:\n",
    "            excavation_ids: See class description\n",
    "            num_artifacts: See class description\n",
    "        \"\"\"\n",
    "        self.excavation_ids = excavation_ids\n",
    "        self.num_artifacts = num_artifacts\n",
    "    \n",
    "    def mean_by_direction(self) -> Dict[str, float]:\n",
    "        \"\"\"Returns the mean number of found artifacts per direction.\n",
    "        \"\"\"\n",
    "        directions = [\n",
    "            excavation_id.split(\"_\")[0]\n",
    "            for excavation_id in self.excavation_ids \n",
    "        ]\n",
    "        results = {}\n",
    "        for uniq_direction in set(directions):\n",
    "            aggregated_num_findings = [\n",
    "                n_artifacts\n",
    "                for excavation_id, n_artifacts in zip(self.excavation_ids, self.num_artifacts)\n",
    "                if excavation_id.startswith(uniq_direction)\n",
    "            ]\n",
    "            results[uniq_direction] = mean(aggregated_num_findings)\n",
    "        return results"
   ]
  },
  {
   "cell_type": "code",
   "execution_count": 48,
   "id": "82517f8b",
   "metadata": {
    "scrolled": true
   },
   "outputs": [
    {
     "name": "stdout",
     "output_type": "stream",
     "text": [
      "Help on class ExcavationDataset in module __main__:\n",
      "\n",
      "class ExcavationDataset(builtins.object)\n",
      " |  ExcavationDataset(excavation_ids: List[str], num_artifacts: List[int])\n",
      " |  \n",
      " |  This class represents a dataset describing a set of excavation sites.\n",
      " |  Attributes:\n",
      " |      excavation_ids: ID of each individual excavation site of format \"<direction>_<num>\"\n",
      " |      num_artifacts: The number of found artifacts at each site.\n",
      " |  \n",
      " |  Methods defined here:\n",
      " |  \n",
      " |  __init__(self, excavation_ids: List[str], num_artifacts: List[int])\n",
      " |      Constructor of the class.\n",
      " |      Attributes:\n",
      " |          excavation_ids: See class description\n",
      " |          num_artifacts: See class description\n",
      " |  \n",
      " |  mean_by_direction(self) -> Dict[str, float]\n",
      " |      Returns the mean number of found artifacts per direction.\n",
      " |  \n",
      " |  ----------------------------------------------------------------------\n",
      " |  Data descriptors defined here:\n",
      " |  \n",
      " |  __dict__\n",
      " |      dictionary for instance variables (if defined)\n",
      " |  \n",
      " |  __weakref__\n",
      " |      list of weak references to the object (if defined)\n",
      "\n"
     ]
    }
   ],
   "source": [
    "help(ExcavationDataset)"
   ]
  },
  {
   "cell_type": "code",
   "execution_count": null,
   "id": "0bf66b99",
   "metadata": {},
   "outputs": [],
   "source": []
  }
 ],
 "metadata": {
  "kernelspec": {
   "display_name": "Python 3 (ipykernel)",
   "language": "python",
   "name": "python3"
  },
  "language_info": {
   "codemirror_mode": {
    "name": "ipython",
    "version": 3
   },
   "file_extension": ".py",
   "mimetype": "text/x-python",
   "name": "python",
   "nbconvert_exporter": "python",
   "pygments_lexer": "ipython3",
   "version": "3.9.7"
  }
 },
 "nbformat": 4,
 "nbformat_minor": 5
}
