{
 "cells": [
  {
   "cell_type": "markdown",
   "metadata": {},
   "source": [
    "### Data Science for Humanities 2\n",
    "## Session: Python's Data Science Stack\n",
    "### Part 1: Numpy & Pandas\n",
    "#### Summer term 23\n",
    "##### Prof. Goran Glavaš, Lennart Keller"
   ]
  },
  {
   "cell_type": "markdown",
   "metadata": {},
   "source": [
    "## `Numpy` & Scientific Programming: Moving from lists to arrays"
   ]
  },
  {
   "cell_type": "markdown",
   "metadata": {},
   "source": [
    "Data Science heavily relies on Linear Algebra.\n",
    "While Python is a flexible multi-purpose programming language it isn't necessarily fast in doing numerical operations.\n",
    "\n",
    "`Numpy` was developed to alleviate this drawback and offers various functions to perform mathematical operations efficiently.\n",
    "\n",
    "Essentially, it provides you with three things:\n",
    "\n",
    "* `np.ndarray`: A flexible datatype for storing sequences of numbers in a fixed shape of any form.\n",
    "* Prebuilt function to manipulate `np.ndarrays`\n",
    "* An extensive set of mathematical operations directly applicable on `np.ndarrays`\n",
    "\n",
    "\n",
    "Also, `Numpy` became the foundation of most other data science libraries in Python, rendering it the lingua franca between different libraries or even inspiring other libraries like `PyTorch` to borrow many of its concepts.\n",
    "\n",
    "\n",
    "\n"
   ]
  },
  {
   "cell_type": "markdown",
   "metadata": {},
   "source": [
    "## First things first - Numpy: Usage basics\n",
    "\n",
    "__Installation__\n",
    "\n",
    "Numpy is a third-party library and is not included in a standard Python installation.\n",
    "\n",
    "To install it open a terminal, and type `pip install numpy` or `conda install numpy` depending on your Python setup\n",
    "\n",
    "__Import__\n",
    "\n",
    "By convention, the whole `numpy` is imported with the abbreviation `np`.\n",
    "\n",
    "```python\n",
    "import numpy as np\n",
    "```"
   ]
  },
  {
   "cell_type": "markdown",
   "metadata": {},
   "source": [
    "## Creating `ndarrays`\n",
    "\n",
    "There are many ways to create `arrays`.\n",
    "\n",
    "Here is a quick overview over the most common ones:"
   ]
  },
  {
   "cell_type": "markdown",
   "metadata": {},
   "source": [
    "* Creating from existing (nested) lists"
   ]
  },
  {
   "cell_type": "code",
   "execution_count": 2,
   "metadata": {},
   "outputs": [
    {
     "name": "stdout",
     "output_type": "stream",
     "text": [
      "[[1 2]\n",
      " [3 4]]\n"
     ]
    }
   ],
   "source": [
    "import numpy as np\n",
    "my_list = [[1, 2], [3, 4]]\n",
    "my_array = np.array(my_list)\n",
    "print(my_array)"
   ]
  },
  {
   "cell_type": "markdown",
   "metadata": {},
   "source": [
    "* Creating arrays with fixed content "
   ]
  },
  {
   "cell_type": "code",
   "execution_count": 3,
   "metadata": {},
   "outputs": [
    {
     "name": "stdout",
     "output_type": "stream",
     "text": [
      "[[0. 0.]\n",
      " [0. 0.]]\n",
      "[[1. 1.]\n",
      " [1. 1.]]\n",
      "[[-100 -100]\n",
      " [-100 -100]]\n"
     ]
    }
   ],
   "source": [
    "zero_array = np.zeros(shape=(2, 2))\n",
    "print(zero_array)\n",
    "\n",
    "ones_array = np.ones((2, 2))\n",
    "print(ones_array)\n",
    "\n",
    "constant_array = np.full(shape=(2, 2), fill_value=-100) #fill_value: ersetzt werte mit einem eingegebenen wert\n",
    "print(constant_array)"
   ]
  },
  {
   "cell_type": "code",
   "execution_count": 4,
   "metadata": {},
   "outputs": [
    {
     "data": {
      "text/plain": [
       "array([[0., 0.],\n",
       "       [0., 0.],\n",
       "       [0., 0.]])"
      ]
     },
     "execution_count": 4,
     "metadata": {},
     "output_type": "execute_result"
    }
   ],
   "source": [
    "np.zeros(shape=(3, 2))"
   ]
  },
  {
   "cell_type": "markdown",
   "metadata": {},
   "source": [
    "* Creating arrays with consecutive content"
   ]
  },
  {
   "cell_type": "code",
   "execution_count": 5,
   "metadata": {},
   "outputs": [
    {
     "data": {
      "text/plain": [
       "array([0, 1, 2, 3, 4, 5, 6, 7, 8])"
      ]
     },
     "execution_count": 5,
     "metadata": {},
     "output_type": "execute_result"
    }
   ],
   "source": [
    "numbers = np.arange(9)\n",
    "numbers"
   ]
  },
  {
   "cell_type": "code",
   "execution_count": 6,
   "metadata": {},
   "outputs": [
    {
     "name": "stdout",
     "output_type": "stream",
     "text": [
      "(10000,)\n",
      "Mean: 0.02357743533648565 Std: 0.9888130306793813\n",
      "[0 0 1 1 1 0 0 0 1 1]\n"
     ]
    }
   ],
   "source": [
    "rand_normal_array = np.random.randn(10000)\n",
    "print(rand_normal_array.shape)\n",
    "print(\"Mean:\", rand_normal_array.mean(), \"Std:\", rand_normal_array.std())\n",
    "\n",
    "rand_integer_array = np.random.randint(0, 2, (10))\n",
    "print(rand_integer_array)"
   ]
  },
  {
   "cell_type": "markdown",
   "metadata": {},
   "source": [
    "## `ndarray`: Dimensionality\n",
    "\n",
    "Creating a `ndarray` from a nested list, gives you a multidimensional arrays.\n",
    "In theory, `ndarrays` can have as many dimensions as you like.\n",
    "\n",
    "Since arrays have a fixed size, each dimension also has a fixed length.\n",
    "\n",
    "The number of dimension and the size of each dimension determine the shape of an array."
   ]
  },
  {
   "cell_type": "markdown",
   "metadata": {},
   "source": [
    "There are might be special naming conventions depending on the shape of your arrays:\n",
    "\n",
    "* 1-dim => Vector\n",
    "* 2-dim => Matrix\n",
    "\n",
    "_Note:_ Obviously in a mathematical sense, these terms have more implications but we ignore those for now."
   ]
  },
  {
   "cell_type": "markdown",
   "metadata": {},
   "source": [
    "## `ndarray`: Indexing\n",
    "\n",
    "Like lists, you can also use indexing or slicing to address unary values or certain patches of your data.\n",
    "\n",
    "The syntax mostly follows Python`s conventions but is extended to directly address specific dimensions."
   ]
  },
  {
   "cell_type": "code",
   "execution_count": 7,
   "metadata": {},
   "outputs": [
    {
     "name": "stdout",
     "output_type": "stream",
     "text": [
      "3\n",
      "(3, 3, 3)\n",
      "[[[ 0  1  2]\n",
      "  [ 3  4  5]\n",
      "  [ 6  7  8]]\n",
      "\n",
      " [[ 9 10 11]\n",
      "  [12 13 14]\n",
      "  [15 16 17]]\n",
      "\n",
      " [[18 19 20]\n",
      "  [21 22 23]\n",
      "  [24 25 26]]]\n"
     ]
    }
   ],
   "source": [
    "array = np.arange(27).reshape(3, 3, 3)\n",
    "print(array.ndim)\n",
    "print(array.shape)\n",
    "print(array)"
   ]
  },
  {
   "cell_type": "code",
   "execution_count": 8,
   "metadata": {},
   "outputs": [
    {
     "name": "stdout",
     "output_type": "stream",
     "text": [
      "0\n",
      "[[0 1 2]\n",
      " [3 4 5]\n",
      " [6 7 8]]\n",
      "[15 16 17]\n"
     ]
    }
   ],
   "source": [
    "# Get the first element across all dimensions\n",
    "print(array[0, 0, 0]) #array 0, zeile 0, spalte 0\n",
    "\n",
    "# Get the first \"matrix\"\n",
    "print(array[0, :, :])\n",
    "\n",
    "# Get the last row vector of the second matrix\n",
    "print(array[1, -1, :])"
   ]
  },
  {
   "cell_type": "markdown",
   "metadata": {},
   "source": [
    "To index or slice with `ndarrays` you can specify values for each dimension independently.\n",
    "\n",
    "It's also possible to combine slicing and indexing at specific dimensions.\n",
    "\n",
    "Values for dimension are written into one single slicing expression, value are separated by commas.\n",
    "\n",
    "```python\n",
    "array[<dim0>, <dim1>, <dim1>, ...]\n",
    "```"
   ]
  },
  {
   "cell_type": "markdown",
   "metadata": {},
   "source": [
    "## `ndarray`: Masking\n",
    "\n",
    "Masking allows you to select all values in an array which fulfill a condition.\n",
    "\n",
    "Let's generate some data mimicking the number of hourly visits for a webpage over a year."
   ]
  },
  {
   "cell_type": "code",
   "execution_count": 18,
   "metadata": {},
   "outputs": [
    {
     "data": {
      "text/plain": [
       "((365, 24), 550.0025114155251)"
      ]
     },
     "execution_count": 18,
     "metadata": {},
     "output_type": "execute_result"
    }
   ],
   "source": [
    "site_traffic = np.random.randint(100, 1000, (365, 24))\n",
    "site_traffic.shape, site_traffic.mean()"
   ]
  },
  {
   "cell_type": "markdown",
   "metadata": {},
   "source": [
    "Suppose we would like to count the hours with high traffic (> 750 visits).\n",
    "\n",
    "The Pythonic way to do this would be to treat the array as a nested list and iterate over all the dimensions using for-loops:"
   ]
  },
  {
   "cell_type": "code",
   "execution_count": 25,
   "metadata": {},
   "outputs": [
    {
     "data": {
      "text/plain": [
       "2425"
      ]
     },
     "execution_count": 25,
     "metadata": {},
     "output_type": "execute_result"
    }
   ],
   "source": [
    "high_traffic_hours = 0\n",
    "for day_idx in range(site_traffic.shape[0]): #shape: max day value of the vector (365)\n",
    "    for hour_idx in range(site_traffic.shape[1]): #shape: max hour value of the vector (24)\n",
    "        traffic = site_traffic[day_idx, hour_idx]\n",
    "        if traffic > 750:\n",
    "            high_traffic_hours += 1\n",
    "high_traffic_hours"
   ]
  },
  {
   "cell_type": "markdown",
   "metadata": {},
   "source": [
    "But there is a better way to do this, using `numpy` masking functionality.\n",
    "\n",
    "Masking is a technique to create a boolean mask that has the same shape as the original array. \n",
    "\n",
    "The mask identifies values in the array that meet a specified condition, marking them as True while marking other values as False."
   ]
  },
  {
   "cell_type": "code",
   "execution_count": 26,
   "metadata": {},
   "outputs": [
    {
     "data": {
      "text/plain": [
       "array([[False,  True,  True, ...,  True, False, False],\n",
       "       [ True, False, False, ..., False, False, False],\n",
       "       [ True, False, False, ..., False,  True, False],\n",
       "       ...,\n",
       "       [False,  True, False, ...,  True, False, False],\n",
       "       [False, False, False, ..., False, False,  True],\n",
       "       [False, False, False, ..., False,  True, False]])"
      ]
     },
     "execution_count": 26,
     "metadata": {},
     "output_type": "execute_result"
    }
   ],
   "source": [
    "high_traffic_periods = site_traffic > 750\n",
    "high_traffic_periods"
   ]
  },
  {
   "cell_type": "markdown",
   "metadata": {},
   "source": [
    "Because boolean values translate to 0, 1, we can easily sum them up, to get the number of high-traffic hours."
   ]
  },
  {
   "cell_type": "code",
   "execution_count": 10,
   "metadata": {},
   "outputs": [
    {
     "data": {
      "text/plain": [
       "2467"
      ]
     },
     "execution_count": 10,
     "metadata": {},
     "output_type": "execute_result"
    }
   ],
   "source": [
    "high_traffic_periods.sum() #sum of our high_traffic_periods array from above"
   ]
  },
  {
   "cell_type": "markdown",
   "metadata": {},
   "source": [
    "We can also use masks, to perform:\n",
    "1. Retrieving Values\n",
    "2. Inplace operations"
   ]
  },
  {
   "cell_type": "markdown",
   "metadata": {},
   "source": [
    "#### Retrieving"
   ]
  },
  {
   "cell_type": "code",
   "execution_count": 27,
   "metadata": {},
   "outputs": [
    {
     "name": "stdout",
     "output_type": "stream",
     "text": [
      "[982 821 945 ... 989 967 999]\n",
      "(2425,)\n"
     ]
    }
   ],
   "source": [
    "high_traffic_values = site_traffic[high_traffic_periods] #selects the indices (>750) of our site_traffic\n",
    "print(high_traffic_values)\n",
    "print(high_traffic_values.shape)"
   ]
  },
  {
   "cell_type": "markdown",
   "metadata": {},
   "source": [
    "#### Inplace Manipulations"
   ]
  },
  {
   "cell_type": "code",
   "execution_count": 31,
   "metadata": {},
   "outputs": [
    {
     "data": {
      "text/plain": [
       "array([[  707, 10000, 10000, ..., 10000,   306,   392],\n",
       "       [10000,   558,   268, ...,   505,   514,   721],\n",
       "       [10000,   292,   681, ...,   279, 10000,   416],\n",
       "       ...,\n",
       "       [  106, 10000,   567, ..., 10000,   413,   151],\n",
       "       [  683,   208,   201, ...,   340,   211, 10000],\n",
       "       [  274,   196,   375, ...,   399, 10000,   646]])"
      ]
     },
     "execution_count": 31,
     "metadata": {},
     "output_type": "execute_result"
    }
   ],
   "source": [
    "low_median_traffic = site_traffic.copy() #copy(): returns a copy of site_traffic\n",
    "low_median_traffic[high_traffic_periods] = 0.0 #values below our median value are (here) 0\n",
    "low_median_traffic"
   ]
  },
  {
   "cell_type": "markdown",
   "metadata": {},
   "source": [
    "## `ndarray`: Reshaping\n",
    "\n",
    "It's possible to change the shape of an existing array.\n",
    "\n",
    "This operation is called reshaping. Reshaping works by specifying the new number and sizes of dimensions.\n",
    "\n",
    "To make reshaping work the number of entries in the newly created array has to match the number of entries in the existing array."
   ]
  },
  {
   "cell_type": "code",
   "execution_count": 35,
   "metadata": {},
   "outputs": [
    {
     "name": "stdout",
     "output_type": "stream",
     "text": [
      "[1 2 3 4 5 6 7 8]\n",
      "Orig shape: (8,)\n",
      "No. of entries: 8\n",
      "[[1 2 3 4]\n",
      " [5 6 7 8]]\n",
      "New shape: (2, 4)\n",
      "No. of entries: 8\n",
      "[[1 2]\n",
      " [3 4]\n",
      " [5 6]\n",
      " [7 8]]\n",
      "New shape: (4, 2)\n",
      "No. of entries: 8\n"
     ]
    }
   ],
   "source": [
    "vector = np.array([1, 2, 3, 4, 5, 6, 7, 8])\n",
    "print(vector)\n",
    "print(\"Orig shape:\", vector.shape)\n",
    "print(\"No. of entries:\", vector.size)\n",
    "\n",
    "matrix = vector.reshape(2, 4)\n",
    "print(matrix)\n",
    "print(\"New shape:\", matrix.shape)\n",
    "print(\"No. of entries:\", matrix.size)\n",
    "\n",
    "tuples = vector.reshape(-1, 2) #-1 macht erstellt automatisch die anzahl an benötigten max. zeilen (wir wollen ja sicher 2 spalten)\n",
    "print(tuples)\n",
    "print(\"New shape:\", tuples.shape)\n",
    "print(\"No. of entries:\", tuples.size)\n"
   ]
  },
  {
   "cell_type": "markdown",
   "metadata": {},
   "source": [
    "The `.reshape`-method takes in as many arguments as desired dimensions, and each argument specifies the number of entries in that dimension.\n",
    "\n",
    "It's possible to leave the size of one dimension and just write `-1`, `numpy` will infer the size automatically."
   ]
  },
  {
   "cell_type": "markdown",
   "metadata": {},
   "source": [
    "## `ndarray`: Computations"
   ]
  },
  {
   "cell_type": "markdown",
   "metadata": {},
   "source": [
    "`Numpy` offers a wide variety of functions that are optimized to work efficiently on `ndarrays`.\n",
    "\n",
    "These functions take in either a single array or two of them and return an output-array.\n"
   ]
  },
  {
   "cell_type": "code",
   "execution_count": 36,
   "metadata": {},
   "outputs": [
    {
     "data": {
      "text/plain": [
       "(550.0025114155251, 550.0025114155251)"
      ]
     },
     "execution_count": 36,
     "metadata": {},
     "output_type": "execute_result"
    }
   ],
   "source": [
    "# Average hourly visits\n",
    "site_traffic.mean(), np.mean(site_traffic)"
   ]
  },
  {
   "cell_type": "markdown",
   "metadata": {},
   "source": [
    "As you can see above, unary-functions can often (but not always) directly be accessed as a property of the `ndarray`. \n",
    "\n",
    "\n",
    "Some of these function can also be applied along a specific dimension:"
   ]
  },
  {
   "cell_type": "code",
   "execution_count": 38,
   "metadata": {},
   "outputs": [
    {
     "data": {
      "text/plain": [
       "(365,)"
      ]
     },
     "execution_count": 38,
     "metadata": {},
     "output_type": "execute_result"
    }
   ],
   "source": [
    "# Average number of visits per day\n",
    "site_traffic.mean(axis=1).shape #axis: 1=column, 0=row"
   ]
  },
  {
   "cell_type": "markdown",
   "metadata": {},
   "source": [
    "Binary functions work like the math operators you all know:"
   ]
  },
  {
   "cell_type": "code",
   "execution_count": 39,
   "metadata": {},
   "outputs": [
    {
     "data": {
      "text/plain": [
       "(array([0, 1, 2]), array([0, 2, 4]))"
      ]
     },
     "execution_count": 39,
     "metadata": {},
     "output_type": "execute_result"
    }
   ],
   "source": [
    "a, b  = np.arange(3), np.arange(3) * 2\n",
    "a, b"
   ]
  },
  {
   "cell_type": "code",
   "execution_count": 40,
   "metadata": {},
   "outputs": [
    {
     "data": {
      "text/plain": [
       "array([0, 3, 6])"
      ]
     },
     "execution_count": 40,
     "metadata": {},
     "output_type": "execute_result"
    }
   ],
   "source": [
    "# Element wise addition: addition of 2 matrices\n",
    "c = a + b\n",
    "c"
   ]
  },
  {
   "cell_type": "code",
   "execution_count": 41,
   "metadata": {},
   "outputs": [
    {
     "data": {
      "image/png": "[encoded data removed]",
      "text/plain": [
       "<Figure size 640x480 with 1 Axes>"
      ]
     },
     "metadata": {},
     "output_type": "display_data"
    },
    {
     "data": {
      "image/png": "[encoded data removed]",
      "text/plain": [
       "<Figure size 640x480 with 1 Axes>"
      ]
     },
     "metadata": {},
     "output_type": "display_data"
    }
   ],
   "source": [
    "import matplotlib.pyplot as plt\n",
    "\n",
    "\n",
    "\n",
    "# Define the angle of rotation in radians\n",
    "theta = np.pi/9\n",
    "# Create a 2D rotation matrix\n",
    "rotation_matrix = np.array([[np.cos(theta), -np.sin(theta)],\n",
    "                            [np.sin(theta), np.cos(theta)]])\n",
    "\n",
    "points = np.array([\n",
    "    [1, 1],\n",
    "    [0, 0]\n",
    "])\n",
    "\n",
    "plt.scatter(x=points[:, 0], y=points[:, 1])\n",
    "plt.grid(True)\n",
    "plt.show()\n",
    "\n",
    "# Matrix multiplication to rotate points in space\n",
    "points_rotated = rotation_matrix @ points.T\n",
    "# Equivalent to:\n",
    "# points_rotated = np.matmul(rotation_matrix, np.transpose(points))\n",
    "\n",
    "\n",
    "plt.scatter(x=points_rotated[:, 0], y=points_rotated[:, 1])\n",
    "plt.grid(True)\n",
    "plt.show()"
   ]
  },
  {
   "cell_type": "markdown",
   "metadata": {},
   "source": [
    "## `ndarray`: Broadcasting\n",
    "\n",
    "As we've seen now `numpy` is fast in processing `ndarrays` of the same shape.\n",
    "\n",
    "This does not only apply to vectors or matrices but also to arrays of arbitrary dimensionality\n",
    "\n",
    "But, it is also possible to perform arithmetic operations, with `ndarrays` and scalar values."
   ]
  },
  {
   "cell_type": "code",
   "execution_count": 47,
   "metadata": {},
   "outputs": [
    {
     "data": {
      "image/png": "[encoded data removed]",
      "text/plain": [
       "<Figure size 640x480 with 1 Axes>"
      ]
     },
     "metadata": {},
     "output_type": "display_data"
    }
   ],
   "source": [
    "point_shifted = points + 2\n",
    "plt.scatter(x=point_shifted[:, 0], y=point_shifted[:, 1])\n",
    "plt.grid(True)\n",
    "plt.show()"
   ]
  },
  {
   "cell_type": "markdown",
   "metadata": {},
   "source": [
    "It is also possible to compute with arrays of different shapes under some circumstances:"
   ]
  },
  {
   "cell_type": "code",
   "execution_count": 48,
   "metadata": {},
   "outputs": [
    {
     "name": "stdout",
     "output_type": "stream",
     "text": [
      "[[0 1 2]\n",
      " [3 4 5]\n",
      " [6 7 8]]\n",
      "[ 1 -1  5]\n",
      "matrix + row_vec=\n",
      " [[ 1  0  7]\n",
      " [ 4  3 10]\n",
      " [ 7  6 13]]\n",
      "(3, 1)\n",
      "[[ 1]\n",
      " [-1]\n",
      " [ 5]]\n",
      "matrix + col_vec=\n",
      " [[ 1  2  3]\n",
      " [ 2  3  4]\n",
      " [11 12 13]]\n"
     ]
    }
   ],
   "source": [
    "matrix = np.arange(9).reshape(3, 3) #numbers til 9 with a matrix of the size [3, 3]\n",
    "print(matrix)\n",
    "\n",
    "row_vec = np.array([1, -1, 5]) #simple vector\n",
    "print(row_vec)\n",
    "print(\"matrix + row_vec=\\n\", matrix + row_vec)\n",
    "\n",
    "col_vec = np.array([[1], [-1], [5]]) #column vector because of the double square brackets [[]]\n",
    "print(col_vec.shape)\n",
    "print(col_vec)\n",
    "print(\"matrix + col_vec=\\n\", matrix + col_vec)"
   ]
  },
  {
   "cell_type": "markdown",
   "metadata": {},
   "source": [
    "To perform those operations on `ndarrays` with mixed dimensionality, `numpy` uses broadcasting to automatically adjust the dimensions of the array with fewer dimensions, by padding it to the right size.\n",
    "\n",
    "\n",
    "<img src=\"https://jakevdp.github.io/PythonDataScienceHandbook/figures/02.05-broadcasting.png\">\n",
    "<p style=\"font-size: 6pt;\">Source: https://jakevdp.github.io/PythonDataScienceHandbook/02.05-computation-on-arrays-broadcasting.html<p>\n",
    "\n",
    "To successfully perform broadcasting some constraints on the shape and size of the arrays have to be fulfilled:\n",
    "\n",
    "```python\n",
    "for dim_a, dim_b in zip(a.shape[::-1], b.shape[::-1]):\n",
    "    if not (1 in (dim_a, dim_b) or dim_a == dim_b):\n",
    "        raise ValueError(\"operands could not be broadcast together\")\n",
    "```\n",
    "\n",
    "If arrays do not have the same number of dimensions the array with fewer dimensions is expanded by adding dimensions to the left.\n",
    "    \n",
    "(`np.([1]).unsqueeze(0) => np.ndarray([[1]])`)"
   ]
  },
  {
   "cell_type": "markdown",
   "metadata": {},
   "source": [
    "## `Pandas`: Wrangling with data in Python\n",
    "\n",
    "While `Numpy` is designed to work with data in arbitrary shapes, Pandas is optimized to work with tabular data.\n",
    "\n",
    "### `DataFrame`\n",
    "\n",
    "Like `Numpy's` `ndarray`, there is one essential container class which builds the core of the library, the `DataFrame`.\n",
    "\n",
    "Conceptually, you can think of a `DataFrame` as the Python version of a Spreadsheet.\n",
    "\n",
    "Consider, the sales table from above:\n",
    "\n",
    "| **Transaction_ID: int** | **Product: str** | **Price: float** | **Quantity: int** |\n",
    "|:-----------------------:|:----------------:|:----------------:|:-----------------:|\n",
    "|            0            |       Beer       |       0.89       |         6         |\n",
    "|            0            |       Chips      |       1.99       |         1         |\n",
    "|            1            |       Milk       |       1.20       |         3         |\n",
    "|            2            |       Bread      |       2.55       |         1         |\n",
    "|           ...           |        ...       |        ...       |        ...        |\n",
    "\n",
    "It can directly be represented as a `DataFrame`:"
   ]
  },
  {
   "cell_type": "code",
   "execution_count": 50,
   "metadata": {},
   "outputs": [
    {
     "data": {
      "text/html": [
       "<div>\n",
       "<style scoped>\n",
       "    .dataframe tbody tr th:only-of-type {\n",
       "        vertical-align: middle;\n",
       "    }\n",
       "\n",
       "    .dataframe tbody tr th {\n",
       "        vertical-align: top;\n",
       "    }\n",
       "\n",
       "    .dataframe thead th {\n",
       "        text-align: right;\n",
       "    }\n",
       "</style>\n",
       "<table border=\"1\" class=\"dataframe\">\n",
       "  <thead>\n",
       "    <tr style=\"text-align: right;\">\n",
       "      <th></th>\n",
       "      <th>Transaction</th>\n",
       "      <th>Product</th>\n",
       "      <th>Price</th>\n",
       "      <th>Quantity</th>\n",
       "    </tr>\n",
       "  </thead>\n",
       "  <tbody>\n",
       "    <tr>\n",
       "      <th>0</th>\n",
       "      <td>0</td>\n",
       "      <td>Beer</td>\n",
       "      <td>0.89</td>\n",
       "      <td>6</td>\n",
       "    </tr>\n",
       "    <tr>\n",
       "      <th>1</th>\n",
       "      <td>0</td>\n",
       "      <td>Chips</td>\n",
       "      <td>1.99</td>\n",
       "      <td>1</td>\n",
       "    </tr>\n",
       "    <tr>\n",
       "      <th>2</th>\n",
       "      <td>1</td>\n",
       "      <td>Milk</td>\n",
       "      <td>1.20</td>\n",
       "      <td>3</td>\n",
       "    </tr>\n",
       "    <tr>\n",
       "      <th>3</th>\n",
       "      <td>2</td>\n",
       "      <td>Bread</td>\n",
       "      <td>2.55</td>\n",
       "      <td>1</td>\n",
       "    </tr>\n",
       "  </tbody>\n",
       "</table>\n",
       "</div>"
      ],
      "text/plain": [
       "   Transaction Product  Price  Quantity\n",
       "0            0    Beer   0.89         6\n",
       "1            0   Chips   1.99         1\n",
       "2            1    Milk   1.20         3\n",
       "3            2   Bread   2.55         1"
      ]
     },
     "execution_count": 50,
     "metadata": {},
     "output_type": "execute_result"
    }
   ],
   "source": [
    "import pandas as pd\n",
    "\n",
    "columns = [\"Transaction\", \"Product\", \"Price\", \"Quantity\"] #sets the column names of out dataframe\n",
    "\n",
    "#our data in rows\n",
    "data = [    \n",
    "    [0, \"Beer\", 0.89, 6],\n",
    "    [0, \"Chips\", 1.99, 1],\n",
    "    [1, \"Milk\", 1.20, 3],\n",
    "    [2, \"Bread\", 2.55, 1],\n",
    "]\n",
    "\n",
    "df = pd.DataFrame(data=data, columns=columns)\n",
    "df"
   ]
  },
  {
   "cell_type": "markdown",
   "metadata": {},
   "source": [
    "DataFrame consists of columns and rows.\n",
    "\n",
    "Typically each column represents a feature, or field of your data.\n",
    "And each row represents a represents a record/ instance of your dataset."
   ]
  },
  {
   "cell_type": "code",
   "execution_count": 51,
   "metadata": {},
   "outputs": [
    {
     "data": {
      "text/plain": [
       "((4, 4),\n",
       " Index(['Transaction', 'Product', 'Price', 'Quantity'], dtype='object'),\n",
       " RangeIndex(start=0, stop=4, step=1))"
      ]
     },
     "execution_count": 51,
     "metadata": {},
     "output_type": "execute_result"
    }
   ],
   "source": [
    "df.shape, df.columns, df.index"
   ]
  },
  {
   "cell_type": "markdown",
   "metadata": {},
   "source": [
    "Pandas offers a wide variety of different way to access your data:"
   ]
  },
  {
   "cell_type": "code",
   "execution_count": 52,
   "metadata": {},
   "outputs": [
    {
     "data": {
      "text/plain": [
       "0    0.89\n",
       "1    1.99\n",
       "2    1.20\n",
       "3    2.55\n",
       "Name: Price, dtype: float64"
      ]
     },
     "execution_count": 52,
     "metadata": {},
     "output_type": "execute_result"
    }
   ],
   "source": [
    "# Access columns\n",
    "df[\"Price\"]"
   ]
  },
  {
   "cell_type": "code",
   "execution_count": 56,
   "metadata": {},
   "outputs": [
    {
     "data": {
      "text/plain": [
       "Transaction       0\n",
       "Product        Beer\n",
       "Price          0.89\n",
       "Quantity          6\n",
       "Name: 0, dtype: object"
      ]
     },
     "execution_count": 56,
     "metadata": {},
     "output_type": "execute_result"
    }
   ],
   "source": [
    "# Access rows\n",
    "df.loc[0]"
   ]
  },
  {
   "cell_type": "markdown",
   "metadata": {},
   "source": [
    "Also there is a wide variety of additional functions to manipulate your data, or create new aggregated views on it:"
   ]
  },
  {
   "cell_type": "code",
   "execution_count": 25,
   "metadata": {},
   "outputs": [
    {
     "data": {
      "text/html": [
       "<div>\n",
       "<style scoped>\n",
       "    .dataframe tbody tr th:only-of-type {\n",
       "        vertical-align: middle;\n",
       "    }\n",
       "\n",
       "    .dataframe tbody tr th {\n",
       "        vertical-align: top;\n",
       "    }\n",
       "\n",
       "    .dataframe thead th {\n",
       "        text-align: right;\n",
       "    }\n",
       "</style>\n",
       "<table border=\"1\" class=\"dataframe\">\n",
       "  <thead>\n",
       "    <tr style=\"text-align: right;\">\n",
       "      <th></th>\n",
       "      <th>Transaction</th>\n",
       "      <th>Product</th>\n",
       "      <th>Price</th>\n",
       "      <th>Quantity</th>\n",
       "    </tr>\n",
       "  </thead>\n",
       "  <tbody>\n",
       "    <tr>\n",
       "      <th>3</th>\n",
       "      <td>2</td>\n",
       "      <td>Bread</td>\n",
       "      <td>2.55</td>\n",
       "      <td>1</td>\n",
       "    </tr>\n",
       "    <tr>\n",
       "      <th>1</th>\n",
       "      <td>0</td>\n",
       "      <td>Chips</td>\n",
       "      <td>1.99</td>\n",
       "      <td>1</td>\n",
       "    </tr>\n",
       "    <tr>\n",
       "      <th>2</th>\n",
       "      <td>1</td>\n",
       "      <td>Milk</td>\n",
       "      <td>1.20</td>\n",
       "      <td>3</td>\n",
       "    </tr>\n",
       "    <tr>\n",
       "      <th>0</th>\n",
       "      <td>0</td>\n",
       "      <td>Beer</td>\n",
       "      <td>0.89</td>\n",
       "      <td>6</td>\n",
       "    </tr>\n",
       "  </tbody>\n",
       "</table>\n",
       "</div>"
      ],
      "text/plain": [
       "   Transaction Product  Price  Quantity\n",
       "3            2   Bread   2.55         1\n",
       "1            0   Chips   1.99         1\n",
       "2            1    Milk   1.20         3\n",
       "0            0    Beer   0.89         6"
      ]
     },
     "execution_count": 25,
     "metadata": {},
     "output_type": "execute_result"
    }
   ],
   "source": [
    "# Sorting based on specific columns\n",
    "df.sort_values(by=\"Price\", ascending=False)"
   ]
  },
  {
   "cell_type": "code",
   "execution_count": 58,
   "metadata": {},
   "outputs": [
    {
     "data": {
      "text/plain": [
       "Transaction\n",
       "0    2.88\n",
       "1    1.20\n",
       "2    2.55\n",
       "Name: Price, dtype: float64"
      ]
     },
     "execution_count": 58,
     "metadata": {},
     "output_type": "execute_result"
    }
   ],
   "source": [
    "# Aggregating all rows with a specific value\n",
    "df.groupby(\"Transaction\")[\"Price\"].sum() #sorts by transaction number"
   ]
  },
  {
   "cell_type": "code",
   "execution_count": 27,
   "metadata": {},
   "outputs": [
    {
     "data": {
      "text/plain": [
       "Product\n",
       "Beer     6.0\n",
       "Bread    1.0\n",
       "Chips    1.0\n",
       "Milk     3.0\n",
       "Name: Quantity, dtype: float64"
      ]
     },
     "execution_count": 27,
     "metadata": {},
     "output_type": "execute_result"
    }
   ],
   "source": [
    "df.groupby(\"Product\")[\"Quantity\"].mean() #sorts alphabetically by product"
   ]
  },
  {
   "cell_type": "code",
   "execution_count": 59,
   "metadata": {},
   "outputs": [
    {
     "data": {
      "text/plain": [
       "Transaction\n",
       "0    2\n",
       "1    1\n",
       "2    1\n",
       "Name: count, dtype: int64"
      ]
     },
     "execution_count": 59,
     "metadata": {},
     "output_type": "execute_result"
    }
   ],
   "source": [
    "# Counting unique values within columns\n",
    "df.Transaction.value_counts()"
   ]
  },
  {
   "cell_type": "code",
   "execution_count": 60,
   "metadata": {},
   "outputs": [
    {
     "data": {
      "text/html": [
       "<div>\n",
       "<style scoped>\n",
       "    .dataframe tbody tr th:only-of-type {\n",
       "        vertical-align: middle;\n",
       "    }\n",
       "\n",
       "    .dataframe tbody tr th {\n",
       "        vertical-align: top;\n",
       "    }\n",
       "\n",
       "    .dataframe thead th {\n",
       "        text-align: right;\n",
       "    }\n",
       "</style>\n",
       "<table border=\"1\" class=\"dataframe\">\n",
       "  <thead>\n",
       "    <tr style=\"text-align: right;\">\n",
       "      <th></th>\n",
       "      <th>Transaction</th>\n",
       "      <th>Product</th>\n",
       "      <th>Price</th>\n",
       "      <th>Quantity</th>\n",
       "    </tr>\n",
       "  </thead>\n",
       "  <tbody>\n",
       "    <tr>\n",
       "      <th>0</th>\n",
       "      <td>0</td>\n",
       "      <td>Beer</td>\n",
       "      <td>0.89</td>\n",
       "      <td>6</td>\n",
       "    </tr>\n",
       "    <tr>\n",
       "      <th>1</th>\n",
       "      <td>0</td>\n",
       "      <td>Chips</td>\n",
       "      <td>1.99</td>\n",
       "      <td>1</td>\n",
       "    </tr>\n",
       "    <tr>\n",
       "      <th>2</th>\n",
       "      <td>1</td>\n",
       "      <td>Milk</td>\n",
       "      <td>1.20</td>\n",
       "      <td>3</td>\n",
       "    </tr>\n",
       "  </tbody>\n",
       "</table>\n",
       "</div>"
      ],
      "text/plain": [
       "   Transaction Product  Price  Quantity\n",
       "0            0    Beer   0.89         6\n",
       "1            0   Chips   1.99         1\n",
       "2            1    Milk   1.20         3"
      ]
     },
     "execution_count": 60,
     "metadata": {},
     "output_type": "execute_result"
    }
   ],
   "source": [
    "# Querying for data:\n",
    "df.query(\"Price < 2.0\") #query all where price is below 2.0\n",
    "# Equivalent to\n",
    "# df[df[\"Price\"] < 2.0]"
   ]
  },
  {
   "cell_type": "code",
   "execution_count": 30,
   "metadata": {},
   "outputs": [
    {
     "data": {
      "text/html": [
       "<div>\n",
       "<style scoped>\n",
       "    .dataframe tbody tr th:only-of-type {\n",
       "        vertical-align: middle;\n",
       "    }\n",
       "\n",
       "    .dataframe tbody tr th {\n",
       "        vertical-align: top;\n",
       "    }\n",
       "\n",
       "    .dataframe thead th {\n",
       "        text-align: right;\n",
       "    }\n",
       "</style>\n",
       "<table border=\"1\" class=\"dataframe\">\n",
       "  <thead>\n",
       "    <tr style=\"text-align: right;\">\n",
       "      <th></th>\n",
       "      <th>Transaction</th>\n",
       "      <th>Product</th>\n",
       "      <th>Price</th>\n",
       "      <th>Quantity</th>\n",
       "    </tr>\n",
       "  </thead>\n",
       "  <tbody>\n",
       "    <tr>\n",
       "      <th>0</th>\n",
       "      <td>0</td>\n",
       "      <td>Beer</td>\n",
       "      <td>0.89</td>\n",
       "      <td>6</td>\n",
       "    </tr>\n",
       "    <tr>\n",
       "      <th>3</th>\n",
       "      <td>2</td>\n",
       "      <td>Bread</td>\n",
       "      <td>2.55</td>\n",
       "      <td>1</td>\n",
       "    </tr>\n",
       "  </tbody>\n",
       "</table>\n",
       "</div>"
      ],
      "text/plain": [
       "   Transaction Product  Price  Quantity\n",
       "0            0    Beer   0.89         6\n",
       "3            2   Bread   2.55         1"
      ]
     },
     "execution_count": 30,
     "metadata": {},
     "output_type": "execute_result"
    }
   ],
   "source": [
    "df.query(\"Product.str.startswith('B')\") #print everything that starts with the letter B\n",
    "\n",
    "# Equivalent to \n",
    "# df[df[\"Product\"].str.startswith(\"B\")]"
   ]
  },
  {
   "cell_type": "code",
   "execution_count": 63,
   "metadata": {},
   "outputs": [
    {
     "data": {
      "text/html": [
       "<div>\n",
       "<style scoped>\n",
       "    .dataframe tbody tr th:only-of-type {\n",
       "        vertical-align: middle;\n",
       "    }\n",
       "\n",
       "    .dataframe tbody tr th {\n",
       "        vertical-align: top;\n",
       "    }\n",
       "\n",
       "    .dataframe thead th {\n",
       "        text-align: right;\n",
       "    }\n",
       "</style>\n",
       "<table border=\"1\" class=\"dataframe\">\n",
       "  <thead>\n",
       "    <tr style=\"text-align: right;\">\n",
       "      <th></th>\n",
       "      <th>Transaction</th>\n",
       "      <th>Product</th>\n",
       "      <th>Price</th>\n",
       "      <th>Quantity</th>\n",
       "    </tr>\n",
       "  </thead>\n",
       "  <tbody>\n",
       "    <tr>\n",
       "      <th>0</th>\n",
       "      <td>0</td>\n",
       "      <td>Beer</td>\n",
       "      <td>0.89</td>\n",
       "      <td>6</td>\n",
       "    </tr>\n",
       "    <tr>\n",
       "      <th>1</th>\n",
       "      <td>0</td>\n",
       "      <td>Chips</td>\n",
       "      <td>1.99</td>\n",
       "      <td>1</td>\n",
       "    </tr>\n",
       "    <tr>\n",
       "      <th>3</th>\n",
       "      <td>2</td>\n",
       "      <td>Bread</td>\n",
       "      <td>2.55</td>\n",
       "      <td>1</td>\n",
       "    </tr>\n",
       "  </tbody>\n",
       "</table>\n",
       "</div>"
      ],
      "text/plain": [
       "   Transaction Product  Price  Quantity\n",
       "0            0    Beer   0.89         6\n",
       "1            0   Chips   1.99         1\n",
       "3            2   Bread   2.55         1"
      ]
     },
     "execution_count": 63,
     "metadata": {},
     "output_type": "execute_result"
    }
   ],
   "source": [
    "def is_even(x):\n",
    "    return x % 2 == 0\n",
    "\n",
    "df.query(\"@is_even(Transaction)\") #shows everything with a 0 rest in transaction\n",
    "\n",
    "# Equivalent to \n",
    "# df[[is_even(t) for t in df[\"Transaction\"]]]"
   ]
  },
  {
   "cell_type": "code",
   "execution_count": 64,
   "metadata": {},
   "outputs": [],
   "source": [
    "# Saving data in a variety of commonly used formats\n",
    "df.to_csv(\"sales.csv\", index=False)\n",
    "df.to_excel(\"sales.xlsx\", index=False)"
   ]
  },
  {
   "cell_type": "code",
   "execution_count": 65,
   "metadata": {},
   "outputs": [
    {
     "data": {
      "text/html": [
       "<div>\n",
       "<style scoped>\n",
       "    .dataframe tbody tr th:only-of-type {\n",
       "        vertical-align: middle;\n",
       "    }\n",
       "\n",
       "    .dataframe tbody tr th {\n",
       "        vertical-align: top;\n",
       "    }\n",
       "\n",
       "    .dataframe thead th {\n",
       "        text-align: right;\n",
       "    }\n",
       "</style>\n",
       "<table border=\"1\" class=\"dataframe\">\n",
       "  <thead>\n",
       "    <tr style=\"text-align: right;\">\n",
       "      <th></th>\n",
       "      <th>Transaction</th>\n",
       "      <th>Product</th>\n",
       "      <th>Price</th>\n",
       "      <th>Quantity</th>\n",
       "    </tr>\n",
       "  </thead>\n",
       "  <tbody>\n",
       "    <tr>\n",
       "      <th>0</th>\n",
       "      <td>0</td>\n",
       "      <td>Beer</td>\n",
       "      <td>0.89</td>\n",
       "      <td>6</td>\n",
       "    </tr>\n",
       "    <tr>\n",
       "      <th>1</th>\n",
       "      <td>0</td>\n",
       "      <td>Chips</td>\n",
       "      <td>1.99</td>\n",
       "      <td>1</td>\n",
       "    </tr>\n",
       "    <tr>\n",
       "      <th>2</th>\n",
       "      <td>1</td>\n",
       "      <td>Milk</td>\n",
       "      <td>1.20</td>\n",
       "      <td>3</td>\n",
       "    </tr>\n",
       "    <tr>\n",
       "      <th>3</th>\n",
       "      <td>2</td>\n",
       "      <td>Bread</td>\n",
       "      <td>2.55</td>\n",
       "      <td>1</td>\n",
       "    </tr>\n",
       "  </tbody>\n",
       "</table>\n",
       "</div>"
      ],
      "text/plain": [
       "   Transaction Product  Price  Quantity\n",
       "0            0    Beer   0.89         6\n",
       "1            0   Chips   1.99         1\n",
       "2            1    Milk   1.20         3\n",
       "3            2   Bread   2.55         1"
      ]
     },
     "execution_count": 65,
     "metadata": {},
     "output_type": "execute_result"
    }
   ],
   "source": [
    "# Loading data in various formats\n",
    "df = pd.read_excel(\"sales.xlsx\")\n",
    "df"
   ]
  },
  {
   "cell_type": "markdown",
   "metadata": {},
   "source": [
    "And so much more!\n",
    "\n",
    "### How to learn __really__ `Pandas`?\n",
    "\n",
    "TL;DR Just use it!\n",
    "\n",
    "Learning `Pandas` - even more like `Numpy` - is best done, while you work on your specific projects.\n",
    "\n",
    "Going through all its features in the course would be too extensive. \n",
    "So we'll introduce additional features as we go on.\n",
    "\n",
    "You are strongly encouraged to stay curious and always keep on googling (or ask ChatGPT) \"How to do xy in Pandas?\" 😊\n",
    "\n",
    "\n",
    "But there are some great resources to start digging deeper:\n",
    "\n",
    "* [Pandas Docs](https://pandas.pydata.org/docs/getting_started/index.html#getting-started)\n",
    "* [Pandas Cheatsheet](https://pandas.pydata.org/Pandas_Cheat_Sheet.pdf)\n",
    "* [Chapter on Pandas in the Data Science Handbook](https://learning.oreilly.com/library/view/python-data-science/9781098121211/part03.html#idm45544948213712)"
   ]
  },
  {
   "cell_type": "code",
   "execution_count": null,
   "metadata": {},
   "outputs": [],
   "source": []
  }
 ],
 "metadata": {
  "kernelspec": {
   "display_name": "Python 3 (ipykernel)",
   "language": "python",
   "name": "python3"
  },
  "language_info": {
   "codemirror_mode": {
    "name": "ipython",
    "version": 3
   },
   "file_extension": ".py",
   "mimetype": "text/x-python",
   "name": "python",
   "nbconvert_exporter": "python",
   "pygments_lexer": "ipython3",
   "version": "3.9.16"
  }
 },
 "nbformat": 4,
 "nbformat_minor": 2
}
