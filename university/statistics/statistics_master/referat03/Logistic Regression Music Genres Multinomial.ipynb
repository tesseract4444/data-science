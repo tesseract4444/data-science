{
 "cells": [
  {
   "cell_type": "code",
   "execution_count": 1,
   "metadata": {
    "colab": {
     "base_uri": "https://localhost:8080/",
     "height": 74
    },
    "executionInfo": {
     "elapsed": 22571,
     "status": "ok",
     "timestamp": 1704899197831,
     "user": {
      "displayName": "Sebastian Düker",
      "userId": "05835174259162210825"
     },
     "user_tz": -60
    },
    "id": "HDEfGCAaU0qs",
    "outputId": "15229193-ed0f-4996-bff7-95959249e677"
   },
   "outputs": [
    {
     "ename": "ModuleNotFoundError",
     "evalue": "No module named 'google'",
     "output_type": "error",
     "traceback": [
      "\u001b[0;31m---------------------------------------------------------------------------\u001b[0m",
      "\u001b[0;31mModuleNotFoundError\u001b[0m                       Traceback (most recent call last)",
      "Cell \u001b[0;32mIn[1], line 1\u001b[0m\n\u001b[0;32m----> 1\u001b[0m \u001b[38;5;28;01mfrom\u001b[39;00m \u001b[38;5;21;01mgoogle\u001b[39;00m\u001b[38;5;21;01m.\u001b[39;00m\u001b[38;5;21;01mcolab\u001b[39;00m \u001b[38;5;28;01mimport\u001b[39;00m files\n\u001b[1;32m      3\u001b[0m uploaded \u001b[38;5;241m=\u001b[39m files\u001b[38;5;241m.\u001b[39mupload()\n",
      "\u001b[0;31mModuleNotFoundError\u001b[0m: No module named 'google'"
     ]
    }
   ],
   "source": [
    "from google.colab import files\n",
    "\n",
    "uploaded = files.upload()"
   ]
  },
  {
   "cell_type": "code",
   "execution_count": 2,
   "metadata": {
    "executionInfo": {
     "elapsed": 2380,
     "status": "ok",
     "timestamp": 1704899240943,
     "user": {
      "displayName": "Sebastian Düker",
      "userId": "05835174259162210825"
     },
     "user_tz": -60
    },
    "id": "1XbVXsucVePp"
   },
   "outputs": [],
   "source": [
    "import pandas as pd\n",
    "import statsmodels.formula.api as smf\n",
    "import numpy as np\n",
    "from sklearn.model_selection import train_test_split\n",
    "import matplotlib.pyplot as plt\n",
    "from sklearn.metrics import (confusion_matrix, accuracy_score)"
   ]
  },
  {
   "cell_type": "code",
   "execution_count": 3,
   "metadata": {
    "executionInfo": {
     "elapsed": 337,
     "status": "ok",
     "timestamp": 1704899242927,
     "user": {
      "displayName": "Sebastian Düker",
      "userId": "05835174259162210825"
     },
     "user_tz": -60
    },
    "id": "SED3Nm7oVfrB"
   },
   "outputs": [],
   "source": [
    "data = pd.read_csv(\"Music_Genre.csv\")"
   ]
  },
  {
   "cell_type": "code",
   "execution_count": 5,
   "metadata": {},
   "outputs": [
    {
     "data": {
      "text/plain": [
       "(17996, 17)"
      ]
     },
     "execution_count": 5,
     "metadata": {},
     "output_type": "execute_result"
    }
   ],
   "source": [
    "data.shape"
   ]
  },
  {
   "cell_type": "code",
   "execution_count": 6,
   "metadata": {
    "colab": {
     "base_uri": "https://localhost:8080/",
     "height": 293
    },
    "executionInfo": {
     "elapsed": 8,
     "status": "ok",
     "timestamp": 1704872787530,
     "user": {
      "displayName": "Sebastian Düker",
      "userId": "05835174259162210825"
     },
     "user_tz": -60
    },
    "id": "JzsqHUhCVg-y",
    "outputId": "0604a1a3-8555-4f77-9123-e9d052ef4e10"
   },
   "outputs": [
    {
     "data": {
      "text/html": [
       "<div>\n",
       "<style scoped>\n",
       "    .dataframe tbody tr th:only-of-type {\n",
       "        vertical-align: middle;\n",
       "    }\n",
       "\n",
       "    .dataframe tbody tr th {\n",
       "        vertical-align: top;\n",
       "    }\n",
       "\n",
       "    .dataframe thead th {\n",
       "        text-align: right;\n",
       "    }\n",
       "</style>\n",
       "<table border=\"1\" class=\"dataframe\">\n",
       "  <thead>\n",
       "    <tr style=\"text-align: right;\">\n",
       "      <th></th>\n",
       "      <th>Artist Name</th>\n",
       "      <th>Track Name</th>\n",
       "      <th>Popularity</th>\n",
       "      <th>danceability</th>\n",
       "      <th>energy</th>\n",
       "      <th>key</th>\n",
       "      <th>loudness</th>\n",
       "      <th>mode</th>\n",
       "      <th>speechiness</th>\n",
       "      <th>acousticness</th>\n",
       "      <th>instrumentalness</th>\n",
       "      <th>liveness</th>\n",
       "      <th>valence</th>\n",
       "      <th>tempo</th>\n",
       "      <th>duration_in min/ms</th>\n",
       "      <th>time_signature</th>\n",
       "      <th>Class</th>\n",
       "    </tr>\n",
       "  </thead>\n",
       "  <tbody>\n",
       "    <tr>\n",
       "      <th>0</th>\n",
       "      <td>Bruno Mars</td>\n",
       "      <td>That's What I Like (feat. Gucci Mane)</td>\n",
       "      <td>60.0</td>\n",
       "      <td>0.854</td>\n",
       "      <td>0.564</td>\n",
       "      <td>1.0</td>\n",
       "      <td>-4.964</td>\n",
       "      <td>1</td>\n",
       "      <td>0.0485</td>\n",
       "      <td>0.017100</td>\n",
       "      <td>NaN</td>\n",
       "      <td>0.0849</td>\n",
       "      <td>0.8990</td>\n",
       "      <td>134.071</td>\n",
       "      <td>234596.0</td>\n",
       "      <td>4</td>\n",
       "      <td>5</td>\n",
       "    </tr>\n",
       "    <tr>\n",
       "      <th>1</th>\n",
       "      <td>Boston</td>\n",
       "      <td>Hitch a Ride</td>\n",
       "      <td>54.0</td>\n",
       "      <td>0.382</td>\n",
       "      <td>0.814</td>\n",
       "      <td>3.0</td>\n",
       "      <td>-7.230</td>\n",
       "      <td>1</td>\n",
       "      <td>0.0406</td>\n",
       "      <td>0.001100</td>\n",
       "      <td>0.004010</td>\n",
       "      <td>0.1010</td>\n",
       "      <td>0.5690</td>\n",
       "      <td>116.454</td>\n",
       "      <td>251733.0</td>\n",
       "      <td>4</td>\n",
       "      <td>10</td>\n",
       "    </tr>\n",
       "    <tr>\n",
       "      <th>2</th>\n",
       "      <td>The Raincoats</td>\n",
       "      <td>No Side to Fall In</td>\n",
       "      <td>35.0</td>\n",
       "      <td>0.434</td>\n",
       "      <td>0.614</td>\n",
       "      <td>6.0</td>\n",
       "      <td>-8.334</td>\n",
       "      <td>1</td>\n",
       "      <td>0.0525</td>\n",
       "      <td>0.486000</td>\n",
       "      <td>0.000196</td>\n",
       "      <td>0.3940</td>\n",
       "      <td>0.7870</td>\n",
       "      <td>147.681</td>\n",
       "      <td>109667.0</td>\n",
       "      <td>4</td>\n",
       "      <td>6</td>\n",
       "    </tr>\n",
       "    <tr>\n",
       "      <th>3</th>\n",
       "      <td>Deno</td>\n",
       "      <td>Lingo (feat. J.I &amp; Chunkz)</td>\n",
       "      <td>66.0</td>\n",
       "      <td>0.853</td>\n",
       "      <td>0.597</td>\n",
       "      <td>10.0</td>\n",
       "      <td>-6.528</td>\n",
       "      <td>0</td>\n",
       "      <td>0.0555</td>\n",
       "      <td>0.021200</td>\n",
       "      <td>NaN</td>\n",
       "      <td>0.1220</td>\n",
       "      <td>0.5690</td>\n",
       "      <td>107.033</td>\n",
       "      <td>173968.0</td>\n",
       "      <td>4</td>\n",
       "      <td>5</td>\n",
       "    </tr>\n",
       "    <tr>\n",
       "      <th>4</th>\n",
       "      <td>Red Hot Chili Peppers</td>\n",
       "      <td>Nobody Weird Like Me - Remastered</td>\n",
       "      <td>53.0</td>\n",
       "      <td>0.167</td>\n",
       "      <td>0.975</td>\n",
       "      <td>2.0</td>\n",
       "      <td>-4.279</td>\n",
       "      <td>1</td>\n",
       "      <td>0.2160</td>\n",
       "      <td>0.000169</td>\n",
       "      <td>0.016100</td>\n",
       "      <td>0.1720</td>\n",
       "      <td>0.0918</td>\n",
       "      <td>199.060</td>\n",
       "      <td>229960.0</td>\n",
       "      <td>4</td>\n",
       "      <td>10</td>\n",
       "    </tr>\n",
       "  </tbody>\n",
       "</table>\n",
       "</div>"
      ],
      "text/plain": [
       "             Artist Name                             Track Name  Popularity  \\\n",
       "0             Bruno Mars  That's What I Like (feat. Gucci Mane)        60.0   \n",
       "1                 Boston                           Hitch a Ride        54.0   \n",
       "2          The Raincoats                     No Side to Fall In        35.0   \n",
       "3                   Deno             Lingo (feat. J.I & Chunkz)        66.0   \n",
       "4  Red Hot Chili Peppers      Nobody Weird Like Me - Remastered        53.0   \n",
       "\n",
       "   danceability  energy   key  loudness  mode  speechiness  acousticness  \\\n",
       "0         0.854   0.564   1.0    -4.964     1       0.0485      0.017100   \n",
       "1         0.382   0.814   3.0    -7.230     1       0.0406      0.001100   \n",
       "2         0.434   0.614   6.0    -8.334     1       0.0525      0.486000   \n",
       "3         0.853   0.597  10.0    -6.528     0       0.0555      0.021200   \n",
       "4         0.167   0.975   2.0    -4.279     1       0.2160      0.000169   \n",
       "\n",
       "   instrumentalness  liveness  valence    tempo  duration_in min/ms  \\\n",
       "0               NaN    0.0849   0.8990  134.071            234596.0   \n",
       "1          0.004010    0.1010   0.5690  116.454            251733.0   \n",
       "2          0.000196    0.3940   0.7870  147.681            109667.0   \n",
       "3               NaN    0.1220   0.5690  107.033            173968.0   \n",
       "4          0.016100    0.1720   0.0918  199.060            229960.0   \n",
       "\n",
       "   time_signature  Class  \n",
       "0               4      5  \n",
       "1               4     10  \n",
       "2               4      6  \n",
       "3               4      5  \n",
       "4               4     10  "
      ]
     },
     "execution_count": 6,
     "metadata": {},
     "output_type": "execute_result"
    }
   ],
   "source": [
    "data.head()"
   ]
  },
  {
   "cell_type": "code",
   "execution_count": 7,
   "metadata": {
    "executionInfo": {
     "elapsed": 10,
     "status": "ok",
     "timestamp": 1704899246076,
     "user": {
      "displayName": "Sebastian Düker",
      "userId": "05835174259162210825"
     },
     "user_tz": -60
    },
    "id": "1yBGG_n8Viwp"
   },
   "outputs": [],
   "source": [
    "data[\"duration\"] = data[\"duration_in min/ms\"]\n",
    "data[\"timesignature\"] = data[\"time_signature\"]"
   ]
  },
  {
   "cell_type": "code",
   "execution_count": 8,
   "metadata": {
    "executionInfo": {
     "elapsed": 268,
     "status": "ok",
     "timestamp": 1704899249878,
     "user": {
      "displayName": "Sebastian Düker",
      "userId": "05835174259162210825"
     },
     "user_tz": -60
    },
    "id": "8TUSy7HnVl90"
   },
   "outputs": [],
   "source": [
    "# 7=Instrumental Metal=8; Pop=9\n",
    "data = data.loc[data['Class'].isin([7, 8, 9])]"
   ]
  },
  {
   "cell_type": "code",
   "execution_count": 9,
   "metadata": {
    "executionInfo": {
     "elapsed": 6,
     "status": "ok",
     "timestamp": 1704899250932,
     "user": {
      "displayName": "Sebastian Düker",
      "userId": "05835174259162210825"
     },
     "user_tz": -60
    },
    "id": "120o7AibVoNS"
   },
   "outputs": [],
   "source": [
    "data['Class'] = data['Class'].replace({7: 0, 8: 1, 9: 2})"
   ]
  },
  {
   "cell_type": "code",
   "execution_count": 10,
   "metadata": {
    "executionInfo": {
     "elapsed": 4,
     "status": "ok",
     "timestamp": 1704899253079,
     "user": {
      "displayName": "Sebastian Düker",
      "userId": "05835174259162210825"
     },
     "user_tz": -60
    },
    "id": "i15dhRpUWBoU"
   },
   "outputs": [],
   "source": [
    "data = data.dropna(subset=['Popularity', 'danceability', 'loudness', 'tempo', 'duration', 'timesignature'])"
   ]
  },
  {
   "cell_type": "code",
   "execution_count": 11,
   "metadata": {
    "executionInfo": {
     "elapsed": 6,
     "status": "ok",
     "timestamp": 1704899254365,
     "user": {
      "displayName": "Sebastian Düker",
      "userId": "05835174259162210825"
     },
     "user_tz": -60
    },
    "id": "Mb2aRiKYWDNc"
   },
   "outputs": [],
   "source": [
    "columns_to_round = ['Popularity', 'danceability', 'loudness', 'tempo', 'duration', 'timesignature']\n",
    "\n",
    "data[columns_to_round] = data[columns_to_round].round()"
   ]
  },
  {
   "cell_type": "code",
   "execution_count": 12,
   "metadata": {
    "executionInfo": {
     "elapsed": 354,
     "status": "ok",
     "timestamp": 1704899255893,
     "user": {
      "displayName": "Sebastian Düker",
      "userId": "05835174259162210825"
     },
     "user_tz": -60
    },
    "id": "2CGfNbkSWFEk"
   },
   "outputs": [],
   "source": [
    "X = data.drop('Class', axis=1)\n",
    "y = data['Class']\n",
    "\n",
    "X_train, X_test, y_train, y_test = train_test_split(X, y, test_size=0.2, random_state=42)"
   ]
  },
  {
   "cell_type": "code",
   "execution_count": 13,
   "metadata": {
    "executionInfo": {
     "elapsed": 366,
     "status": "ok",
     "timestamp": 1704899258087,
     "user": {
      "displayName": "Sebastian Düker",
      "userId": "05835174259162210825"
     },
     "user_tz": -60
    },
    "id": "ZJRZMhG5WHAU"
   },
   "outputs": [],
   "source": [
    "X_train[\"Class\"] = y_train\n",
    "X_test[\"Class\"] = y_test"
   ]
  },
  {
   "cell_type": "code",
   "execution_count": 15,
   "metadata": {
    "colab": {
     "base_uri": "https://localhost:8080/"
    },
    "executionInfo": {
     "elapsed": 630,
     "status": "ok",
     "timestamp": 1704899268404,
     "user": {
      "displayName": "Sebastian Düker",
      "userId": "05835174259162210825"
     },
     "user_tz": -60
    },
    "id": "GsXGBLntWJ3J",
    "outputId": "fbfb3c5f-9e5b-4a01-a398-15cff3370498"
   },
   "outputs": [
    {
     "name": "stdout",
     "output_type": "stream",
     "text": [
      "Optimization terminated successfully.\n",
      "         Current function value: 0.371008\n",
      "         Iterations 21\n",
      "                          MNLogit Regression Results                          \n",
      "==============================================================================\n",
      "Dep. Variable:                  Class   No. Observations:                 3864\n",
      "Model:                        MNLogit   Df Residuals:                     3846\n",
      "Method:                           MLE   Df Model:                           16\n",
      "Date:                Fri, 12 Jan 2024   Pseudo R-squ.:                  0.6108\n",
      "Time:                        10:54:00   Log-Likelihood:                -1433.6\n",
      "converged:                       True   LL-Null:                       -3683.2\n",
      "Covariance Type:            nonrobust   LLR p-value:                     0.000\n",
      "=========================================================================================\n",
      "              Class=1       coef    std err          z      P>|z|      [0.025      0.975]\n",
      "-----------------------------------------------------------------------------------------\n",
      "Intercept                 5.1718      2.867      1.804      0.071      -0.447      10.790\n",
      "C(timesignature)[T.3]    -2.5819      2.703     -0.955      0.339      -7.880       2.716\n",
      "C(timesignature)[T.4]     0.0497      2.623      0.019      0.985      -5.090       5.190\n",
      "C(timesignature)[T.5]    -2.1832      2.882     -0.758      0.449      -7.831       3.465\n",
      "Popularity                0.0079      0.009      0.841      0.400      -0.011       0.026\n",
      "danceability             -2.9405      0.398     -7.380      0.000      -3.721      -2.160\n",
      "loudness                  0.9595      0.062     15.443      0.000       0.838       1.081\n",
      "tempo                     0.0096      0.007      1.380      0.168      -0.004       0.023\n",
      "duration                  0.0001      0.001      0.231      0.817      -0.001       0.001\n",
      "-----------------------------------------------------------------------------------------\n",
      "              Class=2       coef    std err          z      P>|z|      [0.025      0.975]\n",
      "-----------------------------------------------------------------------------------------\n",
      "Intercept                 5.5258      2.744      2.014      0.044       0.148      10.904\n",
      "C(timesignature)[T.3]    -1.6354      2.589     -0.632      0.528      -6.710       3.440\n",
      "C(timesignature)[T.4]     0.7764      2.512      0.309      0.757      -4.148       5.700\n",
      "C(timesignature)[T.5]    -0.7941      2.750     -0.289      0.773      -6.183       4.595\n",
      "Popularity                0.0244      0.009      2.718      0.007       0.007       0.042\n",
      "danceability             -0.6409      0.384     -1.667      0.096      -1.394       0.113\n",
      "loudness                  0.6795      0.059     11.599      0.000       0.565       0.794\n",
      "tempo                     0.0052      0.007      0.781      0.435      -0.008       0.018\n",
      "duration                  0.0001      0.001      0.201      0.841      -0.001       0.001\n",
      "=========================================================================================\n"
     ]
    }
   ],
   "source": [
    "# 0=Instrumental 1=Metal 2=Pop\n",
    "model = smf.mnlogit('Class ~ Popularity + danceability + loudness + tempo + duration + C(timesignature)', data=X_train).fit()\n",
    "\n",
    "print(model.summary())"
   ]
  },
  {
   "cell_type": "code",
   "execution_count": 16,
   "metadata": {
    "colab": {
     "base_uri": "https://localhost:8080/",
     "height": 332
    },
    "executionInfo": {
     "elapsed": 254,
     "status": "ok",
     "timestamp": 1704873245933,
     "user": {
      "displayName": "Sebastian Düker",
      "userId": "05835174259162210825"
     },
     "user_tz": -60
    },
    "id": "9JBfQqYRXLt9",
    "outputId": "96e18a7d-3544-4dcc-9573-5d458fffd466"
   },
   "outputs": [
    {
     "data": {
      "text/html": [
       "<div>\n",
       "<style scoped>\n",
       "    .dataframe tbody tr th:only-of-type {\n",
       "        vertical-align: middle;\n",
       "    }\n",
       "\n",
       "    .dataframe tbody tr th {\n",
       "        vertical-align: top;\n",
       "    }\n",
       "\n",
       "    .dataframe thead th {\n",
       "        text-align: right;\n",
       "    }\n",
       "</style>\n",
       "<table border=\"1\" class=\"dataframe\">\n",
       "  <thead>\n",
       "    <tr style=\"text-align: right;\">\n",
       "      <th></th>\n",
       "      <th>0</th>\n",
       "      <th>1</th>\n",
       "    </tr>\n",
       "  </thead>\n",
       "  <tbody>\n",
       "    <tr>\n",
       "      <th>Intercept</th>\n",
       "      <td>176.238380</td>\n",
       "      <td>251.094203</td>\n",
       "    </tr>\n",
       "    <tr>\n",
       "      <th>C(timesignature)[T.3]</th>\n",
       "      <td>0.075633</td>\n",
       "      <td>0.194870</td>\n",
       "    </tr>\n",
       "    <tr>\n",
       "      <th>C(timesignature)[T.4]</th>\n",
       "      <td>1.050925</td>\n",
       "      <td>2.173538</td>\n",
       "    </tr>\n",
       "    <tr>\n",
       "      <th>C(timesignature)[T.5]</th>\n",
       "      <td>0.112678</td>\n",
       "      <td>0.451983</td>\n",
       "    </tr>\n",
       "    <tr>\n",
       "      <th>Popularity</th>\n",
       "      <td>1.007942</td>\n",
       "      <td>1.024695</td>\n",
       "    </tr>\n",
       "    <tr>\n",
       "      <th>danceability</th>\n",
       "      <td>0.052838</td>\n",
       "      <td>0.526835</td>\n",
       "    </tr>\n",
       "    <tr>\n",
       "      <th>loudness</th>\n",
       "      <td>2.610487</td>\n",
       "      <td>1.972840</td>\n",
       "    </tr>\n",
       "    <tr>\n",
       "      <th>tempo</th>\n",
       "      <td>1.009598</td>\n",
       "      <td>1.005252</td>\n",
       "    </tr>\n",
       "    <tr>\n",
       "      <th>duration</th>\n",
       "      <td>1.000143</td>\n",
       "      <td>1.000125</td>\n",
       "    </tr>\n",
       "  </tbody>\n",
       "</table>\n",
       "</div>"
      ],
      "text/plain": [
       "                                0           1\n",
       "Intercept              176.238380  251.094203\n",
       "C(timesignature)[T.3]    0.075633    0.194870\n",
       "C(timesignature)[T.4]    1.050925    2.173538\n",
       "C(timesignature)[T.5]    0.112678    0.451983\n",
       "Popularity               1.007942    1.024695\n",
       "danceability             0.052838    0.526835\n",
       "loudness                 2.610487    1.972840\n",
       "tempo                    1.009598    1.005252\n",
       "duration                 1.000143    1.000125"
      ]
     },
     "execution_count": 16,
     "metadata": {},
     "output_type": "execute_result"
    }
   ],
   "source": [
    "np.exp(model.params)"
   ]
  },
  {
   "cell_type": "code",
   "execution_count": 17,
   "metadata": {
    "colab": {
     "base_uri": "https://localhost:8080/",
     "height": 81
    },
    "executionInfo": {
     "elapsed": 228,
     "status": "ok",
     "timestamp": 1704873268426,
     "user": {
      "displayName": "Sebastian Düker",
      "userId": "05835174259162210825"
     },
     "user_tz": -60
    },
    "id": "oOzJl8wYXUIJ",
    "outputId": "cf46b62f-b908-48d9-c808-263dbf9c3b50"
   },
   "outputs": [
    {
     "data": {
      "text/html": [
       "<div>\n",
       "<style scoped>\n",
       "    .dataframe tbody tr th:only-of-type {\n",
       "        vertical-align: middle;\n",
       "    }\n",
       "\n",
       "    .dataframe tbody tr th {\n",
       "        vertical-align: top;\n",
       "    }\n",
       "\n",
       "    .dataframe thead th {\n",
       "        text-align: right;\n",
       "    }\n",
       "</style>\n",
       "<table border=\"1\" class=\"dataframe\">\n",
       "  <thead>\n",
       "    <tr style=\"text-align: right;\">\n",
       "      <th></th>\n",
       "      <th>0</th>\n",
       "      <th>1</th>\n",
       "      <th>2</th>\n",
       "    </tr>\n",
       "  </thead>\n",
       "  <tbody>\n",
       "    <tr>\n",
       "      <th>0</th>\n",
       "      <td>1.0</td>\n",
       "      <td>5.171974e-255</td>\n",
       "      <td>1.057881e-54</td>\n",
       "    </tr>\n",
       "  </tbody>\n",
       "</table>\n",
       "</div>"
      ],
      "text/plain": [
       "     0              1             2\n",
       "0  1.0  5.171974e-255  1.057881e-54"
      ]
     },
     "execution_count": 17,
     "metadata": {},
     "output_type": "execute_result"
    }
   ],
   "source": [
    "newpred = pd.DataFrame({\"Popularity\": [0], \"timesignature\": [3], \"danceability\": [200], \"loudness\": 0, \"duration\": 0, \"tempo\": [0]})\n",
    "model.predict(newpred)"
   ]
  },
  {
   "cell_type": "code",
   "execution_count": null,
   "metadata": {},
   "outputs": [],
   "source": []
  }
 ],
 "metadata": {
  "colab": {
   "authorship_tag": "ABX9TyM9x5nUw9AscJmp2uNRFrR3",
   "provenance": []
  },
  "kernelspec": {
   "display_name": "Python 3 (ipykernel)",
   "language": "python",
   "name": "python3"
  },
  "language_info": {
   "codemirror_mode": {
    "name": "ipython",
    "version": 3
   },
   "file_extension": ".py",
   "mimetype": "text/x-python",
   "name": "python",
   "nbconvert_exporter": "python",
   "pygments_lexer": "ipython3",
   "version": "3.11.7"
  }
 },
 "nbformat": 4,
 "nbformat_minor": 4
}
