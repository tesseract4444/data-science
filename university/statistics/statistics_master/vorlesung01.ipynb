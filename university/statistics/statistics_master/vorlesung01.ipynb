{
 "cells": [
  {
   "cell_type": "code",
   "execution_count": 1,
   "id": "b7f11ae0",
   "metadata": {},
   "outputs": [],
   "source": [
    "import pandas as pd\n",
    "from sklearn.linear_model import LinearRegression\n",
    "import matplotlib.pyplot as plt"
   ]
  },
  {
   "cell_type": "code",
   "execution_count": 3,
   "id": "a3a28c6e",
   "metadata": {},
   "outputs": [],
   "source": [
    "df = pd.read_csv(\"https://raw.githubusercontent.com/pielstroem/Statistik2019/master/Datensaetze/sp-authors.tsv\", sep=\"\\t\")"
   ]
  },
  {
   "cell_type": "code",
   "execution_count": 4,
   "id": "42f008a7",
   "metadata": {},
   "outputs": [
    {
     "data": {
      "text/html": [
       "<div>\n",
       "<style scoped>\n",
       "    .dataframe tbody tr th:only-of-type {\n",
       "        vertical-align: middle;\n",
       "    }\n",
       "\n",
       "    .dataframe tbody tr th {\n",
       "        vertical-align: top;\n",
       "    }\n",
       "\n",
       "    .dataframe thead th {\n",
       "        text-align: right;\n",
       "    }\n",
       "</style>\n",
       "<table border=\"1\" class=\"dataframe\">\n",
       "  <thead>\n",
       "    <tr style=\"text-align: right;\">\n",
       "      <th></th>\n",
       "      <th>id</th>\n",
       "      <th>author-fullname</th>\n",
       "      <th>author</th>\n",
       "      <th>birth</th>\n",
       "      <th>death</th>\n",
       "      <th>gender</th>\n",
       "      <th>pages-in-manual</th>\n",
       "      <th>novels</th>\n",
       "      <th>works</th>\n",
       "      <th>life-span</th>\n",
       "      <th>digitzed-by</th>\n",
       "    </tr>\n",
       "  </thead>\n",
       "  <tbody>\n",
       "    <tr>\n",
       "      <th>0</th>\n",
       "      <td>1</td>\n",
       "      <td>Rosalía de Castro</td>\n",
       "      <td>RdCastro</td>\n",
       "      <td>1837</td>\n",
       "      <td>1885</td>\n",
       "      <td>female</td>\n",
       "      <td>17</td>\n",
       "      <td>1</td>\n",
       "      <td>1</td>\n",
       "      <td>48</td>\n",
       "      <td>6</td>\n",
       "    </tr>\n",
       "    <tr>\n",
       "      <th>1</th>\n",
       "      <td>2</td>\n",
       "      <td>Enrique Pérez Escrich</td>\n",
       "      <td>Escrich</td>\n",
       "      <td>1829</td>\n",
       "      <td>1897</td>\n",
       "      <td>male</td>\n",
       "      <td>1</td>\n",
       "      <td>4</td>\n",
       "      <td>17</td>\n",
       "      <td>68</td>\n",
       "      <td>5</td>\n",
       "    </tr>\n",
       "    <tr>\n",
       "      <th>2</th>\n",
       "      <td>3</td>\n",
       "      <td>Antonio de Trueba y de la Quintana</td>\n",
       "      <td>Trueba</td>\n",
       "      <td>1819</td>\n",
       "      <td>1889</td>\n",
       "      <td>male</td>\n",
       "      <td>1</td>\n",
       "      <td>0</td>\n",
       "      <td>1</td>\n",
       "      <td>70</td>\n",
       "      <td>6</td>\n",
       "    </tr>\n",
       "    <tr>\n",
       "      <th>3</th>\n",
       "      <td>4</td>\n",
       "      <td>José Selgas Carrasco</td>\n",
       "      <td>Selgas</td>\n",
       "      <td>1822</td>\n",
       "      <td>1882</td>\n",
       "      <td>male</td>\n",
       "      <td>1</td>\n",
       "      <td>5</td>\n",
       "      <td>7</td>\n",
       "      <td>60</td>\n",
       "      <td>4</td>\n",
       "    </tr>\n",
       "    <tr>\n",
       "      <th>4</th>\n",
       "      <td>5</td>\n",
       "      <td>Francisco Navarro Villoslada</td>\n",
       "      <td>Villoslada</td>\n",
       "      <td>1818</td>\n",
       "      <td>1895</td>\n",
       "      <td>male</td>\n",
       "      <td>1</td>\n",
       "      <td>0</td>\n",
       "      <td>0</td>\n",
       "      <td>77</td>\n",
       "      <td>5</td>\n",
       "    </tr>\n",
       "    <tr>\n",
       "      <th>...</th>\n",
       "      <td>...</td>\n",
       "      <td>...</td>\n",
       "      <td>...</td>\n",
       "      <td>...</td>\n",
       "      <td>...</td>\n",
       "      <td>...</td>\n",
       "      <td>...</td>\n",
       "      <td>...</td>\n",
       "      <td>...</td>\n",
       "      <td>...</td>\n",
       "      <td>...</td>\n",
       "    </tr>\n",
       "    <tr>\n",
       "      <th>128</th>\n",
       "      <td>129</td>\n",
       "      <td>Rafael Sánchez Mazas</td>\n",
       "      <td>Mazas</td>\n",
       "      <td>1894</td>\n",
       "      <td>1966</td>\n",
       "      <td>male</td>\n",
       "      <td>4</td>\n",
       "      <td>1</td>\n",
       "      <td>1</td>\n",
       "      <td>72</td>\n",
       "      <td>0</td>\n",
       "    </tr>\n",
       "    <tr>\n",
       "      <th>129</th>\n",
       "      <td>130</td>\n",
       "      <td>Ramón del Valle-Inclán</td>\n",
       "      <td>Valle</td>\n",
       "      <td>1866</td>\n",
       "      <td>1936</td>\n",
       "      <td>male</td>\n",
       "      <td>162</td>\n",
       "      <td>13</td>\n",
       "      <td>16</td>\n",
       "      <td>70</td>\n",
       "      <td>5</td>\n",
       "    </tr>\n",
       "    <tr>\n",
       "      <th>130</th>\n",
       "      <td>131</td>\n",
       "      <td>Julio Camba</td>\n",
       "      <td>JCamba</td>\n",
       "      <td>1882</td>\n",
       "      <td>1962</td>\n",
       "      <td>male</td>\n",
       "      <td>1</td>\n",
       "      <td>0</td>\n",
       "      <td>7</td>\n",
       "      <td>80</td>\n",
       "      <td>4</td>\n",
       "    </tr>\n",
       "    <tr>\n",
       "      <th>131</th>\n",
       "      <td>132</td>\n",
       "      <td>Rubén Darío</td>\n",
       "      <td>Dario</td>\n",
       "      <td>1867</td>\n",
       "      <td>1916</td>\n",
       "      <td>male</td>\n",
       "      <td>50</td>\n",
       "      <td>2</td>\n",
       "      <td>3</td>\n",
       "      <td>49</td>\n",
       "      <td>6</td>\n",
       "    </tr>\n",
       "    <tr>\n",
       "      <th>132</th>\n",
       "      <td>133</td>\n",
       "      <td>Agustín de Foxá</td>\n",
       "      <td>Foxa</td>\n",
       "      <td>1906</td>\n",
       "      <td>1959</td>\n",
       "      <td>male</td>\n",
       "      <td>30</td>\n",
       "      <td>1</td>\n",
       "      <td>2</td>\n",
       "      <td>53</td>\n",
       "      <td>3</td>\n",
       "    </tr>\n",
       "  </tbody>\n",
       "</table>\n",
       "<p>133 rows × 11 columns</p>\n",
       "</div>"
      ],
      "text/plain": [
       "      id                     author-fullname      author  birth  death   \n",
       "0      1                   Rosalía de Castro    RdCastro   1837   1885  \\\n",
       "1      2               Enrique Pérez Escrich     Escrich   1829   1897   \n",
       "2      3  Antonio de Trueba y de la Quintana      Trueba   1819   1889   \n",
       "3      4                José Selgas Carrasco      Selgas   1822   1882   \n",
       "4      5        Francisco Navarro Villoslada  Villoslada   1818   1895   \n",
       "..   ...                                 ...         ...    ...    ...   \n",
       "128  129                Rafael Sánchez Mazas       Mazas   1894   1966   \n",
       "129  130              Ramón del Valle-Inclán       Valle   1866   1936   \n",
       "130  131                         Julio Camba      JCamba   1882   1962   \n",
       "131  132                         Rubén Darío       Dario   1867   1916   \n",
       "132  133                     Agustín de Foxá        Foxa   1906   1959   \n",
       "\n",
       "     gender  pages-in-manual  novels  works  life-span  digitzed-by  \n",
       "0    female               17       1      1         48            6  \n",
       "1      male                1       4     17         68            5  \n",
       "2      male                1       0      1         70            6  \n",
       "3      male                1       5      7         60            4  \n",
       "4      male                1       0      0         77            5  \n",
       "..      ...              ...     ...    ...        ...          ...  \n",
       "128    male                4       1      1         72            0  \n",
       "129    male              162      13     16         70            5  \n",
       "130    male                1       0      7         80            4  \n",
       "131    male               50       2      3         49            6  \n",
       "132    male               30       1      2         53            3  \n",
       "\n",
       "[133 rows x 11 columns]"
      ]
     },
     "execution_count": 4,
     "metadata": {},
     "output_type": "execute_result"
    }
   ],
   "source": [
    "df"
   ]
  },
  {
   "cell_type": "code",
   "execution_count": 30,
   "id": "dfc1dcef",
   "metadata": {},
   "outputs": [
    {
     "data": {
      "text/plain": [
       "[<matplotlib.lines.Line2D at 0x1aa92f6f010>]"
      ]
     },
     "execution_count": 30,
     "metadata": {},
     "output_type": "execute_result"
    },
    {
     "data": {
      "image/png": "[encoded data removed]",
      "text/plain": [
       "<Figure size 640x480 with 1 Axes>"
      ]
     },
     "metadata": {},
     "output_type": "display_data"
    }
   ],
   "source": [
    "df.plot(x=\"death\", y=\"life-span\", kind=\"scatter\")\n",
    "plt.plot(df[\"death\"].values.reshape((-1,1)), model.predict(df[\"death\"].values.reshape(-1,1)))"
   ]
  },
  {
   "cell_type": "code",
   "execution_count": 5,
   "id": "3915a559",
   "metadata": {},
   "outputs": [
    {
     "ename": "NameError",
     "evalue": "name 'LinearRegression' is not defined",
     "output_type": "error",
     "traceback": [
      "\u001b[1;31m---------------------------------------------------------------------------\u001b[0m",
      "\u001b[1;31mNameError\u001b[0m                                 Traceback (most recent call last)",
      "Cell \u001b[1;32mIn[5], line 1\u001b[0m\n\u001b[1;32m----> 1\u001b[0m model \u001b[38;5;241m=\u001b[39m \u001b[43mLinearRegression\u001b[49m()\n",
      "\u001b[1;31mNameError\u001b[0m: name 'LinearRegression' is not defined"
     ]
    }
   ],
   "source": [
    "model = LinearRegression()"
   ]
  },
  {
   "cell_type": "code",
   "execution_count": 4,
   "id": "a70af4f5",
   "metadata": {},
   "outputs": [
    {
     "ename": "NameError",
     "evalue": "name 'model' is not defined",
     "output_type": "error",
     "traceback": [
      "\u001b[1;31m---------------------------------------------------------------------------\u001b[0m",
      "\u001b[1;31mNameError\u001b[0m                                 Traceback (most recent call last)",
      "Cell \u001b[1;32mIn[4], line 1\u001b[0m\n\u001b[1;32m----> 1\u001b[0m \u001b[43mmodel\u001b[49m\u001b[38;5;241m.\u001b[39mfit(df[\u001b[38;5;124m\"\u001b[39m\u001b[38;5;124mdeath\u001b[39m\u001b[38;5;124m\"\u001b[39m]\u001b[38;5;241m.\u001b[39mvalues\u001b[38;5;241m.\u001b[39mreshape((\u001b[38;5;241m-\u001b[39m\u001b[38;5;241m1\u001b[39m,\u001b[38;5;241m1\u001b[39m)), df[\u001b[38;5;124m\"\u001b[39m\u001b[38;5;124mlife-span\u001b[39m\u001b[38;5;124m\"\u001b[39m])\n",
      "\u001b[1;31mNameError\u001b[0m: name 'model' is not defined"
     ]
    }
   ],
   "source": [
    "model.fit(df[\"death\"].values.reshape((-1,1)), df[\"life-span\"])"
   ]
  },
  {
   "cell_type": "code",
   "execution_count": 24,
   "id": "ad50583b",
   "metadata": {},
   "outputs": [
    {
     "name": "stdout",
     "output_type": "stream",
     "text": [
      "0.3196103685493291\n",
      "-554.4932252825638\n",
      "0.3377091887391087\n"
     ]
    }
   ],
   "source": [
    "print(model.coef_[0]) #steigung der geraden\n",
    "print(model.intercept_) #y-achsenabschnitt (b): im jahr 0 geboren hat lebenserwartung von -554 jahren (linie geht imaginär bis jahr 0 runter)\n",
    "print(model.score(df[\"death\"].values.reshape((-1,1)), df[\"life-span\"])) #mit jedem jahrzehnt werden leute um 0.3 jahre älter"
   ]
  },
  {
   "cell_type": "code",
   "execution_count": 29,
   "id": "97e9e031",
   "metadata": {},
   "outputs": [
    {
     "data": {
      "text/plain": [
       "array([84.72751182])"
      ]
     },
     "execution_count": 29,
     "metadata": {},
     "output_type": "execute_result"
    }
   ],
   "source": [
    "model.predict(pd.Series([2000]).values.reshape(-1,1))"
   ]
  },
  {
   "cell_type": "code",
   "execution_count": null,
   "id": "c5c2ed3f",
   "metadata": {},
   "outputs": [],
   "source": []
  },
  {
   "cell_type": "code",
   "execution_count": 3,
   "id": "dbadfa55",
   "metadata": {},
   "outputs": [],
   "source": [
    "import statsmodels.api as sm"
   ]
  },
  {
   "cell_type": "code",
   "execution_count": null,
   "id": "e117fea6",
   "metadata": {},
   "outputs": [],
   "source": [
    "x = sm.add_constant(df[\"death\"].values)"
   ]
  },
  {
   "cell_type": "code",
   "execution_count": null,
   "id": "73fa93c8",
   "metadata": {},
   "outputs": [],
   "source": [
    "print(model1.summary()) #Prob(F-statistic Hypo verwerfen oder akzeptieren, R squared wie weit Punkte streuen und korelliert meist mit p-Wert)"
   ]
  }
 ],
 "metadata": {
  "kernelspec": {
   "display_name": "Python 3 (ipykernel)",
   "language": "python",
   "name": "python3"
  },
  "language_info": {
   "codemirror_mode": {
    "name": "ipython",
    "version": 3
   },
   "file_extension": ".py",
   "mimetype": "text/x-python",
   "name": "python",
   "nbconvert_exporter": "python",
   "pygments_lexer": "ipython3",
   "version": "3.10.10"
  }
 },
 "nbformat": 4,
 "nbformat_minor": 5
}
