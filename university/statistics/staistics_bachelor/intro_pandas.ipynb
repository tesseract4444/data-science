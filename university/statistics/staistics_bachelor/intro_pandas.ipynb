{
 "cells": [
  {
   "cell_type": "markdown",
   "id": "579fd44d",
   "metadata": {},
   "source": [
    "https://pandas.pydata.org/pandas-docs/stable/user_guide/10min.html#min"
   ]
  },
  {
   "cell_type": "markdown",
   "id": "26badca2",
   "metadata": {},
   "source": [
    "### Default Integer Index aus Werteliste erstellen"
   ]
  },
  {
   "cell_type": "code",
   "execution_count": 1,
   "id": "42f8b7f2",
   "metadata": {},
   "outputs": [],
   "source": [
    "import numpy as np\n",
    "import pandas as pd"
   ]
  },
  {
   "cell_type": "code",
   "execution_count": 2,
   "id": "f3d9c9f7",
   "metadata": {},
   "outputs": [],
   "source": [
    "s = pd.Series([1, 3, 5, np.nan, 6, 8])"
   ]
  },
  {
   "cell_type": "code",
   "execution_count": 3,
   "id": "2d7f30ba",
   "metadata": {},
   "outputs": [
    {
     "data": {
      "text/plain": [
       "0    1.0\n",
       "1    3.0\n",
       "2    5.0\n",
       "3    NaN\n",
       "4    6.0\n",
       "5    8.0\n",
       "dtype: float64"
      ]
     },
     "execution_count": 3,
     "metadata": {},
     "output_type": "execute_result"
    }
   ],
   "source": [
    "s"
   ]
  },
  {
   "cell_type": "markdown",
   "id": "c0db7a25",
   "metadata": {},
   "source": [
    "### DataFrame über NumPy Array mit Datumsliste erstellen"
   ]
  },
  {
   "cell_type": "code",
   "execution_count": 4,
   "id": "3754b27d",
   "metadata": {},
   "outputs": [],
   "source": [
    "dates = pd.date_range('20130101', periods=6)"
   ]
  },
  {
   "cell_type": "code",
   "execution_count": 5,
   "id": "417734ab",
   "metadata": {},
   "outputs": [
    {
     "data": {
      "text/plain": [
       "DatetimeIndex(['2013-01-01', '2013-01-02', '2013-01-03', '2013-01-04',\n",
       "               '2013-01-05', '2013-01-06'],\n",
       "              dtype='datetime64[ns]', freq='D')"
      ]
     },
     "execution_count": 5,
     "metadata": {},
     "output_type": "execute_result"
    }
   ],
   "source": [
    "dates"
   ]
  },
  {
   "cell_type": "code",
   "execution_count": 6,
   "id": "cc7b5d6a",
   "metadata": {},
   "outputs": [],
   "source": [
    "df = pd.DataFrame(np.random.randn(6, 4), index=dates, columns=list(\"ABCD\"))\n",
    "#np.random.randn() erstellt ein Array aus Zufallsvariablen"
   ]
  },
  {
   "cell_type": "code",
   "execution_count": 7,
   "id": "4680028f",
   "metadata": {},
   "outputs": [
    {
     "data": {
      "text/html": [
       "<div>\n",
       "<style scoped>\n",
       "    .dataframe tbody tr th:only-of-type {\n",
       "        vertical-align: middle;\n",
       "    }\n",
       "\n",
       "    .dataframe tbody tr th {\n",
       "        vertical-align: top;\n",
       "    }\n",
       "\n",
       "    .dataframe thead th {\n",
       "        text-align: right;\n",
       "    }\n",
       "</style>\n",
       "<table border=\"1\" class=\"dataframe\">\n",
       "  <thead>\n",
       "    <tr style=\"text-align: right;\">\n",
       "      <th></th>\n",
       "      <th>A</th>\n",
       "      <th>B</th>\n",
       "      <th>C</th>\n",
       "      <th>D</th>\n",
       "    </tr>\n",
       "  </thead>\n",
       "  <tbody>\n",
       "    <tr>\n",
       "      <th>2013-01-01</th>\n",
       "      <td>0.862078</td>\n",
       "      <td>1.754571</td>\n",
       "      <td>-0.549634</td>\n",
       "      <td>0.626582</td>\n",
       "    </tr>\n",
       "    <tr>\n",
       "      <th>2013-01-02</th>\n",
       "      <td>-0.926260</td>\n",
       "      <td>-0.314639</td>\n",
       "      <td>-0.324403</td>\n",
       "      <td>-0.561541</td>\n",
       "    </tr>\n",
       "    <tr>\n",
       "      <th>2013-01-03</th>\n",
       "      <td>0.125914</td>\n",
       "      <td>-0.853530</td>\n",
       "      <td>-0.563805</td>\n",
       "      <td>-1.278426</td>\n",
       "    </tr>\n",
       "    <tr>\n",
       "      <th>2013-01-04</th>\n",
       "      <td>-0.085976</td>\n",
       "      <td>-1.082476</td>\n",
       "      <td>0.428321</td>\n",
       "      <td>-1.323398</td>\n",
       "    </tr>\n",
       "    <tr>\n",
       "      <th>2013-01-05</th>\n",
       "      <td>2.257986</td>\n",
       "      <td>-0.767776</td>\n",
       "      <td>1.130273</td>\n",
       "      <td>0.847012</td>\n",
       "    </tr>\n",
       "    <tr>\n",
       "      <th>2013-01-06</th>\n",
       "      <td>0.036606</td>\n",
       "      <td>0.400605</td>\n",
       "      <td>-0.429306</td>\n",
       "      <td>-0.535583</td>\n",
       "    </tr>\n",
       "  </tbody>\n",
       "</table>\n",
       "</div>"
      ],
      "text/plain": [
       "                   A         B         C         D\n",
       "2013-01-01  0.862078  1.754571 -0.549634  0.626582\n",
       "2013-01-02 -0.926260 -0.314639 -0.324403 -0.561541\n",
       "2013-01-03  0.125914 -0.853530 -0.563805 -1.278426\n",
       "2013-01-04 -0.085976 -1.082476  0.428321 -1.323398\n",
       "2013-01-05  2.257986 -0.767776  1.130273  0.847012\n",
       "2013-01-06  0.036606  0.400605 -0.429306 -0.535583"
      ]
     },
     "execution_count": 7,
     "metadata": {},
     "output_type": "execute_result"
    }
   ],
   "source": [
    "df"
   ]
  },
  {
   "cell_type": "code",
   "execution_count": 8,
   "id": "0d910167",
   "metadata": {},
   "outputs": [
    {
     "data": {
      "text/html": [
       "<div>\n",
       "<style scoped>\n",
       "    .dataframe tbody tr th:only-of-type {\n",
       "        vertical-align: middle;\n",
       "    }\n",
       "\n",
       "    .dataframe tbody tr th {\n",
       "        vertical-align: top;\n",
       "    }\n",
       "\n",
       "    .dataframe thead th {\n",
       "        text-align: right;\n",
       "    }\n",
       "</style>\n",
       "<table border=\"1\" class=\"dataframe\">\n",
       "  <thead>\n",
       "    <tr style=\"text-align: right;\">\n",
       "      <th></th>\n",
       "      <th>A</th>\n",
       "      <th>B</th>\n",
       "      <th>C</th>\n",
       "      <th>D</th>\n",
       "    </tr>\n",
       "  </thead>\n",
       "  <tbody>\n",
       "    <tr>\n",
       "      <th>2013-01-01</th>\n",
       "      <td>0.862078</td>\n",
       "      <td>1.754571</td>\n",
       "      <td>-0.549634</td>\n",
       "      <td>0.626582</td>\n",
       "    </tr>\n",
       "    <tr>\n",
       "      <th>2013-01-02</th>\n",
       "      <td>-0.926260</td>\n",
       "      <td>-0.314639</td>\n",
       "      <td>-0.324403</td>\n",
       "      <td>-0.561541</td>\n",
       "    </tr>\n",
       "    <tr>\n",
       "      <th>2013-01-03</th>\n",
       "      <td>0.125914</td>\n",
       "      <td>-0.853530</td>\n",
       "      <td>-0.563805</td>\n",
       "      <td>-1.278426</td>\n",
       "    </tr>\n",
       "    <tr>\n",
       "      <th>2013-01-04</th>\n",
       "      <td>-0.085976</td>\n",
       "      <td>-1.082476</td>\n",
       "      <td>0.428321</td>\n",
       "      <td>-1.323398</td>\n",
       "    </tr>\n",
       "    <tr>\n",
       "      <th>2013-01-05</th>\n",
       "      <td>2.257986</td>\n",
       "      <td>-0.767776</td>\n",
       "      <td>1.130273</td>\n",
       "      <td>0.847012</td>\n",
       "    </tr>\n",
       "  </tbody>\n",
       "</table>\n",
       "</div>"
      ],
      "text/plain": [
       "                   A         B         C         D\n",
       "2013-01-01  0.862078  1.754571 -0.549634  0.626582\n",
       "2013-01-02 -0.926260 -0.314639 -0.324403 -0.561541\n",
       "2013-01-03  0.125914 -0.853530 -0.563805 -1.278426\n",
       "2013-01-04 -0.085976 -1.082476  0.428321 -1.323398\n",
       "2013-01-05  2.257986 -0.767776  1.130273  0.847012"
      ]
     },
     "execution_count": 8,
     "metadata": {},
     "output_type": "execute_result"
    }
   ],
   "source": [
    "df.head() #betrachtet obere Zeilen der tabelle"
   ]
  },
  {
   "cell_type": "code",
   "execution_count": 9,
   "id": "db977f50",
   "metadata": {},
   "outputs": [
    {
     "data": {
      "text/html": [
       "<div>\n",
       "<style scoped>\n",
       "    .dataframe tbody tr th:only-of-type {\n",
       "        vertical-align: middle;\n",
       "    }\n",
       "\n",
       "    .dataframe tbody tr th {\n",
       "        vertical-align: top;\n",
       "    }\n",
       "\n",
       "    .dataframe thead th {\n",
       "        text-align: right;\n",
       "    }\n",
       "</style>\n",
       "<table border=\"1\" class=\"dataframe\">\n",
       "  <thead>\n",
       "    <tr style=\"text-align: right;\">\n",
       "      <th></th>\n",
       "      <th>A</th>\n",
       "      <th>B</th>\n",
       "      <th>C</th>\n",
       "      <th>D</th>\n",
       "    </tr>\n",
       "  </thead>\n",
       "  <tbody>\n",
       "    <tr>\n",
       "      <th>2013-01-02</th>\n",
       "      <td>-0.926260</td>\n",
       "      <td>-0.314639</td>\n",
       "      <td>-0.324403</td>\n",
       "      <td>-0.561541</td>\n",
       "    </tr>\n",
       "    <tr>\n",
       "      <th>2013-01-03</th>\n",
       "      <td>0.125914</td>\n",
       "      <td>-0.853530</td>\n",
       "      <td>-0.563805</td>\n",
       "      <td>-1.278426</td>\n",
       "    </tr>\n",
       "    <tr>\n",
       "      <th>2013-01-04</th>\n",
       "      <td>-0.085976</td>\n",
       "      <td>-1.082476</td>\n",
       "      <td>0.428321</td>\n",
       "      <td>-1.323398</td>\n",
       "    </tr>\n",
       "    <tr>\n",
       "      <th>2013-01-05</th>\n",
       "      <td>2.257986</td>\n",
       "      <td>-0.767776</td>\n",
       "      <td>1.130273</td>\n",
       "      <td>0.847012</td>\n",
       "    </tr>\n",
       "    <tr>\n",
       "      <th>2013-01-06</th>\n",
       "      <td>0.036606</td>\n",
       "      <td>0.400605</td>\n",
       "      <td>-0.429306</td>\n",
       "      <td>-0.535583</td>\n",
       "    </tr>\n",
       "  </tbody>\n",
       "</table>\n",
       "</div>"
      ],
      "text/plain": [
       "                   A         B         C         D\n",
       "2013-01-02 -0.926260 -0.314639 -0.324403 -0.561541\n",
       "2013-01-03  0.125914 -0.853530 -0.563805 -1.278426\n",
       "2013-01-04 -0.085976 -1.082476  0.428321 -1.323398\n",
       "2013-01-05  2.257986 -0.767776  1.130273  0.847012\n",
       "2013-01-06  0.036606  0.400605 -0.429306 -0.535583"
      ]
     },
     "execution_count": 9,
     "metadata": {},
     "output_type": "execute_result"
    }
   ],
   "source": [
    "df.tail() #betrachtet untere zeilen der tabelle"
   ]
  },
  {
   "cell_type": "code",
   "execution_count": 10,
   "id": "fcb282dd",
   "metadata": {},
   "outputs": [
    {
     "data": {
      "text/plain": [
       "DatetimeIndex(['2013-01-01', '2013-01-02', '2013-01-03', '2013-01-04',\n",
       "               '2013-01-05', '2013-01-06'],\n",
       "              dtype='datetime64[ns]', freq='D')"
      ]
     },
     "execution_count": 10,
     "metadata": {},
     "output_type": "execute_result"
    }
   ],
   "source": [
    "df.index #gibt ausgangszeilen aus"
   ]
  },
  {
   "cell_type": "code",
   "execution_count": 11,
   "id": "ac900851",
   "metadata": {},
   "outputs": [
    {
     "data": {
      "text/plain": [
       "Index(['A', 'B', 'C', 'D'], dtype='object')"
      ]
     },
     "execution_count": 11,
     "metadata": {},
     "output_type": "execute_result"
    }
   ],
   "source": [
    "df.columns #gibt ausgangspalten aus"
   ]
  },
  {
   "cell_type": "markdown",
   "id": "bf4dae54",
   "metadata": {},
   "source": [
    "### DataFrame aus Dictionary erstellen"
   ]
  },
  {
   "cell_type": "code",
   "execution_count": 12,
   "id": "e96a8a20",
   "metadata": {},
   "outputs": [],
   "source": [
    "df2 = pd.DataFrame(\n",
    "{\n",
    "    \"A\": 1.0, \n",
    "    \"B\": pd.Timestamp(\"20130102\"), #entspricht pythons datetime\n",
    "    \"C\": pd.Series(1, index=list(range(4)), dtype=\"float32\"), #series als Spalte einer Tabelle\n",
    "    \"D\": np.array([3]*4, dtype=\"int32\"), #array = einfaches Array\n",
    "    \"E\": pd.Categorical([\"test\", \"train\", \"test\", \"train\"]), #categorical = nimmt feste Anzahl möglicher Werte\n",
    "    \"F\": \"foo\",\n",
    "}\n",
    ")"
   ]
  },
  {
   "cell_type": "code",
   "execution_count": 13,
   "id": "3efad988",
   "metadata": {},
   "outputs": [
    {
     "data": {
      "text/html": [
       "<div>\n",
       "<style scoped>\n",
       "    .dataframe tbody tr th:only-of-type {\n",
       "        vertical-align: middle;\n",
       "    }\n",
       "\n",
       "    .dataframe tbody tr th {\n",
       "        vertical-align: top;\n",
       "    }\n",
       "\n",
       "    .dataframe thead th {\n",
       "        text-align: right;\n",
       "    }\n",
       "</style>\n",
       "<table border=\"1\" class=\"dataframe\">\n",
       "  <thead>\n",
       "    <tr style=\"text-align: right;\">\n",
       "      <th></th>\n",
       "      <th>A</th>\n",
       "      <th>B</th>\n",
       "      <th>C</th>\n",
       "      <th>D</th>\n",
       "      <th>E</th>\n",
       "      <th>F</th>\n",
       "    </tr>\n",
       "  </thead>\n",
       "  <tbody>\n",
       "    <tr>\n",
       "      <th>0</th>\n",
       "      <td>1.0</td>\n",
       "      <td>2013-01-02</td>\n",
       "      <td>1.0</td>\n",
       "      <td>3</td>\n",
       "      <td>test</td>\n",
       "      <td>foo</td>\n",
       "    </tr>\n",
       "    <tr>\n",
       "      <th>1</th>\n",
       "      <td>1.0</td>\n",
       "      <td>2013-01-02</td>\n",
       "      <td>1.0</td>\n",
       "      <td>3</td>\n",
       "      <td>train</td>\n",
       "      <td>foo</td>\n",
       "    </tr>\n",
       "    <tr>\n",
       "      <th>2</th>\n",
       "      <td>1.0</td>\n",
       "      <td>2013-01-02</td>\n",
       "      <td>1.0</td>\n",
       "      <td>3</td>\n",
       "      <td>test</td>\n",
       "      <td>foo</td>\n",
       "    </tr>\n",
       "    <tr>\n",
       "      <th>3</th>\n",
       "      <td>1.0</td>\n",
       "      <td>2013-01-02</td>\n",
       "      <td>1.0</td>\n",
       "      <td>3</td>\n",
       "      <td>train</td>\n",
       "      <td>foo</td>\n",
       "    </tr>\n",
       "  </tbody>\n",
       "</table>\n",
       "</div>"
      ],
      "text/plain": [
       "     A          B    C  D      E    F\n",
       "0  1.0 2013-01-02  1.0  3   test  foo\n",
       "1  1.0 2013-01-02  1.0  3  train  foo\n",
       "2  1.0 2013-01-02  1.0  3   test  foo\n",
       "3  1.0 2013-01-02  1.0  3  train  foo"
      ]
     },
     "execution_count": 13,
     "metadata": {},
     "output_type": "execute_result"
    }
   ],
   "source": [
    "df2"
   ]
  },
  {
   "cell_type": "code",
   "execution_count": null,
   "id": "32b210f6",
   "metadata": {},
   "outputs": [],
   "source": []
  },
  {
   "cell_type": "code",
   "execution_count": 14,
   "id": "1dd07614",
   "metadata": {},
   "outputs": [
    {
     "data": {
      "text/plain": [
       "A           float64\n",
       "B    datetime64[ns]\n",
       "C           float32\n",
       "D             int32\n",
       "E          category\n",
       "F            object\n",
       "dtype: object"
      ]
     },
     "execution_count": 14,
     "metadata": {},
     "output_type": "execute_result"
    }
   ],
   "source": [
    "df2.dtypes #ergebnis-frames haben unterschiedliche dtypes"
   ]
  },
  {
   "cell_type": "markdown",
   "id": "2c358bd9",
   "metadata": {},
   "source": [
    "### DataFrame.to_numpy() zur Repräsentation der Daten"
   ]
  },
  {
   "cell_type": "code",
   "execution_count": 15,
   "id": "9b9011e4",
   "metadata": {},
   "outputs": [
    {
     "data": {
      "text/plain": [
       "array([[ 0.86207816,  1.75457129, -0.54963428,  0.62658239],\n",
       "       [-0.92625981, -0.31463856, -0.32440293, -0.561541  ],\n",
       "       [ 0.12591356, -0.8535304 , -0.56380522, -1.27842591],\n",
       "       [-0.08597625, -1.08247567,  0.42832081, -1.32339803],\n",
       "       [ 2.25798649, -0.76777592,  1.13027298,  0.84701164],\n",
       "       [ 0.03660608,  0.40060502, -0.42930604, -0.53558346]])"
      ]
     },
     "execution_count": 15,
     "metadata": {},
     "output_type": "execute_result"
    }
   ],
   "source": [
    "df.to_numpy()"
   ]
  },
  {
   "cell_type": "code",
   "execution_count": 16,
   "id": "5d72fc8d",
   "metadata": {},
   "outputs": [
    {
     "data": {
      "text/plain": [
       "array([[1.0, Timestamp('2013-01-02 00:00:00'), 1.0, 3, 'test', 'foo'],\n",
       "       [1.0, Timestamp('2013-01-02 00:00:00'), 1.0, 3, 'train', 'foo'],\n",
       "       [1.0, Timestamp('2013-01-02 00:00:00'), 1.0, 3, 'test', 'foo'],\n",
       "       [1.0, Timestamp('2013-01-02 00:00:00'), 1.0, 3, 'train', 'foo']],\n",
       "      dtype=object)"
      ]
     },
     "execution_count": 16,
     "metadata": {},
     "output_type": "execute_result"
    }
   ],
   "source": [
    "df2.to_numpy()"
   ]
  },
  {
   "cell_type": "code",
   "execution_count": 17,
   "id": "22ce29dc",
   "metadata": {},
   "outputs": [],
   "source": [
    "#DataFrame ist immmer ohne Zeilen-/Spaltenindizes!!!"
   ]
  },
  {
   "cell_type": "markdown",
   "id": "accd85ac",
   "metadata": {},
   "source": [
    "### df.describe() für schnelle statistische Zusammenfassung der Daten"
   ]
  },
  {
   "cell_type": "code",
   "execution_count": 18,
   "id": "c5cd5a7b",
   "metadata": {},
   "outputs": [
    {
     "data": {
      "text/html": [
       "<div>\n",
       "<style scoped>\n",
       "    .dataframe tbody tr th:only-of-type {\n",
       "        vertical-align: middle;\n",
       "    }\n",
       "\n",
       "    .dataframe tbody tr th {\n",
       "        vertical-align: top;\n",
       "    }\n",
       "\n",
       "    .dataframe thead th {\n",
       "        text-align: right;\n",
       "    }\n",
       "</style>\n",
       "<table border=\"1\" class=\"dataframe\">\n",
       "  <thead>\n",
       "    <tr style=\"text-align: right;\">\n",
       "      <th></th>\n",
       "      <th>A</th>\n",
       "      <th>B</th>\n",
       "      <th>C</th>\n",
       "      <th>D</th>\n",
       "    </tr>\n",
       "  </thead>\n",
       "  <tbody>\n",
       "    <tr>\n",
       "      <th>count</th>\n",
       "      <td>6.000000</td>\n",
       "      <td>6.000000</td>\n",
       "      <td>6.000000</td>\n",
       "      <td>6.000000</td>\n",
       "    </tr>\n",
       "    <tr>\n",
       "      <th>mean</th>\n",
       "      <td>0.378391</td>\n",
       "      <td>-0.143874</td>\n",
       "      <td>-0.051426</td>\n",
       "      <td>-0.370892</td>\n",
       "    </tr>\n",
       "    <tr>\n",
       "      <th>std</th>\n",
       "      <td>1.083065</td>\n",
       "      <td>1.068040</td>\n",
       "      <td>0.686239</td>\n",
       "      <td>0.924403</td>\n",
       "    </tr>\n",
       "    <tr>\n",
       "      <th>min</th>\n",
       "      <td>-0.926260</td>\n",
       "      <td>-1.082476</td>\n",
       "      <td>-0.563805</td>\n",
       "      <td>-1.323398</td>\n",
       "    </tr>\n",
       "    <tr>\n",
       "      <th>25%</th>\n",
       "      <td>-0.055331</td>\n",
       "      <td>-0.832092</td>\n",
       "      <td>-0.519552</td>\n",
       "      <td>-1.099205</td>\n",
       "    </tr>\n",
       "    <tr>\n",
       "      <th>50%</th>\n",
       "      <td>0.081260</td>\n",
       "      <td>-0.541207</td>\n",
       "      <td>-0.376854</td>\n",
       "      <td>-0.548562</td>\n",
       "    </tr>\n",
       "    <tr>\n",
       "      <th>75%</th>\n",
       "      <td>0.678037</td>\n",
       "      <td>0.221794</td>\n",
       "      <td>0.240140</td>\n",
       "      <td>0.336041</td>\n",
       "    </tr>\n",
       "    <tr>\n",
       "      <th>max</th>\n",
       "      <td>2.257986</td>\n",
       "      <td>1.754571</td>\n",
       "      <td>1.130273</td>\n",
       "      <td>0.847012</td>\n",
       "    </tr>\n",
       "  </tbody>\n",
       "</table>\n",
       "</div>"
      ],
      "text/plain": [
       "              A         B         C         D\n",
       "count  6.000000  6.000000  6.000000  6.000000\n",
       "mean   0.378391 -0.143874 -0.051426 -0.370892\n",
       "std    1.083065  1.068040  0.686239  0.924403\n",
       "min   -0.926260 -1.082476 -0.563805 -1.323398\n",
       "25%   -0.055331 -0.832092 -0.519552 -1.099205\n",
       "50%    0.081260 -0.541207 -0.376854 -0.548562\n",
       "75%    0.678037  0.221794  0.240140  0.336041\n",
       "max    2.257986  1.754571  1.130273  0.847012"
      ]
     },
     "execution_count": 18,
     "metadata": {},
     "output_type": "execute_result"
    }
   ],
   "source": [
    "df.describe()"
   ]
  },
  {
   "cell_type": "markdown",
   "id": "e9464380",
   "metadata": {},
   "source": [
    "### Daten umstellen (Zeilen mit Spalten tauschen)"
   ]
  },
  {
   "cell_type": "code",
   "execution_count": 19,
   "id": "cffcc331",
   "metadata": {},
   "outputs": [
    {
     "data": {
      "text/html": [
       "<div>\n",
       "<style scoped>\n",
       "    .dataframe tbody tr th:only-of-type {\n",
       "        vertical-align: middle;\n",
       "    }\n",
       "\n",
       "    .dataframe tbody tr th {\n",
       "        vertical-align: top;\n",
       "    }\n",
       "\n",
       "    .dataframe thead th {\n",
       "        text-align: right;\n",
       "    }\n",
       "</style>\n",
       "<table border=\"1\" class=\"dataframe\">\n",
       "  <thead>\n",
       "    <tr style=\"text-align: right;\">\n",
       "      <th></th>\n",
       "      <th>2013-01-01</th>\n",
       "      <th>2013-01-02</th>\n",
       "      <th>2013-01-03</th>\n",
       "      <th>2013-01-04</th>\n",
       "      <th>2013-01-05</th>\n",
       "      <th>2013-01-06</th>\n",
       "    </tr>\n",
       "  </thead>\n",
       "  <tbody>\n",
       "    <tr>\n",
       "      <th>A</th>\n",
       "      <td>0.862078</td>\n",
       "      <td>-0.926260</td>\n",
       "      <td>0.125914</td>\n",
       "      <td>-0.085976</td>\n",
       "      <td>2.257986</td>\n",
       "      <td>0.036606</td>\n",
       "    </tr>\n",
       "    <tr>\n",
       "      <th>B</th>\n",
       "      <td>1.754571</td>\n",
       "      <td>-0.314639</td>\n",
       "      <td>-0.853530</td>\n",
       "      <td>-1.082476</td>\n",
       "      <td>-0.767776</td>\n",
       "      <td>0.400605</td>\n",
       "    </tr>\n",
       "    <tr>\n",
       "      <th>C</th>\n",
       "      <td>-0.549634</td>\n",
       "      <td>-0.324403</td>\n",
       "      <td>-0.563805</td>\n",
       "      <td>0.428321</td>\n",
       "      <td>1.130273</td>\n",
       "      <td>-0.429306</td>\n",
       "    </tr>\n",
       "    <tr>\n",
       "      <th>D</th>\n",
       "      <td>0.626582</td>\n",
       "      <td>-0.561541</td>\n",
       "      <td>-1.278426</td>\n",
       "      <td>-1.323398</td>\n",
       "      <td>0.847012</td>\n",
       "      <td>-0.535583</td>\n",
       "    </tr>\n",
       "  </tbody>\n",
       "</table>\n",
       "</div>"
      ],
      "text/plain": [
       "   2013-01-01  2013-01-02  2013-01-03  2013-01-04  2013-01-05  2013-01-06\n",
       "A    0.862078   -0.926260    0.125914   -0.085976    2.257986    0.036606\n",
       "B    1.754571   -0.314639   -0.853530   -1.082476   -0.767776    0.400605\n",
       "C   -0.549634   -0.324403   -0.563805    0.428321    1.130273   -0.429306\n",
       "D    0.626582   -0.561541   -1.278426   -1.323398    0.847012   -0.535583"
      ]
     },
     "execution_count": 19,
     "metadata": {},
     "output_type": "execute_result"
    }
   ],
   "source": [
    "df.T"
   ]
  },
  {
   "cell_type": "markdown",
   "id": "e817f7af",
   "metadata": {},
   "source": [
    "### Werte sortieren"
   ]
  },
  {
   "cell_type": "code",
   "execution_count": 20,
   "id": "e5664f2d",
   "metadata": {},
   "outputs": [
    {
     "data": {
      "text/html": [
       "<div>\n",
       "<style scoped>\n",
       "    .dataframe tbody tr th:only-of-type {\n",
       "        vertical-align: middle;\n",
       "    }\n",
       "\n",
       "    .dataframe tbody tr th {\n",
       "        vertical-align: top;\n",
       "    }\n",
       "\n",
       "    .dataframe thead th {\n",
       "        text-align: right;\n",
       "    }\n",
       "</style>\n",
       "<table border=\"1\" class=\"dataframe\">\n",
       "  <thead>\n",
       "    <tr style=\"text-align: right;\">\n",
       "      <th></th>\n",
       "      <th>A</th>\n",
       "      <th>B</th>\n",
       "      <th>C</th>\n",
       "      <th>D</th>\n",
       "    </tr>\n",
       "  </thead>\n",
       "  <tbody>\n",
       "    <tr>\n",
       "      <th>2013-01-04</th>\n",
       "      <td>-0.085976</td>\n",
       "      <td>-1.082476</td>\n",
       "      <td>0.428321</td>\n",
       "      <td>-1.323398</td>\n",
       "    </tr>\n",
       "    <tr>\n",
       "      <th>2013-01-03</th>\n",
       "      <td>0.125914</td>\n",
       "      <td>-0.853530</td>\n",
       "      <td>-0.563805</td>\n",
       "      <td>-1.278426</td>\n",
       "    </tr>\n",
       "    <tr>\n",
       "      <th>2013-01-05</th>\n",
       "      <td>2.257986</td>\n",
       "      <td>-0.767776</td>\n",
       "      <td>1.130273</td>\n",
       "      <td>0.847012</td>\n",
       "    </tr>\n",
       "    <tr>\n",
       "      <th>2013-01-02</th>\n",
       "      <td>-0.926260</td>\n",
       "      <td>-0.314639</td>\n",
       "      <td>-0.324403</td>\n",
       "      <td>-0.561541</td>\n",
       "    </tr>\n",
       "    <tr>\n",
       "      <th>2013-01-06</th>\n",
       "      <td>0.036606</td>\n",
       "      <td>0.400605</td>\n",
       "      <td>-0.429306</td>\n",
       "      <td>-0.535583</td>\n",
       "    </tr>\n",
       "    <tr>\n",
       "      <th>2013-01-01</th>\n",
       "      <td>0.862078</td>\n",
       "      <td>1.754571</td>\n",
       "      <td>-0.549634</td>\n",
       "      <td>0.626582</td>\n",
       "    </tr>\n",
       "  </tbody>\n",
       "</table>\n",
       "</div>"
      ],
      "text/plain": [
       "                   A         B         C         D\n",
       "2013-01-04 -0.085976 -1.082476  0.428321 -1.323398\n",
       "2013-01-03  0.125914 -0.853530 -0.563805 -1.278426\n",
       "2013-01-05  2.257986 -0.767776  1.130273  0.847012\n",
       "2013-01-02 -0.926260 -0.314639 -0.324403 -0.561541\n",
       "2013-01-06  0.036606  0.400605 -0.429306 -0.535583\n",
       "2013-01-01  0.862078  1.754571 -0.549634  0.626582"
      ]
     },
     "execution_count": 20,
     "metadata": {},
     "output_type": "execute_result"
    }
   ],
   "source": [
    "df.sort_values(by=\"B\")"
   ]
  },
  {
   "cell_type": "markdown",
   "id": "2870127b",
   "metadata": {},
   "source": [
    "### Nur eine Spalte auswählen"
   ]
  },
  {
   "cell_type": "code",
   "execution_count": 21,
   "id": "3055deb6",
   "metadata": {},
   "outputs": [
    {
     "data": {
      "text/plain": [
       "2013-01-01    0.862078\n",
       "2013-01-02   -0.926260\n",
       "2013-01-03    0.125914\n",
       "2013-01-04   -0.085976\n",
       "2013-01-05    2.257986\n",
       "2013-01-06    0.036606\n",
       "Freq: D, Name: A, dtype: float64"
      ]
     },
     "execution_count": 21,
     "metadata": {},
     "output_type": "execute_result"
    }
   ],
   "source": [
    "df['A']"
   ]
  },
  {
   "cell_type": "markdown",
   "id": "c9d7e7d1",
   "metadata": {},
   "source": [
    "### Slicing"
   ]
  },
  {
   "cell_type": "code",
   "execution_count": 22,
   "id": "ffe17cda",
   "metadata": {},
   "outputs": [
    {
     "data": {
      "text/html": [
       "<div>\n",
       "<style scoped>\n",
       "    .dataframe tbody tr th:only-of-type {\n",
       "        vertical-align: middle;\n",
       "    }\n",
       "\n",
       "    .dataframe tbody tr th {\n",
       "        vertical-align: top;\n",
       "    }\n",
       "\n",
       "    .dataframe thead th {\n",
       "        text-align: right;\n",
       "    }\n",
       "</style>\n",
       "<table border=\"1\" class=\"dataframe\">\n",
       "  <thead>\n",
       "    <tr style=\"text-align: right;\">\n",
       "      <th></th>\n",
       "      <th>A</th>\n",
       "      <th>B</th>\n",
       "      <th>C</th>\n",
       "      <th>D</th>\n",
       "    </tr>\n",
       "  </thead>\n",
       "  <tbody>\n",
       "    <tr>\n",
       "      <th>2013-01-01</th>\n",
       "      <td>0.862078</td>\n",
       "      <td>1.754571</td>\n",
       "      <td>-0.549634</td>\n",
       "      <td>0.626582</td>\n",
       "    </tr>\n",
       "    <tr>\n",
       "      <th>2013-01-02</th>\n",
       "      <td>-0.926260</td>\n",
       "      <td>-0.314639</td>\n",
       "      <td>-0.324403</td>\n",
       "      <td>-0.561541</td>\n",
       "    </tr>\n",
       "  </tbody>\n",
       "</table>\n",
       "</div>"
      ],
      "text/plain": [
       "                   A         B         C         D\n",
       "2013-01-01  0.862078  1.754571 -0.549634  0.626582\n",
       "2013-01-02 -0.926260 -0.314639 -0.324403 -0.561541"
      ]
     },
     "execution_count": 22,
     "metadata": {},
     "output_type": "execute_result"
    }
   ],
   "source": [
    "df[0:2] #Zeilen-Slicing"
   ]
  },
  {
   "cell_type": "code",
   "execution_count": 23,
   "id": "d79b782e",
   "metadata": {},
   "outputs": [
    {
     "data": {
      "text/html": [
       "<div>\n",
       "<style scoped>\n",
       "    .dataframe tbody tr th:only-of-type {\n",
       "        vertical-align: middle;\n",
       "    }\n",
       "\n",
       "    .dataframe tbody tr th {\n",
       "        vertical-align: top;\n",
       "    }\n",
       "\n",
       "    .dataframe thead th {\n",
       "        text-align: right;\n",
       "    }\n",
       "</style>\n",
       "<table border=\"1\" class=\"dataframe\">\n",
       "  <thead>\n",
       "    <tr style=\"text-align: right;\">\n",
       "      <th></th>\n",
       "      <th>A</th>\n",
       "      <th>B</th>\n",
       "      <th>C</th>\n",
       "      <th>D</th>\n",
       "    </tr>\n",
       "  </thead>\n",
       "  <tbody>\n",
       "    <tr>\n",
       "      <th>2013-01-02</th>\n",
       "      <td>-0.926260</td>\n",
       "      <td>-0.314639</td>\n",
       "      <td>-0.324403</td>\n",
       "      <td>-0.561541</td>\n",
       "    </tr>\n",
       "    <tr>\n",
       "      <th>2013-01-03</th>\n",
       "      <td>0.125914</td>\n",
       "      <td>-0.853530</td>\n",
       "      <td>-0.563805</td>\n",
       "      <td>-1.278426</td>\n",
       "    </tr>\n",
       "    <tr>\n",
       "      <th>2013-01-04</th>\n",
       "      <td>-0.085976</td>\n",
       "      <td>-1.082476</td>\n",
       "      <td>0.428321</td>\n",
       "      <td>-1.323398</td>\n",
       "    </tr>\n",
       "  </tbody>\n",
       "</table>\n",
       "</div>"
      ],
      "text/plain": [
       "                   A         B         C         D\n",
       "2013-01-02 -0.926260 -0.314639 -0.324403 -0.561541\n",
       "2013-01-03  0.125914 -0.853530 -0.563805 -1.278426\n",
       "2013-01-04 -0.085976 -1.082476  0.428321 -1.323398"
      ]
     },
     "execution_count": 23,
     "metadata": {},
     "output_type": "execute_result"
    }
   ],
   "source": [
    "df[\"20130102\":\"20130104\"] #Spalten-Slicing über Indizes-Werte"
   ]
  },
  {
   "cell_type": "markdown",
   "id": "9c6d57f7",
   "metadata": {},
   "source": [
    "### Auswahl nach n. Wert pro Spalte"
   ]
  },
  {
   "cell_type": "code",
   "execution_count": 24,
   "id": "b3927291",
   "metadata": {},
   "outputs": [
    {
     "data": {
      "text/plain": [
       "A    0.862078\n",
       "B    1.754571\n",
       "C   -0.549634\n",
       "D    0.626582\n",
       "Name: 2013-01-01 00:00:00, dtype: float64"
      ]
     },
     "execution_count": 24,
     "metadata": {},
     "output_type": "execute_result"
    }
   ],
   "source": [
    "df.loc[dates[0]] #index gibt Spalte an"
   ]
  },
  {
   "cell_type": "markdown",
   "id": "5b6afd46",
   "metadata": {},
   "source": [
    "### Auswahl nach nur bestimmten Spalten"
   ]
  },
  {
   "cell_type": "code",
   "execution_count": 25,
   "id": "39916304",
   "metadata": {},
   "outputs": [
    {
     "data": {
      "text/html": [
       "<div>\n",
       "<style scoped>\n",
       "    .dataframe tbody tr th:only-of-type {\n",
       "        vertical-align: middle;\n",
       "    }\n",
       "\n",
       "    .dataframe tbody tr th {\n",
       "        vertical-align: top;\n",
       "    }\n",
       "\n",
       "    .dataframe thead th {\n",
       "        text-align: right;\n",
       "    }\n",
       "</style>\n",
       "<table border=\"1\" class=\"dataframe\">\n",
       "  <thead>\n",
       "    <tr style=\"text-align: right;\">\n",
       "      <th></th>\n",
       "      <th>A</th>\n",
       "      <th>B</th>\n",
       "    </tr>\n",
       "  </thead>\n",
       "  <tbody>\n",
       "    <tr>\n",
       "      <th>2013-01-01</th>\n",
       "      <td>0.862078</td>\n",
       "      <td>1.754571</td>\n",
       "    </tr>\n",
       "    <tr>\n",
       "      <th>2013-01-02</th>\n",
       "      <td>-0.926260</td>\n",
       "      <td>-0.314639</td>\n",
       "    </tr>\n",
       "    <tr>\n",
       "      <th>2013-01-03</th>\n",
       "      <td>0.125914</td>\n",
       "      <td>-0.853530</td>\n",
       "    </tr>\n",
       "    <tr>\n",
       "      <th>2013-01-04</th>\n",
       "      <td>-0.085976</td>\n",
       "      <td>-1.082476</td>\n",
       "    </tr>\n",
       "    <tr>\n",
       "      <th>2013-01-05</th>\n",
       "      <td>2.257986</td>\n",
       "      <td>-0.767776</td>\n",
       "    </tr>\n",
       "    <tr>\n",
       "      <th>2013-01-06</th>\n",
       "      <td>0.036606</td>\n",
       "      <td>0.400605</td>\n",
       "    </tr>\n",
       "  </tbody>\n",
       "</table>\n",
       "</div>"
      ],
      "text/plain": [
       "                   A         B\n",
       "2013-01-01  0.862078  1.754571\n",
       "2013-01-02 -0.926260 -0.314639\n",
       "2013-01-03  0.125914 -0.853530\n",
       "2013-01-04 -0.085976 -1.082476\n",
       "2013-01-05  2.257986 -0.767776\n",
       "2013-01-06  0.036606  0.400605"
      ]
     },
     "execution_count": 25,
     "metadata": {},
     "output_type": "execute_result"
    }
   ],
   "source": [
    "df.loc[:, ['A', 'B']]"
   ]
  },
  {
   "cell_type": "markdown",
   "id": "5a728126",
   "metadata": {},
   "source": [
    "### Auswahl nach bestimmten Indizes in bestimmten Spalten"
   ]
  },
  {
   "cell_type": "code",
   "execution_count": 26,
   "id": "2f638b82",
   "metadata": {},
   "outputs": [
    {
     "data": {
      "text/plain": [
       "A   -0.926260\n",
       "B   -0.314639\n",
       "Name: 2013-01-02 00:00:00, dtype: float64"
      ]
     },
     "execution_count": 26,
     "metadata": {},
     "output_type": "execute_result"
    }
   ],
   "source": [
    "df.loc[\"20130102\", ['A', 'B']]"
   ]
  },
  {
   "cell_type": "markdown",
   "id": "b04dfc48",
   "metadata": {},
   "source": [
    "### Ungerundeten Wert aufrufen"
   ]
  },
  {
   "cell_type": "code",
   "execution_count": 27,
   "id": "951d93c3",
   "metadata": {},
   "outputs": [
    {
     "data": {
      "text/plain": [
       "-0.0859762519951943"
      ]
     },
     "execution_count": 27,
     "metadata": {},
     "output_type": "execute_result"
    }
   ],
   "source": [
    "df.loc[dates[3], 'A']"
   ]
  },
  {
   "cell_type": "code",
   "execution_count": 28,
   "id": "07e898e4",
   "metadata": {},
   "outputs": [
    {
     "data": {
      "text/plain": [
       "-0.0859762519951943"
      ]
     },
     "execution_count": 28,
     "metadata": {},
     "output_type": "execute_result"
    }
   ],
   "source": [
    "df.at[dates[3], 'A']"
   ]
  },
  {
   "cell_type": "markdown",
   "id": "791456c9",
   "metadata": {},
   "source": [
    "### Position der übersprungenen Integers"
   ]
  },
  {
   "cell_type": "code",
   "execution_count": 29,
   "id": "28f4adb9",
   "metadata": {},
   "outputs": [
    {
     "data": {
      "text/plain": [
       "A   -0.085976\n",
       "B   -1.082476\n",
       "C    0.428321\n",
       "D   -1.323398\n",
       "Name: 2013-01-04 00:00:00, dtype: float64"
      ]
     },
     "execution_count": 29,
     "metadata": {},
     "output_type": "execute_result"
    }
   ],
   "source": [
    "df.iloc[3]"
   ]
  },
  {
   "cell_type": "markdown",
   "id": "4170c2d4",
   "metadata": {},
   "source": [
    "### Integer Slices von Zeilen und Spalten"
   ]
  },
  {
   "cell_type": "code",
   "execution_count": 30,
   "id": "9c1aa162",
   "metadata": {},
   "outputs": [
    {
     "data": {
      "text/html": [
       "<div>\n",
       "<style scoped>\n",
       "    .dataframe tbody tr th:only-of-type {\n",
       "        vertical-align: middle;\n",
       "    }\n",
       "\n",
       "    .dataframe tbody tr th {\n",
       "        vertical-align: top;\n",
       "    }\n",
       "\n",
       "    .dataframe thead th {\n",
       "        text-align: right;\n",
       "    }\n",
       "</style>\n",
       "<table border=\"1\" class=\"dataframe\">\n",
       "  <thead>\n",
       "    <tr style=\"text-align: right;\">\n",
       "      <th></th>\n",
       "      <th>A</th>\n",
       "      <th>B</th>\n",
       "    </tr>\n",
       "  </thead>\n",
       "  <tbody>\n",
       "    <tr>\n",
       "      <th>2013-01-04</th>\n",
       "      <td>-0.085976</td>\n",
       "      <td>-1.082476</td>\n",
       "    </tr>\n",
       "    <tr>\n",
       "      <th>2013-01-05</th>\n",
       "      <td>2.257986</td>\n",
       "      <td>-0.767776</td>\n",
       "    </tr>\n",
       "  </tbody>\n",
       "</table>\n",
       "</div>"
      ],
      "text/plain": [
       "                   A         B\n",
       "2013-01-04 -0.085976 -1.082476\n",
       "2013-01-05  2.257986 -0.767776"
      ]
     },
     "execution_count": 30,
     "metadata": {},
     "output_type": "execute_result"
    }
   ],
   "source": [
    "df.iloc[3:5, 0:2] #Zeile 3+4, Spalte 0+1 "
   ]
  },
  {
   "cell_type": "markdown",
   "id": "dc59382b",
   "metadata": {},
   "source": [
    "### Speziell ausgewählte Integer Slices"
   ]
  },
  {
   "cell_type": "code",
   "execution_count": 31,
   "id": "a603d085",
   "metadata": {},
   "outputs": [
    {
     "data": {
      "text/html": [
       "<div>\n",
       "<style scoped>\n",
       "    .dataframe tbody tr th:only-of-type {\n",
       "        vertical-align: middle;\n",
       "    }\n",
       "\n",
       "    .dataframe tbody tr th {\n",
       "        vertical-align: top;\n",
       "    }\n",
       "\n",
       "    .dataframe thead th {\n",
       "        text-align: right;\n",
       "    }\n",
       "</style>\n",
       "<table border=\"1\" class=\"dataframe\">\n",
       "  <thead>\n",
       "    <tr style=\"text-align: right;\">\n",
       "      <th></th>\n",
       "      <th>A</th>\n",
       "      <th>C</th>\n",
       "    </tr>\n",
       "  </thead>\n",
       "  <tbody>\n",
       "    <tr>\n",
       "      <th>2013-01-02</th>\n",
       "      <td>-0.926260</td>\n",
       "      <td>-0.324403</td>\n",
       "    </tr>\n",
       "    <tr>\n",
       "      <th>2013-01-03</th>\n",
       "      <td>0.125914</td>\n",
       "      <td>-0.563805</td>\n",
       "    </tr>\n",
       "    <tr>\n",
       "      <th>2013-01-05</th>\n",
       "      <td>2.257986</td>\n",
       "      <td>1.130273</td>\n",
       "    </tr>\n",
       "  </tbody>\n",
       "</table>\n",
       "</div>"
      ],
      "text/plain": [
       "                   A         C\n",
       "2013-01-02 -0.926260 -0.324403\n",
       "2013-01-03  0.125914 -0.563805\n",
       "2013-01-05  2.257986  1.130273"
      ]
     },
     "execution_count": 31,
     "metadata": {},
     "output_type": "execute_result"
    }
   ],
   "source": [
    "df.iloc[[1,2,4], [0,2]]"
   ]
  },
  {
   "cell_type": "markdown",
   "id": "3aa7dada",
   "metadata": {},
   "source": [
    "### Reihenslicing und Spaltenslicing"
   ]
  },
  {
   "cell_type": "code",
   "execution_count": 32,
   "id": "2c6a3046",
   "metadata": {},
   "outputs": [
    {
     "data": {
      "text/html": [
       "<div>\n",
       "<style scoped>\n",
       "    .dataframe tbody tr th:only-of-type {\n",
       "        vertical-align: middle;\n",
       "    }\n",
       "\n",
       "    .dataframe tbody tr th {\n",
       "        vertical-align: top;\n",
       "    }\n",
       "\n",
       "    .dataframe thead th {\n",
       "        text-align: right;\n",
       "    }\n",
       "</style>\n",
       "<table border=\"1\" class=\"dataframe\">\n",
       "  <thead>\n",
       "    <tr style=\"text-align: right;\">\n",
       "      <th></th>\n",
       "      <th>A</th>\n",
       "      <th>B</th>\n",
       "      <th>C</th>\n",
       "      <th>D</th>\n",
       "    </tr>\n",
       "  </thead>\n",
       "  <tbody>\n",
       "    <tr>\n",
       "      <th>2013-01-02</th>\n",
       "      <td>-0.926260</td>\n",
       "      <td>-0.314639</td>\n",
       "      <td>-0.324403</td>\n",
       "      <td>-0.561541</td>\n",
       "    </tr>\n",
       "    <tr>\n",
       "      <th>2013-01-03</th>\n",
       "      <td>0.125914</td>\n",
       "      <td>-0.853530</td>\n",
       "      <td>-0.563805</td>\n",
       "      <td>-1.278426</td>\n",
       "    </tr>\n",
       "  </tbody>\n",
       "</table>\n",
       "</div>"
      ],
      "text/plain": [
       "                   A         B         C         D\n",
       "2013-01-02 -0.926260 -0.314639 -0.324403 -0.561541\n",
       "2013-01-03  0.125914 -0.853530 -0.563805 -1.278426"
      ]
     },
     "execution_count": 32,
     "metadata": {},
     "output_type": "execute_result"
    }
   ],
   "source": [
    "df.iloc [1:3, :]"
   ]
  },
  {
   "cell_type": "code",
   "execution_count": 33,
   "id": "4761660f",
   "metadata": {},
   "outputs": [
    {
     "data": {
      "text/html": [
       "<div>\n",
       "<style scoped>\n",
       "    .dataframe tbody tr th:only-of-type {\n",
       "        vertical-align: middle;\n",
       "    }\n",
       "\n",
       "    .dataframe tbody tr th {\n",
       "        vertical-align: top;\n",
       "    }\n",
       "\n",
       "    .dataframe thead th {\n",
       "        text-align: right;\n",
       "    }\n",
       "</style>\n",
       "<table border=\"1\" class=\"dataframe\">\n",
       "  <thead>\n",
       "    <tr style=\"text-align: right;\">\n",
       "      <th></th>\n",
       "      <th>B</th>\n",
       "      <th>C</th>\n",
       "    </tr>\n",
       "  </thead>\n",
       "  <tbody>\n",
       "    <tr>\n",
       "      <th>2013-01-01</th>\n",
       "      <td>1.754571</td>\n",
       "      <td>-0.549634</td>\n",
       "    </tr>\n",
       "    <tr>\n",
       "      <th>2013-01-02</th>\n",
       "      <td>-0.314639</td>\n",
       "      <td>-0.324403</td>\n",
       "    </tr>\n",
       "    <tr>\n",
       "      <th>2013-01-03</th>\n",
       "      <td>-0.853530</td>\n",
       "      <td>-0.563805</td>\n",
       "    </tr>\n",
       "    <tr>\n",
       "      <th>2013-01-04</th>\n",
       "      <td>-1.082476</td>\n",
       "      <td>0.428321</td>\n",
       "    </tr>\n",
       "    <tr>\n",
       "      <th>2013-01-05</th>\n",
       "      <td>-0.767776</td>\n",
       "      <td>1.130273</td>\n",
       "    </tr>\n",
       "    <tr>\n",
       "      <th>2013-01-06</th>\n",
       "      <td>0.400605</td>\n",
       "      <td>-0.429306</td>\n",
       "    </tr>\n",
       "  </tbody>\n",
       "</table>\n",
       "</div>"
      ],
      "text/plain": [
       "                   B         C\n",
       "2013-01-01  1.754571 -0.549634\n",
       "2013-01-02 -0.314639 -0.324403\n",
       "2013-01-03 -0.853530 -0.563805\n",
       "2013-01-04 -1.082476  0.428321\n",
       "2013-01-05 -0.767776  1.130273\n",
       "2013-01-06  0.400605 -0.429306"
      ]
     },
     "execution_count": 33,
     "metadata": {},
     "output_type": "execute_result"
    }
   ],
   "source": [
    "df.iloc[:, 1:3]"
   ]
  },
  {
   "cell_type": "code",
   "execution_count": 34,
   "id": "a8d27176",
   "metadata": {},
   "outputs": [
    {
     "data": {
      "text/plain": [
       "-0.31463855628272946"
      ]
     },
     "execution_count": 34,
     "metadata": {},
     "output_type": "execute_result"
    }
   ],
   "source": [
    "df.iloc[1, 1]"
   ]
  },
  {
   "cell_type": "code",
   "execution_count": 35,
   "id": "0a4d4fa7",
   "metadata": {},
   "outputs": [
    {
     "data": {
      "text/plain": [
       "-0.31463855628272946"
      ]
     },
     "execution_count": 35,
     "metadata": {},
     "output_type": "execute_result"
    }
   ],
   "source": [
    "df.iat[1, 1]"
   ]
  },
  {
   "cell_type": "markdown",
   "id": "a57f8d6d",
   "metadata": {},
   "source": [
    "### Boolean Indexing"
   ]
  },
  {
   "cell_type": "code",
   "execution_count": 36,
   "id": "b8afde97",
   "metadata": {},
   "outputs": [
    {
     "data": {
      "text/html": [
       "<div>\n",
       "<style scoped>\n",
       "    .dataframe tbody tr th:only-of-type {\n",
       "        vertical-align: middle;\n",
       "    }\n",
       "\n",
       "    .dataframe tbody tr th {\n",
       "        vertical-align: top;\n",
       "    }\n",
       "\n",
       "    .dataframe thead th {\n",
       "        text-align: right;\n",
       "    }\n",
       "</style>\n",
       "<table border=\"1\" class=\"dataframe\">\n",
       "  <thead>\n",
       "    <tr style=\"text-align: right;\">\n",
       "      <th></th>\n",
       "      <th>A</th>\n",
       "      <th>B</th>\n",
       "      <th>C</th>\n",
       "      <th>D</th>\n",
       "    </tr>\n",
       "  </thead>\n",
       "  <tbody>\n",
       "    <tr>\n",
       "      <th>2013-01-01</th>\n",
       "      <td>0.862078</td>\n",
       "      <td>1.754571</td>\n",
       "      <td>-0.549634</td>\n",
       "      <td>0.626582</td>\n",
       "    </tr>\n",
       "    <tr>\n",
       "      <th>2013-01-06</th>\n",
       "      <td>0.036606</td>\n",
       "      <td>0.400605</td>\n",
       "      <td>-0.429306</td>\n",
       "      <td>-0.535583</td>\n",
       "    </tr>\n",
       "  </tbody>\n",
       "</table>\n",
       "</div>"
      ],
      "text/plain": [
       "                   A         B         C         D\n",
       "2013-01-01  0.862078  1.754571 -0.549634  0.626582\n",
       "2013-01-06  0.036606  0.400605 -0.429306 -0.535583"
      ]
     },
     "execution_count": 36,
     "metadata": {},
     "output_type": "execute_result"
    }
   ],
   "source": [
    "#alle Zeilen und Spalten, in denen B > 0\n",
    "df[df['B'] > 0] "
   ]
  },
  {
   "cell_type": "code",
   "execution_count": 37,
   "id": "dc6e3ce3",
   "metadata": {},
   "outputs": [
    {
     "data": {
      "text/html": [
       "<div>\n",
       "<style scoped>\n",
       "    .dataframe tbody tr th:only-of-type {\n",
       "        vertical-align: middle;\n",
       "    }\n",
       "\n",
       "    .dataframe tbody tr th {\n",
       "        vertical-align: top;\n",
       "    }\n",
       "\n",
       "    .dataframe thead th {\n",
       "        text-align: right;\n",
       "    }\n",
       "</style>\n",
       "<table border=\"1\" class=\"dataframe\">\n",
       "  <thead>\n",
       "    <tr style=\"text-align: right;\">\n",
       "      <th></th>\n",
       "      <th>A</th>\n",
       "      <th>B</th>\n",
       "      <th>C</th>\n",
       "      <th>D</th>\n",
       "    </tr>\n",
       "  </thead>\n",
       "  <tbody>\n",
       "    <tr>\n",
       "      <th>2013-01-01</th>\n",
       "      <td>0.862078</td>\n",
       "      <td>1.754571</td>\n",
       "      <td>NaN</td>\n",
       "      <td>0.626582</td>\n",
       "    </tr>\n",
       "    <tr>\n",
       "      <th>2013-01-02</th>\n",
       "      <td>NaN</td>\n",
       "      <td>NaN</td>\n",
       "      <td>NaN</td>\n",
       "      <td>NaN</td>\n",
       "    </tr>\n",
       "    <tr>\n",
       "      <th>2013-01-03</th>\n",
       "      <td>0.125914</td>\n",
       "      <td>NaN</td>\n",
       "      <td>NaN</td>\n",
       "      <td>NaN</td>\n",
       "    </tr>\n",
       "    <tr>\n",
       "      <th>2013-01-04</th>\n",
       "      <td>NaN</td>\n",
       "      <td>NaN</td>\n",
       "      <td>0.428321</td>\n",
       "      <td>NaN</td>\n",
       "    </tr>\n",
       "    <tr>\n",
       "      <th>2013-01-05</th>\n",
       "      <td>2.257986</td>\n",
       "      <td>NaN</td>\n",
       "      <td>1.130273</td>\n",
       "      <td>0.847012</td>\n",
       "    </tr>\n",
       "    <tr>\n",
       "      <th>2013-01-06</th>\n",
       "      <td>0.036606</td>\n",
       "      <td>0.400605</td>\n",
       "      <td>NaN</td>\n",
       "      <td>NaN</td>\n",
       "    </tr>\n",
       "  </tbody>\n",
       "</table>\n",
       "</div>"
      ],
      "text/plain": [
       "                   A         B         C         D\n",
       "2013-01-01  0.862078  1.754571       NaN  0.626582\n",
       "2013-01-02       NaN       NaN       NaN       NaN\n",
       "2013-01-03  0.125914       NaN       NaN       NaN\n",
       "2013-01-04       NaN       NaN  0.428321       NaN\n",
       "2013-01-05  2.257986       NaN  1.130273  0.847012\n",
       "2013-01-06  0.036606  0.400605       NaN       NaN"
      ]
     },
     "execution_count": 37,
     "metadata": {},
     "output_type": "execute_result"
    }
   ],
   "source": [
    "#alle Werte auswählen, wo eine allgemeine Boolean-Bedingung zutrifft\n",
    "df[df > 0]"
   ]
  },
  {
   "cell_type": "markdown",
   "id": "67adac22",
   "metadata": {},
   "source": [
    "### Werte als Index überschreiben und dann abrufen"
   ]
  },
  {
   "cell_type": "code",
   "execution_count": 38,
   "id": "ddaec49e",
   "metadata": {},
   "outputs": [
    {
     "data": {
      "text/html": [
       "<div>\n",
       "<style scoped>\n",
       "    .dataframe tbody tr th:only-of-type {\n",
       "        vertical-align: middle;\n",
       "    }\n",
       "\n",
       "    .dataframe tbody tr th {\n",
       "        vertical-align: top;\n",
       "    }\n",
       "\n",
       "    .dataframe thead th {\n",
       "        text-align: right;\n",
       "    }\n",
       "</style>\n",
       "<table border=\"1\" class=\"dataframe\">\n",
       "  <thead>\n",
       "    <tr style=\"text-align: right;\">\n",
       "      <th></th>\n",
       "      <th>A</th>\n",
       "      <th>B</th>\n",
       "      <th>C</th>\n",
       "      <th>D</th>\n",
       "      <th>E</th>\n",
       "    </tr>\n",
       "  </thead>\n",
       "  <tbody>\n",
       "    <tr>\n",
       "      <th>2013-01-01</th>\n",
       "      <td>0.862078</td>\n",
       "      <td>1.754571</td>\n",
       "      <td>-0.549634</td>\n",
       "      <td>0.626582</td>\n",
       "      <td>one</td>\n",
       "    </tr>\n",
       "    <tr>\n",
       "      <th>2013-01-02</th>\n",
       "      <td>-0.926260</td>\n",
       "      <td>-0.314639</td>\n",
       "      <td>-0.324403</td>\n",
       "      <td>-0.561541</td>\n",
       "      <td>one</td>\n",
       "    </tr>\n",
       "    <tr>\n",
       "      <th>2013-01-03</th>\n",
       "      <td>0.125914</td>\n",
       "      <td>-0.853530</td>\n",
       "      <td>-0.563805</td>\n",
       "      <td>-1.278426</td>\n",
       "      <td>two</td>\n",
       "    </tr>\n",
       "    <tr>\n",
       "      <th>2013-01-04</th>\n",
       "      <td>-0.085976</td>\n",
       "      <td>-1.082476</td>\n",
       "      <td>0.428321</td>\n",
       "      <td>-1.323398</td>\n",
       "      <td>three</td>\n",
       "    </tr>\n",
       "    <tr>\n",
       "      <th>2013-01-05</th>\n",
       "      <td>2.257986</td>\n",
       "      <td>-0.767776</td>\n",
       "      <td>1.130273</td>\n",
       "      <td>0.847012</td>\n",
       "      <td>four</td>\n",
       "    </tr>\n",
       "    <tr>\n",
       "      <th>2013-01-06</th>\n",
       "      <td>0.036606</td>\n",
       "      <td>0.400605</td>\n",
       "      <td>-0.429306</td>\n",
       "      <td>-0.535583</td>\n",
       "      <td>three</td>\n",
       "    </tr>\n",
       "  </tbody>\n",
       "</table>\n",
       "</div>"
      ],
      "text/plain": [
       "                   A         B         C         D      E\n",
       "2013-01-01  0.862078  1.754571 -0.549634  0.626582    one\n",
       "2013-01-02 -0.926260 -0.314639 -0.324403 -0.561541    one\n",
       "2013-01-03  0.125914 -0.853530 -0.563805 -1.278426    two\n",
       "2013-01-04 -0.085976 -1.082476  0.428321 -1.323398  three\n",
       "2013-01-05  2.257986 -0.767776  1.130273  0.847012   four\n",
       "2013-01-06  0.036606  0.400605 -0.429306 -0.535583  three"
      ]
     },
     "execution_count": 38,
     "metadata": {},
     "output_type": "execute_result"
    }
   ],
   "source": [
    "df2 = df.copy()\n",
    "df2['E'] = ['one', 'one', 'two', 'three', 'four', 'three']\n",
    "df2"
   ]
  },
  {
   "cell_type": "code",
   "execution_count": 39,
   "id": "b7e1c355",
   "metadata": {},
   "outputs": [
    {
     "data": {
      "text/html": [
       "<div>\n",
       "<style scoped>\n",
       "    .dataframe tbody tr th:only-of-type {\n",
       "        vertical-align: middle;\n",
       "    }\n",
       "\n",
       "    .dataframe tbody tr th {\n",
       "        vertical-align: top;\n",
       "    }\n",
       "\n",
       "    .dataframe thead th {\n",
       "        text-align: right;\n",
       "    }\n",
       "</style>\n",
       "<table border=\"1\" class=\"dataframe\">\n",
       "  <thead>\n",
       "    <tr style=\"text-align: right;\">\n",
       "      <th></th>\n",
       "      <th>A</th>\n",
       "      <th>B</th>\n",
       "      <th>C</th>\n",
       "      <th>D</th>\n",
       "      <th>E</th>\n",
       "    </tr>\n",
       "  </thead>\n",
       "  <tbody>\n",
       "    <tr>\n",
       "      <th>2013-01-03</th>\n",
       "      <td>0.125914</td>\n",
       "      <td>-0.853530</td>\n",
       "      <td>-0.563805</td>\n",
       "      <td>-1.278426</td>\n",
       "      <td>two</td>\n",
       "    </tr>\n",
       "    <tr>\n",
       "      <th>2013-01-05</th>\n",
       "      <td>2.257986</td>\n",
       "      <td>-0.767776</td>\n",
       "      <td>1.130273</td>\n",
       "      <td>0.847012</td>\n",
       "      <td>four</td>\n",
       "    </tr>\n",
       "  </tbody>\n",
       "</table>\n",
       "</div>"
      ],
      "text/plain": [
       "                   A         B         C         D     E\n",
       "2013-01-03  0.125914 -0.853530 -0.563805 -1.278426   two\n",
       "2013-01-05  2.257986 -0.767776  1.130273  0.847012  four"
      ]
     },
     "execution_count": 39,
     "metadata": {},
     "output_type": "execute_result"
    }
   ],
   "source": [
    "df2[df2['E'].isin(['two', 'four'])]"
   ]
  },
  {
   "cell_type": "markdown",
   "id": "e6be1d3c",
   "metadata": {},
   "source": [
    "### Spalten erstellen"
   ]
  },
  {
   "cell_type": "code",
   "execution_count": 40,
   "id": "b25ac446",
   "metadata": {},
   "outputs": [],
   "source": [
    "#neue spalte erstellen\n",
    "s1 = pd.Series([1, 2, 3, 4, 5, 6], index=pd.date_range('20130101', periods=6)) #ziffer 2013... wird automatisch hochgezählt"
   ]
  },
  {
   "cell_type": "code",
   "execution_count": 41,
   "id": "5da1287a",
   "metadata": {},
   "outputs": [
    {
     "data": {
      "text/plain": [
       "2013-01-01    1\n",
       "2013-01-02    2\n",
       "2013-01-03    3\n",
       "2013-01-04    4\n",
       "2013-01-05    5\n",
       "2013-01-06    6\n",
       "Freq: D, dtype: int64"
      ]
     },
     "execution_count": 41,
     "metadata": {},
     "output_type": "execute_result"
    }
   ],
   "source": [
    "s1"
   ]
  },
  {
   "cell_type": "code",
   "execution_count": 42,
   "id": "bc32de2b",
   "metadata": {},
   "outputs": [],
   "source": [
    "df['F'] = s1"
   ]
  },
  {
   "cell_type": "code",
   "execution_count": 43,
   "id": "cc9ec421",
   "metadata": {},
   "outputs": [],
   "source": [
    "#werte nach beschriftung festsetzen\n",
    "df.at[dates[0], 'A'] = 0"
   ]
  },
  {
   "cell_type": "code",
   "execution_count": 44,
   "id": "9e35d4a9",
   "metadata": {},
   "outputs": [],
   "source": [
    "#werte nach position erstellen\n",
    "df.iat[0, 1] = 0"
   ]
  },
  {
   "cell_type": "code",
   "execution_count": 45,
   "id": "d3471b84",
   "metadata": {},
   "outputs": [],
   "source": [
    "#erstellen über numpy array\n",
    "df.loc[:, 'D'] = np.array([5] * len(df))"
   ]
  },
  {
   "cell_type": "code",
   "execution_count": 46,
   "id": "b78c12c3",
   "metadata": {},
   "outputs": [
    {
     "data": {
      "text/html": [
       "<div>\n",
       "<style scoped>\n",
       "    .dataframe tbody tr th:only-of-type {\n",
       "        vertical-align: middle;\n",
       "    }\n",
       "\n",
       "    .dataframe tbody tr th {\n",
       "        vertical-align: top;\n",
       "    }\n",
       "\n",
       "    .dataframe thead th {\n",
       "        text-align: right;\n",
       "    }\n",
       "</style>\n",
       "<table border=\"1\" class=\"dataframe\">\n",
       "  <thead>\n",
       "    <tr style=\"text-align: right;\">\n",
       "      <th></th>\n",
       "      <th>A</th>\n",
       "      <th>B</th>\n",
       "      <th>C</th>\n",
       "      <th>D</th>\n",
       "      <th>F</th>\n",
       "    </tr>\n",
       "  </thead>\n",
       "  <tbody>\n",
       "    <tr>\n",
       "      <th>2013-01-01</th>\n",
       "      <td>0.000000</td>\n",
       "      <td>0.000000</td>\n",
       "      <td>-0.549634</td>\n",
       "      <td>5</td>\n",
       "      <td>1</td>\n",
       "    </tr>\n",
       "    <tr>\n",
       "      <th>2013-01-02</th>\n",
       "      <td>-0.926260</td>\n",
       "      <td>-0.314639</td>\n",
       "      <td>-0.324403</td>\n",
       "      <td>5</td>\n",
       "      <td>2</td>\n",
       "    </tr>\n",
       "    <tr>\n",
       "      <th>2013-01-03</th>\n",
       "      <td>0.125914</td>\n",
       "      <td>-0.853530</td>\n",
       "      <td>-0.563805</td>\n",
       "      <td>5</td>\n",
       "      <td>3</td>\n",
       "    </tr>\n",
       "    <tr>\n",
       "      <th>2013-01-04</th>\n",
       "      <td>-0.085976</td>\n",
       "      <td>-1.082476</td>\n",
       "      <td>0.428321</td>\n",
       "      <td>5</td>\n",
       "      <td>4</td>\n",
       "    </tr>\n",
       "    <tr>\n",
       "      <th>2013-01-05</th>\n",
       "      <td>2.257986</td>\n",
       "      <td>-0.767776</td>\n",
       "      <td>1.130273</td>\n",
       "      <td>5</td>\n",
       "      <td>5</td>\n",
       "    </tr>\n",
       "    <tr>\n",
       "      <th>2013-01-06</th>\n",
       "      <td>0.036606</td>\n",
       "      <td>0.400605</td>\n",
       "      <td>-0.429306</td>\n",
       "      <td>5</td>\n",
       "      <td>6</td>\n",
       "    </tr>\n",
       "  </tbody>\n",
       "</table>\n",
       "</div>"
      ],
      "text/plain": [
       "                   A         B         C  D  F\n",
       "2013-01-01  0.000000  0.000000 -0.549634  5  1\n",
       "2013-01-02 -0.926260 -0.314639 -0.324403  5  2\n",
       "2013-01-03  0.125914 -0.853530 -0.563805  5  3\n",
       "2013-01-04 -0.085976 -1.082476  0.428321  5  4\n",
       "2013-01-05  2.257986 -0.767776  1.130273  5  5\n",
       "2013-01-06  0.036606  0.400605 -0.429306  5  6"
      ]
     },
     "execution_count": 46,
     "metadata": {},
     "output_type": "execute_result"
    }
   ],
   "source": [
    "#gesamtergebnis der operationen darüber:\n",
    "df"
   ]
  },
  {
   "cell_type": "code",
   "execution_count": 47,
   "id": "673fc1f8",
   "metadata": {},
   "outputs": [
    {
     "data": {
      "text/html": [
       "<div>\n",
       "<style scoped>\n",
       "    .dataframe tbody tr th:only-of-type {\n",
       "        vertical-align: middle;\n",
       "    }\n",
       "\n",
       "    .dataframe tbody tr th {\n",
       "        vertical-align: top;\n",
       "    }\n",
       "\n",
       "    .dataframe thead th {\n",
       "        text-align: right;\n",
       "    }\n",
       "</style>\n",
       "<table border=\"1\" class=\"dataframe\">\n",
       "  <thead>\n",
       "    <tr style=\"text-align: right;\">\n",
       "      <th></th>\n",
       "      <th>A</th>\n",
       "      <th>B</th>\n",
       "      <th>C</th>\n",
       "      <th>D</th>\n",
       "      <th>F</th>\n",
       "    </tr>\n",
       "  </thead>\n",
       "  <tbody>\n",
       "    <tr>\n",
       "      <th>2013-01-01</th>\n",
       "      <td>0.000000</td>\n",
       "      <td>0.000000</td>\n",
       "      <td>-0.549634</td>\n",
       "      <td>-5</td>\n",
       "      <td>-1</td>\n",
       "    </tr>\n",
       "    <tr>\n",
       "      <th>2013-01-02</th>\n",
       "      <td>-0.926260</td>\n",
       "      <td>-0.314639</td>\n",
       "      <td>-0.324403</td>\n",
       "      <td>-5</td>\n",
       "      <td>-2</td>\n",
       "    </tr>\n",
       "    <tr>\n",
       "      <th>2013-01-03</th>\n",
       "      <td>-0.125914</td>\n",
       "      <td>-0.853530</td>\n",
       "      <td>-0.563805</td>\n",
       "      <td>-5</td>\n",
       "      <td>-3</td>\n",
       "    </tr>\n",
       "    <tr>\n",
       "      <th>2013-01-04</th>\n",
       "      <td>-0.085976</td>\n",
       "      <td>-1.082476</td>\n",
       "      <td>-0.428321</td>\n",
       "      <td>-5</td>\n",
       "      <td>-4</td>\n",
       "    </tr>\n",
       "    <tr>\n",
       "      <th>2013-01-05</th>\n",
       "      <td>-2.257986</td>\n",
       "      <td>-0.767776</td>\n",
       "      <td>-1.130273</td>\n",
       "      <td>-5</td>\n",
       "      <td>-5</td>\n",
       "    </tr>\n",
       "    <tr>\n",
       "      <th>2013-01-06</th>\n",
       "      <td>-0.036606</td>\n",
       "      <td>-0.400605</td>\n",
       "      <td>-0.429306</td>\n",
       "      <td>-5</td>\n",
       "      <td>-6</td>\n",
       "    </tr>\n",
       "  </tbody>\n",
       "</table>\n",
       "</div>"
      ],
      "text/plain": [
       "                   A         B         C  D  F\n",
       "2013-01-01  0.000000  0.000000 -0.549634 -5 -1\n",
       "2013-01-02 -0.926260 -0.314639 -0.324403 -5 -2\n",
       "2013-01-03 -0.125914 -0.853530 -0.563805 -5 -3\n",
       "2013-01-04 -0.085976 -1.082476 -0.428321 -5 -4\n",
       "2013-01-05 -2.257986 -0.767776 -1.130273 -5 -5\n",
       "2013-01-06 -0.036606 -0.400605 -0.429306 -5 -6"
      ]
     },
     "execution_count": 47,
     "metadata": {},
     "output_type": "execute_result"
    }
   ],
   "source": [
    "#where-operation\n",
    "df2 = df.copy()\n",
    "df2[df2 > 0] = -df2\n",
    "df2"
   ]
  },
  {
   "cell_type": "markdown",
   "id": "d0bb63b0",
   "metadata": {},
   "source": [
    "### Fehlende Daten"
   ]
  },
  {
   "cell_type": "code",
   "execution_count": 48,
   "id": "a20975e0",
   "metadata": {},
   "outputs": [
    {
     "data": {
      "text/html": [
       "<div>\n",
       "<style scoped>\n",
       "    .dataframe tbody tr th:only-of-type {\n",
       "        vertical-align: middle;\n",
       "    }\n",
       "\n",
       "    .dataframe tbody tr th {\n",
       "        vertical-align: top;\n",
       "    }\n",
       "\n",
       "    .dataframe thead th {\n",
       "        text-align: right;\n",
       "    }\n",
       "</style>\n",
       "<table border=\"1\" class=\"dataframe\">\n",
       "  <thead>\n",
       "    <tr style=\"text-align: right;\">\n",
       "      <th></th>\n",
       "      <th>A</th>\n",
       "      <th>B</th>\n",
       "      <th>C</th>\n",
       "      <th>D</th>\n",
       "      <th>F</th>\n",
       "      <th>E</th>\n",
       "    </tr>\n",
       "  </thead>\n",
       "  <tbody>\n",
       "    <tr>\n",
       "      <th>2013-01-01</th>\n",
       "      <td>0.000000</td>\n",
       "      <td>0.000000</td>\n",
       "      <td>-0.549634</td>\n",
       "      <td>5</td>\n",
       "      <td>1</td>\n",
       "      <td>1.0</td>\n",
       "    </tr>\n",
       "    <tr>\n",
       "      <th>2013-01-02</th>\n",
       "      <td>-0.926260</td>\n",
       "      <td>-0.314639</td>\n",
       "      <td>-0.324403</td>\n",
       "      <td>5</td>\n",
       "      <td>2</td>\n",
       "      <td>1.0</td>\n",
       "    </tr>\n",
       "    <tr>\n",
       "      <th>2013-01-03</th>\n",
       "      <td>0.125914</td>\n",
       "      <td>-0.853530</td>\n",
       "      <td>-0.563805</td>\n",
       "      <td>5</td>\n",
       "      <td>3</td>\n",
       "      <td>NaN</td>\n",
       "    </tr>\n",
       "    <tr>\n",
       "      <th>2013-01-04</th>\n",
       "      <td>-0.085976</td>\n",
       "      <td>-1.082476</td>\n",
       "      <td>0.428321</td>\n",
       "      <td>5</td>\n",
       "      <td>4</td>\n",
       "      <td>NaN</td>\n",
       "    </tr>\n",
       "  </tbody>\n",
       "</table>\n",
       "</div>"
      ],
      "text/plain": [
       "                   A         B         C  D  F    E\n",
       "2013-01-01  0.000000  0.000000 -0.549634  5  1  1.0\n",
       "2013-01-02 -0.926260 -0.314639 -0.324403  5  2  1.0\n",
       "2013-01-03  0.125914 -0.853530 -0.563805  5  3  NaN\n",
       "2013-01-04 -0.085976 -1.082476  0.428321  5  4  NaN"
      ]
     },
     "execution_count": 48,
     "metadata": {},
     "output_type": "execute_result"
    }
   ],
   "source": [
    "#np.nan repräsentiert fehlende daten\n",
    "#reindexing nötig, um fehlende daten verarbeiten zu können\n",
    "df1 = df.reindex(index=dates[0:4], columns=list(df.columns) + ['E'])\n",
    "\n",
    "df1.loc[dates[0] : dates[1], 'E'] = 1\n",
    "\n",
    "df1"
   ]
  },
  {
   "cell_type": "markdown",
   "id": "8044ae0a",
   "metadata": {},
   "source": [
    "### Zeilen mit fehlenden Daten ignorieren"
   ]
  },
  {
   "cell_type": "code",
   "execution_count": 49,
   "id": "368a3936",
   "metadata": {},
   "outputs": [
    {
     "data": {
      "text/html": [
       "<div>\n",
       "<style scoped>\n",
       "    .dataframe tbody tr th:only-of-type {\n",
       "        vertical-align: middle;\n",
       "    }\n",
       "\n",
       "    .dataframe tbody tr th {\n",
       "        vertical-align: top;\n",
       "    }\n",
       "\n",
       "    .dataframe thead th {\n",
       "        text-align: right;\n",
       "    }\n",
       "</style>\n",
       "<table border=\"1\" class=\"dataframe\">\n",
       "  <thead>\n",
       "    <tr style=\"text-align: right;\">\n",
       "      <th></th>\n",
       "      <th>A</th>\n",
       "      <th>B</th>\n",
       "      <th>C</th>\n",
       "      <th>D</th>\n",
       "      <th>F</th>\n",
       "      <th>E</th>\n",
       "    </tr>\n",
       "  </thead>\n",
       "  <tbody>\n",
       "    <tr>\n",
       "      <th>2013-01-01</th>\n",
       "      <td>0.00000</td>\n",
       "      <td>0.000000</td>\n",
       "      <td>-0.549634</td>\n",
       "      <td>5</td>\n",
       "      <td>1</td>\n",
       "      <td>1.0</td>\n",
       "    </tr>\n",
       "    <tr>\n",
       "      <th>2013-01-02</th>\n",
       "      <td>-0.92626</td>\n",
       "      <td>-0.314639</td>\n",
       "      <td>-0.324403</td>\n",
       "      <td>5</td>\n",
       "      <td>2</td>\n",
       "      <td>1.0</td>\n",
       "    </tr>\n",
       "  </tbody>\n",
       "</table>\n",
       "</div>"
      ],
      "text/plain": [
       "                  A         B         C  D  F    E\n",
       "2013-01-01  0.00000  0.000000 -0.549634  5  1  1.0\n",
       "2013-01-02 -0.92626 -0.314639 -0.324403  5  2  1.0"
      ]
     },
     "execution_count": 49,
     "metadata": {},
     "output_type": "execute_result"
    }
   ],
   "source": [
    "df1.dropna(how='any')"
   ]
  },
  {
   "cell_type": "markdown",
   "id": "63a65667",
   "metadata": {},
   "source": [
    "### Fehlende Daten mit bestimmtem Wert auffüllen"
   ]
  },
  {
   "cell_type": "code",
   "execution_count": 50,
   "id": "0bf12fb4",
   "metadata": {},
   "outputs": [
    {
     "data": {
      "text/html": [
       "<div>\n",
       "<style scoped>\n",
       "    .dataframe tbody tr th:only-of-type {\n",
       "        vertical-align: middle;\n",
       "    }\n",
       "\n",
       "    .dataframe tbody tr th {\n",
       "        vertical-align: top;\n",
       "    }\n",
       "\n",
       "    .dataframe thead th {\n",
       "        text-align: right;\n",
       "    }\n",
       "</style>\n",
       "<table border=\"1\" class=\"dataframe\">\n",
       "  <thead>\n",
       "    <tr style=\"text-align: right;\">\n",
       "      <th></th>\n",
       "      <th>A</th>\n",
       "      <th>B</th>\n",
       "      <th>C</th>\n",
       "      <th>D</th>\n",
       "      <th>F</th>\n",
       "      <th>E</th>\n",
       "    </tr>\n",
       "  </thead>\n",
       "  <tbody>\n",
       "    <tr>\n",
       "      <th>2013-01-01</th>\n",
       "      <td>0.000000</td>\n",
       "      <td>0.000000</td>\n",
       "      <td>-0.549634</td>\n",
       "      <td>5</td>\n",
       "      <td>1</td>\n",
       "      <td>1.0</td>\n",
       "    </tr>\n",
       "    <tr>\n",
       "      <th>2013-01-02</th>\n",
       "      <td>-0.926260</td>\n",
       "      <td>-0.314639</td>\n",
       "      <td>-0.324403</td>\n",
       "      <td>5</td>\n",
       "      <td>2</td>\n",
       "      <td>1.0</td>\n",
       "    </tr>\n",
       "    <tr>\n",
       "      <th>2013-01-03</th>\n",
       "      <td>0.125914</td>\n",
       "      <td>-0.853530</td>\n",
       "      <td>-0.563805</td>\n",
       "      <td>5</td>\n",
       "      <td>3</td>\n",
       "      <td>42.0</td>\n",
       "    </tr>\n",
       "    <tr>\n",
       "      <th>2013-01-04</th>\n",
       "      <td>-0.085976</td>\n",
       "      <td>-1.082476</td>\n",
       "      <td>0.428321</td>\n",
       "      <td>5</td>\n",
       "      <td>4</td>\n",
       "      <td>42.0</td>\n",
       "    </tr>\n",
       "  </tbody>\n",
       "</table>\n",
       "</div>"
      ],
      "text/plain": [
       "                   A         B         C  D  F     E\n",
       "2013-01-01  0.000000  0.000000 -0.549634  5  1   1.0\n",
       "2013-01-02 -0.926260 -0.314639 -0.324403  5  2   1.0\n",
       "2013-01-03  0.125914 -0.853530 -0.563805  5  3  42.0\n",
       "2013-01-04 -0.085976 -1.082476  0.428321  5  4  42.0"
      ]
     },
     "execution_count": 50,
     "metadata": {},
     "output_type": "execute_result"
    }
   ],
   "source": [
    "df1.fillna(value=42)"
   ]
  },
  {
   "cell_type": "markdown",
   "id": "2841f8f4",
   "metadata": {},
   "source": [
    "### Fehlende Daten über Boolean prüfen"
   ]
  },
  {
   "cell_type": "code",
   "execution_count": 51,
   "id": "1d8ed393",
   "metadata": {},
   "outputs": [
    {
     "data": {
      "text/html": [
       "<div>\n",
       "<style scoped>\n",
       "    .dataframe tbody tr th:only-of-type {\n",
       "        vertical-align: middle;\n",
       "    }\n",
       "\n",
       "    .dataframe tbody tr th {\n",
       "        vertical-align: top;\n",
       "    }\n",
       "\n",
       "    .dataframe thead th {\n",
       "        text-align: right;\n",
       "    }\n",
       "</style>\n",
       "<table border=\"1\" class=\"dataframe\">\n",
       "  <thead>\n",
       "    <tr style=\"text-align: right;\">\n",
       "      <th></th>\n",
       "      <th>A</th>\n",
       "      <th>B</th>\n",
       "      <th>C</th>\n",
       "      <th>D</th>\n",
       "      <th>F</th>\n",
       "      <th>E</th>\n",
       "    </tr>\n",
       "  </thead>\n",
       "  <tbody>\n",
       "    <tr>\n",
       "      <th>2013-01-01</th>\n",
       "      <td>False</td>\n",
       "      <td>False</td>\n",
       "      <td>False</td>\n",
       "      <td>False</td>\n",
       "      <td>False</td>\n",
       "      <td>False</td>\n",
       "    </tr>\n",
       "    <tr>\n",
       "      <th>2013-01-02</th>\n",
       "      <td>False</td>\n",
       "      <td>False</td>\n",
       "      <td>False</td>\n",
       "      <td>False</td>\n",
       "      <td>False</td>\n",
       "      <td>False</td>\n",
       "    </tr>\n",
       "    <tr>\n",
       "      <th>2013-01-03</th>\n",
       "      <td>False</td>\n",
       "      <td>False</td>\n",
       "      <td>False</td>\n",
       "      <td>False</td>\n",
       "      <td>False</td>\n",
       "      <td>True</td>\n",
       "    </tr>\n",
       "    <tr>\n",
       "      <th>2013-01-04</th>\n",
       "      <td>False</td>\n",
       "      <td>False</td>\n",
       "      <td>False</td>\n",
       "      <td>False</td>\n",
       "      <td>False</td>\n",
       "      <td>True</td>\n",
       "    </tr>\n",
       "  </tbody>\n",
       "</table>\n",
       "</div>"
      ],
      "text/plain": [
       "                A      B      C      D      F      E\n",
       "2013-01-01  False  False  False  False  False  False\n",
       "2013-01-02  False  False  False  False  False  False\n",
       "2013-01-03  False  False  False  False  False   True\n",
       "2013-01-04  False  False  False  False  False   True"
      ]
     },
     "execution_count": 51,
     "metadata": {},
     "output_type": "execute_result"
    }
   ],
   "source": [
    "pd.isna(df1)"
   ]
  },
  {
   "cell_type": "markdown",
   "id": "c046fdf7",
   "metadata": {},
   "source": [
    "### Operations"
   ]
  },
  {
   "cell_type": "markdown",
   "id": "e1e075ab",
   "metadata": {},
   "source": [
    "##### Stats: Mittelwert"
   ]
  },
  {
   "cell_type": "code",
   "execution_count": 52,
   "id": "8e2ab8ef",
   "metadata": {},
   "outputs": [
    {
     "data": {
      "text/plain": [
       "A    0.234712\n",
       "B   -0.436303\n",
       "C   -0.051426\n",
       "D    5.000000\n",
       "F    3.500000\n",
       "dtype: float64"
      ]
     },
     "execution_count": 52,
     "metadata": {},
     "output_type": "execute_result"
    }
   ],
   "source": [
    "df.mean() #beschreibende Statistik: Mittelwert jeder Spalte bestimmt"
   ]
  },
  {
   "cell_type": "code",
   "execution_count": 53,
   "id": "491c0f5b",
   "metadata": {},
   "outputs": [
    {
     "data": {
      "text/plain": [
       "2013-01-01    1.090073\n",
       "2013-01-02    1.086940\n",
       "2013-01-03    1.341716\n",
       "2013-01-04    1.651974\n",
       "2013-01-05    2.524097\n",
       "2013-01-06    2.201581\n",
       "Freq: D, dtype: float64"
      ]
     },
     "execution_count": 53,
     "metadata": {},
     "output_type": "execute_result"
    }
   ],
   "source": [
    "df.mean(1) #Mittelwert jeder Zeile bestimmt"
   ]
  },
  {
   "cell_type": "code",
   "execution_count": 55,
   "id": "7afd4955",
   "metadata": {},
   "outputs": [
    {
     "data": {
      "text/plain": [
       "2013-01-01    NaN\n",
       "2013-01-02    NaN\n",
       "2013-01-03    1.0\n",
       "2013-01-04    3.0\n",
       "2013-01-05    5.0\n",
       "2013-01-06    NaN\n",
       "Freq: D, dtype: float64"
      ]
     },
     "execution_count": 55,
     "metadata": {},
     "output_type": "execute_result"
    }
   ],
   "source": [
    "#axis: Subtraktion wird spaltenweise durchgeführt\n",
    "s = pd.Series([1, 3, 5, np.nan, 6, 8], index=dates).shift(2)\n",
    "s"
   ]
  },
  {
   "cell_type": "code",
   "execution_count": 56,
   "id": "cbb74535",
   "metadata": {},
   "outputs": [
    {
     "data": {
      "text/html": [
       "<div>\n",
       "<style scoped>\n",
       "    .dataframe tbody tr th:only-of-type {\n",
       "        vertical-align: middle;\n",
       "    }\n",
       "\n",
       "    .dataframe tbody tr th {\n",
       "        vertical-align: top;\n",
       "    }\n",
       "\n",
       "    .dataframe thead th {\n",
       "        text-align: right;\n",
       "    }\n",
       "</style>\n",
       "<table border=\"1\" class=\"dataframe\">\n",
       "  <thead>\n",
       "    <tr style=\"text-align: right;\">\n",
       "      <th></th>\n",
       "      <th>A</th>\n",
       "      <th>B</th>\n",
       "      <th>C</th>\n",
       "      <th>D</th>\n",
       "      <th>F</th>\n",
       "    </tr>\n",
       "  </thead>\n",
       "  <tbody>\n",
       "    <tr>\n",
       "      <th>2013-01-01</th>\n",
       "      <td>NaN</td>\n",
       "      <td>NaN</td>\n",
       "      <td>NaN</td>\n",
       "      <td>NaN</td>\n",
       "      <td>NaN</td>\n",
       "    </tr>\n",
       "    <tr>\n",
       "      <th>2013-01-02</th>\n",
       "      <td>NaN</td>\n",
       "      <td>NaN</td>\n",
       "      <td>NaN</td>\n",
       "      <td>NaN</td>\n",
       "      <td>NaN</td>\n",
       "    </tr>\n",
       "    <tr>\n",
       "      <th>2013-01-03</th>\n",
       "      <td>-0.874086</td>\n",
       "      <td>-1.853530</td>\n",
       "      <td>-1.563805</td>\n",
       "      <td>4.0</td>\n",
       "      <td>2.0</td>\n",
       "    </tr>\n",
       "    <tr>\n",
       "      <th>2013-01-04</th>\n",
       "      <td>-3.085976</td>\n",
       "      <td>-4.082476</td>\n",
       "      <td>-2.571679</td>\n",
       "      <td>2.0</td>\n",
       "      <td>1.0</td>\n",
       "    </tr>\n",
       "    <tr>\n",
       "      <th>2013-01-05</th>\n",
       "      <td>-2.742014</td>\n",
       "      <td>-5.767776</td>\n",
       "      <td>-3.869727</td>\n",
       "      <td>0.0</td>\n",
       "      <td>0.0</td>\n",
       "    </tr>\n",
       "    <tr>\n",
       "      <th>2013-01-06</th>\n",
       "      <td>NaN</td>\n",
       "      <td>NaN</td>\n",
       "      <td>NaN</td>\n",
       "      <td>NaN</td>\n",
       "      <td>NaN</td>\n",
       "    </tr>\n",
       "  </tbody>\n",
       "</table>\n",
       "</div>"
      ],
      "text/plain": [
       "                   A         B         C    D    F\n",
       "2013-01-01       NaN       NaN       NaN  NaN  NaN\n",
       "2013-01-02       NaN       NaN       NaN  NaN  NaN\n",
       "2013-01-03 -0.874086 -1.853530 -1.563805  4.0  2.0\n",
       "2013-01-04 -3.085976 -4.082476 -2.571679  2.0  1.0\n",
       "2013-01-05 -2.742014 -5.767776 -3.869727  0.0  0.0\n",
       "2013-01-06       NaN       NaN       NaN  NaN  NaN"
      ]
     },
     "execution_count": 56,
     "metadata": {},
     "output_type": "execute_result"
    }
   ],
   "source": [
    "df.sub(s, axis=\"index\")"
   ]
  },
  {
   "cell_type": "markdown",
   "id": "6d9573c2",
   "metadata": {},
   "source": [
    "### Apply"
   ]
  },
  {
   "cell_type": "code",
   "execution_count": 58,
   "id": "3af5313c",
   "metadata": {},
   "outputs": [
    {
     "data": {
      "text/html": [
       "<div>\n",
       "<style scoped>\n",
       "    .dataframe tbody tr th:only-of-type {\n",
       "        vertical-align: middle;\n",
       "    }\n",
       "\n",
       "    .dataframe tbody tr th {\n",
       "        vertical-align: top;\n",
       "    }\n",
       "\n",
       "    .dataframe thead th {\n",
       "        text-align: right;\n",
       "    }\n",
       "</style>\n",
       "<table border=\"1\" class=\"dataframe\">\n",
       "  <thead>\n",
       "    <tr style=\"text-align: right;\">\n",
       "      <th></th>\n",
       "      <th>A</th>\n",
       "      <th>B</th>\n",
       "      <th>C</th>\n",
       "      <th>D</th>\n",
       "      <th>F</th>\n",
       "    </tr>\n",
       "  </thead>\n",
       "  <tbody>\n",
       "    <tr>\n",
       "      <th>2013-01-01</th>\n",
       "      <td>0.000000</td>\n",
       "      <td>0.000000</td>\n",
       "      <td>-0.549634</td>\n",
       "      <td>5</td>\n",
       "      <td>1</td>\n",
       "    </tr>\n",
       "    <tr>\n",
       "      <th>2013-01-02</th>\n",
       "      <td>-0.926260</td>\n",
       "      <td>-0.314639</td>\n",
       "      <td>-0.874037</td>\n",
       "      <td>10</td>\n",
       "      <td>3</td>\n",
       "    </tr>\n",
       "    <tr>\n",
       "      <th>2013-01-03</th>\n",
       "      <td>-0.800346</td>\n",
       "      <td>-1.168169</td>\n",
       "      <td>-1.437842</td>\n",
       "      <td>15</td>\n",
       "      <td>6</td>\n",
       "    </tr>\n",
       "    <tr>\n",
       "      <th>2013-01-04</th>\n",
       "      <td>-0.886323</td>\n",
       "      <td>-2.250645</td>\n",
       "      <td>-1.009522</td>\n",
       "      <td>20</td>\n",
       "      <td>10</td>\n",
       "    </tr>\n",
       "    <tr>\n",
       "      <th>2013-01-05</th>\n",
       "      <td>1.371664</td>\n",
       "      <td>-3.018421</td>\n",
       "      <td>0.120751</td>\n",
       "      <td>25</td>\n",
       "      <td>15</td>\n",
       "    </tr>\n",
       "    <tr>\n",
       "      <th>2013-01-06</th>\n",
       "      <td>1.408270</td>\n",
       "      <td>-2.617816</td>\n",
       "      <td>-0.308555</td>\n",
       "      <td>30</td>\n",
       "      <td>21</td>\n",
       "    </tr>\n",
       "  </tbody>\n",
       "</table>\n",
       "</div>"
      ],
      "text/plain": [
       "                   A         B         C   D   F\n",
       "2013-01-01  0.000000  0.000000 -0.549634   5   1\n",
       "2013-01-02 -0.926260 -0.314639 -0.874037  10   3\n",
       "2013-01-03 -0.800346 -1.168169 -1.437842  15   6\n",
       "2013-01-04 -0.886323 -2.250645 -1.009522  20  10\n",
       "2013-01-05  1.371664 -3.018421  0.120751  25  15\n",
       "2013-01-06  1.408270 -2.617816 -0.308555  30  21"
      ]
     },
     "execution_count": 58,
     "metadata": {},
     "output_type": "execute_result"
    }
   ],
   "source": [
    "df.apply(np.cumsum)"
   ]
  },
  {
   "cell_type": "code",
   "execution_count": 59,
   "id": "47e45188",
   "metadata": {},
   "outputs": [
    {
     "data": {
      "text/plain": [
       "A    3.184246\n",
       "B    1.483081\n",
       "C    1.694078\n",
       "D    0.000000\n",
       "F    5.000000\n",
       "dtype: float64"
      ]
     },
     "execution_count": 59,
     "metadata": {},
     "output_type": "execute_result"
    }
   ],
   "source": [
    "df.apply(lambda x: x.max() - x.min())"
   ]
  },
  {
   "cell_type": "markdown",
   "id": "c7126ee8",
   "metadata": {},
   "source": [
    "### Histogramming"
   ]
  },
  {
   "cell_type": "code",
   "execution_count": 64,
   "id": "06c5fd85",
   "metadata": {},
   "outputs": [
    {
     "data": {
      "text/plain": [
       "0    4\n",
       "1    2\n",
       "2    2\n",
       "3    1\n",
       "4    3\n",
       "5    1\n",
       "6    0\n",
       "7    1\n",
       "8    3\n",
       "9    0\n",
       "dtype: int32"
      ]
     },
     "execution_count": 64,
     "metadata": {},
     "output_type": "execute_result"
    }
   ],
   "source": [
    "s = pd.Series(np.random.randint(0, 7, size=10)) #size gibt anzahl der zeilen an\n",
    "s"
   ]
  },
  {
   "cell_type": "code",
   "execution_count": 65,
   "id": "77c5f1f7",
   "metadata": {},
   "outputs": [
    {
     "data": {
      "text/plain": [
       "1    3\n",
       "2    2\n",
       "3    2\n",
       "0    2\n",
       "4    1\n",
       "dtype: int64"
      ]
     },
     "execution_count": 65,
     "metadata": {},
     "output_type": "execute_result"
    }
   ],
   "source": [
    "s.value_counts() #zählt wie oft in s oben jeder wert vorkommt"
   ]
  },
  {
   "cell_type": "markdown",
   "id": "d153a9f2",
   "metadata": {},
   "source": [
    "##### String Methods"
   ]
  },
  {
   "cell_type": "code",
   "execution_count": 67,
   "id": "64ac17c5",
   "metadata": {},
   "outputs": [
    {
     "data": {
      "text/plain": [
       "0       a\n",
       "1       b\n",
       "2       c\n",
       "3    aaba\n",
       "4    baca\n",
       "5     NaN\n",
       "6     cab\n",
       "7     dog\n",
       "8     cat\n",
       "dtype: object"
      ]
     },
     "execution_count": 67,
     "metadata": {},
     "output_type": "execute_result"
    }
   ],
   "source": [
    "s = pd.Series(['A', 'B', 'C', 'Aaba', 'Baca', np.nan, 'CAB', 'dog', 'cat' ])\n",
    "s.str.lower()"
   ]
  },
  {
   "cell_type": "markdown",
   "id": "70a44a6f",
   "metadata": {},
   "source": [
    "### Daten zusammenfügen"
   ]
  },
  {
   "cell_type": "markdown",
   "id": "14d44940",
   "metadata": {},
   "source": [
    "##### Verbinden"
   ]
  },
  {
   "cell_type": "code",
   "execution_count": 68,
   "id": "8c613bdc",
   "metadata": {},
   "outputs": [
    {
     "data": {
      "text/html": [
       "<div>\n",
       "<style scoped>\n",
       "    .dataframe tbody tr th:only-of-type {\n",
       "        vertical-align: middle;\n",
       "    }\n",
       "\n",
       "    .dataframe tbody tr th {\n",
       "        vertical-align: top;\n",
       "    }\n",
       "\n",
       "    .dataframe thead th {\n",
       "        text-align: right;\n",
       "    }\n",
       "</style>\n",
       "<table border=\"1\" class=\"dataframe\">\n",
       "  <thead>\n",
       "    <tr style=\"text-align: right;\">\n",
       "      <th></th>\n",
       "      <th>0</th>\n",
       "      <th>1</th>\n",
       "      <th>2</th>\n",
       "      <th>3</th>\n",
       "    </tr>\n",
       "  </thead>\n",
       "  <tbody>\n",
       "    <tr>\n",
       "      <th>0</th>\n",
       "      <td>0.953363</td>\n",
       "      <td>0.748267</td>\n",
       "      <td>-1.141602</td>\n",
       "      <td>0.441583</td>\n",
       "    </tr>\n",
       "    <tr>\n",
       "      <th>1</th>\n",
       "      <td>-0.778894</td>\n",
       "      <td>1.207794</td>\n",
       "      <td>0.778726</td>\n",
       "      <td>-0.601067</td>\n",
       "    </tr>\n",
       "    <tr>\n",
       "      <th>2</th>\n",
       "      <td>-1.015045</td>\n",
       "      <td>-0.060606</td>\n",
       "      <td>0.484130</td>\n",
       "      <td>0.459045</td>\n",
       "    </tr>\n",
       "    <tr>\n",
       "      <th>3</th>\n",
       "      <td>0.802634</td>\n",
       "      <td>-0.458910</td>\n",
       "      <td>0.471182</td>\n",
       "      <td>-0.029553</td>\n",
       "    </tr>\n",
       "    <tr>\n",
       "      <th>4</th>\n",
       "      <td>-0.046362</td>\n",
       "      <td>-0.239678</td>\n",
       "      <td>-0.806461</td>\n",
       "      <td>0.028620</td>\n",
       "    </tr>\n",
       "    <tr>\n",
       "      <th>5</th>\n",
       "      <td>0.327087</td>\n",
       "      <td>0.891707</td>\n",
       "      <td>-0.094492</td>\n",
       "      <td>0.901538</td>\n",
       "    </tr>\n",
       "    <tr>\n",
       "      <th>6</th>\n",
       "      <td>-0.746418</td>\n",
       "      <td>0.018540</td>\n",
       "      <td>0.957166</td>\n",
       "      <td>-0.834982</td>\n",
       "    </tr>\n",
       "    <tr>\n",
       "      <th>7</th>\n",
       "      <td>-1.686689</td>\n",
       "      <td>-0.202195</td>\n",
       "      <td>0.694609</td>\n",
       "      <td>0.083058</td>\n",
       "    </tr>\n",
       "    <tr>\n",
       "      <th>8</th>\n",
       "      <td>0.016110</td>\n",
       "      <td>-1.747128</td>\n",
       "      <td>-0.133199</td>\n",
       "      <td>0.881985</td>\n",
       "    </tr>\n",
       "    <tr>\n",
       "      <th>9</th>\n",
       "      <td>1.210469</td>\n",
       "      <td>0.029498</td>\n",
       "      <td>0.472246</td>\n",
       "      <td>0.476315</td>\n",
       "    </tr>\n",
       "  </tbody>\n",
       "</table>\n",
       "</div>"
      ],
      "text/plain": [
       "          0         1         2         3\n",
       "0  0.953363  0.748267 -1.141602  0.441583\n",
       "1 -0.778894  1.207794  0.778726 -0.601067\n",
       "2 -1.015045 -0.060606  0.484130  0.459045\n",
       "3  0.802634 -0.458910  0.471182 -0.029553\n",
       "4 -0.046362 -0.239678 -0.806461  0.028620\n",
       "5  0.327087  0.891707 -0.094492  0.901538\n",
       "6 -0.746418  0.018540  0.957166 -0.834982\n",
       "7 -1.686689 -0.202195  0.694609  0.083058\n",
       "8  0.016110 -1.747128 -0.133199  0.881985\n",
       "9  1.210469  0.029498  0.472246  0.476315"
      ]
     },
     "execution_count": 68,
     "metadata": {},
     "output_type": "execute_result"
    }
   ],
   "source": [
    "df = pd.DataFrame(np.random.randn(10,4))\n",
    "df"
   ]
  },
  {
   "cell_type": "code",
   "execution_count": 69,
   "id": "97687de4",
   "metadata": {},
   "outputs": [
    {
     "data": {
      "text/html": [
       "<div>\n",
       "<style scoped>\n",
       "    .dataframe tbody tr th:only-of-type {\n",
       "        vertical-align: middle;\n",
       "    }\n",
       "\n",
       "    .dataframe tbody tr th {\n",
       "        vertical-align: top;\n",
       "    }\n",
       "\n",
       "    .dataframe thead th {\n",
       "        text-align: right;\n",
       "    }\n",
       "</style>\n",
       "<table border=\"1\" class=\"dataframe\">\n",
       "  <thead>\n",
       "    <tr style=\"text-align: right;\">\n",
       "      <th></th>\n",
       "      <th>0</th>\n",
       "      <th>1</th>\n",
       "      <th>2</th>\n",
       "      <th>3</th>\n",
       "    </tr>\n",
       "  </thead>\n",
       "  <tbody>\n",
       "    <tr>\n",
       "      <th>0</th>\n",
       "      <td>0.953363</td>\n",
       "      <td>0.748267</td>\n",
       "      <td>-1.141602</td>\n",
       "      <td>0.441583</td>\n",
       "    </tr>\n",
       "    <tr>\n",
       "      <th>1</th>\n",
       "      <td>-0.778894</td>\n",
       "      <td>1.207794</td>\n",
       "      <td>0.778726</td>\n",
       "      <td>-0.601067</td>\n",
       "    </tr>\n",
       "    <tr>\n",
       "      <th>2</th>\n",
       "      <td>-1.015045</td>\n",
       "      <td>-0.060606</td>\n",
       "      <td>0.484130</td>\n",
       "      <td>0.459045</td>\n",
       "    </tr>\n",
       "    <tr>\n",
       "      <th>3</th>\n",
       "      <td>0.802634</td>\n",
       "      <td>-0.458910</td>\n",
       "      <td>0.471182</td>\n",
       "      <td>-0.029553</td>\n",
       "    </tr>\n",
       "    <tr>\n",
       "      <th>4</th>\n",
       "      <td>-0.046362</td>\n",
       "      <td>-0.239678</td>\n",
       "      <td>-0.806461</td>\n",
       "      <td>0.028620</td>\n",
       "    </tr>\n",
       "    <tr>\n",
       "      <th>5</th>\n",
       "      <td>0.327087</td>\n",
       "      <td>0.891707</td>\n",
       "      <td>-0.094492</td>\n",
       "      <td>0.901538</td>\n",
       "    </tr>\n",
       "    <tr>\n",
       "      <th>6</th>\n",
       "      <td>-0.746418</td>\n",
       "      <td>0.018540</td>\n",
       "      <td>0.957166</td>\n",
       "      <td>-0.834982</td>\n",
       "    </tr>\n",
       "    <tr>\n",
       "      <th>7</th>\n",
       "      <td>-1.686689</td>\n",
       "      <td>-0.202195</td>\n",
       "      <td>0.694609</td>\n",
       "      <td>0.083058</td>\n",
       "    </tr>\n",
       "    <tr>\n",
       "      <th>8</th>\n",
       "      <td>0.016110</td>\n",
       "      <td>-1.747128</td>\n",
       "      <td>-0.133199</td>\n",
       "      <td>0.881985</td>\n",
       "    </tr>\n",
       "    <tr>\n",
       "      <th>9</th>\n",
       "      <td>1.210469</td>\n",
       "      <td>0.029498</td>\n",
       "      <td>0.472246</td>\n",
       "      <td>0.476315</td>\n",
       "    </tr>\n",
       "  </tbody>\n",
       "</table>\n",
       "</div>"
      ],
      "text/plain": [
       "          0         1         2         3\n",
       "0  0.953363  0.748267 -1.141602  0.441583\n",
       "1 -0.778894  1.207794  0.778726 -0.601067\n",
       "2 -1.015045 -0.060606  0.484130  0.459045\n",
       "3  0.802634 -0.458910  0.471182 -0.029553\n",
       "4 -0.046362 -0.239678 -0.806461  0.028620\n",
       "5  0.327087  0.891707 -0.094492  0.901538\n",
       "6 -0.746418  0.018540  0.957166 -0.834982\n",
       "7 -1.686689 -0.202195  0.694609  0.083058\n",
       "8  0.016110 -1.747128 -0.133199  0.881985\n",
       "9  1.210469  0.029498  0.472246  0.476315"
      ]
     },
     "execution_count": 69,
     "metadata": {},
     "output_type": "execute_result"
    }
   ],
   "source": [
    "#aufteilen in kleinere einheiten\n",
    "pieces = [df[:3], df[3:7], df[7:]]\n",
    "pd.concat(pieces)"
   ]
  },
  {
   "cell_type": "markdown",
   "id": "9074f12a",
   "metadata": {},
   "source": [
    "### Join"
   ]
  },
  {
   "cell_type": "code",
   "execution_count": 73,
   "id": "90d931d7",
   "metadata": {},
   "outputs": [
    {
     "data": {
      "text/html": [
       "<div>\n",
       "<style scoped>\n",
       "    .dataframe tbody tr th:only-of-type {\n",
       "        vertical-align: middle;\n",
       "    }\n",
       "\n",
       "    .dataframe tbody tr th {\n",
       "        vertical-align: top;\n",
       "    }\n",
       "\n",
       "    .dataframe thead th {\n",
       "        text-align: right;\n",
       "    }\n",
       "</style>\n",
       "<table border=\"1\" class=\"dataframe\">\n",
       "  <thead>\n",
       "    <tr style=\"text-align: right;\">\n",
       "      <th></th>\n",
       "      <th>key</th>\n",
       "      <th>lval</th>\n",
       "    </tr>\n",
       "  </thead>\n",
       "  <tbody>\n",
       "    <tr>\n",
       "      <th>0</th>\n",
       "      <td>foo</td>\n",
       "      <td>1</td>\n",
       "    </tr>\n",
       "    <tr>\n",
       "      <th>1</th>\n",
       "      <td>foo</td>\n",
       "      <td>2</td>\n",
       "    </tr>\n",
       "  </tbody>\n",
       "</table>\n",
       "</div>"
      ],
      "text/plain": [
       "   key  lval\n",
       "0  foo     1\n",
       "1  foo     2"
      ]
     },
     "execution_count": 73,
     "metadata": {},
     "output_type": "execute_result"
    }
   ],
   "source": [
    "left = pd.DataFrame({\"key\": ['foo', 'foo'], 'lval':[1, 2]})\n",
    "right = pd.DataFrame({'key': ['foo', 'foo'], 'rval': [4, 5]})\n",
    "\n",
    "left"
   ]
  },
  {
   "cell_type": "code",
   "execution_count": 74,
   "id": "c8e5289a",
   "metadata": {},
   "outputs": [
    {
     "data": {
      "text/html": [
       "<div>\n",
       "<style scoped>\n",
       "    .dataframe tbody tr th:only-of-type {\n",
       "        vertical-align: middle;\n",
       "    }\n",
       "\n",
       "    .dataframe tbody tr th {\n",
       "        vertical-align: top;\n",
       "    }\n",
       "\n",
       "    .dataframe thead th {\n",
       "        text-align: right;\n",
       "    }\n",
       "</style>\n",
       "<table border=\"1\" class=\"dataframe\">\n",
       "  <thead>\n",
       "    <tr style=\"text-align: right;\">\n",
       "      <th></th>\n",
       "      <th>key</th>\n",
       "      <th>rval</th>\n",
       "    </tr>\n",
       "  </thead>\n",
       "  <tbody>\n",
       "    <tr>\n",
       "      <th>0</th>\n",
       "      <td>foo</td>\n",
       "      <td>4</td>\n",
       "    </tr>\n",
       "    <tr>\n",
       "      <th>1</th>\n",
       "      <td>foo</td>\n",
       "      <td>5</td>\n",
       "    </tr>\n",
       "  </tbody>\n",
       "</table>\n",
       "</div>"
      ],
      "text/plain": [
       "   key  rval\n",
       "0  foo     4\n",
       "1  foo     5"
      ]
     },
     "execution_count": 74,
     "metadata": {},
     "output_type": "execute_result"
    }
   ],
   "source": [
    "right"
   ]
  },
  {
   "cell_type": "code",
   "execution_count": 75,
   "id": "ecfc1f72",
   "metadata": {},
   "outputs": [
    {
     "data": {
      "text/html": [
       "<div>\n",
       "<style scoped>\n",
       "    .dataframe tbody tr th:only-of-type {\n",
       "        vertical-align: middle;\n",
       "    }\n",
       "\n",
       "    .dataframe tbody tr th {\n",
       "        vertical-align: top;\n",
       "    }\n",
       "\n",
       "    .dataframe thead th {\n",
       "        text-align: right;\n",
       "    }\n",
       "</style>\n",
       "<table border=\"1\" class=\"dataframe\">\n",
       "  <thead>\n",
       "    <tr style=\"text-align: right;\">\n",
       "      <th></th>\n",
       "      <th>key</th>\n",
       "      <th>lval</th>\n",
       "      <th>rval</th>\n",
       "    </tr>\n",
       "  </thead>\n",
       "  <tbody>\n",
       "    <tr>\n",
       "      <th>0</th>\n",
       "      <td>foo</td>\n",
       "      <td>1</td>\n",
       "      <td>4</td>\n",
       "    </tr>\n",
       "    <tr>\n",
       "      <th>1</th>\n",
       "      <td>foo</td>\n",
       "      <td>1</td>\n",
       "      <td>5</td>\n",
       "    </tr>\n",
       "    <tr>\n",
       "      <th>2</th>\n",
       "      <td>foo</td>\n",
       "      <td>2</td>\n",
       "      <td>4</td>\n",
       "    </tr>\n",
       "    <tr>\n",
       "      <th>3</th>\n",
       "      <td>foo</td>\n",
       "      <td>2</td>\n",
       "      <td>5</td>\n",
       "    </tr>\n",
       "  </tbody>\n",
       "</table>\n",
       "</div>"
      ],
      "text/plain": [
       "   key  lval  rval\n",
       "0  foo     1     4\n",
       "1  foo     1     5\n",
       "2  foo     2     4\n",
       "3  foo     2     5"
      ]
     },
     "execution_count": 75,
     "metadata": {},
     "output_type": "execute_result"
    }
   ],
   "source": [
    "pd.merge(left, right, on='key') #fügt beide einzeltabellen zu einer einzigen zusammen"
   ]
  },
  {
   "cell_type": "code",
   "execution_count": 76,
   "id": "bcbe51dd",
   "metadata": {},
   "outputs": [
    {
     "data": {
      "text/html": [
       "<div>\n",
       "<style scoped>\n",
       "    .dataframe tbody tr th:only-of-type {\n",
       "        vertical-align: middle;\n",
       "    }\n",
       "\n",
       "    .dataframe tbody tr th {\n",
       "        vertical-align: top;\n",
       "    }\n",
       "\n",
       "    .dataframe thead th {\n",
       "        text-align: right;\n",
       "    }\n",
       "</style>\n",
       "<table border=\"1\" class=\"dataframe\">\n",
       "  <thead>\n",
       "    <tr style=\"text-align: right;\">\n",
       "      <th></th>\n",
       "      <th>key</th>\n",
       "      <th>lval</th>\n",
       "    </tr>\n",
       "  </thead>\n",
       "  <tbody>\n",
       "    <tr>\n",
       "      <th>0</th>\n",
       "      <td>foo</td>\n",
       "      <td>1</td>\n",
       "    </tr>\n",
       "    <tr>\n",
       "      <th>1</th>\n",
       "      <td>bar</td>\n",
       "      <td>2</td>\n",
       "    </tr>\n",
       "  </tbody>\n",
       "</table>\n",
       "</div>"
      ],
      "text/plain": [
       "   key  lval\n",
       "0  foo     1\n",
       "1  bar     2"
      ]
     },
     "execution_count": 76,
     "metadata": {},
     "output_type": "execute_result"
    }
   ],
   "source": [
    "#weiteres Beispiel\n",
    "left = pd.DataFrame({\"key\": ['foo', 'bar'], 'lval':[1, 2]})\n",
    "right = pd.DataFrame({'key': ['foo', 'bar'], 'rval': [4, 5]})\n",
    "\n",
    "left"
   ]
  },
  {
   "cell_type": "code",
   "execution_count": 77,
   "id": "9f56a8de",
   "metadata": {},
   "outputs": [
    {
     "data": {
      "text/html": [
       "<div>\n",
       "<style scoped>\n",
       "    .dataframe tbody tr th:only-of-type {\n",
       "        vertical-align: middle;\n",
       "    }\n",
       "\n",
       "    .dataframe tbody tr th {\n",
       "        vertical-align: top;\n",
       "    }\n",
       "\n",
       "    .dataframe thead th {\n",
       "        text-align: right;\n",
       "    }\n",
       "</style>\n",
       "<table border=\"1\" class=\"dataframe\">\n",
       "  <thead>\n",
       "    <tr style=\"text-align: right;\">\n",
       "      <th></th>\n",
       "      <th>key</th>\n",
       "      <th>rval</th>\n",
       "    </tr>\n",
       "  </thead>\n",
       "  <tbody>\n",
       "    <tr>\n",
       "      <th>0</th>\n",
       "      <td>foo</td>\n",
       "      <td>4</td>\n",
       "    </tr>\n",
       "    <tr>\n",
       "      <th>1</th>\n",
       "      <td>bar</td>\n",
       "      <td>5</td>\n",
       "    </tr>\n",
       "  </tbody>\n",
       "</table>\n",
       "</div>"
      ],
      "text/plain": [
       "   key  rval\n",
       "0  foo     4\n",
       "1  bar     5"
      ]
     },
     "execution_count": 77,
     "metadata": {},
     "output_type": "execute_result"
    }
   ],
   "source": [
    "right"
   ]
  },
  {
   "cell_type": "code",
   "execution_count": 78,
   "id": "0a5b4eb0",
   "metadata": {},
   "outputs": [
    {
     "data": {
      "text/html": [
       "<div>\n",
       "<style scoped>\n",
       "    .dataframe tbody tr th:only-of-type {\n",
       "        vertical-align: middle;\n",
       "    }\n",
       "\n",
       "    .dataframe tbody tr th {\n",
       "        vertical-align: top;\n",
       "    }\n",
       "\n",
       "    .dataframe thead th {\n",
       "        text-align: right;\n",
       "    }\n",
       "</style>\n",
       "<table border=\"1\" class=\"dataframe\">\n",
       "  <thead>\n",
       "    <tr style=\"text-align: right;\">\n",
       "      <th></th>\n",
       "      <th>key</th>\n",
       "      <th>lval</th>\n",
       "      <th>rval</th>\n",
       "    </tr>\n",
       "  </thead>\n",
       "  <tbody>\n",
       "    <tr>\n",
       "      <th>0</th>\n",
       "      <td>foo</td>\n",
       "      <td>1</td>\n",
       "      <td>4</td>\n",
       "    </tr>\n",
       "    <tr>\n",
       "      <th>1</th>\n",
       "      <td>bar</td>\n",
       "      <td>2</td>\n",
       "      <td>5</td>\n",
       "    </tr>\n",
       "  </tbody>\n",
       "</table>\n",
       "</div>"
      ],
      "text/plain": [
       "   key  lval  rval\n",
       "0  foo     1     4\n",
       "1  bar     2     5"
      ]
     },
     "execution_count": 78,
     "metadata": {},
     "output_type": "execute_result"
    }
   ],
   "source": [
    "pd.merge(left, right, on='key')"
   ]
  },
  {
   "cell_type": "code",
   "execution_count": 79,
   "id": "af1757e9",
   "metadata": {},
   "outputs": [],
   "source": [
    "#hier weiter mit GROUPING ..."
   ]
  },
  {
   "cell_type": "code",
   "execution_count": null,
   "id": "171ff476",
   "metadata": {},
   "outputs": [],
   "source": []
  }
 ],
 "metadata": {
  "kernelspec": {
   "display_name": "Python 3 (ipykernel)",
   "language": "python",
   "name": "python3"
  },
  "language_info": {
   "codemirror_mode": {
    "name": "ipython",
    "version": 3
   },
   "file_extension": ".py",
   "mimetype": "text/x-python",
   "name": "python",
   "nbconvert_exporter": "python",
   "pygments_lexer": "ipython3",
   "version": "3.9.7"
  }
 },
 "nbformat": 4,
 "nbformat_minor": 5
}
