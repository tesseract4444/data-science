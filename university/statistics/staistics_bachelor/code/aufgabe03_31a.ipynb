{
 "cells": [
  {
   "cell_type": "markdown",
   "id": "0de1dbc2",
   "metadata": {},
   "source": [
    "Quelle: https://studyflix.de/statistik/standardabweichung-1042"
   ]
  },
  {
   "cell_type": "code",
   "execution_count": 6,
   "id": "a19e5d2b",
   "metadata": {},
   "outputs": [
    {
     "name": "stdout",
     "output_type": "stream",
     "text": [
      "12.0\n",
      "276.0\n",
      "7.429670248402684\n",
      "2.725742146352564\n"
     ]
    }
   ],
   "source": [
    "liste = [3, 5, 12, 17, 23] #beispiel\n",
    "\n",
    "#mittelwert berechnen\n",
    "mw = sum(liste)/len(liste)\n",
    "print(mw)\n",
    "\n",
    "#zähler unter wurzel für varianzberechnung\n",
    "zaehler=0\n",
    "for i in liste:\n",
    "   zaehler += (i-mw)**2\n",
    "print(zaehler)\n",
    "\n",
    "#varianz berechnen\n",
    "varianz = (zaehler/len(liste))**0.5\n",
    "print(varianz)\n",
    "\n",
    "#standard-abweichung\n",
    "sa = varianz**0.5\n",
    "\n",
    "print(sa)"
   ]
  },
  {
   "cell_type": "code",
   "execution_count": null,
   "id": "78452469",
   "metadata": {},
   "outputs": [],
   "source": []
  }
 ],
 "metadata": {
  "kernelspec": {
   "display_name": "Python 3 (ipykernel)",
   "language": "python",
   "name": "python3"
  },
  "language_info": {
   "codemirror_mode": {
    "name": "ipython",
    "version": 3
   },
   "file_extension": ".py",
   "mimetype": "text/x-python",
   "name": "python",
   "nbconvert_exporter": "python",
   "pygments_lexer": "ipython3",
   "version": "3.9.7"
  }
 },
 "nbformat": 4,
 "nbformat_minor": 5
}
