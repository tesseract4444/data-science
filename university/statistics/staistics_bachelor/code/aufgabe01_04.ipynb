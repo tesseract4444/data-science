{
 "cells": [
  {
   "cell_type": "markdown",
   "id": "7caeaa67",
   "metadata": {},
   "source": [
    "# Python - Einführung"
   ]
  },
  {
   "cell_type": "markdown",
   "id": "d5efab64",
   "metadata": {},
   "source": [
    "### Addition"
   ]
  },
  {
   "cell_type": "code",
   "execution_count": 2,
   "id": "c73ed555",
   "metadata": {},
   "outputs": [
    {
     "name": "stdout",
     "output_type": "stream",
     "text": [
      "7\n"
     ]
    }
   ],
   "source": [
    "# Die Addition erfolgt in Python über den Plus-Operator\n",
    "print(3+4)"
   ]
  },
  {
   "cell_type": "code",
   "execution_count": 3,
   "id": "8648e315",
   "metadata": {},
   "outputs": [
    {
     "data": {
      "text/plain": [
       "7"
      ]
     },
     "execution_count": 3,
     "metadata": {},
     "output_type": "execute_result"
    }
   ],
   "source": [
    "#alternativ reicht auch die bloße Eingabe zweier Zahlen wie bei einem \n",
    "#Taschenrechner, das Ergebnis erscheint als nüchterner Output \"Out[]\"\n",
    "3+4"
   ]
  },
  {
   "cell_type": "code",
   "execution_count": 4,
   "id": "4a72d13b",
   "metadata": {},
   "outputs": [
    {
     "name": "stdout",
     "output_type": "stream",
     "text": [
      "7\n"
     ]
    }
   ],
   "source": [
    "#es lassen sich nicht nur Zahlen, sondern auch Variablen mit Wertzuweisung addieren\n",
    "a = 3\n",
    "b = 4\n",
    "c = a + b\n",
    "\n",
    "print(c)"
   ]
  },
  {
   "cell_type": "markdown",
   "id": "dc9c2005",
   "metadata": {},
   "source": [
    "### Subtraktion"
   ]
  },
  {
   "cell_type": "code",
   "execution_count": 5,
   "id": "7fa95878",
   "metadata": {},
   "outputs": [
    {
     "name": "stdout",
     "output_type": "stream",
     "text": [
      "4\n"
     ]
    }
   ],
   "source": [
    "# Die Subtraktion erfolgt in Python über den Minus-Operator\n",
    "print(10-6)"
   ]
  },
  {
   "cell_type": "code",
   "execution_count": 6,
   "id": "340993cf",
   "metadata": {},
   "outputs": [
    {
     "data": {
      "text/plain": [
       "4"
      ]
     },
     "execution_count": 6,
     "metadata": {},
     "output_type": "execute_result"
    }
   ],
   "source": [
    "#alternativ reicht auch die bloße Eingabe zweier Zahlen wie bei einem \n",
    "#Taschenrechner, das Ergebnis erscheint als nüchterner Output \"Out[]\"\n",
    "10-6"
   ]
  },
  {
   "cell_type": "code",
   "execution_count": 7,
   "id": "98e7167b",
   "metadata": {},
   "outputs": [
    {
     "name": "stdout",
     "output_type": "stream",
     "text": [
      "7\n"
     ]
    }
   ],
   "source": [
    "#es lassen sich nicht nur Zahlen, sondern auch Variablen mit Wertzuweisung subtrahieren\n",
    "a = 10\n",
    "b = 3\n",
    "result = a - b\n",
    "\n",
    "print(result)"
   ]
  },
  {
   "cell_type": "markdown",
   "id": "1bb029f0",
   "metadata": {},
   "source": [
    "### Multiplikation"
   ]
  },
  {
   "cell_type": "code",
   "execution_count": 9,
   "id": "d175184b",
   "metadata": {},
   "outputs": [
    {
     "name": "stdout",
     "output_type": "stream",
     "text": [
      "30\n"
     ]
    }
   ],
   "source": [
    "# Die Multiplikation erfolgt in Python über den *-Operator\n",
    "print(5*6)"
   ]
  },
  {
   "cell_type": "code",
   "execution_count": 10,
   "id": "5ac9923d",
   "metadata": {},
   "outputs": [
    {
     "data": {
      "text/plain": [
       "24"
      ]
     },
     "execution_count": 10,
     "metadata": {},
     "output_type": "execute_result"
    }
   ],
   "source": [
    "#alternativ reicht auch die bloße Eingabe zweier Zahlen wie bei einem \n",
    "#Taschenrechner, das Ergebnis erscheint als nüchterner Output \"Out[]\"\n",
    "8*3"
   ]
  },
  {
   "cell_type": "code",
   "execution_count": 12,
   "id": "ec9eb236",
   "metadata": {},
   "outputs": [
    {
     "name": "stdout",
     "output_type": "stream",
     "text": [
      "220\n"
     ]
    }
   ],
   "source": [
    "#es lassen sich nicht nur Zahlen, sondern auch Variablen mit Wertzuweisung multiplizieren\n",
    "a = 10\n",
    "b = 22\n",
    "ergebnis = a * b\n",
    "\n",
    "print(ergebnis)"
   ]
  },
  {
   "cell_type": "markdown",
   "id": "86264525",
   "metadata": {},
   "source": [
    "### Division"
   ]
  },
  {
   "cell_type": "markdown",
   "id": "c7e1ecab",
   "metadata": {},
   "source": [
    "###### Division mit Float als Ergebnis"
   ]
  },
  {
   "cell_type": "code",
   "execution_count": 13,
   "id": "b46b05ea",
   "metadata": {},
   "outputs": [
    {
     "name": "stdout",
     "output_type": "stream",
     "text": [
      "12.0\n"
     ]
    }
   ],
   "source": [
    "# Die Division erfolgt in Python über den /-Operator, das Ergebnis ist eine Fließkommazahl (Float)\n",
    "print(144/12)"
   ]
  },
  {
   "cell_type": "code",
   "execution_count": 14,
   "id": "b8a2cebc",
   "metadata": {},
   "outputs": [
    {
     "data": {
      "text/plain": [
       "10.0"
      ]
     },
     "execution_count": 14,
     "metadata": {},
     "output_type": "execute_result"
    }
   ],
   "source": [
    "#alternativ reicht auch die bloße Eingabe zweier Zahlen wie bei einem \n",
    "#Taschenrechner, das Ergebnis erscheint als nüchterner Output \"Out[]\"\n",
    "100/10"
   ]
  },
  {
   "cell_type": "code",
   "execution_count": 15,
   "id": "59850f87",
   "metadata": {},
   "outputs": [
    {
     "name": "stdout",
     "output_type": "stream",
     "text": [
      "11.0\n"
     ]
    }
   ],
   "source": [
    "#es lassen sich nicht nur Zahlen, sondern auch Variablen mit Wertzuweisung dividieren\n",
    "a = 88\n",
    "b = 8\n",
    "gesamt = a/b\n",
    "\n",
    "print(gesamt)"
   ]
  },
  {
   "cell_type": "markdown",
   "id": "42000247",
   "metadata": {},
   "source": [
    "##### Division mit Integer als Ergebnis"
   ]
  },
  {
   "cell_type": "code",
   "execution_count": 23,
   "id": "2d4d393f",
   "metadata": {},
   "outputs": [
    {
     "name": "stdout",
     "output_type": "stream",
     "text": [
      "Integer: 2\n",
      "Float: 2.4\n"
     ]
    }
   ],
   "source": [
    "#in Python lassen sich auch Ganzzahlen als Ergebnis ausgeben, über den //-Operator\n",
    "print('Integer:', str(12//5))\n",
    "print('Float:', str(12/5))"
   ]
  },
  {
   "cell_type": "code",
   "execution_count": 27,
   "id": "5a4ca380",
   "metadata": {},
   "outputs": [
    {
     "data": {
      "text/plain": [
       "2"
      ]
     },
     "execution_count": 27,
     "metadata": {},
     "output_type": "execute_result"
    }
   ],
   "source": [
    "#alternativ reicht auch die bloße Eingabe zweier Zahlen wie bei einem \n",
    "#Taschenrechner, das Ergebnis erscheint als nüchterner Output \"Out[]\"\n",
    "27//12"
   ]
  },
  {
   "cell_type": "code",
   "execution_count": 31,
   "id": "c8c55c4a",
   "metadata": {},
   "outputs": [
    {
     "name": "stdout",
     "output_type": "stream",
     "text": [
      "1\n",
      "1.59\n"
     ]
    }
   ],
   "source": [
    "#es lassen sich nicht nur Zahlen, sondern auch Variablen mit Wertzuweisung dividieren\n",
    "a = 35\n",
    "b = 22\n",
    "c1 = a//b\n",
    "c2 = a/b\n",
    "\n",
    "print(c1)\n",
    "print(round(c2, 2))"
   ]
  }
 ],
 "metadata": {
  "kernelspec": {
   "display_name": "Python 3 (ipykernel)",
   "language": "python",
   "name": "python3"
  },
  "language_info": {
   "codemirror_mode": {
    "name": "ipython",
    "version": 3
   },
   "file_extension": ".py",
   "mimetype": "text/x-python",
   "name": "python",
   "nbconvert_exporter": "python",
   "pygments_lexer": "ipython3",
   "version": "3.9.7"
  }
 },
 "nbformat": 4,
 "nbformat_minor": 5
}
