{
 "cells": [
  {
   "cell_type": "markdown",
   "id": "83937b98",
   "metadata": {},
   "source": [
    "https://www.python-kurs.eu/numpy.php"
   ]
  },
  {
   "cell_type": "code",
   "execution_count": 4,
   "id": "56727401",
   "metadata": {},
   "outputs": [],
   "source": [
    "import numpy as np\n",
    "import matplotlib as mpl"
   ]
  },
  {
   "cell_type": "markdown",
   "id": "dcee1341",
   "metadata": {},
   "source": [
    "### Numpy"
   ]
  },
  {
   "cell_type": "code",
   "execution_count": 5,
   "id": "52bbb455",
   "metadata": {},
   "outputs": [],
   "source": [
    "#definition einer liste mit temperaturen\n",
    "cvalues = [20.1, 20.8, 21.9, 22.5, 21.8, 21.3, 20.9, 20.1]"
   ]
  },
  {
   "cell_type": "code",
   "execution_count": 6,
   "id": "eb9419ae",
   "metadata": {},
   "outputs": [
    {
     "name": "stdout",
     "output_type": "stream",
     "text": [
      "[20.1 20.8 21.9 22.5 21.8 21.3 20.9 20.1] <class 'numpy.ndarray'>\n"
     ]
    }
   ],
   "source": [
    "#erzeugen eines numpy-arrays aus liste oben\n",
    "c = np.array(cvalues)\n",
    "print(c, type(c))"
   ]
  },
  {
   "cell_type": "code",
   "execution_count": 7,
   "id": "d0d4b124",
   "metadata": {},
   "outputs": [
    {
     "name": "stdout",
     "output_type": "stream",
     "text": [
      "[68.18 69.44 71.42 72.5  71.24 70.34 69.62 68.18]\n"
     ]
    }
   ],
   "source": [
    "#werte von grad in fahrenheit berechnen lassen\n",
    "print(c * 9 / 5 + 32)"
   ]
  },
  {
   "cell_type": "code",
   "execution_count": 8,
   "id": "f2616b37",
   "metadata": {},
   "outputs": [
    {
     "name": "stdout",
     "output_type": "stream",
     "text": [
      "[20.1 20.8 21.9 22.5 21.8 21.3 20.9 20.1]\n"
     ]
    }
   ],
   "source": [
    "#array c bleibt dabei unveränderlich\n",
    "print(c)"
   ]
  },
  {
   "cell_type": "code",
   "execution_count": 9,
   "id": "5cf6247c",
   "metadata": {},
   "outputs": [
    {
     "name": "stdout",
     "output_type": "stream",
     "text": [
      "[68.18, 69.44, 71.42, 72.5, 71.24000000000001, 70.34, 69.62, 68.18]\n"
     ]
    }
   ],
   "source": [
    "#alternative längere möglichkeit zur berechnung\n",
    "fvalues = [x*9/5 + 32 for x in cvalues]\n",
    "print(fvalues)"
   ]
  },
  {
   "cell_type": "code",
   "execution_count": 10,
   "id": "7a06c295",
   "metadata": {},
   "outputs": [
    {
     "data": {
      "text/plain": [
       "numpy.ndarray"
      ]
     },
     "execution_count": 10,
     "metadata": {},
     "output_type": "execute_result"
    }
   ],
   "source": [
    "#c ist instanz der klasse numpy.ndarray\n",
    "type(c)"
   ]
  },
  {
   "cell_type": "markdown",
   "id": "1112c6b8",
   "metadata": {},
   "source": [
    "### Matplotlib (= grafische Darstellung von Werten)"
   ]
  },
  {
   "cell_type": "code",
   "execution_count": 12,
   "id": "4e644db8",
   "metadata": {},
   "outputs": [],
   "source": [
    "#um plot innerhalb eines Fensters anzuzeigen und nicht separat:\n",
    "%matplotlib inline\n",
    "\n",
    "#bei extern: dementsprechend ohne inline als matplotlib"
   ]
  },
  {
   "cell_type": "code",
   "execution_count": 17,
   "id": "2b2bad49",
   "metadata": {},
   "outputs": [
    {
     "data": {
      "image/png": "[encoded data removed]",
      "text/plain": [
       "<Figure size 432x288 with 1 Axes>"
      ]
     },
     "metadata": {
      "needs_background": "light"
     },
     "output_type": "display_data"
    }
   ],
   "source": [
    "import matplotlib.pyplot as plt #meiste matplotlib gehören zu pyplot\n",
    "plt.plot(c) #übernimmt werte von oben in eine grafik\n",
    "plt.show() #sozusagen der print-befehlt für die gezeichneten werte aus plt.plot(value)"
   ]
  },
  {
   "cell_type": "markdown",
   "id": "3547c02e",
   "metadata": {},
   "source": [
    "##### Speicherverbrauch von Listen ausgeben"
   ]
  },
  {
   "cell_type": "code",
   "execution_count": 30,
   "id": "b9165f6f",
   "metadata": {},
   "outputs": [
    {
     "name": "stdout",
     "output_type": "stream",
     "text": [
      "Größe ohne Größe der Elemente:  120\n",
      "Größe der Elemente:  84\n",
      "Gesamtgröße der Liste:  204\n",
      "\n",
      "Speicherbedarf einer leeren Liste:  56\n"
     ]
    }
   ],
   "source": [
    "from sys import getsizeof as size\n",
    "\n",
    "lst = [24, 12, 57]\n",
    "size_of_list_object = size(lst)\n",
    "size_of_elements = len(lst) * size(lst[0])\n",
    "total_list_size = size_of_list_object + size_of_elements\n",
    "\n",
    "print('Größe ohne Größe der Elemente: ', size_of_list_object)\n",
    "print('Größe aller Elemente: ', size_of_elements)\n",
    "print('Gesamtgröße der Liste: ', total_list_size)\n",
    "\n",
    "lst2 = []\n",
    "print('\\nSpeicherbedarf einer leeren Liste: ', size(lst2))"
   ]
  },
  {
   "cell_type": "markdown",
   "id": "579d4026",
   "metadata": {},
   "source": [
    "##### Speicherbedarf von Arrays ausgeben"
   ]
  },
  {
   "cell_type": "code",
   "execution_count": 31,
   "id": "6ab7868d",
   "metadata": {},
   "outputs": [
    {
     "name": "stdout",
     "output_type": "stream",
     "text": [
      "116\n"
     ]
    }
   ],
   "source": [
    "#speziell\n",
    "a = np.array([24, 12, 57])\n",
    "print(size(a))"
   ]
  },
  {
   "cell_type": "code",
   "execution_count": 32,
   "id": "a8dd65a5",
   "metadata": {},
   "outputs": [
    {
     "name": "stdout",
     "output_type": "stream",
     "text": [
      "104\n"
     ]
    }
   ],
   "source": [
    "#allgemein\n",
    "e = np.array([])\n",
    "print(size(e))"
   ]
  },
  {
   "cell_type": "markdown",
   "id": "442eee35",
   "metadata": {},
   "source": [
    "##### Größen von Arrays festlegen"
   ]
  },
  {
   "cell_type": "code",
   "execution_count": 35,
   "id": "b83340ad",
   "metadata": {},
   "outputs": [
    {
     "name": "stdout",
     "output_type": "stream",
     "text": [
      "11\n",
      "14\n",
      "20\n",
      "32\n"
     ]
    }
   ],
   "source": [
    "#standard-größe: int64\n",
    "a = np.array([24, 12, 57], np.int8)\n",
    "print(size(a)-96)\n",
    "a = np.array([24, 12, 57], np.int16)\n",
    "print(size(a)-96)\n",
    "a = np.array([24, 12, 57], np.int32)\n",
    "print(size(a)-96)\n",
    "a = np.array([24, 12, 57], np.int64)\n",
    "print(size(a)-96)"
   ]
  },
  {
   "cell_type": "markdown",
   "id": "c5a03f0b",
   "metadata": {},
   "source": [
    "### Zeitvergleich zwischen Python-Listen und NumPy-Arrays"
   ]
  },
  {
   "cell_type": "code",
   "execution_count": 49,
   "id": "a2039fb2",
   "metadata": {},
   "outputs": [
    {
     "name": "stdout",
     "output_type": "stream",
     "text": [
      "0.0 0.0\n"
     ]
    },
    {
     "ename": "ZeroDivisionError",
     "evalue": "float division by zero",
     "output_type": "error",
     "traceback": [
      "\u001b[1;31m---------------------------------------------------------------------------\u001b[0m",
      "\u001b[1;31mZeroDivisionError\u001b[0m                         Traceback (most recent call last)",
      "\u001b[1;32m~\\AppData\\Local\\Temp/ipykernel_16960/3506737863.py\u001b[0m in \u001b[0;36m<module>\u001b[1;34m\u001b[0m\n\u001b[0;32m     23\u001b[0m \u001b[0mt2\u001b[0m \u001b[1;33m=\u001b[0m \u001b[0mnumpy_version\u001b[0m\u001b[1;33m(\u001b[0m\u001b[1;33m)\u001b[0m\u001b[1;33m\u001b[0m\u001b[1;33m\u001b[0m\u001b[0m\n\u001b[0;32m     24\u001b[0m \u001b[0mprint\u001b[0m\u001b[1;33m(\u001b[0m\u001b[0mt1\u001b[0m\u001b[1;33m,\u001b[0m \u001b[0mt2\u001b[0m\u001b[1;33m)\u001b[0m\u001b[1;33m\u001b[0m\u001b[1;33m\u001b[0m\u001b[0m\n\u001b[1;32m---> 25\u001b[1;33m \u001b[0mprint\u001b[0m\u001b[1;33m(\u001b[0m\u001b[1;34m\"NumPy is in this example \"\u001b[0m \u001b[1;33m+\u001b[0m \u001b[0mstr\u001b[0m\u001b[1;33m(\u001b[0m\u001b[0mt1\u001b[0m\u001b[1;33m/\u001b[0m\u001b[0mt2\u001b[0m\u001b[1;33m)\u001b[0m \u001b[1;33m+\u001b[0m \u001b[1;34m\" faster!\"\u001b[0m\u001b[1;33m)\u001b[0m\u001b[1;33m\u001b[0m\u001b[1;33m\u001b[0m\u001b[0m\n\u001b[0m",
      "\u001b[1;31mZeroDivisionError\u001b[0m: float division by zero"
     ]
    }
   ],
   "source": [
    "import numpy as np\n",
    "import time\n",
    "\n",
    "size_of_vec = 1000\n",
    "\n",
    "def pure_python_version():\n",
    "    t1 = time.time()\n",
    "    X = range(size_of_vec)\n",
    "    Y = range(size_of_vec)\n",
    "    Z = [X[i] + Y[i] for i in range(len(X))]\n",
    "    return time.time() - t1\n",
    "\n",
    "def numpy_version():\n",
    "    t1 = time.time()\n",
    "    X = np.arange(size_of_vec)\n",
    "    Y = np.arange(size_of_vec)\n",
    "    Z = X + Y\n",
    "    return time.time() - t1\n",
    "\n",
    "\n",
    "\n",
    "t1 = pure_python_version()\n",
    "t2 = numpy_version()\n",
    "print(t1, t2)\n",
    "print(\"NumPy is in this example \" + str(t1/t2) + \" faster!\")"
   ]
  },
  {
   "cell_type": "code",
   "execution_count": 48,
   "id": "e4cb7a79",
   "metadata": {},
   "outputs": [
    {
     "name": "stdout",
     "output_type": "stream",
     "text": [
      "0.005144300000210933\n",
      "0.0006035000001247681\n"
     ]
    }
   ],
   "source": [
    "#zeitmessung einfacher dank timeit-funktion\n",
    "\n",
    "import numpy as np\n",
    "from timeit import Timer\n",
    "size_of_vec = 1000\n",
    "def pure_python_version():\n",
    "    X = range(size_of_vec)\n",
    "    Y = range(size_of_vec)\n",
    "    Z = [X[i] + Y[i] for i in range(len(X))]\n",
    "def numpy_version():\n",
    "    X = np.arange(size_of_vec)\n",
    "    Y = np.arange(size_of_vec)\n",
    "    Z = X + Y\n",
    "timer_obj1 = Timer(\"pure_python_version()\", \n",
    "                   \"from __main__ import pure_python_version\")\n",
    "timer_obj2 = Timer(\"numpy_version()\", \n",
    "                   \"from __main__ import numpy_version\")\n",
    "print(timer_obj1.timeit(10))\n",
    "print(timer_obj2.timeit(10))"
   ]
  },
  {
   "cell_type": "code",
   "execution_count": 47,
   "id": "de2fed3b",
   "metadata": {},
   "outputs": [
    {
     "name": "stdout",
     "output_type": "stream",
     "text": [
      "[0.007649300000139192, 0.0058430000003681926, 0.005344899999727204]\n",
      "[0.00021800000013172394, 0.0013535000002775632, 9.410000029674848e-05]\n"
     ]
    }
   ],
   "source": [
    "#repeat: vereinfachte möglichkeit, die methode timeit mehrmals aufzurufen ud eine liste der ergebnisse zu erhalten\n",
    "print(timer_obj1.repeat(repeat=3, number=10))\n",
    "print(timer_obj2.repeat(repeat=3, number=10))"
   ]
  },
  {
   "cell_type": "code",
   "execution_count": null,
   "id": "b772b4ae",
   "metadata": {},
   "outputs": [],
   "source": []
  }
 ],
 "metadata": {
  "kernelspec": {
   "display_name": "Python 3 (ipykernel)",
   "language": "python",
   "name": "python3"
  },
  "language_info": {
   "codemirror_mode": {
    "name": "ipython",
    "version": 3
   },
   "file_extension": ".py",
   "mimetype": "text/x-python",
   "name": "python",
   "nbconvert_exporter": "python",
   "pygments_lexer": "ipython3",
   "version": "3.9.7"
  }
 },
 "nbformat": 4,
 "nbformat_minor": 5
}
