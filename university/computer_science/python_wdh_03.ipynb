{
 "cells": [
  {
   "cell_type": "markdown",
   "id": "4860c68f",
   "metadata": {},
   "source": [
    "# Vorlesung03\n",
    "- Tuples\n",
    "- Dictionaries\n",
    "- Strings\n",
    "- OOP (Klassen, Konstruktoren, Attribute, Methoden)\n"
   ]
  },
  {
   "cell_type": "markdown",
   "id": "afab61fc",
   "metadata": {},
   "source": [
    "#### Tuples"
   ]
  },
  {
   "cell_type": "code",
   "execution_count": 9,
   "id": "847e2f73",
   "metadata": {},
   "outputs": [
    {
     "name": "stdout",
     "output_type": "stream",
     "text": [
      "1\n",
      "(1, 2)\n",
      "(1, 3)\n",
      "(1, 2, 3, 1, 2, 3)\n"
     ]
    }
   ],
   "source": [
    "from typing import Tuple\n",
    "\n",
    "my_tuple: Tuple[int, int, int] = (1, 2, 3)\n",
    "\n",
    "first_el: int = my_tuple[0]\n",
    "print(first_el)\n",
    "\n",
    "new_tuple: Tuple[int, int] = my_tuple[:2]\n",
    "print(new_tuple)\n",
    "\n",
    "other_new_tuple: Tuple[int, int] = my_tuple[::2]\n",
    "print(other_new_tuple)\n",
    "\n",
    "concatenated_tuple: Tuple[int, int, int, int, int, int] = my_tuple*2\n",
    "print(concatenated_tuple)\n",
    "\n",
    "# Nicht möglich: del my_tuple[0]\n"
   ]
  },
  {
   "cell_type": "markdown",
   "id": "bf05c935",
   "metadata": {},
   "source": [
    "#### Dictionaries"
   ]
  },
  {
   "cell_type": "code",
   "execution_count": 20,
   "id": "c70dc3bc",
   "metadata": {},
   "outputs": [
    {
     "name": "stdout",
     "output_type": "stream",
     "text": [
      "22\n",
      "165\n",
      "deutsch\n",
      "23\n",
      "weiblich\n",
      "{'alter': 23, 'groesse': 165, 'nation': 'deutsch', 'geschlecht': 'weiblich'}\n"
     ]
    }
   ],
   "source": [
    "from typing import Dict, Any\n",
    "\n",
    "persDic: Dict[str, Any] = {'alter': 22, 'groesse': 165, 'nation': 'deutsch'}\n",
    "print(persDic['alter'])\n",
    "print(persDic['groesse'])\n",
    "print(persDic['nation'])\n",
    "\n",
    "#Update Wert\n",
    "persDic['alter'] += 1\n",
    "print(persDic['alter'])\n",
    "\n",
    "#Hinzufügen eines Schlüsselpaares\n",
    "persDic['geschlecht'] = 'weiblich'\n",
    "print(persDic['geschlecht'])\n",
    "print(persDic)"
   ]
  },
  {
   "cell_type": "markdown",
   "id": "0fa867a6",
   "metadata": {},
   "source": [
    "Dictionaries: Iteration"
   ]
  },
  {
   "cell_type": "code",
   "execution_count": 23,
   "id": "fa9bdfb7",
   "metadata": {},
   "outputs": [
    {
     "name": "stdout",
     "output_type": "stream",
     "text": [
      "1 -> rot\n",
      "2 -> blau\n",
      "3 -> rot\n"
     ]
    }
   ],
   "source": [
    "from typing import Dict\n",
    "\n",
    "values: Dict[int, int] = {1: 'rot', 2: 'blau', 3: 'rot'}\n",
    "\n",
    "for key, value in values.items():\n",
    "    print('{} -> {}'.format(key, value))"
   ]
  },
  {
   "cell_type": "markdown",
   "id": "3111f76f",
   "metadata": {},
   "source": [
    "Aufgabe: Dictionaries"
   ]
  },
  {
   "cell_type": "code",
   "execution_count": 41,
   "id": "4b6598f8",
   "metadata": {},
   "outputs": [
    {
     "name": "stdout",
     "output_type": "stream",
     "text": [
      "{1: 2, 2: 3, 3: 1}\n"
     ]
    }
   ],
   "source": [
    "from typing import Dict, List\n",
    "\n",
    "def count_frequency(numbers: List[int]) -> Dict[int, int]:\n",
    "    count: Dict[int, int] = {}\n",
    "        \n",
    "    for i in numbers:\n",
    "        if i in count:\n",
    "            count[i] += 1\n",
    "        else:\n",
    "            count[i] = 1\n",
    "    return count\n",
    "\n",
    "print(count_frequency([1, 2, 3, 2, 2, 1]))\n",
    "\n",
    "assert ({} == count_frequency([]))\n",
    "assert ({1: 3} == count_frequency([1, 1, 1]))\n",
    "assert ({1: 3, 2: 4} == count_frequency([1, 2, 2, 1, 2, 1, 2]))"
   ]
  },
  {
   "cell_type": "markdown",
   "id": "b6fe0d48",
   "metadata": {},
   "source": [
    "Eigener Code: Dictionaries"
   ]
  },
  {
   "cell_type": "code",
   "execution_count": 116,
   "id": "cf0f068c",
   "metadata": {},
   "outputs": [
    {
     "name": "stdout",
     "output_type": "stream",
     "text": [
      "{'Hallo': 1, 'du': 1, 'schöne': 2, 'Frau': 2}\n"
     ]
    }
   ],
   "source": [
    "from typing import Dict, List\n",
    " \n",
    "\n",
    "def count_words(words: List[int]) -> Dict[int, int]:\n",
    "    count: Dict[int, int] = {}\n",
    "        \n",
    "    for word in words:\n",
    "        if word in count:\n",
    "            count[word] += 1\n",
    "        else:\n",
    "            count[word] = 1\n",
    "    return count\n",
    "\n",
    "\n",
    "print(count_words(['Hallo', 'du', 'schöne', 'schöne', 'Frau', 'Frau']))"
   ]
  },
  {
   "cell_type": "code",
   "execution_count": 174,
   "id": "4c23a040",
   "metadata": {},
   "outputs": [
    {
     "name": "stdout",
     "output_type": "stream",
     "text": [
      "{'hallo': 1, 'du': 1, 'schöne': 2, 'frau': 2, 'oh': 1, 'aller': 1, 'frauen': 1}\n"
     ]
    }
   ],
   "source": [
    "import string\n",
    "\n",
    "def count_words2(sentence: List[str]) -> Dict[str, int]:\n",
    "    count: Dict[str, int] = {}\n",
    "    \n",
    "    for word in sentence.lower().translate(str.maketrans(\"\",\"\", string.punctuation)).split():\n",
    "        if word in count:\n",
    "            count[word] += 1            \n",
    "        else:\n",
    "            count[word] = 1\n",
    "    return count \n",
    "\n",
    "print(count_words2(\"Hallo du schöne, schöne Frau! Oh Frau aller Frauen!!!\"))\n",
    "        "
   ]
  },
  {
   "cell_type": "code",
   "execution_count": 176,
   "id": "6a87f6e9",
   "metadata": {},
   "outputs": [
    {
     "name": "stdout",
     "output_type": "stream",
     "text": [
      "{'h': 4, 'a': 5, 'l': 4, 'o': 2, 'd': 1, 'u': 4, 's': 2, 'c': 2, 'ö': 2, 'n': 3, 'e': 4, 'f': 3, 'r': 4}\n"
     ]
    }
   ],
   "source": [
    "import string\n",
    "\n",
    "def count_letters(sentence: List[str]) -> Dict[str, int]:\n",
    "    count: Dict[str, int] = {}\n",
    "    \n",
    "    for word in sentence.lower().translate(str.maketrans(\"\",\"\", string.punctuation)).split():\n",
    "        for i in word:\n",
    "            if i in count:\n",
    "                count[i] += 1            \n",
    "            else:\n",
    "                count[i] = 1\n",
    "    return count \n",
    "\n",
    "print(count_letters(\"Hallo du schöne, schöne Frau! Oh Frau aller Frauen!!!\"))\n",
    "        "
   ]
  },
  {
   "cell_type": "markdown",
   "id": "c1d091b5",
   "metadata": {},
   "source": [
    "#### Strings"
   ]
  },
  {
   "cell_type": "markdown",
   "id": "f746b1f4",
   "metadata": {},
   "source": [
    "Strings vs. Listen: Ähnlichkeit"
   ]
  },
  {
   "cell_type": "code",
   "execution_count": 240,
   "id": "546f431e",
   "metadata": {},
   "outputs": [
    {
     "name": "stdout",
     "output_type": "stream",
     "text": [
      "6\n",
      "****************\n",
      "H\n",
      "a\n",
      "l\n",
      "l\n",
      "o\n",
      "!\n",
      "****************\n",
      "Hallo!Simon\n",
      "Hallo!Hallo!\n",
      "****************\n",
      "True\n",
      "False\n",
      "****************\n",
      "H::allo!\n",
      "!ollaH\n",
      "****************\n",
      "s\n",
      "Hasso!\n"
     ]
    }
   ],
   "source": [
    "my_str = 'Hallo!'\n",
    "print(len(my_str))\n",
    "\n",
    "print('****************')\n",
    "\n",
    "for char in my_str:\n",
    "    print(char)\n",
    "    \n",
    "print('****************')\n",
    "\n",
    "print(my_str + 'Simon')\n",
    "print(my_str * 2)\n",
    "\n",
    "print('****************')\n",
    "\n",
    "print('h' in my_str.lower())\n",
    "print('i' in my_str.lower())\n",
    "\n",
    "print('****************')\n",
    "\n",
    "print(my_str[0] + '::' + my_str[1:])\n",
    "print(my_str[::-1])\n",
    "\n",
    "print('****************')\n",
    "\n",
    "def replacer(letter):\n",
    "    return my_str.replace('l', letter)\n",
    "    \n",
    "print(replacer(input()))"
   ]
  },
  {
   "cell_type": "markdown",
   "id": "917f1d6e",
   "metadata": {},
   "source": [
    "Strings vs. Listen: Umwandlung"
   ]
  },
  {
   "cell_type": "code",
   "execution_count": 248,
   "id": "811edeb5",
   "metadata": {},
   "outputs": [
    {
     "name": "stdout",
     "output_type": "stream",
     "text": [
      "['Hallo', 'du', 'schöne', 'schöne', 'Frau']\n",
      "Hallo***du***schöne***schöne***Frau\n"
     ]
    }
   ],
   "source": [
    "my_string = 'Hallo du schöne schöne Frau'\n",
    "\n",
    "my_part_string = my_string.split(' ')\n",
    "print(my_part_string)\n",
    "\n",
    "my_other_string = \"***\".join(my_part_string)\n",
    "print(my_other_string)"
   ]
  },
  {
   "cell_type": "markdown",
   "id": "0812fc5b",
   "metadata": {},
   "source": [
    "Aufgabe: Palindrom"
   ]
  },
  {
   "cell_type": "code",
   "execution_count": 291,
   "id": "d63c998d",
   "metadata": {},
   "outputs": [
    {
     "name": "stdout",
     "output_type": "stream",
     "text": [
      "True\n"
     ]
    }
   ],
   "source": [
    "def is_palindrome(word: str) -> bool:\n",
    "    return word.lower() == word[::-1].lower()\n",
    "\n",
    "\n",
    "#Alt: too long!\n",
    "    '''if word.lower() == word[::-1].lower():\n",
    "        return True\n",
    "    else:\n",
    "        return False'''\n",
    "    \n",
    "#Alt2: too complicated!    \n",
    "'''def is_palindrome(word: str) -> bool:\n",
    "    for i in range(len(word) // 2):\n",
    "        if word[i].lower() != word[-i-1].lower():\n",
    "            return False\n",
    "    return True'''\n",
    "\n",
    "print(is_palindrome('lagerregal'))\n",
    "\n",
    "assert (is_palindrome(\"otto\") == True)\n",
    "assert (is_palindrome(\"max\") == False)\n",
    "assert (is_palindrome(\"lagerregal\") == True)"
   ]
  },
  {
   "cell_type": "markdown",
   "id": "e51ccc68",
   "metadata": {},
   "source": [
    "String Formatting"
   ]
  },
  {
   "cell_type": "code",
   "execution_count": 297,
   "id": "f7dc7ffc",
   "metadata": {},
   "outputs": [
    {
     "name": "stdout",
     "output_type": "stream",
     "text": [
      "number1 = Anna, number2 = Eva, number3 = Lena\n",
      "number1 = Lena, number2 = Anna, number3 = Eva\n",
      "number1 = Eva, number2 = Lena, number3 = Anna\n"
     ]
    }
   ],
   "source": [
    "s1 = 'number1 = {}, number2 = {}, number3 = {}'.format('Anna', 'Eva', 'Lena')\n",
    "print(s1)\n",
    "\n",
    "s2 = 'number1 = {2}, number2 = {0}, number3 = {1}'.format('Anna', 'Eva', 'Lena')\n",
    "print(s2)\n",
    "\n",
    "s3 = 'number1 = {first}, number2 = {second}, number3 = {third}'.format(third='Anna', first='Eva', second='Lena')\n",
    "print(s3)"
   ]
  },
  {
   "cell_type": "markdown",
   "id": "f968aa40",
   "metadata": {},
   "source": [
    "f-Strings"
   ]
  },
  {
   "cell_type": "code",
   "execution_count": 298,
   "id": "7f2d84aa",
   "metadata": {},
   "outputs": [
    {
     "name": "stdout",
     "output_type": "stream",
     "text": [
      "Die Quadrate der ersten 5 Zahlen sind: {0, 1, 4, 9, 16}\n"
     ]
    }
   ],
   "source": [
    "x = 5\n",
    "squares = {i*i for i in range(x)}\n",
    "print(f'Die Quadrate der ersten {x} Zahlen sind: {squares}')"
   ]
  },
  {
   "cell_type": "code",
   "execution_count": 325,
   "id": "ef7b7c7a",
   "metadata": {},
   "outputs": [
    {
     "name": "stdout",
     "output_type": "stream",
     "text": [
      "Die Wurzeln von ausgewählten Zahlen in 5er-Schritten sind: {8.944, 9.22, 10.0, 9.487, 9.747}\n"
     ]
    }
   ],
   "source": [
    "from math import sqrt\n",
    "x = 5\n",
    "roots = {round(sqrt(i),3) for i in range(80,101,x)}\n",
    "print(f'Die Wurzeln von ausgewählten Zahlen in {x}er-Schritten sind: {roots}')"
   ]
  },
  {
   "cell_type": "markdown",
   "id": "94c9fd31",
   "metadata": {},
   "source": [
    "#### OOP"
   ]
  },
  {
   "cell_type": "markdown",
   "id": "51cafebc",
   "metadata": {},
   "source": [
    "Aufgabe: Vektoren"
   ]
  },
  {
   "cell_type": "code",
   "execution_count": 41,
   "id": "7c460d21",
   "metadata": {},
   "outputs": [
    {
     "name": "stdout",
     "output_type": "stream",
     "text": [
      "(5, 10)\n"
     ]
    }
   ],
   "source": [
    "from typing import Tuple\n",
    "\n",
    "Vec = Tuple[float, float]\n",
    "\n",
    "def vector_2d_sum(vec1, vec2): #(vec1: Vec, vec2: Vec) -> Vec:\n",
    "    return vec1[0] + vec2[0], vec1[1] + vec2[1]\n",
    "\n",
    "print(vector_2d_sum((1, 3), (4, 7)))"
   ]
  },
  {
   "cell_type": "markdown",
   "id": "ba6467fa",
   "metadata": {},
   "source": [
    "Aufgabe02: Vektoren"
   ]
  },
  {
   "cell_type": "code",
   "execution_count": 42,
   "id": "9e60e494",
   "metadata": {},
   "outputs": [
    {
     "name": "stdout",
     "output_type": "stream",
     "text": [
      "(-3, -4)\n",
      "25\n",
      "2.23606797749979\n",
      "(4, 12)\n"
     ]
    }
   ],
   "source": [
    "def vector_2d_sub(vec1: Vec, vec2: Vec) -> Vec: # Differenz\n",
    "    return vec1[0] - vec2[0], vec1[1] - vec2[1]\n",
    "\n",
    "def vector_2d_dot(vec1: Vec, vec2: Vec) -> float: # Skalarporodukt\n",
    "    return vec1[0] * vec2[0] + vec1[1] * vec2[1]\n",
    "\n",
    "def vector_2d_abs(vec: Vec) -> float: # Betrag\n",
    "    return vector_2d_dot(vec, vec)**0.5\n",
    "\n",
    "def vector_2d_scale(vec: Vec, scalar: float) -> Vec:\n",
    "    return vec[0] * scalar, vec[1] * scalar\n",
    "\n",
    "print(vector_2d_sub((1, 3), (4, 7)))\n",
    "print(vector_2d_dot((1, 3), (4, 7)))\n",
    "print(vector_2d_abs((1, 2)))\n",
    "print(vector_2d_scale((1, 3), 4))"
   ]
  },
  {
   "cell_type": "markdown",
   "id": "47c29672",
   "metadata": {},
   "source": [
    "Klassen"
   ]
  },
  {
   "cell_type": "code",
   "execution_count": 403,
   "id": "11721018",
   "metadata": {},
   "outputs": [
    {
     "name": "stdout",
     "output_type": "stream",
     "text": [
      "BMW M3\n",
      "100\n",
      "False\n"
     ]
    }
   ],
   "source": [
    "class Car: #Definition der Klasse Car\n",
    "    #Konstruktor-Funktion\n",
    "    def __init__(self, id: int, typ: str, year: int, km: int, price: int):\n",
    "        #self bezieht sich auf aktuelle Instanz\n",
    "        self.id: int = id\n",
    "        self.typ: str = typ\n",
    "        self.year: int = year\n",
    "        self.km: int = km\n",
    "        self.price: int = price\n",
    "        self.newCar: bool = km == 0\n",
    "            \n",
    "    def gefahren(self, km):\n",
    "        self.km += km\n",
    "        self.newCar = km == 0\n",
    "            \n",
    "car1 = Car(5, 'BMW M3', 2012, 0, 70000)\n",
    "print(car1.typ)\n",
    "car1.gefahren(100)\n",
    "print(car1.km)\n",
    "print(car1.newCar)"
   ]
  },
  {
   "cell_type": "code",
   "execution_count": 429,
   "id": "06b688ef",
   "metadata": {},
   "outputs": [
    {
     "name": "stdout",
     "output_type": "stream",
     "text": [
      "368\n",
      "Sie haben 40 Seiten gelesen. Ihnen fehlen noch 328 Seiten.\n",
      "Sie haben 140 Seiten gelesen. Ihnen fehlen noch 228 Seiten.\n"
     ]
    }
   ],
   "source": [
    "class Book:\n",
    "    \n",
    "    def __init__(self, isbn, author, title, price, ges_seiten, gelesen):\n",
    "        self.isbn = isbn\n",
    "        self.author = author\n",
    "        self.title = title\n",
    "        self.price = price\n",
    "        self.ges_seiten = ges_seiten\n",
    "        self.gelesen = gelesen\n",
    "        \n",
    "    def lese(self, seiten):\n",
    "        self.gelesen += seiten\n",
    "        \n",
    "        if self.gelesen >= self.ges_seiten:\n",
    "            self.gelesen = self.ges_seiten\n",
    "            print(\"Sie haben das Buch komplett gelesen!\")\n",
    "        else:\n",
    "            gesamt = self.ges_seiten - (self.gelesen)\n",
    "            print(f'Sie haben {self.gelesen} Seiten gelesen. Ihnen fehlen noch {gesamt} Seiten.')\n",
    "            \n",
    "\n",
    "isbn1, author1, title1, price1, ges_seiten1, gelesen1 = \"121234\", \"Hans Pans\", \"Dudeldumm\", 9.99, 368, 20\n",
    "book1 = Book('121234', 'Hans Pans', 'Dudeldumm', 9.99, 368, 20)\n",
    "\n",
    "assert (book1.isbn == isbn1)\n",
    "assert (book1.author == author1)\n",
    "assert (book1.title == title1)\n",
    "assert (book1.price == price1)\n",
    "\n",
    "print(book1.ges_seiten)\n",
    "book1.lese(20)\n",
    "#print(book1.gelesen)\n",
    "book1.lese(100)\n",
    "\n"
   ]
  },
  {
   "cell_type": "markdown",
   "id": "95723903",
   "metadata": {},
   "source": [
    "Spezialmethoden"
   ]
  },
  {
   "cell_type": "code",
   "execution_count": 17,
   "id": "8ebeffd0",
   "metadata": {},
   "outputs": [
    {
     "name": "stdout",
     "output_type": "stream",
     "text": [
      "Rechteck(x: 5, y: 4, breite: 6, hoehe: 3)\n",
      "Rect((5, 4), w:6, h3)\n",
      "False\n"
     ]
    }
   ],
   "source": [
    "class Rectangle:\n",
    "    \n",
    "    #init: Konstruktor um neue Instanzen einer Klasse mit Args zu erstellen\n",
    "    def __init__(self, x, y, width, height):\n",
    "        self.x = x\n",
    "        self.y = y\n",
    "        self.width = width\n",
    "        self.height = height\n",
    "    \n",
    "    #hilfreich für Unittests -> für Programmierer gedacht\n",
    "    def __repr__(self):\n",
    "        return \"Rect(({}, {}), w:{}, h{})\".format(self.x, self.y, self.width, self.height)\n",
    "    \n",
    "    #als Präsentation für Benutzer gedacht\n",
    "    def __str__(self):\n",
    "        return \"Rechteck(x: {}, y: {}, breite: {}, hoehe: {})\".format(self.x, self.y, self.width, self.height)\n",
    "    \n",
    "    \n",
    "    #Vergleich zu einem anderen Objekt other\n",
    "    def __eq__(self, other):\n",
    "        return isinstance(other, Rectangle) and \\\n",
    "                self.x == other.x and self.y == other.y and \\\n",
    "                self.width == other.width and self.height == other.height\n",
    "        \n",
    "re1 = Rectangle(5, 4, 6, 3)\n",
    "print(re1)\n",
    "print(repr(re1))\n",
    "\n",
    "re2 = Rectangle(3, 6, 4, 5)\n",
    "print(re1 == re2)"
   ]
  },
  {
   "cell_type": "markdown",
   "id": "d18795f6",
   "metadata": {},
   "source": [
    "Aufgabe: Spezialmethoden"
   ]
  },
  {
   "cell_type": "code",
   "execution_count": 36,
   "id": "6151bf0d",
   "metadata": {},
   "outputs": [
    {
     "name": "stdout",
     "output_type": "stream",
     "text": [
      "Domino(2, 4)\n",
      "[2, 4]\n",
      "True\n"
     ]
    }
   ],
   "source": [
    "class Domino:\n",
    "    \n",
    "    #init: Konstruktor um neue Instanzen einer Klasse mit Args zu erstellen\n",
    "    def __init__(self, first, second):\n",
    "        self.first = first\n",
    "        self.second = second\n",
    "     \n",
    "    #hilfreich für Unittests -> für Programmierer gedacht\n",
    "    def __repr__(self):\n",
    "        return \"Domino({}, {})\".format(self.first, self.second)\n",
    "    \n",
    "    #als Präsentation für Benutzer gedacht\n",
    "    def __str__(self):\n",
    "        return \"[{}, {}]\".format(self.first, self.second)\n",
    "      \n",
    "    #Vergleich zu einem anderen Objekt other\n",
    "    def __eq__(self, other):\n",
    "        return isinstance(other, Domino) and \\\n",
    "                ((self.first == other.first and self.second == other.second or \\\n",
    "                self.first == other.second and self.second == other.first))\n",
    "    \n",
    "\n",
    "s1 = Domino(3, 4)\n",
    "s2 = Domino(2, 4)\n",
    "s3 = Domino(4, 5)\n",
    "print(repr(s2))\n",
    "print(s2)\n",
    "print((s2.second == s3.first))"
   ]
  },
  {
   "cell_type": "markdown",
   "id": "e3b44c72",
   "metadata": {},
   "source": [
    "Lernziel"
   ]
  },
  {
   "cell_type": "code",
   "execution_count": 10,
   "id": "7edd3c63",
   "metadata": {},
   "outputs": [
    {
     "name": "stdout",
     "output_type": "stream",
     "text": [
      "3\n",
      "FC Bayern hat gegen Vfl Wolfsburg mit 3 : 1 gewonnen.\n"
     ]
    }
   ],
   "source": [
    "class GameResult:\n",
    "    \n",
    "    def __init__(self, home_team: str, away_team: str, goals_home: int, goals_away: int):\n",
    "        self.home_team: str = home_team\n",
    "        self.away_team: str = away_team\n",
    "        self.goals_home: int = goals_home\n",
    "        self.goals_away: int = goals_away\n",
    "            \n",
    "    def announce(self) -> str:\n",
    "        #result_string: str\n",
    "        if self.goals_home > self.goals_away:\n",
    "            result = 'gewonnen'\n",
    "        elif self.goals_home < self.goals_away:\n",
    "            result = 'verloren'\n",
    "        else:\n",
    "            result = 'unentschieden gespielt'\n",
    "        return f'{self.home_team} hat gegen {self.away_team} ' \\\n",
    "               f'mit {self.goals_home} : {self.goals_away} {result}.'\n",
    "    \n",
    "    \n",
    "team1 = GameResult('FC Bayern', 'Vfl Wolfsburg', 3, 1)\n",
    "print(team1.goals_home)\n",
    "print(team1.announce())"
   ]
  },
  {
   "cell_type": "code",
   "execution_count": null,
   "id": "73abea54",
   "metadata": {},
   "outputs": [],
   "source": []
  }
 ],
 "metadata": {
  "kernelspec": {
   "display_name": "Python 3",
   "language": "python",
   "name": "python3"
  },
  "language_info": {
   "codemirror_mode": {
    "name": "ipython",
    "version": 3
   },
   "file_extension": ".py",
   "mimetype": "text/x-python",
   "name": "python",
   "nbconvert_exporter": "python",
   "pygments_lexer": "ipython3",
   "version": "3.8.8"
  }
 },
 "nbformat": 4,
 "nbformat_minor": 5
}
