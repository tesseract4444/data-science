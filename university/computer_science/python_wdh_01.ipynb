{
 "cells": [
  {
   "cell_type": "markdown",
   "id": "185a23a6",
   "metadata": {},
   "source": [
    "# Vorlesung01\n",
    "- Funktionen\n",
    "- Bedingungen"
   ]
  },
  {
   "cell_type": "markdown",
   "id": "6fa79642",
   "metadata": {},
   "source": [
    "#### Pre"
   ]
  },
  {
   "cell_type": "code",
   "execution_count": 6,
   "id": "8b0ad8a1",
   "metadata": {},
   "outputs": [],
   "source": [
    "def biggest(a, b, c):\n",
    "    current_big = a\n",
    "    \n",
    "    if b > a:\n",
    "        current_big = b\n",
    "    if c > a:\n",
    "        current_big = c\n",
    "        \n",
    "    return current_big\n",
    "    "
   ]
  },
  {
   "cell_type": "code",
   "execution_count": null,
   "id": "cbf87357",
   "metadata": {},
   "outputs": [],
   "source": [
    "print(biggest(13, 17, 9))"
   ]
  },
  {
   "cell_type": "markdown",
   "id": "d7fb0502",
   "metadata": {},
   "source": [
    "#### Hausaufgabe01"
   ]
  },
  {
   "cell_type": "code",
   "execution_count": 25,
   "id": "a31cde38",
   "metadata": {},
   "outputs": [
    {
     "name": "stdout",
     "output_type": "stream",
     "text": [
      "Bitte Zahl eingeben...34\n",
      "positiv\n"
     ]
    }
   ],
   "source": [
    "def my_value():\n",
    "    value = int(input(\"Bitte Zahl eingeben...\"))\n",
    "    \n",
    "    if value < 0:\n",
    "        return 'negativ'\n",
    "    elif value > 0:\n",
    "        return 'positiv'\n",
    "    else:\n",
    "        return 'NULL'\n",
    "    \n",
    "print(my_value())"
   ]
  },
  {
   "cell_type": "code",
   "execution_count": 33,
   "id": "3b54f6a6",
   "metadata": {
    "scrolled": true
   },
   "outputs": [
    {
     "name": "stdout",
     "output_type": "stream",
     "text": [
      "Bitte Punktzahl eingeben...90\n",
      "Sehr gut! Sie haben 90 Punkte erreicht!\n"
     ]
    }
   ],
   "source": [
    "def my_punkte():\n",
    "    punkte = int(input(\"Bitte Punktzahl eingeben...\"))\n",
    "    \n",
    "    if punkte >= 80 and punkte <= 100:\n",
    "        return 'Sehr gut! Sie haben ' + str(punkte) + ' Punkte erreicht!' \n",
    "    elif punkte < 80 and punkte >=50:\n",
    "        return 'Befriedigend! Sie haben ' + str(punkte) + ' Punkte erreicht!'\n",
    "    elif punkte < 50 and punkte >=0:\n",
    "        return 'Durchgefallen! Sie haben nur ' + str(punkte) + ' Punkte erreicht!'\n",
    "    else:\n",
    "        return 'Ungültige Punktzahl!'\n",
    "\n",
    "print(my_punkte())"
   ]
  },
  {
   "cell_type": "markdown",
   "id": "64d85d53",
   "metadata": {},
   "source": [
    "#### Hausaufgabe 02\n",
    "1. Prüfen\n",
    "2. Mitternachtsformel"
   ]
  },
  {
   "cell_type": "code",
   "execution_count": 40,
   "id": "1c874239",
   "metadata": {},
   "outputs": [
    {
     "name": "stdout",
     "output_type": "stream",
     "text": [
      "2. Statement\n"
     ]
    }
   ],
   "source": [
    "#1\n",
    "def ausgabe(print1, print2, print3):\n",
    "    if print1:\n",
    "        print(\"1. Statement\")\n",
    "    if print2:\n",
    "        print(\"2. Statement\")\n",
    "    if print3:\n",
    "        return #bricht Bedinungung ab\n",
    "        print(\"3. Statement\")\n",
    "\n",
    "ausgabe(False, True, True)"
   ]
  },
  {
   "cell_type": "code",
   "execution_count": 52,
   "id": "fb7faa3a",
   "metadata": {},
   "outputs": [
    {
     "name": "stdout",
     "output_type": "stream",
     "text": [
      "(-0.5, 1.5)\n"
     ]
    }
   ],
   "source": [
    "#2\n",
    "from math import sqrt\n",
    "\n",
    "def nullstellen(a, b, c):\n",
    "    x1 = (-b+sqrt(b**2-4*a*c))/(2*a)\n",
    "    x2 = (-b-sqrt(b**2-4*a*c))/(2*a)\n",
    "    \n",
    "    return x1, x2\n",
    "\n",
    "print(nullstellen(-4, 4, 3))"
   ]
  },
  {
   "cell_type": "markdown",
   "id": "0c83488f",
   "metadata": {},
   "source": [
    "#### Beispiel: Funktionen"
   ]
  },
  {
   "cell_type": "code",
   "execution_count": 61,
   "id": "a13b985c",
   "metadata": {},
   "outputs": [
    {
     "name": "stdout",
     "output_type": "stream",
     "text": [
      "Hallo, Anna!\n",
      "Hallo, Johanna!\n",
      "\n",
      "Bitte Name eingeben...Simon\n",
      "Hallo, Simon!\n"
     ]
    }
   ],
   "source": [
    "def greet(name):\n",
    "    return 'Hallo, ' + name + '!'\n",
    "\n",
    "print(greet('Anna'))\n",
    "\n",
    "#Alt2:\n",
    "def greet2(name2, greetings = 'Hallo, '):\n",
    "    return greetings + name2 + '!'\n",
    "\n",
    "print(greet2('Johanna'))\n",
    "\n",
    "#Alt3:\n",
    "def greet3():\n",
    "    name = input('\\nBitte Name eingeben...')\n",
    "    return 'Hallo, ' + name + '!'\n",
    "\n",
    "print(greet3())"
   ]
  },
  {
   "cell_type": "markdown",
   "id": "daf3fcdd",
   "metadata": {},
   "source": [
    "#### Hausaufgabe03"
   ]
  },
  {
   "cell_type": "code",
   "execution_count": 73,
   "id": "c42e5766",
   "metadata": {},
   "outputs": [
    {
     "name": "stdout",
     "output_type": "stream",
     "text": [
      "[0, 0, 0, 0, 0, 0, 0, 0, 0, 0]\n",
      "[0, 1, 4, 9, 16, 25, 36, 49, 64, 81]\n"
     ]
    }
   ],
   "source": [
    "squares = [0, 0, 0, 0, 0, 0, 0, 0, 0, 0]\n",
    "print(squares)\n",
    "\n",
    "for i in range(0, 10):\n",
    "    squares[i] = i**2\n",
    "print(squares)"
   ]
  },
  {
   "cell_type": "code",
   "execution_count": null,
   "id": "32e85000",
   "metadata": {},
   "outputs": [],
   "source": []
  }
 ],
 "metadata": {
  "kernelspec": {
   "display_name": "Python 3",
   "language": "python",
   "name": "python3"
  },
  "language_info": {
   "codemirror_mode": {
    "name": "ipython",
    "version": 3
   },
   "file_extension": ".py",
   "mimetype": "text/x-python",
   "name": "python",
   "nbconvert_exporter": "python",
   "pygments_lexer": "ipython3",
   "version": "3.8.8"
  }
 },
 "nbformat": 4,
 "nbformat_minor": 5
}
