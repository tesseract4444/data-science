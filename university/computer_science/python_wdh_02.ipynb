{
 "cells": [
  {
   "cell_type": "markdown",
   "id": "99765a98",
   "metadata": {},
   "source": [
    "# Vorlesung02\n",
    "- Schleifen\n",
    "- Type hints\n",
    "- Listen\n",
    "- Exceptions\n",
    "- Test Driven Development (TDD)"
   ]
  },
  {
   "cell_type": "markdown",
   "id": "88121c65",
   "metadata": {},
   "source": [
    "#### Beispiel: while-Schleifen"
   ]
  },
  {
   "cell_type": "code",
   "execution_count": 75,
   "id": "62dd94ad",
   "metadata": {},
   "outputs": [
    {
     "name": "stdout",
     "output_type": "stream",
     "text": [
      "0\n",
      "1\n",
      "2\n",
      "3\n",
      "4\n"
     ]
    }
   ],
   "source": [
    "i = 0\n",
    "while i < 5:\n",
    "    print(i)\n",
    "    i += 1"
   ]
  },
  {
   "cell_type": "code",
   "execution_count": 77,
   "id": "8d2b4045",
   "metadata": {},
   "outputs": [
    {
     "name": "stdout",
     "output_type": "stream",
     "text": [
      "0\n",
      "3\n",
      "4\n",
      "7\n"
     ]
    }
   ],
   "source": [
    "nums = [0, 3, 4, 7, 10, 12]\n",
    "\n",
    "j = 0\n",
    "while nums[j] < 10:\n",
    "    print(nums[j])\n",
    "    j += 1"
   ]
  },
  {
   "cell_type": "markdown",
   "id": "00b82582",
   "metadata": {},
   "source": [
    "#### Beispiel: for-Schleifen"
   ]
  },
  {
   "cell_type": "code",
   "execution_count": 80,
   "id": "54e86413",
   "metadata": {},
   "outputs": [
    {
     "name": "stdout",
     "output_type": "stream",
     "text": [
      "0\n",
      "1\n",
      "2\n",
      "3\n",
      "4\n",
      "5\n",
      "6\n",
      "7\n",
      "8\n",
      "9\n",
      "10\n"
     ]
    }
   ],
   "source": [
    "for i in range(11):\n",
    "    print(i)"
   ]
  },
  {
   "cell_type": "code",
   "execution_count": 83,
   "id": "de5e2b21",
   "metadata": {},
   "outputs": [
    {
     "name": "stdout",
     "output_type": "stream",
     "text": [
      "0\n",
      "2\n",
      "4\n",
      "6\n",
      "8\n"
     ]
    }
   ],
   "source": [
    "for j in range(0, 10, 2):\n",
    "    print(j)"
   ]
  },
  {
   "cell_type": "code",
   "execution_count": 94,
   "id": "01d26883",
   "metadata": {},
   "outputs": [
    {
     "name": "stdout",
     "output_type": "stream",
     "text": [
      "0\n",
      "1\n",
      "4\n",
      "9\n",
      "16\n",
      "25\n",
      "36\n",
      "49\n",
      "64\n"
     ]
    }
   ],
   "source": [
    "squares_1 = []\n",
    "for k in range(9):\n",
    "    k = k**2 \n",
    "    squares_1.append(k)\n",
    "\n",
    "for square in squares_1:\n",
    "    print(square)"
   ]
  },
  {
   "cell_type": "markdown",
   "id": "5d57679a",
   "metadata": {},
   "source": [
    "#### Beispiel: Listen und Type hints"
   ]
  },
  {
   "cell_type": "code",
   "execution_count": 168,
   "id": "9271d171",
   "metadata": {},
   "outputs": [
    {
     "name": "stdout",
     "output_type": "stream",
     "text": [
      "[0, 1, 8, 27, 64]\n",
      "[1, 0, 0]\n",
      "[0, 1, 0]\n",
      "[0, 0, 1]\n",
      "[1, 'Zwei', 3.0, 4]\n"
     ]
    }
   ],
   "source": [
    "from typing import List, Any\n",
    "\n",
    "squares: List[int] = [i**3 for i in range(5)] #->Type hint in List[int]\n",
    "print(squares)\n",
    "\n",
    "matrix: List[List[int]] = [[1, 0, 0], [0, 1, 0], [0, 0, 1]]\n",
    "for j in matrix:\n",
    "    print(j)\n",
    "\n",
    "mixed_list: List[Any] = [1, \"Zwei\", 3.0, 4] #Any für irgendwelche Objekte\n",
    "print(mixed_list)"
   ]
  },
  {
   "cell_type": "code",
   "execution_count": 170,
   "id": "d469ed1f",
   "metadata": {},
   "outputs": [
    {
     "name": "stdout",
     "output_type": "stream",
     "text": [
      "[0, 4, 16, 36, 64, 100]\n"
     ]
    }
   ],
   "source": [
    "even_squares = [0, 4, 16, 36, 64, 100]\n",
    "\n",
    "even_squares = []\n",
    "for i in range(11):\n",
    "    if i%2 == 0:\n",
    "        even_squares.append(i*i)\n",
    "        \n",
    "even_squares = [i*i for i in range(11) if i%2 == 0]\n",
    "\n",
    "even_squares = [i**2 for i in range(0, 11, 2)]\n",
    "\n",
    "print(even_squares)"
   ]
  },
  {
   "cell_type": "markdown",
   "id": "8889b083",
   "metadata": {},
   "source": [
    "#### Hausaufgabe04"
   ]
  },
  {
   "cell_type": "code",
   "execution_count": 198,
   "id": "21c2ba77",
   "metadata": {},
   "outputs": [
    {
     "name": "stdout",
     "output_type": "stream",
     "text": [
      "55\n",
      "Error\n",
      "56\n"
     ]
    }
   ],
   "source": [
    "from typing import List\n",
    "\n",
    "def sum_of_elements(numbers):\n",
    "    \n",
    "    if len(numbers) == 0:\n",
    "        return 'Error'\n",
    "    \n",
    "    summe = 0\n",
    "    for i in numbers:\n",
    "        summe += i\n",
    "    return summe\n",
    "    #Alt: \n",
    "    #return sum(numbers)\n",
    "\n",
    "print(sum_of_elements([i for i in range(11)]))\n",
    "print(sum_of_elements([]))\n",
    "print(sum_of_elements([j**2 for j in range(1, 8) if j%2 == 0]))"
   ]
  },
  {
   "cell_type": "markdown",
   "id": "367d53ba",
   "metadata": {},
   "source": [
    "#### Listen - Slicing"
   ]
  },
  {
   "cell_type": "code",
   "execution_count": 226,
   "id": "72caff92",
   "metadata": {},
   "outputs": [
    {
     "name": "stdout",
     "output_type": "stream",
     "text": [
      "[:] Alle Primzahlen: [2, 3, 5, 7, 11, 13, 17, 19, 23, 29]\n",
      "[0:3] Zahlen 1-3: [2, 3, 5]\n",
      "[-2:] Letzte 2: [23, 29]\n",
      "[:-2] Alles außer die letzten 2: [2, 3, 5, 7, 11, 13, 17, 19]\n",
      "[::2] Jede zweite Zahl: [2, 5, 11, 17, 23]\n",
      "[::-1] Ausgabe umgekehrt: [29, 23, 19, 17, 13, 11, 7, 5, 3, 2]\n",
      "[::-2] Jede zweite von hinten: [29, 19, 13, 7, 3]\n"
     ]
    }
   ],
   "source": [
    "primes = [2, 3, 5, 7, 11, 13, 17, 19, 23, 29]\n",
    "\n",
    "print(f'[:] Alle Primzahlen:', primes[:])\n",
    "print(f'[0:3] Zahlen 1-3:', primes[0:3])\n",
    "print(f'[-2:] Letzte 2:', primes[-2:])\n",
    "print(f'[:-2] Alles außer die letzten 2:', primes[:-2])\n",
    "print(f'[::2] Jede zweite Zahl:', primes[::2])\n",
    "print(f'[::-1] Ausgabe umgekehrt:', primes[::-1])\n",
    "print(f'[::-2] Jede zweite von hinten:', primes[::-2])"
   ]
  },
  {
   "cell_type": "markdown",
   "id": "5312eed7",
   "metadata": {},
   "source": [
    "#### Importe"
   ]
  },
  {
   "cell_type": "code",
   "execution_count": 255,
   "id": "482ecd99",
   "metadata": {},
   "outputs": [
    {
     "name": "stdout",
     "output_type": "stream",
     "text": [
      "[29, 64, 13, 15, 13]\n"
     ]
    }
   ],
   "source": [
    "import math\n",
    "from random import randint\n",
    "\n",
    "my_list = [int((randint(0, 100))) for x in range(5)]\n",
    "print(my_list)"
   ]
  },
  {
   "cell_type": "markdown",
   "id": "911823bb",
   "metadata": {},
   "source": [
    "#### Exceptions"
   ]
  },
  {
   "cell_type": "code",
   "execution_count": 260,
   "id": "d202d9c6",
   "metadata": {},
   "outputs": [
    {
     "name": "stdout",
     "output_type": "stream",
     "text": [
      "2.5\n",
      "4.0\n"
     ]
    }
   ],
   "source": [
    "def div(x, y):\n",
    "    if y == 0.0:\n",
    "        raise Exception('You cannot divide by 0!')\n",
    "    else:\n",
    "        return x/y\n",
    "\n",
    "print(div(5, 2))\n",
    "#print(div(10, 0))\n",
    "print(div(12, 3))"
   ]
  },
  {
   "cell_type": "code",
   "execution_count": 279,
   "id": "b0181626",
   "metadata": {},
   "outputs": [
    {
     "name": "stdout",
     "output_type": "stream",
     "text": [
      "2.5\n",
      "4.0\n",
      "You cannot divide by 0!\n"
     ]
    },
    {
     "ename": "ZeroDivisionError",
     "evalue": "division by zero",
     "output_type": "error",
     "traceback": [
      "\u001b[1;31m---------------------------------------------------------------------------\u001b[0m",
      "\u001b[1;31mZeroDivisionError\u001b[0m                         Traceback (most recent call last)",
      "\u001b[1;32m<ipython-input-279-8c78bdf7c623>\u001b[0m in \u001b[0;36m<module>\u001b[1;34m\u001b[0m\n\u001b[0;32m      8\u001b[0m \u001b[0mprint\u001b[0m\u001b[1;33m(\u001b[0m\u001b[0mdiv2\u001b[0m\u001b[1;33m(\u001b[0m\u001b[1;36m5\u001b[0m\u001b[1;33m,\u001b[0m \u001b[1;36m2\u001b[0m\u001b[1;33m)\u001b[0m\u001b[1;33m)\u001b[0m\u001b[1;33m\u001b[0m\u001b[1;33m\u001b[0m\u001b[0m\n\u001b[0;32m      9\u001b[0m \u001b[0mprint\u001b[0m\u001b[1;33m(\u001b[0m\u001b[0mdiv2\u001b[0m\u001b[1;33m(\u001b[0m\u001b[1;36m12\u001b[0m\u001b[1;33m,\u001b[0m \u001b[1;36m3\u001b[0m\u001b[1;33m)\u001b[0m\u001b[1;33m)\u001b[0m\u001b[1;33m\u001b[0m\u001b[1;33m\u001b[0m\u001b[0m\n\u001b[1;32m---> 10\u001b[1;33m \u001b[0mprint\u001b[0m\u001b[1;33m(\u001b[0m\u001b[0mdiv2\u001b[0m\u001b[1;33m(\u001b[0m\u001b[1;36m10\u001b[0m\u001b[1;33m,\u001b[0m \u001b[1;36m0\u001b[0m\u001b[1;33m)\u001b[0m\u001b[1;33m)\u001b[0m\u001b[1;33m\u001b[0m\u001b[1;33m\u001b[0m\u001b[0m\n\u001b[0m",
      "\u001b[1;32m<ipython-input-279-8c78bdf7c623>\u001b[0m in \u001b[0;36mdiv2\u001b[1;34m(x, y)\u001b[0m\n\u001b[0;32m      4\u001b[0m     \u001b[1;32mexcept\u001b[0m \u001b[0mZeroDivisionError\u001b[0m\u001b[1;33m:\u001b[0m\u001b[1;33m\u001b[0m\u001b[1;33m\u001b[0m\u001b[0m\n\u001b[0;32m      5\u001b[0m         \u001b[0mprint\u001b[0m\u001b[1;33m(\u001b[0m\u001b[1;34m'You cannot divide by 0!'\u001b[0m\u001b[1;33m)\u001b[0m\u001b[1;33m\u001b[0m\u001b[1;33m\u001b[0m\u001b[0m\n\u001b[1;32m----> 6\u001b[1;33m     \u001b[1;32mreturn\u001b[0m \u001b[0mx\u001b[0m\u001b[1;33m/\u001b[0m\u001b[0my\u001b[0m\u001b[1;33m\u001b[0m\u001b[1;33m\u001b[0m\u001b[0m\n\u001b[0m\u001b[0;32m      7\u001b[0m \u001b[1;33m\u001b[0m\u001b[0m\n\u001b[0;32m      8\u001b[0m \u001b[0mprint\u001b[0m\u001b[1;33m(\u001b[0m\u001b[0mdiv2\u001b[0m\u001b[1;33m(\u001b[0m\u001b[1;36m5\u001b[0m\u001b[1;33m,\u001b[0m \u001b[1;36m2\u001b[0m\u001b[1;33m)\u001b[0m\u001b[1;33m)\u001b[0m\u001b[1;33m\u001b[0m\u001b[1;33m\u001b[0m\u001b[0m\n",
      "\u001b[1;31mZeroDivisionError\u001b[0m: division by zero"
     ]
    }
   ],
   "source": [
    "def div2(x, y):\n",
    "    try:\n",
    "        x/y == 0\n",
    "    except ZeroDivisionError:\n",
    "        print('You cannot divide by 0!')\n",
    "    return x/y\n",
    "\n",
    "print(div2(5, 2))\n",
    "print(div2(12, 3))\n",
    "print(div2(10, 0))"
   ]
  },
  {
   "cell_type": "code",
   "execution_count": 287,
   "id": "93af1b87",
   "metadata": {},
   "outputs": [],
   "source": [
    "#Fangen von mehreren Exceptions\n",
    "\n",
    "def some_func(arg1: bool, arg2: int) -> int:\n",
    "    if not arg1:\n",
    "        raise ArgFalseException(\"Argument 1 was false!\")\n",
    "    if arg2 == 0:\n",
    "        raise ArgZeroException(\"Argument 2 was zero!\")\n",
    "    return 1\n",
    "        \n",
    "    try:\n",
    "        file = some_func(False, 0)\n",
    "    except ArgFalseException:\n",
    "        print(\"that did not work...\")\n",
    "    except ArgZeroException:\n",
    "        print(\"that did not work either\")\n",
    "    "
   ]
  },
  {
   "cell_type": "markdown",
   "id": "581b4e17",
   "metadata": {},
   "source": [
    "#### TDD"
   ]
  },
  {
   "cell_type": "code",
   "execution_count": 299,
   "id": "1035c6c8",
   "metadata": {},
   "outputs": [],
   "source": [
    "def test(i):\n",
    "    if i == 0:\n",
    "        return \"Fehler\"\n",
    "    return 5/i\n",
    "\n",
    "assert(test(0) == \"Fehler\")\n",
    "assert(test(1) == 5)\n",
    "assert(test(2) == 2.5)"
   ]
  },
  {
   "cell_type": "code",
   "execution_count": 397,
   "id": "05a4d48e",
   "metadata": {},
   "outputs": [],
   "source": [
    "# Aufgabe TDD\n",
    "\n",
    "from typing import List\n",
    "\n",
    "def get_index(numbers: List[int], x: int)-> int:\n",
    "\n",
    "        index = 0\n",
    "        for i in numbers:\n",
    "            if i == x:\n",
    "                return index\n",
    "            index += 1\n",
    "        return -1\n",
    "    \n",
    "        #Alt:\n",
    "        '''for i in numbers:\n",
    "            if i == x:\n",
    "                return numbers.index(x)\n",
    "        return -1'''\n",
    "\n",
    "assert (get_index([], 2) == -1)\n",
    "assert (get_index([1], 2) == -1)\n",
    "assert (get_index([1, 2], 2) == 1)\n",
    "assert (get_index([0, 2, 4, 6, 8], 0) == 0)\n",
    "assert (get_index([-10, -5, 0, 5, 10, 10], 10) == 4)"
   ]
  },
  {
   "cell_type": "markdown",
   "id": "c6bdb8d0",
   "metadata": {},
   "source": [
    "#### Lernziel"
   ]
  },
  {
   "cell_type": "code",
   "execution_count": 408,
   "id": "17ca165b",
   "metadata": {},
   "outputs": [],
   "source": [
    "from typing import List\n",
    "\n",
    "def season_points(game_results: List[List[int]]) -> int:\n",
    "    points: int = 0\n",
    "\n",
    "    for game_result in game_results:\n",
    "        own_goals: int = game_result[0]\n",
    "        opp_goals: int = game_result[1]\n",
    "        if own_goals > opp_goals:\n",
    "            points += 3\n",
    "        elif own_goals == opp_goals:\n",
    "            points += 1\n",
    "        # else:\n",
    "        # points += 0\n",
    "    \n",
    "    return points"
   ]
  },
  {
   "cell_type": "code",
   "execution_count": null,
   "id": "fb9f4cf9",
   "metadata": {},
   "outputs": [],
   "source": []
  }
 ],
 "metadata": {
  "kernelspec": {
   "display_name": "Python 3",
   "language": "python",
   "name": "python3"
  },
  "language_info": {
   "codemirror_mode": {
    "name": "ipython",
    "version": 3
   },
   "file_extension": ".py",
   "mimetype": "text/x-python",
   "name": "python",
   "nbconvert_exporter": "python",
   "pygments_lexer": "ipython3",
   "version": "3.8.8"
  }
 },
 "nbformat": 4,
 "nbformat_minor": 5
}
