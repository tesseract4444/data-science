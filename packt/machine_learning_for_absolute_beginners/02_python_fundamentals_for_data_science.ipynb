{
 "cells": [
  {
   "cell_type": "markdown",
   "id": "0fbe9a58",
   "metadata": {},
   "source": [
    "## Basics"
   ]
  },
  {
   "cell_type": "code",
   "execution_count": 8,
   "id": "e048ecc5",
   "metadata": {},
   "outputs": [],
   "source": [
    "#infos zu einer funktion ausgeben über \"?\"\n",
    "my_str = \"hello\"\n",
    "my_str.upper?"
   ]
  },
  {
   "cell_type": "code",
   "execution_count": 10,
   "id": "3730d5f4",
   "metadata": {},
   "outputs": [
    {
     "name": "stdout",
     "output_type": "stream",
     "text": [
      "[1, 2, 3, 4, 5, 6, 7, 8, 9]\n"
     ]
    }
   ],
   "source": [
    "#werte in liste konvertieren\n",
    "numbers = list(range(1,10))\n",
    "print(numbers)"
   ]
  },
  {
   "cell_type": "code",
   "execution_count": 14,
   "id": "3d4a7cac",
   "metadata": {},
   "outputs": [
    {
     "name": "stdout",
     "output_type": "stream",
     "text": [
      "['fuchs', 'katze', 'hund']\n",
      "['fuchs', 'katze', 'hund', 'vogel']\n",
      "['fuchs', 'hund', 'vogel']\n",
      "['hund', 'vogel']\n"
     ]
    }
   ],
   "source": [
    "#werte einer liste hinzufügen oder entfernen\n",
    "list1 = [\"fuchs\", \"katze\", \"hund\"]\n",
    "print(list1)\n",
    "list1.append(\"vogel\")\n",
    "print(list1)\n",
    "list1.remove(\"katze\")\n",
    "print(list1)\n",
    "del list1[0]\n",
    "print(list1)"
   ]
  },
  {
   "cell_type": "code",
   "execution_count": 16,
   "id": "0b94d236",
   "metadata": {},
   "outputs": [
    {
     "name": "stdout",
     "output_type": "stream",
     "text": [
      "2\n"
     ]
    }
   ],
   "source": [
    "#tuple\n",
    "my_tuple = (1, 2, 3, 4)\n",
    "print(my_tuple[1])\n",
    "#tuple sind nicht veränderbar!"
   ]
  },
  {
   "cell_type": "code",
   "execution_count": 22,
   "id": "9f93bf62",
   "metadata": {},
   "outputs": [
    {
     "name": "stdout",
     "output_type": "stream",
     "text": [
      "Not available\n"
     ]
    }
   ],
   "source": [
    "#funktionen\n",
    "def greet(name):\n",
    "    if name==\"Simon\":\n",
    "        print(f\"Hello {name}\")\n",
    "    elif name==\"Dude\":\n",
    "        print(f\"Hello {name}\")\n",
    "    else:\n",
    "        print(\"Not available\")\n",
    "        \n",
    "greet(\"Hansi\")"
   ]
  },
  {
   "cell_type": "code",
   "execution_count": 25,
   "id": "4025c2c0",
   "metadata": {},
   "outputs": [
    {
     "name": "stdout",
     "output_type": "stream",
     "text": [
      "Yellow\n",
      "Green\n"
     ]
    }
   ],
   "source": [
    "#indexzugriff in funktionen\n",
    "colors = [\"Red\", \"Yellow\", \"Green\", \"Black\"]\n",
    "\n",
    "def get_color(colors_list, location):\n",
    "    return colors_list[location]\n",
    "\n",
    "print(get_color(colors, 1))\n",
    "print(get_color(colors[1:], 1)) #slicing gibt neuen startpunkt vor"
   ]
  },
  {
   "cell_type": "code",
   "execution_count": 47,
   "id": "91511feb",
   "metadata": {},
   "outputs": [
    {
     "name": "stdout",
     "output_type": "stream",
     "text": [
      "{'id': 123, 'name': 'simon', 'sex': 'male', 'age': 37}\n",
      "simon\n",
      "{'id': 123, 'name': 'simon', 'age': 37}\n",
      "37\n",
      "{'id': 123, 'name': 'simon'}\n",
      "{'id': 252, 'name': 'simon'}\n",
      "{'id': 123, 'name': 'simon', 'sex': 'male', 'age': 37}\n",
      "\n",
      "id:\n",
      "123\n",
      "\n",
      "name:\n",
      "simon\n",
      "\n",
      "sex:\n",
      "male\n",
      "\n",
      "age:\n",
      "37\n",
      "\n",
      "\n",
      "Das ist drin!\n",
      "\n",
      "[{'id': 123, 'name': 'simon', 'sex': 'male', 'age': 37}, {'id': 234, 'name': 'dana', 'sex': 'female', 'age': 22}]\n"
     ]
    }
   ],
   "source": [
    "#dictionaries\n",
    "profile = {\"id\": 123, \"name\": \"simon\", \"sex\": \"male\", \"age\": 37}\n",
    "print(profile)\n",
    "print(profile[\"name\"])\n",
    "\n",
    "del profile[\"sex\"]#\n",
    "print(profile)\n",
    "\n",
    "print(profile.pop(\"age\"))\n",
    "print(profile)\n",
    "\n",
    "profile[\"id\"] = 252\n",
    "print(profile)\n",
    "\n",
    "profile = {\"id\": 123, \"name\": \"simon\", \"sex\": \"male\", \"age\": 37}\n",
    "print(profile)\n",
    "\n",
    "for key, value in profile.items():\n",
    "    print(f'\\n{key}:')\n",
    "    print(value)\n",
    "    \n",
    "if 123 in profile.values():\n",
    "    print(\"\\n\\nDas ist drin!\\n\")\n",
    "    \n",
    "#last_value = sorted(profile.values(), reverse=True)[0] #geht nicht, da nicht nur zahlenwerte enthalten!\n",
    "\n",
    "profile2 = {\"id\": 234, \"name\": \"dana\", \"sex\": \"female\", \"age\": 22}\n",
    "profiles = [profile, profile2]\n",
    "print(profiles)"
   ]
  },
  {
   "cell_type": "code",
   "execution_count": 64,
   "id": "1fe8fa84",
   "metadata": {},
   "outputs": [
    {
     "name": "stdout",
     "output_type": "stream",
     "text": [
      "HELLO\n",
      "['a', 'n', 'z']\n",
      "White\n",
      "BMW\n",
      "1\n",
      "Red\n",
      "2\n"
     ]
    }
   ],
   "source": [
    "#classes, objects, attributes and methods\n",
    "str1 = \"hello\"\n",
    "print(str1.upper())\n",
    "\n",
    "abc = [\"z\", \"a\", \"n\"]\n",
    "abc.sort()\n",
    "print(abc)\n",
    "\n",
    "class Car:\n",
    "    \n",
    "    def __init__(self, color, model):\n",
    "        self.color = color\n",
    "        self.model = model\n",
    "        self.age = 1\n",
    "        \n",
    "    def change_color(self, new_color):\n",
    "        self.color = new_color\n",
    "        \n",
    "    def increase_age(self):\n",
    "        self.age = self.age + 1\n",
    "        \n",
    "car1 = Car(\"White\", \"BMW\")\n",
    "print(car1.color)\n",
    "print(car1.model)\n",
    "print(car1.age)\n",
    "car1.change_color(\"Red\")\n",
    "print(car1.color)\n",
    "car1.increase_age()\n",
    "print(car1.age)"
   ]
  },
  {
   "cell_type": "code",
   "execution_count": 21,
   "id": "d9b767a0",
   "metadata": {},
   "outputs": [
    {
     "name": "stdout",
     "output_type": "stream",
     "text": [
      "46\n",
      "87\n",
      "3\n",
      "55\n",
      "57\n",
      "\n",
      "74\n",
      "\n",
      "75\n",
      "['.ipynb_checkpoints', '02_basics.ipynb']\n",
      "3.141592653589793\n",
      "3.10.10 | packaged by Anaconda, Inc. | (main, Mar 21 2023, 18:39:17) [MSC v.1916 64 bit (AMD64)]\n",
      "0.0\n",
      "25.0\n",
      "17.857142857142858\n",
      "10\n",
      "12.198750911856663\n"
     ]
    }
   ],
   "source": [
    "#importing modules\n",
    "import random\n",
    "\n",
    "for a in range(5):\n",
    "    print(random.randint(0,100))\n",
    "    \n",
    "print()\n",
    "\n",
    "import random as rd\n",
    "print(rd.randint(0, 100))\n",
    "\n",
    "print()\n",
    "\n",
    "from random import randint\n",
    "print(randint(0,100))\n",
    "\n",
    "from random import *\n",
    "\n",
    "#print(help(\"modules\"))\n",
    "\n",
    "import os\n",
    "import sys\n",
    "import math\n",
    "import statistics as st\n",
    "import random as rd\n",
    "\n",
    "print(os.listdir())\n",
    "print(math.pi)\n",
    "print(sys.version)\n",
    "print(math.sin(0))\n",
    "print(math.pow(5, 2))\n",
    "\n",
    "#statistics\n",
    "list = [10, 10, 10, 15, 30, 10, 40]\n",
    "print(st.mean(list))\n",
    "print(st.median(list))\n",
    "print(st.stdev(list))"
   ]
  },
  {
   "cell_type": "code",
   "execution_count": null,
   "id": "a5c7d0c9",
   "metadata": {},
   "outputs": [],
   "source": []
  }
 ],
 "metadata": {
  "kernelspec": {
   "display_name": "Python 3 (ipykernel)",
   "language": "python",
   "name": "python3"
  },
  "language_info": {
   "codemirror_mode": {
    "name": "ipython",
    "version": 3
   },
   "file_extension": ".py",
   "mimetype": "text/x-python",
   "name": "python",
   "nbconvert_exporter": "python",
   "pygments_lexer": "ipython3",
   "version": "3.10.10"
  }
 },
 "nbformat": 4,
 "nbformat_minor": 5
}
