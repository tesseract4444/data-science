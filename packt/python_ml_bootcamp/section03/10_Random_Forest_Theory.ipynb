{
 "cells": [
  {
   "cell_type": "markdown",
   "id": "afecb2a3-86c3-4c71-ab0d-4fac96a82e9c",
   "metadata": {},
   "source": [
    "#### 01 Random Forests\n",
    "\n",
    "- collecton of many decision trees\n",
    "    - each casts their vote (each make its individual prediction), majority wins\n",
    "- trained with bootstrapping/bagging\n",
    "    - each decision tree will have different variation of the training set\n",
    "    - sampling the training set with replacement, training size (usually) remains same as original\n",
    "    - tree diversity (each tree will learn differently because of random sampling from the training set)\n",
    "    - Random Forests are one of the best estimators"
   ]
  },
  {
   "cell_type": "markdown",
   "id": "58e45a1d-410e-439f-b0a7-6816dd430fdb",
   "metadata": {},
   "source": [
    "------------------------"
   ]
  },
  {
   "cell_type": "markdown",
   "id": "7a8a8b5b-ffb8-4591-853b-53fbcd0ab7e7",
   "metadata": {},
   "source": [
    "#### 02 Random Forest Parameters\n",
    "\n",
    "- same as decision trees\n",
    "- extra parameters: number of estimators (number of different decision trees)\n",
    "- bootstrap parameter (set to True: get each Decision Tree a different training sample)\n",
    "- max samples (when bootstrapping) (control the size of the training set, if we don't do this the size of the training set will be the same as the input size)\n",
    "- out of bag scoring\n",
    "    - if we choose samples from our training set with replacement\n",
    "    - different from validation, each tree has its oob (out of bag) samples and samples are not evaluated across full Random Forest\n",
    "    - quick to estimate generalization (generalized performance): saves some computational time because we can do this as we are training"
   ]
  },
  {
   "cell_type": "code",
   "execution_count": null,
   "id": "61887aa3-2e73-40ad-8a30-67e1e0556a2d",
   "metadata": {},
   "outputs": [],
   "source": []
  }
 ],
 "metadata": {
  "kernelspec": {
   "display_name": "Python 3 (ipykernel)",
   "language": "python",
   "name": "python3"
  },
  "language_info": {
   "codemirror_mode": {
    "name": "ipython",
    "version": 3
   },
   "file_extension": ".py",
   "mimetype": "text/x-python",
   "name": "python",
   "nbconvert_exporter": "python",
   "pygments_lexer": "ipython3",
   "version": "3.11.7"
  }
 },
 "nbformat": 4,
 "nbformat_minor": 5
}
