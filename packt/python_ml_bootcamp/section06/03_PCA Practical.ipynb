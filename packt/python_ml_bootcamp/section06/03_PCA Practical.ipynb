{
 "cells": [
  {
   "cell_type": "code",
   "execution_count": null,
   "metadata": {
    "colab": {
     "base_uri": "https://localhost:8080/"
    },
    "executionInfo": {
     "elapsed": 73836,
     "status": "ok",
     "timestamp": 1708693365555,
     "user": {
      "displayName": "Sim Don",
      "userId": "09290070938786203900"
     },
     "user_tz": -60
    },
    "id": "e5aRuJbX_OdF",
    "outputId": "55dfd3f2-957f-47d0-cf8e-486e445d2abd"
   },
   "outputs": [],
   "source": [
    "from sklearn.datasets import fetch_openml\n",
    "import numpy as np\n",
    "import matplotlib.pyplot as plt\n",
    "import pandas as pd\n",
    "from sklearn.model_selection import StratifiedShuffleSplit\n",
    "\n",
    "data = fetch_openml('mnist_784', version=1)#Get data from https://www.openml.org/d/554\n",
    "dfData = pd.DataFrame(np.c_[data[\"data\"],data[\"target\"]],columns = data[\"feature_names\"]+[\"target\"])\n",
    "stratSplit = StratifiedShuffleSplit(n_splits=1, test_size=0.2, random_state=0)\n",
    "\n",
    "for train_index, test_index in stratSplit.split(dfData[data[\"feature_names\"]], dfData[\"target\"]):\n",
    "    X_train = dfData[data[\"feature_names\"]].iloc[train_index]\n",
    "    X_test = dfData[data[\"feature_names\"]].iloc[test_index]\n",
    "\n",
    "    y_train = dfData[\"target\"].iloc[train_index]\n",
    "    y_test = dfData[\"target\"].iloc[test_index]"
   ]
  },
  {
   "cell_type": "code",
   "execution_count": null,
   "metadata": {
    "executionInfo": {
     "elapsed": 12767,
     "status": "ok",
     "timestamp": 1708692349121,
     "user": {
      "displayName": "Sim Don",
      "userId": "09290070938786203900"
     },
     "user_tz": -60
    },
    "id": "2RhWnxyM_OdK"
   },
   "outputs": [],
   "source": [
    "from sklearn.decomposition import PCA\n",
    "\n",
    "pca = PCA(n_components=100, #number of components we have\n",
    "          copy=True, #copy our training features, better set it to True\n",
    "          whiten=False, # removes relative variance scales for our components, normalizes our components, better performance but more information loss\n",
    "          svd_solver='auto', # solver to use for svd\n",
    "          #tol='auto', # only relevant for arpack svd solver\n",
    "          iterated_power='auto', # only relevant for randomized svd solver\n",
    "          random_state=0 # only relevant for arpack or randomized svd solver\n",
    "         )\n",
    "X_train_transf = pca.fit_transform(X_train)\n",
    "X_test_transf = pca.transform(X_test)"
   ]
  },
  {
   "cell_type": "code",
   "execution_count": null,
   "metadata": {
    "colab": {
     "base_uri": "https://localhost:8080/"
    },
    "executionInfo": {
     "elapsed": 411,
     "status": "ok",
     "timestamp": 1708692387529,
     "user": {
      "displayName": "Sim Don",
      "userId": "09290070938786203900"
     },
     "user_tz": -60
    },
    "id": "MCJfdWi4_OdL",
    "outputId": "0e07fd69-b88b-4f87-83ba-4f93195fccfa"
   },
   "outputs": [],
   "source": [
    "#attributes we have available\n",
    "print(pca.components_.shape) # principal components (100 dimensions)\n",
    "print(pca.explained_variance_.shape) # explained variance of each component\n",
    "print(pca.explained_variance_ratio_.shape) # explained variance ratio of each component\n",
    "print(pca.mean_) # mean of dataset before centering"
   ]
  },
  {
   "cell_type": "code",
   "execution_count": null,
   "metadata": {
    "colab": {
     "base_uri": "https://localhost:8080/",
     "height": 363
    },
    "executionInfo": {
     "elapsed": 9850,
     "status": "ok",
     "timestamp": 1708692565203,
     "user": {
      "displayName": "Sim Don",
      "userId": "09290070938786203900"
     },
     "user_tz": -60
    },
    "id": "QrKmY6ha_OdO",
    "outputId": "267c74df-af36-4817-d47d-2fa6243a5cb6"
   },
   "outputs": [],
   "source": [
    "#sum up the explained variance ratio with np.cumsum\n",
    "print('total explained variance:',round(np.cumsum(pca.explained_variance_ratio_)[-1],3))\n",
    "\n",
    "fig = plt.figure(figsize=(16,8))\n",
    "ax = fig.add_subplot(121)\n",
    "plt.imshow(X_train.astype(float).values[0].reshape(28,28),cmap=plt.get_cmap('gray_r'))\n",
    "plt.title('Original Image')\n",
    "plt.axis('off')\n",
    "ax = fig.add_subplot(122)\n",
    "X_rec = pca.inverse_transform(X_train_transf)\n",
    "plt.imshow(X_rec[0].reshape(28,-1),cmap=plt.get_cmap('gray_r'))\n",
    "plt.title('Reconstructed image')\n",
    "plt.axis('off')\n",
    "plt.show()"
   ]
  },
  {
   "cell_type": "code",
   "execution_count": null,
   "metadata": {
    "colab": {
     "base_uri": "https://localhost:8080/",
     "height": 345
    },
    "executionInfo": {
     "elapsed": 317769,
     "status": "ok",
     "timestamp": 1708693151661,
     "user": {
      "displayName": "Sim Don",
      "userId": "09290070938786203900"
     },
     "user_tz": -60
    },
    "id": "FeacQVwR_OdQ",
    "outputId": "5d70b538-a740-44e3-dbf2-1dcb4469a990"
   },
   "outputs": [],
   "source": [
    "import time\n",
    "from sklearn.ensemble import RandomForestClassifier\n",
    "\n",
    "# Define a function to transform data using a specified method\n",
    "def transform_data(X_train, X_test, method):\n",
    "    \"\"\"Transforms both training and test data using the provided method.\n",
    "\n",
    "    Args:\n",
    "        X_train (numpy.ndarray): Training data.\n",
    "        X_test (numpy.ndarray): Test data.\n",
    "        method (object): Transformation method, such as PCA.\n",
    "\n",
    "    Returns:\n",
    "        tuple: Transformed training data, transformed test data, and the method object.\n",
    "    \"\"\"\n",
    "\n",
    "    X_train_transf = method.fit_transform(X_train)  # Fit the method to training data and transform it\n",
    "    X_test_transf = method.transform(X_test)  # Transform test data using the fitted method\n",
    "    return X_train_transf, X_test_transf, method\n",
    "\n",
    "# Define a function to fit Random Forest classifiers and visualize feature importance\n",
    "def fit_and_visualize(X_train, y_train, X_test, y_test, X_train_transf, X_test_transf, pca):\n",
    "    \"\"\"Fits Random Forest Classifiers on original and transformed data,\n",
    "    visualizes feature importance, and compares performance.\n",
    "    \"\"\"\n",
    "\n",
    "    rf_clf = RandomForestClassifier(random_state=0)  # Create a Random Forest classifier\n",
    "    rc_clf_red = RandomForestClassifier(random_state=0)  # Create another Random Forest classifier\n",
    "\n",
    "    start = time.time()  # Start time for original data fitting\n",
    "    rf_clf.fit(X_train, y_train)  # Fit the classifier on original training data\n",
    "    rcFit = time.time() - start  # Calculate fitting time\n",
    "\n",
    "    start = time.time()  # Start time for transformed data fitting\n",
    "    rc_clf_red.fit(X_train_transf, y_train)  # Fit the classifier on transformed training data\n",
    "    rcRedFit = time.time() - start  # Calculate fitting time\n",
    "\n",
    "    # Visualize feature importance for both classifiers (of each pixel)\n",
    "    fig = plt.figure(figsize=(16, 8))  # Create a figure with two subplots\n",
    "    ax = fig.add_subplot(121)  # Add the first subplot\n",
    "    # Create an image plot of original feature importance\n",
    "    plt.imshow(rf_clf.feature_importances_.reshape(28, 28), cmap=plt.get_cmap('gray_r'))\n",
    "    plt.title(f\"Original feature importance, accuracy: {round(rf_clf.score(X_test, y_test), 3)}, fit time: {round(rcFit, 2)}s\")\n",
    "    plt.axis('off')  # Turn off axis labels\n",
    "\n",
    "    ax = fig.add_subplot(122)  # Add the second subplot\n",
    "    rc_clf_feat_rec = pca.inverse_transform(rc_clf_red.feature_importances_)  # Reconstruct feature importance using PCA\n",
    "    # Create an image plot of reconstructed feature importance\n",
    "    plt.imshow(rc_clf_feat_rec.reshape(28, -1), cmap=plt.get_cmap('gray_r'))\n",
    "    plt.title(f\"Reconstructed feature importance, accuracy: {round(rc_clf_red.score(X_test_transf, y_test), 3)}, fit time: {round(rcRedFit, 2)}s\")\n",
    "    plt.axis('off')  # Turn off axis labels\n",
    "\n",
    "    plt.show()  # Display the plots\n",
    "\n",
    "# Apply PCA transformation with 99% variance retained\n",
    "X_train_transf, X_test_transf, method = transform_data(X_train, X_test, PCA(n_components=.99)) #keep 99% of the explained variance in our components\n",
    "\n",
    "# Fit classifiers and visualize results\n",
    "fit_and_visualize(X_train, y_train, X_test, y_test, X_train_transf, X_test_transf, method)\n",
    "\n",
    "#results:\n",
    "#original shows nothing, reconstructed makes it appear as a 9\n",
    "#but: accuracy went down, training time went up => PCA failed in this case\n"
   ]
  },
  {
   "cell_type": "code",
   "execution_count": null,
   "metadata": {
    "colab": {
     "base_uri": "https://localhost:8080/",
     "height": 245
    },
    "executionInfo": {
     "elapsed": 372,
     "status": "error",
     "timestamp": 1708693270951,
     "user": {
      "displayName": "Sim Don",
      "userId": "09290070938786203900"
     },
     "user_tz": -60
    },
    "id": "hqGy2OwS_OdR",
    "outputId": "fcd8564c-7e18-456e-999e-de50835e2d92"
   },
   "outputs": [],
   "source": [
    "def fitAndVisualize(X_train, y_train, X_test, y_test, X_train_transf, X_test_transf, pca):\n",
    "    \"\"\"Fits Random Forest classifiers on original and transformed data, visualizes feature importance, and compares performance.\n",
    "    \"\"\"\n",
    "\n",
    "    # Create two Random Forest classifiers\n",
    "    rf_clf = RandomForestClassifier(random_state=0)\n",
    "    rc_clf_red = RandomForestClassifier(random_state=0)\n",
    "\n",
    "    # Fit the classifiers and measure fitting time\n",
    "    start = time.time()\n",
    "    rf_clf.fit(X_train, y_train)  # Fit on original data\n",
    "    rcFit = time.time() - start\n",
    "\n",
    "    start = time.time()\n",
    "    rc_clf_red.fit(X_train_transf, y_train)  # Fit on transformed data\n",
    "    rcRedFit = time.time() - start\n",
    "\n",
    "    # Create a figure with two subplots for visualization\n",
    "    fig = plt.figure(figsize=(16, 8))\n",
    "\n",
    "    # First subplot: Original feature importance\n",
    "    ax = fig.add_subplot(121)\n",
    "    plt.imshow(rf_clf.feature_importances_.reshape(28, 28), cmap=plt.get_cmap('gray_r'))\n",
    "    plt.title(f\"Original feature importance, accuracy: {round(rf_clf.score(X_test, y_test), 3)}, fit time: {round(rcFit, 2)}s\")\n",
    "    plt.axis('off')\n",
    "\n",
    "    # Second subplot: Reconstructed feature importance\n",
    "    ax = fig.add_subplot(122)\n",
    "    # Reshape feature importance before inverse transform (PCA expects 2D input)\n",
    "    rc_clf_feat_rec = pca.inverse_transform(rc_clf_red.feature_importances_.reshape(1, -1))\n",
    "    plt.imshow(rc_clf_feat_rec.reshape(28, -1), cmap=plt.get_cmap('gray_r'))\n",
    "    plt.title(f\"Reconstructed feature importance, accuracy: {round(rc_clf_red.score(X_test_transf, y_test), 3)}, fit time: {round(rcRedFit, 2)}s\")\n",
    "    plt.axis('off')\n",
    "\n",
    "    plt.show()  # Display the plots\n",
    "\n",
    "# Import Kernel PCA\n",
    "from sklearn.decomposition import KernelPCA\n",
    "\n",
    "# Create a Kernel PCA object with specific parameters\n",
    "kpca = KernelPCA(n_components=100,\n",
    "                 kernel='linear',\n",
    "                 fit_inverse_transform=False, #True will increase training time!\n",
    "                 eigen_solver='auto',\n",
    "                 tol=0,\n",
    "                 max_iter=0,\n",
    "                 remove_zero_eig=False, #components that have eigenvalues of 0 gonna be removed\n",
    "                 random_state=0,\n",
    "                 copy_X=True,\n",
    "                 n_jobs=-1\n",
    "                )\n",
    "\n",
    "# Example of accessing eigenvalues and eigenvectors (if fit_inverse_transform=True)  #inverse gets back to the original dataset\n",
    "# kpca.lambas_  # eigenvalues\n",
    "# kpca.alphas_  # eigenvectors\n",
    "\n",
    "# Transform data using Kernel PCA with an RBF kernel (same as above but now with RBF instead)\n",
    "X_train_transf, X_test_transf, method = transformData(X_train.astype(int).iloc[:15000], #now reduced number of training features\n",
    "                                                      X_test.astype(int),\n",
    "                                                      KernelPCA(n_components=100,\n",
    "                                                                kernel='rbf',\n",
    "                                                                gamma=20,\n",
    "                                                                fit_inverse_transform=True,\n",
    "                                                                n_jobs=3\n",
    "                                                               )\n",
    "                                                     )\n",
    "\n",
    "# Fit classifiers and visualize results using the transformed data\n",
    "fitAndVisualize(X_train.iloc[:15000],\n",
    "                y_train.iloc[:15000],\n",
    "                X_test,\n",
    "                y_test,\n",
    "                X_train_transf,\n",
    "                X_test_transf,\n",
    "                method)\n",
    "\n",
    "\n",
    "#result:\n",
    "#accuracy and training time going down (right side)\n",
    "#but it's much faster than before thanks to a reduced dataset\n",
    "#so both PCA implementations provided much poorer results"
   ]
  },
  {
   "cell_type": "markdown",
   "metadata": {},
   "source": [
    "---------------"
   ]
  },
  {
   "cell_type": "code",
   "execution_count": 3,
   "metadata": {
    "colab": {
     "base_uri": "https://localhost:8080/",
     "height": 1000
    },
    "executionInfo": {
     "elapsed": 433,
     "status": "error",
     "timestamp": 1708693759102,
     "user": {
      "displayName": "Sim Don",
      "userId": "09290070938786203900"
     },
     "user_tz": -60
    },
    "id": "HY8msuLd_OdS",
    "outputId": "f0831593-c5a9-4939-d6b6-00fe9ee1b7ed"
   },
   "outputs": [
    {
     "name": "stderr",
     "output_type": "stream",
     "text": [
      "/home/simon/anaconda3/lib/python3.11/site-packages/sklearn/utils/deprecation.py:87: FutureWarning: Function load_boston is deprecated; `load_boston` is deprecated in 1.0 and will be removed in 1.2.\n",
      "\n",
      "    The Boston housing prices dataset has an ethical problem. You can refer to\n",
      "    the documentation of this function for further details.\n",
      "\n",
      "    The scikit-learn maintainers therefore strongly discourage the use of this\n",
      "    dataset unless the purpose of the code is to study and educate about\n",
      "    ethical issues in data science and machine learning.\n",
      "\n",
      "    In this special case, you can fetch the dataset from the original\n",
      "    source::\n",
      "\n",
      "        import pandas as pd\n",
      "        import numpy as np\n",
      "\n",
      "        data_url = \"http://lib.stat.cmu.edu/datasets/boston\"\n",
      "        raw_df = pd.read_csv(data_url, sep=\"\\s+\", skiprows=22, header=None)\n",
      "        data = np.hstack([raw_df.values[::2, :], raw_df.values[1::2, :2]])\n",
      "        target = raw_df.values[1::2, 2]\n",
      "\n",
      "    Alternative datasets include the California housing dataset (i.e.\n",
      "    :func:`~sklearn.datasets.fetch_california_housing`) and the Ames housing\n",
      "    dataset. You can load the datasets as follows::\n",
      "\n",
      "        from sklearn.datasets import fetch_california_housing\n",
      "        housing = fetch_california_housing()\n",
      "\n",
      "    for the California housing dataset and::\n",
      "\n",
      "        from sklearn.datasets import fetch_openml\n",
      "        housing = fetch_openml(name=\"house_prices\", as_frame=True)\n",
      "\n",
      "    for the Ames housing dataset.\n",
      "  warnings.warn(msg, category=FutureWarning)\n"
     ]
    }
   ],
   "source": [
    "#NOW DOING PCA ON A REGRESSION PROBLEM: BOSTON DATASET\n",
    "from sklearn.datasets import load_boston\n",
    "from sklearn.pipeline import Pipeline\n",
    "from sklearn.preprocessing import StandardScaler\n",
    "from sklearn.linear_model import Ridge\n",
    "from sklearn.model_selection import train_test_split\n",
    "from sklearn.decomposition import PCA\n",
    "import numpy as np\n",
    "\n",
    "pca = PCA(n_components=8)\n",
    "\n",
    "data = load_boston()\n",
    "data.keys()\n",
    "\n",
    "X, y = data[\"data\"], data[\"target\"]\n",
    "\n",
    "X_train, X_test, y_train, y_test = train_test_split(X, y, test_size=0.2, random_state=0)\n",
    "\n",
    "#you may put the PCA directly into the pipeline\n",
    "#video suggests putting the pca before the standard scaler in our pipe variable\n",
    "pipe = Pipeline([('std_scl',StandardScaler()),\n",
    "                 ('pca',PCA(n_components=8))\n",
    "                ])\n",
    "X_train_transf = pipe.fit_transform(X_train)\n",
    "X_test_transf = pipe.transform(X_test)"
   ]
  },
  {
   "cell_type": "code",
   "execution_count": 5,
   "metadata": {
    "colab": {
     "base_uri": "https://localhost:8080/",
     "height": 245
    },
    "executionInfo": {
     "elapsed": 482,
     "status": "error",
     "timestamp": 1708693785656,
     "user": {
      "displayName": "Sim Don",
      "userId": "09290070938786203900"
     },
     "user_tz": -60
    },
    "id": "H_zZ28am_OdU",
    "outputId": "a83e2c0f-14ed-4a0b-d41b-dc03394d724f"
   },
   "outputs": [
    {
     "name": "stdout",
     "output_type": "stream",
     "text": [
      "total explained variance: 0.931\n",
      "standard ridge score: 0.58\n",
      "Dim. red. ridge score: 0.512\n"
     ]
    }
   ],
   "source": [
    "#get the explained variance using np.cumsum (cumulative sum)\n",
    "print('total explained variance:',round(np.cumsum(pipe.named_steps['pca'].explained_variance_ratio_)[-1],3))\n",
    "\n",
    "ridge = Ridge()\n",
    "ridge_red = Ridge()\n",
    "ridge.fit(X_train, y_train) #for the standard score\n",
    "ridge_red.fit(X_train_transf, y_train) #for the transformed score\n",
    "\n",
    "print('standard ridge score:', round(ridge.score(X_test, y_test),3))\n",
    "print('Dim. red. ridge score:', round(ridge_red.score(X_test_transf, y_test),3))\n",
    "\n",
    "#result:\n",
    "#not the best R² scores"
   ]
  },
  {
   "cell_type": "code",
   "execution_count": 7,
   "metadata": {
    "id": "z1HZqxTi_OdV",
    "outputId": "439a15ff-35e4-4f47-c8d6-c61bca0aec05"
   },
   "outputs": [
    {
     "data": {
      "image/png": "[encoded data removed]",
      "text/plain": [
       "<Figure size 800x800 with 1 Axes>"
      ]
     },
     "metadata": {},
     "output_type": "display_data"
    }
   ],
   "source": [
    "# visualizing principal components: IRIS DATASET\n",
    "from sklearn.datasets import load_iris\n",
    "import numpy as np\n",
    "import matplotlib.pyplot as plt\n",
    "\n",
    "#all components now, not doing any real dimensionality reduction\n",
    "irisData = load_iris()\n",
    "X, y = irisData[\"data\"], irisData[\"target\"]\n",
    "pca = PCA()\n",
    "X_transf = pca.fit_transform(X[:, 2:]) #PCA/fit_transform on last 2 features\n",
    "plt.figure(figsize=(8,8))\n",
    "plt.scatter(X[:, 2], X[:, 3],c=y) #scatters last and second last features from the iris dataset\n",
    "\n",
    "#we add the mean to each component for our visualization and plot each value from the components_\n",
    "#length of the line: defined by the components we are adding here\n",
    "plt.plot([pca.mean_[0], pca.mean_[0] + 3*pca.components_[0,0]], \n",
    "         [pca.mean_[1], pca.mean_[1] + 3*pca.components_[0,1]],\n",
    "         linewidth=4,\n",
    "         color='orange',\n",
    "         label='component 1'\n",
    "        )\n",
    "plt.legend()\n",
    "plt.title('Principal component considering 2 iris features')\n",
    "plt.show()"
   ]
  },
  {
   "cell_type": "code",
   "execution_count": null,
   "metadata": {
    "id": "d2gsdP3S_OdY"
   },
   "outputs": [],
   "source": []
  }
 ],
 "metadata": {
  "colab": {
   "provenance": []
  },
  "kernelspec": {
   "display_name": "Python 3 (ipykernel)",
   "language": "python",
   "name": "python3"
  },
  "language_info": {
   "codemirror_mode": {
    "name": "ipython",
    "version": 3
   },
   "file_extension": ".py",
   "mimetype": "text/x-python",
   "name": "python",
   "nbconvert_exporter": "python",
   "pygments_lexer": "ipython3",
   "version": "3.11.7"
  }
 },
 "nbformat": 4,
 "nbformat_minor": 4
}
