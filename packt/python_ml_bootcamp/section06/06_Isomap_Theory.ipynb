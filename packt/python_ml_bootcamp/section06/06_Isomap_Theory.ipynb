{
 "cells": [
  {
   "cell_type": "markdown",
   "id": "6c3d7b2b-e914-4b88-b740-1fb187690f0b",
   "metadata": {},
   "source": [
    "#### Isometric Mapping\n",
    "\n",
    "- definition: **geodesic** is a curve that represents the shortest path between two points on a curved surface, or more generally in a mathematical space called a \"manifold.\n",
    "- approximate a surface that is isometric to the original manifold\n",
    "    - geodesic distances between two points on our original surface (distances when moving across our surface) are preserved\n",
    "    - reducing dimensions while preserving distance between all of our points\n",
    "- however, we don't know the actual surface that we are dealing with (even in our original dataset just because we don't have an infinite number of data points)\n",
    "- We can approximate the surface by finding nearest neighbors to points, and then traversing over neighboring points. Geodesic between two points is then the shortest path across our graph produced by the neighborhood method\n",
    "- using SVD (singular value decomposition) on our squared geodesic distances matrix we can then perform the projection into the lower dimensional space (SVD chooses the d greatest eigenvalues to get to the lower dim space)\n",
    "- goal: SVD + PCA (principal component analysis) to choose how many dimensions we want to project down onto"
   ]
  },
  {
   "cell_type": "code",
   "execution_count": null,
   "id": "fbcd4c38-fadb-4686-8d7d-ee15fb1b9ebe",
   "metadata": {},
   "outputs": [],
   "source": []
  }
 ],
 "metadata": {
  "kernelspec": {
   "display_name": "Python 3 (ipykernel)",
   "language": "python",
   "name": "python3"
  },
  "language_info": {
   "codemirror_mode": {
    "name": "ipython",
    "version": 3
   },
   "file_extension": ".py",
   "mimetype": "text/x-python",
   "name": "python",
   "nbconvert_exporter": "python",
   "pygments_lexer": "ipython3",
   "version": "3.11.7"
  }
 },
 "nbformat": 4,
 "nbformat_minor": 5
}
