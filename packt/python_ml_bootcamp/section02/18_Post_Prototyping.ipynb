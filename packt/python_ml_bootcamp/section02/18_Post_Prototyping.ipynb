{
 "cells": [
  {
   "cell_type": "markdown",
   "id": "ac4f3b7e-fe19-4479-a2a9-d25066205f48",
   "metadata": {},
   "source": [
    "### Model Deployment"
   ]
  },
  {
   "cell_type": "markdown",
   "id": "570a5e1d-58e5-4258-87cf-798e64764875",
   "metadata": {},
   "source": [
    " "
   ]
  },
  {
   "cell_type": "markdown",
   "id": "2be3d5b6-8611-4347-9401-0f47f255e183",
   "metadata": {},
   "source": [
    "#### 1. Preparing Models\n",
    "\n",
    "- save your model and pipeline\n",
    "- move away from jupyter and implement your model in a script\n",
    "- work with engineers (data and ML) to get your model into production and set up consistent data flow for input & output\n",
    "\n",
    "-> data engineer is responsible for the data flow into the model, ML engineer is responsible for proper scales and predictions"
   ]
  },
  {
   "cell_type": "markdown",
   "id": "ca0df112-721a-40c1-8846-e82cf0e278fa",
   "metadata": {},
   "source": [
    "--------------------------------"
   ]
  },
  {
   "cell_type": "markdown",
   "id": "d76b34e3-117a-4160-b418-70a4d8acd748",
   "metadata": {},
   "source": [
    "#### 2. Monitoring\n",
    "\n",
    "- dashboards for monitoring performance\n",
    "    - usage errors, crashes breakdown\n",
    "    - prediction speed (look at mean/median or better the 95th or 99th percentile to get an understanding of that upper range of one prediction of the slowest that it's not blocked from like having too slow resources)\n",
    "- manual feedback on predictions (user feedback whether a model was good/bad or accurate/inaccurate)"
   ]
  },
  {
   "cell_type": "markdown",
   "id": "2540d8a8-f87a-43ab-ac3d-f610b5da3c73",
   "metadata": {},
   "source": [
    "------------------"
   ]
  },
  {
   "cell_type": "markdown",
   "id": "ac27c618-89df-491e-916f-f5664fcef90d",
   "metadata": {},
   "source": [
    "#### 3. Re-training\n",
    "\n",
    "- model performance generally degrades with time (e.g. trained on outdated data, it will never be static)\n",
    "- live-training - gradually update parameters with each prediction made - (if possible, e.g. classifications could be marked as correct/incorrect, recommendations can be measured with clicks/watch time, etc.) -> new predictions to be made\n",
    "- batch retraining (e.g. overnight, every week, every month...) -> batch export of data and retrain models from scratch\n",
    "- with re-training, re-assess performance on old (or new) test sets -> data/model can change with time!"
   ]
  },
  {
   "cell_type": "markdown",
   "id": "717f26b1-acb7-4ad2-9a4b-9cf3f05e9e84",
   "metadata": {},
   "source": [
    "----------------"
   ]
  },
  {
   "cell_type": "markdown",
   "id": "344bf1ca-1ef2-4212-bc21-6dcfda5f92c4",
   "metadata": {},
   "source": [
    "#### 4.Creating new models\n",
    "\n",
    "- compare live vs new model performance against same test set -> when the performance of the new model is better than the one of the live model, start the production\n",
    "- run A/B tests, introducing new model for small population (e.g. 5-10% - also depends on time to get significant results) -> ask yourself: is the new model actually so much better than the previous one? \n",
    "- monitor other important factors (prediction time, computation costs, other performance measures?) -> e.g. does one model require more resources? only slight improvement but still computationally expensive? check up what other data scientist (e.g. a product scientist) would score and see what you can improve\n",
    "- deploy model in phases to population, e.g. 10%->25%->50%->100% (again situation dependent)\n",
    "- monitor user/human feedback, not just metrics -> e.g. models affecting an end user or colleague"
   ]
  },
  {
   "cell_type": "code",
   "execution_count": null,
   "id": "3f48b7c8-f239-4742-93fc-e5449226d26e",
   "metadata": {},
   "outputs": [],
   "source": []
  }
 ],
 "metadata": {
  "kernelspec": {
   "display_name": "Python 3 (ipykernel)",
   "language": "python",
   "name": "python3"
  },
  "language_info": {
   "codemirror_mode": {
    "name": "ipython",
    "version": 3
   },
   "file_extension": ".py",
   "mimetype": "text/x-python",
   "name": "python",
   "nbconvert_exporter": "python",
   "pygments_lexer": "ipython3",
   "version": "3.11.7"
  }
 },
 "nbformat": 4,
 "nbformat_minor": 5
}
