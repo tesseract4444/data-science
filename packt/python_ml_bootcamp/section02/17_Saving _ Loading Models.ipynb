{
 "cells": [
  {
   "cell_type": "code",
   "execution_count": 1,
   "metadata": {},
   "outputs": [],
   "source": [
    "import pandas as pd\n",
    "import numpy as np\n",
    "import matplotlib.pyplot as plt\n",
    "\n",
    "from sklearn.datasets import fetch_openml\n",
    "from sklearn.model_selection import StratifiedShuffleSplit\n",
    "from sklearn.linear_model import LogisticRegression\n",
    "from sklearn.pipeline import Pipeline\n",
    "from sklearn.preprocessing import MinMaxScaler\n",
    "\n",
    "data = fetch_openml('mnist_784', version=1, parser=\"auto\")#Get data from https://www.openml.org/d/554\n",
    "dfData = pd.DataFrame(np.c_[data[\"data\"],data[\"target\"]],columns = data[\"feature_names\"]+[\"target\"])"
   ]
  },
  {
   "cell_type": "code",
   "execution_count": 2,
   "metadata": {},
   "outputs": [],
   "source": [
    "#creating a pipeline: putting the data into shape that the model would expect\n",
    "img_pipeline = Pipeline([(\"mm_scaler\", MinMaxScaler())])\n",
    "y = dfData[\"target\"]\n",
    "dfData = dfData.drop(\"target\",axis=1)\n",
    "X = dfData.copy()\n",
    "X_transf = img_pipeline.fit_transform(X)"
   ]
  },
  {
   "cell_type": "code",
   "execution_count": 3,
   "metadata": {},
   "outputs": [],
   "source": [
    "#split our set into training set and test set\n",
    "stratSplit = StratifiedShuffleSplit(n_splits=1, test_size=0.2, random_state=0)\n",
    "for train_index, test_index in stratSplit.split(X_transf, y):\n",
    "    X_train = X_transf[train_index]\n",
    "    X_test = X_transf[test_index]\n",
    "    \n",
    "    y_train = y[train_index]\n",
    "    y_test = y[test_index]"
   ]
  },
  {
   "cell_type": "code",
   "execution_count": 4,
   "metadata": {},
   "outputs": [
    {
     "name": "stdout",
     "output_type": "stream",
     "text": [
      "Test set performance: 0.9247857142857143\n"
     ]
    },
    {
     "name": "stderr",
     "output_type": "stream",
     "text": [
      "/home/simon/anaconda3/lib/python3.11/site-packages/sklearn/linear_model/_logistic.py:458: ConvergenceWarning: lbfgs failed to converge (status=1):\n",
      "STOP: TOTAL NO. of ITERATIONS REACHED LIMIT.\n",
      "\n",
      "Increase the number of iterations (max_iter) or scale the data as shown in:\n",
      "    https://scikit-learn.org/stable/modules/preprocessing.html\n",
      "Please also refer to the documentation for alternative solver options:\n",
      "    https://scikit-learn.org/stable/modules/linear_model.html#logistic-regression\n",
      "  n_iter_i = _check_optimize_result(\n"
     ]
    }
   ],
   "source": [
    "#test set (use of it): make changes and see how it affects the outcome (make improvements)\n",
    "#see how the data would perform on the test set\n",
    "log_reg = LogisticRegression(C=1e5, max_iter=100)\n",
    "log_reg.fit(X_train, y_train)\n",
    "print(\"Test set performance:\",log_reg.score(X_test, y_test))"
   ]
  },
  {
   "cell_type": "code",
   "execution_count": 5,
   "metadata": {},
   "outputs": [
    {
     "name": "stderr",
     "output_type": "stream",
     "text": [
      "/home/simon/anaconda3/lib/python3.11/site-packages/sklearn/linear_model/_logistic.py:458: ConvergenceWarning: lbfgs failed to converge (status=1):\n",
      "STOP: TOTAL NO. of ITERATIONS REACHED LIMIT.\n",
      "\n",
      "Increase the number of iterations (max_iter) or scale the data as shown in:\n",
      "    https://scikit-learn.org/stable/modules/preprocessing.html\n",
      "Please also refer to the documentation for alternative solver options:\n",
      "    https://scikit-learn.org/stable/modules/linear_model.html#logistic-regression\n",
      "  n_iter_i = _check_optimize_result(\n"
     ]
    },
    {
     "data": {
      "text/plain": [
       "0.9347"
      ]
     },
     "execution_count": 5,
     "metadata": {},
     "output_type": "execute_result"
    }
   ],
   "source": [
    "#Once you have your final model it can be useful to to re-train it on the full dataset (using the pipeline)\n",
    "log_reg.fit(X_transf, y)\n",
    "log_reg.score(X_transf, y)"
   ]
  },
  {
   "cell_type": "markdown",
   "metadata": {},
   "source": [
    "## Saving your model"
   ]
  },
  {
   "cell_type": "code",
   "execution_count": 8,
   "metadata": {},
   "outputs": [
    {
     "data": {
      "text/plain": [
       "['ultimateMNISTClassifierJoblibSave.pkl']"
      ]
     },
     "execution_count": 8,
     "metadata": {},
     "output_type": "execute_result"
    }
   ],
   "source": [
    "# Option 1 joblib: will appear in the same file as our notebook\n",
    "import joblib\n",
    "joblibModelName = 'ultimateMNISTClassifierJoblibSave.pkl' #choose your name\n",
    "\n",
    "#dump our final trained model into our file name using a pickle extension (.pkl)\n",
    "joblib.dump(log_reg, joblibModelName)"
   ]
  },
  {
   "cell_type": "code",
   "execution_count": 9,
   "metadata": {},
   "outputs": [],
   "source": [
    "# Option 2 Pickle: will appear in the same file as our notebook\n",
    "import pickle\n",
    "pickleModelName = 'ultimateMNISTClassifierPickleSave.pkl' #choose your name\n",
    "\n",
    "#with pickle we have to write \"with open\" and \"wb\" (write binary)\n",
    "with open(pickleModelName, \"wb\") as out:\n",
    "    pickle.dump(log_reg, out) #dumping the final model into the output file"
   ]
  },
  {
   "cell_type": "code",
   "execution_count": null,
   "metadata": {},
   "outputs": [],
   "source": [
    "# If you did grid search remember you can access the best estimator by usinng .best_estimator_"
   ]
  },
  {
   "cell_type": "markdown",
   "metadata": {},
   "source": [
    "## Saving your pipeline"
   ]
  },
  {
   "cell_type": "code",
   "execution_count": 10,
   "metadata": {},
   "outputs": [
    {
     "data": {
      "text/plain": [
       "['ultimateMNISTClassifierPipeline.pkl']"
      ]
     },
     "execution_count": 10,
     "metadata": {},
     "output_type": "execute_result"
    }
   ],
   "source": [
    "#same thing for the fitted pipeline (as done before on the model)\n",
    "import joblib\n",
    "pipelineName = 'ultimateMNISTClassifierPipeline.pkl' #choose your name\n",
    "joblib.dump(img_pipeline, pipelineName)"
   ]
  },
  {
   "cell_type": "markdown",
   "metadata": {},
   "source": [
    "## Loading Pipeline"
   ]
  },
  {
   "cell_type": "code",
   "execution_count": 11,
   "metadata": {},
   "outputs": [],
   "source": [
    "pipelineName = 'ultimateMNISTClassifierPipeline.pkl'\n",
    "loaded_pipeline = joblib.load(pipelineName) #load: load our file\n",
    "X_trans_loaded = loaded_pipeline.transform(X) #it's already fitted so just use .transform"
   ]
  },
  {
   "cell_type": "markdown",
   "metadata": {},
   "source": [
    "## Loading Model"
   ]
  },
  {
   "cell_type": "code",
   "execution_count": 12,
   "metadata": {},
   "outputs": [
    {
     "data": {
      "text/plain": [
       "0.9347"
      ]
     },
     "execution_count": 12,
     "metadata": {},
     "output_type": "execute_result"
    }
   ],
   "source": [
    "# Option 1 joblib\n",
    "modelName = 'ultimateMNISTClassifierJoblibSave.pkl'\n",
    "loaded_log_clf = joblib.load(modelName) #load our file\n",
    "loaded_log_clf.score(X_trans_loaded, y) #now we can .score the model in relation to our pipeline X_trans_loaded"
   ]
  },
  {
   "cell_type": "code",
   "execution_count": 13,
   "metadata": {},
   "outputs": [
    {
     "data": {
      "text/plain": [
       "0.9347"
      ]
     },
     "execution_count": 13,
     "metadata": {},
     "output_type": "execute_result"
    }
   ],
   "source": [
    "# Option 2 pickle\n",
    "modelName = 'ultimateMNISTClassifierPickleSave.pkl'\n",
    "with open(modelName, 'rb') as inModel:\n",
    "    loaded_log_clf = pickle.load(inModel) #now using pickle instead of joblib\n",
    "loaded_log_clf.score(X_trans_loaded, y) #now we can .score the model in relation to our pipeline X_trans_loaded"
   ]
  },
  {
   "cell_type": "code",
   "execution_count": null,
   "metadata": {},
   "outputs": [],
   "source": []
  }
 ],
 "metadata": {
  "kernelspec": {
   "display_name": "Python 3 (ipykernel)",
   "language": "python",
   "name": "python3"
  },
  "language_info": {
   "codemirror_mode": {
    "name": "ipython",
    "version": 3
   },
   "file_extension": ".py",
   "mimetype": "text/x-python",
   "name": "python",
   "nbconvert_exporter": "python",
   "pygments_lexer": "ipython3",
   "version": "3.11.7"
  }
 },
 "nbformat": 4,
 "nbformat_minor": 4
}
