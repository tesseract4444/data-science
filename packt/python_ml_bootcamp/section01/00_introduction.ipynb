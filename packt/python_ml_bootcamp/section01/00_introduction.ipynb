{
 "cells": [
  {
   "cell_type": "markdown",
   "id": "9c4fc065",
   "metadata": {},
   "source": [
    "#### Datasets\n",
    "\n",
    "- https://scikit-learn.org/stable/datasets.html\n",
    "- https://openml.org/\n",
    "- https://data.world/datasets/open-data"
   ]
  },
  {
   "cell_type": "code",
   "execution_count": null,
   "id": "f42ee50b",
   "metadata": {},
   "outputs": [],
   "source": []
  }
 ],
 "metadata": {
  "kernelspec": {
   "display_name": "Python 3 (ipykernel)",
   "language": "python",
   "name": "python3"
  },
  "language_info": {
   "codemirror_mode": {
    "name": "ipython",
    "version": 3
   },
   "file_extension": ".py",
   "mimetype": "text/x-python",
   "name": "python",
   "nbconvert_exporter": "python",
   "pygments_lexer": "ipython3",
   "version": "3.9.7"
  }
 },
 "nbformat": 4,
 "nbformat_minor": 5
}
