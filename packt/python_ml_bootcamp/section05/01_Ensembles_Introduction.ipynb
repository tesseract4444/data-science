{
 "cells": [
  {
   "cell_type": "markdown",
   "id": "9dcb55c3-52ac-446f-baf9-bfa02a40d7e8",
   "metadata": {
    "jp-MarkdownHeadingCollapsed": true
   },
   "source": [
    "#### Ensemble Intro\n",
    "\n",
    "- each machine learning model has their strengths and weaknesses\n",
    "- sometimes models have comparable performances, yet each performs better in some area and worse in another\n",
    "- or use multiple models that perform well\n",
    "- combining predictions of several models to get aggregate prediction (in some cases it will be better than the performance of the individual models)\n",
    "- ensembles are a collection of ML models. The final prediction is then some sort of aggregate (e.g. mean or mode) of the predictions of the individual models\n",
    "- ensemble of weak lerners can make a strong model. We can have individual models with high bias (and low variance), and still get good predictions on aggregate\n",
    "- best when combining models that where outputs aren't correlated\n",
    "- pro: ensembles of models (e.g. their sum/score) can be more powerful than the performance of each individual model inside\n",
    "- con: train more models -> training times are longer"
   ]
  },
  {
   "cell_type": "code",
   "execution_count": null,
   "id": "6eb7eb7b-bb48-4cb7-a86d-32e4fc5b5e39",
   "metadata": {},
   "outputs": [],
   "source": []
  }
 ],
 "metadata": {
  "kernelspec": {
   "display_name": "Python 3 (ipykernel)",
   "language": "python",
   "name": "python3"
  },
  "language_info": {
   "codemirror_mode": {
    "name": "ipython",
    "version": 3
   },
   "file_extension": ".py",
   "mimetype": "text/x-python",
   "name": "python",
   "nbconvert_exporter": "python",
   "pygments_lexer": "ipython3",
   "version": "3.11.7"
  }
 },
 "nbformat": 4,
 "nbformat_minor": 5
}
