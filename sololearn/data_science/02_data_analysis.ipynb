{
 "cells": [
  {
   "cell_type": "markdown",
   "id": "372976b4",
   "metadata": {},
   "source": [
    "## 01 Pandas"
   ]
  },
  {
   "cell_type": "markdown",
   "id": "64522943",
   "metadata": {},
   "source": [
    "#### 01 Series\n",
    "- Pandas Series ist 1-dimensional\n",
    "- jeder Datentyp möglich"
   ]
  },
  {
   "cell_type": "code",
   "execution_count": 3,
   "id": "051db936",
   "metadata": {},
   "outputs": [
    {
     "name": "stdout",
     "output_type": "stream",
     "text": [
      "a    1\n",
      "b    2\n",
      "c    3\n",
      "dtype: int64\n",
      "a    1\n",
      "b    2\n",
      "c    3\n",
      "dtype: int32\n",
      "a    1\n",
      "b    2\n",
      "c    3\n",
      "dtype: int64\n"
     ]
    }
   ],
   "source": [
    "import pandas as pd\n",
    "\n",
    "#1: pandas\n",
    "print(pd.Series([1, 2, 3], index=['a', 'b', 'c'])) # with index\n",
    "\n",
    "#alt1: über numpy\n",
    "import numpy as np\n",
    "import pandas as pd\n",
    "\n",
    "print(pd.Series(np.array([1, 2, 3]), index=['a', 'b', 'c'])) # from a 1darray\n",
    "\n",
    "#alt2: dictionary\n",
    "import pandas as pd\n",
    "\n",
    "print(pd.Series({'a': 1, 'b': 2, 'c':3})) # from a dict"
   ]
  },
  {
   "cell_type": "code",
   "execution_count": 4,
   "id": "178fb5fb",
   "metadata": {},
   "outputs": [
    {
     "name": "stdout",
     "output_type": "stream",
     "text": [
      "1\n"
     ]
    }
   ],
   "source": [
    "#zugriff auf index\n",
    "series = pd.Series({'a':1, 'b':2, 'c':3})\n",
    "print(series['a'])"
   ]
  },
  {
   "cell_type": "markdown",
   "id": "31b25f62",
   "metadata": {},
   "source": [
    "## 02 Pandas DataFrames"
   ]
  },
  {
   "cell_type": "markdown",
   "id": "8a2614f1",
   "metadata": {},
   "source": [
    "#### Allgemein"
   ]
  },
  {
   "cell_type": "code",
   "execution_count": 9,
   "id": "48b22c61",
   "metadata": {},
   "outputs": [
    {
     "name": "stdout",
     "output_type": "stream",
     "text": [
      "         red_wine  white_wine\n",
      "adam            3           5\n",
      "bob             6           0\n",
      "charles         5          10\n",
      "\n",
      "Nur Weißwein:\n",
      "adam        5\n",
      "bob         0\n",
      "charles    10\n",
      "Name: white_wine, dtype: int64\n"
     ]
    }
   ],
   "source": [
    "import pandas as pd\n",
    "\n",
    "wine_dict = {\n",
    "    'red_wine': [3, 6, 5],\n",
    "    'white_wine':[5, 0, 10]\n",
    "}\n",
    "\n",
    "#erstellt ein dictionary aus den indices, das den werten von wine_dict zugewiesen wird\n",
    "sales = pd.DataFrame(wine_dict, index=[\"adam\", \"bob\", \"charles\"])\n",
    "print(sales)\n",
    "print('\\nNur Weißwein:')\n",
    "print(sales['white_wine'])"
   ]
  },
  {
   "cell_type": "markdown",
   "id": "00af370f",
   "metadata": {},
   "source": [
    "#### Shape and Size"
   ]
  },
  {
   "cell_type": "code",
   "execution_count": 10,
   "id": "9236cb51",
   "metadata": {},
   "outputs": [
    {
     "name": "stdout",
     "output_type": "stream",
     "text": [
      "(45, 4)\n"
     ]
    }
   ],
   "source": [
    "import pandas as pd\n",
    "\n",
    "presidents_df = pd.read_csv('https://sololearn.com/uploads/files/president_heights_party.csv', index_col='name')\n",
    "                                  \n",
    "print(presidents_df.shape) #.shape gibt reihen und spalten aus"
   ]
  },
  {
   "cell_type": "code",
   "execution_count": 11,
   "id": "cf618620",
   "metadata": {},
   "outputs": [
    {
     "data": {
      "text/plain": [
       "45"
      ]
     },
     "execution_count": 11,
     "metadata": {},
     "output_type": "execute_result"
    }
   ],
   "source": [
    "#0 gibt anzahl der reihen aus, 1 würde anzahl der spalten ausgeben\n",
    "presidents_df.shape[0]"
   ]
  },
  {
   "cell_type": "code",
   "execution_count": 12,
   "id": "f596ede1",
   "metadata": {},
   "outputs": [
    {
     "data": {
      "text/plain": [
       "180"
      ]
     },
     "execution_count": 12,
     "metadata": {},
     "output_type": "execute_result"
    }
   ],
   "source": [
    "#anzahl der elemente über size\n",
    "presidents_df.size"
   ]
  },
  {
   "cell_type": "markdown",
   "id": "8768ad5e",
   "metadata": {},
   "source": [
    "#### Head und Tail"
   ]
  },
  {
   "cell_type": "code",
   "execution_count": 3,
   "id": "2df5ed3c",
   "metadata": {},
   "outputs": [
    {
     "data": {
      "text/html": [
       "<div>\n",
       "<style scoped>\n",
       "    .dataframe tbody tr th:only-of-type {\n",
       "        vertical-align: middle;\n",
       "    }\n",
       "\n",
       "    .dataframe tbody tr th {\n",
       "        vertical-align: top;\n",
       "    }\n",
       "\n",
       "    .dataframe thead th {\n",
       "        text-align: right;\n",
       "    }\n",
       "</style>\n",
       "<table border=\"1\" class=\"dataframe\">\n",
       "  <thead>\n",
       "    <tr style=\"text-align: right;\">\n",
       "      <th></th>\n",
       "      <th>order</th>\n",
       "      <th>age</th>\n",
       "      <th>height</th>\n",
       "      <th>party</th>\n",
       "    </tr>\n",
       "    <tr>\n",
       "      <th>name</th>\n",
       "      <th></th>\n",
       "      <th></th>\n",
       "      <th></th>\n",
       "      <th></th>\n",
       "    </tr>\n",
       "  </thead>\n",
       "  <tbody>\n",
       "    <tr>\n",
       "      <th>George Washington</th>\n",
       "      <td>1</td>\n",
       "      <td>57</td>\n",
       "      <td>189</td>\n",
       "      <td>none</td>\n",
       "    </tr>\n",
       "    <tr>\n",
       "      <th>John Adams</th>\n",
       "      <td>2</td>\n",
       "      <td>61</td>\n",
       "      <td>170</td>\n",
       "      <td>federalist</td>\n",
       "    </tr>\n",
       "    <tr>\n",
       "      <th>Thomas Jefferson</th>\n",
       "      <td>3</td>\n",
       "      <td>57</td>\n",
       "      <td>189</td>\n",
       "      <td>democratic-republican</td>\n",
       "    </tr>\n",
       "  </tbody>\n",
       "</table>\n",
       "</div>"
      ],
      "text/plain": [
       "                   order  age  height                  party\n",
       "name                                                        \n",
       "George Washington      1   57     189                   none\n",
       "John Adams             2   61     170             federalist\n",
       "Thomas Jefferson       3   57     189  democratic-republican"
      ]
     },
     "execution_count": 3,
     "metadata": {},
     "output_type": "execute_result"
    }
   ],
   "source": [
    "#head mit anzahl als (n=zahl), ohne zahlenangabe wird default=5 ausgegeben\n",
    "presidents_df.head(n=3)"
   ]
  },
  {
   "cell_type": "code",
   "execution_count": 16,
   "id": "4da32f81",
   "metadata": {},
   "outputs": [
    {
     "data": {
      "text/html": [
       "<div>\n",
       "<style scoped>\n",
       "    .dataframe tbody tr th:only-of-type {\n",
       "        vertical-align: middle;\n",
       "    }\n",
       "\n",
       "    .dataframe tbody tr th {\n",
       "        vertical-align: top;\n",
       "    }\n",
       "\n",
       "    .dataframe thead th {\n",
       "        text-align: right;\n",
       "    }\n",
       "</style>\n",
       "<table border=\"1\" class=\"dataframe\">\n",
       "  <thead>\n",
       "    <tr style=\"text-align: right;\">\n",
       "      <th></th>\n",
       "      <th>order</th>\n",
       "      <th>age</th>\n",
       "      <th>height</th>\n",
       "      <th>party</th>\n",
       "    </tr>\n",
       "    <tr>\n",
       "      <th>name</th>\n",
       "      <th></th>\n",
       "      <th></th>\n",
       "      <th></th>\n",
       "      <th></th>\n",
       "    </tr>\n",
       "  </thead>\n",
       "  <tbody>\n",
       "    <tr>\n",
       "      <th>George H. W. Bush</th>\n",
       "      <td>41</td>\n",
       "      <td>64</td>\n",
       "      <td>188</td>\n",
       "      <td>republican</td>\n",
       "    </tr>\n",
       "    <tr>\n",
       "      <th>Bill Clinton</th>\n",
       "      <td>42</td>\n",
       "      <td>46</td>\n",
       "      <td>188</td>\n",
       "      <td>democratic</td>\n",
       "    </tr>\n",
       "    <tr>\n",
       "      <th>George W. Bush</th>\n",
       "      <td>43</td>\n",
       "      <td>54</td>\n",
       "      <td>182</td>\n",
       "      <td>republican</td>\n",
       "    </tr>\n",
       "    <tr>\n",
       "      <th>Barack Obama</th>\n",
       "      <td>44</td>\n",
       "      <td>47</td>\n",
       "      <td>185</td>\n",
       "      <td>democratic</td>\n",
       "    </tr>\n",
       "    <tr>\n",
       "      <th>Donald J. Trump</th>\n",
       "      <td>45</td>\n",
       "      <td>70</td>\n",
       "      <td>191</td>\n",
       "      <td>republican</td>\n",
       "    </tr>\n",
       "  </tbody>\n",
       "</table>\n",
       "</div>"
      ],
      "text/plain": [
       "                   order  age  height       party\n",
       "name                                             \n",
       "George H. W. Bush     41   64     188  republican\n",
       "Bill Clinton          42   46     188  democratic\n",
       "George W. Bush        43   54     182  republican\n",
       "Barack Obama          44   47     185  democratic\n",
       "Donald J. Trump       45   70     191  republican"
      ]
     },
     "execution_count": 16,
     "metadata": {},
     "output_type": "execute_result"
    }
   ],
   "source": [
    "#tail gibt die letzten zeilen aus\n",
    "presidents_df.tail()"
   ]
  },
  {
   "cell_type": "markdown",
   "id": "01d1cd35",
   "metadata": {},
   "source": [
    "#### Overview über .info()"
   ]
  },
  {
   "cell_type": "code",
   "execution_count": 17,
   "id": "0fa74299",
   "metadata": {},
   "outputs": [
    {
     "name": "stdout",
     "output_type": "stream",
     "text": [
      "<class 'pandas.core.frame.DataFrame'>\n",
      "Index: 45 entries, George Washington to Donald J. Trump\n",
      "Data columns (total 4 columns):\n",
      " #   Column  Non-Null Count  Dtype \n",
      "---  ------  --------------  ----- \n",
      " 0   order   45 non-null     int64 \n",
      " 1   age     45 non-null     int64 \n",
      " 2   height  45 non-null     int64 \n",
      " 3   party   45 non-null     object\n",
      "dtypes: int64(3), object(1)\n",
      "memory usage: 1.8+ KB\n"
     ]
    }
   ],
   "source": [
    "presidents_df.info() #man sieht, ob werte fehlen (non-null), datentypen werden angezeigt"
   ]
  },
  {
   "cell_type": "markdown",
   "id": "a8a1361b",
   "metadata": {},
   "source": [
    "## 03 Indexing Pandas"
   ]
  },
  {
   "cell_type": "markdown",
   "id": "0bbec303",
   "metadata": {},
   "source": [
    "#### Die .loc[]-Funktion\n",
    "- greift auf bestimmten Eintrag zu\n",
    "- Zugriff auf Daten über deren Bezeichnung oder bedingte Anweisung"
   ]
  },
  {
   "cell_type": "code",
   "execution_count": 9,
   "id": "d643c2a3",
   "metadata": {},
   "outputs": [
    {
     "name": "stdout",
     "output_type": "stream",
     "text": [
      "order             16\n",
      "age               52\n",
      "height           193\n",
      "party     republican\n",
      "Name: Abraham Lincoln, dtype: object\n",
      "(4,)\n"
     ]
    }
   ],
   "source": [
    "import pandas as pd\n",
    "\n",
    "presidents_df = pd.read_csv('https://sololearn.com/uploads/files/president_heights_party.csv', index_col='name')\n",
    "                                  \n",
    "print(presidents_df.loc['Abraham Lincoln'])\n",
    "print(presidents_df.loc['Abraham Lincoln'].shape)"
   ]
  },
  {
   "cell_type": "code",
   "execution_count": 10,
   "id": "6cada33e",
   "metadata": {},
   "outputs": [
    {
     "data": {
      "text/html": [
       "<div>\n",
       "<style scoped>\n",
       "    .dataframe tbody tr th:only-of-type {\n",
       "        vertical-align: middle;\n",
       "    }\n",
       "\n",
       "    .dataframe tbody tr th {\n",
       "        vertical-align: top;\n",
       "    }\n",
       "\n",
       "    .dataframe thead th {\n",
       "        text-align: right;\n",
       "    }\n",
       "</style>\n",
       "<table border=\"1\" class=\"dataframe\">\n",
       "  <thead>\n",
       "    <tr style=\"text-align: right;\">\n",
       "      <th></th>\n",
       "      <th>order</th>\n",
       "      <th>age</th>\n",
       "      <th>height</th>\n",
       "      <th>party</th>\n",
       "    </tr>\n",
       "    <tr>\n",
       "      <th>name</th>\n",
       "      <th></th>\n",
       "      <th></th>\n",
       "      <th></th>\n",
       "      <th></th>\n",
       "    </tr>\n",
       "  </thead>\n",
       "  <tbody>\n",
       "    <tr>\n",
       "      <th>Abraham Lincoln</th>\n",
       "      <td>16</td>\n",
       "      <td>52</td>\n",
       "      <td>193</td>\n",
       "      <td>republican</td>\n",
       "    </tr>\n",
       "    <tr>\n",
       "      <th>Andrew Johnson</th>\n",
       "      <td>17</td>\n",
       "      <td>56</td>\n",
       "      <td>178</td>\n",
       "      <td>national union</td>\n",
       "    </tr>\n",
       "    <tr>\n",
       "      <th>Ulysses S. Grant</th>\n",
       "      <td>18</td>\n",
       "      <td>46</td>\n",
       "      <td>173</td>\n",
       "      <td>republican</td>\n",
       "    </tr>\n",
       "  </tbody>\n",
       "</table>\n",
       "</div>"
      ],
      "text/plain": [
       "                  order  age  height           party\n",
       "name                                                \n",
       "Abraham Lincoln      16   52     193      republican\n",
       "Andrew Johnson       17   56     178  national union\n",
       "Ulysses S. Grant     18   46     173      republican"
      ]
     },
     "execution_count": 10,
     "metadata": {},
     "output_type": "execute_result"
    }
   ],
   "source": [
    "#alle präsidenten von lincoln bis grant\n",
    "presidents_df.loc['Abraham Lincoln':'Ulysses S. Grant']"
   ]
  },
  {
   "cell_type": "markdown",
   "id": "ca79319e",
   "metadata": {},
   "source": [
    "#### .iloc: Zugriff auf die Reihen"
   ]
  },
  {
   "cell_type": "code",
   "execution_count": 13,
   "id": "4634be32",
   "metadata": {},
   "outputs": [
    {
     "name": "stdout",
     "output_type": "stream",
     "text": [
      "order             16\n",
      "age               52\n",
      "height           193\n",
      "party     republican\n",
      "Name: Abraham Lincoln, dtype: object\n"
     ]
    }
   ],
   "source": [
    "#.iloc, wenn integer-position bekannt ist\n",
    "import pandas as pd\n",
    "\n",
    "presidents_df = pd.read_csv('https://sololearn.com/uploads/files/president_heights_party.csv', index_col='name')\n",
    "                                  \n",
    "print(presidents_df.iloc[15])"
   ]
  },
  {
   "cell_type": "code",
   "execution_count": 14,
   "id": "855b9df4",
   "metadata": {},
   "outputs": [
    {
     "data": {
      "text/html": [
       "<div>\n",
       "<style scoped>\n",
       "    .dataframe tbody tr th:only-of-type {\n",
       "        vertical-align: middle;\n",
       "    }\n",
       "\n",
       "    .dataframe tbody tr th {\n",
       "        vertical-align: top;\n",
       "    }\n",
       "\n",
       "    .dataframe thead th {\n",
       "        text-align: right;\n",
       "    }\n",
       "</style>\n",
       "<table border=\"1\" class=\"dataframe\">\n",
       "  <thead>\n",
       "    <tr style=\"text-align: right;\">\n",
       "      <th></th>\n",
       "      <th>order</th>\n",
       "      <th>age</th>\n",
       "      <th>height</th>\n",
       "      <th>party</th>\n",
       "    </tr>\n",
       "    <tr>\n",
       "      <th>name</th>\n",
       "      <th></th>\n",
       "      <th></th>\n",
       "      <th></th>\n",
       "      <th></th>\n",
       "    </tr>\n",
       "  </thead>\n",
       "  <tbody>\n",
       "    <tr>\n",
       "      <th>Abraham Lincoln</th>\n",
       "      <td>16</td>\n",
       "      <td>52</td>\n",
       "      <td>193</td>\n",
       "      <td>republican</td>\n",
       "    </tr>\n",
       "    <tr>\n",
       "      <th>Andrew Johnson</th>\n",
       "      <td>17</td>\n",
       "      <td>56</td>\n",
       "      <td>178</td>\n",
       "      <td>national union</td>\n",
       "    </tr>\n",
       "    <tr>\n",
       "      <th>Ulysses S. Grant</th>\n",
       "      <td>18</td>\n",
       "      <td>46</td>\n",
       "      <td>173</td>\n",
       "      <td>republican</td>\n",
       "    </tr>\n",
       "  </tbody>\n",
       "</table>\n",
       "</div>"
      ],
      "text/plain": [
       "                  order  age  height           party\n",
       "name                                                \n",
       "Abraham Lincoln      16   52     193      republican\n",
       "Andrew Johnson       17   56     178  national union\n",
       "Ulysses S. Grant     18   46     173      republican"
      ]
     },
     "execution_count": 14,
     "metadata": {},
     "output_type": "execute_result"
    }
   ],
   "source": [
    "#slicing vom 16. zum 18. präsidenten\n",
    "presidents_df.iloc[15:18]"
   ]
  },
  {
   "cell_type": "markdown",
   "id": "15b02109",
   "metadata": {},
   "source": [
    "#### Auswahl der Spalten"
   ]
  },
  {
   "cell_type": "code",
   "execution_count": 16,
   "id": "76fdb02c",
   "metadata": {},
   "outputs": [
    {
     "name": "stdout",
     "output_type": "stream",
     "text": [
      "Index(['order', 'age', 'height', 'party'], dtype='object')\n"
     ]
    }
   ],
   "source": [
    "#ausgabe der spalten-namen\n",
    "print(presidents_df.columns)"
   ]
  },
  {
   "cell_type": "code",
   "execution_count": 19,
   "id": "3fccab32",
   "metadata": {},
   "outputs": [
    {
     "name": "stdout",
     "output_type": "stream",
     "text": [
      "name\n",
      "George Washington    189\n",
      "John Adams           170\n",
      "Thomas Jefferson     189\n",
      "James Madison        163\n",
      "James Monroe         183\n",
      "Name: height, dtype: int64\n"
     ]
    },
    {
     "data": {
      "text/plain": [
       "(45,)"
      ]
     },
     "execution_count": 19,
     "metadata": {},
     "output_type": "execute_result"
    }
   ],
   "source": [
    "#zugriff auf die spalten\n",
    "print(presidents_df['height'].head())\n",
    "presidents_df['height'].shape"
   ]
  },
  {
   "cell_type": "code",
   "execution_count": 23,
   "id": "1733d37c",
   "metadata": {},
   "outputs": [
    {
     "name": "stdout",
     "output_type": "stream",
     "text": [
      "                   height  age\n",
      "name                          \n",
      "George Washington     189   57\n",
      "John Adams            170   61\n",
      "Thomas Jefferson      189   57\n"
     ]
    }
   ],
   "source": [
    "#mehrere (bestimmte) spalten auswählen\n",
    "print(presidents_df[['height', 'age']].head(n=3)) #achtung: [[]] wichtig, da DataFrame"
   ]
  },
  {
   "cell_type": "markdown",
   "id": "42a39a09",
   "metadata": {},
   "source": [
    "#### Weitere Anwendungen von .loc"
   ]
  },
  {
   "cell_type": "code",
   "execution_count": 34,
   "id": "ac03b27b",
   "metadata": {},
   "outputs": [
    {
     "name": "stdout",
     "output_type": "stream",
     "text": [
      "                   order  age  height\n",
      "name                                 \n",
      "George Washington      1   57     189\n",
      "John Adams             2   61     170\n",
      "Thomas Jefferson       3   57     189\n"
     ]
    }
   ],
   "source": [
    "#spalten von order über height der ersten 3 präsidenten\n",
    "print(presidents_df.loc[:, 'order':'height'].head(n=3)) #order bis height"
   ]
  },
  {
   "cell_type": "markdown",
   "id": "fb9e7f3e",
   "metadata": {},
   "source": [
    "## 04 Statistik"
   ]
  },
  {
   "cell_type": "markdown",
   "id": "34c31e0b",
   "metadata": {},
   "source": [
    "#### min(), max(), mean()"
   ]
  },
  {
   "cell_type": "code",
   "execution_count": 36,
   "id": "3923c012",
   "metadata": {
    "scrolled": true
   },
   "outputs": [
    {
     "name": "stdout",
     "output_type": "stream",
     "text": [
      "order              1\n",
      "age               42\n",
      "height           163\n",
      "party     democratic\n",
      "dtype: object\n"
     ]
    }
   ],
   "source": [
    "#jeweils kleinster wert pro spalte\n",
    "print(presidents_df.min())"
   ]
  },
  {
   "cell_type": "code",
   "execution_count": 37,
   "id": "ae1b4866",
   "metadata": {},
   "outputs": [
    {
     "name": "stdout",
     "output_type": "stream",
     "text": [
      "order       45\n",
      "age         70\n",
      "height     193\n",
      "party     whig\n",
      "dtype: object\n"
     ]
    }
   ],
   "source": [
    "#jeweils größter wert pro spalte\n",
    "print(presidents_df.max())"
   ]
  },
  {
   "cell_type": "code",
   "execution_count": 38,
   "id": "4de22ad1",
   "metadata": {},
   "outputs": [
    {
     "name": "stdout",
     "output_type": "stream",
     "text": [
      "order      23.022222\n",
      "age        55.000000\n",
      "height    180.000000\n",
      "dtype: float64\n"
     ]
    },
    {
     "name": "stderr",
     "output_type": "stream",
     "text": [
      "C:\\Users\\Simon\\AppData\\Local\\Temp/ipykernel_17624/2642852375.py:2: FutureWarning: Dropping of nuisance columns in DataFrame reductions (with 'numeric_only=None') is deprecated; in a future version this will raise TypeError.  Select only valid columns before calling the reduction.\n",
      "  print(presidents_df.mean())\n"
     ]
    }
   ],
   "source": [
    "#durchschnittswert pro spalte\n",
    "print(presidents_df.mean())"
   ]
  },
  {
   "cell_type": "markdown",
   "id": "c8fa0a63",
   "metadata": {},
   "source": [
    "#### Quantile\n",
    "- Grenzbereiche in einem Range von 4er-Quantilen (25%, 50%, 75%, 100%)"
   ]
  },
  {
   "cell_type": "code",
   "execution_count": 40,
   "id": "1d3ebd7a",
   "metadata": {},
   "outputs": [
    {
     "name": "stdout",
     "output_type": "stream",
     "text": [
      "0.25    51.0\n",
      "0.50    55.0\n",
      "0.75    58.0\n",
      "1.00    70.0\n",
      "Name: age, dtype: float64\n"
     ]
    }
   ],
   "source": [
    "print(presidents_df['age'].quantile([0.25, 0.5, 0.75, 1]))"
   ]
  },
  {
   "cell_type": "markdown",
   "id": "4dfcf581",
   "metadata": {},
   "source": [
    "#### Median"
   ]
  },
  {
   "cell_type": "code",
   "execution_count": 44,
   "id": "e9324e7a",
   "metadata": {},
   "outputs": [
    {
     "name": "stdout",
     "output_type": "stream",
     "text": [
      "55.0\n",
      "55.0\n"
     ]
    }
   ],
   "source": [
    "print(presidents_df['age'].mean())\n",
    "print(presidents_df['age'].median())"
   ]
  },
  {
   "cell_type": "markdown",
   "id": "a95054ab",
   "metadata": {},
   "source": [
    "#### Varianz und Standardabweichung\n",
    "- Varianz: E((wert-mean)²)/anzahl_daten\n",
    "- Standardabweichung: root(Varianz) -> ist der Wert hoch, sind die Werte stark gestreut, ist der Wert klein, sind die Werte nah am Mittelwert"
   ]
  },
  {
   "cell_type": "code",
   "execution_count": 47,
   "id": "defb9dd9",
   "metadata": {},
   "outputs": [
    {
     "name": "stdout",
     "output_type": "stream",
     "text": [
      "3.0\n",
      "1.0\n",
      "1.0\n"
     ]
    }
   ],
   "source": [
    "#minimal-beispiel: mittelwert und varianz\n",
    "dat = pd.Series([2, 3, 4])\n",
    "print(dat.mean())\n",
    "print(dat.var())\n",
    "\n",
    "#standardabweichung\n",
    "print(dat.std())"
   ]
  },
  {
   "cell_type": "code",
   "execution_count": 50,
   "id": "14331de2",
   "metadata": {},
   "outputs": [
    {
     "name": "stdout",
     "output_type": "stream",
     "text": [
      "43.5\n",
      "6.59545297913646\n"
     ]
    }
   ],
   "source": [
    "#varianz und standardabweiung beim alter der präsidenten\n",
    "print(presidents_df['age'].var())\n",
    "print(presidents_df['age'].std())"
   ]
  },
  {
   "cell_type": "code",
   "execution_count": 51,
   "id": "cf86d507",
   "metadata": {},
   "outputs": [
    {
     "name": "stderr",
     "output_type": "stream",
     "text": [
      "C:\\Users\\Simon\\AppData\\Local\\Temp/ipykernel_17624/3413406751.py:2: FutureWarning: Dropping of nuisance columns in DataFrame reductions (with 'numeric_only=None') is deprecated; in a future version this will raise TypeError.  Select only valid columns before calling the reduction.\n",
      "  presidents_df.std()\n"
     ]
    },
    {
     "data": {
      "text/plain": [
       "order     13.136502\n",
       "age        6.595453\n",
       "height     6.977236\n",
       "dtype: float64"
      ]
     },
     "execution_count": 51,
     "metadata": {},
     "output_type": "execute_result"
    }
   ],
   "source": [
    "#gesamtes daten-set\n",
    "presidents_df.std()"
   ]
  },
  {
   "cell_type": "markdown",
   "id": "0a3c2cb9",
   "metadata": {},
   "source": [
    "#### Gesamte Statistik ausgeben: describe()\n",
    "- bezieht nur Nicht-Nullwerte mit ein"
   ]
  },
  {
   "cell_type": "code",
   "execution_count": 55,
   "id": "389d0977",
   "metadata": {},
   "outputs": [
    {
     "name": "stdout",
     "output_type": "stream",
     "text": [
      "Nur nach Alter:\n",
      "count    45.000000\n",
      "mean     55.000000\n",
      "std       6.595453\n",
      "min      42.000000\n",
      "25%      51.000000\n",
      "50%      55.000000\n",
      "75%      58.000000\n",
      "max      70.000000\n",
      "Name: age, dtype: float64\n",
      "\n",
      "Gesamt:\n",
      "           order        age      height\n",
      "count  45.000000  45.000000   45.000000\n",
      "mean   23.022222  55.000000  180.000000\n",
      "std    13.136502   6.595453    6.977236\n",
      "min     1.000000  42.000000  163.000000\n",
      "25%    12.000000  51.000000  175.000000\n",
      "50%    23.000000  55.000000  182.000000\n",
      "75%    34.000000  58.000000  183.000000\n",
      "max    45.000000  70.000000  193.000000\n"
     ]
    }
   ],
   "source": [
    "print('Nur nach Alter:')\n",
    "print(presidents_df['age'].describe())\n",
    "print('\\nGesamt:')\n",
    "print(presidents_df.describe())\n",
    "#ergebnis max-min: alter(70-42=28) und größe(193-163) \n",
    "#haben ähnliche standardabweiungen und zeigen dadurch\n",
    "#eine ähnliche streuung der daten"
   ]
  },
  {
   "cell_type": "markdown",
   "id": "f699dc1a",
   "metadata": {},
   "source": [
    "#### Kategorische Variable\n",
    "- für Nicht-Zahlen-Werte"
   ]
  },
  {
   "cell_type": "code",
   "execution_count": 57,
   "id": "7c29956c",
   "metadata": {},
   "outputs": [
    {
     "name": "stdout",
     "output_type": "stream",
     "text": [
      "republican               19\n",
      "democratic               15\n",
      "democratic-republican     4\n",
      "whig                      4\n",
      "none                      1\n",
      "federalist                1\n",
      "national union            1\n",
      "Name: party, dtype: int64\n"
     ]
    }
   ],
   "source": [
    "#häufigkeit des auftretens von werten\n",
    "print(presidents_df['party'].value_counts())"
   ]
  },
  {
   "cell_type": "code",
   "execution_count": 59,
   "id": "e2328374",
   "metadata": {},
   "outputs": [
    {
     "name": "stdout",
     "output_type": "stream",
     "text": [
      "count             45\n",
      "unique             7\n",
      "top       republican\n",
      "freq              19\n",
      "Name: party, dtype: object\n"
     ]
    }
   ],
   "source": [
    "#describe() hier auch verwendbar bezüglich anzahl, \n",
    "#anzahl einzigartiger werte (solo-parteien),\n",
    "#häufigster wert und anzahl der werte zum max (repulican)\n",
    "print(presidents_df['party'].describe())"
   ]
  },
  {
   "cell_type": "markdown",
   "id": "f113f8db",
   "metadata": {},
   "source": [
    "## Groupby und Aggregations"
   ]
  },
  {
   "cell_type": "markdown",
   "id": "f1353b71",
   "metadata": {},
   "source": [
    "#### Groupby\n",
    "- Wert nach Bedingung sortieren lassen"
   ]
  },
  {
   "cell_type": "code",
   "execution_count": 62,
   "id": "571fecbe",
   "metadata": {},
   "outputs": [
    {
     "name": "stdout",
     "output_type": "stream",
     "text": [
      "                           order        age      height\n",
      "party                                                  \n",
      "democratic             26.066667  52.600000  181.066667\n",
      "democratic-republican   4.500000  57.250000  176.500000\n",
      "federalist              2.000000  61.000000  170.000000\n",
      "national union         17.000000  56.000000  178.000000\n",
      "none                    1.000000  57.000000  189.000000\n",
      "republican             29.631579  55.263158  180.894737\n",
      "whig                   11.000000  58.250000  176.000000\n"
     ]
    }
   ],
   "source": [
    "#durchschnittswerte sortiert nach partei\n",
    "print(presidents_df.groupby('party').mean())"
   ]
  },
  {
   "cell_type": "markdown",
   "id": "32f75dd1",
   "metadata": {},
   "source": [
    "#### Aggregation\n",
    "- führt zusätzliche Operationen auf ein Groupby-Objekt aus"
   ]
  },
  {
   "cell_type": "code",
   "execution_count": 64,
   "id": "cd404316",
   "metadata": {},
   "outputs": [
    {
     "name": "stdout",
     "output_type": "stream",
     "text": [
      "                       min  median  max\n",
      "party                                  \n",
      "democratic             168   180.0  193\n",
      "democratic-republican  163   177.0  189\n",
      "federalist             170   170.0  170\n",
      "national union         178   178.0  178\n",
      "none                   189   189.0  189\n",
      "republican             168   182.0  193\n",
      "whig                   173   174.0  183\n"
     ]
    }
   ],
   "source": [
    "import numpy as np\n",
    "\n",
    "print(presidents_df.groupby('party')['height'].agg(['min', np.median, max]))"
   ]
  },
  {
   "cell_type": "code",
   "execution_count": 65,
   "id": "04b850a9",
   "metadata": {},
   "outputs": [
    {
     "name": "stdout",
     "output_type": "stream",
     "text": [
      "                      height             age    \n",
      "                      median        mean min max\n",
      "party                                           \n",
      "democratic             180.0  181.066667  43  65\n",
      "democratic-republican  177.0  176.500000  57  58\n",
      "federalist             170.0  170.000000  61  61\n",
      "national union         178.0  178.000000  56  56\n",
      "none                   189.0  189.000000  57  57\n",
      "republican             182.0  180.894737  42  70\n",
      "whig                   174.0  176.000000  50  68\n"
     ]
    }
   ],
   "source": [
    "#verschiedene statistiken anzeigen lassen\n",
    "print(presidents_df.groupby('party')\\\n",
    "    .agg({'height': [np.median, np.mean],\n",
    "        'age':    [min, max]}))"
   ]
  },
  {
   "cell_type": "code",
   "execution_count": 68,
   "id": "ca94fb5e",
   "metadata": {},
   "outputs": [
    {
     "name": "stdout",
     "output_type": "stream",
     "text": [
      "                       median  max\n",
      "party                             \n",
      "democratic               52.0   65\n",
      "democratic-republican    57.0   58\n",
      "federalist               61.0   61\n",
      "national union           56.0   56\n",
      "none                     57.0   57\n",
      "republican               54.0   70\n",
      "whig                     57.5   68\n"
     ]
    }
   ],
   "source": [
    "#weiteres beispiel zu versch. statistiken\n",
    "print(presidents_df.groupby('party')['age'].agg([np.median, max]))"
   ]
  },
  {
   "cell_type": "code",
   "execution_count": null,
   "id": "25803f08",
   "metadata": {},
   "outputs": [],
   "source": []
  }
 ],
 "metadata": {
  "kernelspec": {
   "display_name": "Python 3 (ipykernel)",
   "language": "python",
   "name": "python3"
  },
  "language_info": {
   "codemirror_mode": {
    "name": "ipython",
    "version": 3
   },
   "file_extension": ".py",
   "mimetype": "text/x-python",
   "name": "python",
   "nbconvert_exporter": "python",
   "pygments_lexer": "ipython3",
   "version": "3.9.7"
  }
 },
 "nbformat": 4,
 "nbformat_minor": 5
}
