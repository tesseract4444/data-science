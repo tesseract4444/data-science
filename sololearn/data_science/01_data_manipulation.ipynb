{
 "cells": [
  {
   "cell_type": "markdown",
   "id": "1bb3e929",
   "metadata": {},
   "source": [
    "## 01 Was ist Data Science?\n",
    "#### Allgemein\n",
    "- Vorhersage für Haus-Preise\n",
    "- Schlüsselattribute in Bezug zur Qualität von Wein finden\n",
    "- Empfehlung zu Verbesserung der Klick-Rate für die Amazon-Website\n",
    "- Sammeln von Daten, Aufräumen von Daten, Erforschung von Daten\n",
    "- Felder: Statistik, Datenanalyse, maschinelles Lernen"
   ]
  },
  {
   "cell_type": "markdown",
   "id": "be24e090",
   "metadata": {},
   "source": [
    "#### Python\n",
    "- Numpy, Pandas, Matplotlib"
   ]
  },
  {
   "cell_type": "markdown",
   "id": "7d51388c",
   "metadata": {},
   "source": [
    "## 02 Einführung zu Numpy\n",
    "#### Allgemein\n",
    "- Datensets über: Maßeinheiten, Textkorpus, Audioclips etc.\n",
    "- Data Science: Abbildung von Daten in Arrays"
   ]
  },
  {
   "cell_type": "code",
   "execution_count": 2,
   "id": "940969db",
   "metadata": {
    "scrolled": true
   },
   "outputs": [
    {
     "name": "stdout",
     "output_type": "stream",
     "text": [
      "5\n"
     ]
    }
   ],
   "source": [
    "heights = [189, 170, 189, 163, 183, 171, 185, 168, 173, 183, 173, 173, 175, 178, 183, 193, 178, 173, 174, 183, 183, 180, 168, 180, 170, 178, 182, 180, 183, 178, 182, 188, 175, 179, 183, 193, 182, 183, 177, 185, 188, 188, 182, 185, 191]\n",
    "\n",
    "count = 0\n",
    "for height in heights:\n",
    "    if height > 188:\n",
    "        count +=1\n",
    "print(count)"
   ]
  },
  {
   "cell_type": "markdown",
   "id": "2f5b49df",
   "metadata": {},
   "source": [
    "#### Umsetzung über Numpy"
   ]
  },
  {
   "cell_type": "code",
   "execution_count": 3,
   "id": "885b3cc7",
   "metadata": {},
   "outputs": [
    {
     "name": "stdout",
     "output_type": "stream",
     "text": [
      "5\n"
     ]
    }
   ],
   "source": [
    "import numpy as np\n",
    "heights_arr = np.array(heights) #np.array() konvertiert liste in numpy-array\n",
    "print((heights_arr > 188).sum())"
   ]
  },
  {
   "cell_type": "markdown",
   "id": "68cd7e30",
   "metadata": {},
   "source": [
    "#### Größe (size) und Form (shape)"
   ]
  },
  {
   "cell_type": "code",
   "execution_count": 3,
   "id": "3f2eeb92",
   "metadata": {},
   "outputs": [
    {
     "name": "stdout",
     "output_type": "stream",
     "text": [
      "45\n"
     ]
    }
   ],
   "source": [
    "size = heights_arr.size\n",
    "print(size)"
   ]
  },
  {
   "cell_type": "code",
   "execution_count": 4,
   "id": "37401dd4",
   "metadata": {},
   "outputs": [
    {
     "name": "stdout",
     "output_type": "stream",
     "text": [
      "(45,)\n",
      "1\n"
     ]
    }
   ],
   "source": [
    "shape = heights_arr.shape\n",
    "print(shape)#output: tupel\n",
    "\n",
    "print(heights_arr.ndim) #dimension: 1d-array, 0-achse mit 45 elementen"
   ]
  },
  {
   "cell_type": "markdown",
   "id": "8e4fc3a4",
   "metadata": {},
   "source": [
    "#### Reshape"
   ]
  },
  {
   "cell_type": "code",
   "execution_count": 5,
   "id": "091ff382",
   "metadata": {},
   "outputs": [
    {
     "name": "stdout",
     "output_type": "stream",
     "text": [
      "(90,)\n",
      "[[189 170 189 163 183 171 185 168 173 183 173 173 175 178 183 193 178 173\n",
      "  174 183 183 180 168 180 170 178 182 180 183 178 182 188 175 179 183 193\n",
      "  182 183 177 185 188 188 182 185 191]\n",
      " [ 57  61  57  57  58  57  61  54  68  51  49  64  50  48  65  52  56  46\n",
      "   54  49  51  47  55  55  54  42  51  56  55  51  54  51  60  62  43  55\n",
      "   56  61  52  69  64  46  54  47  70]]\n"
     ]
    }
   ],
   "source": [
    "ages = [57, 61, 57, 57, 58, 57, 61, 54, 68, 51, 49, 64, 50, 48, 65, 52, 56, 46, 54, 49, 51, 47, 55, 55, 54, 42, 51, 56, 55, 51, 54, 51, 60, 62, 43, 55, 56, 61, 52, 69, 64, 46, 54, 47, 70]\n",
    "\n",
    "heights_and_ages = heights + ages #beide listen werden addiert\n",
    "ha_array = np.array(heights_and_ages)\n",
    "print(ha_array.shape)\n",
    "\n",
    "#als neues array in neuer dimension erstellt\n",
    "print(ha_array.reshape(2, 45)) #ergebnis: 2d-array"
   ]
  },
  {
   "cell_type": "markdown",
   "id": "30f46ca6",
   "metadata": {},
   "source": [
    "#### Datentyp\n",
    "- Numpy-Array müssen immer vom selben Datentyp sein"
   ]
  },
  {
   "cell_type": "code",
   "execution_count": 6,
   "id": "390f9880",
   "metadata": {},
   "outputs": [
    {
     "name": "stdout",
     "output_type": "stream",
     "text": [
      "int32\n"
     ]
    }
   ],
   "source": [
    "print(heights_arr.dtype)"
   ]
  },
  {
   "cell_type": "code",
   "execution_count": 7,
   "id": "a9a084c9",
   "metadata": {},
   "outputs": [
    {
     "name": "stdout",
     "output_type": "stream",
     "text": [
      "[189. 170. 189. 163. 183. 171. 185. 168. 173. 183. 173. 173. 175. 178.\n",
      " 183. 193. 178. 173. 174. 183. 183. 180. 168. 180. 170. 178. 182. 180.\n",
      " 183. 178. 182. 188. 175. 179. 183. 193. 182. 183. 177. 185. 188. 188.\n",
      " 182. 185. 191.]\n",
      "\n",
      "\n",
      "float64\n"
     ]
    }
   ],
   "source": [
    "import numpy as np\n",
    "\n",
    "heights_float = [189.0, 170, 189, 163, 183, 171, 185, 168, 173, 183, 173, 173, 175, 178, 183, 193, 178, 173, 174, 183, 183, 180, 168, 180, 170, 178, 182, 180, 183, 178, 182, 188, 175, 179, 183, 193, 182, 183, 177, 185, 188, 188, 182, 185, 191]\n",
    "\n",
    "heights_float_arr = np.array(heights_float)\n",
    "print(heights_float_arr)\n",
    "print(\"\\n\")\n",
    "print(heights_float_arr.dtype)\n",
    "\n",
    "#selbst wenn nur 1 float dabei ist, werden alle werte in einen float konvertiert"
   ]
  },
  {
   "cell_type": "markdown",
   "id": "bed9983b",
   "metadata": {},
   "source": [
    "## Indexing und Slicing in Numpy"
   ]
  },
  {
   "cell_type": "markdown",
   "id": "63183477",
   "metadata": {},
   "source": [
    "#### Indexing"
   ]
  },
  {
   "cell_type": "code",
   "execution_count": 8,
   "id": "24a11438",
   "metadata": {},
   "outputs": [
    {
     "name": "stdout",
     "output_type": "stream",
     "text": [
      "189\n",
      "57\n"
     ]
    }
   ],
   "source": [
    "#zugriff auf 3.element\n",
    "print(heights_arr[2])\n",
    "\n",
    "#zugriff auf alter im 2d-array\n",
    "ha_array = ha_array.reshape(2, 45)\n",
    "print(ha_array[1,2])"
   ]
  },
  {
   "cell_type": "markdown",
   "id": "d8047331",
   "metadata": {},
   "source": [
    "#### Slicing"
   ]
  },
  {
   "cell_type": "code",
   "execution_count": 9,
   "id": "996b8102",
   "metadata": {},
   "outputs": [
    {
     "name": "stdout",
     "output_type": "stream",
     "text": [
      "[189 170 189]\n",
      "[57 61 57]\n"
     ]
    }
   ],
   "source": [
    "#array0 elemente 0-2\n",
    "ha1 = ha_array[0, 0:3] \n",
    "print(ha1)\n",
    "\n",
    "#array1 elemente 0-2\n",
    "ha2 = ha_array[1, 0:3] \n",
    "print(ha2)"
   ]
  },
  {
   "cell_type": "code",
   "execution_count": 10,
   "id": "e990d1c8",
   "metadata": {},
   "outputs": [
    {
     "name": "stdout",
     "output_type": "stream",
     "text": [
      "[189 170 189]\n"
     ]
    }
   ],
   "source": [
    "ha1 = ha_array[0, :3] #0 einfach weglassen\n",
    "print(ha1)"
   ]
  },
  {
   "cell_type": "code",
   "execution_count": 11,
   "id": "01f2c5e6",
   "metadata": {},
   "outputs": [
    {
     "name": "stdout",
     "output_type": "stream",
     "text": [
      "[163  57]\n"
     ]
    }
   ],
   "source": [
    "#ganze 4.spalte anzeigen (vgl. liste oben)\n",
    "print(ha_array[:, 3])"
   ]
  },
  {
   "cell_type": "markdown",
   "id": "6d86a915",
   "metadata": {},
   "source": [
    "## 04 Werte zuweisen/verändern"
   ]
  },
  {
   "cell_type": "markdown",
   "id": "39a56132",
   "metadata": {},
   "source": [
    "#### Einzelwerte zuweisen"
   ]
  },
  {
   "cell_type": "code",
   "execution_count": 12,
   "id": "1dcba878",
   "metadata": {},
   "outputs": [
    {
     "name": "stdout",
     "output_type": "stream",
     "text": [
      "163\n"
     ]
    }
   ],
   "source": [
    "print(heights_arr[3])"
   ]
  },
  {
   "cell_type": "code",
   "execution_count": 14,
   "id": "42c41c0e",
   "metadata": {},
   "outputs": [
    {
     "name": "stdout",
     "output_type": "stream",
     "text": [
      "165\n"
     ]
    }
   ],
   "source": [
    "heights_arr[3] = 165\n",
    "print(heights_arr[3])"
   ]
  },
  {
   "cell_type": "code",
   "execution_count": 19,
   "id": "f398448a",
   "metadata": {},
   "outputs": [
    {
     "name": "stdout",
     "output_type": "stream",
     "text": [
      "[[189 170 189 165 183 171 185 168 173 183 173 173 175 178 183 193 178 173\n",
      "  174 183 183 180 168 180 170 178 182 180 183 178 182 188 175 179 183 193\n",
      "  182 183 177 185 188 188 182 185 191]\n",
      " [ 57  61  57  57  58  57  61  54  68  51  49  64  50  48  65  52  56  46\n",
      "   54  49  51  47  55  55  54  42  51  56  55  51  54  51  60  62  43  55\n",
      "   56  61  52  69  64  46  54  47  70]]\n"
     ]
    }
   ],
   "source": [
    "#zugriff im 2-array\n",
    "ha_array[0,3] = 165\n",
    "print(ha_array)"
   ]
  },
  {
   "cell_type": "code",
   "execution_count": 20,
   "id": "9f26358f",
   "metadata": {},
   "outputs": [
    {
     "name": "stdout",
     "output_type": "stream",
     "text": [
      "[[172 172 172 172 172 172 172 172 172 172 172 172 172 172 172 172 172 172\n",
      "  172 172 172 172 172 172 172 172 172 172 172 172 172 172 172 172 172 172\n",
      "  172 172 172 172 172 172 172 172 172]\n",
      " [ 57  61  57  57  58  57  61  54  68  51  49  64  50  48  65  52  56  46\n",
      "   54  49  51  47  55  55  54  42  51  56  55  51  54  51  60  62  43  55\n",
      "   56  61  52  69  64  46  54  47  70]]\n"
     ]
    }
   ],
   "source": [
    "#die komplette reihe wird zu 172\n",
    "ha_array[0,:] = 172\n",
    "print(ha_array)"
   ]
  },
  {
   "cell_type": "code",
   "execution_count": 22,
   "id": "55ec50ed",
   "metadata": {},
   "outputs": [
    {
     "name": "stdout",
     "output_type": "stream",
     "text": [
      "[[  0   0 172 172 172 172 172 172 172 172 172 172 172 172 172 172 172 172\n",
      "  172 172 172 172 172 172 172 172 172 172 172 172 172 172 172 172 172 172\n",
      "  172 172 172 172 172 172 172 172 172]\n",
      " [  0   0  57  57  58  57  61  54  68  51  49  64  50  48  65  52  56  46\n",
      "   54  49  51  47  55  55  54  42  51  56  55  51  54  51  60  62  43  55\n",
      "   56  61  52  69  64  46  54  47  70]]\n"
     ]
    }
   ],
   "source": [
    "#0 in die linke obere ecke von beiden listen einfügen\n",
    "ha_array[:2, :2] = 0\n",
    "print(ha_array)"
   ]
  },
  {
   "cell_type": "markdown",
   "id": "b9ddff6d",
   "metadata": {},
   "source": [
    "#### Einem Array ein Array zuweisen"
   ]
  },
  {
   "cell_type": "code",
   "execution_count": 24,
   "id": "999c125a",
   "metadata": {},
   "outputs": [
    {
     "name": "stdout",
     "output_type": "stream",
     "text": [
      "[[189 170 189 163 183 171 185 168 173 183 173 173 175 178 183 193 178 173\n",
      "  174 183 183 180 168 180 170 178 182 180 183 178 182 188 175 179 183 193\n",
      "  182 183 177 185 188 188 182 185 191]\n",
      " [ 57  61  57  57  58  57  61  54  68  51  49  64  50  48  65  52  56  46\n",
      "   54  49  51  47  55  55  54  42  51  56  55  51  54  51  60  62  43  55\n",
      "   56  61  52  69  64  46  54  47  70]]\n"
     ]
    }
   ],
   "source": [
    "import numpy as np\n",
    "\n",
    "heights = [189, 170, 189, 163, 183, 171, 185, 168, 173, 183, 173, 173, 175, 178, 183, 193, 178, 173, 174, 183, 183, 180, 168, 180, 170, 178, 182, 180, 183, 178, 182, 188, 175, 179, 183, 193, 182, 183, 177, 185, 188, 188, 182, 185, 191]\n",
    "\n",
    "ages = [57, 61, 57, 57, 58, 57, 61, 54, 68, 51, 49, 64, 50, 48, 65, 52, 56, 46, 54, 49, 51, 47, 55, 55, 54, 42, 51, 56, 55, 51, 54, 51, 60, 62, 43, 55, 56, 61, 52, 69, 64, 46, 54, 47, 70]\n",
    "\n",
    "heights_and_ages = heights + ages\n",
    "ha_array = np.array(heights_and_ages)\n",
    "ha_array = heights_and_ages_arr.reshape((2,45))\n",
    "print(ha_array)"
   ]
  },
  {
   "cell_type": "code",
   "execution_count": 25,
   "id": "feabd6e1",
   "metadata": {
    "scrolled": true
   },
   "outputs": [
    {
     "name": "stdout",
     "output_type": "stream",
     "text": [
      "[[190 170 189 163 183 171 185 168 173 183 173 173 175 178 183 193 178 173\n",
      "  174 183 183 180 168 180 170 178 182 180 183 178 182 188 175 179 183 193\n",
      "  182 183 177 185 188 188 182 185 191]\n",
      " [ 58  61  57  57  58  57  61  54  68  51  49  64  50  48  65  52  56  46\n",
      "   54  49  51  47  55  55  54  42  51  56  55  51  54  51  60  62  43  55\n",
      "   56  61  52  69  64  46  54  47  70]]\n"
     ]
    }
   ],
   "source": [
    "#jetzt das update von beiden arrays [:] jeweils an der stellen 1\n",
    "ha_array[:,0] = [190, 58]\n",
    "print(ha_array)"
   ]
  },
  {
   "cell_type": "code",
   "execution_count": 36,
   "id": "63526bc2",
   "metadata": {},
   "outputs": [
    {
     "name": "stdout",
     "output_type": "stream",
     "text": [
      "45\n",
      "[[190 170 189 163 183 171 185 168 173 183 173 173 175 178 183 193 178 173\n",
      "  174 183 183 180 168 180 170 178 182 180 183 178 182 188 175 179 183 193\n",
      "  182 183 177 185 188 188 180 183 190]\n",
      " [ 58  61  57  57  58  57  61  54  68  51  49  64  50  48  65  52  56  46\n",
      "   54  49  51  47  55  55  54  42  51  56  55  51  54  51  60  62  43  55\n",
      "   56  61  52  69  64  46  54  50  69]]\n"
     ]
    }
   ],
   "source": [
    "# jetzt update der daten eines subarrays\n",
    "print(ha_array[1, :].size)\n",
    "new = np.array([[180, 183, 190], [54, 50, 69]])\n",
    "ha_array[:, 42:] = new #42, da länge 45 und die letzten 3 einträge geändert werden\n",
    "print(ha_array)"
   ]
  },
  {
   "cell_type": "markdown",
   "id": "5cda663b",
   "metadata": {},
   "source": [
    "#### 2 Arrays kombinieren/verbinden"
   ]
  },
  {
   "cell_type": "code",
   "execution_count": 46,
   "id": "b12d9433",
   "metadata": {},
   "outputs": [
    {
     "name": "stdout",
     "output_type": "stream",
     "text": [
      "(45,)\n",
      "[57 61 57]\n",
      "Anzahl Dimensionen des Arrays: 1\n"
     ]
    }
   ],
   "source": [
    "ages_arr = np.array(ages)\n",
    "print(ages_arr.shape)\n",
    "print(ages_arr[:3,])\n",
    "print(f'Anzahl Dimensionen des Arrays: {ages_arr.ndim}')"
   ]
  },
  {
   "cell_type": "code",
   "execution_count": 66,
   "id": "957aa9c3",
   "metadata": {},
   "outputs": [
    {
     "name": "stdout",
     "output_type": "stream",
     "text": [
      "(45, 2)\n",
      "[[189  57]\n",
      " [170  61]\n",
      " [189  57]]\n",
      "\n",
      "(2, 45)\n",
      "[[189 170 189]\n",
      " [ 57  61  57]]\n"
     ]
    }
   ],
   "source": [
    "import numpy as np\n",
    "\n",
    "heights = [189, 170, 189, 163, 183, 171, 185, 168, 173, 183, 173, 173, 175, 178, 183, 193, 178, 173, 174, 183, 183, 180, 168, 180, 170, 178, 182, 180, 183, 178, 182, 188, 175, 179, 183, 193, 182, 183, 177, 185, 188, 188, 182, 185, 191]\n",
    "ages = [57, 61, 57, 57, 58, 57, 61, 54, 68, 51, 49, 64, 50, 48, 65, 52, 56, 46, 54, 49, 51, 47, 55, 55, 54, 42, 51, 56, 55, 51, 54, 51, 60, 62, 43, 55, 56, 61, 52, 69, 64, 46, 54, 47, 70]\n",
    "\n",
    "heights_arr = np.array(heights) #umwandlung in array\n",
    "ages_arr = np.array(ages) #umwandlung in array\n",
    "#height_age_arr = np.hstack((heights_arr, ages_arr)) #test\n",
    "#print(height_age_arr.shape) #test\n",
    "#print(height_age_arr) #test\n",
    "\n",
    "heights_arr = heights_arr.reshape((45,1)) #umwandlung in einzelnes 2d-array\n",
    "ages_arr = ages_arr.reshape((45,1)) #umwandlung in einzelnes 2d-array\n",
    "\n",
    "#hstack kombiniert beide arrays auf ***vertikaler*** ebene zu einem (hier: 2d-)array\n",
    "height_age_arr = np.hstack((heights_arr, ages_arr)) \n",
    "print(height_age_arr.shape)\n",
    "print(height_age_arr[:3,])\n",
    "\n",
    "#vstack kombiniert beide arrays auf ***horizontaler*** ebene zu einem (hier: 2d-)array\n",
    "#werte entsprechend umdrehen beim re-shapen\n",
    "heights_arr = heights_arr.reshape((1,45))\n",
    "ages_arr = ages_arr.reshape(1,45)\n",
    "\n",
    "print()\n",
    "\n",
    "height_age_arr = np.vstack((heights_arr, ages_arr))\n",
    "print(height_age_arr.shape)\n",
    "print(height_age_arr[:, :3])"
   ]
  },
  {
   "cell_type": "markdown",
   "id": "c003cdab",
   "metadata": {},
   "source": [
    "#### Zusammenfügen zweier Arrays über \"concatenate\"\n",
    "- horizontal über axis1 (entspricht hstack), vertikal über axis=0 (entspricht 'vstack)"
   ]
  },
  {
   "cell_type": "code",
   "execution_count": 84,
   "id": "c41a7bbc",
   "metadata": {},
   "outputs": [
    {
     "name": "stdout",
     "output_type": "stream",
     "text": [
      "(45, 2)\n",
      "[[189  57]\n",
      " [170  61]\n",
      " [189  57]]\n"
     ]
    }
   ],
   "source": [
    "import numpy as np\n",
    "\n",
    "heights = [189, 170, 189, 163, 183, 171, 185, 168, 173, 183, 173, 173, 175, 178, 183, 193, 178, 173, 174, 183, 183, 180, 168, 180, 170, 178, 182, 180, 183, 178, 182, 188, 175, 179, 183, 193, 182, 183, 177, 185, 188, 188, 182, 185, 191]\n",
    "ages = [57, 61, 57, 57, 58, 57, 61, 54, 68, 51, 49, 64, 50, 48, 65, 52, 56, 46, 54, 49, 51, 47, 55, 55, 54, 42, 51, 56, 55, 51, 54, 51, 60, 62, 43, 55, 56, 61, 52, 69, 64, 46, 54, 47, 70]\n",
    "\n",
    "heights_arr = np.array(heights)\n",
    "ages_arr = np.array(ages)\n",
    "\n",
    "heights_arr = heights_arr.reshape((45,1))\n",
    "ages_arr = ages_arr.reshape((45,1))\n",
    "\n",
    "# height_age_arr = np.hstack((heights_arr, ages_arr))\n",
    "height_age_arr = np.concatenate((heights_arr, ages_arr), axis=1)\n",
    "\n",
    "print(height_age_arr.shape)\n",
    "print(height_age_arr[:3,:])"
   ]
  },
  {
   "cell_type": "code",
   "execution_count": 83,
   "id": "f174a5fa",
   "metadata": {},
   "outputs": [
    {
     "name": "stdout",
     "output_type": "stream",
     "text": [
      "(2, 45)\n",
      "[[189 170 189]\n",
      " [ 57  61  57]]\n"
     ]
    }
   ],
   "source": [
    "import numpy as np\n",
    "\n",
    "heights = [189, 170, 189, 163, 183, 171, 185, 168, 173, 183, 173, 173, 175, 178, 183, 193, 178, 173, 174, 183, 183, 180, 168, 180, 170, 178, 182, 180, 183, 178, 182, 188, 175, 179, 183, 193, 182, 183, 177, 185, 188, 188, 182, 185, 191]\n",
    "ages = [57, 61, 57, 57, 58, 57, 61, 54, 68, 51, 49, 64, 50, 48, 65, 52, 56, 46, 54, 49, 51, 47, 55, 55, 54, 42, 51, 56, 55, 51, 54, 51, 60, 62, 43, 55, 56, 61, 52, 69, 64, 46, 54, 47, 70]\n",
    "\n",
    "heights_arr = np.array(heights)\n",
    "ages_arr = np.array(ages)\n",
    "\n",
    "heights_arr = heights_arr.reshape((1,45))\n",
    "ages_arr = ages_arr.reshape((1,45))\n",
    "\n",
    "#height_age_arr = np.vstack((heights_arr, ages_arr))\n",
    "height_age_arr = np.concatenate((heights_arr, ages_arr), axis=0)\n",
    "\n",
    "print(height_age_arr.shape)\n",
    "print(height_age_arr[:,:3])"
   ]
  },
  {
   "cell_type": "markdown",
   "id": "42a3ef04",
   "metadata": {},
   "source": [
    "## 05 Operationen"
   ]
  },
  {
   "cell_type": "markdown",
   "id": "fedcbc69",
   "metadata": {},
   "source": [
    "#### Mathematische Operationen"
   ]
  },
  {
   "cell_type": "code",
   "execution_count": 90,
   "id": "f8804205",
   "metadata": {},
   "outputs": [
    {
     "name": "stdout",
     "output_type": "stream",
     "text": [
      "[6.2007876 5.577428  6.2007876 5.3477692 6.0039372 5.6102364 6.069554\n",
      " 5.5118112 5.6758532 6.0039372 5.6758532 5.6758532 5.74147   5.8398952\n",
      " 6.0039372 6.3320212 5.8398952 5.6758532 5.7086616 6.0039372 6.0039372\n",
      " 5.905512  5.5118112 5.905512  5.577428  5.8398952 5.9711288 5.905512\n",
      " 6.0039372 5.8398952 5.9711288 6.1679792 5.74147   5.8727036 6.0039372\n",
      " 6.3320212 5.9711288 6.0039372 5.8070868 6.069554  6.1679792 6.1679792\n",
      " 5.9711288 6.069554  6.2664044]\n"
     ]
    }
   ],
   "source": [
    "import numpy as np\n",
    "\n",
    "heights_arr = np.array([189, 170, 189, 163, 183, 171, 185, 168, 173, 183, 173, 173, 175, 178, 183, 193, 178, 173, 174, 183, 183, 180, 168, 180, 170, 178, 182, 180, 183, 178, 182, 188, 175, 179, 183, 193, 182, 183, 177, 185, 188, 188, 182, 185, 191])\n",
    "ages_arr = np.array([57, 61, 57, 57, 58, 57, 61, 54, 68, 51, 49, 64, 50, 48, 65, 52, 56, 46, 54, 49, 51, 47, 55, 55, 54, 42, 51, 56, 55, 51, 54, 51, 60, 62, 43, 55, 56, 61, 52, 69, 64, 46, 54, 47, 70]).reshape((-1,1))\n",
    "\n",
    "heights_arr = heights_arr.reshape((45,1))\n",
    "height_age_arr = np.hstack((heights_arr, ages_arr))\n",
    "\n",
    "print(height_age_arr[:,0]*0.0328084) #wandelt array0 (heights) komplett in fuß um über multiplikation\n",
    "#print(ages_arr[:,0]-1) #sinnlos, zum spaß alter-1 ausprobiert"
   ]
  },
  {
   "cell_type": "markdown",
   "id": "00909ccd",
   "metadata": {},
   "source": [
    "#### Methoden und Numpy Arrays"
   ]
  },
  {
   "cell_type": "code",
   "execution_count": 91,
   "id": "8db127b6",
   "metadata": {},
   "outputs": [
    {
     "name": "stdout",
     "output_type": "stream",
     "text": [
      "10575\n"
     ]
    }
   ],
   "source": [
    "print(height_age_arr.sum()) #gesamtsumme"
   ]
  },
  {
   "cell_type": "code",
   "execution_count": 95,
   "id": "ad84d32b",
   "metadata": {},
   "outputs": [
    {
     "name": "stdout",
     "output_type": "stream",
     "text": [
      "[8100 2475]\n"
     ]
    }
   ],
   "source": [
    "print(height_age_arr.sum(axis=0)) #summe nach spalten (vertikal) über achse=0, bei zeilen (horizontal) wäre es achse=1"
   ]
  },
  {
   "cell_type": "markdown",
   "id": "3d47d057",
   "metadata": {},
   "source": [
    "#### Vergleiche"
   ]
  },
  {
   "cell_type": "code",
   "execution_count": 98,
   "id": "128ee146",
   "metadata": {},
   "outputs": [
    {
     "name": "stdout",
     "output_type": "stream",
     "text": [
      "[False False False False False False False  True False  True  True False\n",
      "  True  True False  True False  True  True  True  True  True False False\n",
      "  True  True  True False False  True  True  True False False  True False\n",
      " False False  True False False  True  True  True False]\n",
      "22\n"
     ]
    }
   ],
   "source": [
    "#größer\n",
    "print(height_age_arr[:,1]<55)\n",
    "\n",
    "print((height_age_arr[:,1]<55).sum())"
   ]
  },
  {
   "cell_type": "code",
   "execution_count": 99,
   "id": "dacad70a",
   "metadata": {},
   "outputs": [
    {
     "name": "stdout",
     "output_type": "stream",
     "text": [
      "[False False False False False False False False False False False False\n",
      " False False False False False False False False False False  True  True\n",
      " False False False False  True False False False False False False  True\n",
      " False False False False False False False False False]\n",
      "4\n"
     ]
    }
   ],
   "source": [
    "#gleich\n",
    "print(height_age_arr[:,1]==55)\n",
    "\n",
    "print((height_age_arr[:,1]==55).sum())"
   ]
  },
  {
   "cell_type": "markdown",
   "id": "ddba4c78",
   "metadata": {},
   "source": [
    "#### Maskierung und Subsettings"
   ]
  },
  {
   "cell_type": "code",
   "execution_count": 105,
   "id": "a914387e",
   "metadata": {},
   "outputs": [
    {
     "name": "stdout",
     "output_type": "stream",
     "text": [
      "23\n",
      "(23, 2)\n"
     ]
    }
   ],
   "source": [
    "mask = height_age_arr[:,0]>=182\n",
    "print(mask.sum())\n",
    "\n",
    "#jetzt alle präsidenten ignorieren, die nicht den kriterien entsprechen\n",
    "#und das als neues array speichern\n",
    "tall_presidents = height_age_arr[mask, ]\n",
    "print(tall_presidents.shape)"
   ]
  },
  {
   "cell_type": "markdown",
   "id": "243eefb2",
   "metadata": {},
   "source": [
    "#### Mehrere Kriterien"
   ]
  },
  {
   "cell_type": "code",
   "execution_count": 106,
   "id": "5748f1df",
   "metadata": {},
   "outputs": [
    {
     "name": "stdout",
     "output_type": "stream",
     "text": [
      "[[183  49]\n",
      " [183  43]\n",
      " [188  46]\n",
      " [185  47]]\n"
     ]
    }
   ],
   "source": [
    "#verwendung von separatoren wie & | etc.\n",
    "import numpy as np\n",
    "\n",
    "heights_arr = np.array([189, 170, 189, 163, 183, 171, 185, 168, 173, 183, 173, 173, 175, 178, 183, 193, 178, 173, 174, 183, 183, 180, 168, 180, 170, 178, 182, 180, 183, 178, 182, 188, 175, 179, 183, 193, 182, 183, 177, 185, 188, 188, 182, 185, 191])\n",
    "ages_arr = np.array([57, 61, 57, 57, 58, 57, 61, 54, 68, 51, 49, 64, 50, 48, 65, 52, 56, 46, 54, 49, 51, 47, 55, 55, 54, 42, 51, 56, 55, 51, 54, 51, 60, 62, 43, 55, 56, 61, 52, 69, 64, 46, 54, 47, 70]).reshape((-1,1))\n",
    "\n",
    "heights_arr = heights_arr.reshape((45,1))\n",
    "height_age_arr = np.hstack((heights_arr, ages_arr))\n",
    "\n",
    "#hier die eigentliche kriterienfindung:\n",
    "mask = (height_age_arr[:, 0]>=182) & (height_age_arr[:,1]<=50)\n",
    "\n",
    "print(height_age_arr[mask,])"
   ]
  },
  {
   "cell_type": "code",
   "execution_count": null,
   "id": "f81417e3",
   "metadata": {},
   "outputs": [],
   "source": []
  }
 ],
 "metadata": {
  "kernelspec": {
   "display_name": "Python 3 (ipykernel)",
   "language": "python",
   "name": "python3"
  },
  "language_info": {
   "codemirror_mode": {
    "name": "ipython",
    "version": 3
   },
   "file_extension": ".py",
   "mimetype": "text/x-python",
   "name": "python",
   "nbconvert_exporter": "python",
   "pygments_lexer": "ipython3",
   "version": "3.9.7"
  }
 },
 "nbformat": 4,
 "nbformat_minor": 5
}
