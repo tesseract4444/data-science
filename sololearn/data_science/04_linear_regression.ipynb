{
 "cells": [
  {
   "cell_type": "markdown",
   "id": "bee75e42",
   "metadata": {},
   "source": [
    "#### 01 Machine Learning"
   ]
  },
  {
   "cell_type": "markdown",
   "id": "d8617171",
   "metadata": {},
   "source": [
    "linear regression formula: y=b+mx\n",
    "output y, intercept b, slope m, feature x\n",
    "\n",
    "linear regression line: kürzeste Abstände zu Punkten darstellen"
   ]
  },
  {
   "cell_type": "markdown",
   "id": "e98c2f1d",
   "metadata": {},
   "source": [
    "#### 02 Exploratory Data Analysis"
   ]
  },
  {
   "cell_type": "code",
   "execution_count": 1,
   "id": "875f34b7",
   "metadata": {},
   "outputs": [
    {
     "name": "stdout",
     "output_type": "stream",
     "text": [
      "506\n",
      "(506, 14)\n",
      "Index(['CRIM', 'ZN', 'INDUS', 'CHAS', 'NOX', 'RM', 'AGE', 'DIS', 'RAD', 'TAX',\n",
      "       'PTRATIO', 'B', 'LSTAT', 'MEDV'],\n",
      "      dtype='object')\n",
      "   CHAS     RM   AGE  RAD  MEDV\n",
      "0   0.0  6.575  65.2  1.0  24.0\n",
      "1   0.0  6.421  78.9  2.0  21.6\n",
      "2   0.0  7.185  61.1  2.0  34.7\n",
      "3   0.0  6.998  45.8  3.0  33.4\n",
      "4   0.0  7.147  54.2  3.0  36.2\n",
      "      CRIM    ZN  INDUS  CHAS    NOX     RM   AGE     DIS  RAD    TAX  \\\n",
      "0  0.00632  18.0   2.31   0.0  0.538  6.575  65.2  4.0900  1.0  296.0   \n",
      "1  0.02731   0.0   7.07   0.0  0.469  6.421  78.9  4.9671  2.0  242.0   \n",
      "2  0.02729   0.0   7.07   0.0  0.469  7.185  61.1  4.9671  2.0  242.0   \n",
      "\n",
      "   PTRATIO       B  LSTAT  MEDV  \n",
      "0     15.3  396.90   4.98  24.0  \n",
      "1     17.8  396.90   9.14  21.6  \n",
      "2     17.8  392.83   4.03  34.7  \n"
     ]
    }
   ],
   "source": [
    "import pandas as pd\n",
    "\n",
    "from sklearn.datasets import load_boston #boston dataset bereits in sklearn integriert\n",
    "boston_dataset = load_boston()\n",
    "## build a DataFrame\n",
    "boston = pd.DataFrame(boston_dataset.data, \n",
    "                      columns=boston_dataset.feature_names) #integration des datensets in numpy\n",
    "boston['MEDV'] = boston_dataset.target #gibt spalte MEDV als ziel aus\n",
    "\n",
    "print(boston.shape[0]) #gibt rows aus, [1] gibt columns aus\n",
    "print(boston.shape) #rows und columns\n",
    "print(boston.columns) #column name\n",
    "print(boston[['CHAS', 'RM', 'AGE', 'RAD', 'MEDV']].head()) #head von ausgewählten spalten\n",
    "print(boston.head(n=3)) #head allgemein, (n=zahl) fakultativ\n"
   ]
  },
  {
   "cell_type": "markdown",
   "id": "6ea597f0",
   "metadata": {},
   "source": [
    "Summary Statistics"
   ]
  },
  {
   "cell_type": "code",
   "execution_count": 2,
   "id": "4166478b",
   "metadata": {},
   "outputs": [
    {
     "name": "stdout",
     "output_type": "stream",
     "text": [
      "         CRIM      ZN   INDUS    CHAS     NOX      RM     AGE     DIS     RAD  \\\n",
      "count  506.00  506.00  506.00  506.00  506.00  506.00  506.00  506.00  506.00   \n",
      "mean     3.61   11.36   11.14    0.07    0.55    6.28   68.57    3.80    9.55   \n",
      "std      8.60   23.32    6.86    0.25    0.12    0.70   28.15    2.11    8.71   \n",
      "min      0.01    0.00    0.46    0.00    0.38    3.56    2.90    1.13    1.00   \n",
      "25%      0.08    0.00    5.19    0.00    0.45    5.89   45.02    2.10    4.00   \n",
      "50%      0.26    0.00    9.69    0.00    0.54    6.21   77.50    3.21    5.00   \n",
      "75%      3.68   12.50   18.10    0.00    0.62    6.62   94.07    5.19   24.00   \n",
      "max     88.98  100.00   27.74    1.00    0.87    8.78  100.00   12.13   24.00   \n",
      "\n",
      "          TAX  PTRATIO       B   LSTAT    MEDV  \n",
      "count  506.00   506.00  506.00  506.00  506.00  \n",
      "mean   408.24    18.46  356.67   12.65   22.53  \n",
      "std    168.54     2.16   91.29    7.14    9.20  \n",
      "min    187.00    12.60    0.32    1.73    5.00  \n",
      "25%    279.00    17.40  375.38    6.95   17.02  \n",
      "50%    330.00    19.05  391.44   11.36   21.20  \n",
      "75%    666.00    20.20  396.22   16.96   25.00  \n",
      "max    711.00    22.00  396.90   37.97   50.00  \n",
      "count    506.000000\n",
      "mean      68.574901\n",
      "std       28.148861\n",
      "min        2.900000\n",
      "25%       45.025000\n",
      "50%       77.500000\n",
      "75%       94.075000\n",
      "max      100.000000\n",
      "Name: AGE, dtype: float64\n"
     ]
    }
   ],
   "source": [
    "print(boston.describe().round(2)) #uebersicht über gesamtstatistik mit auswertung nach anzahl, mittelwert, standardvarianz, min/max, quantilen\n",
    "print(boston['AGE'].describe())"
   ]
  },
  {
   "cell_type": "markdown",
   "id": "299a54b3",
   "metadata": {},
   "source": [
    "Visualization"
   ]
  },
  {
   "cell_type": "code",
   "execution_count": 3,
   "id": "286865fc",
   "metadata": {},
   "outputs": [
    {
     "data": {
      "image/png": "[encoded data removed]",
      "text/plain": [
       "<Figure size 432x288 with 1 Axes>"
      ]
     },
     "metadata": {
      "needs_background": "light"
     },
     "output_type": "display_data"
    }
   ],
   "source": [
    "import matplotlib.pyplot as plt\n",
    "\n",
    "boston.hist(column='CHAS', color = \"r\")\n",
    "#plt.savefig('plot1.png')\n",
    "plt.show()"
   ]
  },
  {
   "cell_type": "code",
   "execution_count": 4,
   "id": "b8676104",
   "metadata": {},
   "outputs": [
    {
     "data": {
      "image/png": "[encoded data removed]",
      "text/plain": [
       "<Figure size 432x288 with 1 Axes>"
      ]
     },
     "metadata": {
      "needs_background": "light"
     },
     "output_type": "display_data"
    }
   ],
   "source": [
    "boston.hist(column=\"RM\", bins=20, color=\"b\")\n",
    "plt.show()"
   ]
  },
  {
   "cell_type": "markdown",
   "id": "071eb192",
   "metadata": {},
   "source": [
    "#### 04 Correlation"
   ]
  },
  {
   "cell_type": "markdown",
   "id": "3cf91402",
   "metadata": {},
   "source": [
    "Correlation Matrix\n",
    "- Übersicht, wie Daten miteinander korrelieren\n",
    "- Range: -1 bis 1"
   ]
  },
  {
   "cell_type": "code",
   "execution_count": 5,
   "id": "40f7b00a",
   "metadata": {},
   "outputs": [
    {
     "name": "stdout",
     "output_type": "stream",
     "text": [
      "         CRIM    ZN  INDUS  CHAS   NOX    RM   AGE   DIS   RAD   TAX  PTRATIO  \\\n",
      "CRIM     1.00 -0.20   0.41 -0.06  0.42 -0.22  0.35 -0.38  0.63  0.58     0.29   \n",
      "ZN      -0.20  1.00  -0.53 -0.04 -0.52  0.31 -0.57  0.66 -0.31 -0.31    -0.39   \n",
      "INDUS    0.41 -0.53   1.00  0.06  0.76 -0.39  0.64 -0.71  0.60  0.72     0.38   \n",
      "CHAS    -0.06 -0.04   0.06  1.00  0.09  0.09  0.09 -0.10 -0.01 -0.04    -0.12   \n",
      "NOX      0.42 -0.52   0.76  0.09  1.00 -0.30  0.73 -0.77  0.61  0.67     0.19   \n",
      "RM      -0.22  0.31  -0.39  0.09 -0.30  1.00 -0.24  0.21 -0.21 -0.29    -0.36   \n",
      "AGE      0.35 -0.57   0.64  0.09  0.73 -0.24  1.00 -0.75  0.46  0.51     0.26   \n",
      "DIS     -0.38  0.66  -0.71 -0.10 -0.77  0.21 -0.75  1.00 -0.49 -0.53    -0.23   \n",
      "RAD      0.63 -0.31   0.60 -0.01  0.61 -0.21  0.46 -0.49  1.00  0.91     0.46   \n",
      "TAX      0.58 -0.31   0.72 -0.04  0.67 -0.29  0.51 -0.53  0.91  1.00     0.46   \n",
      "PTRATIO  0.29 -0.39   0.38 -0.12  0.19 -0.36  0.26 -0.23  0.46  0.46     1.00   \n",
      "B       -0.39  0.18  -0.36  0.05 -0.38  0.13 -0.27  0.29 -0.44 -0.44    -0.18   \n",
      "LSTAT    0.46 -0.41   0.60 -0.05  0.59 -0.61  0.60 -0.50  0.49  0.54     0.37   \n",
      "MEDV    -0.39  0.36  -0.48  0.18 -0.43  0.70 -0.38  0.25 -0.38 -0.47    -0.51   \n",
      "\n",
      "            B  LSTAT  MEDV  \n",
      "CRIM    -0.39   0.46 -0.39  \n",
      "ZN       0.18  -0.41  0.36  \n",
      "INDUS   -0.36   0.60 -0.48  \n",
      "CHAS     0.05  -0.05  0.18  \n",
      "NOX     -0.38   0.59 -0.43  \n",
      "RM       0.13  -0.61  0.70  \n",
      "AGE     -0.27   0.60 -0.38  \n",
      "DIS      0.29  -0.50  0.25  \n",
      "RAD     -0.44   0.49 -0.38  \n",
      "TAX     -0.44   0.54 -0.47  \n",
      "PTRATIO -0.18   0.37 -0.51  \n",
      "B        1.00  -0.37  0.33  \n",
      "LSTAT   -0.37   1.00 -0.74  \n",
      "MEDV     0.33  -0.74  1.00  \n"
     ]
    }
   ],
   "source": [
    "corr_matrix = boston.corr().round(2)\n",
    "print(corr_matrix)"
   ]
  },
  {
   "cell_type": "markdown",
   "id": "04bf3aaf",
   "metadata": {},
   "source": [
    "Data Preparation"
   ]
  },
  {
   "cell_type": "code",
   "execution_count": 6,
   "id": "4a6d8626",
   "metadata": {},
   "outputs": [
    {
     "data": {
      "image/png": "[encoded data removed]",
      "text/plain": [
       "<Figure size 576x360 with 1 Axes>"
      ]
     },
     "metadata": {
      "needs_background": "light"
     },
     "output_type": "display_data"
    }
   ],
   "source": [
    "#scatter plot: macht am meisten sinn bei positiven korrelationen; zeigt beziehungen zwischen 2 features\n",
    "\n",
    "boston.plot(kind=\"scatter\", x = \"RM\", y=\"MEDV\", figsize=(8,5)); #figsize mit (width, height)"
   ]
  },
  {
   "cell_type": "code",
   "execution_count": 7,
   "id": "3468d124",
   "metadata": {},
   "outputs": [
    {
     "data": {
      "image/png": "[encoded data removed]",
      "text/plain": [
       "<Figure size 576x432 with 1 Axes>"
      ]
     },
     "metadata": {
      "needs_background": "light"
     },
     "output_type": "display_data"
    }
   ],
   "source": [
    "boston.plot(kind=\"scatter\", x=\"LSTAT\", y=\"MEDV\", figsize=(8,6), color=\"r\");"
   ]
  },
  {
   "cell_type": "code",
   "execution_count": 8,
   "id": "4d606f1e",
   "metadata": {},
   "outputs": [
    {
     "name": "stdout",
     "output_type": "stream",
     "text": [
      "(506, 1)\n",
      "(506,)\n"
     ]
    }
   ],
   "source": [
    "#scikit hat 2d-feature-matizen mit 2D-X-Arrays und einem 1D-zielarray\n",
    "X = boston[[\"RM\"]] #2d durch doppel-eckklammern\n",
    "print(X.shape)\n",
    "\n",
    "Y=boston[\"MEDV\"]\n",
    "print(Y.shape)"
   ]
  },
  {
   "cell_type": "markdown",
   "id": "839e383b",
   "metadata": {},
   "source": [
    "#### 04 Fitting a Univariate Linear Regression"
   ]
  },
  {
   "cell_type": "markdown",
   "id": "a11d8dc6",
   "metadata": {},
   "source": [
    "Instantiating the Model\n",
    "- training: training the model on newly unseen data, 70% of the data for training sets\n",
    "- testing: testing set for evaluation, 30% of the data for testing sets\n",
    "- train_test_split function splits the data into 2 random subsets\n",
    "- Code\n",
    "\n",
    "from sklearn.model_selection import train_test_split\n",
    "\n",
    "X_train, X_test, Y_train, Y_test = train_test_split(X, Y, \n",
    "test_size = 0.3, \n",
    "random_state=1)"
   ]
  },
  {
   "cell_type": "markdown",
   "id": "c30cef3e",
   "metadata": {},
   "source": [
    "Fitting the Model\n",
    "- eqaual to training\n",
    "- fits the model to the training data and finds the coefficients specified in the linear regression model (i.e. intercept and slope)\n",
    "- model.fit(X_train, Y_train)\n",
    "- fit() triggers compuations, results are stored in the model object\n",
    "- fitting is how well the machine learning model measures against the data upon which it was trained"
   ]
  },
  {
   "cell_type": "markdown",
   "id": "67848869",
   "metadata": {},
   "source": [
    "Parameter Estimates"
   ]
  },
  {
   "cell_type": "code",
   "execution_count": 28,
   "id": "24fe44b6",
   "metadata": {},
   "outputs": [
    {
     "name": "stdout",
     "output_type": "stream",
     "text": [
      "Access the intercept from the model: -30.57\n",
      "Estimated coefficient of feature Regression model: [8.46]\n",
      "Elapsed time: 0.0207s\n"
     ]
    },
    {
     "data": {
      "text/plain": [
       "'A linear regression line has an equation of the form Y = a + bX, where X is the explanatory variable and Y is the dependent variable. The slope of the line is b, and a is the intercept (the value of y when x = 0).'"
      ]
     },
     "execution_count": 28,
     "metadata": {},
     "output_type": "execute_result"
    }
   ],
   "source": [
    "import pandas as pd\n",
    "import time\n",
    "from sklearn.datasets import load_boston\n",
    "\n",
    "time_start = time.perf_counter()\n",
    "\n",
    "boston_dataset = load_boston()\n",
    "## build a DataFrame\n",
    "boston = pd.DataFrame(boston_dataset.data, \n",
    "                      columns=boston_dataset.feature_names)\n",
    "boston['MEDV'] = boston_dataset.target\n",
    "\n",
    "X = boston[['RM']]\n",
    "Y = boston['MEDV']\n",
    "\n",
    "from sklearn.model_selection import train_test_split\n",
    "X_train, X_test, Y_train, Y_test = train_test_split(X, Y, test_size = 0.3, random_state=1)\n",
    "\n",
    "from sklearn.linear_model import LinearRegression\n",
    "model = LinearRegression()\n",
    "model.fit(X_train, Y_train)\n",
    "\n",
    "print(f'Access the intercept from the model:', model.intercept_.round(2)) #gibt den intercept aus\n",
    "print(f'Estimated coefficient of feature Regression model:', model.coef_.round(2)) #gibt den slope zurück\n",
    "\n",
    "time_stop = time.perf_counter()\n",
    "\n",
    "print(f\"Elapsed time: {round(time_stop-time_start, 4)}s\")\n",
    "\n",
    "'''A linear regression line has an equation of the form Y = a + bX, where X is the explanatory variable and Y is the dependent variable. The slope of the line is b, and a is the intercept (the value of y when x = 0).'''"
   ]
  },
  {
   "cell_type": "markdown",
   "id": "ef40a55a",
   "metadata": {},
   "source": [
    "Prediction"
   ]
  },
  {
   "cell_type": "code",
   "execution_count": 43,
   "id": "7bf5c969",
   "metadata": {},
   "outputs": [
    {
     "name": "stdout",
     "output_type": "stream",
     "text": [
      "[24.42606323]\n"
     ]
    },
    {
     "data": {
      "text/plain": [
       "'When the average number of rooms per dwelling is 6.5, the model predicts a home value of $24,426.06.'"
      ]
     },
     "execution_count": 43,
     "metadata": {},
     "output_type": "execute_result"
    }
   ],
   "source": [
    "import pandas as pd\n",
    "\n",
    "from sklearn.datasets import load_boston\n",
    "boston_dataset = load_boston()\n",
    "## build a DataFrame\n",
    "boston = pd.DataFrame(boston_dataset.data, \n",
    "                      columns=boston_dataset.feature_names)\n",
    "boston['MEDV'] = boston_dataset.target\n",
    "\n",
    "X = boston[['RM']]\n",
    "Y = boston['MEDV']\n",
    "\n",
    "from sklearn.model_selection import train_test_split\n",
    "X_train, X_test, Y_train, Y_test = train_test_split(X, Y, test_size = 0.3, random_state=1)\n",
    "\n",
    "from sklearn.linear_model import LinearRegression\n",
    "model = LinearRegression()\n",
    "model.fit(X_train, Y_train)\n",
    "\n",
    "import numpy as np\n",
    "new_RM = np.array([6.5]).reshape(-1,1) # make sure it's 2d\n",
    "print(model.predict(new_RM)) #evaluation of test data based on predictions for unseen data\n",
    "#print(model.intercept_+model.coef_*6.5) #same as predict\n",
    "\n",
    "\"\"\"When the average number of rooms per dwelling is 6.5, the model predicts a home value of $24,426.06.\"\"\""
   ]
  },
  {
   "cell_type": "code",
   "execution_count": 39,
   "id": "c16091e5",
   "metadata": {},
   "outputs": [
    {
     "name": "stdout",
     "output_type": "stream",
     "text": [
      "(152,)\n",
      "<class 'numpy.ndarray'>\n"
     ]
    }
   ],
   "source": [
    "#get predictions for all homes\n",
    "y_test_predicted = model.predict(X_test)\n",
    "print(y_test_predicted.shape)\n",
    "print(type(y_test_predicted))"
   ]
  },
  {
   "cell_type": "markdown",
   "id": "a872c054",
   "metadata": {},
   "source": [
    "#### 05 Evaluating the Model"
   ]
  },
  {
   "cell_type": "markdown",
   "id": "c60379ba",
   "metadata": {},
   "source": [
    "Residuals \n",
    "- how good our prediction is\n",
    "- examine the model performance: compare the fitted line and the true observations in the test set "
   ]
  },
  {
   "cell_type": "code",
   "execution_count": 44,
   "id": "af4bf177",
   "metadata": {},
   "outputs": [
    {
     "data": {
      "image/png": "[encoded data removed]",
      "text/plain": [
       "<Figure size 432x288 with 1 Axes>"
      ]
     },
     "metadata": {
      "needs_background": "light"
     },
     "output_type": "display_data"
    }
   ],
   "source": [
    "import numpy as np\n",
    "import matplotlib.pyplot as plt\n",
    "import pandas as pd\n",
    "from sklearn.datasets import load_boston\n",
    "from sklearn.linear_model import LinearRegression\n",
    "\n",
    "from sklearn.model_selection import train_test_split\n",
    "\n",
    "model = LinearRegression()\n",
    "boston_dataset = load_boston()\n",
    "\n",
    "boston = pd.DataFrame(boston_dataset.data,columns=boston_dataset.feature_names)\n",
    "boston['MEDV'] = boston_dataset.target\n",
    "X = boston[['RM']]\n",
    "Y = boston['MEDV']\n",
    "\n",
    "X_train, X_test, Y_train, Y_test = train_test_split(X, Y, test_size = 0.3, random_state=1)\n",
    "\n",
    "model.fit(X_train, Y_train)\n",
    "\n",
    "y_test_predicted = model.predict(X_test)\n",
    "\n",
    "plt.scatter(X_test, Y_test,\n",
    "label='testing data');\n",
    "plt.plot(X_test, y_test_predicted,\n",
    "label='prediction', linewidth=3)\n",
    "plt.xlabel('RM'); plt.ylabel('MEDV')\n",
    "plt.legend(loc='upper left')\n",
    "plt.savefig(\"plot.png\")\n",
    "plt.show()"
   ]
  },
  {
   "cell_type": "code",
   "execution_count": 45,
   "id": "4c8ad63a",
   "metadata": {},
   "outputs": [
    {
     "data": {
      "image/png": "[encoded data removed]",
      "text/plain": [
       "<Figure size 432x288 with 1 Axes>"
      ]
     },
     "metadata": {
      "needs_background": "light"
     },
     "output_type": "display_data"
    }
   ],
   "source": [
    "#measuring the distance between a point to the line along the vertical line\n",
    "#this distance is called \"residual\" or \"error\"\n",
    "#residual: difference between the observed value of the target and the predicted value\n",
    "#the closer the residual is to 0 the better job the model is doing\n",
    "\n",
    "import numpy as np\n",
    "import matplotlib.pyplot as plt\n",
    "import pandas as pd\n",
    "from sklearn.datasets import load_boston\n",
    "from sklearn.linear_model import LinearRegression\n",
    "\n",
    "from sklearn.model_selection import train_test_split\n",
    "\n",
    "model = LinearRegression()\n",
    "boston_dataset = load_boston()\n",
    "\n",
    "boston = pd.DataFrame(boston_dataset.data,columns=boston_dataset.feature_names)\n",
    "boston['MEDV'] = boston_dataset.target\n",
    "X = boston[['RM']]\n",
    "Y = boston['MEDV']\n",
    "\n",
    "X_train, X_test, Y_train, Y_test = train_test_split(X, Y, test_size = 0.3, random_state=1)\n",
    "\n",
    "model.fit(X_train, Y_train)\n",
    "\n",
    "y_test_predicted = model.predict(X_test)\n",
    "\n",
    "residuals = Y_test - y_test_predicted\n",
    "\n",
    "# plot the residuals\n",
    "plt.scatter(X_test, residuals)\n",
    "# plot a horizontal line at y = 0\n",
    "plt.hlines(y = 0,\n",
    "xmin = X_test.min(), xmax=X_test.max(),\n",
    "linestyle='--')\n",
    "# set xlim\n",
    "plt.xlim((4, 9))\n",
    "plt.xlabel('RM'); plt.ylabel('residuals')\n",
    "plt.savefig(\"plot.png\")\n",
    "plt.show()\n",
    "\n",
    "#residuals scattered around the horizontal line with no particular pattern:\n",
    "#random distribution (always a sign that the model is working)\n",
    "#ideal: residuals should be symmetrically and randomly spaced arount the horizontal axis (near Zero)\n",
    "#if residual plot shows some pattern linear or nonlinear: model could improve"
   ]
  },
  {
   "cell_type": "markdown",
   "id": "d2d7ebd6",
   "metadata": {},
   "source": [
    "Mean Squared Error"
   ]
  },
  {
   "cell_type": "code",
   "execution_count": 48,
   "id": "b02b4f58",
   "metadata": {},
   "outputs": [
    {
     "name": "stdout",
     "output_type": "stream",
     "text": [
      "307    0.821016\n",
      "343   -2.184437\n",
      "47    -3.849350\n",
      "67     2.836736\n",
      "362    6.002659\n",
      "Name: MEDV, dtype: float64\n"
     ]
    }
   ],
   "source": [
    "print(residuals[:5])"
   ]
  },
  {
   "cell_type": "code",
   "execution_count": 51,
   "id": "364256e4",
   "metadata": {},
   "outputs": [
    {
     "name": "stdout",
     "output_type": "stream",
     "text": [
      "-0.23645087766388564\n",
      "36.5172147308386\n",
      "36.517214730838624\n"
     ]
    }
   ],
   "source": [
    "#model performance for all data points to report one number as the metric: make us of the average of all residuals\n",
    "print(residuals.mean())\n",
    "#problem: negative residuals\n",
    "#solution: mean squared error (just use square number)#\n",
    "print((residuals**2).mean())\n",
    "#easier under scikit-learn\n",
    "from sklearn.metrics import mean_squared_error\n",
    "mse = mean_squared_error(Y_test, y_test_predicted)\n",
    "print(mse)\n",
    "#the smaller the mse the better\n",
    "#in this example: mse of 36 with a variance of 92 => compared to the \n",
    "#total variance 36 is not bad"
   ]
  },
  {
   "cell_type": "code",
   "execution_count": null,
   "id": "4bae83d9",
   "metadata": {},
   "outputs": [],
   "source": []
  }
 ],
 "metadata": {
  "kernelspec": {
   "display_name": "Python 3 (ipykernel)",
   "language": "python",
   "name": "python3"
  },
  "language_info": {
   "codemirror_mode": {
    "name": "ipython",
    "version": 3
   },
   "file_extension": ".py",
   "mimetype": "text/x-python",
   "name": "python",
   "nbconvert_exporter": "python",
   "pygments_lexer": "ipython3",
   "version": "3.9.7"
  }
 },
 "nbformat": 4,
 "nbformat_minor": 5
}
