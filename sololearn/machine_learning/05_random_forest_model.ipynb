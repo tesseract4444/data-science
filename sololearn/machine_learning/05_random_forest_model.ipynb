{
 "cells": [
  {
   "cell_type": "markdown",
   "id": "d419c3f9",
   "metadata": {},
   "source": [
    "### Definition von Random Forest"
   ]
  },
  {
   "cell_type": "markdown",
   "id": "64621aa7",
   "metadata": {},
   "source": [
    "##### Definition"
   ]
  },
  {
   "cell_type": "markdown",
   "id": "50369b8b",
   "metadata": {},
   "source": [
    "- random forests baut viele Bäume auf\n",
    "- übernimmt Vorteile von decision trees, aber weniger problembehaftet\n",
    "- weniger anfällig für overfitting"
   ]
  },
  {
   "cell_type": "markdown",
   "id": "3c462ede",
   "metadata": {},
   "source": [
    "##### Bootstrapping"
   ]
  },
  {
   "cell_type": "markdown",
   "id": "edbdef3e",
   "metadata": {},
   "source": [
    "- manche Datenpunkte erscheinen mehrfach, andere erscheinen nicht\n",
    "- es werden mehrere Samples erstellt, in denen wie genannt manche Datenpunkte auch mehrfach erscheinen könnten\n",
    "- die Endgröße bleibt bleich beim Bootstrapping"
   ]
  },
  {
   "cell_type": "markdown",
   "id": "62614c79",
   "metadata": {},
   "source": [
    "##### Bagging Decision Trees"
   ]
  },
  {
   "cell_type": "markdown",
   "id": "0adae00f",
   "metadata": {},
   "source": [
    "- reduziert Varianz eines individuellen Modells durch das Erstellen eines Gesamtmodells aus vielen Modellen, die auf Bootstrapping-Samples beruhen\n",
    "- Beispiel: 10 Resamples erstellt mit 100 Datenpunkten => decision tree wird aus allen 10 Resamples erstellt => Vorhersage (prediction) wird über alle 10 decision trees gemacht => jeder decision tree erhält eine Stimme (Gewichtung) => decision trees mit meisten Stimmen gewinnt\n",
    "- das Bootstrapping wird auf das Trainings-Set angewandt und vermindert so die Varianz des decision trees => über den Durchschnitt der verschiedenen Bäume (die unterschiedliche Trainings-Sets haben) erstellen ein Modell, das genauer den Kern der Daten herausstellt"
   ]
  },
  {
   "cell_type": "markdown",
   "id": "9e532477",
   "metadata": {},
   "source": [
    "##### Zusammenhänge der Bäume auseinanderbringen"
   ]
  },
  {
   "cell_type": "markdown",
   "id": "50fdf034",
   "metadata": {},
   "source": [
    "- Modell einschränken, um verschiedenere Werte bei den Bäumen zu erhalten\n",
    "- Ziel: besten split-Schwelle und beste Eigenschaft finden durch Vergleiche der split-Schwellen\n",
    "- beim random forest wird bei jedem Knoten zufällig ein Subset ausgewählt => random Auswahl wird bei jedem Knoten durchgeführt (z.B. Knoten 1 mit Geschlecht und Fahrpreis, Knoten 2 dann mit Fahrpeis und Alter)\n",
    "- Standard für Auswahl der Eigenschaften: Wurzel aus Anzahl der Eigenschaften (9 features => 3 gewählte features)\n",
    "- alle decision trees verpackt (bagging) => random forest\n",
    "- jeder decision tree innerhalb eines random forest kann schlechter sein als ein Standard decistion tree, aber: ziehen wir den Durchschnitt aus den decision trees ergibt sich ein richtig gutes Modell!"
   ]
  },
  {
   "cell_type": "markdown",
   "id": "40cb6133",
   "metadata": {},
   "source": [
    " "
   ]
  },
  {
   "cell_type": "markdown",
   "id": "01502407",
   "metadata": {},
   "source": [
    "### Random Forests über Sklearn"
   ]
  },
  {
   "cell_type": "markdown",
   "id": "9a8966cf",
   "metadata": {},
   "source": [
    "##### Breast Cancer Dataset untersuchen"
   ]
  },
  {
   "cell_type": "code",
   "execution_count": 2,
   "id": "4af5380f",
   "metadata": {},
   "outputs": [
    {
     "name": "stdout",
     "output_type": "stream",
     "text": [
      "data dimensions (569, 30)\n"
     ]
    }
   ],
   "source": [
    "#importiert das bc dataset und gibt datenpunkte samt features aus\n",
    "import pandas as pd\n",
    "from sklearn.datasets import load_breast_cancer\n",
    "\n",
    "cancer_data = load_breast_cancer()\n",
    "df = pd.DataFrame(cancer_data['data'], columns=cancer_data['feature_names'])\n",
    "df['target'] = cancer_data['target']\n",
    "\n",
    "X = df[cancer_data.feature_names].values\n",
    "y = df['target'].values\n",
    "print('data dimensions', X.shape)"
   ]
  },
  {
   "cell_type": "markdown",
   "id": "5003cf11",
   "metadata": {},
   "source": [
    "##### Random Forest mit Sklearn\n",
    "- Syntax ist die gleiche, wie bei Logistic Regression und decision trees => soll das wechseln zwischen den verschiedenen Modellen erleichtern"
   ]
  },
  {
   "cell_type": "code",
   "execution_count": 3,
   "id": "493db7be",
   "metadata": {},
   "outputs": [
    {
     "data": {
      "text/plain": [
       "RandomForestClassifier()"
      ]
     },
     "execution_count": 3,
     "metadata": {},
     "output_type": "execute_result"
    }
   ],
   "source": [
    "#klassifizierer für random forest modell\n",
    "from sklearn.ensemble import RandomForestClassifier\n",
    "\n",
    "#daten-set gesplittet in training-set und test-set\n",
    "from sklearn.model_selection import train_test_split\n",
    "X_train, X_test, y_train, y_test = train_test_split(X, y, random_state=101) #random state: macht immer den gleichen split, so oft der code jedes mal ausgeführt wird\n",
    "\n",
    "#random forest klassifizierer wird erstellt und dann fit() baut das modell über die trainings-daten auf\n",
    "rf = RandomForestClassifier()\n",
    "rf.fit(X_train, y_train)"
   ]
  },
  {
   "cell_type": "code",
   "execution_count": 4,
   "id": "80cd8b0e",
   "metadata": {},
   "outputs": [
    {
     "name": "stdout",
     "output_type": "stream",
     "text": [
      "prediction: [1]\n",
      "true value: 1\n"
     ]
    }
   ],
   "source": [
    "#jetzt wird eine vorhersage (prediction) gemacht über die 1.reihe\n",
    "import pandas as pd\n",
    "from sklearn.datasets import load_breast_cancer\n",
    "from sklearn.ensemble import RandomForestClassifier\n",
    "from sklearn.model_selection import train_test_split\n",
    "\n",
    "#start\n",
    "cancer_data = load_breast_cancer()\n",
    "df = pd.DataFrame(cancer_data['data'], columns=cancer_data['feature_names'])\n",
    "df['target'] = cancer_data['target']\n",
    "\n",
    "X = df[cancer_data.feature_names].values\n",
    "y = df['target'].values\n",
    "\n",
    "X_train, X_test, y_train, y_test = train_test_split(X, y, random_state=101)\n",
    "#ende\n",
    "\n",
    "rf = RandomForestClassifier()\n",
    "rf.fit(X_train, y_train)\n",
    "\n",
    "first_row = X_test[0]\n",
    "print(\"prediction:\", rf.predict([first_row]))\n",
    "print(\"true value:\", y_test[0])\n",
    "\n",
    "#ergebnis: modell hat vorhergesagt, dass lunge krebs hat => aussage als korrekt bestätigt"
   ]
  },
  {
   "cell_type": "code",
   "execution_count": 6,
   "id": "626ecb17",
   "metadata": {},
   "outputs": [
    {
     "name": "stdout",
     "output_type": "stream",
     "text": [
      "random forest accuracy: 0.972027972027972\n"
     ]
    }
   ],
   "source": [
    "#score ausgeben lassen, #start-#ende wurde hier weggelassen, steht aber normal mit drin\n",
    "print(\"random forest accuracy:\", rf.score(X_test, y_test))"
   ]
  },
  {
   "cell_type": "code",
   "execution_count": 14,
   "id": "4658f7c8",
   "metadata": {},
   "outputs": [
    {
     "name": "stdout",
     "output_type": "stream",
     "text": [
      "decision tree accuracy: 0.9230769230769231\n"
     ]
    }
   ],
   "source": [
    "#score wird dann mit dem decision tree modell verglichen, #start-#ende wurde hier weggelassen, steht aber normal mit drin\n",
    "import pandas as pd\n",
    "from sklearn.datasets import load_breast_cancer\n",
    "from sklearn.tree import DecisionTreeClassifier\n",
    "from sklearn.model_selection import train_test_split\n",
    "\n",
    "dt = DecisionTreeClassifier()\n",
    "dt.fit(X_train, y_train)\n",
    "print(\"decision tree accuracy:\", dt.score(X_test, y_test))\n",
    "\n",
    "#ergebnis: genauigkeit deutlich schlechter als beim random forest!"
   ]
  },
  {
   "cell_type": "markdown",
   "id": "76545e05",
   "metadata": {},
   "source": [
    " "
   ]
  },
  {
   "cell_type": "markdown",
   "id": "afd4c773",
   "metadata": {},
   "source": [
    "### Einen Random Forest \"tunen\""
   ]
  },
  {
   "cell_type": "markdown",
   "id": "abd385a9",
   "metadata": {},
   "source": [
    "- random forest besteht aus decision trees, daher hat er auch die gleichen Tuning-Parameter wie ein decision tree: max_depth, min_samples_leaf und max_leaf_nodes\n",
    "- neue Tuning-Parameter (für random forests): n_estimators (anzahl der Bäume, default-Wert: 10) und max_features (anzahl der features, die bei jedem split betrachtet werden, default-Wert: Wurzel aus Anzahl der features)\n",
    "- Festlegung der neuen Parameter über: rf = RandomForestClassifier(max_features=5), rf = RandomForestClassifier(n_estimators=15)\n",
    "- in der Regel kein \"manuelle Tuning\" bei random forests nötig, da sie normalerweise mit default-Werten gut genug arbeiten"
   ]
  },
  {
   "cell_type": "markdown",
   "id": "6e48d0d0",
   "metadata": {},
   "source": [
    "Grid Search\n",
    "- hilft, die optimale Wahl der Parameter zu finden"
   ]
  },
  {
   "cell_type": "code",
   "execution_count": 22,
   "id": "7e2cb270",
   "metadata": {},
   "outputs": [
    {
     "name": "stdout",
     "output_type": "stream",
     "text": [
      "best params: {'n_estimators': 25}\n"
     ]
    }
   ],
   "source": [
    "import pandas as pd\n",
    "from sklearn.datasets import load_breast_cancer\n",
    "from sklearn.ensemble import RandomForestClassifier\n",
    "from sklearn.model_selection import GridSearchCV\n",
    "\n",
    "cancer_data = load_breast_cancer()\n",
    "df = pd.DataFrame(cancer_data['data'], columns=cancer_data['feature_names'])\n",
    "df['target'] = cancer_data['target']\n",
    "\n",
    "X = df[cancer_data.feature_names].values\n",
    "y = df['target'].values\n",
    "\n",
    "#parameter grid festlegen; ist max features (mit z.b. 3 werten) wird die anzahl der werte multipliziert, um die anzahl der random forests modelle zu erhalten (hier: 5*3=15 rf-modelle)\n",
    "param_grid = {\n",
    "    'n_estimators': [10, 25, 50, 75, 100],\n",
    "    #'max_features': [10, 20, 30, 40] #4 werte zustätzlich schafft laptop nicht mehr\n",
    "}\n",
    "\n",
    "#klassifizierer festlegen und grid search mit einer k-fold cross validation von 5\n",
    "rf = RandomForestClassifier(random_state=123)\n",
    "gs = GridSearchCV(rf, param_grid, scoring='f1', cv=5)\n",
    "#fit()-methode lässt grid search durchlaufen\n",
    "gs.fit(X, y)\n",
    "#beste parameter werden im attribut .best_params gespeichert\n",
    "print(\"best params:\", gs.best_params_)"
   ]
  },
  {
   "cell_type": "markdown",
   "id": "600dabb1",
   "metadata": {},
   "source": [
    "##### Ellenbogen Graph\n",
    "- wird benutzt um besten Performance-Punkt zu finden\n",
    "- ist ein Modell, das Performance optimiert, ohne unnötig komplex zu werden\n",
    "- der optimale Wert lässt sich am besten über Grid Search finden"
   ]
  },
  {
   "cell_type": "code",
   "execution_count": 24,
   "id": "e94714c9",
   "metadata": {},
   "outputs": [
    {
     "data": {
      "text/plain": [
       "GridSearchCV(cv=5, estimator=RandomForestClassifier(),\n",
       "             param_grid={'n_estimators': [1, 2, 3, 4, 5, 6, 7, 8, 9, 10, 11, 12,\n",
       "                                          13, 14, 15, 16, 17, 18, 19, 20, 21,\n",
       "                                          22, 23, 24, 25, 26, 27, 28, 29, 30, ...]})"
      ]
     },
     "execution_count": 24,
     "metadata": {},
     "output_type": "execute_result"
    }
   ],
   "source": [
    "#gs setzt hier alle werte von 1-100 ein, um optimal-wert zu finden\n",
    "n_estimators = list(range(1, 101))\n",
    "\n",
    "param_grid = {\n",
    "    'n_estimators': n_estimators,\n",
    "}\n",
    "\n",
    "rf = RandomForestClassifier()\n",
    "gs = GridSearchCV(rf, param_grid, cv=5)\n",
    "gs.fit(X, y)"
   ]
  },
  {
   "cell_type": "code",
   "execution_count": 27,
   "id": "b129727c",
   "metadata": {},
   "outputs": [
    {
     "name": "stdout",
     "output_type": "stream",
     "text": [
      "[0.9244372  0.91563422 0.93854991 0.93140817 0.93853439 0.94553641\n",
      " 0.95084614 0.95079957 0.94725974 0.9648657  0.95609377 0.95255395\n",
      " 0.95079957 0.96314237 0.95432386 0.95609377 0.95432386 0.95784816\n",
      " 0.95960255 0.95960255 0.95784816 0.95255395 0.95079957 0.96137246\n",
      " 0.95784816 0.95607825 0.95784816 0.95958702 0.96137246 0.95780158\n",
      " 0.96311132 0.96135693 0.95960255 0.95958702 0.96137246 0.95430834\n",
      " 0.95607825 0.95430834 0.96663562 0.95958702 0.95783263 0.95432386\n",
      " 0.95960255 0.96837448 0.96311132 0.95960255 0.96488123 0.96312684\n",
      " 0.96132588 0.95958702 0.96489676 0.96135693 0.95786369 0.96135693\n",
      " 0.95960255 0.96312684 0.95960255 0.95784816 0.95960255 0.96309579\n",
      " 0.95960255 0.96135693 0.96488123 0.96663562 0.9648657  0.96839\n",
      " 0.96488123 0.95609377 0.96665114 0.96312684 0.96663562 0.95960255\n",
      " 0.9648657  0.96311132 0.95786369 0.95958702 0.9648657  0.96665114\n",
      " 0.96839    0.95781711 0.96312684 0.95960255 0.96135693 0.96311132\n",
      " 0.95958702 0.95960255 0.96485018 0.95784816 0.95433939 0.96311132\n",
      " 0.95958702 0.96312684 0.96839    0.95961807 0.96488123 0.96837448\n",
      " 0.95961807 0.96134141 0.95783263 0.9648657 ]\n"
     ]
    }
   ],
   "source": [
    "#jetzt wird nicht auf best_params geschaut, sondern das ganze\n",
    "#ergebnis des gs genutzt\n",
    "#werte befinden sich im attribut cv_results_ \n",
    "#(hat sehr viele Daten drin, daher nehmen wir nur einen der keys, den mean_test_score)\n",
    "scores = gs.cv_results_['mean_test_score']\n",
    "print(scores)"
   ]
  },
  {
   "cell_type": "code",
   "execution_count": 31,
   "id": "6dc33af9",
   "metadata": {},
   "outputs": [
    {
     "data": {
      "image/png": "[encoded data removed]",
      "text/plain": [
       "<Figure size 432x288 with 1 Axes>"
      ]
     },
     "metadata": {
      "needs_background": "light"
     },
     "output_type": "display_data"
    }
   ],
   "source": [
    "#ergebnisse von zuvor dann über matplotlib als graph darstellen\n",
    "import matplotlib.pyplot as plt\n",
    "\n",
    "scores = gs.cv_results_['mean_test_score']\n",
    "\n",
    "plt.plot(n_estimators, scores)\n",
    "plt.xlabel(\"n_estimators\")\n",
    "plt.ylabel(\"accuracy\")\n",
    "plt.xlim(0, 100)\n",
    "plt.ylim(0.9, 1)\n",
    "plt.show()\n",
    "\n",
    "#ergebnis: bestes modell bei n_estimators=33 und =64\n",
    "#dennoch: lieber möglichst kleinen wert nahe an bester performance nehmen \n",
    "#=> bei 10 noch performant (siehe graph)\n",
    "#also: optimum=10 trees"
   ]
  },
  {
   "cell_type": "code",
   "execution_count": 32,
   "id": "22526505",
   "metadata": {},
   "outputs": [
    {
     "data": {
      "text/plain": [
       "RandomForestClassifier(n_estimators=10)"
      ]
     },
     "execution_count": 32,
     "metadata": {},
     "output_type": "execute_result"
    }
   ],
   "source": [
    "#jetzt forest model mit unserem gefundenen(abgelesenen) wert 10 verwenden \n",
    "rf = RandomForestClassifier(n_estimators=10)\n",
    "rf.fit(X, y) "
   ]
  },
  {
   "cell_type": "markdown",
   "id": "dd8d9316",
   "metadata": {},
   "source": [
    " "
   ]
  },
  {
   "cell_type": "markdown",
   "id": "2e0b758d",
   "metadata": {},
   "source": [
    "### Feature Importances\n",
    "##### Feature Importances\n",
    "- wahl der subsets für features wichtig => feature-Auswahl nötig\n",
    "- Random Forests mit eigener feature-Auswahl über \"mean decrease impurity\"\n",
    "- Scikit kann feature importances berechnen über .feature_importance\n",
    "- Warum feature-Auswahl? - trainiert Modell schneller, macht Modell weniger komplex, macht es einfacher interpetierbar"
   ]
  },
  {
   "cell_type": "code",
   "execution_count": 36,
   "id": "5072b78f",
   "metadata": {},
   "outputs": [
    {
     "name": "stdout",
     "output_type": "stream",
     "text": [
      "worst radius            0.309701\n",
      "mean concave points     0.183126\n",
      "worst concave points    0.115641\n",
      "mean perimeter          0.064119\n",
      "mean radius             0.058742\n",
      "worst concavity         0.050951\n",
      "radius error            0.049103\n",
      "mean texture            0.017197\n",
      "worst area              0.016512\n",
      "mean concavity          0.014696\n",
      "dtype: float64\n"
     ]
    }
   ],
   "source": [
    "import pandas as pd\n",
    "from sklearn.datasets import load_breast_cancer\n",
    "from sklearn.ensemble import RandomForestClassifier\n",
    "from sklearn.model_selection import train_test_split\n",
    "cancer_data = load_breast_cancer()\n",
    "df = pd.DataFrame(cancer_data['data'], columns=cancer_data['feature_names'])\n",
    "df['target'] = cancer_data['target']\n",
    "\n",
    "X = df[cancer_data.feature_names].values\n",
    "y = df['target'].values\n",
    "\n",
    "X_train, X_test, y_train, y_test = \\\n",
    "    train_test_split(X, y, random_state=101)\n",
    "rf = RandomForestClassifier(n_estimators=10, random_state=111)\n",
    "rf.fit(X_train, y_train)\n",
    "\n",
    "ft_imp = pd.Series(rf.feature_importances_, index=cancer_data.feature_names).sort_values(ascending=False)\n",
    "print(ft_imp.head(10))\n",
    "\n",
    "#feature importance wird absteigend gelistet (nutzt gini und entropy)\n",
    "#bei 'regression' wird stattdessen die varianz genutzt"
   ]
  },
  {
   "cell_type": "markdown",
   "id": "5df7d249",
   "metadata": {},
   "source": [
    "##### Neues Modell aus gewählten Features"
   ]
  },
  {
   "cell_type": "code",
   "execution_count": 37,
   "id": "9970f1c7",
   "metadata": {},
   "outputs": [
    {
     "name": "stdout",
     "output_type": "stream",
     "text": [
      "0.965034965034965\n"
     ]
    }
   ],
   "source": [
    "import pandas as pd\n",
    "from sklearn.datasets import load_breast_cancer\n",
    "from sklearn.ensemble import RandomForestClassifier\n",
    "from sklearn.model_selection import train_test_split\n",
    "\n",
    "#start\n",
    "cancer_data = load_breast_cancer()\n",
    "df = pd.DataFrame(cancer_data['data'], columns=cancer_data['feature_names'])\n",
    "df['target'] = cancer_data['target']\n",
    "#end\n",
    "\n",
    "X = df[cancer_data.feature_names].values\n",
    "y = df['target'].values\n",
    "\n",
    "X_train, X_test, y_train, y_test = train_test_split(X, y, random_state=101)\n",
    "\n",
    "rf = RandomForestClassifier(n_estimators=10, random_state=111)\n",
    "rf.fit(X_train, y_train)\n",
    "print(rf.score(X_test, y_test))"
   ]
  },
  {
   "cell_type": "code",
   "execution_count": 39,
   "id": "ca44f120",
   "metadata": {},
   "outputs": [
    {
     "name": "stdout",
     "output_type": "stream",
     "text": [
      "['worst radius', 'worst texture', 'worst perimeter', 'worst area', 'worst smoothness', 'worst compactness', 'worst concavity', 'worst concave points', 'worst symmetry', 'worst fractal dimension']\n"
     ]
    }
   ],
   "source": [
    "#features mit dem wort 'worst' finden lassen\n",
    "#wieder #start-#end prinzip\n",
    "worst_cols = [col for col in df.columns if 'worst' in col]\n",
    "print(worst_cols)"
   ]
  },
  {
   "cell_type": "code",
   "execution_count": 42,
   "id": "234cb672",
   "metadata": {},
   "outputs": [
    {
     "name": "stdout",
     "output_type": "stream",
     "text": [
      "0.972027972027972\n"
     ]
    }
   ],
   "source": [
    "#jetzt weiteren dataframe erstellen mit den zuvor gewählten 'worst'-features\n",
    "#wieder #start-#end prinzip + von kurz zuvor vorausgehend\n",
    "X_worst = df[worst_cols]\n",
    "X_train, X_test, y_train, y_test = train_test_split(X_worst, y, random_state=101)\n",
    "\n",
    "X_train, X_test, y_train, y_test = train_test_split(X_worst, y, random_state=101)\n",
    "rf.fit(X_train, y_train)\n",
    "print(rf.score(X_test, y_test))\n",
    "\n",
    "#ergebnis: subset verbessert genauigkeit (hoch korrelierende features wurden dadurch eliminiert)"
   ]
  },
  {
   "cell_type": "markdown",
   "id": "4fd9f033",
   "metadata": {},
   "source": [
    " "
   ]
  },
  {
   "cell_type": "markdown",
   "id": "db6d1f51",
   "metadata": {},
   "source": [
    "### Random Forest: Vor- und Nachteile"
   ]
  },
  {
   "cell_type": "markdown",
   "id": "8673861a",
   "metadata": {},
   "source": [
    "##### Leistung\n",
    "- Vorteil: laufen gut auch ohne Tuning und gehen damit auf fast jedem Datenset sehr gut\n",
    "- kann ein Datenset wegen einer gleichmäßigen Streuung im ganzen Koordinaten-Bereich nicht als lineares Modell realisiert werden, ist es auch nicht möglich, dieses durch eine Linie zu splitten (zumindest ohne die features zu manipulieren) => aber: ein Random Forest läuft super auf so einem Datenset"
   ]
  },
  {
   "cell_type": "code",
   "execution_count": 44,
   "id": "318cd8c0",
   "metadata": {},
   "outputs": [
    {
     "name": "stdout",
     "output_type": "stream",
     "text": [
      "Logistic Regression accuracy: 0.36\n",
      "Random Forest accuracy: 0.8400000000000001\n"
     ]
    }
   ],
   "source": [
    "#funktion make_circles erstellt ein (imaginäres) klassifiziertes daten-set über konzentrische kreise\n",
    "#ausgabe: welches modell besser performt: logistic regression oder random forest\n",
    "from sklearn.datasets import make_circles\n",
    "from sklearn.model_selection import KFold\n",
    "from sklearn.linear_model import LogisticRegression\n",
    "from sklearn.ensemble import RandomForestClassifier\n",
    "import numpy as np\n",
    "\n",
    "X, y = make_circles(noise=0.2, factor=0.5, random_state=1)\n",
    "\n",
    "kf = KFold(n_splits=5, shuffle=True, random_state=1)\n",
    "lr_scores = []\n",
    "rf_scores = []\n",
    "for train_index, test_index in kf.split(X):\n",
    "    X_train, X_test = X[train_index], X[test_index]\n",
    "    y_train, y_test = y[train_index], y[test_index]\n",
    "    lr = LogisticRegression(solver='lbfgs')\n",
    "    lr.fit(X_train, y_train)\n",
    "    lr_scores.append(lr.score(X_test, y_test))\n",
    "    rf = RandomForestClassifier(n_estimators=100)\n",
    "    rf.fit(X_train, y_train)\n",
    "    rf_scores.append(rf.score(X_test, y_test))\n",
    "print(\"Logistic Regression accuracy:\", np.mean(lr_scores))\n",
    "print(\"Random Forest accuracy:\", np.mean(rf_scores))\n",
    "\n",
    "#beste methode für benchmark bei einem klassifizierungs-problem: \n",
    "#logistich regression oder random forest, beide optimal"
   ]
  },
  {
   "cell_type": "markdown",
   "id": "aef07642",
   "metadata": {},
   "source": [
    "##### Interpretierbarkeit\n",
    "- Random Forests bestehen aus Decision Trees und sind daher nicht leicht zu interpretieren\n",
    "- bei Berechnung des Durchschnitts sind Random Forests allerdings perfekt\n",
    "- geht es um Interpretierbarkeit, sollte man dennoch keinen Random Forest wählen"
   ]
  },
  {
   "cell_type": "markdown",
   "id": "ab5625d1",
   "metadata": {},
   "source": [
    "##### Rechenaufwand"
   ]
  },
  {
   "cell_type": "markdown",
   "id": "4e24fd25",
   "metadata": {},
   "source": [
    "- langsam bei vielen Bäumen im Random Forest\n",
    "- Vorhersagen sind beim Random Forest jedoch langsamer als beim Decision Tree, da eine Vorhersage aufgrund der (je nach Anzahl der Bäume) 10-100 Decision Trees sehr lange dauert, bis die finale Vorhersage errechnet wurde\n",
    "- schneller PC empfohlen!"
   ]
  },
  {
   "cell_type": "code",
   "execution_count": null,
   "id": "ff10c397",
   "metadata": {},
   "outputs": [],
   "source": []
  }
 ],
 "metadata": {
  "kernelspec": {
   "display_name": "Python 3 (ipykernel)",
   "language": "python",
   "name": "python3"
  },
  "language_info": {
   "codemirror_mode": {
    "name": "ipython",
    "version": 3
   },
   "file_extension": ".py",
   "mimetype": "text/x-python",
   "name": "python",
   "nbconvert_exporter": "python",
   "pygments_lexer": "ipython3",
   "version": "3.9.7"
  }
 },
 "nbformat": 4,
 "nbformat_minor": 5
}
