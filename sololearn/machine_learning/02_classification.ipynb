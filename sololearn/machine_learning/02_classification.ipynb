{
 "cells": [
  {
   "cell_type": "markdown",
   "id": "5e697f2c",
   "metadata": {},
   "source": [
    "#### A linear Model for Classification\n",
    "- equation\n",
    "- Beispiel: Diagramm mit durchgezogener Linie Alter, Verpflegung, c=überlebt\n",
    "- Punkte links der durchgezogenen Linie: ertrunken (Wert negativ)\n",
    "- Punkte rechts der durchgezogenen Linie: überlebt (Wert positiv)"
   ]
  },
  {
   "cell_type": "markdown",
   "id": "9ada352a",
   "metadata": {},
   "source": [
    " "
   ]
  },
  {
   "cell_type": "markdown",
   "id": "2e3620aa",
   "metadata": {},
   "source": [
    "#### Build a Logistic Regression Model with Sklearn"
   ]
  },
  {
   "cell_type": "code",
   "execution_count": null,
   "id": "938e95f3",
   "metadata": {},
   "outputs": [],
   "source": [
    "import pandas as pd"
   ]
  },
  {
   "cell_type": "markdown",
   "id": "22a5b8e5",
   "metadata": {},
   "source": [
    "Daten auslesen"
   ]
  },
  {
   "cell_type": "code",
   "execution_count": null,
   "id": "cab50cdb",
   "metadata": {},
   "outputs": [],
   "source": [
    "df = pd.read_csv('https://sololearn.com/uploads/files/titanic.csv')\n",
    "\n",
    "#alle zeilen zuerst numerisch machen -> wird zu boolean\n",
    "df['male'] = df['Sex'] == 'male'\n",
    "\n",
    "#x als array, das die gewünschten spalten auswählt\n",
    "x = df[['Pclass', 'male', 'Age', 'Siblings/Spouses', 'Parents/Children', 'Fare']].values\n",
    "\n",
    "#eigentliches ziel 'survived' wird als y deklariert\n",
    "y = df['Survived'].values\n",
    "\n",
    "print(x) #gewünschte spalten\n",
    "print(y) #die überlebenden als 0 und 1"
   ]
  },
  {
   "cell_type": "markdown",
   "id": "5114cafa",
   "metadata": {},
   "source": [
    "Sklearn verwenden"
   ]
  },
  {
   "cell_type": "code",
   "execution_count": null,
   "id": "a3c81be3",
   "metadata": {},
   "outputs": [],
   "source": [
    "from sklearn.linear_model import LogisticRegression"
   ]
  },
  {
   "cell_type": "code",
   "execution_count": null,
   "id": "f75a381b",
   "metadata": {},
   "outputs": [],
   "source": [
    "#klasse initiieren\n",
    "model = LogisticRegression() \n",
    "\n",
    "#x(feature matrix) und y(target array) festlegen\n",
    "x = df[['Fare', 'Age']].values\n",
    "y = df['Survived'].values\n",
    "\n",
    "#model erzeugen über fit()-methode\n",
    "model.fit(x, y)\n",
    "\n",
    "#zeile auswählen, die am besten passt über die koeffizienten .coef_ und intercept_\n",
    "#ergebnis ist gleichung für equation-linie: Wert1*x + Wert2 *y + Wert3\n",
    "print(model.coef_, model.intercept_)"
   ]
  },
  {
   "cell_type": "markdown",
   "id": "5c3c1593",
   "metadata": {},
   "source": [
    "Vorhersagen mithilfe des Modells machen"
   ]
  },
  {
   "cell_type": "code",
   "execution_count": null,
   "id": "57e0afc1",
   "metadata": {},
   "outputs": [],
   "source": [
    "x = df[['Pclass', 'male', 'Age', 'Siblings/Spouses', 'Parents/Children', 'Fare']].values\n",
    "y = df['Survived'].values\n",
    "model = LogisticRegression()\n",
    "model.fit(x, y)\n",
    "\n",
    "#predict() macht vorhersagen\n",
    "model.predict(x)\n",
    "\n",
    "#vorhersage, dass der (werte hier von erstem passagier) erste passagier überlebt\n",
    "print(model.predict([[3, True, 22.0, 1, 0, 7.25]]))\n",
    "\n",
    "#vorhersage für die ersten 5 reihen\n",
    "print(model.predict(x[:5])) #erste 5 daten-reihen\n",
    "print(y[:5]) #erste 5 werte des ziels"
   ]
  },
  {
   "cell_type": "markdown",
   "id": "8c70f4e1",
   "metadata": {},
   "source": [
    "Score eines Modells überprüfen"
   ]
  },
  {
   "cell_type": "code",
   "execution_count": null,
   "id": "6366adc2",
   "metadata": {},
   "outputs": [],
   "source": [
    "#array erstellen, das vorhersagbare werte enthält\n",
    "y_pred = model.predict(x)\n",
    "\n",
    "#erstellt ein array mit boolean-werten, ob modell jeden passagier korrekt vorhergesagt hat\n",
    "y == y_pred\n",
    "\n",
    "#anzahl der true-werte ausgeben über sum()\n",
    "print((y==y_pred).sum())\n",
    "#ergebnis: 714 => modell macht korrekte vorhersage\n",
    "\n",
    "#korrekte prozentzahl ausgeben durch teilen durch alle passagiere dank y.shape[0]\n",
    "#ergebnis: unser 'accuracy score'\n",
    "print((y==y_pred).sum() / y.shape[0])"
   ]
  },
  {
   "cell_type": "markdown",
   "id": "3f4166b4",
   "metadata": {},
   "source": [
    " "
   ]
  },
  {
   "cell_type": "markdown",
   "id": "c7d80b98",
   "metadata": {},
   "source": [
    "#### Logistic Regression with the Breast Cancer Dataset"
   ]
  },
  {
   "cell_type": "code",
   "execution_count": null,
   "id": "733a8d50",
   "metadata": {},
   "outputs": [],
   "source": [
    "#daten-set, das bereits in sklearn drin ist, daher kein csv-import nötig\n",
    "from sklearn.datasets import load_breast_cancer\n",
    "cancer_data = load_breast_cancer()"
   ]
  },
  {
   "cell_type": "markdown",
   "id": "1e7f4412",
   "metadata": {},
   "source": [
    "Datenset untersuchen"
   ]
  },
  {
   "cell_type": "code",
   "execution_count": null,
   "id": "b5c595d6",
   "metadata": {},
   "outputs": [],
   "source": [
    "#zeigt keys des daten-sets an\n",
    "print(cancer_data.keys())\n",
    "\n",
    "#DESCR beschreibt daten-set genauer\n",
    "print(cancer_data['DESCR'])"
   ]
  },
  {
   "cell_type": "markdown",
   "id": "47a5550f",
   "metadata": {},
   "source": [
    "Daten in Pandas laden"
   ]
  },
  {
   "cell_type": "code",
   "execution_count": null,
   "id": "7d2d9234",
   "metadata": {},
   "outputs": [],
   "source": [
    "#numpy array conversion nach folgendem schema\n",
    "cancer_data['data']\n",
    "\n",
    "#array-grö0e nach zeilen und spalten ausgeben lassen über .shape\n",
    "cancer_data['data'].shape"
   ]
  },
  {
   "cell_type": "code",
   "execution_count": null,
   "id": "f48b191b",
   "metadata": {},
   "outputs": [],
   "source": [
    "#ruft spaltennamen auf\n",
    "cancer_data['feature_names']\n",
    "\n",
    "#erstellt dataframe mimt allen feature datas\n",
    "df = pd.DataFrame(cancer_data['data'], columns=cancer_data['feature_names'])\n",
    "print(df.head())"
   ]
  },
  {
   "cell_type": "code",
   "execution_count": null,
   "id": "889a6d48",
   "metadata": {},
   "outputs": [],
   "source": [
    "#ziel ins data frame mit aufnehmen\n",
    "print(cancer_data['target'])\n",
    "\n",
    "#datenpunkte checken\n",
    "cancer_data['target'].shape"
   ]
  },
  {
   "cell_type": "markdown",
   "id": "9821928c",
   "metadata": {},
   "source": [
    "Regression Model generieren"
   ]
  },
  {
   "cell_type": "code",
   "execution_count": 9,
   "id": "51228675",
   "metadata": {},
   "outputs": [
    {
     "name": "stdout",
     "output_type": "stream",
     "text": [
      "dict_keys(['data', 'target', 'frame', 'target_names', 'DESCR', 'feature_names', 'filename'])\n",
      ".. _breast_cancer_dataset:\n",
      "\n",
      "Breast cancer wisconsin (diagnostic) dataset\n",
      "--------------------------------------------\n",
      "\n",
      "**Data Set Characteristics:**\n",
      "\n",
      "    :Number of Instances: 569\n",
      "\n",
      "    :Number of Attributes: 30 numeric, predictive attributes and the class\n",
      "\n",
      "    :Attribute Information:\n",
      "        - radius (mean of distances from center to points on the perimeter)\n",
      "        - texture (standard deviation of gray-scale values)\n",
      "        - perimeter\n",
      "        - area\n",
      "        - smoothness (local variation in radius lengths)\n",
      "        - compactness (perimeter^2 / area - 1.0)\n",
      "        - concavity (severity of concave portions of the contour)\n",
      "        - concave points (number of concave portions of the contour)\n",
      "        - symmetry\n",
      "        - fractal dimension (\"coastline approximation\" - 1)\n",
      "\n",
      "        The mean, standard error, and \"worst\" or largest (mean of the three\n",
      "        worst/largest values) of these features were computed for each image,\n",
      "        resulting in 30 features.  For instance, field 0 is Mean Radius, field\n",
      "        10 is Radius SE, field 20 is Worst Radius.\n",
      "\n",
      "        - class:\n",
      "                - WDBC-Malignant\n",
      "                - WDBC-Benign\n",
      "\n",
      "    :Summary Statistics:\n",
      "\n",
      "    ===================================== ====== ======\n",
      "                                           Min    Max\n",
      "    ===================================== ====== ======\n",
      "    radius (mean):                        6.981  28.11\n",
      "    texture (mean):                       9.71   39.28\n",
      "    perimeter (mean):                     43.79  188.5\n",
      "    area (mean):                          143.5  2501.0\n",
      "    smoothness (mean):                    0.053  0.163\n",
      "    compactness (mean):                   0.019  0.345\n",
      "    concavity (mean):                     0.0    0.427\n",
      "    concave points (mean):                0.0    0.201\n",
      "    symmetry (mean):                      0.106  0.304\n",
      "    fractal dimension (mean):             0.05   0.097\n",
      "    radius (standard error):              0.112  2.873\n",
      "    texture (standard error):             0.36   4.885\n",
      "    perimeter (standard error):           0.757  21.98\n",
      "    area (standard error):                6.802  542.2\n",
      "    smoothness (standard error):          0.002  0.031\n",
      "    compactness (standard error):         0.002  0.135\n",
      "    concavity (standard error):           0.0    0.396\n",
      "    concave points (standard error):      0.0    0.053\n",
      "    symmetry (standard error):            0.008  0.079\n",
      "    fractal dimension (standard error):   0.001  0.03\n",
      "    radius (worst):                       7.93   36.04\n",
      "    texture (worst):                      12.02  49.54\n",
      "    perimeter (worst):                    50.41  251.2\n",
      "    area (worst):                         185.2  4254.0\n",
      "    smoothness (worst):                   0.071  0.223\n",
      "    compactness (worst):                  0.027  1.058\n",
      "    concavity (worst):                    0.0    1.252\n",
      "    concave points (worst):               0.0    0.291\n",
      "    symmetry (worst):                     0.156  0.664\n",
      "    fractal dimension (worst):            0.055  0.208\n",
      "    ===================================== ====== ======\n",
      "\n",
      "    :Missing Attribute Values: None\n",
      "\n",
      "    :Class Distribution: 212 - Malignant, 357 - Benign\n",
      "\n",
      "    :Creator:  Dr. William H. Wolberg, W. Nick Street, Olvi L. Mangasarian\n",
      "\n",
      "    :Donor: Nick Street\n",
      "\n",
      "    :Date: November, 1995\n",
      "\n",
      "This is a copy of UCI ML Breast Cancer Wisconsin (Diagnostic) datasets.\n",
      "https://goo.gl/U2Uwz2\n",
      "\n",
      "Features are computed from a digitized image of a fine needle\n",
      "aspirate (FNA) of a breast mass.  They describe\n",
      "characteristics of the cell nuclei present in the image.\n",
      "\n",
      "Separating plane described above was obtained using\n",
      "Multisurface Method-Tree (MSM-T) [K. P. Bennett, \"Decision Tree\n",
      "Construction Via Linear Programming.\" Proceedings of the 4th\n",
      "Midwest Artificial Intelligence and Cognitive Science Society,\n",
      "pp. 97-101, 1992], a classification method which uses linear\n",
      "programming to construct a decision tree.  Relevant features\n",
      "were selected using an exhaustive search in the space of 1-4\n",
      "features and 1-3 separating planes.\n",
      "\n",
      "The actual linear program used to obtain the separating plane\n",
      "in the 3-dimensional space is that described in:\n",
      "[K. P. Bennett and O. L. Mangasarian: \"Robust Linear\n",
      "Programming Discrimination of Two Linearly Inseparable Sets\",\n",
      "Optimization Methods and Software 1, 1992, 23-34].\n",
      "\n",
      "This database is also available through the UW CS ftp server:\n",
      "\n",
      "ftp ftp.cs.wisc.edu\n",
      "cd math-prog/cpo-dataset/machine-learn/WDBC/\n",
      "\n",
      ".. topic:: References\n",
      "\n",
      "   - W.N. Street, W.H. Wolberg and O.L. Mangasarian. Nuclear feature extraction \n",
      "     for breast tumor diagnosis. IS&T/SPIE 1993 International Symposium on \n",
      "     Electronic Imaging: Science and Technology, volume 1905, pages 861-870,\n",
      "     San Jose, CA, 1993.\n",
      "   - O.L. Mangasarian, W.N. Street and W.H. Wolberg. Breast cancer diagnosis and \n",
      "     prognosis via linear programming. Operations Research, 43(4), pages 570-577, \n",
      "     July-August 1995.\n",
      "   - W.H. Wolberg, W.N. Street, and O.L. Mangasarian. Machine learning techniques\n",
      "     to diagnose breast cancer from fine-needle aspirates. Cancer Letters 77 (1994) \n",
      "     163-171.\n",
      "[0 0 0 0 0 0 0 0 0 0 0 0 0 0 0 0 0 0 0 1 1 1 0 0 0 0 0 0 0 0 0 0 0 0 0 0 0\n",
      " 1 0 0 0 0 0 0 0 0 1 0 1 1 1 1 1 0 0 1 0 0 1 1 1 1 0 1 0 0 1 1 1 1 0 1 0 0\n",
      " 1 0 1 0 0 1 1 1 0 0 1 0 0 0 1 1 1 0 1 1 0 0 1 1 1 0 0 1 1 1 1 0 1 1 0 1 1\n",
      " 1 1 1 1 1 1 0 0 0 1 0 0 1 1 1 0 0 1 0 1 0 0 1 0 0 1 1 0 1 1 0 1 1 1 1 0 1\n",
      " 1 1 1 1 1 1 1 1 0 1 1 1 1 0 0 1 0 1 1 0 0 1 1 0 0 1 1 1 1 0 1 1 0 0 0 1 0\n",
      " 1 0 1 1 1 0 1 1 0 0 1 0 0 0 0 1 0 0 0 1 0 1 0 1 1 0 1 0 0 0 0 1 1 0 0 1 1\n",
      " 1 0 1 1 1 1 1 0 0 1 1 0 1 1 0 0 1 0 1 1 1 1 0 1 1 1 1 1 0 1 0 0 0 0 0 0 0\n",
      " 0 0 0 0 0 0 0 1 1 1 1 1 1 0 1 0 1 1 0 1 1 0 1 0 0 1 1 1 1 1 1 1 1 1 1 1 1\n",
      " 1 0 1 1 0 1 0 1 1 1 1 1 1 1 1 1 1 1 1 1 1 0 1 1 1 0 1 0 1 1 1 1 0 0 0 1 1\n",
      " 1 1 0 1 0 1 0 1 1 1 0 1 1 1 1 1 1 1 0 0 0 1 1 1 1 1 1 1 1 1 1 1 0 0 1 0 0\n",
      " 0 1 0 0 1 1 1 1 1 0 1 1 1 1 1 0 1 1 1 0 1 1 0 0 1 1 1 1 1 1 0 1 1 1 1 1 1\n",
      " 1 0 1 1 1 1 1 0 1 1 0 1 1 1 1 1 1 1 1 1 1 1 1 0 1 0 0 1 0 1 1 1 1 1 0 1 1\n",
      " 0 1 0 1 1 0 1 0 1 1 1 1 1 1 1 1 0 0 1 1 1 1 1 1 0 1 1 1 1 1 1 1 1 1 1 0 1\n",
      " 1 1 1 1 1 1 0 1 0 1 1 0 1 1 1 1 1 0 0 1 0 1 0 1 1 1 1 1 0 1 1 0 1 0 1 0 0\n",
      " 1 1 1 0 1 1 1 1 1 1 1 1 1 1 1 0 1 0 0 1 1 1 1 1 1 1 1 1 1 1 1 1 1 1 1 1 1\n",
      " 1 1 1 1 1 1 1 0 0 0 0 0 0 1]\n",
      "prediction for datapoint 0: [0]\n",
      "0.9595782073813708\n"
     ]
    }
   ],
   "source": [
    "import pandas as pd\n",
    "from sklearn.datasets import load_breast_cancer\n",
    "from sklearn.linear_model import LogisticRegression\n",
    "\n",
    "#daten-set, das bereits in sklearn drin ist, daher kein csv-import nötig\n",
    "from sklearn.datasets import load_breast_cancer\n",
    "cancer_data = load_breast_cancer()\n",
    "\n",
    "#zeigt keys des daten-sets an\n",
    "print(cancer_data.keys())\n",
    "\n",
    "#DESCR beschreibt daten-set genauer\n",
    "print(cancer_data['DESCR'])\n",
    "\n",
    "#numpy array conversion nach folgendem schema\n",
    "cancer_data['data']\n",
    "\n",
    "#array-grö0e nach zeilen und spalten ausgeben lassen über .shape\n",
    "cancer_data['data'].shape\n",
    "\n",
    "#ruft spaltennamen auf\n",
    "cancer_data['feature_names']\n",
    "\n",
    "#erstellt dataframe mimt allen feature datas\n",
    "df = pd.DataFrame(cancer_data['data'], columns=cancer_data['feature_names'])\n",
    "#print(df.head())\n",
    "df['target'] = cancer_data['target']\n",
    "\n",
    "#ziel ins data frame mit aufnehmen\n",
    "print(cancer_data['target'])\n",
    "\n",
    "#datenpunkte checken\n",
    "cancer_data['target'].shape\n",
    "\n",
    "#feature matrix x und target array y aufbauen\n",
    "x = df[cancer_data.feature_names].values\n",
    "y = df['target'].values\n",
    "\n",
    "#object für logistic regression und model aufbauen\n",
    "\"\"\"model = LogisticRegression()\n",
    "model.fit(x, y)\"\"\"\n",
    "\n",
    "#schnelleren algorithmus festlegen über solver\n",
    "model = LogisticRegression(solver='liblinear')\n",
    "model.fit(x, y)\n",
    "\n",
    "#model-vorhersage für ersten datenpunkt bestimmen, achtung: 2d-array [x[0]]\n",
    "print('prediction for datapoint 0:', model.predict([x[0]]))\n",
    "\n",
    "#wie das model bezogen auf den ganzen datensatz funktioniert\n",
    "print(model.score(x, y))\n",
    "\n",
    "#ergebnis: 96% der datenpunkte sind korrekt gesetzt, model hat eine zu 96% korrekte vorhersage getroffen"
   ]
  },
  {
   "cell_type": "markdown",
   "id": "525b0bad",
   "metadata": {},
   "source": [
    "Nochmal unkommentiert ..."
   ]
  },
  {
   "cell_type": "code",
   "execution_count": 10,
   "id": "ed5bd179",
   "metadata": {},
   "outputs": [
    {
     "name": "stdout",
     "output_type": "stream",
     "text": [
      "prediction for datapoint 0: [0]\n",
      "0.9595782073813708\n"
     ]
    }
   ],
   "source": [
    "import pandas as pd\n",
    "from sklearn.datasets import load_breast_cancer\n",
    "from sklearn.linear_model import LogisticRegression\n",
    "\n",
    "cancer_data = load_breast_cancer()\n",
    "df = pd.DataFrame(cancer_data['data'], columns=cancer_data['feature_names'])\n",
    "df['target'] = cancer_data['target']\n",
    "\n",
    "X = df[cancer_data.feature_names].values\n",
    "y = df['target'].values\n",
    "\n",
    "model = LogisticRegression(solver='liblinear')\n",
    "model.fit(X, y)\n",
    "print(\"prediction for datapoint 0:\", model.predict([X[0]]))\n",
    "print(model.score(X, y))"
   ]
  },
  {
   "cell_type": "markdown",
   "id": "65e0ce06",
   "metadata": {},
   "source": [
    "Vorhersage für einzelnen Datenpunkt machen"
   ]
  },
  {
   "cell_type": "code",
   "execution_count": 17,
   "id": "42565875",
   "metadata": {},
   "outputs": [
    {
     "name": "stdout",
     "output_type": "stream",
     "text": [
      "6\n",
      "1 3\n",
      "3 5\n",
      "5 7\n",
      "3 1\n",
      "5 3\n",
      "7 5\n",
      "1 1 1 0 0 0\n",
      "2 4\n"
     ]
    }
   ],
   "source": [
    "from sklearn.linear_model import LogisticRegression\n",
    "import pandas as pd\n",
    "import numpy as np\n",
    "\n",
    "\n",
    "n = int(input())\n",
    "X = []\n",
    "for i in range(n):\n",
    "    X.append([float(x) for x in input().split()])\n",
    "y = [int(x) for x in input().split()]\n",
    "datapoint = [float(x) for x in input().split()]\n",
    "\n",
    "df = pd.DataFrame(X)\n",
    "#print(df)"
   ]
  },
  {
   "cell_type": "code",
   "execution_count": 18,
   "id": "97b42a06",
   "metadata": {},
   "outputs": [
    {
     "name": "stdout",
     "output_type": "stream",
     "text": [
      "[[1. 3.]\n",
      " [3. 5.]\n",
      " [5. 7.]\n",
      " [3. 1.]\n",
      " [5. 3.]\n",
      " [7. 5.]] <class 'numpy.ndarray'> (6, 2)\n"
     ]
    }
   ],
   "source": [
    "X_arr = df.values\n",
    "print(X_arr, type(X_arr), X_arr.shape)"
   ]
  },
  {
   "cell_type": "code",
   "execution_count": 19,
   "id": "5b9596e7",
   "metadata": {},
   "outputs": [
    {
     "name": "stdout",
     "output_type": "stream",
     "text": [
      "[1 1 1 0 0 0] <class 'numpy.ndarray'> (6,)\n"
     ]
    }
   ],
   "source": [
    "y_arr = np.array(y)\n",
    "print(y_arr, type(y_arr), y_arr.shape)"
   ]
  },
  {
   "cell_type": "code",
   "execution_count": 20,
   "id": "4f315384",
   "metadata": {},
   "outputs": [
    {
     "name": "stdout",
     "output_type": "stream",
     "text": [
      "[2. 4.] (2,)\n"
     ]
    }
   ],
   "source": [
    "arr_datapoint = np.array(datapoint)\n",
    "print(arr_datapoint, arr_datapoint.shape)"
   ]
  },
  {
   "cell_type": "code",
   "execution_count": 21,
   "id": "895cfbf7",
   "metadata": {},
   "outputs": [
    {
     "name": "stdout",
     "output_type": "stream",
     "text": [
      "[1 1 1 0 0 0]\n"
     ]
    }
   ],
   "source": [
    "model = LogisticRegression()\n",
    "model.fit(X_arr, y_arr)\n",
    "print(model.predict(X))"
   ]
  },
  {
   "cell_type": "code",
   "execution_count": 22,
   "id": "72eb828c",
   "metadata": {},
   "outputs": [
    {
     "name": "stdout",
     "output_type": "stream",
     "text": [
      "<class 'numpy.ndarray'> 1\n"
     ]
    }
   ],
   "source": [
    "result = model.predict([arr_datapoint])\n",
    "print(type(result), int(result[0]))"
   ]
  },
  {
   "cell_type": "code",
   "execution_count": 24,
   "id": "58e7a663",
   "metadata": {},
   "outputs": [
    {
     "name": "stdout",
     "output_type": "stream",
     "text": [
      "1.0\n"
     ]
    }
   ],
   "source": [
    "print(model.score(X_arr, y_arr))"
   ]
  },
  {
   "cell_type": "code",
   "execution_count": null,
   "id": "d2b4febb",
   "metadata": {},
   "outputs": [],
   "source": []
  }
 ],
 "metadata": {
  "kernelspec": {
   "display_name": "Python 3 (ipykernel)",
   "language": "python",
   "name": "python3"
  },
  "language_info": {
   "codemirror_mode": {
    "name": "ipython",
    "version": 3
   },
   "file_extension": ".py",
   "mimetype": "text/x-python",
   "name": "python",
   "nbconvert_exporter": "python",
   "pygments_lexer": "ipython3",
   "version": "3.9.7"
  }
 },
 "nbformat": 4,
 "nbformat_minor": 5
}
