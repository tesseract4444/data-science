{
 "cells": [
  {
   "cell_type": "markdown",
   "id": "0afb19b4",
   "metadata": {},
   "source": [
    "### NumPy Array"
   ]
  },
  {
   "cell_type": "code",
   "execution_count": 1,
   "id": "40a137b4",
   "metadata": {},
   "outputs": [],
   "source": [
    "import numpy as np"
   ]
  },
  {
   "cell_type": "markdown",
   "id": "a7cce1ea",
   "metadata": {},
   "source": [
    " "
   ]
  },
  {
   "cell_type": "markdown",
   "id": "0e7d8290",
   "metadata": {},
   "source": [
    "#### Introduction"
   ]
  },
  {
   "cell_type": "markdown",
   "id": "a3428d4c",
   "metadata": {},
   "source": [
    "#### example01"
   ]
  },
  {
   "cell_type": "code",
   "execution_count": 2,
   "id": "05c16a43",
   "metadata": {},
   "outputs": [
    {
     "name": "stdout",
     "output_type": "stream",
     "text": [
      "[1 2 3 4]\n"
     ]
    }
   ],
   "source": [
    "x = np.array([1, 2, 3, 4])\n",
    "print(x)"
   ]
  },
  {
   "cell_type": "markdown",
   "id": "dd3866f6",
   "metadata": {},
   "source": [
    "#### example02"
   ]
  },
  {
   "cell_type": "code",
   "execution_count": 3,
   "id": "88f52f5c",
   "metadata": {},
   "outputs": [
    {
     "name": "stdout",
     "output_type": "stream",
     "text": [
      "6\n",
      "2\n",
      "9\n",
      "(3, 3)\n",
      "[[[1]\n",
      "  [2]\n",
      "  [3]]\n",
      "\n",
      " [[4]\n",
      "  [5]\n",
      "  [6]]\n",
      "\n",
      " [[7]\n",
      "  [8]\n",
      "  [9]]]\n",
      "3\n"
     ]
    }
   ],
   "source": [
    "x = np.array([[1,2,3], [4,5,6], [7,8,9]])\n",
    "print(x[1][2])\n",
    "\n",
    "print(x.ndim) #anzahl dimensionen\n",
    "print(x.size) #anzahl der elemente\n",
    "print(x.shape) #matrix-form\n",
    "print(x.reshape(3, 3, 1)) #macht aus 2 dimensionen 3\n",
    "print(x.reshape(3, 3, 1).ndim)"
   ]
  },
  {
   "cell_type": "markdown",
   "id": "86e7fc2c",
   "metadata": {},
   "source": [
    "#### example03"
   ]
  },
  {
   "cell_type": "code",
   "execution_count": 4,
   "id": "826945ca",
   "metadata": {},
   "outputs": [
    {
     "name": "stdout",
     "output_type": "stream",
     "text": [
      "[2 1 3 1]\n",
      "[1 3 1]\n",
      "[1 1 3]\n",
      "[2 5 8]\n"
     ]
    }
   ],
   "source": [
    "x = np.array([2,1,3])\n",
    "\n",
    "x = np.append(x,1) #fügt element hinzu\n",
    "print(x)\n",
    "\n",
    "x = np.delete(x,0) #entefernt element an position 'zahl'\n",
    "print(x)\n",
    "\n",
    "x = np.sort(x) #sortiert aufsteigend\n",
    "print(x)\n",
    "\n",
    "x = np.arange(2, 10, 3) #beginn bei 2, jedes 3.element exklusive rand 10\n",
    "print(x)"
   ]
  },
  {
   "cell_type": "markdown",
   "id": "621c236f",
   "metadata": {},
   "source": [
    "#### test01\n",
    "\n",
    "You are given an array that holds the square footage data for houses on a particular street.\n",
    "A new house has just been constructed on that street.\n",
    "Modify your program to take the new house value as input, add it to the array, and output the array sorted in ascending order. "
   ]
  },
  {
   "cell_type": "code",
   "execution_count": 5,
   "id": "1d3b0476",
   "metadata": {},
   "outputs": [
    {
     "name": "stdout",
     "output_type": "stream",
     "text": [
      "2000\n",
      "[ 900 1000 1400 1800 1900 2000 2200 2500 3500 4200]\n"
     ]
    }
   ],
   "source": [
    "data = np.array([1000, 2500, 1400, 1800, 900, 4200, 2200, 1900, 3500])\n",
    "\n",
    "data = np.append(data, int(input()))\n",
    "\n",
    "data = np.sort(data)\n",
    "\n",
    "print(data)"
   ]
  },
  {
   "cell_type": "markdown",
   "id": "08e041ea",
   "metadata": {},
   "source": [
    "#### exercise01"
   ]
  },
  {
   "cell_type": "code",
   "execution_count": 37,
   "id": "1f6817ac",
   "metadata": {},
   "outputs": [
    {
     "name": "stdout",
     "output_type": "stream",
     "text": [
      "3\n"
     ]
    }
   ],
   "source": [
    "x = np.arange(2, 8, 2)\n",
    "\n",
    "x = np.append(x, x.size)\n",
    "\n",
    "x = np.sort(x)\n",
    "\n",
    "print(x[1])"
   ]
  },
  {
   "cell_type": "markdown",
   "id": "e642c0d0",
   "metadata": {},
   "source": [
    " "
   ]
  },
  {
   "cell_type": "markdown",
   "id": "934f19e5",
   "metadata": {},
   "source": [
    "#### Shape"
   ]
  },
  {
   "cell_type": "markdown",
   "id": "75edd080",
   "metadata": {},
   "source": [
    "#### example01"
   ]
  },
  {
   "cell_type": "code",
   "execution_count": 7,
   "id": "f3042767",
   "metadata": {},
   "outputs": [
    {
     "name": "stdout",
     "output_type": "stream",
     "text": [
      "[1 2 3 4 5 6]\n",
      "1\n",
      "[[1 2]\n",
      " [3 4]\n",
      " [5 6]]\n",
      "2\n"
     ]
    }
   ],
   "source": [
    "x = np.arange(1, 7) #1 dimension\n",
    "print(x)\n",
    "print(x.ndim)\n",
    "\n",
    "x = x.reshape(3, 2) #2 dimensions => 6 = 3 reihen + 2 spalten\n",
    "print(x)\n",
    "print(x.ndim)"
   ]
  },
  {
   "cell_type": "markdown",
   "id": "2c25d6dc",
   "metadata": {},
   "source": [
    "#### example02"
   ]
  },
  {
   "cell_type": "code",
   "execution_count": 8,
   "id": "aca742e9",
   "metadata": {},
   "outputs": [
    {
     "name": "stdout",
     "output_type": "stream",
     "text": [
      "[[1 2]\n",
      " [3 4]\n",
      " [5 6]]\n",
      "[1 2 3 4 5 6]\n"
     ]
    }
   ],
   "source": [
    "x = np.array([[1,2], [3,4], [5,6]]) #2 dimensions\n",
    "print(x)\n",
    "\n",
    "z = x.reshape(6) #1 dimension\n",
    "print(z)"
   ]
  },
  {
   "cell_type": "markdown",
   "id": "2c3bd89f",
   "metadata": {},
   "source": [
    "#### excercise01"
   ]
  },
  {
   "cell_type": "code",
   "execution_count": 9,
   "id": "1adf4e69",
   "metadata": {},
   "outputs": [
    {
     "name": "stdout",
     "output_type": "stream",
     "text": [
      "[1 4 7]\n",
      "4\n"
     ]
    }
   ],
   "source": [
    "x = np.arange(1, 8, 3)\n",
    "print(x)\n",
    "\n",
    "z = x.reshape(3, 1)\n",
    "print(z[1][0])"
   ]
  },
  {
   "cell_type": "markdown",
   "id": "fd8adfa1",
   "metadata": {},
   "source": [
    "#### test01\n",
    "You are given an array that represents the occupancy of seats in a movie theater. A seat marked with 1 is occupied, while one marked 0 means the seat is free.\n",
    "However, the array is flat and 1-dimensional. Transform it into a 2-dimensional array, representing the rows of the seats.\n",
    "Each row in the theater has 5 seats and there are a total of 30 seats.\n",
    "Reshape the array into the corresponding shape and output the row at the given index, which is taken from user input. "
   ]
  },
  {
   "cell_type": "code",
   "execution_count": 10,
   "id": "c4704193",
   "metadata": {},
   "outputs": [
    {
     "name": "stdout",
     "output_type": "stream",
     "text": [
      "2\n",
      "[1 1 1 1 1]\n"
     ]
    }
   ],
   "source": [
    "data = np.array([1, 1, 0, 0, 1, 0, 0, 0, 0, 0, 1, 1, 1, 1, 1, 1, 0, 1, 0, 1, 1, 1, 1, 0, 0, 0, 1, 1, 1, 0])\n",
    "\n",
    "row = int(input())\n",
    "\n",
    "reshaper = data.reshape(6,5)\n",
    "#print(reshaper)\n",
    "print(reshaper[row, :])\n",
    "\n",
    "\n"
   ]
  },
  {
   "cell_type": "markdown",
   "id": "e29f28b7",
   "metadata": {},
   "source": [
    " "
   ]
  },
  {
   "cell_type": "markdown",
   "id": "f36706bc",
   "metadata": {},
   "source": [
    "#### Indexing and Slicing"
   ]
  },
  {
   "cell_type": "markdown",
   "id": "570b793c",
   "metadata": {},
   "source": [
    "#### example01"
   ]
  },
  {
   "cell_type": "code",
   "execution_count": 11,
   "id": "d08a67e3",
   "metadata": {},
   "outputs": [
    {
     "name": "stdout",
     "output_type": "stream",
     "text": [
      "[1 2]\n",
      "[6 7 8 9]\n",
      "[1 2]\n",
      "[7 8 9]\n"
     ]
    }
   ],
   "source": [
    "x = np.arange(1, 10)\n",
    "\n",
    "print(x[0:2])\n",
    "print(x[5:])\n",
    "print(x[:2])\n",
    "print(x[-3:])"
   ]
  },
  {
   "cell_type": "markdown",
   "id": "3be62600",
   "metadata": {},
   "source": [
    "#### example02"
   ]
  },
  {
   "cell_type": "code",
   "execution_count": 12,
   "id": "26d5c198",
   "metadata": {},
   "outputs": [
    {
     "name": "stdout",
     "output_type": "stream",
     "text": [
      "[1 2 3]\n"
     ]
    }
   ],
   "source": [
    "x = np.arange(1, 10)\n",
    "print(x[x<4])"
   ]
  },
  {
   "cell_type": "code",
   "execution_count": 13,
   "id": "d533798c",
   "metadata": {},
   "outputs": [
    {
     "name": "stdout",
     "output_type": "stream",
     "text": [
      "[6 8]\n"
     ]
    }
   ],
   "source": [
    "print(x[(x>5) & (x%2 == 0)])"
   ]
  },
  {
   "cell_type": "markdown",
   "id": "6540bf3f",
   "metadata": {},
   "source": [
    "#### test01\n",
    "You are given a task to find all of the whole numbers below 100 that are multiples of both 3 and 5.\n",
    "Create an array of numbers below 100 that are multiples of both 3 and 5, and output it. "
   ]
  },
  {
   "cell_type": "code",
   "execution_count": 14,
   "id": "c1cf16e5",
   "metadata": {},
   "outputs": [
    {
     "name": "stdout",
     "output_type": "stream",
     "text": [
      "[15 30 45 60 75 90]\n"
     ]
    }
   ],
   "source": [
    "x = np.arange(1, 100)\n",
    "print(x[(x%5==0) & (x%3==0)])"
   ]
  },
  {
   "cell_type": "markdown",
   "id": "963713ac",
   "metadata": {},
   "source": [
    "#### excercise01"
   ]
  },
  {
   "cell_type": "code",
   "execution_count": 15,
   "id": "b1d7e430",
   "metadata": {},
   "outputs": [
    {
     "name": "stdout",
     "output_type": "stream",
     "text": [
      "2\n"
     ]
    }
   ],
   "source": [
    "x = np.array([11,42,8,5,18])\n",
    "z = x[x > 15]\n",
    "print(z.size)"
   ]
  },
  {
   "cell_type": "markdown",
   "id": "f1b6e676",
   "metadata": {},
   "source": [
    " "
   ]
  },
  {
   "cell_type": "markdown",
   "id": "e28cbd70",
   "metadata": {},
   "source": [
    "#### Array Operations"
   ]
  },
  {
   "cell_type": "markdown",
   "id": "2d337cdf",
   "metadata": {},
   "source": [
    "#### example01"
   ]
  },
  {
   "cell_type": "code",
   "execution_count": 16,
   "id": "a14325db",
   "metadata": {},
   "outputs": [
    {
     "name": "stdout",
     "output_type": "stream",
     "text": [
      "45\n"
     ]
    }
   ],
   "source": [
    "x = np.arange(1, 10)\n",
    "print(x.sum())"
   ]
  },
  {
   "cell_type": "code",
   "execution_count": 17,
   "id": "8fc00972",
   "metadata": {},
   "outputs": [
    {
     "name": "stdout",
     "output_type": "stream",
     "text": [
      "[1 2 3 4 5 6 7 8 9]\n",
      "[ 2  4  6  8 10 12 14 16 18]\n"
     ]
    }
   ],
   "source": [
    "x = np.arange(1, 10)\n",
    "print(x)\n",
    "y = x*2 #alle elemente *2\n",
    "print(y)"
   ]
  },
  {
   "cell_type": "markdown",
   "id": "c7be8c64",
   "metadata": {},
   "source": [
    "#### exercise01"
   ]
  },
  {
   "cell_type": "code",
   "execution_count": 18,
   "id": "85614fa7",
   "metadata": {},
   "outputs": [
    {
     "name": "stdout",
     "output_type": "stream",
     "text": [
      "146432\n"
     ]
    }
   ],
   "source": [
    "data_mb = np.array([6, 3, 10, 143])\n",
    "data_kb = data_mb * 1024\n",
    "print(data_kb.max())"
   ]
  },
  {
   "cell_type": "markdown",
   "id": "87f805a8",
   "metadata": {},
   "source": [
    "#### example02"
   ]
  },
  {
   "cell_type": "code",
   "execution_count": 19,
   "id": "be01ba74",
   "metadata": {},
   "outputs": [
    {
     "name": "stdout",
     "output_type": "stream",
     "text": [
      "33.111111111111114\n",
      "26.0\n",
      "292.5432098765432\n",
      "17.10389458212787\n"
     ]
    }
   ],
   "source": [
    "x = np.array([14, 18, 19, 24, 26, 33, 42, 55, 67])\n",
    "\n",
    "print(np.mean(x))\n",
    "print(np.median(x))\n",
    "print(np.var(x))\n",
    "print(np.std(x))"
   ]
  },
  {
   "cell_type": "markdown",
   "id": "1abc94b0",
   "metadata": {},
   "source": [
    "#### test01\n",
    "The given array represents the daily number of infections for 30 days.\n",
    "Find out how many days exceeded the average number of infections. "
   ]
  },
  {
   "cell_type": "code",
   "execution_count": 30,
   "id": "142fcd6d",
   "metadata": {},
   "outputs": [
    {
     "name": "stdout",
     "output_type": "stream",
     "text": [
      "12\n"
     ]
    }
   ],
   "source": [
    "data = np.array([120, 98, 150, 65, 42, 100, 190, 220, 140, 110, 88, 89, 100, 120, 50, 180, 155, 42, 89, 77, 200, 190, 125, 98, 77, 40, 39, 59, 30, 67])\n",
    "\n",
    "z = np.sum(data)/np.size(data) #kürzer: np.mean(data)\n",
    "result = data[data>z]\n",
    "print(result.size)"
   ]
  },
  {
   "cell_type": "markdown",
   "id": "e47e31cd",
   "metadata": {},
   "source": [
    " "
   ]
  },
  {
   "cell_type": "markdown",
   "id": "1c3e63d0",
   "metadata": {},
   "source": [
    "#### Quiz"
   ]
  },
  {
   "cell_type": "markdown",
   "id": "2e203654",
   "metadata": {},
   "source": [
    "#### exercise01"
   ]
  },
  {
   "cell_type": "code",
   "execution_count": 21,
   "id": "202d14bd",
   "metadata": {},
   "outputs": [
    {
     "name": "stdout",
     "output_type": "stream",
     "text": [
      "7\n"
     ]
    }
   ],
   "source": [
    "x = np.arange(3, 9)\n",
    "z = x.reshape(2, 3)\n",
    "print(z[1][1])"
   ]
  },
  {
   "cell_type": "markdown",
   "id": "6e91f9bf",
   "metadata": {},
   "source": [
    "#### exercise02"
   ]
  },
  {
   "cell_type": "code",
   "execution_count": 22,
   "id": "b1641265",
   "metadata": {},
   "outputs": [
    {
     "name": "stdout",
     "output_type": "stream",
     "text": [
      "[43 44 45 46 47 48 49]\n"
     ]
    }
   ],
   "source": [
    "x = np.arange(1, 50)\n",
    "res = x[x>42]\n",
    "print(res)"
   ]
  },
  {
   "cell_type": "markdown",
   "id": "d2c58b72",
   "metadata": {},
   "source": [
    "#### exercise03"
   ]
  },
  {
   "cell_type": "code",
   "execution_count": 23,
   "id": "ea926d71",
   "metadata": {},
   "outputs": [
    {
     "name": "stdout",
     "output_type": "stream",
     "text": [
      "[26 27 28 29 30 31 32 33 34 35 36 37 38 39 40 41 42 43 44 45 46 47 48 49]\n"
     ]
    }
   ],
   "source": [
    "z = x[x>np.mean(x)]\n",
    "print(z)"
   ]
  },
  {
   "cell_type": "markdown",
   "id": "412d4368",
   "metadata": {},
   "source": [
    "#### exercise04"
   ]
  },
  {
   "cell_type": "code",
   "execution_count": 24,
   "id": "a2b97d3d",
   "metadata": {},
   "outputs": [
    {
     "name": "stdout",
     "output_type": "stream",
     "text": [
      "12\n"
     ]
    }
   ],
   "source": [
    "x = np.arange(1,5)\n",
    "x = x*2\n",
    "print(x[:3].sum())"
   ]
  },
  {
   "cell_type": "markdown",
   "id": "823e6c4b",
   "metadata": {},
   "source": [
    " "
   ]
  },
  {
   "cell_type": "markdown",
   "id": "d8b90522",
   "metadata": {},
   "source": [
    "#### test01\n",
    "You are given an array that represents house prices.\n",
    "Calculate and output the percentage of houses that are within one standard deviation from the mean. "
   ]
  },
  {
   "cell_type": "code",
   "execution_count": 25,
   "id": "ae09547a",
   "metadata": {},
   "outputs": [
    {
     "name": "stdout",
     "output_type": "stream",
     "text": [
      "130053.69984644804\n",
      "130258.80015355196\n",
      "18.75\n"
     ]
    }
   ],
   "source": [
    "data = np.array([150000, 125000, 320000, 540000, 200000, 120000, 160000, 230000, 280000, 290000, 300000, 500000, 420000, 100000, 150000, 280000])\n",
    "\n",
    "print(np.std(data))\n",
    "calc = np.mean(data) - np.std(data)\n",
    "print(calc)\n",
    "\n",
    "l = []\n",
    "for i in data:\n",
    "    if i < calc:\n",
    "        l.append(i)\n",
    "print((len(l)/len(data))*100)"
   ]
  },
  {
   "cell_type": "code",
   "execution_count": null,
   "id": "c439d0b7",
   "metadata": {},
   "outputs": [],
   "source": []
  }
 ],
 "metadata": {
  "kernelspec": {
   "display_name": "Python 3 (ipykernel)",
   "language": "python",
   "name": "python3"
  },
  "language_info": {
   "codemirror_mode": {
    "name": "ipython",
    "version": 3
   },
   "file_extension": ".py",
   "mimetype": "text/x-python",
   "name": "python",
   "nbconvert_exporter": "python",
   "pygments_lexer": "ipython3",
   "version": "3.9.7"
  }
 },
 "nbformat": 4,
 "nbformat_minor": 5
}
