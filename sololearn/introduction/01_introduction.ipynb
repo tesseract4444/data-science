{
 "cells": [
  {
   "cell_type": "markdown",
   "id": "0a496482",
   "metadata": {},
   "source": [
    "# Statistik\n",
    "- mean: Durchschnitt\n",
    "- median: Werte sortieren -> Wert in der Mitte ist Median\n",
    "- standard deviation: Wurzel ziehen aus sum((Einzelwert-mean)²) -> Ergebnis/(Anzahl Werte-1) -> nochmal Wurzel ziehen aus allem"
   ]
  },
  {
   "cell_type": "markdown",
   "id": "66c8f97b",
   "metadata": {},
   "source": [
    "#### mean"
   ]
  },
  {
   "cell_type": "code",
   "execution_count": 1,
   "id": "7a0dc479",
   "metadata": {},
   "outputs": [
    {
     "name": "stdout",
     "output_type": "stream",
     "text": [
      "1.25\n"
     ]
    }
   ],
   "source": [
    "vac_nums = [0,0,0,0,0,\n",
    "            1,1,1,1,1,1,1,1,\n",
    "            2,2,2,2,\n",
    "            3,3,3\n",
    "            ]\n",
    "\n",
    "print(sum(vac_nums)/len(vac_nums))"
   ]
  },
  {
   "cell_type": "markdown",
   "id": "03c30fd7",
   "metadata": {},
   "source": [
    "#### median"
   ]
  },
  {
   "cell_type": "code",
   "execution_count": 118,
   "id": "e1b86fc3",
   "metadata": {},
   "outputs": [
    {
     "name": "stdout",
     "output_type": "stream",
     "text": [
      "[3, 3, 4, 4, 4, 5, 6, 6, 7, 7, 7, 8]\n",
      "Der Median lautet: 5.5\n"
     ]
    }
   ],
   "source": [
    "kinder = [5, 3, 7, 4, 4, 3, 6, 4, 7, 8, 7, 6]\n",
    "\n",
    "kinder.sort()\n",
    "print(kinder)\n",
    "\n",
    "print(f'Der Median lautet:', np.median(kinder))"
   ]
  },
  {
   "cell_type": "markdown",
   "id": "836c4b48",
   "metadata": {},
   "source": [
    "#### standard deviation - variance"
   ]
  },
  {
   "cell_type": "code",
   "execution_count": 20,
   "id": "4648a3e3",
   "metadata": {},
   "outputs": [
    {
     "name": "stdout",
     "output_type": "stream",
     "text": [
      "0.9875\n"
     ]
    }
   ],
   "source": [
    "vac_nums = [0,0,0,0,0,\n",
    "            1,1,1,1,1,1,1,1,\n",
    "            2,2,2,2,\n",
    "            3,3,3\n",
    "            ]\n",
    "\n",
    "mean = sum(vac_nums)/len(vac_nums)\n",
    "\n",
    "count = 0\n",
    "for i in vac_nums:\n",
    "    count+= (i - mean)**2\n",
    "\n",
    "#print(count)    \n",
    "variance = count/(len(vac_nums))\n",
    "print(variance)"
   ]
  },
  {
   "cell_type": "markdown",
   "id": "835b8ac9",
   "metadata": {},
   "source": [
    "##### standard deviation - variance ... using numpy ..."
   ]
  },
  {
   "cell_type": "code",
   "execution_count": 19,
   "id": "6fc655fe",
   "metadata": {},
   "outputs": [
    {
     "name": "stdout",
     "output_type": "stream",
     "text": [
      "0.9875\n"
     ]
    }
   ],
   "source": [
    "import numpy as np\n",
    "\n",
    "a = np.array([0,0,0,0,0,1,1,1,1,1,1,1,1,2,2,2,2,3,3,3])\n",
    "\n",
    "mean = np.sum(a)/a.size\n",
    "variance = np.sum((a-mean)**2)/a.size\n",
    "print(variance)"
   ]
  },
  {
   "cell_type": "markdown",
   "id": "745ffae5",
   "metadata": {},
   "source": [
    "##### standard deviation - variance user input"
   ]
  },
  {
   "cell_type": "code",
   "execution_count": 85,
   "id": "d04a5797",
   "metadata": {},
   "outputs": [
    {
     "name": "stdout",
     "output_type": "stream",
     "text": [
      "Hier Listen-Elmente per Copy & Paste einfügen für Längenprüfung...180, 172, 178, 185, 190, 195, 192, 200, 210, 190\n",
      "10\n",
      "Länge des Arrays eingeben'...10\n",
      "180\n",
      "172\n",
      "178\n",
      "185\n",
      "190\n",
      "195\n",
      "192\n",
      "200\n",
      "210\n",
      "190\n",
      "Mittelwert: 189.2\n",
      "Varianz: 111.56000000000002\n",
      "Standardabweichung: 10.562196741208716\n"
     ]
    }
   ],
   "source": [
    "import numpy as np\n",
    "from math import sqrt\n",
    "\n",
    "def check_length():\n",
    "    n = input('Hier Listen-Elmente per Copy & Paste einfügen für Längenprüfung...').split(\",\")\n",
    "    return len(n)\n",
    "print(check_length())\n",
    "    \n",
    "\n",
    "def arr():\n",
    "    a_input = []\n",
    "    n = int(input(\"Länge des Arrays eingeben'...\"))\n",
    "    \n",
    "    for i in range(0, n):\n",
    "        l = float(input())\n",
    "        a_input.append(l)\n",
    "    return a_input\n",
    "\n",
    "\n",
    "'''def variance():\n",
    "    a = np.array(arr())\n",
    "    mean = np.sum(a)/a.size\n",
    "    variance = np.sum((a-mean)**2)/a.size\n",
    "    return(variance)'''\n",
    "\n",
    "\n",
    "def standard_dev():\n",
    "    a = np.array(arr())\n",
    "    mean = np.sum(a)/a.size\n",
    "    variance = np.sum((a-mean)**2)/a.size\n",
    "    print(f'Mittelwert:', mean)\n",
    "    print(f'Varianz:', variance) \n",
    "    return f'Standardabweichung: ' + str(sqrt(variance)) #return f'Standardabweichung:', sqrt(variance())\n",
    "       \n",
    "print(standard_dev())"
   ]
  },
  {
   "cell_type": "markdown",
   "id": "09e79c53",
   "metadata": {},
   "source": [
    "##### check number of items that deviate from standard deviation"
   ]
  },
  {
   "cell_type": "code",
   "execution_count": 94,
   "id": "8b84a5a6",
   "metadata": {},
   "outputs": [
    {
     "name": "stdout",
     "output_type": "stream",
     "text": [
      "2\n"
     ]
    }
   ],
   "source": [
    "players = [180, 172, 178, 185, 190, 195, 192, 200, 210, 190]\n",
    "\n",
    "l = []\n",
    "\n",
    "a = np.array(players)\n",
    "mean = np.sum(a)/a.size\n",
    "variance = np.sum((a-mean)**2)/a.size\n",
    "range_it = mean-sqrt(variance)\n",
    "\n",
    "for i in players:\n",
    "    if i < range_it: #>in range, < out of range\n",
    "        l.append(i)\n",
    "print(len(l))\n"
   ]
  },
  {
   "cell_type": "code",
   "execution_count": 1,
   "id": "662ab364",
   "metadata": {},
   "outputs": [
    {
     "ename": "SyntaxError",
     "evalue": "Missing parentheses in call to 'print'. Did you mean print(\"Hello World\")? (Temp/ipykernel_3316/796388850.py, line 1)",
     "output_type": "error",
     "traceback": [
      "\u001b[1;36m  File \u001b[1;32m\"C:\\Users\\Simon\\AppData\\Local\\Temp/ipykernel_3316/796388850.py\"\u001b[1;36m, line \u001b[1;32m1\u001b[0m\n\u001b[1;33m    print \"Hello World\"\u001b[0m\n\u001b[1;37m          ^\u001b[0m\n\u001b[1;31mSyntaxError\u001b[0m\u001b[1;31m:\u001b[0m Missing parentheses in call to 'print'. Did you mean print(\"Hello World\")?\n"
     ]
    }
   ],
   "source": [
    "print \"Hello World\""
   ]
  },
  {
   "cell_type": "code",
   "execution_count": null,
   "id": "0c106c66",
   "metadata": {},
   "outputs": [],
   "source": []
  }
 ],
 "metadata": {
  "kernelspec": {
   "display_name": "Python 3 (ipykernel)",
   "language": "python",
   "name": "python3"
  },
  "language_info": {
   "codemirror_mode": {
    "name": "ipython",
    "version": 3
   },
   "file_extension": ".py",
   "mimetype": "text/x-python",
   "name": "python",
   "nbconvert_exporter": "python",
   "pygments_lexer": "ipython3",
   "version": "3.9.7"
  }
 },
 "nbformat": 4,
 "nbformat_minor": 5
}
