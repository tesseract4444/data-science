{
 "cells": [
  {
   "cell_type": "markdown",
   "id": "81559d85",
   "metadata": {},
   "source": [
    "## 01 What is pandas?\n",
    "- Series: 1-dimensional\n",
    "- DataFrame: multi-dimensional"
   ]
  },
  {
   "cell_type": "markdown",
   "id": "b60097d0",
   "metadata": {},
   "source": [
    "## 02 Creating DataFrames"
   ]
  },
  {
   "cell_type": "markdown",
   "id": "69a291b9",
   "metadata": {},
   "source": [
    "#### DataFrames"
   ]
  },
  {
   "cell_type": "code",
   "execution_count": 1,
   "id": "08cce43e",
   "metadata": {},
   "outputs": [
    {
     "name": "stdout",
     "output_type": "stream",
     "text": [
      "   ages  heights\n",
      "0    14      165\n",
      "1    18      180\n",
      "2    24      176\n",
      "3    42      184\n"
     ]
    }
   ],
   "source": [
    "import pandas as pd\n",
    "\n",
    "data = {\n",
    "    'ages': [14, 18, 24, 42],\n",
    "    'heights': [165, 180, 176, 184]\n",
    "}\n",
    "\n",
    "df = pd.DataFrame(data)\n",
    "print(df)"
   ]
  },
  {
   "cell_type": "code",
   "execution_count": 2,
   "id": "fd168520",
   "metadata": {},
   "outputs": [
    {
     "name": "stdout",
     "output_type": "stream",
     "text": [
      "ages        18\n",
      "heights    180\n",
      "Name: Bob, dtype: int64\n"
     ]
    }
   ],
   "source": [
    "df = pd.DataFrame(data, index=['James', 'Bob', 'Amy', 'Dave'])\n",
    "print(df.loc['Bob']) #loc ruft den index-wert auf"
   ]
  },
  {
   "cell_type": "markdown",
   "id": "fe0fcd94",
   "metadata": {},
   "source": [
    "#### Practice\n",
    "\n",
    "You are given a dictionary that contains names and numbers of people. You need to create a DataFrame from the dictionary and add an index to it, which should be the name values.\n",
    "Then take a name from user input and output the row in the DataFrame, which corresponds to that row. "
   ]
  },
  {
   "cell_type": "code",
   "execution_count": 4,
   "id": "40cb426b",
   "metadata": {},
   "outputs": [
    {
     "name": "stdout",
     "output_type": "stream",
     "text": [
      "James\n",
      "name      James\n",
      "number     1234\n",
      "Name: James, dtype: object\n"
     ]
    }
   ],
   "source": [
    "import pandas as pd\n",
    "\n",
    "data = {\n",
    "   'name': ['James', 'Billy', 'Bob', 'Amy', 'Tom'],\n",
    "   'number': ['1234', '5678', '2222', '1111', '0909']\n",
    "}\n",
    "\n",
    "\n",
    "df = pd.DataFrame(data, index=['James', 'Billy', 'Bob', 'Amy', 'Tom'])\n",
    "print(df.loc[input()])"
   ]
  },
  {
   "cell_type": "markdown",
   "id": "49f61f54",
   "metadata": {},
   "source": [
    "## 03 Indexing and Slicing"
   ]
  },
  {
   "cell_type": "markdown",
   "id": "96c2082f",
   "metadata": {},
   "source": [
    "#### Indexing"
   ]
  },
  {
   "cell_type": "code",
   "execution_count": 7,
   "id": "9ffc9f7c",
   "metadata": {},
   "outputs": [
    {
     "name": "stdout",
     "output_type": "stream",
     "text": [
      "0    14\n",
      "1    18\n",
      "2    24\n",
      "3    42\n",
      "Name: ages, dtype: int64\n",
      "   ages  heights\n",
      "0    14      165\n",
      "1    18      180\n",
      "2    24      176\n",
      "3    42      184\n"
     ]
    }
   ],
   "source": [
    "import pandas as pd\n",
    "\n",
    "data = {\n",
    "    'ages': [14, 18, 24, 42],\n",
    "    'heights': [165, 180, 176, 184]\n",
    "}\n",
    "\n",
    "df = pd.DataFrame(data)\n",
    "\n",
    "#zugriff auf ages\n",
    "print(df['ages'])\n",
    "\n",
    "#zugriff auf mehrere spalten\n",
    "print(df[['ages', 'heights']])"
   ]
  },
  {
   "cell_type": "markdown",
   "id": "fb41d787",
   "metadata": {},
   "source": [
    "#### Slicing\n",
    "- iloc greift auf Index zu"
   ]
  },
  {
   "cell_type": "code",
   "execution_count": 8,
   "id": "c705b2fb",
   "metadata": {},
   "outputs": [
    {
     "name": "stdout",
     "output_type": "stream",
     "text": [
      "ages        24\n",
      "heights    176\n",
      "Name: 2, dtype: int64\n",
      "   ages  heights\n",
      "0    14      165\n",
      "1    18      180\n",
      "2    24      176\n",
      "   ages  heights\n",
      "1    18      180\n",
      "2    24      176\n",
      "   ages  heights\n",
      "2    24      176\n",
      "3    42      184\n"
     ]
    }
   ],
   "source": [
    "print(df.iloc[2]) #2\n",
    "print(df.iloc[:3]) #0-3\n",
    "print(df.iloc[1:3]) #1-3\n",
    "print(df.iloc[-2:]) #letzten 2"
   ]
  },
  {
   "cell_type": "markdown",
   "id": "e1f37940",
   "metadata": {},
   "source": [
    "#### Conditions"
   ]
  },
  {
   "cell_type": "code",
   "execution_count": 10,
   "id": "7dbe34a0",
   "metadata": {},
   "outputs": [
    {
     "data": {
      "text/html": [
       "<div>\n",
       "<style scoped>\n",
       "    .dataframe tbody tr th:only-of-type {\n",
       "        vertical-align: middle;\n",
       "    }\n",
       "\n",
       "    .dataframe tbody tr th {\n",
       "        vertical-align: top;\n",
       "    }\n",
       "\n",
       "    .dataframe thead th {\n",
       "        text-align: right;\n",
       "    }\n",
       "</style>\n",
       "<table border=\"1\" class=\"dataframe\">\n",
       "  <thead>\n",
       "    <tr style=\"text-align: right;\">\n",
       "      <th></th>\n",
       "      <th>ages</th>\n",
       "      <th>heights</th>\n",
       "    </tr>\n",
       "  </thead>\n",
       "  <tbody>\n",
       "    <tr>\n",
       "      <th>2</th>\n",
       "      <td>24</td>\n",
       "      <td>176</td>\n",
       "    </tr>\n",
       "    <tr>\n",
       "      <th>3</th>\n",
       "      <td>42</td>\n",
       "      <td>184</td>\n",
       "    </tr>\n",
       "  </tbody>\n",
       "</table>\n",
       "</div>"
      ],
      "text/plain": [
       "   ages  heights\n",
       "2    24      176\n",
       "3    42      184"
      ]
     },
     "execution_count": 10,
     "metadata": {},
     "output_type": "execute_result"
    }
   ],
   "source": [
    "#bedingung: alter > 18 und größe > 180\n",
    "df[(df['ages']>18) & (df['heights']>180)]\n",
    "\n",
    "#bedingung: alter > 18 oder größe > 180\n",
    "df[(df['ages']>18) | (df['heights']>180)]"
   ]
  },
  {
   "cell_type": "markdown",
   "id": "ad0c7775",
   "metadata": {},
   "source": [
    "#### Practice\n",
    "\n",
    "You are given a DataFrame that includes the names and ranks of people.\n",
    "You need to take a rank as input and output the corresponding name column from the DataFrame as a Series. "
   ]
  },
  {
   "cell_type": "code",
   "execution_count": 11,
   "id": "d4d67734",
   "metadata": {
    "scrolled": true
   },
   "outputs": [
    {
     "name": "stdout",
     "output_type": "stream",
     "text": [
      "4\n",
      "James    James\n",
      "Name: name, dtype: object\n"
     ]
    }
   ],
   "source": [
    "import pandas as pd\n",
    "\n",
    "data = {\n",
    "   'name': ['James', 'Billy', 'Bob', 'Amy', 'Tom', 'Harry'],\n",
    "   'rank': [4, 1, 3, 5, 2, 6]\n",
    "}\n",
    "\n",
    "df = pd.DataFrame(data, index=data['name'])\n",
    "\n",
    "user_rank = int(input())\n",
    "print(df['name'][df['rank']==user_rank])"
   ]
  },
  {
   "cell_type": "markdown",
   "id": "355df2eb",
   "metadata": {},
   "source": [
    "## 04 Reading Data"
   ]
  },
  {
   "cell_type": "markdown",
   "id": "8fc54d6a",
   "metadata": {},
   "source": [
    "#### head() and tail()"
   ]
  },
  {
   "cell_type": "code",
   "execution_count": 15,
   "id": "1b3fbf0b",
   "metadata": {},
   "outputs": [
    {
     "name": "stdout",
     "output_type": "stream",
     "text": [
      "       date       state  cases  deaths\n",
      "0  25.01.20  California      1       0\n",
      "1  26.01.20  California      1       0\n",
      "2  27.01.20  California      0       0\n",
      "3  28.01.20  California      0       0\n",
      "4  29.01.20  California      0       0\n",
      "         date       state  cases  deaths\n",
      "337  27.12.20  California  37555      62\n",
      "338  28.12.20  California  41720     246\n",
      "339  29.12.20  California  34166     425\n",
      "340  30.12.20  California  32386     437\n",
      "341  31.12.20  California  32264     574\n",
      "       date       state  cases  deaths\n",
      "0  25.01.20  California      1       0\n",
      "1  26.01.20  California      1       0\n",
      "2  27.01.20  California      0       0\n",
      "3  28.01.20  California      0       0\n",
      "4  29.01.20  California      0       0\n",
      "5  30.01.20  California      0       0\n",
      "6  31.01.20  California      1       0\n"
     ]
    }
   ],
   "source": [
    "import pandas as pd\n",
    "\n",
    "df = pd.read_csv(\"https://www.sololearn.com/uploads/ca-covid.csv\")\n",
    "\n",
    "print(df.head()) #head zeigt immer die ersten 5 einträge\n",
    "print(df.tail()) #tail zeigt immer die letzten 5 einträge\n",
    "print(df.head(7)) #7 einträge"
   ]
  },
  {
   "cell_type": "markdown",
   "id": "c7b615e7",
   "metadata": {},
   "source": [
    "#### info() and set_index()"
   ]
  },
  {
   "cell_type": "code",
   "execution_count": 17,
   "id": "395d3a2b",
   "metadata": {},
   "outputs": [
    {
     "name": "stdout",
     "output_type": "stream",
     "text": [
      "<class 'pandas.core.frame.DataFrame'>\n",
      "RangeIndex: 342 entries, 0 to 341\n",
      "Data columns (total 4 columns):\n",
      " #   Column  Non-Null Count  Dtype \n",
      "---  ------  --------------  ----- \n",
      " 0   date    342 non-null    object\n",
      " 1   state   342 non-null    object\n",
      " 2   cases   342 non-null    int64 \n",
      " 3   deaths  342 non-null    int64 \n",
      "dtypes: int64(2), object(2)\n",
      "memory usage: 10.8+ KB\n",
      "None\n"
     ]
    }
   ],
   "source": [
    "print(df.info())"
   ]
  },
  {
   "cell_type": "code",
   "execution_count": 22,
   "id": "87625c38",
   "metadata": {},
   "outputs": [
    {
     "name": "stdout",
     "output_type": "stream",
     "text": [
      "               state  cases  deaths\n",
      "date                               \n",
      "25.01.20  California      1       0\n",
      "26.01.20  California      1       0\n",
      "27.01.20  California      0       0\n",
      "28.01.20  California      0       0\n",
      "29.01.20  California      0       0\n"
     ]
    }
   ],
   "source": [
    "#index-zugriff: zeigt dann nur die einträge zu (hier) datum an\n",
    "import pandas as pd\n",
    "\n",
    "df = pd.read_csv(\"https://www.sololearn.com/uploads/ca-covid.csv\")\n",
    "df.set_index(\"date\", inplace=True)\n",
    "\n",
    "print(df.head())"
   ]
  },
  {
   "cell_type": "markdown",
   "id": "e482e2c7",
   "metadata": {},
   "source": [
    "#### Dropping a Column\n",
    "- drop() deletes rows and columns.\n",
    "- axis=1 specifies that we want to drop a column.\n",
    "- axis=0 will drop a row. "
   ]
  },
  {
   "cell_type": "code",
   "execution_count": 25,
   "id": "12eb9350",
   "metadata": {},
   "outputs": [
    {
     "name": "stdout",
     "output_type": "stream",
     "text": [
      "<class 'pandas.core.frame.DataFrame'>\n",
      "Index: 342 entries, 25.01.20 to 31.12.20\n",
      "Data columns (total 2 columns):\n",
      " #   Column  Non-Null Count  Dtype\n",
      "---  ------  --------------  -----\n",
      " 0   cases   342 non-null    int64\n",
      " 1   deaths  342 non-null    int64\n",
      "dtypes: int64(2)\n",
      "memory usage: 8.0+ KB\n"
     ]
    }
   ],
   "source": [
    "import pandas as pd\n",
    "\n",
    "df = pd.read_csv(\"https://www.sololearn.com/uploads/ca-covid.csv\")\n",
    "df.set_index('date', inplace=True)\n",
    "df.drop('state', axis=1, inplace=True)\n",
    "\n",
    "df.info()"
   ]
  },
  {
   "cell_type": "markdown",
   "id": "380ae36a",
   "metadata": {},
   "source": [
    "#### Practice\n",
    "\n",
    "You are working with the 'ca-covid' CSV file that contains the COVID-19 infection data in California for the year 2020.\n",
    "The file provides data on daily cases and deaths for the entire year.\n",
    "Find and output the row that corresponds to December 31, 2020. "
   ]
  },
  {
   "cell_type": "code",
   "execution_count": 54,
   "id": "d5771033",
   "metadata": {},
   "outputs": [
    {
     "name": "stdout",
     "output_type": "stream",
     "text": [
      "cases     32264\n",
      "deaths      574\n",
      "Name: 31.12.20, dtype: int64\n"
     ]
    }
   ],
   "source": [
    "import pandas as pd\n",
    "\n",
    "#df = pd.read_csv(\"/usercode/files/ca-covid.csv\")\n",
    "df = pd.read_csv(\"https://www.sololearn.com/uploads/ca-covid.csv\")\n",
    "df.set_index('date', inplace=True)\n",
    "df.drop('state', axis=1, inplace=True)\n",
    "\n",
    "print(df.iloc[-1])"
   ]
  },
  {
   "cell_type": "markdown",
   "id": "3b00126a",
   "metadata": {},
   "source": [
    "## 05 Working with Data"
   ]
  },
  {
   "cell_type": "markdown",
   "id": "30025640",
   "metadata": {},
   "source": [
    "#### Creating Columns"
   ]
  },
  {
   "cell_type": "code",
   "execution_count": 55,
   "id": "e50db160",
   "metadata": {},
   "outputs": [
    {
     "name": "stdout",
     "output_type": "stream",
     "text": [
      "          cases  deaths    month\n",
      "date                            \n",
      "25.01.20      1       0  January\n",
      "26.01.20      1       0  January\n",
      "27.01.20      0       0  January\n",
      "28.01.20      0       0  January\n",
      "29.01.20      0       0  January\n"
     ]
    }
   ],
   "source": [
    "import pandas as pd\n",
    "\n",
    "df = pd.read_csv(\"https://www.sololearn.com/uploads/ca-covid.csv\")\n",
    "\n",
    "df.drop('state', axis=1, inplace=True)\n",
    "\n",
    "df['month'] = pd.to_datetime(df['date'], format=\"%d.%m.%y\").dt.month_name()\n",
    "\n",
    "df.set_index('date', inplace=True)\n",
    "\n",
    "print(df.head())\n",
    "\n",
    "#ergebnis: eigene spalten erstellen (monat wird hinzugefügt auf basis des datums)\n",
    "#date wird zu month konvertiert in eigener spalte"
   ]
  },
  {
   "cell_type": "markdown",
   "id": "9043a6ee",
   "metadata": {},
   "source": [
    "#### Summary Statistics"
   ]
  },
  {
   "cell_type": "code",
   "execution_count": 4,
   "id": "8eeab9b7",
   "metadata": {},
   "outputs": [
    {
     "name": "stdout",
     "output_type": "stream",
     "text": [
      "              cases      deaths\n",
      "count    342.000000  342.000000\n",
      "mean    6747.862573   75.921053\n",
      "std    10023.201267   76.639861\n",
      "min        0.000000   -5.000000\n",
      "25%     1352.250000   22.000000\n",
      "50%     3462.500000   62.500000\n",
      "75%     7637.250000  104.000000\n",
      "max    64987.000000  574.000000\n",
      "\n",
      "<bound method NDFrame.describe of date\n",
      "25.01.20        1\n",
      "26.01.20        1\n",
      "27.01.20        0\n",
      "28.01.20        0\n",
      "29.01.20        0\n",
      "            ...  \n",
      "27.12.20    37555\n",
      "28.12.20    41720\n",
      "29.12.20    34166\n",
      "30.12.20    32386\n",
      "31.12.20    32264\n",
      "Name: cases, Length: 342, dtype: int64>\n"
     ]
    }
   ],
   "source": [
    "import pandas as pd\n",
    "\n",
    "df = pd.read_csv(\"https://www.sololearn.com/uploads/ca-covid.csv\")\n",
    "\n",
    "df.drop('state', axis=1, inplace=True)\n",
    "df['month'] = pd.to_datetime(df['date'], format=\"%d.%m.%y\").dt.month_name()\n",
    "df.set_index('date', inplace=True)\n",
    "\n",
    "print(df.describe()) #describe gibt alle statistischen berechnungen zum betrachteten file aus\n",
    "print('')\n",
    "print(df['cases'].describe) #für die betrachtung einzelner/ausgewählter spalten"
   ]
  },
  {
   "cell_type": "markdown",
   "id": "06266aa6",
   "metadata": {},
   "source": [
    "#### Practice"
   ]
  },
  {
   "cell_type": "code",
   "execution_count": 16,
   "id": "e24f2c81",
   "metadata": {},
   "outputs": [
    {
     "name": "stdout",
     "output_type": "stream",
     "text": [
      "          date  cases  deaths    weekday\n",
      "335 2020-12-25  16772      20     Friday\n",
      "336 2020-12-26  64987     257   Saturday\n",
      "337 2020-12-27  37555      62     Sunday\n",
      "338 2020-12-28  41720     246     Monday\n",
      "339 2020-12-29  34166     425    Tuesday\n",
      "340 2020-12-30  32386     437  Wednesday\n",
      "341 2020-12-31  32264     574   Thursday\n"
     ]
    }
   ],
   "source": [
    "import pandas as pd\n",
    "\n",
    "df = pd.read_csv(\"https://www.sololearn.com/uploads/ca-covid.csv\")\n",
    "\n",
    "df.drop('state', axis=1, inplace=True)\n",
    "df['date'] = pd.to_datetime(df['date'], format=\"%d.%m.%y\")\n",
    "\n",
    "df['weekday'] = df['date'].dt.strftime('%A') #.dt.strftime(\"%A\") konvertiert date in weekday\n",
    "print(df[-7:])"
   ]
  },
  {
   "cell_type": "markdown",
   "id": "49c4d05c",
   "metadata": {},
   "source": [
    "#### Beispiel"
   ]
  },
  {
   "cell_type": "code",
   "execution_count": 21,
   "id": "4745b696",
   "metadata": {},
   "outputs": [
    {
     "name": "stdout",
     "output_type": "stream",
     "text": [
      "9.0\n"
     ]
    }
   ],
   "source": [
    "import pandas as pd\n",
    "\n",
    "data = {\n",
    "    'height': [133, 120, 180, 100],\n",
    "    'age': [9, 7, 16, 4]\n",
    "}\n",
    "\n",
    "df = pd.DataFrame(data)\n",
    "print(df['age'].mean())"
   ]
  },
  {
   "cell_type": "markdown",
   "id": "e5675976",
   "metadata": {},
   "source": [
    "## 06 Grouping"
   ]
  },
  {
   "cell_type": "markdown",
   "id": "cb744b33",
   "metadata": {},
   "source": [
    "#### Werte zählen: .value_counts()"
   ]
  },
  {
   "cell_type": "code",
   "execution_count": 23,
   "id": "c93f181d",
   "metadata": {},
   "outputs": [
    {
     "name": "stdout",
     "output_type": "stream",
     "text": [
      "March        31\n",
      "May          31\n",
      "July         31\n",
      "August       31\n",
      "October      31\n",
      "December     31\n",
      "April        30\n",
      "June         30\n",
      "September    30\n",
      "November     30\n",
      "February     29\n",
      "January       7\n",
      "Name: month, dtype: int64\n"
     ]
    }
   ],
   "source": [
    "import pandas as pd\n",
    "\n",
    "df = pd.read_csv(\"https://www.sololearn.com/uploads/ca-covid.csv\")\n",
    "\n",
    "df.drop('state', axis=1, inplace=True)\n",
    "df['month'] = pd.to_datetime(df['date'], format=\"%d.%m.%y\").dt.month_name()\n",
    "df.set_index('date', inplace=True)\n",
    "\n",
    "print(df['month'].value_counts()) #gibt aus, wie viele werte in jedem monat berücksichtigt wurden\n",
    "#.value_counts(): wie oft ein wert im datenset auftaucht"
   ]
  },
  {
   "cell_type": "markdown",
   "id": "cb067335",
   "metadata": {},
   "source": [
    "#### Werte verrechnen"
   ]
  },
  {
   "cell_type": "code",
   "execution_count": 77,
   "id": "2b9e12a0",
   "metadata": {},
   "outputs": [
    {
     "name": "stdout",
     "output_type": "stream",
     "text": [
      "month\n",
      "April          41887\n",
      "August        210268\n",
      "December     1070577\n",
      "February          25\n",
      "January            3\n",
      "July          270120\n",
      "June          119039\n",
      "March           8555\n",
      "May            62644\n",
      "November      301944\n",
      "October       114123\n",
      "September     108584\n",
      "Name: cases, dtype: int64\n",
      "\n",
      "Gesamte Covid-Fälle im Jahr: 2307769 \n",
      "\n",
      "Höchste Anzahl an Covid-Fällen: 64987 \n",
      "\n",
      "KLeinste Anzahl an Covid-Fällen: 0 \n",
      "\n",
      "Durchschnitt an Covid-Fällen: 6747.862573099415\n"
     ]
    }
   ],
   "source": [
    "import pandas as pd\n",
    "\n",
    "df = pd.read_csv(\"https://www.sololearn.com/uploads/ca-covid.csv\")\n",
    "\n",
    "df.drop('state', axis=1, inplace=True)\n",
    "df['month'] = pd.to_datetime(df['date'], format=\"%d.%m.%y\").dt.month_name()\n",
    "df.set_index('date', inplace=True)\n",
    "\n",
    "print(df.groupby('month')['cases'].sum()) #fälle im monat, .groupby() gruppiert daten nach einer festgelegten spalte\n",
    "print('')\n",
    "print('Gesamte Covid-Fälle im Jahr:', df['cases'].sum(), '\\n') #fälle im jahr\n",
    "print('Höchste Anzahl an Covid-Fällen:', df['cases'].max(), '\\n')\n",
    "print('KLeinste Anzahl an Covid-Fällen:', df['cases'].min(), '\\n')\n",
    "print('Durchschnitt an Covid-Fällen:', df['cases'].mean())"
   ]
  },
  {
   "cell_type": "markdown",
   "id": "6011b718",
   "metadata": {},
   "source": [
    "#### Practice"
   ]
  },
  {
   "cell_type": "code",
   "execution_count": 76,
   "id": "d934754e",
   "metadata": {},
   "outputs": [
    {
     "name": "stdout",
     "output_type": "stream",
     "text": [
      "April\n",
      "            cases  deaths  month\n",
      "date                            \n",
      "2020-04-29   2334      77  April\n"
     ]
    }
   ],
   "source": [
    "import pandas as pd\n",
    "\n",
    "df = pd.read_csv(\"https://www.sololearn.com/uploads/ca-covid.csv\")\n",
    "\n",
    "df.drop('state', axis=1, inplace=True)\n",
    "df['date'] = pd.to_datetime(df['date'], format=\"%d.%m.%y\")\n",
    "df['month'] = df['date'].dt.month_name()\n",
    "df.set_index('date', inplace=True)\n",
    "\n",
    "month_user = input()\n",
    "maxim = df[df['month']==month_user]['cases'].max()\n",
    "print(df[df['cases']==maxim])"
   ]
  },
  {
   "cell_type": "code",
   "execution_count": 79,
   "id": "15769343",
   "metadata": {},
   "outputs": [],
   "source": [
    "#beispiel: max. alter für jeden namen finden:\n",
    "#df.goupby('name')['age'].max()"
   ]
  },
  {
   "cell_type": "code",
   "execution_count": null,
   "id": "f5e91438",
   "metadata": {},
   "outputs": [],
   "source": []
  }
 ],
 "metadata": {
  "kernelspec": {
   "display_name": "Python 3 (ipykernel)",
   "language": "python",
   "name": "python3"
  },
  "language_info": {
   "codemirror_mode": {
    "name": "ipython",
    "version": 3
   },
   "file_extension": ".py",
   "mimetype": "text/x-python",
   "name": "python",
   "nbconvert_exporter": "python",
   "pygments_lexer": "ipython3",
   "version": "3.9.7"
  }
 },
 "nbformat": 4,
 "nbformat_minor": 5
}
