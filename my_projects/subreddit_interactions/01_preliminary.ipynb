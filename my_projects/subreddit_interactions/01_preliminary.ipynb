{
 "cells": [
  {
   "cell_type": "markdown",
   "id": "6b801259",
   "metadata": {},
   "source": [
    "# Preliminary data analysis\n",
    "- Analyze the data\n",
    "- E.g., distribution of posts per subreddits (as source and as target)"
   ]
  },
  {
   "cell_type": "markdown",
   "id": "029877e6",
   "metadata": {},
   "source": [
    "## Data analysis of the training files"
   ]
  },
  {
   "cell_type": "code",
   "execution_count": 1,
   "id": "a6f93760",
   "metadata": {},
   "outputs": [],
   "source": [
    "import pandas as pd"
   ]
  },
  {
   "cell_type": "markdown",
   "id": "87c519ce",
   "metadata": {},
   "source": [
    "#### Read the training files"
   ]
  },
  {
   "cell_type": "code",
   "execution_count": 2,
   "id": "4b7f7901",
   "metadata": {
    "scrolled": true
   },
   "outputs": [],
   "source": [
    "df=pd.read_csv('soc-redditHyperlinks-body.tsv',sep='\\t')"
   ]
  },
  {
   "cell_type": "markdown",
   "id": "60364620",
   "metadata": {},
   "source": [
    "#### Take a look at our data"
   ]
  },
  {
   "cell_type": "code",
   "execution_count": 3,
   "id": "3a250db3",
   "metadata": {
    "scrolled": true
   },
   "outputs": [],
   "source": [
    "df.head()\n",
    "df.to_csv('my_dataframe.csv', columns=[\"SOURCE_SUBREDDIT\", \"TARGET_SUBREDDIT\", \"POST_ID\", \"TIMESTAMP\", \"LINK_SENTIMENT\"])"
   ]
  },
  {
   "cell_type": "code",
   "execution_count": 4,
   "id": "2657e966",
   "metadata": {},
   "outputs": [
    {
     "name": "stdout",
     "output_type": "stream",
     "text": [
      "<class 'pandas.core.frame.DataFrame'>\n",
      "RangeIndex: 281562 entries, 0 to 281561\n",
      "Data columns (total 6 columns):\n",
      " #   Column            Non-Null Count   Dtype \n",
      "---  ------            --------------   ----- \n",
      " 0   SOURCE_SUBREDDIT  281562 non-null  object\n",
      " 1   TARGET_SUBREDDIT  281562 non-null  object\n",
      " 2   POST_ID           281562 non-null  object\n",
      " 3   TIMESTAMP         281562 non-null  object\n",
      " 4   LINK_SENTIMENT    281562 non-null  int64 \n",
      " 5   PROPERTIES        281562 non-null  object\n",
      "dtypes: int64(1), object(5)\n",
      "memory usage: 12.9+ MB\n"
     ]
    }
   ],
   "source": [
    "df.info()"
   ]
  },
  {
   "cell_type": "code",
   "execution_count": 5,
   "id": "55b52b5c",
   "metadata": {},
   "outputs": [
    {
     "name": "stdout",
     "output_type": "stream",
     "text": [
      "earliest entry: 2014-01-01 10:08:48\n",
      "latest entry: 2017-04-30 16:58:21\n"
     ]
    }
   ],
   "source": [
    "print(f'earliest entry: {df[\"TIMESTAMP\"].min()}')\n",
    "print(f'latest entry: {df[\"TIMESTAMP\"].max()}')"
   ]
  },
  {
   "cell_type": "code",
   "execution_count": 6,
   "id": "4fb397c8",
   "metadata": {},
   "outputs": [
    {
     "name": "stdout",
     "output_type": "stream",
     "text": [
      "(281562, 6)\n",
      "1\n",
      "-1\n",
      "0.8530483516951861\n",
      "0.5218328054159836\n",
      "\n",
      "amount of positive and negatie values in column: LINK_SENTIMENT\n",
      " 1    260874\n",
      "-1     20688\n",
      "Name: count, dtype: int64\n"
     ]
    }
   ],
   "source": [
    "print(df.shape)\n",
    "print(df[\"LINK_SENTIMENT\"].max())\n",
    "print(df[\"LINK_SENTIMENT\"].min())\n",
    "print(df[\"LINK_SENTIMENT\"].mean())\n",
    "print(df[\"LINK_SENTIMENT\"].std())\n",
    "print(f'\\namount of positive and negatie values in column: {df[\"LINK_SENTIMENT\"].value_counts()}')"
   ]
  },
  {
   "cell_type": "markdown",
   "id": "631ef065",
   "metadata": {},
   "source": [
    "#### Data cleaning necessary?"
   ]
  },
  {
   "cell_type": "code",
   "execution_count": 7,
   "id": "20d49d23",
   "metadata": {},
   "outputs": [
    {
     "data": {
      "text/plain": [
       "SOURCE_SUBREDDIT    False\n",
       "TARGET_SUBREDDIT    False\n",
       "POST_ID             False\n",
       "TIMESTAMP           False\n",
       "LINK_SENTIMENT      False\n",
       "PROPERTIES          False\n",
       "dtype: bool"
      ]
     },
     "execution_count": 7,
     "metadata": {},
     "output_type": "execute_result"
    }
   ],
   "source": [
    "#check whether \n",
    "df.isna().any()"
   ]
  },
  {
   "cell_type": "code",
   "execution_count": 8,
   "id": "6b6a38fc",
   "metadata": {
    "scrolled": true
   },
   "outputs": [
    {
     "data": {
      "text/plain": [
       "False"
      ]
     },
     "execution_count": 8,
     "metadata": {},
     "output_type": "execute_result"
    }
   ],
   "source": [
    "#check for duplicates in all rows\n",
    "df.duplicated().any()"
   ]
  },
  {
   "cell_type": "markdown",
   "id": "2c3d2110",
   "metadata": {},
   "source": [
    "#### Check for duplicates in columns"
   ]
  },
  {
   "cell_type": "code",
   "execution_count": 9,
   "id": "81696cb8",
   "metadata": {},
   "outputs": [
    {
     "name": "stdout",
     "output_type": "stream",
     "text": [
      "SOURCE_SUBREDDIT\n",
      "True     253956\n",
      "False     27606\n",
      "Name: count, dtype: int64\n",
      "\n",
      "TARGET_SUBREDDIT\n",
      "True     261115\n",
      "False     20447\n",
      "Name: count, dtype: int64\n",
      "\n",
      "POST_ID\n",
      "False    254511\n",
      "True      27051\n",
      "Name: count, dtype: int64\n",
      "\n",
      "TIMESTAMP\n",
      "False    244073\n",
      "True      37489\n",
      "Name: count, dtype: int64\n",
      "\n",
      "PROPERTIES\n",
      "False    244180\n",
      "True      37382\n",
      "Name: count, dtype: int64\n"
     ]
    }
   ],
   "source": [
    "print(df[\"SOURCE_SUBREDDIT\"].duplicated().value_counts())\n",
    "print()\n",
    "print(df[\"TARGET_SUBREDDIT\"].duplicated().value_counts())\n",
    "print()\n",
    "print(df[\"POST_ID\"].duplicated().value_counts())\n",
    "print()\n",
    "print(df[\"TIMESTAMP\"].duplicated().value_counts())\n",
    "print()\n",
    "print(df[\"PROPERTIES\"].duplicated().value_counts())"
   ]
  },
  {
   "cell_type": "markdown",
   "id": "85be0d3e",
   "metadata": {},
   "source": [
    "#### Statistics for the positvie and negative values"
   ]
  },
  {
   "cell_type": "code",
   "execution_count": 10,
   "id": "37dcde50",
   "metadata": {
    "scrolled": false
   },
   "outputs": [
    {
     "data": {
      "text/html": [
       "<div>\n",
       "<style scoped>\n",
       "    .dataframe tbody tr th:only-of-type {\n",
       "        vertical-align: middle;\n",
       "    }\n",
       "\n",
       "    .dataframe tbody tr th {\n",
       "        vertical-align: top;\n",
       "    }\n",
       "\n",
       "    .dataframe thead tr th {\n",
       "        text-align: left;\n",
       "    }\n",
       "\n",
       "    .dataframe thead tr:last-of-type th {\n",
       "        text-align: right;\n",
       "    }\n",
       "</style>\n",
       "<table border=\"1\" class=\"dataframe\">\n",
       "  <thead>\n",
       "    <tr>\n",
       "      <th></th>\n",
       "      <th colspan=\"4\" halign=\"left\">SOURCE_SUBREDDIT</th>\n",
       "      <th colspan=\"4\" halign=\"left\">TARGET_SUBREDDIT</th>\n",
       "      <th colspan=\"4\" halign=\"left\">POST_ID</th>\n",
       "      <th colspan=\"4\" halign=\"left\">TIMESTAMP</th>\n",
       "      <th colspan=\"4\" halign=\"left\">PROPERTIES</th>\n",
       "    </tr>\n",
       "    <tr>\n",
       "      <th></th>\n",
       "      <th>count</th>\n",
       "      <th>unique</th>\n",
       "      <th>top</th>\n",
       "      <th>freq</th>\n",
       "      <th>count</th>\n",
       "      <th>unique</th>\n",
       "      <th>top</th>\n",
       "      <th>freq</th>\n",
       "      <th>count</th>\n",
       "      <th>unique</th>\n",
       "      <th>top</th>\n",
       "      <th>freq</th>\n",
       "      <th>count</th>\n",
       "      <th>unique</th>\n",
       "      <th>top</th>\n",
       "      <th>freq</th>\n",
       "      <th>count</th>\n",
       "      <th>unique</th>\n",
       "      <th>top</th>\n",
       "      <th>freq</th>\n",
       "    </tr>\n",
       "    <tr>\n",
       "      <th>LINK_SENTIMENT</th>\n",
       "      <th></th>\n",
       "      <th></th>\n",
       "      <th></th>\n",
       "      <th></th>\n",
       "      <th></th>\n",
       "      <th></th>\n",
       "      <th></th>\n",
       "      <th></th>\n",
       "      <th></th>\n",
       "      <th></th>\n",
       "      <th></th>\n",
       "      <th></th>\n",
       "      <th></th>\n",
       "      <th></th>\n",
       "      <th></th>\n",
       "      <th></th>\n",
       "      <th></th>\n",
       "      <th></th>\n",
       "      <th></th>\n",
       "      <th></th>\n",
       "    </tr>\n",
       "  </thead>\n",
       "  <tbody>\n",
       "    <tr>\n",
       "      <th>-1</th>\n",
       "      <td>20688</td>\n",
       "      <td>4119</td>\n",
       "      <td>subredditdrama</td>\n",
       "      <td>1418</td>\n",
       "      <td>20688</td>\n",
       "      <td>3885</td>\n",
       "      <td>askreddit</td>\n",
       "      <td>867</td>\n",
       "      <td>20688</td>\n",
       "      <td>18547</td>\n",
       "      <td>3yj2ee</td>\n",
       "      <td>53</td>\n",
       "      <td>20688</td>\n",
       "      <td>18099</td>\n",
       "      <td>2015-12-27 20:14:14</td>\n",
       "      <td>53</td>\n",
       "      <td>20688</td>\n",
       "      <td>18244</td>\n",
       "      <td>17234.0,16374.0,0.732041313682,0.0276778461181...</td>\n",
       "      <td>53</td>\n",
       "    </tr>\n",
       "    <tr>\n",
       "      <th>1</th>\n",
       "      <td>260874</td>\n",
       "      <td>27027</td>\n",
       "      <td>subredditdrama</td>\n",
       "      <td>3183</td>\n",
       "      <td>260874</td>\n",
       "      <td>19959</td>\n",
       "      <td>askreddit</td>\n",
       "      <td>6254</td>\n",
       "      <td>260874</td>\n",
       "      <td>235964</td>\n",
       "      <td>4asjoos</td>\n",
       "      <td>167</td>\n",
       "      <td>260874</td>\n",
       "      <td>227930</td>\n",
       "      <td>2014-08-20 14:40:53</td>\n",
       "      <td>360</td>\n",
       "      <td>260874</td>\n",
       "      <td>226640</td>\n",
       "      <td>39838.0,38917.0,0.656057030975,0.064335559014,...</td>\n",
       "      <td>167</td>\n",
       "    </tr>\n",
       "  </tbody>\n",
       "</table>\n",
       "</div>"
      ],
      "text/plain": [
       "               SOURCE_SUBREDDIT                              TARGET_SUBREDDIT  \\\n",
       "                          count unique             top  freq            count   \n",
       "LINK_SENTIMENT                                                                  \n",
       "-1                        20688   4119  subredditdrama  1418            20688   \n",
       " 1                       260874  27027  subredditdrama  3183           260874   \n",
       "\n",
       "                                       POST_ID                        \\\n",
       "               unique        top  freq   count  unique      top freq   \n",
       "LINK_SENTIMENT                                                         \n",
       "-1               3885  askreddit   867   20688   18547   3yj2ee   53   \n",
       " 1              19959  askreddit  6254  260874  235964  4asjoos  167   \n",
       "\n",
       "               TIMESTAMP                                   PROPERTIES          \\\n",
       "                   count  unique                  top freq      count  unique   \n",
       "LINK_SENTIMENT                                                                  \n",
       "-1                 20688   18099  2015-12-27 20:14:14   53      20688   18244   \n",
       " 1                260874  227930  2014-08-20 14:40:53  360     260874  226640   \n",
       "\n",
       "                                                                        \n",
       "                                                              top freq  \n",
       "LINK_SENTIMENT                                                          \n",
       "-1              17234.0,16374.0,0.732041313682,0.0276778461181...   53  \n",
       " 1              39838.0,38917.0,0.656057030975,0.064335559014,...  167  "
      ]
     },
     "execution_count": 10,
     "metadata": {},
     "output_type": "execute_result"
    }
   ],
   "source": [
    "df.groupby(\"LINK_SENTIMENT\").describe()"
   ]
  },
  {
   "cell_type": "markdown",
   "id": "62488cb6",
   "metadata": {},
   "source": [
    "#### Some more statistics according to the \"properties\" column\n",
    "0. Number of characters\n",
    "1. Number of characters without counting white space\n",
    "2. Fraction of alphabetical characters\n",
    "3. Fraction of digits\n",
    "4. Fraction of uppercase characters\n",
    "5. Fraction of white spaces\n",
    "6. Fraction of special characters, such as comma, exclamation mark, etc.\n",
    "7. Number of words\n",
    "8. Number of unique works\n",
    "9. Number of long words (at least 6 characters)\n",
    "10. Average word length\n",
    "11. Number of unique stopwords\n",
    "12. Fraction of stopwords\n",
    "13. Number of sentences\n",
    "14. Number of long sentences (at least 10 words)\n",
    "15. Average number of characters per sentence\n",
    "16. Average number of words per sentence\n",
    "17. Automated readability index\n",
    "18. Positive sentiment calculated by VADER\n",
    "29. Negative sentiment calculated by VADER\n",
    "20. Compound sentiment calculated by VADER\n",
    "\n",
    "source: https://snap.stanford.edu/data/soc-RedditHyperlinks.html"
   ]
  },
  {
   "cell_type": "code",
   "execution_count": 11,
   "id": "7b7946bb",
   "metadata": {},
   "outputs": [
    {
     "name": "stdout",
     "output_type": "stream",
     "text": [
      "type index number...0\n",
      "Maximum value: 9999.0\n",
      "Minimum value: 100.0\n"
     ]
    }
   ],
   "source": [
    "type_index = int(input(\"type index number...\"))\n",
    "print(f\"Maximum value: {df['PROPERTIES'].str.split(',').str[type_index].max()}\")\n",
    "print(f\"Minimum value: {df['PROPERTIES'].str.split(',').str[type_index].min()}\")"
   ]
  },
  {
   "cell_type": "markdown",
   "id": "b8fcb9de",
   "metadata": {},
   "source": [
    " "
   ]
  },
  {
   "cell_type": "markdown",
   "id": "5e0a76dd",
   "metadata": {},
   "source": [
    " "
   ]
  },
  {
   "cell_type": "markdown",
   "id": "1d4ba873",
   "metadata": {},
   "source": [
    "### Data analysis of the test files"
   ]
  },
  {
   "cell_type": "markdown",
   "id": "bebcae5a",
   "metadata": {},
   "source": [
    "#### Read the test files"
   ]
  },
  {
   "cell_type": "code",
   "execution_count": 12,
   "id": "d5eb987b",
   "metadata": {
    "scrolled": true
   },
   "outputs": [],
   "source": [
    "df2=pd.read_csv('soc-redditHyperlinks-body-test.tsv',sep='\\t')"
   ]
  },
  {
   "cell_type": "markdown",
   "id": "70b20194",
   "metadata": {},
   "source": [
    "#### Take a look at our data"
   ]
  },
  {
   "cell_type": "code",
   "execution_count": 13,
   "id": "0a4ce66a",
   "metadata": {},
   "outputs": [
    {
     "data": {
      "text/html": [
       "<div>\n",
       "<style scoped>\n",
       "    .dataframe tbody tr th:only-of-type {\n",
       "        vertical-align: middle;\n",
       "    }\n",
       "\n",
       "    .dataframe tbody tr th {\n",
       "        vertical-align: top;\n",
       "    }\n",
       "\n",
       "    .dataframe thead th {\n",
       "        text-align: right;\n",
       "    }\n",
       "</style>\n",
       "<table border=\"1\" class=\"dataframe\">\n",
       "  <thead>\n",
       "    <tr style=\"text-align: right;\">\n",
       "      <th></th>\n",
       "      <th>SOURCE_SUBREDDIT</th>\n",
       "      <th>TARGET_SUBREDDIT</th>\n",
       "      <th>POST_ID</th>\n",
       "      <th>TIMESTAMP</th>\n",
       "      <th>LINK_SENTIMENT</th>\n",
       "      <th>PROPERTIES</th>\n",
       "    </tr>\n",
       "  </thead>\n",
       "  <tbody>\n",
       "    <tr>\n",
       "      <th>0</th>\n",
       "      <td>gaming4gamers</td>\n",
       "      <td>fallout</td>\n",
       "      <td>1u5q84s</td>\n",
       "      <td>2014-01-01 06:55:04</td>\n",
       "      <td>1</td>\n",
       "      <td>102.0,102.0,0.803921568627,0.0294117647059,0.0...</td>\n",
       "    </tr>\n",
       "    <tr>\n",
       "      <th>1</th>\n",
       "      <td>kpop</td>\n",
       "      <td>dota2</td>\n",
       "      <td>1u5qg2s</td>\n",
       "      <td>2014-01-01 07:05:10</td>\n",
       "      <td>1</td>\n",
       "      <td>1050.0,938.0,0.705714285714,0.0419047619048,0....</td>\n",
       "    </tr>\n",
       "    <tr>\n",
       "      <th>2</th>\n",
       "      <td>airsoft</td>\n",
       "      <td>airsoftmarket</td>\n",
       "      <td>1u5r7js</td>\n",
       "      <td>2014-01-01 07:09:16</td>\n",
       "      <td>1</td>\n",
       "      <td>3788.0,3206.0,0.737856388596,0.0145195353749,0...</td>\n",
       "    </tr>\n",
       "    <tr>\n",
       "      <th>3</th>\n",
       "      <td>circlebroke</td>\n",
       "      <td>childfree</td>\n",
       "      <td>1u5rs9s</td>\n",
       "      <td>2014-01-01 06:51:30</td>\n",
       "      <td>1</td>\n",
       "      <td>1007.0,871.0,0.781529294935,0.00794438927507,0...</td>\n",
       "    </tr>\n",
       "    <tr>\n",
       "      <th>4</th>\n",
       "      <td>tribes</td>\n",
       "      <td>games</td>\n",
       "      <td>1u5syks</td>\n",
       "      <td>2014-01-01 09:06:30</td>\n",
       "      <td>1</td>\n",
       "      <td>1316.0,1108.0,0.788753799392,0.00303951367781,...</td>\n",
       "    </tr>\n",
       "  </tbody>\n",
       "</table>\n",
       "</div>"
      ],
      "text/plain": [
       "  SOURCE_SUBREDDIT TARGET_SUBREDDIT  POST_ID            TIMESTAMP  \\\n",
       "0    gaming4gamers          fallout  1u5q84s  2014-01-01 06:55:04   \n",
       "1             kpop            dota2  1u5qg2s  2014-01-01 07:05:10   \n",
       "2          airsoft    airsoftmarket  1u5r7js  2014-01-01 07:09:16   \n",
       "3      circlebroke        childfree  1u5rs9s  2014-01-01 06:51:30   \n",
       "4           tribes            games  1u5syks  2014-01-01 09:06:30   \n",
       "\n",
       "   LINK_SENTIMENT                                         PROPERTIES  \n",
       "0               1  102.0,102.0,0.803921568627,0.0294117647059,0.0...  \n",
       "1               1  1050.0,938.0,0.705714285714,0.0419047619048,0....  \n",
       "2               1  3788.0,3206.0,0.737856388596,0.0145195353749,0...  \n",
       "3               1  1007.0,871.0,0.781529294935,0.00794438927507,0...  \n",
       "4               1  1316.0,1108.0,0.788753799392,0.00303951367781,...  "
      ]
     },
     "execution_count": 13,
     "metadata": {},
     "output_type": "execute_result"
    }
   ],
   "source": [
    "df2.head()"
   ]
  },
  {
   "cell_type": "code",
   "execution_count": 14,
   "id": "8dc7f281",
   "metadata": {},
   "outputs": [
    {
     "name": "stdout",
     "output_type": "stream",
     "text": [
      "<class 'pandas.core.frame.DataFrame'>\n",
      "RangeIndex: 4999 entries, 0 to 4998\n",
      "Data columns (total 6 columns):\n",
      " #   Column            Non-Null Count  Dtype \n",
      "---  ------            --------------  ----- \n",
      " 0   SOURCE_SUBREDDIT  4999 non-null   object\n",
      " 1   TARGET_SUBREDDIT  4999 non-null   object\n",
      " 2   POST_ID           4999 non-null   object\n",
      " 3   TIMESTAMP         4999 non-null   object\n",
      " 4   LINK_SENTIMENT    4999 non-null   int64 \n",
      " 5   PROPERTIES        4999 non-null   object\n",
      "dtypes: int64(1), object(5)\n",
      "memory usage: 234.5+ KB\n"
     ]
    }
   ],
   "source": [
    "df2.info()"
   ]
  },
  {
   "cell_type": "code",
   "execution_count": 73,
   "id": "899a9936",
   "metadata": {},
   "outputs": [
    {
     "name": "stdout",
     "output_type": "stream",
     "text": [
      "shape:(4999, 6)\n",
      "max value: 1\n",
      "min value: -1\n",
      "mean value: 0.8471694338867773\n",
      "standard deviation value: 0.5313759814588873\n",
      "\n",
      "amount of positive and negatie values in column: LINK_SENTIMENT\n",
      " 1    4617\n",
      "-1     382\n",
      "Name: count, dtype: int64\n",
      "\n",
      "amount of positive values (test data): 0.9235847169433887\n",
      "amount of negative values (test data): 0.07641528305661133\n",
      "amount of positive values (training data): 0.9265241758475931\n",
      "amount of negative values (training data): 0.07347582415240693\n",
      "differences test data/training data (positive values): 0.0029394589042043284\n",
      "differences test data/training data (negative values): 0.002939458904204398\n",
      "\n",
      "deviations/relations test data/training data (mean, standard deviation):\n",
      "mean relation: 0.9931083416353527\n",
      "mean deviation: 0.006891658364647335\n",
      "std relation: 0.9820406334198566\n",
      "std deviation: 0.018287803955322923\n"
     ]
    }
   ],
   "source": [
    "print(f'shape:{df2.shape}')\n",
    "print(f'max value: {df2[\"LINK_SENTIMENT\"].max()}')\n",
    "print(f'min value: {df2[\"LINK_SENTIMENT\"].min()}')\n",
    "print(f'mean value: {df2[\"LINK_SENTIMENT\"].mean()}')\n",
    "print(f'standard deviation value: {df2[\"LINK_SENTIMENT\"].std()}')\n",
    "print(f'\\namount of positive and negatie values in column: {df2[\"LINK_SENTIMENT\"].value_counts()}')\n",
    "\n",
    "print()\n",
    "\n",
    "print(f'amount of positive values (test data): {df2[\"LINK_SENTIMENT\"].value_counts()[1]/df2.shape[0]}')\n",
    "print(f'amount of negative values (test data): {df2[\"LINK_SENTIMENT\"].value_counts()[-1]/df2.shape[0]}')\n",
    "print(f'amount of positive values (training data): {df[\"LINK_SENTIMENT\"].value_counts()[1]/df.shape[0]}')\n",
    "print(f'amount of negative values (training data): {df[\"LINK_SENTIMENT\"].value_counts()[-1]/df.shape[0]}')\n",
    "print(f'differences test data/training data (positive values): {abs(df2[\"LINK_SENTIMENT\"].value_counts()[1]/df2.shape[0]-df[\"LINK_SENTIMENT\"].value_counts()[1]/df.shape[0])}')\n",
    "print(f'differences test data/training data (negative values): {abs(df2[\"LINK_SENTIMENT\"].value_counts()[-1]/df2.shape[0]-df[\"LINK_SENTIMENT\"].value_counts()[-1]/df.shape[0])}')\n",
    "\n",
    "\n",
    "print()\n",
    "\n",
    "print('deviations/relations test data/training data (mean, standard deviation):')\n",
    "print(f'mean relation: {df2[\"LINK_SENTIMENT\"].mean()/df[\"LINK_SENTIMENT\"].mean()}')\n",
    "print(f'mean deviation: {abs(1-df2[\"LINK_SENTIMENT\"].mean()/df[\"LINK_SENTIMENT\"].mean())}')\n",
    "print(f'std relation: {df[\"LINK_SENTIMENT\"].std()/df2[\"LINK_SENTIMENT\"].std()}')\n",
    "print(f'std deviation: {abs(1-df2[\"LINK_SENTIMENT\"].std()/df[\"LINK_SENTIMENT\"].std())}')"
   ]
  },
  {
   "cell_type": "markdown",
   "id": "e159d444",
   "metadata": {},
   "source": [
    "#### Data cleaning necessary?"
   ]
  },
  {
   "cell_type": "code",
   "execution_count": 16,
   "id": "5c4c9305",
   "metadata": {},
   "outputs": [
    {
     "data": {
      "text/plain": [
       "SOURCE_SUBREDDIT    False\n",
       "TARGET_SUBREDDIT    False\n",
       "POST_ID             False\n",
       "TIMESTAMP           False\n",
       "LINK_SENTIMENT      False\n",
       "PROPERTIES          False\n",
       "dtype: bool"
      ]
     },
     "execution_count": 16,
     "metadata": {},
     "output_type": "execute_result"
    }
   ],
   "source": [
    "#check whether \n",
    "df2.isna().any()"
   ]
  },
  {
   "cell_type": "code",
   "execution_count": 17,
   "id": "7c81d722",
   "metadata": {
    "scrolled": true
   },
   "outputs": [
    {
     "data": {
      "text/plain": [
       "False"
      ]
     },
     "execution_count": 17,
     "metadata": {},
     "output_type": "execute_result"
    }
   ],
   "source": [
    "#check for duplicates in all rows\n",
    "df2.duplicated().any()"
   ]
  },
  {
   "cell_type": "markdown",
   "id": "ee737ccb",
   "metadata": {},
   "source": [
    "#### Check for duplicates in columns"
   ]
  },
  {
   "cell_type": "code",
   "execution_count": 18,
   "id": "52b957b9",
   "metadata": {},
   "outputs": [
    {
     "name": "stdout",
     "output_type": "stream",
     "text": [
      "SOURCE_SUBREDDIT\n",
      "True     3168\n",
      "False    1831\n",
      "Name: count, dtype: int64\n",
      "\n",
      "TARGET_SUBREDDIT\n",
      "True     3487\n",
      "False    1512\n",
      "Name: count, dtype: int64\n",
      "\n",
      "POST_ID\n",
      "False    4581\n",
      "True      418\n",
      "Name: count, dtype: int64\n",
      "\n",
      "TIMESTAMP\n",
      "False    4392\n",
      "True      607\n",
      "Name: count, dtype: int64\n",
      "\n",
      "PROPERTIES\n",
      "False    4490\n",
      "True      509\n",
      "Name: count, dtype: int64\n"
     ]
    }
   ],
   "source": [
    "print(df2[\"SOURCE_SUBREDDIT\"].duplicated().value_counts())\n",
    "print()\n",
    "print(df2[\"TARGET_SUBREDDIT\"].duplicated().value_counts())\n",
    "print()\n",
    "print(df2[\"POST_ID\"].duplicated().value_counts())\n",
    "print()\n",
    "print(df2[\"TIMESTAMP\"].duplicated().value_counts())\n",
    "print()\n",
    "print(df2[\"PROPERTIES\"].duplicated().value_counts())"
   ]
  },
  {
   "cell_type": "markdown",
   "id": "84d928c6",
   "metadata": {},
   "source": [
    "#### Statistics for the positvie and negative values"
   ]
  },
  {
   "cell_type": "code",
   "execution_count": 86,
   "id": "161bdb3d",
   "metadata": {
    "scrolled": true
   },
   "outputs": [
    {
     "data": {
      "text/html": [
       "<div>\n",
       "<style scoped>\n",
       "    .dataframe tbody tr th:only-of-type {\n",
       "        vertical-align: middle;\n",
       "    }\n",
       "\n",
       "    .dataframe tbody tr th {\n",
       "        vertical-align: top;\n",
       "    }\n",
       "\n",
       "    .dataframe thead tr th {\n",
       "        text-align: left;\n",
       "    }\n",
       "\n",
       "    .dataframe thead tr:last-of-type th {\n",
       "        text-align: right;\n",
       "    }\n",
       "</style>\n",
       "<table border=\"1\" class=\"dataframe\">\n",
       "  <thead>\n",
       "    <tr>\n",
       "      <th></th>\n",
       "      <th colspan=\"4\" halign=\"left\">SOURCE_SUBREDDIT</th>\n",
       "      <th colspan=\"4\" halign=\"left\">TARGET_SUBREDDIT</th>\n",
       "      <th colspan=\"4\" halign=\"left\">POST_ID</th>\n",
       "      <th colspan=\"4\" halign=\"left\">TIMESTAMP</th>\n",
       "      <th colspan=\"4\" halign=\"left\">PROPERTIES</th>\n",
       "    </tr>\n",
       "    <tr>\n",
       "      <th></th>\n",
       "      <th>count</th>\n",
       "      <th>unique</th>\n",
       "      <th>top</th>\n",
       "      <th>freq</th>\n",
       "      <th>count</th>\n",
       "      <th>unique</th>\n",
       "      <th>top</th>\n",
       "      <th>freq</th>\n",
       "      <th>count</th>\n",
       "      <th>unique</th>\n",
       "      <th>top</th>\n",
       "      <th>freq</th>\n",
       "      <th>count</th>\n",
       "      <th>unique</th>\n",
       "      <th>top</th>\n",
       "      <th>freq</th>\n",
       "      <th>count</th>\n",
       "      <th>unique</th>\n",
       "      <th>top</th>\n",
       "      <th>freq</th>\n",
       "    </tr>\n",
       "    <tr>\n",
       "      <th>LINK_SENTIMENT</th>\n",
       "      <th></th>\n",
       "      <th></th>\n",
       "      <th></th>\n",
       "      <th></th>\n",
       "      <th></th>\n",
       "      <th></th>\n",
       "      <th></th>\n",
       "      <th></th>\n",
       "      <th></th>\n",
       "      <th></th>\n",
       "      <th></th>\n",
       "      <th></th>\n",
       "      <th></th>\n",
       "      <th></th>\n",
       "      <th></th>\n",
       "      <th></th>\n",
       "      <th></th>\n",
       "      <th></th>\n",
       "      <th></th>\n",
       "      <th></th>\n",
       "    </tr>\n",
       "  </thead>\n",
       "  <tbody>\n",
       "    <tr>\n",
       "      <th>-1</th>\n",
       "      <td>382</td>\n",
       "      <td>184</td>\n",
       "      <td>circlebroke</td>\n",
       "      <td>31</td>\n",
       "      <td>382</td>\n",
       "      <td>207</td>\n",
       "      <td>askreddit</td>\n",
       "      <td>25</td>\n",
       "      <td>382</td>\n",
       "      <td>349</td>\n",
       "      <td>1v3273</td>\n",
       "      <td>9</td>\n",
       "      <td>382</td>\n",
       "      <td>344</td>\n",
       "      <td>2014-01-12 20:30:55</td>\n",
       "      <td>9</td>\n",
       "      <td>382</td>\n",
       "      <td>347</td>\n",
       "      <td>9956.0,8601.0,0.787364403375,0.00693049417437,...</td>\n",
       "      <td>13</td>\n",
       "    </tr>\n",
       "    <tr>\n",
       "      <th>1</th>\n",
       "      <td>4617</td>\n",
       "      <td>1786</td>\n",
       "      <td>dailydot</td>\n",
       "      <td>140</td>\n",
       "      <td>4617</td>\n",
       "      <td>1458</td>\n",
       "      <td>askreddit</td>\n",
       "      <td>183</td>\n",
       "      <td>4617</td>\n",
       "      <td>4232</td>\n",
       "      <td>1wt4ots</td>\n",
       "      <td>23</td>\n",
       "      <td>4617</td>\n",
       "      <td>4090</td>\n",
       "      <td>2014-01-17 14:40:58</td>\n",
       "      <td>124</td>\n",
       "      <td>4617</td>\n",
       "      <td>4151</td>\n",
       "      <td>3992.0,3774.0,0.740731462926,0.0225450901804,0...</td>\n",
       "      <td>23</td>\n",
       "    </tr>\n",
       "  </tbody>\n",
       "</table>\n",
       "</div>"
      ],
      "text/plain": [
       "               SOURCE_SUBREDDIT                          TARGET_SUBREDDIT  \\\n",
       "                          count unique          top freq            count   \n",
       "LINK_SENTIMENT                                                              \n",
       "-1                          382    184  circlebroke   31              382   \n",
       " 1                         4617   1786     dailydot  140             4617   \n",
       "\n",
       "                                      POST_ID                      TIMESTAMP  \\\n",
       "               unique        top freq   count unique      top freq     count   \n",
       "LINK_SENTIMENT                                                                 \n",
       "-1                207  askreddit   25     382    349   1v3273    9       382   \n",
       " 1               1458  askreddit  183    4617   4232  1wt4ots   23      4617   \n",
       "\n",
       "                                                PROPERTIES         \\\n",
       "               unique                  top freq      count unique   \n",
       "LINK_SENTIMENT                                                      \n",
       "-1                344  2014-01-12 20:30:55    9        382    347   \n",
       " 1               4090  2014-01-17 14:40:58  124       4617   4151   \n",
       "\n",
       "                                                                        \n",
       "                                                              top freq  \n",
       "LINK_SENTIMENT                                                          \n",
       "-1              9956.0,8601.0,0.787364403375,0.00693049417437,...   13  \n",
       " 1              3992.0,3774.0,0.740731462926,0.0225450901804,0...   23  "
      ]
     },
     "execution_count": 86,
     "metadata": {},
     "output_type": "execute_result"
    }
   ],
   "source": [
    "df2.groupby(\"LINK_SENTIMENT\").describe()"
   ]
  },
  {
   "cell_type": "markdown",
   "id": "a0ed2121",
   "metadata": {},
   "source": [
    "#### Some more statistics according to the \"properties\" column\n",
    "0. Number of characters\n",
    "1. Number of characters without counting white space\n",
    "2. Fraction of alphabetical characters\n",
    "3. Fraction of digits\n",
    "4. Fraction of uppercase characters\n",
    "5. Fraction of white spaces\n",
    "6. Fraction of special characters, such as comma, exclamation mark, etc.\n",
    "7. Number of words\n",
    "8. Number of unique works\n",
    "9. Number of long words (at least 6 characters)\n",
    "10. Average word length\n",
    "11. Number of unique stopwords\n",
    "12. Fraction of stopwords\n",
    "13. Number of sentences\n",
    "14. Number of long sentences (at least 10 words)\n",
    "15. Average number of characters per sentence\n",
    "16. Average number of words per sentence\n",
    "17. Automated readability index\n",
    "18. Positive sentiment calculated by VADER\n",
    "29. Negative sentiment calculated by VADER\n",
    "20. Compound sentiment calculated by VADER\n",
    "\n",
    "source: https://snap.stanford.edu/data/soc-RedditHyperlinks.html"
   ]
  },
  {
   "cell_type": "code",
   "execution_count": 84,
   "id": "50a0171c",
   "metadata": {},
   "outputs": [
    {
     "name": "stdout",
     "output_type": "stream",
     "text": [
      "type index number...10\n",
      "Maximum value: 9.9\n",
      "Minimum value: 10.0\n"
     ]
    }
   ],
   "source": [
    "type_index = int(input(\"type index number...\"))\n",
    "print(f\"Maximum value: {df2['PROPERTIES'].str.split(',').str[type_index].max()}\")\n",
    "print(f\"Minimum value: {df2['PROPERTIES'].str.split(',').str[type_index].min()}\")"
   ]
  },
  {
   "cell_type": "code",
   "execution_count": null,
   "id": "591efd14",
   "metadata": {},
   "outputs": [],
   "source": []
  }
 ],
 "metadata": {
  "kernelspec": {
   "display_name": "Python 3 (ipykernel)",
   "language": "python",
   "name": "python3"
  },
  "language_info": {
   "codemirror_mode": {
    "name": "ipython",
    "version": 3
   },
   "file_extension": ".py",
   "mimetype": "text/x-python",
   "name": "python",
   "nbconvert_exporter": "python",
   "pygments_lexer": "ipython3",
   "version": "3.11.4"
  }
 },
 "nbformat": 4,
 "nbformat_minor": 5
}
