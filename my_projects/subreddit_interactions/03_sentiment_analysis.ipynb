{
 "cells": [
  {
   "cell_type": "markdown",
   "id": "88d946b0",
   "metadata": {
    "id": "88d946b0"
   },
   "source": [
    "## Subtask #2: Machine learning to predict message sentiment\n",
    "- Use all available information as features and try to learn to predict the sentiment label with a supervised machine learning model\n",
    "- Do use given features, but feel free to compute additional features from the graph structure\n",
    "- Play with different ML models (in sklearn)\n",
    "<br></br>\n",
    "Statistical comparison of models/results\n",
    "- Determine if one model is statistically dsignificantly better than another\n",
    "- Pick a suitable statistical test and apply it!"
   ]
  },
  {
   "cell_type": "code",
   "execution_count": 20,
   "id": "582962c0",
   "metadata": {
    "executionInfo": {
     "elapsed": 355,
     "status": "ok",
     "timestamp": 1691312504481,
     "user": {
      "displayName": "Sim Don",
      "userId": "09290070938786203900"
     },
     "user_tz": -120
    },
    "id": "582962c0"
   },
   "outputs": [],
   "source": [
    "import warnings\n",
    "import sklearn\n",
    "import os\n",
    "\n",
    "warnings.filterwarnings(\"ignore\")"
   ]
  },
  {
   "cell_type": "code",
   "execution_count": 21,
   "id": "ABrjJGS1k4Ae",
   "metadata": {
    "colab": {
     "base_uri": "https://localhost:8080/"
    },
    "executionInfo": {
     "elapsed": 2273,
     "status": "ok",
     "timestamp": 1691312508774,
     "user": {
      "displayName": "Sim Don",
      "userId": "09290070938786203900"
     },
     "user_tz": -120
    },
    "id": "ABrjJGS1k4Ae",
    "outputId": "26ad1e0b-c34b-4d5d-9fdf-1783017a2646"
   },
   "outputs": [
    {
     "name": "stdout",
     "output_type": "stream",
     "text": [
      "Drive already mounted at /content/drive; to attempt to forcibly remount, call drive.mount(\"/content/drive\", force_remount=True).\n",
      " data2file.txt\t\t\t\t   rating.csv\n",
      " DUMMYfinal_project_subtask2-DUMMY.ipynb   soc-redditHyperlinks-body-test.tsv\n",
      " final_project_preliminary.ipynb\t   soc-redditHyperlinks-body.tsv\n",
      " final_project_subtask1.ipynb\t\t   test.ipynb\n",
      " final_project_subtask2.ipynb\t\t   Untitled\n",
      "'Kopie von node2vec_movielens'\n"
     ]
    }
   ],
   "source": [
    "from google.colab import drive\n",
    "drive.mount('/content/drive')\n",
    "\n",
    "#df=pd.read_csv('/home/soc-redditHyperlinks-body.tsv',sep='\\t')\n",
    "os.chdir(\"/content/drive/MyDrive/Colab Notebooks/\")\n",
    "!ls"
   ]
  },
  {
   "cell_type": "markdown",
   "id": "1aa0955d",
   "metadata": {
    "id": "1aa0955d"
   },
   "source": [
    "### Training Data"
   ]
  },
  {
   "cell_type": "code",
   "execution_count": null,
   "id": "9bd5fd23",
   "metadata": {
    "colab": {
     "base_uri": "https://localhost:8080/"
    },
    "id": "9bd5fd23",
    "outputId": "f670841a-77e6-4414-93c2-4ebaf7f37498",
    "scrolled": true
   },
   "outputs": [
    {
     "name": "stdout",
     "output_type": "stream",
     "text": [
      "Choose your model: 1=LogisticRegression, 2=MultinomialNB, 3=DecisionTreeClassifier, 4=RandomForestClassifier\n",
      "3\n",
      "DecisionTreeClassifier\n"
     ]
    }
   ],
   "source": [
    "import pandas as pd\n",
    "import numpy as np\n",
    "from sklearn.feature_extraction.text import CountVectorizer\n",
    "from sklearn.linear_model import LogisticRegression\n",
    "from sklearn.naive_bayes import MultinomialNB\n",
    "from sklearn.tree import DecisionTreeClassifier\n",
    "from sklearn.ensemble import RandomForestClassifier\n",
    "\n",
    "#load the data\n",
    "#df_train = pd.read_csv('/home/ds2_files/soc-redditHyperlinks-body.tsv',sep='\\t')\n",
    "df_train = pd.read_csv('soc-redditHyperlinks-body.tsv',sep='\\t')\n",
    "#df_train = df_train[:100000] #for faster execution: split the training data into the first 100,000 rows\n",
    "\n",
    "#preprocess the data\n",
    "vectorizer = CountVectorizer()\n",
    "X_train = vectorizer.fit_transform(df_train[\"PROPERTIES\"])\n",
    "y_train = df_train[\"LINK_SENTIMENT\"]\n",
    "\n",
    "#train the model\n",
    "#model = LogisticRegression()\n",
    "model_input = int(input(\"Choose your model: 1=LogisticRegression, 2=MultinomialNB, 3=DecisionTreeClassifier, 4=RandomForestClassifier\\n\"))\n",
    "if model_input==1:\n",
    "    print(\"LogisticRegression\")\n",
    "    model=LogisticRegression()\n",
    "elif model_input==2:\n",
    "    print(\"MultinomialNB\")\n",
    "    model=MultinomialNB()\n",
    "elif model_input==3:\n",
    "    print(\"DecisionTreeClassifier\")\n",
    "    model=DecisionTreeClassifier()\n",
    "elif model_input==4:\n",
    "    print(\"RandomForestClassifier\")\n",
    "    model=RandomForestClassifier()\n",
    "model.fit(X_train, y_train)\n",
    "\n",
    "print()\n",
    "\n",
    "#predict sentiments\n",
    "y_pred = model.predict(X_train)\n",
    "print(y_pred)"
   ]
  },
  {
   "cell_type": "code",
   "execution_count": null,
   "id": "628e83eb",
   "metadata": {
    "colab": {
     "base_uri": "https://localhost:8080/"
    },
    "executionInfo": {
     "elapsed": 690,
     "status": "ok",
     "timestamp": 1691154309345,
     "user": {
      "displayName": "Sim Don",
      "userId": "09290070938786203900"
     },
     "user_tz": -120
    },
    "id": "628e83eb",
    "outputId": "c392a501-101c-4b6b-f34e-cef03ea28653"
   },
   "outputs": [
    {
     "name": "stdout",
     "output_type": "stream",
     "text": [
      "accuracy: 0.9557042498632627\n",
      "precision: 0.9556597474447306\n",
      "recall: 0.9985203584872391\n",
      "f1 score: 0.9766200266942607\n"
     ]
    }
   ],
   "source": [
    "from sklearn.metrics import accuracy_score, precision_score, recall_score, f1_score\n",
    "\n",
    "print(\"accuracy:\", accuracy_score(y_train, y_pred))\n",
    "print(\"precision:\", precision_score(y_train, y_pred))\n",
    "print(\"recall:\", recall_score(y_train, y_pred))\n",
    "print(\"f1 score:\", f1_score(y_train, y_pred))"
   ]
  },
  {
   "cell_type": "markdown",
   "id": "43b86e7a",
   "metadata": {
    "id": "43b86e7a"
   },
   "source": [
    "### Test Data"
   ]
  },
  {
   "cell_type": "code",
   "execution_count": 24,
   "id": "90d769de",
   "metadata": {
    "colab": {
     "base_uri": "https://localhost:8080/"
    },
    "executionInfo": {
     "elapsed": 4197,
     "status": "ok",
     "timestamp": 1691312659139,
     "user": {
      "displayName": "Sim Don",
      "userId": "09290070938786203900"
     },
     "user_tz": -120
    },
    "id": "90d769de",
    "outputId": "6735af59-f6b4-4e2b-af0f-b5b4a939daa4",
    "scrolled": true
   },
   "outputs": [
    {
     "name": "stdout",
     "output_type": "stream",
     "text": [
      "Choose your model: 1=LogisticRegression, 2=MultinomialNB, 3=DecisionTreeClassifier, 4=RandomForestClassifier\n",
      "1\n",
      "LogisticRegression\n",
      "[1 1 1 ... 1 1 1]\n",
      "(4999, 6)\n"
     ]
    }
   ],
   "source": [
    "import pandas as pd\n",
    "import numpy as np\n",
    "from sklearn.feature_extraction.text import CountVectorizer\n",
    "from sklearn.linear_model import LogisticRegression\n",
    "from sklearn.model_selection import cross_val_score\n",
    "from sklearn.naive_bayes import MultinomialNB\n",
    "from sklearn.tree import DecisionTreeClassifier\n",
    "from sklearn.ensemble import RandomForestClassifier\n",
    "\n",
    "\n",
    "#load the data\n",
    "df_test = pd.read_csv('soc-redditHyperlinks-body-test.tsv',sep='\\t')\n",
    "\n",
    "#preprocess the data\n",
    "vectorizer = CountVectorizer()\n",
    "X_test = vectorizer.fit_transform(df_test[\"PROPERTIES\"].values)\n",
    "y_test = df_test[\"LINK_SENTIMENT\"].values\n",
    "\n",
    "#train the model\n",
    "#model = LogisticRegression()\n",
    "model_input = int(input(\"Choose your model: 1=LogisticRegression, 2=MultinomialNB, 3=DecisionTreeClassifier, 4=RandomForestClassifier\\n\"))\n",
    "if model_input==1:\n",
    "    print(\"LogisticRegression\")\n",
    "    model=LogisticRegression()\n",
    "elif model_input==2:\n",
    "    print(\"MultinomialNB\")\n",
    "    model=MultinomialNB()\n",
    "elif model_input==3:\n",
    "    print(\"DecisionTreeClassifier\")\n",
    "    model=DecisionTreeClassifier()\n",
    "elif model_input==4:\n",
    "    print(\"RandomForestClassifier\")\n",
    "    model=RandomForestClassifier()\n",
    "\n",
    "#train the model\n",
    "#model = LogisticRegression()\n",
    "model.fit(X_test, y_test)\n",
    "\n",
    "#evaluate the model\n",
    "#score = model.score(X_test, y_test)\n",
    "#print(\"Accuracy:\", score)\n",
    "\n",
    "#predict sentiments\n",
    "y_pred = model.predict(X_test)\n",
    "print(y_pred)\n",
    "\n",
    "print(df_test.shape)\n",
    "\n",
    "#write data to file\n",
    "#with open('data2file.txt', 'a') as file:\n",
    "    #file.write(f'\\nShape of the test data: {df_test.shape}')\n",
    "    #file.write('\\n\\n******************************************************************************************************************\\n\\n')"
   ]
  },
  {
   "cell_type": "code",
   "execution_count": null,
   "id": "97505d63",
   "metadata": {
    "colab": {
     "base_uri": "https://localhost:8080/"
    },
    "executionInfo": {
     "elapsed": 401014,
     "status": "ok",
     "timestamp": 1691245146928,
     "user": {
      "displayName": "Sim Don",
      "userId": "09290070938786203900"
     },
     "user_tz": -120
    },
    "id": "97505d63",
    "outputId": "735df1d2-2db8-437e-e4e6-d57db3f89109",
    "scrolled": true
   },
   "outputs": [
    {
     "name": "stdout",
     "output_type": "stream",
     "text": [
      "CV Acurracy Scores: [0.924      0.924      0.924      0.924      0.92192192]\n",
      "CV Precision Scores: [0.924      0.924      0.92392392 0.92392392 0.92462312]\n",
      "CV Recall Scores: [1.         1.         1.         1.         0.99674973]\n",
      "CV F1 score Scores: [0.96049896 0.96049896 0.96045786 0.96045786 0.95933264]\n",
      "\n",
      "Acurracy: 0.9235843843843844\n",
      "Precision: 0.9240941926851475\n",
      "Recall: 0.9993499458288191\n",
      "F1 score: 0.9602492543923686\n"
     ]
    }
   ],
   "source": [
    "# Calculate other scores\n",
    "accuracy = cross_val_score(model, X_test, y_test, cv=5, scoring='accuracy')\n",
    "precision = cross_val_score(model, X_test, y_test, cv=5, scoring='precision')\n",
    "recall = cross_val_score(model, X_test, y_test, cv=5, scoring='recall')\n",
    "f1 = cross_val_score(model, X_test, y_test, cv=5, scoring='f1')\n",
    "\n",
    "# Print the cross validation scores\n",
    "print(\"CV Acurracy Scores:\", accuracy)\n",
    "print(\"CV Precision Scores:\", precision)\n",
    "print(\"CV Recall Scores:\", recall)\n",
    "print(\"CV F1 score Scores:\", f1)\n",
    "\n",
    "print()\n",
    "\n",
    "#print the scores from the cv results\n",
    "print(\"Acurracy:\", np.mean(accuracy))\n",
    "print(\"Precision:\", np.mean(precision))\n",
    "print(\"Recall:\", np.mean(recall))\n",
    "print(\"F1 score:\", np.mean(f1))"
   ]
  },
  {
   "cell_type": "markdown",
   "id": "a918343e",
   "metadata": {
    "id": "a918343e"
   },
   "source": [
    "#### Check whether predictions are correct"
   ]
  },
  {
   "cell_type": "code",
   "execution_count": null,
   "id": "355a37d2",
   "metadata": {
    "colab": {
     "base_uri": "https://localhost:8080/"
    },
    "executionInfo": {
     "elapsed": 790,
     "status": "ok",
     "timestamp": 1691245572096,
     "user": {
      "displayName": "Sim Don",
      "userId": "09290070938786203900"
     },
     "user_tz": -120
    },
    "id": "355a37d2",
    "outputId": "7031759c-0423-495a-f99b-5b138f015643"
   },
   "outputs": [
    {
     "name": "stdout",
     "output_type": "stream",
     "text": [
      "4989\n",
      "0.997999599919984\n"
     ]
    }
   ],
   "source": [
    "#array erstellen, das vorhersagbare werte enthält\n",
    "y_pred = model.predict(X_test)\n",
    "\n",
    "#erstellt ein array mit boolean-werten, ob modell jeden passagier korrekt vorhergesagt hat\n",
    "y_test == y_pred\n",
    "\n",
    "#anzahl der true-werte ausgeben über sum()\n",
    "print((y_test==y_pred).sum())\n",
    "#ergebnis: 714 => modell macht korrekte vorhersage\n",
    "\n",
    "#korrekte prozentzahl ausgeben durch teilen durch alle passagiere dank y.shape[0]\n",
    "#ergebnis: unser 'accuracy score'\n",
    "print((y_test==y_pred).sum() / y_test.shape[0]) #relate to the term paper (max count in y_test.shape is: 4999)"
   ]
  },
  {
   "cell_type": "markdown",
   "id": "083a066c",
   "metadata": {
    "id": "083a066c"
   },
   "source": [
    "#### Predicting with scores"
   ]
  },
  {
   "cell_type": "code",
   "execution_count": null,
   "id": "688e3111",
   "metadata": {
    "colab": {
     "base_uri": "https://localhost:8080/"
    },
    "executionInfo": {
     "elapsed": 5715,
     "status": "ok",
     "timestamp": 1691229677330,
     "user": {
      "displayName": "Sim Don",
      "userId": "09290070938786203900"
     },
     "user_tz": -120
    },
    "id": "688e3111",
    "outputId": "6be50c3c-20ac-467e-afe5-fee159f0de56"
   },
   "outputs": [
    {
     "name": "stdout",
     "output_type": "stream",
     "text": [
      "Enter a threshold value between 0.0 and 0.9 ...0.5\n",
      "precision: 0.9219843968793758\n",
      "recall: 0.9219843968793758\n"
     ]
    }
   ],
   "source": [
    "from sklearn.metrics import accuracy_score, precision_score, recall_score, f1_score\n",
    "\n",
    "#current threshold: 0.5\n",
    "model.predict_proba(X_test)\n",
    "\n",
    "#try threshold: 0.5, 0.6, 0.7, 0.4, 0.1, 0.01, 1e-8, 1e-20, 1e-1000\n",
    "threshold = float(input(\"Enter a threshold value between 0.0 and 0.9 ...\"))\n",
    "\n",
    "#choose a new threshold: 0.75\n",
    "y_pred = model.predict_proba(X_test)[:,1] > threshold\n",
    "\n",
    "#make new prediction via precision und recall\n",
    "print('precision:', precision_score(y_test, y_pred, average='micro'))\n",
    "print('recall:', recall_score(y_test, y_pred, average='micro'))\n",
    "\n",
    "#write data to file\n",
    "#with open('data2file.txt', 'a') as file:\n",
    "    #file.write(f'threshold value: {threshold}\\n')\n",
    "    #file.write(f\"precision: {precision_score(y_test, y_pred, average='micro')}\\n\")\n",
    "    #file.write(f\"recall: {recall_score(y_test, y_pred, average='micro')}\")"
   ]
  },
  {
   "cell_type": "markdown",
   "id": "e65431e4",
   "metadata": {
    "id": "e65431e4"
   },
   "source": [
    "#### Find the best fitting line"
   ]
  },
  {
   "cell_type": "code",
   "execution_count": null,
   "id": "93a58796",
   "metadata": {
    "colab": {
     "base_uri": "https://localhost:8080/",
     "height": 217
    },
    "executionInfo": {
     "elapsed": 250,
     "status": "error",
     "timestamp": 1691229680436,
     "user": {
      "displayName": "Sim Don",
      "userId": "09290070938786203900"
     },
     "user_tz": -120
    },
    "id": "93a58796",
    "outputId": "96745726-a0dd-4c77-bc76-7eab2a260797"
   },
   "outputs": [
    {
     "ename": "AttributeError",
     "evalue": "ignored",
     "output_type": "error",
     "traceback": [
      "\u001b[0;31m---------------------------------------------------------------------------\u001b[0m",
      "\u001b[0;31mAttributeError\u001b[0m                            Traceback (most recent call last)",
      "\u001b[0;32m<ipython-input-8-8cf9957fd7e6>\u001b[0m in \u001b[0;36m<cell line: 3>\u001b[0;34m()\u001b[0m\n\u001b[1;32m      1\u001b[0m \u001b[0;31m#select the best fitting line using the coefficients .coef_ and intercept_\u001b[0m\u001b[0;34m\u001b[0m\u001b[0;34m\u001b[0m\u001b[0m\n\u001b[1;32m      2\u001b[0m \u001b[0;31m#the result is the equation for the equation line: Wert1*x + Wert2 *y + Wert3\u001b[0m\u001b[0;34m\u001b[0m\u001b[0;34m\u001b[0m\u001b[0m\n\u001b[0;32m----> 3\u001b[0;31m \u001b[0mprint\u001b[0m\u001b[0;34m(\u001b[0m\u001b[0mmodel\u001b[0m\u001b[0;34m.\u001b[0m\u001b[0mcoef_\u001b[0m\u001b[0;34m,\u001b[0m \u001b[0mmodel\u001b[0m\u001b[0;34m.\u001b[0m\u001b[0mintercept_\u001b[0m\u001b[0;34m)\u001b[0m\u001b[0;34m\u001b[0m\u001b[0;34m\u001b[0m\u001b[0m\n\u001b[0m",
      "\u001b[0;31mAttributeError\u001b[0m: 'DecisionTreeClassifier' object has no attribute 'coef_'"
     ]
    }
   ],
   "source": [
    "#select the best fitting line using the coefficients .coef_ and intercept_\n",
    "#the result is the equation for the equation line: Wert1*x + Wert2 *y + Wert3\n",
    "print(model.coef_, model.intercept_)"
   ]
  },
  {
   "cell_type": "markdown",
   "id": "d714d31d",
   "metadata": {
    "id": "d714d31d"
   },
   "source": [
    "#### Classification Report"
   ]
  },
  {
   "cell_type": "code",
   "execution_count": null,
   "id": "a1c376cc",
   "metadata": {
    "colab": {
     "base_uri": "https://localhost:8080/"
    },
    "executionInfo": {
     "elapsed": 250,
     "status": "ok",
     "timestamp": 1691229683338,
     "user": {
      "displayName": "Sim Don",
      "userId": "09290070938786203900"
     },
     "user_tz": -120
    },
    "id": "a1c376cc",
    "outputId": "0d0c03cb-5c84-438f-e6df-8fa89fdbca4b",
    "scrolled": true
   },
   "outputs": [
    {
     "name": "stdout",
     "output_type": "stream",
     "text": [
      "              precision    recall  f1-score   support\n",
      "\n",
      "          -1       0.00      0.00      0.00       382\n",
      "           0       0.00      0.00      0.00         0\n",
      "           1       1.00      1.00      1.00      4617\n",
      "\n",
      "    accuracy                           0.92      4999\n",
      "   macro avg       0.33      0.33      0.33      4999\n",
      "weighted avg       0.92      0.92      0.92      4999\n",
      "\n"
     ]
    }
   ],
   "source": [
    "from sklearn.metrics import classification_report\n",
    "\n",
    "print(classification_report(y_true=y_test, y_pred=y_pred))"
   ]
  },
  {
   "cell_type": "markdown",
   "id": "a07d998c",
   "metadata": {
    "id": "a07d998c"
   },
   "source": [
    "#### Confusion Matrix"
   ]
  },
  {
   "cell_type": "code",
   "execution_count": null,
   "id": "c19ccf05",
   "metadata": {
    "colab": {
     "base_uri": "https://localhost:8080/",
     "height": 792
    },
    "executionInfo": {
     "elapsed": 931,
     "status": "ok",
     "timestamp": 1691229687980,
     "user": {
      "displayName": "Sim Don",
      "userId": "09290070938786203900"
     },
     "user_tz": -120
    },
    "id": "c19ccf05",
    "outputId": "e0d5b5e0-9d2b-49fb-925d-e0268c8bcd60"
   },
   "outputs": [
    {
     "data": {
      "text/plain": [
       "<Axes: >"
      ]
     },
     "execution_count": 10,
     "metadata": {},
     "output_type": "execute_result"
    },
    {
     "data": {
      "image/png": "[encoded data removed]",
      "text/plain": [
       "<Figure size 1000x1000 with 2 Axes>"
      ]
     },
     "metadata": {},
     "output_type": "display_data"
    }
   ],
   "source": [
    "import matplotlib.pyplot as plt\n",
    "import seaborn as sns\n",
    "from sklearn.metrics import confusion_matrix\n",
    "\n",
    "conf_mat = pd.DataFrame(data=confusion_matrix(y_true=y_test, y_pred=y_pred))\n",
    "\n",
    "fig, ax = plt.subplots(figsize=(10, 10))\n",
    "sns.heatmap(conf_mat, annot=True, annot_kws={'size': 10}, ax=ax)"
   ]
  },
  {
   "cell_type": "code",
   "execution_count": null,
   "id": "yTG9Ty2rJmYH",
   "metadata": {
    "colab": {
     "base_uri": "https://localhost:8080/",
     "height": 442
    },
    "executionInfo": {
     "elapsed": 244,
     "status": "error",
     "timestamp": 1691229691131,
     "user": {
      "displayName": "Sim Don",
      "userId": "09290070938786203900"
     },
     "user_tz": -120
    },
    "id": "yTG9Ty2rJmYH",
    "outputId": "0828eb0e-c9d1-4e49-82c7-b4c0db06ca25"
   },
   "outputs": [
    {
     "ename": "ValueError",
     "evalue": "ignored",
     "output_type": "error",
     "traceback": [
      "\u001b[0;31m---------------------------------------------------------------------------\u001b[0m",
      "\u001b[0;31mValueError\u001b[0m                                Traceback (most recent call last)",
      "\u001b[0;32m<ipython-input-11-e583137bd7c5>\u001b[0m in \u001b[0;36m<cell line: 5>\u001b[0;34m()\u001b[0m\n\u001b[1;32m      3\u001b[0m \u001b[0;32mfrom\u001b[0m \u001b[0msklearn\u001b[0m\u001b[0;34m.\u001b[0m\u001b[0mmetrics\u001b[0m \u001b[0;32mimport\u001b[0m \u001b[0mconfusion_matrix\u001b[0m\u001b[0;34m\u001b[0m\u001b[0;34m\u001b[0m\u001b[0m\n\u001b[1;32m      4\u001b[0m \u001b[0;34m\u001b[0m\u001b[0m\n\u001b[0;32m----> 5\u001b[0;31m conf_mat = pd.DataFrame(data=confusion_matrix(y_true=y_test, y_pred=y_pred),\n\u001b[0m\u001b[1;32m      6\u001b[0m                         \u001b[0mindex\u001b[0m\u001b[0;34m=\u001b[0m\u001b[0;34m[\u001b[0m\u001b[0;34m\"Actual Negative\"\u001b[0m\u001b[0;34m,\u001b[0m \u001b[0;34m\"Actual Positive\"\u001b[0m\u001b[0;34m]\u001b[0m\u001b[0;34m,\u001b[0m\u001b[0;34m\u001b[0m\u001b[0;34m\u001b[0m\u001b[0m\n\u001b[1;32m      7\u001b[0m                         columns=[\"Predicted Negative\", \"Predicted Positive\"])\n",
      "\u001b[0;32m/usr/local/lib/python3.10/dist-packages/pandas/core/frame.py\u001b[0m in \u001b[0;36m__init__\u001b[0;34m(self, data, index, columns, dtype, copy)\u001b[0m\n\u001b[1;32m    720\u001b[0m                 )\n\u001b[1;32m    721\u001b[0m             \u001b[0;32melse\u001b[0m\u001b[0;34m:\u001b[0m\u001b[0;34m\u001b[0m\u001b[0;34m\u001b[0m\u001b[0m\n\u001b[0;32m--> 722\u001b[0;31m                 mgr = ndarray_to_mgr(\n\u001b[0m\u001b[1;32m    723\u001b[0m                     \u001b[0mdata\u001b[0m\u001b[0;34m,\u001b[0m\u001b[0;34m\u001b[0m\u001b[0;34m\u001b[0m\u001b[0m\n\u001b[1;32m    724\u001b[0m                     \u001b[0mindex\u001b[0m\u001b[0;34m,\u001b[0m\u001b[0;34m\u001b[0m\u001b[0;34m\u001b[0m\u001b[0m\n",
      "\u001b[0;32m/usr/local/lib/python3.10/dist-packages/pandas/core/internals/construction.py\u001b[0m in \u001b[0;36mndarray_to_mgr\u001b[0;34m(values, index, columns, dtype, copy, typ)\u001b[0m\n\u001b[1;32m    347\u001b[0m     )\n\u001b[1;32m    348\u001b[0m \u001b[0;34m\u001b[0m\u001b[0m\n\u001b[0;32m--> 349\u001b[0;31m     \u001b[0m_check_values_indices_shape_match\u001b[0m\u001b[0;34m(\u001b[0m\u001b[0mvalues\u001b[0m\u001b[0;34m,\u001b[0m \u001b[0mindex\u001b[0m\u001b[0;34m,\u001b[0m \u001b[0mcolumns\u001b[0m\u001b[0;34m)\u001b[0m\u001b[0;34m\u001b[0m\u001b[0;34m\u001b[0m\u001b[0m\n\u001b[0m\u001b[1;32m    350\u001b[0m \u001b[0;34m\u001b[0m\u001b[0m\n\u001b[1;32m    351\u001b[0m     \u001b[0;32mif\u001b[0m \u001b[0mtyp\u001b[0m \u001b[0;34m==\u001b[0m \u001b[0;34m\"array\"\u001b[0m\u001b[0;34m:\u001b[0m\u001b[0;34m\u001b[0m\u001b[0;34m\u001b[0m\u001b[0m\n",
      "\u001b[0;32m/usr/local/lib/python3.10/dist-packages/pandas/core/internals/construction.py\u001b[0m in \u001b[0;36m_check_values_indices_shape_match\u001b[0;34m(values, index, columns)\u001b[0m\n\u001b[1;32m    418\u001b[0m         \u001b[0mpassed\u001b[0m \u001b[0;34m=\u001b[0m \u001b[0mvalues\u001b[0m\u001b[0;34m.\u001b[0m\u001b[0mshape\u001b[0m\u001b[0;34m\u001b[0m\u001b[0;34m\u001b[0m\u001b[0m\n\u001b[1;32m    419\u001b[0m         \u001b[0mimplied\u001b[0m \u001b[0;34m=\u001b[0m \u001b[0;34m(\u001b[0m\u001b[0mlen\u001b[0m\u001b[0;34m(\u001b[0m\u001b[0mindex\u001b[0m\u001b[0;34m)\u001b[0m\u001b[0;34m,\u001b[0m \u001b[0mlen\u001b[0m\u001b[0;34m(\u001b[0m\u001b[0mcolumns\u001b[0m\u001b[0;34m)\u001b[0m\u001b[0;34m)\u001b[0m\u001b[0;34m\u001b[0m\u001b[0;34m\u001b[0m\u001b[0m\n\u001b[0;32m--> 420\u001b[0;31m         \u001b[0;32mraise\u001b[0m \u001b[0mValueError\u001b[0m\u001b[0;34m(\u001b[0m\u001b[0;34mf\"Shape of passed values is {passed}, indices imply {implied}\"\u001b[0m\u001b[0;34m)\u001b[0m\u001b[0;34m\u001b[0m\u001b[0;34m\u001b[0m\u001b[0m\n\u001b[0m\u001b[1;32m    421\u001b[0m \u001b[0;34m\u001b[0m\u001b[0m\n\u001b[1;32m    422\u001b[0m \u001b[0;34m\u001b[0m\u001b[0m\n",
      "\u001b[0;31mValueError\u001b[0m: Shape of passed values is (3, 3), indices imply (2, 2)"
     ]
    }
   ],
   "source": [
    "import matplotlib.pyplot as plt\n",
    "import seaborn as sns\n",
    "from sklearn.metrics import confusion_matrix\n",
    "\n",
    "conf_mat = pd.DataFrame(data=confusion_matrix(y_true=y_test, y_pred=y_pred),\n",
    "                        index=[\"Actual Negative\", \"Actual Positive\"],\n",
    "                        columns=[\"Predicted Negative\", \"Predicted Positive\"])\n",
    "\n",
    "fig, ax = plt.subplots(figsize=(10, 10))\n",
    "sns.heatmap(conf_mat, annot=True, annot_kws={'size': 10}, ax=ax)\n"
   ]
  },
  {
   "cell_type": "markdown",
   "id": "3532005d",
   "metadata": {
    "id": "3532005d"
   },
   "source": [
    "#### Applying K-fold cross-validation"
   ]
  },
  {
   "cell_type": "code",
   "execution_count": null,
   "id": "e50S-SwT-kig",
   "metadata": {
    "id": "e50S-SwT-kig"
   },
   "outputs": [],
   "source": [
    "#with open(\"data2file.txt\", \"a\") as file:\n",
    "    #file.write('******************************************************************************************************************')"
   ]
  },
  {
   "cell_type": "code",
   "execution_count": null,
   "id": "55dcd20e",
   "metadata": {
    "colab": {
     "base_uri": "https://localhost:8080/"
    },
    "executionInfo": {
     "elapsed": 13223,
     "status": "ok",
     "timestamp": 1691229713749,
     "user": {
      "displayName": "Sim Don",
      "userId": "09290070938786203900"
     },
     "user_tz": -120
    },
    "id": "55dcd20e",
    "outputId": "e1fa636a-f224-4a07-d031-769c7913d809"
   },
   "outputs": [
    {
     "name": "stdout",
     "output_type": "stream",
     "text": [
      "Please enter a kfold value (standard=5)...5\n",
      "accuracy: 0.921586986986987\n",
      "precision: 0.9331699016379152\n",
      "recall: 0.985702853654654\n",
      "f1 score: 0.9586980369965661\n"
     ]
    }
   ],
   "source": [
    "from sklearn.model_selection import KFold\n",
    "\n",
    "\n",
    "#k-fold: 5, 3, 10, 20, 15, 8, 11, 9, 10\n",
    "n_splits = int(input(\"Please enter a kfold value (standard=5)...\"))\n",
    "kf = KFold(n_splits, shuffle=True)\n",
    "\n",
    "def score_model(X, y, kf):\n",
    "    accuracy_scores = []\n",
    "    precision_scores = []\n",
    "    recall_scores = []\n",
    "    f1_scores = []\n",
    "    for train_index, test_index in kf.split(X):\n",
    "        X_train, X_test = X[train_index], X[test_index]\n",
    "        y_train, y_test = y[train_index], y[test_index]\n",
    "        model = LogisticRegression()\n",
    "        model.fit(X_train, y_train)\n",
    "        y_pred = model.predict(X_test)\n",
    "        accuracy_scores.append(accuracy_score(y_test, y_pred))\n",
    "        precision_scores.append(precision_score(y_test, y_pred))\n",
    "        recall_scores.append(recall_score(y_test, y_pred))\n",
    "        f1_scores.append(f1_score(y_test, y_pred))\n",
    "    return f\"accuracy: {np.mean(accuracy_scores)}\\nprecision: {np.mean(precision_scores)}\\nrecall: {np.mean(recall_scores)}\\nf1 score: {np.mean(f1_scores)}\"\n",
    "\n",
    "score = score_model(X_test, y_test, kf)\n",
    "print(score)\n",
    "\n",
    "#write data to file\n",
    "#with open(\"data2file.txt\", \"a\") as file:\n",
    "    #file.write(f\"kfold value: {n_splits}\\n\")\n",
    "    #file.write(\"kfold metrics:\\n\")\n",
    "    #file.write(str(score) + \"\\n\\n\")\n"
   ]
  },
  {
   "cell_type": "code",
   "execution_count": null,
   "id": "6sRSF_zb_EIn",
   "metadata": {
    "id": "6sRSF_zb_EIn"
   },
   "outputs": [],
   "source": [
    "#with open(\"data2file.txt\", \"a\") as file:\n",
    "  #file.write(3*'******************************************************************************************************************\\n')"
   ]
  },
  {
   "cell_type": "markdown",
   "id": "f6dbcea0",
   "metadata": {
    "id": "f6dbcea0"
   },
   "source": [
    "#### Implementing Grid Search: finding the best parameters"
   ]
  },
  {
   "cell_type": "code",
   "execution_count": null,
   "id": "t9p443k5CjdH",
   "metadata": {
    "id": "t9p443k5CjdH"
   },
   "outputs": [],
   "source": [
    "import pandas as pd\n",
    "import numpy as np\n",
    "from sklearn.feature_extraction.text import CountVectorizer\n",
    "from sklearn.linear_model import LogisticRegression\n",
    "from sklearn.naive_bayes import MultinomialNB\n",
    "from sklearn.tree import DecisionTreeClassifier\n",
    "from sklearn.ensemble import RandomForestClassifier\n",
    "\n",
    "#load the data\n",
    "#df_train = pd.read_csv('/home/ds2_files/soc-redditHyperlinks-body.tsv',sep='\\t')\n",
    "df_train = pd.read_csv('soc-redditHyperlinks-body.tsv',sep='\\t')\n",
    "\n",
    "#preprocess the data\n",
    "vectorizer = CountVectorizer()\n",
    "X_train = vectorizer.fit_transform(df_train[\"PROPERTIES\"])\n",
    "y_train = df_train[\"LINK_SENTIMENT\"]"
   ]
  },
  {
   "cell_type": "code",
   "execution_count": null,
   "id": "8c21f04a",
   "metadata": {
    "id": "8c21f04a"
   },
   "outputs": [],
   "source": [
    "from sklearn.model_selection import GridSearchCV\n",
    "\n",
    "if model_input==3:\n",
    "    #parameters for decision trees\n",
    "    parameters = {\n",
    "        \"max_depth\": [5, 15, 25],\n",
    "        \"min_samples_leaf\": [1, 3],\n",
    "        \"max_leaf_nodes\": [10, 20, 35, 50],\n",
    "    }\n",
    "elif model_input==2:\n",
    "    # parameters for MultinomialNB\n",
    "    parameters = {\n",
    "        \"alpha\": [0.1, 1.0, 10.0],\n",
    "        \"fit_prior\": [True, False],\n",
    "        \"class_prior\": [[0.5, 0.5], [0.6, 0.4], [0.7, 0.3]],\n",
    "    }\n",
    "elif model_input==4:\n",
    "    parameters = {\n",
    "        'n_estimators': [10, 25, 50, 75, 100],\n",
    "    }\n",
    "    #'max_features': [10, 20, 30, 40] #4 werte zustätzlich schafft laptop nicht mehr\n",
    "else:\n",
    "    parameters = {\n",
    "      \"C\": np.linspace(0.1, 10, 10),\n",
    "      \"penalty\": [\"l1\", \"l2\"],\n",
    "      }\n",
    "\n",
    "#create a grid search object\n",
    "grid_search = GridSearchCV(model, parameters, cv=5)\n",
    "\n",
    "#fit the grid search object to the data\n",
    "grid_search.fit(X_train, y_train)\n",
    "\n",
    "#print the best parameters\n",
    "print(grid_search.best_params_)\n",
    "\n",
    "#print the best score\n",
    "print(grid_search.best_score_)\n"
   ]
  },
  {
   "cell_type": "code",
   "execution_count": null,
   "id": "416e8cbb",
   "metadata": {
    "colab": {
     "base_uri": "https://localhost:8080/",
     "height": 201
    },
    "executionInfo": {
     "elapsed": 3,
     "status": "error",
     "timestamp": 1690575427153,
     "user": {
      "displayName": "Sim Don",
      "userId": "09290070938786203900"
     },
     "user_tz": -120
    },
    "id": "416e8cbb",
    "outputId": "b8998b61-8852-448a-e6c3-424e8d48a519"
   },
   "outputs": [
    {
     "ename": "NameError",
     "evalue": "ignored",
     "output_type": "error",
     "traceback": [
      "\u001b[0;31m---------------------------------------------------------------------------\u001b[0m",
      "\u001b[0;31mNameError\u001b[0m                                 Traceback (most recent call last)",
      "\u001b[0;32m<ipython-input-1-6986c765ddaa>\u001b[0m in \u001b[0;36m<cell line: 1>\u001b[0;34m()\u001b[0m\n\u001b[0;32m----> 1\u001b[0;31m \u001b[0;32mif\u001b[0m \u001b[0mmodel_input\u001b[0m\u001b[0;34m==\u001b[0m\u001b[0;36m4\u001b[0m\u001b[0;34m:\u001b[0m\u001b[0;34m\u001b[0m\u001b[0;34m\u001b[0m\u001b[0m\n\u001b[0m\u001b[1;32m      2\u001b[0m     \u001b[0mscores\u001b[0m \u001b[0;34m=\u001b[0m \u001b[0mgrid_search\u001b[0m\u001b[0;34m.\u001b[0m\u001b[0mcv_results_\u001b[0m\u001b[0;34m[\u001b[0m\u001b[0;34m'mean_test_score'\u001b[0m\u001b[0;34m]\u001b[0m\u001b[0;34m\u001b[0m\u001b[0;34m\u001b[0m\u001b[0m\n\u001b[1;32m      3\u001b[0m     \u001b[0mprint\u001b[0m\u001b[0;34m(\u001b[0m\u001b[0mscores\u001b[0m\u001b[0;34m)\u001b[0m\u001b[0;34m\u001b[0m\u001b[0;34m\u001b[0m\u001b[0m\n",
      "\u001b[0;31mNameError\u001b[0m: name 'model_input' is not defined"
     ]
    }
   ],
   "source": [
    "if model_input==4:\n",
    "    scores = grid_search.cv_results_['mean_test_score']\n",
    "    print(scores)"
   ]
  },
  {
   "cell_type": "code",
   "execution_count": null,
   "id": "53762872",
   "metadata": {
    "colab": {
     "base_uri": "https://localhost:8080/",
     "height": 236
    },
    "executionInfo": {
     "elapsed": 249,
     "status": "error",
     "timestamp": 1690562181337,
     "user": {
      "displayName": "Sim Don",
      "userId": "09290070938786203900"
     },
     "user_tz": -120
    },
    "id": "53762872",
    "outputId": "e67803b6-a45b-4591-fed3-af7f04285f8d"
   },
   "outputs": [
    {
     "ename": "NameError",
     "evalue": "ignored",
     "output_type": "error",
     "traceback": [
      "\u001b[0;31m---------------------------------------------------------------------------\u001b[0m",
      "\u001b[0;31mNameError\u001b[0m                                 Traceback (most recent call last)",
      "\u001b[0;32m<ipython-input-63-bfa1015e1a2a>\u001b[0m in \u001b[0;36m<cell line: 6>\u001b[0;34m()\u001b[0m\n\u001b[1;32m      4\u001b[0m \u001b[0mscores\u001b[0m \u001b[0;34m=\u001b[0m \u001b[0mgrid_search\u001b[0m\u001b[0;34m.\u001b[0m\u001b[0mcv_results_\u001b[0m\u001b[0;34m[\u001b[0m\u001b[0;34m'mean_test_score'\u001b[0m\u001b[0;34m]\u001b[0m\u001b[0;34m\u001b[0m\u001b[0;34m\u001b[0m\u001b[0m\n\u001b[1;32m      5\u001b[0m \u001b[0;34m\u001b[0m\u001b[0m\n\u001b[0;32m----> 6\u001b[0;31m \u001b[0mplt\u001b[0m\u001b[0;34m.\u001b[0m\u001b[0mplot\u001b[0m\u001b[0;34m(\u001b[0m\u001b[0mn_estimators\u001b[0m\u001b[0;34m,\u001b[0m \u001b[0mscores\u001b[0m\u001b[0;34m)\u001b[0m\u001b[0;34m\u001b[0m\u001b[0;34m\u001b[0m\u001b[0m\n\u001b[0m\u001b[1;32m      7\u001b[0m \u001b[0mplt\u001b[0m\u001b[0;34m.\u001b[0m\u001b[0mxlabel\u001b[0m\u001b[0;34m(\u001b[0m\u001b[0;34m\"n_estimators\"\u001b[0m\u001b[0;34m)\u001b[0m\u001b[0;34m\u001b[0m\u001b[0;34m\u001b[0m\u001b[0m\n\u001b[1;32m      8\u001b[0m \u001b[0mplt\u001b[0m\u001b[0;34m.\u001b[0m\u001b[0mylabel\u001b[0m\u001b[0;34m(\u001b[0m\u001b[0;34m\"accuracy\"\u001b[0m\u001b[0;34m)\u001b[0m\u001b[0;34m\u001b[0m\u001b[0;34m\u001b[0m\u001b[0m\n",
      "\u001b[0;31mNameError\u001b[0m: name 'n_estimators' is not defined"
     ]
    }
   ],
   "source": [
    "#ergebnisse von zuvor dann über matplotlib als graph darstellen\n",
    "import matplotlib.pyplot as plt\n",
    "\n",
    "scores = grid_search.cv_results_['mean_test_score']\n",
    "\n",
    "plt.plot(n_estimators, scores)\n",
    "plt.xlabel(\"n_estimators\")\n",
    "plt.ylabel(\"accuracy\")\n",
    "plt.xlim(0, 100)\n",
    "plt.ylim(0.9, 1)\n",
    "plt.show()\n",
    "\n",
    "#ergebnis: bestes modell bei n_estimators=33 und =64\n",
    "#dennoch: lieber möglichst kleinen wert nahe an bester performance nehmen\n",
    "#=> bei 10 noch performant (siehe graph)\n",
    "#also: optimum=10 trees"
   ]
  },
  {
   "cell_type": "markdown",
   "id": "3b65d023",
   "metadata": {
    "id": "3b65d023"
   },
   "source": [
    "<hr style=\"border-top: 1px solid\"></hr>"
   ]
  },
  {
   "cell_type": "markdown",
   "id": "f15d088c",
   "metadata": {
    "id": "f15d088c"
   },
   "source": [
    "### Significance tests"
   ]
  },
  {
   "cell_type": "markdown",
   "id": "b3b24a49",
   "metadata": {
    "id": "b3b24a49"
   },
   "source": [
    "#### T-Test\n",
    "C:\\Users\\Simon\\data_science02\\vorlesung05\\evaluation.ipynb"
   ]
  },
  {
   "cell_type": "code",
   "execution_count": null,
   "id": "47d956f3",
   "metadata": {
    "colab": {
     "base_uri": "https://localhost:8080/"
    },
    "executionInfo": {
     "elapsed": 438,
     "status": "ok",
     "timestamp": 1691246572048,
     "user": {
      "displayName": "Sim Don",
      "userId": "09290070938786203900"
     },
     "user_tz": -120
    },
    "id": "47d956f3",
    "outputId": "0233bc04-2bc5-44b8-c920-d89c3eeca380"
   },
   "outputs": [
    {
     "name": "stdout",
     "output_type": "stream",
     "text": [
      "T-statistic: 0.07537438732209384\n",
      "P-value: 0.939918345521451\n"
     ]
    }
   ],
   "source": [
    "from scipy.stats import ttest_ind\n",
    "\n",
    "t_statistic, p_value = ttest_ind(y_pred, y_test)\n",
    "\n",
    "print(f\"T-statistic: {t_statistic}\")\n",
    "print(f\"P-value: {p_value}\")"
   ]
  },
  {
   "cell_type": "markdown",
   "id": "c4bf901d",
   "metadata": {
    "id": "c4bf901d"
   },
   "source": [
    "#### Wilcoxon"
   ]
  },
  {
   "cell_type": "code",
   "execution_count": null,
   "id": "8414ffae",
   "metadata": {
    "colab": {
     "base_uri": "https://localhost:8080/"
    },
    "executionInfo": {
     "elapsed": 3,
     "status": "ok",
     "timestamp": 1691246569599,
     "user": {
      "displayName": "Sim Don",
      "userId": "09290070938786203900"
     },
     "user_tz": -120
    },
    "id": "8414ffae",
    "outputId": "62beeec1-8298-4db0-883b-088ba819930c"
   },
   "outputs": [
    {
     "name": "stdout",
     "output_type": "stream",
     "text": [
      "Wilcoxon signed-rank test: T-statistic: 22.0\n",
      "P-value: 0.5270892568655381\n"
     ]
    }
   ],
   "source": [
    "#perform a Wilcoxon signed-rank test on the predicted and actual sentiments\n",
    "from scipy.stats import wilcoxon\n",
    "\n",
    "w_statistic, p_value = wilcoxon(y_pred, y_test)\n",
    "\n",
    "print(f\"Wilcoxon signed-rank test: T-statistic: {w_statistic}\")\n",
    "print(f\"P-value: {p_value}\")"
   ]
  },
  {
   "cell_type": "markdown",
   "id": "ad56261b",
   "metadata": {
    "id": "ad56261b"
   },
   "source": [
    "#### Mann-Whitney U test"
   ]
  },
  {
   "cell_type": "code",
   "execution_count": null,
   "id": "2cb841d0",
   "metadata": {
    "colab": {
     "base_uri": "https://localhost:8080/"
    },
    "executionInfo": {
     "elapsed": 401,
     "status": "ok",
     "timestamp": 1691246567665,
     "user": {
      "displayName": "Sim Don",
      "userId": "09290070938786203900"
     },
     "user_tz": -120
    },
    "id": "2cb841d0",
    "outputId": "13c299c8-4508-4e09-dcb3-263b0130c1ec"
   },
   "outputs": [
    {
     "name": "stdout",
     "output_type": "stream",
     "text": [
      "Mann-Whitney U test: T-statistic: 12499999.5\n",
      "P-value: 0.939919853072483\n"
     ]
    }
   ],
   "source": [
    "#perform a Mann-Whitney U test on the predicted and actual sentiments\n",
    "from scipy.stats import mannwhitneyu\n",
    "\n",
    "u_statistic, p_value = mannwhitneyu(y_pred, y_test)\n",
    "\n",
    "print(f\"Mann-Whitney U test: T-statistic: {u_statistic}\")\n",
    "print(f\"P-value: {p_value}\")"
   ]
  },
  {
   "cell_type": "markdown",
   "id": "1827d74f",
   "metadata": {
    "id": "1827d74f"
   },
   "source": [
    "#### F-test"
   ]
  },
  {
   "cell_type": "code",
   "execution_count": null,
   "id": "0db93b4e",
   "metadata": {
    "colab": {
     "base_uri": "https://localhost:8080/"
    },
    "executionInfo": {
     "elapsed": 375,
     "status": "ok",
     "timestamp": 1691246564222,
     "user": {
      "displayName": "Sim Don",
      "userId": "09290070938786203900"
     },
     "user_tz": -120
    },
    "id": "0db93b4e",
    "outputId": "53aad9b8-c5af-40c8-85be-7b51455d6242"
   },
   "outputs": [
    {
     "name": "stdout",
     "output_type": "stream",
     "text": [
      "F-test: T-statistic: 0.005681298264180369\n",
      "P-value: 0.9399183455217838\n"
     ]
    }
   ],
   "source": [
    "#perform an F-test on the predicted and actual sentiments\n",
    "from scipy.stats import f_oneway\n",
    "\n",
    "f_statistic, p_value = f_oneway(y_pred, y_test)\n",
    "\n",
    "print(f\"F-test: T-statistic: {f_statistic}\")\n",
    "print(f\"P-value: {p_value}\")"
   ]
  },
  {
   "cell_type": "code",
   "execution_count": null,
   "id": "8aa989bf",
   "metadata": {
    "id": "8aa989bf"
   },
   "outputs": [],
   "source": []
  },
  {
   "cell_type": "code",
   "execution_count": null,
   "id": "68049b90",
   "metadata": {
    "id": "68049b90"
   },
   "outputs": [],
   "source": []
  }
 ],
 "metadata": {
  "colab": {
   "gpuType": "T4",
   "provenance": []
  },
  "kernelspec": {
   "display_name": "Python 3 (ipykernel)",
   "language": "python",
   "name": "python3"
  },
  "language_info": {
   "codemirror_mode": {
    "name": "ipython",
    "version": 3
   },
   "file_extension": ".py",
   "mimetype": "text/x-python",
   "name": "python",
   "nbconvert_exporter": "python",
   "pygments_lexer": "ipython3",
   "version": "3.11.4"
  }
 },
 "nbformat": 4,
 "nbformat_minor": 5
}
