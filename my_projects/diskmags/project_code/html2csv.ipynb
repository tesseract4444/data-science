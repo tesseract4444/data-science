{
 "cells": [
  {
   "cell_type": "markdown",
   "id": "b9193838",
   "metadata": {},
   "source": [
    "### Create a csv file from the HTML"
   ]
  },
  {
   "cell_type": "code",
   "execution_count": 1,
   "id": "36d2db13",
   "metadata": {},
   "outputs": [
    {
     "name": "stdout",
     "output_type": "stream",
     "text": [
      "Enter URL...https://diskmags.de/index.php?title=Catalog\n"
     ]
    }
   ],
   "source": [
    "import csv\n",
    "import requests\n",
    "from bs4 import BeautifulSoup\n",
    "\n",
    "#enter the url\n",
    "url = input(\"Enter URL...\")\n",
    "\n",
    "#fetching content\n",
    "response = requests.get(url)\n",
    "\n",
    "if response.status_code == 200:\n",
    "    html_content = response.text\n",
    "else:\n",
    "    print(f\"Failed to retrieve the HTML content from the URL. Status code: {response.status_code}\")\n",
    "    exit()\n",
    "\n",
    "#parse html\n",
    "soup = BeautifulSoup(html_content, 'html.parser')\n",
    "\n",
    "#find the table tags\n",
    "table = soup.find('table')\n",
    "\n",
    "#convert to csv\n",
    "with open(\"diskmags.csv\", \"w\", newline=\"\") as csv_file:\n",
    "    csv_writer = csv.writer(csv_file)\n",
    "\n",
    "    #finding rows\n",
    "    rows = table.find_all('tr')\n",
    "\n",
    "    for row in rows:\n",
    "        #extracting text from each row\n",
    "        cells = row.find_all(['th', 'td'])\n",
    "        row_data = [cell.get_text(strip=True) for cell in cells]\n",
    "\n",
    "        #write2csv\n",
    "        csv_writer.writerow(row_data)"
   ]
  },
  {
   "cell_type": "code",
   "execution_count": null,
   "id": "fcee23fd",
   "metadata": {},
   "outputs": [],
   "source": []
  }
 ],
 "metadata": {
  "kernelspec": {
   "display_name": "Python 3 (ipykernel)",
   "language": "python",
   "name": "python3"
  },
  "language_info": {
   "codemirror_mode": {
    "name": "ipython",
    "version": 3
   },
   "file_extension": ".py",
   "mimetype": "text/x-python",
   "name": "python",
   "nbconvert_exporter": "python",
   "pygments_lexer": "ipython3",
   "version": "3.9.16"
  }
 },
 "nbformat": 4,
 "nbformat_minor": 5
}
