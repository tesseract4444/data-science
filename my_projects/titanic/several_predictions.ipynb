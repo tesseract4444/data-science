{
 "cells": [
  {
   "cell_type": "code",
   "execution_count": 64,
   "metadata": {
    "colab": {
     "base_uri": "https://localhost:8080/",
     "height": 74
    },
    "executionInfo": {
     "elapsed": 20887,
     "status": "ok",
     "timestamp": 1704975066723,
     "user": {
      "displayName": "Sebastian Düker",
      "userId": "05835174259162210825"
     },
     "user_tz": -60
    },
    "id": "o2qHUpKYyKFr",
    "outputId": "56e92d7e-33d5-4e30-925d-96bdb49c158a"
   },
   "outputs": [
    {
     "data": {
      "text/plain": [
       "'from google.colab import files\\n\\nuploaded = files.upload()'"
      ]
     },
     "execution_count": 64,
     "metadata": {},
     "output_type": "execute_result"
    }
   ],
   "source": [
    "\"\"\"from google.colab import files\n",
    "\n",
    "uploaded = files.upload()\"\"\""
   ]
  },
  {
   "cell_type": "code",
   "execution_count": 65,
   "metadata": {
    "executionInfo": {
     "elapsed": 3735,
     "status": "ok",
     "timestamp": 1704975130460,
     "user": {
      "displayName": "Sebastian Düker",
      "userId": "05835174259162210825"
     },
     "user_tz": -60
    },
    "id": "98y9WQq4yWVw"
   },
   "outputs": [],
   "source": [
    "import pandas as pd\n",
    "import statsmodels.formula.api as smf\n",
    "import numpy as np\n",
    "from sklearn.model_selection import train_test_split\n",
    "import matplotlib.pyplot as plt\n",
    "from sklearn.metrics import (confusion_matrix, accuracy_score)"
   ]
  },
  {
   "cell_type": "code",
   "execution_count": 66,
   "metadata": {
    "executionInfo": {
     "elapsed": 14,
     "status": "ok",
     "timestamp": 1704975132612,
     "user": {
      "displayName": "Sebastian Düker",
      "userId": "05835174259162210825"
     },
     "user_tz": -60
    },
    "id": "NO9Wjl74yYrd"
   },
   "outputs": [],
   "source": [
    "data = pd.read_csv(\"Titanic.csv\")"
   ]
  },
  {
   "cell_type": "code",
   "execution_count": 67,
   "metadata": {
    "colab": {
     "base_uri": "https://localhost:8080/",
     "height": 206
    },
    "executionInfo": {
     "elapsed": 776,
     "status": "ok",
     "timestamp": 1704975135644,
     "user": {
      "displayName": "Sebastian Düker",
      "userId": "05835174259162210825"
     },
     "user_tz": -60
    },
    "id": "98CglzKSybRB",
    "outputId": "c2e860a9-df9a-4cb8-8009-be1a6d412d36"
   },
   "outputs": [
    {
     "data": {
      "text/html": [
       "<div>\n",
       "<style scoped>\n",
       "    .dataframe tbody tr th:only-of-type {\n",
       "        vertical-align: middle;\n",
       "    }\n",
       "\n",
       "    .dataframe tbody tr th {\n",
       "        vertical-align: top;\n",
       "    }\n",
       "\n",
       "    .dataframe thead th {\n",
       "        text-align: right;\n",
       "    }\n",
       "</style>\n",
       "<table border=\"1\" class=\"dataframe\">\n",
       "  <thead>\n",
       "    <tr style=\"text-align: right;\">\n",
       "      <th></th>\n",
       "      <th>PassengerId</th>\n",
       "      <th>Survived</th>\n",
       "      <th>Pclass</th>\n",
       "      <th>Name</th>\n",
       "      <th>Sex</th>\n",
       "      <th>Age</th>\n",
       "      <th>SibSp</th>\n",
       "      <th>Parch</th>\n",
       "      <th>Ticket</th>\n",
       "      <th>Fare</th>\n",
       "      <th>Cabin</th>\n",
       "      <th>Embarked</th>\n",
       "    </tr>\n",
       "  </thead>\n",
       "  <tbody>\n",
       "    <tr>\n",
       "      <th>0</th>\n",
       "      <td>1</td>\n",
       "      <td>0</td>\n",
       "      <td>3</td>\n",
       "      <td>Braund, Mr. Owen Harris</td>\n",
       "      <td>male</td>\n",
       "      <td>22.0</td>\n",
       "      <td>1</td>\n",
       "      <td>0</td>\n",
       "      <td>A/5 21171</td>\n",
       "      <td>7.2500</td>\n",
       "      <td>NaN</td>\n",
       "      <td>S</td>\n",
       "    </tr>\n",
       "    <tr>\n",
       "      <th>1</th>\n",
       "      <td>2</td>\n",
       "      <td>1</td>\n",
       "      <td>1</td>\n",
       "      <td>Cumings, Mrs. John Bradley (Florence Briggs Th...</td>\n",
       "      <td>female</td>\n",
       "      <td>38.0</td>\n",
       "      <td>1</td>\n",
       "      <td>0</td>\n",
       "      <td>PC 17599</td>\n",
       "      <td>71.2833</td>\n",
       "      <td>C85</td>\n",
       "      <td>C</td>\n",
       "    </tr>\n",
       "    <tr>\n",
       "      <th>2</th>\n",
       "      <td>3</td>\n",
       "      <td>1</td>\n",
       "      <td>3</td>\n",
       "      <td>Heikkinen, Miss. Laina</td>\n",
       "      <td>female</td>\n",
       "      <td>26.0</td>\n",
       "      <td>0</td>\n",
       "      <td>0</td>\n",
       "      <td>STON/O2. 3101282</td>\n",
       "      <td>7.9250</td>\n",
       "      <td>NaN</td>\n",
       "      <td>S</td>\n",
       "    </tr>\n",
       "    <tr>\n",
       "      <th>3</th>\n",
       "      <td>4</td>\n",
       "      <td>1</td>\n",
       "      <td>1</td>\n",
       "      <td>Futrelle, Mrs. Jacques Heath (Lily May Peel)</td>\n",
       "      <td>female</td>\n",
       "      <td>35.0</td>\n",
       "      <td>1</td>\n",
       "      <td>0</td>\n",
       "      <td>113803</td>\n",
       "      <td>53.1000</td>\n",
       "      <td>C123</td>\n",
       "      <td>S</td>\n",
       "    </tr>\n",
       "    <tr>\n",
       "      <th>4</th>\n",
       "      <td>5</td>\n",
       "      <td>0</td>\n",
       "      <td>3</td>\n",
       "      <td>Allen, Mr. William Henry</td>\n",
       "      <td>male</td>\n",
       "      <td>35.0</td>\n",
       "      <td>0</td>\n",
       "      <td>0</td>\n",
       "      <td>373450</td>\n",
       "      <td>8.0500</td>\n",
       "      <td>NaN</td>\n",
       "      <td>S</td>\n",
       "    </tr>\n",
       "  </tbody>\n",
       "</table>\n",
       "</div>"
      ],
      "text/plain": [
       "   PassengerId  Survived  Pclass  \\\n",
       "0            1         0       3   \n",
       "1            2         1       1   \n",
       "2            3         1       3   \n",
       "3            4         1       1   \n",
       "4            5         0       3   \n",
       "\n",
       "                                                Name     Sex   Age  SibSp  \\\n",
       "0                            Braund, Mr. Owen Harris    male  22.0      1   \n",
       "1  Cumings, Mrs. John Bradley (Florence Briggs Th...  female  38.0      1   \n",
       "2                             Heikkinen, Miss. Laina  female  26.0      0   \n",
       "3       Futrelle, Mrs. Jacques Heath (Lily May Peel)  female  35.0      1   \n",
       "4                           Allen, Mr. William Henry    male  35.0      0   \n",
       "\n",
       "   Parch            Ticket     Fare Cabin Embarked  \n",
       "0      0         A/5 21171   7.2500   NaN        S  \n",
       "1      0          PC 17599  71.2833   C85        C  \n",
       "2      0  STON/O2. 3101282   7.9250   NaN        S  \n",
       "3      0            113803  53.1000  C123        S  \n",
       "4      0            373450   8.0500   NaN        S  "
      ]
     },
     "execution_count": 67,
     "metadata": {},
     "output_type": "execute_result"
    }
   ],
   "source": [
    "data.head()"
   ]
  },
  {
   "cell_type": "code",
   "execution_count": 68,
   "metadata": {
    "id": "Ei2npZ7A02S8"
   },
   "outputs": [],
   "source": [
    "#Abhängige Variablen in 0 und 1 umbenennen, in diesem Fall nicht notwendig\n",
    "#data['Class'] = data['Class'].replace({8: 0, 9: 1})"
   ]
  },
  {
   "cell_type": "code",
   "execution_count": 69,
   "metadata": {},
   "outputs": [],
   "source": [
    "#short_list = ['Survived', 'Pclass', 'Sex', 'Age', 'SibSp', 'Parch', 'Embarked', 'Fare']\n",
    "short_list = ['Survived', 'Pclass', 'Sex', 'Age', 'Parch', 'Fare']"
   ]
  },
  {
   "cell_type": "code",
   "execution_count": 70,
   "metadata": {},
   "outputs": [],
   "source": [
    "#data = data.dropna(subset=['Survived', 'Pclass', 'Sex', 'Age', 'SibSp', 'Parch', 'Embarked', 'Fare'])\n",
    "data = data.dropna(subset=short_list)"
   ]
  },
  {
   "cell_type": "code",
   "execution_count": 71,
   "metadata": {
    "executionInfo": {
     "elapsed": 591,
     "status": "ok",
     "timestamp": 1704975324380,
     "user": {
      "displayName": "Sebastian Düker",
      "userId": "05835174259162210825"
     },
     "user_tz": -60
    },
    "id": "Q7AvGZOLy3KV"
   },
   "outputs": [],
   "source": [
    "X = data.drop('Survived', axis=1)\n",
    "y = data['Survived']\n",
    "\n",
    "X_train, X_test, y_train, y_test = train_test_split(X, y, test_size=0.2, random_state=42)"
   ]
  },
  {
   "cell_type": "code",
   "execution_count": 72,
   "metadata": {
    "executionInfo": {
     "elapsed": 517,
     "status": "ok",
     "timestamp": 1704975338650,
     "user": {
      "displayName": "Sebastian Düker",
      "userId": "05835174259162210825"
     },
     "user_tz": -60
    },
    "id": "DF4eeTeHy_qe"
   },
   "outputs": [],
   "source": [
    "X_train[\"Survived\"] = y_train\n",
    "X_test[\"Survived\"] = y_test"
   ]
  },
  {
   "cell_type": "code",
   "execution_count": 73,
   "metadata": {
    "colab": {
     "base_uri": "https://localhost:8080/"
    },
    "executionInfo": {
     "elapsed": 633,
     "status": "ok",
     "timestamp": 1704975444604,
     "user": {
      "displayName": "Sebastian Düker",
      "userId": "05835174259162210825"
     },
     "user_tz": -60
    },
    "id": "TIl5hEQWzDxp",
    "outputId": "83aeb3df-bda5-4dcf-c338-4b41ae6a7904"
   },
   "outputs": [
    {
     "name": "stdout",
     "output_type": "stream",
     "text": [
      "Optimization terminated successfully.\n",
      "         Current function value: 0.437708\n",
      "         Iterations 6\n",
      "                           Logit Regression Results                           \n",
      "==============================================================================\n",
      "Dep. Variable:               Survived   No. Observations:                  571\n",
      "Model:                          Logit   Df Residuals:                      565\n",
      "Method:                           MLE   Df Model:                            5\n",
      "Date:                Wed, 17 Jan 2024   Pseudo R-squ.:                  0.3533\n",
      "Time:                        12:43:18   Log-Likelihood:                -249.93\n",
      "converged:                       True   LL-Null:                       -386.45\n",
      "Covariance Type:            nonrobust   LLR p-value:                 6.256e-57\n",
      "==================================================================================\n",
      "                     coef    std err          z      P>|z|      [0.025      0.975]\n",
      "----------------------------------------------------------------------------------\n",
      "Intercept          4.3637      0.560      7.790      0.000       3.266       5.462\n",
      "C(Pclass)[T.2]    -1.6535      0.373     -4.430      0.000      -2.385      -0.922\n",
      "C(Pclass)[T.3]    -2.7416      0.391     -7.009      0.000      -3.508      -1.975\n",
      "C(Sex)[T.male]    -2.6975      0.240    -11.230      0.000      -3.168      -2.227\n",
      "Age               -0.0453      0.009     -5.052      0.000      -0.063      -0.028\n",
      "Fare              -0.0011      0.003     -0.396      0.692      -0.007       0.005\n",
      "==================================================================================\n"
     ]
    }
   ],
   "source": [
    "#0 = No 1 = Yes\n",
    "#X_test = X_test[['Survived', 'Pclass', 'Sex', 'Age', 'Fare']]\n",
    "\n",
    "#model = smf.logit('Survived ~ C(Pclass) + C(Sex) + Age + SibSp + Parch + Embarked + Fare', data=X_train).fit() #original\n",
    "model = smf.logit('Survived ~ C(Pclass) + C(Sex) + Age + Fare', data=X_train).fit()\n",
    "\n",
    "print(model.summary())"
   ]
  },
  {
   "cell_type": "code",
   "execution_count": 74,
   "metadata": {
    "colab": {
     "base_uri": "https://localhost:8080/"
    },
    "executionInfo": {
     "elapsed": 233,
     "status": "ok",
     "timestamp": 1704908193244,
     "user": {
      "displayName": "Sebastian Düker",
      "userId": "05835174259162210825"
     },
     "user_tz": -60
    },
    "id": "r6DYAZAl1ooh",
    "outputId": "487ff578-25dc-4aa0-f7e7-60f9b388b1f9"
   },
   "outputs": [
    {
     "data": {
      "text/plain": [
       "Intercept         78.548824\n",
       "C(Pclass)[T.2]     0.191373\n",
       "C(Pclass)[T.3]     0.064467\n",
       "C(Sex)[T.male]     0.067371\n",
       "Age                0.955719\n",
       "Fare               0.998859\n",
       "dtype: float64"
      ]
     },
     "execution_count": 74,
     "metadata": {},
     "output_type": "execute_result"
    }
   ],
   "source": [
    "np.exp(model.params)"
   ]
  },
  {
   "cell_type": "code",
   "execution_count": 75,
   "metadata": {
    "colab": {
     "base_uri": "https://localhost:8080/"
    },
    "executionInfo": {
     "elapsed": 252,
     "status": "ok",
     "timestamp": 1704908208589,
     "user": {
      "displayName": "Sebastian Düker",
      "userId": "05835174259162210825"
     },
     "user_tz": -60
    },
    "id": "j72Oai4scc0F",
    "outputId": "6be46837-5671-4716-d671-bfc38250a7c4"
   },
   "outputs": [
    {
     "data": {
      "text/plain": [
       "Intercept          0.012731\n",
       "C(Pclass)[T.2]     5.225404\n",
       "C(Pclass)[T.3]    15.511772\n",
       "C(Sex)[T.male]    14.843291\n",
       "Age                1.046333\n",
       "Fare               1.001142\n",
       "dtype: float64"
      ]
     },
     "execution_count": 75,
     "metadata": {},
     "output_type": "execute_result"
    }
   ],
   "source": [
    "1/np.exp(model.params)"
   ]
  },
  {
   "cell_type": "code",
   "execution_count": 76,
   "metadata": {
    "colab": {
     "base_uri": "https://localhost:8080/"
    },
    "executionInfo": {
     "elapsed": 526,
     "status": "ok",
     "timestamp": 1704976143273,
     "user": {
      "displayName": "Sebastian Düker",
      "userId": "05835174259162210825"
     },
     "user_tz": -60
    },
    "id": "cKuZNewb11GR",
    "outputId": "cad73567-b102-44b6-aac5-925b865e5a84"
   },
   "outputs": [
    {
     "data": {
      "text/plain": [
       "0    0.969465\n",
       "dtype: float64"
      ]
     },
     "execution_count": 76,
     "metadata": {},
     "output_type": "execute_result"
    }
   ],
   "source": [
    "#newpred = pd.DataFrame({\"Sex\": [\"female\"], \"Age\": [20]})\n",
    "newpred = pd.DataFrame({\"Pclass\": [1], \"Sex\": [\"female\"], \"Embarked\": [\"S\"], \"Age\": [20], \"SibSp\": [0], \"Parch\": [0], \"Fare\": [0]})\n",
    "model.predict(newpred)"
   ]
  },
  {
   "cell_type": "code",
   "execution_count": 77,
   "metadata": {
    "colab": {
     "base_uri": "https://localhost:8080/",
     "height": 472
    },
    "executionInfo": {
     "elapsed": 1055,
     "status": "ok",
     "timestamp": 1704976166387,
     "user": {
      "displayName": "Sebastian Düker",
      "userId": "05835174259162210825"
     },
     "user_tz": -60
    },
    "id": "-g8ZVWcj21yn",
    "outputId": "11625262-ef22-442e-f04e-27407ae6e227",
    "scrolled": true
   },
   "outputs": [
    {
     "data": {
      "image/png": "[encoded data removed]",
      "text/plain": [
       "<Figure size 640x480 with 1 Axes>"
      ]
     },
     "metadata": {},
     "output_type": "display_data"
    }
   ],
   "source": [
    "proba = 1 / (1 + np.exp( - model.fittedvalues ))\n",
    "\n",
    "plt.hist(proba, bins=10, alpha=0.7, color='blue')\n",
    "plt.xlabel('Probabilities')\n",
    "plt.ylabel('Frequency')\n",
    "plt.title('Histogram of Probabilities')\n",
    "plt.show()\n"
   ]
  },
  {
   "cell_type": "code",
   "execution_count": 78,
   "metadata": {
    "colab": {
     "base_uri": "https://localhost:8080/"
    },
    "executionInfo": {
     "elapsed": 571,
     "status": "ok",
     "timestamp": 1704976201838,
     "user": {
      "displayName": "Sebastian Düker",
      "userId": "05835174259162210825"
     },
     "user_tz": -60
    },
    "id": "8gRNVuq53GbG",
    "outputId": "6a9b9acc-53d1-4132-cee9-67f45738674f"
   },
   "outputs": [
    {
     "name": "stdout",
     "output_type": "stream",
     "text": [
      "337\n",
      "234\n"
     ]
    }
   ],
   "source": [
    "print(len(X_train.loc[X_train['Survived'] == 0]))\n",
    "print(len(X_train.loc[X_train['Survived'] == 1]))"
   ]
  },
  {
   "cell_type": "code",
   "execution_count": 79,
   "metadata": {
    "colab": {
     "base_uri": "https://localhost:8080/"
    },
    "executionInfo": {
     "elapsed": 710,
     "status": "ok",
     "timestamp": 1704976220291,
     "user": {
      "displayName": "Sebastian Düker",
      "userId": "05835174259162210825"
     },
     "user_tz": -60
    },
    "id": "aPN3LmQZ3N9w",
    "outputId": "51e1a716-64a4-49be-b887-8b8a82cdaded"
   },
   "outputs": [
    {
     "name": "stdout",
     "output_type": "stream",
     "text": [
      "Actual values [0, 1, 1, 1, 0, 1, 1, 1, 0, 0, 1, 1, 1, 0, 1, 0, 0, 1, 0, 1, 0, 1, 0, 1, 0, 0, 0, 0, 0, 0, 0, 0, 1, 0, 0, 1, 0, 1, 0, 0, 1, 0, 1, 0, 0, 1, 1, 0, 0, 1, 0, 0, 1, 0, 0, 0, 0, 1, 0, 1, 1, 0, 1, 0, 1, 0, 1, 1, 1, 0, 0, 1, 0, 0, 0, 1, 0, 0, 0, 1, 0, 0, 0, 0, 0, 0, 0, 0, 0, 0, 1, 1, 1, 0, 1, 1, 1, 0, 0, 0, 1, 1, 0, 0, 1, 0, 0, 0, 1, 1, 0, 0, 0, 1, 0, 1, 0, 1, 0, 0, 1, 0, 0, 0, 0, 0, 0, 1, 0, 1, 1, 0, 1, 1, 0, 0, 0, 0, 0, 0, 0, 1, 1]\n",
      "Predictions : [0, 0, 1, 1, 0, 0, 1, 1, 1, 1, 1, 1, 1, 0, 1, 0, 0, 1, 0, 1, 1, 1, 1, 0, 0, 0, 0, 0, 1, 0, 1, 1, 1, 0, 0, 0, 0, 0, 0, 0, 0, 0, 1, 0, 0, 1, 1, 1, 0, 1, 0, 1, 1, 0, 0, 1, 1, 0, 0, 0, 1, 0, 1, 0, 0, 0, 0, 1, 0, 1, 0, 1, 0, 0, 0, 0, 0, 0, 1, 1, 1, 1, 0, 0, 0, 1, 1, 0, 0, 0, 0, 1, 1, 0, 1, 1, 1, 1, 0, 0, 1, 1, 0, 1, 1, 0, 0, 0, 0, 1, 0, 0, 0, 0, 0, 1, 0, 1, 0, 0, 1, 0, 0, 0, 1, 0, 0, 1, 0, 1, 0, 0, 0, 1, 0, 0, 0, 0, 0, 0, 0, 1, 1]\n"
     ]
    }
   ],
   "source": [
    "#X_test = X_test[['Survived', 'Pclass', 'Sex', 'Age', 'SibSp', 'Parch', 'Embarked', 'Fare']]\n",
    "X_test = X_test[short_list]\n",
    "\n",
    "yhat = model.predict(X_test)\n",
    "prediction = list(map(round, yhat))\n",
    "\n",
    "print('Actual values', list(y_test.values))\n",
    "print('Predictions :', prediction)"
   ]
  },
  {
   "cell_type": "code",
   "execution_count": 80,
   "metadata": {
    "colab": {
     "base_uri": "https://localhost:8080/"
    },
    "executionInfo": {
     "elapsed": 530,
     "status": "ok",
     "timestamp": 1704976238731,
     "user": {
      "displayName": "Sebastian Düker",
      "userId": "05835174259162210825"
     },
     "user_tz": -60
    },
    "id": "91a9Ygi13Xjc",
    "outputId": "0b8e95d5-cf02-4de5-bd7a-a4d865174dbc"
   },
   "outputs": [
    {
     "name": "stdout",
     "output_type": "stream",
     "text": [
      "Confusion Matrix : \n",
      " [[67 20]\n",
      " [17 39]]\n",
      "Test accuracy =  0.7412587412587412\n"
     ]
    }
   ],
   "source": [
    "# Oben links: True negatives\n",
    "# Oben rechts: False positives\n",
    "# Unten links: False negatives\n",
    "# Unten rechts: True positives\n",
    "\n",
    "cm = confusion_matrix(y_test, prediction)\n",
    "print (\"Confusion Matrix : \\n\", cm)\n",
    "\n",
    "print('Test accuracy = ', accuracy_score(y_test, prediction))"
   ]
  },
  {
   "cell_type": "markdown",
   "metadata": {},
   "source": [
    "   "
   ]
  },
  {
   "cell_type": "markdown",
   "metadata": {},
   "source": [
    "Q: What is \"parch\"?\n",
    "</br> A: Parch - how many children & parents of the passenger aboard the Titanic."
   ]
  },
  {
   "cell_type": "markdown",
   "metadata": {},
   "source": [
    "Q: What does \"embarked\" mean?\n",
    "</br> A: Where the traveler mounted from"
   ]
  },
  {
   "cell_type": "code",
   "execution_count": 83,
   "metadata": {},
   "outputs": [
    {
     "name": "stdout",
     "output_type": "stream",
     "text": [
      "Actual values [0, 1, 1, 1, 0, 1, 1, 1, 0, 0, 1, 1, 1, 0, 1, 0, 0, 1, 0, 1, 0, 1, 0, 1, 0, 0, 0, 0, 0, 0, 0, 0, 1, 0, 0, 1, 0, 1, 0, 0, 1, 0, 1, 0, 0, 1, 1, 0, 0, 1, 0, 0, 1, 0, 0, 0, 0, 1, 0, 1, 1, 0, 1, 0, 1, 0, 1, 1, 1, 0, 0, 1, 0, 0, 0, 1, 0, 0, 0, 1, 0, 0, 0, 0, 0, 0, 0, 0, 0, 0, 1, 1, 1, 0, 1, 1, 1, 0, 0, 0, 1, 1, 0, 0, 1, 0, 0, 0, 1, 1, 0, 0, 0, 1, 0, 1, 0, 1, 0, 0, 1, 0, 0, 0, 0, 0, 0, 1, 0, 1, 1, 0, 1, 1, 0, 0, 0, 0, 0, 0, 0, 1, 1]\n",
      "Predictions : [0, 0, 1, 1, 0, 0, 1, 1, 1, 1, 1, 1, 1, 0, 1, 0, 0, 1, 0, 1, 1, 1, 1, 0, 0, 0, 0, 0, 1, 0, 1, 1, 1, 0, 0, 0, 0, 0, 0, 0, 0, 0, 1, 0, 0, 1, 1, 1, 0, 1, 0, 1, 1, 0, 0, 1, 1, 0, 0, 0, 1, 0, 1, 0, 0, 0, 0, 1, 0, 1, 0, 1, 0, 0, 0, 0, 0, 0, 1, 1, 1, 1, 0, 0, 0, 1, 1, 0, 0, 0, 0, 1, 1, 0, 1, 1, 1, 1, 0, 0, 1, 1, 0, 1, 1, 0, 0, 0, 0, 1, 0, 0, 0, 0, 0, 1, 0, 1, 0, 0, 1, 0, 0, 0, 1, 0, 0, 1, 0, 1, 0, 0, 0, 1, 0, 0, 0, 0, 0, 0, 0, 1, 1]\n"
     ]
    }
   ],
   "source": [
    "#X_test = X_test[['Survived', 'Pclass', 'Sex', 'Age', 'SibSp', 'Parch', 'Embarked', 'Fare']] #original\n",
    "X_test = X_test[short_list]\n",
    "\n",
    "yhat = model.predict(X_test)\n",
    "prediction = list(map(round, yhat))\n",
    "\n",
    "print('Actual values', list(y_test.values))\n",
    "print('Predictions :', prediction)"
   ]
  },
  {
   "cell_type": "code",
   "execution_count": 82,
   "metadata": {},
   "outputs": [
    {
     "name": "stdout",
     "output_type": "stream",
     "text": [
      "Confusion Matrix : \n",
      " [[67 20]\n",
      " [17 39]]\n",
      "Test accuracy =  0.7412587412587412\n"
     ]
    }
   ],
   "source": [
    "# Oben links: True negatives\n",
    "# Oben rechts: False positives\n",
    "# Unten links: False negatives\n",
    "# Unten rechts: True positives\n",
    "\n",
    "cm = confusion_matrix(y_test, prediction)\n",
    "print (\"Confusion Matrix : \\n\", cm)\n",
    "\n",
    "print('Test accuracy = ', accuracy_score(y_test, prediction))"
   ]
  },
  {
   "cell_type": "code",
   "execution_count": null,
   "metadata": {},
   "outputs": [],
   "source": []
  }
 ],
 "metadata": {
  "colab": {
   "authorship_tag": "ABX9TyMiRJeu6NrLG8nACnZw00ja",
   "provenance": []
  },
  "kernelspec": {
   "display_name": "Python 3 (ipykernel)",
   "language": "python",
   "name": "python3"
  },
  "language_info": {
   "codemirror_mode": {
    "name": "ipython",
    "version": 3
   },
   "file_extension": ".py",
   "mimetype": "text/x-python",
   "name": "python",
   "nbconvert_exporter": "python",
   "pygments_lexer": "ipython3",
   "version": "3.11.7"
  }
 },
 "nbformat": 4,
 "nbformat_minor": 4
}
