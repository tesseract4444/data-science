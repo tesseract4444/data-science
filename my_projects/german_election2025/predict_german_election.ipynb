{
 "cells": [
  {
   "cell_type": "code",
   "execution_count": 1,
   "id": "0e44a6ef-2d48-41af-b5da-8523580faaaa",
   "metadata": {},
   "outputs": [],
   "source": [
    "import pandas as pd\n",
    "import numpy as np\n",
    "from sklearn.linear_model import LinearRegression\n",
    "from sklearn.model_selection import train_test_split\n",
    "import seaborn as sns"
   ]
  },
  {
   "cell_type": "markdown",
   "id": "c58bf29c-de18-4278-b549-6ac1007e0151",
   "metadata": {},
   "source": [
    "### Data Preparation"
   ]
  },
  {
   "cell_type": "code",
   "execution_count": 3,
   "id": "d7a9daa2-68ec-4d1c-bcf0-772dc81c1c2e",
   "metadata": {},
   "outputs": [],
   "source": [
    "#read csv\n",
    "df = pd.read_csv('wahl.csv', sep=',') #source csv: https://dawum.de/Bundestag/Forsa/"
   ]
  },
  {
   "cell_type": "code",
   "execution_count": 4,
   "id": "37b097df-02df-4ee7-8f4c-186a7558fe7f",
   "metadata": {},
   "outputs": [
    {
     "name": "stdout",
     "output_type": "stream",
     "text": [
      "        Datum CDU/CSU   SPD  FDP Grüne Linke   AfD Freie Wähler  BSW Sonstige\n",
      "0  06.01.2016    38,0  23,0  5,0  10,0  10,0   8,0          NaN  NaN      6,0\n",
      "1  13.01.2016    38,0  23,0  5,0  10,0  10,0   9,0          NaN  NaN      5,0\n",
      "2  19.01.2016    37,0  23,0  5,0  10,0   9,0  10,0          NaN  NaN      6,0\n",
      "3  27.01.2016    36,0  24,0  5,0  10,0  10,0  10,0          NaN  NaN      5,0\n",
      "4  03.02.2016    36,0  24,0  5,0  10,0   9,0  10,0          NaN  NaN      6,0\n"
     ]
    }
   ],
   "source": [
    "print(df.head())"
   ]
  },
  {
   "cell_type": "code",
   "execution_count": 5,
   "id": "6364f51e-113a-4723-97be-0ba241569c29",
   "metadata": {},
   "outputs": [
    {
     "name": "stdout",
     "output_type": "stream",
     "text": [
      "Index(['Datum', 'CDU/CSU', 'SPD', 'FDP', 'Grüne', 'Linke', 'AfD',\n",
      "       'Freie Wähler', 'BSW', 'Sonstige'],\n",
      "      dtype='object')\n"
     ]
    }
   ],
   "source": [
    "print(df.columns)"
   ]
  },
  {
   "cell_type": "code",
   "execution_count": 6,
   "id": "11486300-cbc3-45eb-9422-99d7dc34fb71",
   "metadata": {},
   "outputs": [],
   "source": [
    "#convert the column \"Datum\" from string to date time\n",
    "df['Datum'] = pd.to_datetime(df['Datum'], format='%d.%m.%Y')"
   ]
  },
  {
   "cell_type": "code",
   "execution_count": 7,
   "id": "86857a3a-f07c-4f23-a34f-4d68274448a5",
   "metadata": {},
   "outputs": [
    {
     "name": "stdout",
     "output_type": "stream",
     "text": [
      "         Datum CDU/CSU   SPD  FDP Grüne   AfD Sonstige\n",
      "0   2016-01-06    38,0  23,0  5,0  10,0   8,0      6,0\n",
      "1   2016-01-13    38,0  23,0  5,0  10,0   9,0      5,0\n",
      "2   2016-01-19    37,0  23,0  5,0  10,0  10,0      6,0\n",
      "3   2016-01-27    36,0  24,0  5,0  10,0  10,0      5,0\n",
      "4   2016-02-03    36,0  24,0  5,0  10,0  10,0      6,0\n",
      "..         ...     ...   ...  ...   ...   ...      ...\n",
      "460 2024-12-03    32,0  16,0  3,0  12,0  18,0     11,0\n",
      "461 2024-12-10    31,0  17,0  4,0  13,0  18,0     10,0\n",
      "462 2024-12-17    30,0  17,0  4,0  13,0  19,0     10,0\n",
      "463 2024-12-23    31,0  16,0  3,0  13,0  19,0     10,0\n",
      "464 2025-01-07    32,0  17,0  3,0  12,0  19,0     10,0\n",
      "\n",
      "[465 rows x 7 columns]\n"
     ]
    }
   ],
   "source": [
    "#drop columns that contain nan values\n",
    "df_clean = df.dropna(axis=1)\n",
    "print(df_clean)"
   ]
  },
  {
   "cell_type": "code",
   "execution_count": 8,
   "id": "5c934d2b-9e7d-454c-b458-397536f2dac4",
   "metadata": {},
   "outputs": [
    {
     "name": "stderr",
     "output_type": "stream",
     "text": [
      "/tmp/ipykernel_19269/4194043143.py:5: SettingWithCopyWarning: \n",
      "A value is trying to be set on a copy of a slice from a DataFrame.\n",
      "Try using .loc[row_indexer,col_indexer] = value instead\n",
      "\n",
      "See the caveats in the documentation: https://pandas.pydata.org/pandas-docs/stable/user_guide/indexing.html#returning-a-view-versus-a-copy\n",
      "  df_clean[col] = pd.to_numeric(df_clean[col].str.replace(',', '.'))\n"
     ]
    }
   ],
   "source": [
    "#convert string values in your dataframe to float\n",
    "conv_columns = ['CDU/CSU', 'SPD', 'FDP', 'Grüne', 'AfD', 'Sonstige']\n",
    "\n",
    "for col in conv_columns:\n",
    "    df_clean[col] = pd.to_numeric(df_clean[col].str.replace(',', '.'))"
   ]
  },
  {
   "cell_type": "code",
   "execution_count": 9,
   "id": "cf3efbef-3ebc-49b7-a3a2-b08b3c23d8c9",
   "metadata": {},
   "outputs": [
    {
     "name": "stdout",
     "output_type": "stream",
     "text": [
      "         Datum  CDU/CSU   SPD  FDP  Grüne   AfD  Sonstige\n",
      "0   2016-01-06     38.0  23.0  5.0   10.0   8.0       6.0\n",
      "1   2016-01-13     38.0  23.0  5.0   10.0   9.0       5.0\n",
      "2   2016-01-19     37.0  23.0  5.0   10.0  10.0       6.0\n",
      "3   2016-01-27     36.0  24.0  5.0   10.0  10.0       5.0\n",
      "4   2016-02-03     36.0  24.0  5.0   10.0  10.0       6.0\n",
      "..         ...      ...   ...  ...    ...   ...       ...\n",
      "460 2024-12-03     32.0  16.0  3.0   12.0  18.0      11.0\n",
      "461 2024-12-10     31.0  17.0  4.0   13.0  18.0      10.0\n",
      "462 2024-12-17     30.0  17.0  4.0   13.0  19.0      10.0\n",
      "463 2024-12-23     31.0  16.0  3.0   13.0  19.0      10.0\n",
      "464 2025-01-07     32.0  17.0  3.0   12.0  19.0      10.0\n",
      "\n",
      "[465 rows x 7 columns]\n"
     ]
    }
   ],
   "source": [
    "print(df_clean)"
   ]
  },
  {
   "cell_type": "code",
   "execution_count": 10,
   "id": "e8d9abaa-8dc4-40d1-8431-7c1f92a25b63",
   "metadata": {},
   "outputs": [
    {
     "name": "stdout",
     "output_type": "stream",
     "text": [
      "<class 'pandas.core.frame.DataFrame'>\n",
      "RangeIndex: 465 entries, 0 to 464\n",
      "Data columns (total 7 columns):\n",
      " #   Column    Non-Null Count  Dtype         \n",
      "---  ------    --------------  -----         \n",
      " 0   Datum     465 non-null    datetime64[ns]\n",
      " 1   CDU/CSU   465 non-null    float64       \n",
      " 2   SPD       465 non-null    float64       \n",
      " 3   FDP       465 non-null    float64       \n",
      " 4   Grüne     465 non-null    float64       \n",
      " 5   AfD       465 non-null    float64       \n",
      " 6   Sonstige  465 non-null    float64       \n",
      "dtypes: datetime64[ns](1), float64(6)\n",
      "memory usage: 25.6 KB\n",
      "None\n"
     ]
    }
   ],
   "source": [
    "print(df_clean.info())"
   ]
  },
  {
   "cell_type": "code",
   "execution_count": 11,
   "id": "e76b493d-e20c-4b03-943f-dee60de3b3c1",
   "metadata": {},
   "outputs": [
    {
     "name": "stdout",
     "output_type": "stream",
     "text": [
      "Datum       2025-01-07 00:00:00\n",
      "CDU/CSU                    40.0\n",
      "SPD                        32.0\n",
      "FDP                        16.0\n",
      "Grüne                      28.0\n",
      "AfD                        23.0\n",
      "Sonstige                   15.0\n",
      "dtype: object\n"
     ]
    }
   ],
   "source": [
    "#show all maximum values\n",
    "print(df_clean.max())"
   ]
  },
  {
   "cell_type": "code",
   "execution_count": 12,
   "id": "6376c7db-1ad2-4a60-b233-8c69e47b1f17",
   "metadata": {},
   "outputs": [
    {
     "name": "stdout",
     "output_type": "stream",
     "text": [
      "Datum       2016-01-06 00:00:00\n",
      "CDU/CSU                    19.0\n",
      "SPD                        11.0\n",
      "FDP                         3.0\n",
      "Grüne                       6.0\n",
      "AfD                         7.0\n",
      "Sonstige                    4.0\n",
      "dtype: object\n"
     ]
    }
   ],
   "source": [
    "#show all minimum values\n",
    "print(df_clean.min())"
   ]
  },
  {
   "cell_type": "code",
   "execution_count": 13,
   "id": "4a18167e-cc11-4d1f-849d-b7d8ba9e8327",
   "metadata": {},
   "outputs": [
    {
     "name": "stdin",
     "output_type": "stream",
     "text": [
      "Enter a date in the format: YYYY-MM-DD 2025-01-07\n"
     ]
    },
    {
     "name": "stdout",
     "output_type": "stream",
     "text": [
      "         Datum  CDU/CSU   SPD  FDP  Grüne   AfD  Sonstige\n",
      "464 2025-01-07     32.0  17.0  3.0   12.0  19.0      10.0\n"
     ]
    }
   ],
   "source": [
    "#show the results on a specific date\n",
    "enter_date = input(\"Enter a date in the format: YYYY-MM-DD\") #2025-01-07\n",
    "\n",
    "line = df_clean[df_clean[\"Datum\"] == enter_date]\n",
    "print(line)"
   ]
  },
  {
   "cell_type": "markdown",
   "id": "ed70f12f-94c2-4a20-a15b-d69ab7b2de46",
   "metadata": {},
   "source": [
    "------------------------------------------"
   ]
  },
  {
   "cell_type": "markdown",
   "id": "46af379d-c888-46fd-a616-c59f74be0930",
   "metadata": {},
   "source": [
    "### Make Predicions"
   ]
  },
  {
   "cell_type": "markdown",
   "id": "39a7ce0f-3e3a-4bfa-966c-9314052c23ba",
   "metadata": {},
   "source": [
    "#### Predicting a time span"
   ]
  },
  {
   "cell_type": "code",
   "execution_count": 17,
   "id": "e1ec22bc-02e7-480d-9a6f-f2522b0bcdd5",
   "metadata": {},
   "outputs": [],
   "source": [
    "df = df_clean.copy()"
   ]
  },
  {
   "cell_type": "code",
   "execution_count": 18,
   "id": "942312c4-ba74-408f-a19b-bc8f6768a318",
   "metadata": {},
   "outputs": [],
   "source": [
    "import pandas as pd\n",
    "import numpy as np\n",
    "from sklearn.linear_model import LinearRegression\n",
    "from sklearn.model_selection import train_test_split\n",
    "\n",
    "def linear_regression_forecast(df, target_column, days_to_predict=30, test_size=0.2, random_state=42):\n",
    "\n",
    "    #convert date to index\n",
    "    df['Datum'] = range(len(df))\n",
    "    \n",
    "    #define features and target value\n",
    "    X = df[['Datum']]\n",
    "    y = df[target_column]\n",
    "    \n",
    "    #train test split\n",
    "    X_train, X_test, y_train, y_test = train_test_split(X, y, test_size=test_size, random_state=random_state)\n",
    "    \n",
    "    #create and train the model\n",
    "    model = LinearRegression()\n",
    "    model.fit(X_train, y_train)\n",
    "    \n",
    "    #prediction on future values\n",
    "    future_index = np.arange(len(df), len(df) + days_to_predict)\n",
    "    future_X = pd.DataFrame({'Datum': future_index})\n",
    "    future_predictions = model.predict(future_X)\n",
    "    print(future_predictions, '\\n')\n",
    "    \n",
    "    #save results\n",
    "    future_X['Prediction'] = future_predictions\n",
    "    return future_X"
   ]
  },
  {
   "cell_type": "code",
   "execution_count": 19,
   "id": "a291bc3d-c37b-4821-834b-39bf0c9fb376",
   "metadata": {},
   "outputs": [
    {
     "name": "stdin",
     "output_type": "stream",
     "text": [
      "Enter as target column: \n",
      "CDU/CSU \n",
      "SPD \n",
      "FDP \n",
      "Grüne \n",
      "AfD \n",
      "\n",
      " => CDU/CSU\n"
     ]
    }
   ],
   "source": [
    "#enter target column (choose your party)\n",
    "enter_tcol = input(\"Enter as target column: \\nCDU/CSU \\nSPD \\nFDP \\nGrüne \\nAfD \\n\\n =>\")"
   ]
  },
  {
   "cell_type": "code",
   "execution_count": 20,
   "id": "570ef029-706c-4b67-bb49-819c87ef4879",
   "metadata": {},
   "outputs": [
    {
     "name": "stdout",
     "output_type": "stream",
     "text": [
      "[27.22737333 27.21198887 27.19660441 27.18121995 27.16583549 27.15045103\n",
      " 27.13506657 27.11968212 27.10429766 27.0889132  27.07352874 27.05814428\n",
      " 27.04275982 27.02737536 27.0119909  26.99660645 26.98122199 26.96583753\n",
      " 26.95045307 26.93506861 26.91968415 26.90429969 26.88891523 26.87353078\n",
      " 26.85814632 26.84276186 26.8273774  26.81199294 26.79660848 26.78122402] \n",
      "\n",
      "    Datum  Prediction\n",
      "0     465   27.227373\n",
      "1     466   27.211989\n",
      "2     467   27.196604\n",
      "3     468   27.181220\n",
      "4     469   27.165835\n",
      "5     470   27.150451\n",
      "6     471   27.135067\n",
      "7     472   27.119682\n",
      "8     473   27.104298\n",
      "9     474   27.088913\n",
      "10    475   27.073529\n",
      "11    476   27.058144\n",
      "12    477   27.042760\n",
      "13    478   27.027375\n",
      "14    479   27.011991\n",
      "15    480   26.996606\n",
      "16    481   26.981222\n",
      "17    482   26.965838\n",
      "18    483   26.950453\n",
      "19    484   26.935069\n",
      "20    485   26.919684\n",
      "21    486   26.904300\n",
      "22    487   26.888915\n",
      "23    488   26.873531\n",
      "24    489   26.858146\n",
      "25    490   26.842762\n",
      "26    491   26.827377\n",
      "27    492   26.811993\n",
      "28    493   26.796608\n",
      "29    494   26.781224\n"
     ]
    }
   ],
   "source": [
    "#call function\n",
    "future_results = linear_regression_forecast(df, target_column=enter_tcol)\n",
    "print(future_results)"
   ]
  },
  {
   "cell_type": "markdown",
   "id": "f464d636-dd6e-4d2f-b47a-39b9d6ead82b",
   "metadata": {},
   "source": [
    "#### Predicting a specific future date"
   ]
  },
  {
   "cell_type": "code",
   "execution_count": 22,
   "id": "099b8d37-cf9e-4042-978a-d6a3dd31689f",
   "metadata": {},
   "outputs": [],
   "source": [
    "def predict_specific_date(df, target_column, specific_date, test_size=0.2, random_state=42):\n",
    "    \n",
    "    #set date to datetime\n",
    "    df['Datum'] = pd.to_datetime(df['Datum'])\n",
    "    df['numeric_index'] = (df['Datum'] - df['Datum'].min()).dt.days\n",
    "\n",
    "    #define features and target\n",
    "    X = df[['numeric_index']]\n",
    "    y = df[target_column]\n",
    "\n",
    "    #train test split\n",
    "    X_train, X_test, y_train, y_test = train_test_split(X, y, test_size=test_size, random_state=random_state)\n",
    "\n",
    "    #create and train the model\n",
    "    model = LinearRegression()\n",
    "    model.fit(X_train, y_train)\n",
    "\n",
    "    #prediction on the data\n",
    "    specific_index = (pd.to_datetime(specific_date) - df['Datum'].min()).days\n",
    "    specific_X = pd.DataFrame({'numeric_index': [specific_index]})\n",
    "    specific_prediction = model.predict(specific_X)\n",
    "\n",
    "    return specific_prediction[0]"
   ]
  },
  {
   "cell_type": "code",
   "execution_count": 23,
   "id": "af854a06-8871-46e2-9ede-299864548cf5",
   "metadata": {},
   "outputs": [
    {
     "name": "stdout",
     "output_type": "stream",
     "text": [
      "Prediction for 2025-02-10: 30.830645161290324\n"
     ]
    }
   ],
   "source": [
    "#calculate on single future prediction\n",
    "specific_date = '2025-02-10'\n",
    "prediction = predict_specific_date(df, target_column=enter_tcol, specific_date=specific_date)\n",
    "print(f\"Prediction for {specific_date}: {prediction}\")"
   ]
  },
  {
   "cell_type": "markdown",
   "id": "5bf136f2-fd66-4f0a-ada1-a8e4e4a40736",
   "metadata": {},
   "source": [
    "------------------------"
   ]
  },
  {
   "cell_type": "markdown",
   "id": "9ad4f790-8642-4bbe-aaab-0d4c11db7a67",
   "metadata": {},
   "source": [
    "## Visualization"
   ]
  },
  {
   "cell_type": "code",
   "execution_count": 55,
   "id": "d624caf5-f3ae-49ea-960e-a9ee94032aff",
   "metadata": {},
   "outputs": [],
   "source": [
    "def linear_regression_forecast(df, target_column, days_to_predict=30, test_size=0.2, random_state=42):\n",
    "\n",
    "    #convert date to index\n",
    "    df['Datum'] = range(len(df))\n",
    "    \n",
    "    #feature X and target y\n",
    "    X = df[['Datum']]\n",
    "    y = df[target_column]\n",
    "    \n",
    "    #train test split\n",
    "    X_train, X_test, y_train, y_test = train_test_split(X, y, test_size=test_size, random_state=random_state)\n",
    "    \n",
    "    #create and train the model\n",
    "    model = LinearRegression()\n",
    "    model.fit(X_train, y_train)\n",
    "    \n",
    "    #prediction on future values\n",
    "    future_index = np.arange(len(df), len(df) + days_to_predict)\n",
    "    future_X = pd.DataFrame({'Datum': future_index})\n",
    "    future_predictions = model.predict(future_X)\n",
    "    \n",
    "    #prediction on historical values\n",
    "    historical_predictions = model.predict(X)\n",
    "    \n",
    "    #save results\n",
    "    future_X['Prediction'] = future_predictions\n",
    "\n",
    "    #combine historical and future data\n",
    "    result_df = pd.concat([df.set_index('Datum'), future_X.set_index('Datum')])\n",
    "\n",
    "    #visualization with seaborn\n",
    "    plt.figure(figsize=(10, 6))\n",
    "    sns.lineplot(data=result_df.reset_index(), x='Datum', y=target_column, label='Actual')\n",
    "    sns.lineplot(data=future_X.reset_index(), x='Datum', y='Prediction', color='red', linestyle='--', label='Prediction')\n",
    "    sns.lineplot(x=df['Datum'], y=historical_predictions, color='green', label='Regression Line')\n",
    "    plt.title(f'Linear Regression Forecast for {target_column}')\n",
    "    plt.xlabel('Days')\n",
    "    plt.ylabel(target_column)\n",
    "    plt.legend()\n",
    "    plt.show()\n",
    "\n",
    "    return \"\""
   ]
  },
  {
   "cell_type": "code",
   "execution_count": 57,
   "id": "d4b3362d-bccd-44e5-9f5e-bf44cdf76755",
   "metadata": {},
   "outputs": [
    {
     "data": {
      "image/png": "[encoded data removed]",
      "text/plain": [
       "<Figure size 1000x600 with 1 Axes>"
      ]
     },
     "metadata": {},
     "output_type": "display_data"
    },
    {
     "name": "stdout",
     "output_type": "stream",
     "text": [
      "\n"
     ]
    }
   ],
   "source": [
    "#call prediction function\n",
    "predicted_df = linear_regression_forecast(df, target_column=enter_tcol)\n",
    "\n",
    "print(predicted_df)"
   ]
  },
  {
   "cell_type": "code",
   "execution_count": 28,
   "id": "10be68af-883c-4316-9ef4-9de3906276cd",
   "metadata": {},
   "outputs": [
    {
     "name": "stdout",
     "output_type": "stream",
     "text": [
      "2016-01-06 00:00:00\n",
      "2025-01-07 00:00:00\n",
      "\n"
     ]
    },
    {
     "name": "stdin",
     "output_type": "stream",
     "text": [
      " 20\n"
     ]
    },
    {
     "name": "stdout",
     "output_type": "stream",
     "text": [
      "2016-05-24 00:00:00\n"
     ]
    }
   ],
   "source": [
    "#reveal date index (start and end)\n",
    "print(df_clean[\"Datum\"].iloc[0]) #start date\n",
    "print(df_clean[\"Datum\"].iloc[-1]) #end date\n",
    "\n",
    "print()\n",
    "\n",
    "#find a specific date\n",
    "enter_datind = int(input())\n",
    "print(df_clean[\"Datum\"].iloc[enter_datind])"
   ]
  },
  {
   "cell_type": "code",
   "execution_count": null,
   "id": "fb9f9721-be64-4b1a-af10-3f73799229b7",
   "metadata": {},
   "outputs": [],
   "source": []
  }
 ],
 "metadata": {
  "kernelspec": {
   "display_name": "Python 3 (ipykernel)",
   "language": "python",
   "name": "python3"
  },
  "language_info": {
   "codemirror_mode": {
    "name": "ipython",
    "version": 3
   },
   "file_extension": ".py",
   "mimetype": "text/x-python",
   "name": "python",
   "nbconvert_exporter": "python",
   "pygments_lexer": "ipython3",
   "version": "3.11.7"
  }
 },
 "nbformat": 4,
 "nbformat_minor": 5
}
