{
 "cells": [
  {
   "cell_type": "markdown",
   "id": "54288441-f3f3-4a6d-ab63-546ae827eceb",
   "metadata": {},
   "source": [
    "#### churn prediction"
   ]
  },
  {
   "cell_type": "code",
   "execution_count": 34,
   "id": "6fa1dbd5-43a7-4e19-a5e0-e7a3981d717a",
   "metadata": {},
   "outputs": [],
   "source": [
    "import pandas as pd\n",
    "from sklearn.model_selection import train_test_split\n",
    "from sklearn.linear_model import LogisticRegression\n",
    "from sklearn.preprocessing import StandardScaler\n",
    "import numpy as np"
   ]
  },
  {
   "cell_type": "code",
   "execution_count": 36,
   "id": "c68b9597-7b57-4c36-bc67-4caaf31cf46f",
   "metadata": {},
   "outputs": [],
   "source": [
    "#generate random data\n",
    "\n",
    "#always use the same random samples (here: 42)\n",
    "np.random.seed(42)\n",
    "\n",
    "#number of samples\n",
    "n_samples = 20\n",
    "\n",
    "#generate random age between 18 and 66\n",
    "age = np.random.randint(18, 67, size=n_samples)\n",
    "\n",
    "#generate random income between 15k and 100k\n",
    "income = np.random.randint(15000, 100001, size=n_samples)\n",
    "\n",
    "#random quit values between 0 and 1\n",
    "churn = np.random.randint(0, 2, size=n_samples)\n",
    "\n",
    "# DataFrame erstellen\n",
    "data = pd.DataFrame({'age': age, 'income': income, 'churn': churn})"
   ]
  },
  {
   "cell_type": "code",
   "execution_count": 40,
   "id": "b80b64d0-4e66-4233-9b64-388ba0c99f02",
   "metadata": {},
   "outputs": [
    {
     "name": "stdin",
     "output_type": "stream",
     "text": [
      "Enter a specific age... 66\n",
      "Enter the income of that person... 100000\n"
     ]
    },
    {
     "name": "stdout",
     "output_type": "stream",
     "text": [
      "The person will STAY.\n",
      "Probability of quitting: 11.97%\n"
     ]
    }
   ],
   "source": [
    "#example of fixed data\n",
    "\"\"\"data = pd.DataFrame({\n",
    "    'age': [25, 45, 33, 50, 23, 40, 60, 48, 22, 28, 55, 38, 42, 29, 52, 31, 47, 26, 58, 35],\n",
    "    'income': [50000, 60000, 70000, 80000, 40000, 75000, 30000, 90000, 20000, 15000, 34000, 65000, 85000, 55000, 95000, 62000, 78000, 48000, 100000, 68000],\n",
    "    'churn': [0, 1, 0, 1, 0, 1, 1, 1, 1, 1, 0, 0, 1, 0, 1, 0, 1, 0, 1, 0]\n",
    "})\"\"\"\n",
    "\n",
    "X = data[['age', 'income']]\n",
    "y = data['churn']\n",
    "\n",
    "X_train, X_test, y_train, y_test = train_test_split(X, y, test_size=0.2, random_state=42)\n",
    "\n",
    "#scaling features\n",
    "scaler = StandardScaler()\n",
    "X_train_scaled = scaler.fit_transform(X_train)\n",
    "X_test_scaled = scaler.transform(X_test)\n",
    "\n",
    "model = LogisticRegression()\n",
    "model.fit(X_train_scaled, y_train)\n",
    "\n",
    "#input new data\n",
    "age = int(input(\"Enter a specific age...\"))\n",
    "income = int(input(\"Enter the income of that person...\"))\n",
    "\n",
    "#prediction on new data\n",
    "new_data = pd.DataFrame({'age': [age], 'income': [income]})\n",
    "\n",
    "#scale new data point\n",
    "new_data_scaled = scaler.transform(new_data)\n",
    "\n",
    "#prediction\n",
    "prediction = model.predict(new_data_scaled)\n",
    "\n",
    "if prediction[0] == 1:\n",
    "    print(\"\\nThe person will QUIT.\")\n",
    "else:\n",
    "    print(\"The person will STAY.\")\n",
    "\n",
    "#probability of quitting:\n",
    "probability = model.predict_proba(new_data_scaled)[0][1]\n",
    "\n",
    "#result\n",
    "print(f\"Probability of quitting: {probability*100:.2f}%\")"
   ]
  },
  {
   "cell_type": "code",
   "execution_count": null,
   "id": "0c58803c-37b7-4645-b31b-dbb28d4548cf",
   "metadata": {},
   "outputs": [],
   "source": []
  }
 ],
 "metadata": {
  "kernelspec": {
   "display_name": "Python [conda env:base] *",
   "language": "python",
   "name": "conda-base-py"
  },
  "language_info": {
   "codemirror_mode": {
    "name": "ipython",
    "version": 3
   },
   "file_extension": ".py",
   "mimetype": "text/x-python",
   "name": "python",
   "nbconvert_exporter": "python",
   "pygments_lexer": "ipython3",
   "version": "3.11.7"
  }
 },
 "nbformat": 4,
 "nbformat_minor": 5
}
