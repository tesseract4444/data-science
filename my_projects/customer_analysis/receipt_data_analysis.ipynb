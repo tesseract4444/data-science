{
 "cells": [
  {
   "cell_type": "code",
   "execution_count": 65,
   "id": "42d70634-b86e-4545-9bd6-206d2fb53ddd",
   "metadata": {},
   "outputs": [],
   "source": [
    "import pandas as pd\n",
    "import numpy as np\n",
    "from collections import Counter\n",
    "import random"
   ]
  },
  {
   "cell_type": "markdown",
   "id": "ef77eab3-2c0e-4b98-8c46-e85b9d4760d1",
   "metadata": {},
   "source": [
    "source of the \"products.csv\": https://gist.github.com/petroniocandido/dbab9321b7d5770b7549682436bb2073"
   ]
  },
  {
   "cell_type": "code",
   "execution_count": 131,
   "id": "675c239f-6d52-41fb-8f41-12e3528ce575",
   "metadata": {},
   "outputs": [
    {
     "name": "stdout",
     "output_type": "stream",
     "text": [
      "0                             Chocolate Sandwich Cookies\n",
      "1                                       All-Seasons Salt\n",
      "2                   Robust Golden Unsweetened Oolong Tea\n",
      "3      Smart Ones Classic Favorites Mini Rigatoni Wit...\n",
      "4                              Green Chile Anytime Sauce\n",
      "                             ...                        \n",
      "994                    Sausage Smoked Sweet German Brand\n",
      "995                   Honey Cinnamon Nut-Thins  Crackers\n",
      "996                 Mini Double Chocolate Ice Cream Bars\n",
      "997                              Hot Chopped Green Chili\n",
      "998                     Original Organic Ville BBQ Sauce\n",
      "Name: product_name, Length: 999, dtype: object\n"
     ]
    }
   ],
   "source": [
    "product_list = pd.read_csv(\"products.csv\")\n",
    "product_list = product_list[\"product_name\"]\n",
    "print(product_list)\n",
    "\n",
    "random_products = random.choices(product_list, k=100)"
   ]
  },
  {
   "cell_type": "code",
   "execution_count": 171,
   "id": "41175e04-62ef-4735-9342-b47b6422a490",
   "metadata": {},
   "outputs": [
    {
     "data": {
      "text/html": [
       "<div>\n",
       "<style scoped>\n",
       "    .dataframe tbody tr th:only-of-type {\n",
       "        vertical-align: middle;\n",
       "    }\n",
       "\n",
       "    .dataframe tbody tr th {\n",
       "        vertical-align: top;\n",
       "    }\n",
       "\n",
       "    .dataframe thead th {\n",
       "        text-align: right;\n",
       "    }\n",
       "</style>\n",
       "<table border=\"1\" class=\"dataframe\">\n",
       "  <thead>\n",
       "    <tr style=\"text-align: right;\">\n",
       "      <th></th>\n",
       "      <th>receipt_id</th>\n",
       "      <th>customer_id</th>\n",
       "      <th>total_amount</th>\n",
       "      <th>items</th>\n",
       "    </tr>\n",
       "  </thead>\n",
       "  <tbody>\n",
       "    <tr>\n",
       "      <th>0</th>\n",
       "      <td>1</td>\n",
       "      <td>47</td>\n",
       "      <td>182.881392</td>\n",
       "      <td>Key Lime Moisture Shave, Brambleberry Herbal Tea</td>\n",
       "    </tr>\n",
       "    <tr>\n",
       "      <th>1</th>\n",
       "      <td>2</td>\n",
       "      <td>11</td>\n",
       "      <td>186.394339</td>\n",
       "      <td>Turkey, Toaster Pops Strawberry, Sweet Cooking...</td>\n",
       "    </tr>\n",
       "    <tr>\n",
       "      <th>2</th>\n",
       "      <td>3</td>\n",
       "      <td>3</td>\n",
       "      <td>74.173099</td>\n",
       "      <td>Fresh Oj, Cavity Protection Regular Flavor Too...</td>\n",
       "    </tr>\n",
       "    <tr>\n",
       "      <th>3</th>\n",
       "      <td>4</td>\n",
       "      <td>40</td>\n",
       "      <td>21.103500</td>\n",
       "      <td>Sweet Cream Buttermilk Powder, Pink Vitamin C ...</td>\n",
       "    </tr>\n",
       "    <tr>\n",
       "      <th>4</th>\n",
       "      <td>5</td>\n",
       "      <td>2</td>\n",
       "      <td>189.807521</td>\n",
       "      <td>Real Chicken &amp; Veggies Recipe Dog Food, Wild R...</td>\n",
       "    </tr>\n",
       "  </tbody>\n",
       "</table>\n",
       "</div>"
      ],
      "text/plain": [
       "   receipt_id  customer_id  total_amount  \\\n",
       "0           1           47    182.881392   \n",
       "1           2           11    186.394339   \n",
       "2           3            3     74.173099   \n",
       "3           4           40     21.103500   \n",
       "4           5            2    189.807521   \n",
       "\n",
       "                                               items  \n",
       "0   Key Lime Moisture Shave, Brambleberry Herbal Tea  \n",
       "1  Turkey, Toaster Pops Strawberry, Sweet Cooking...  \n",
       "2  Fresh Oj, Cavity Protection Regular Flavor Too...  \n",
       "3  Sweet Cream Buttermilk Powder, Pink Vitamin C ...  \n",
       "4  Real Chicken & Veggies Recipe Dog Food, Wild R...  "
      ]
     },
     "execution_count": 171,
     "metadata": {},
     "output_type": "execute_result"
    }
   ],
   "source": [
    "#np.random.seed(42)\n",
    "\n",
    "#random receipt data frame\n",
    "data = {\n",
    "    \"receipt_id\": np.arange(1, 101),\n",
    "    \"customer_id\": np.random.randint(1, 51, size=100),  #20 unique customers\n",
    "    \"total_amount\": np.random.uniform(5, 200, size=100),  #cart value between $5 and $200\n",
    "    \"items\": [\", \".join(np.random.choice(random_products, size=np.random.randint(1, 5), replace=False)) for _ in range(100)]\n",
    "}\n",
    "df_receipts = pd.DataFrame(data)\n",
    "\n",
    "df_receipts.head()"
   ]
  },
  {
   "cell_type": "code",
   "execution_count": 173,
   "id": "49d87b53-ca64-49ec-8d84-38ece3ed33a5",
   "metadata": {},
   "outputs": [
    {
     "name": "stdout",
     "output_type": "stream",
     "text": [
      "Average cart value: $100.33\n",
      "Maximum cart value: $193.45\n",
      "Minimum cart value: $6.28\n",
      "\n",
      "Top 10 most purchased products:\n",
      "(1, (\"Acne Dote Clean 'n Treat Towellettes\", 9))\n",
      "(2, ('Wild Raspberry Hibiscus Caffiene Free Herbal Tea Bags', 8))\n",
      "(3, ('Pink Vitamin C 1000 Mg Pink Lemonade Drink Mix', 6))\n",
      "(4, ('Furniture Polish Lemon Scent', 6))\n",
      "(5, ('Apple Sparkling Juice Beverage', 6))\n",
      "(6, ('Dailyfoods Vitamin D-3 2000 IU', 6))\n",
      "(7, ('Brambleberry Herbal Tea', 5))\n",
      "(8, ('Sweet Cooking Rice Seasoning', 5))\n",
      "(9, ('Cavity Protection Regular Flavor Toothpaste', 5))\n",
      "(10, ('Cranberry Urinary Tract Health', 5))\n"
     ]
    }
   ],
   "source": [
    "#average cart value\n",
    "avg_cart_value = df_receipts[\"total_amount\"].mean()\n",
    "max_cart_value = df_receipts[\"total_amount\"].max()\n",
    "min_cart_value = df_receipts[\"total_amount\"].min()\n",
    "\n",
    "#most frequently purchased products\n",
    "all_items = [item for sublist in df_receipts[\"items\"].str.split(\", \") for item in sublist]\n",
    "most_common_items = Counter(all_items).most_common(10)\n",
    "\n",
    "print(f\"Average cart value: ${avg_cart_value:.2f}\")\n",
    "print(f\"Maximum cart value: ${max_cart_value:.2f}\")\n",
    "print(f\"Minimum cart value: ${min_cart_value:.2f}\")\n",
    "\n",
    "print(\"\\nTop 10 most purchased products:\")\n",
    "for item in enumerate(most_common_items, 1):\n",
    "    print(item)"
   ]
  },
  {
   "cell_type": "code",
   "execution_count": null,
   "id": "8a275202-434c-436d-86fa-5c0b9af4e2a0",
   "metadata": {},
   "outputs": [],
   "source": []
  }
 ],
 "metadata": {
  "kernelspec": {
   "display_name": "Python [conda env:base] *",
   "language": "python",
   "name": "conda-base-py"
  },
  "language_info": {
   "codemirror_mode": {
    "name": "ipython",
    "version": 3
   },
   "file_extension": ".py",
   "mimetype": "text/x-python",
   "name": "python",
   "nbconvert_exporter": "python",
   "pygments_lexer": "ipython3",
   "version": "3.11.7"
  }
 },
 "nbformat": 4,
 "nbformat_minor": 5
}
