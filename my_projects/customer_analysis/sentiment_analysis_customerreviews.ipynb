{
 "cells": [
  {
   "cell_type": "markdown",
   "id": "3ae655c1-d52b-4432-98ed-3c9d2687286f",
   "metadata": {},
   "source": [
    "## Sentiment Analysis (based on customer reviews)\n",
    "\n",
    "- source of the export_book.csv: https://dataverse.harvard.edu/file.xhtml?fileId=5612736&version=1.0"
   ]
  },
  {
   "cell_type": "markdown",
   "id": "e651d995-26f5-4a45-8906-dd44948ef4e5",
   "metadata": {},
   "source": [
    "----------------"
   ]
  },
  {
   "cell_type": "markdown",
   "id": "04b87a5c-190d-48b3-843a-1312a9ff08f9",
   "metadata": {},
   "source": [
    "#### import libraries"
   ]
  },
  {
   "cell_type": "code",
   "execution_count": 80,
   "id": "96fd2099-4f88-4f2f-acbf-d952c846d1f0",
   "metadata": {},
   "outputs": [],
   "source": [
    "import pandas as pd\n",
    "from sklearn.preprocessing import LabelEncoder\n",
    "import pandas as pd\n",
    "import spacy\n",
    "from sklearn.feature_extraction.text import CountVectorizer\n",
    "from sklearn.naive_bayes import MultinomialNB\n",
    "#!python -m spacy download en_core_web_sm\n",
    "from sklearn.metrics import roc_curve, auc\n",
    "import matplotlib.pyplot as plt\n",
    "import seaborn as sns\n",
    "from sklearn.metrics import confusion_matrix"
   ]
  },
  {
   "cell_type": "markdown",
   "id": "d4cea21d-d3f7-4857-aa54-ebc7ecf9ca8b",
   "metadata": {},
   "source": [
    "--------------"
   ]
  },
  {
   "cell_type": "markdown",
   "id": "894725f9-f516-4cc1-95ab-ad761f55d961",
   "metadata": {},
   "source": [
    "#### data preparation"
   ]
  },
  {
   "cell_type": "code",
   "execution_count": 3,
   "id": "07c83124-871f-403a-ad0a-8497d49ad726",
   "metadata": {},
   "outputs": [],
   "source": [
    "data = pd.read_csv(\"export_book.csv\", delimiter=\",\")"
   ]
  },
  {
   "cell_type": "code",
   "execution_count": 6,
   "id": "fa576c12-e696-42de-aac1-c7938010e042",
   "metadata": {},
   "outputs": [
    {
     "data": {
      "text/html": [
       "<div>\n",
       "<style scoped>\n",
       "    .dataframe tbody tr th:only-of-type {\n",
       "        vertical-align: middle;\n",
       "    }\n",
       "\n",
       "    .dataframe tbody tr th {\n",
       "        vertical-align: top;\n",
       "    }\n",
       "\n",
       "    .dataframe thead th {\n",
       "        text-align: right;\n",
       "    }\n",
       "</style>\n",
       "<table border=\"1\" class=\"dataframe\">\n",
       "  <thead>\n",
       "    <tr style=\"text-align: right;\">\n",
       "      <th></th>\n",
       "      <th>Unnamed: 0</th>\n",
       "      <th>asin</th>\n",
       "      <th>product name</th>\n",
       "      <th>ratings</th>\n",
       "      <th>reviews</th>\n",
       "      <th>helpful</th>\n",
       "      <th>date</th>\n",
       "      <th>Unnamed: 6</th>\n",
       "      <th>target</th>\n",
       "      <th>text</th>\n",
       "    </tr>\n",
       "  </thead>\n",
       "  <tbody>\n",
       "    <tr>\n",
       "      <th>0</th>\n",
       "      <td>0</td>\n",
       "      <td>1524763136</td>\n",
       "      <td>Becoming</td>\n",
       "      <td>5</td>\n",
       "      <td>\\n\\n  Slow and boring and self boasting.\\n\\n</td>\n",
       "      <td>4,100</td>\n",
       "      <td>13-Dec-18</td>\n",
       "      <td>NaN</td>\n",
       "      <td>p</td>\n",
       "      <td>\\n\\n  Slow and boring and self boasting.\\n\\n</td>\n",
       "    </tr>\n",
       "    <tr>\n",
       "      <th>1</th>\n",
       "      <td>1</td>\n",
       "      <td>1524763136</td>\n",
       "      <td>Becoming</td>\n",
       "      <td>5</td>\n",
       "      <td>\\n\\n  The last thing I wanted to read was a sh...</td>\n",
       "      <td>3,892</td>\n",
       "      <td>11-Dec-18</td>\n",
       "      <td>NaN</td>\n",
       "      <td>p</td>\n",
       "      <td>\\n\\n  The last thing I wanted to read was a sh...</td>\n",
       "    </tr>\n",
       "    <tr>\n",
       "      <th>2</th>\n",
       "      <td>2</td>\n",
       "      <td>1524763136</td>\n",
       "      <td>Becoming</td>\n",
       "      <td>1</td>\n",
       "      <td>\\n\\n  I believe I always loved Michelle Obama....</td>\n",
       "      <td>2,824</td>\n",
       "      <td>13-Nov-18</td>\n",
       "      <td>NaN</td>\n",
       "      <td>n</td>\n",
       "      <td>\\n\\n  I believe I always loved Michelle Obama....</td>\n",
       "    </tr>\n",
       "    <tr>\n",
       "      <th>3</th>\n",
       "      <td>3</td>\n",
       "      <td>1524763136</td>\n",
       "      <td>Becoming</td>\n",
       "      <td>1</td>\n",
       "      <td>\\n\\n  Worst piece of crap ever\\n\\n</td>\n",
       "      <td>3,182</td>\n",
       "      <td>11-Dec-18</td>\n",
       "      <td>NaN</td>\n",
       "      <td>n</td>\n",
       "      <td>\\n\\n  Worst piece of crap ever\\n\\n</td>\n",
       "    </tr>\n",
       "    <tr>\n",
       "      <th>4</th>\n",
       "      <td>4</td>\n",
       "      <td>1524763136</td>\n",
       "      <td>Becoming</td>\n",
       "      <td>1</td>\n",
       "      <td>\\n\\n  If you are an insomniac this book will d...</td>\n",
       "      <td>2,838</td>\n",
       "      <td>11-Dec-18</td>\n",
       "      <td>NaN</td>\n",
       "      <td>n</td>\n",
       "      <td>\\n\\n  If you are an insomniac this book will d...</td>\n",
       "    </tr>\n",
       "  </tbody>\n",
       "</table>\n",
       "</div>"
      ],
      "text/plain": [
       "   Unnamed: 0        asin product name  ratings  \\\n",
       "0           0  1524763136     Becoming        5   \n",
       "1           1  1524763136     Becoming        5   \n",
       "2           2  1524763136     Becoming        1   \n",
       "3           3  1524763136     Becoming        1   \n",
       "4           4  1524763136     Becoming        1   \n",
       "\n",
       "                                             reviews helpful       date  \\\n",
       "0       \\n\\n  Slow and boring and self boasting.\\n\\n   4,100  13-Dec-18   \n",
       "1  \\n\\n  The last thing I wanted to read was a sh...   3,892  11-Dec-18   \n",
       "2  \\n\\n  I believe I always loved Michelle Obama....   2,824  13-Nov-18   \n",
       "3                 \\n\\n  Worst piece of crap ever\\n\\n   3,182  11-Dec-18   \n",
       "4  \\n\\n  If you are an insomniac this book will d...   2,838  11-Dec-18   \n",
       "\n",
       "   Unnamed: 6 target                                               text  \n",
       "0         NaN      p       \\n\\n  Slow and boring and self boasting.\\n\\n  \n",
       "1         NaN      p  \\n\\n  The last thing I wanted to read was a sh...  \n",
       "2         NaN      n  \\n\\n  I believe I always loved Michelle Obama....  \n",
       "3         NaN      n                 \\n\\n  Worst piece of crap ever\\n\\n  \n",
       "4         NaN      n  \\n\\n  If you are an insomniac this book will d...  "
      ]
     },
     "execution_count": 6,
     "metadata": {},
     "output_type": "execute_result"
    }
   ],
   "source": [
    "data.head()"
   ]
  },
  {
   "cell_type": "code",
   "execution_count": 8,
   "id": "69b553b9-40f2-4727-ae23-541e284fa704",
   "metadata": {},
   "outputs": [
    {
     "data": {
      "text/plain": [
       "target\n",
       "p    4323\n",
       "n     677\n",
       "Name: count, dtype: int64"
      ]
     },
     "execution_count": 8,
     "metadata": {},
     "output_type": "execute_result"
    }
   ],
   "source": [
    "data[\"target\"].value_counts()"
   ]
  },
  {
   "cell_type": "code",
   "execution_count": 10,
   "id": "7179599f-b106-4734-918b-fde32e51c3bb",
   "metadata": {},
   "outputs": [],
   "source": [
    "data = data.drop(['Unnamed: 6', 'text'], axis=1)"
   ]
  },
  {
   "cell_type": "code",
   "execution_count": 12,
   "id": "b56ba607-bbc7-43e1-bb76-1a627c72cadf",
   "metadata": {},
   "outputs": [],
   "source": [
    "data = data.rename(columns={\"Unnamed: 0\": \"index\"})"
   ]
  },
  {
   "cell_type": "code",
   "execution_count": 14,
   "id": "a9052de0-327b-4fc6-8c3d-498422d1280a",
   "metadata": {},
   "outputs": [
    {
     "data": {
      "text/html": [
       "<div>\n",
       "<style scoped>\n",
       "    .dataframe tbody tr th:only-of-type {\n",
       "        vertical-align: middle;\n",
       "    }\n",
       "\n",
       "    .dataframe tbody tr th {\n",
       "        vertical-align: top;\n",
       "    }\n",
       "\n",
       "    .dataframe thead th {\n",
       "        text-align: right;\n",
       "    }\n",
       "</style>\n",
       "<table border=\"1\" class=\"dataframe\">\n",
       "  <thead>\n",
       "    <tr style=\"text-align: right;\">\n",
       "      <th></th>\n",
       "      <th>index</th>\n",
       "      <th>asin</th>\n",
       "      <th>product name</th>\n",
       "      <th>ratings</th>\n",
       "      <th>reviews</th>\n",
       "      <th>helpful</th>\n",
       "      <th>date</th>\n",
       "      <th>target</th>\n",
       "    </tr>\n",
       "  </thead>\n",
       "  <tbody>\n",
       "    <tr>\n",
       "      <th>0</th>\n",
       "      <td>0</td>\n",
       "      <td>1524763136</td>\n",
       "      <td>Becoming</td>\n",
       "      <td>5</td>\n",
       "      <td>\\n\\n  Slow and boring and self boasting.\\n\\n</td>\n",
       "      <td>4,100</td>\n",
       "      <td>13-Dec-18</td>\n",
       "      <td>p</td>\n",
       "    </tr>\n",
       "    <tr>\n",
       "      <th>1</th>\n",
       "      <td>1</td>\n",
       "      <td>1524763136</td>\n",
       "      <td>Becoming</td>\n",
       "      <td>5</td>\n",
       "      <td>\\n\\n  The last thing I wanted to read was a sh...</td>\n",
       "      <td>3,892</td>\n",
       "      <td>11-Dec-18</td>\n",
       "      <td>p</td>\n",
       "    </tr>\n",
       "    <tr>\n",
       "      <th>2</th>\n",
       "      <td>2</td>\n",
       "      <td>1524763136</td>\n",
       "      <td>Becoming</td>\n",
       "      <td>1</td>\n",
       "      <td>\\n\\n  I believe I always loved Michelle Obama....</td>\n",
       "      <td>2,824</td>\n",
       "      <td>13-Nov-18</td>\n",
       "      <td>n</td>\n",
       "    </tr>\n",
       "    <tr>\n",
       "      <th>3</th>\n",
       "      <td>3</td>\n",
       "      <td>1524763136</td>\n",
       "      <td>Becoming</td>\n",
       "      <td>1</td>\n",
       "      <td>\\n\\n  Worst piece of crap ever\\n\\n</td>\n",
       "      <td>3,182</td>\n",
       "      <td>11-Dec-18</td>\n",
       "      <td>n</td>\n",
       "    </tr>\n",
       "    <tr>\n",
       "      <th>4</th>\n",
       "      <td>4</td>\n",
       "      <td>1524763136</td>\n",
       "      <td>Becoming</td>\n",
       "      <td>1</td>\n",
       "      <td>\\n\\n  If you are an insomniac this book will d...</td>\n",
       "      <td>2,838</td>\n",
       "      <td>11-Dec-18</td>\n",
       "      <td>n</td>\n",
       "    </tr>\n",
       "  </tbody>\n",
       "</table>\n",
       "</div>"
      ],
      "text/plain": [
       "   index        asin product name  ratings  \\\n",
       "0      0  1524763136     Becoming        5   \n",
       "1      1  1524763136     Becoming        5   \n",
       "2      2  1524763136     Becoming        1   \n",
       "3      3  1524763136     Becoming        1   \n",
       "4      4  1524763136     Becoming        1   \n",
       "\n",
       "                                             reviews helpful       date target  \n",
       "0       \\n\\n  Slow and boring and self boasting.\\n\\n   4,100  13-Dec-18      p  \n",
       "1  \\n\\n  The last thing I wanted to read was a sh...   3,892  11-Dec-18      p  \n",
       "2  \\n\\n  I believe I always loved Michelle Obama....   2,824  13-Nov-18      n  \n",
       "3                 \\n\\n  Worst piece of crap ever\\n\\n   3,182  11-Dec-18      n  \n",
       "4  \\n\\n  If you are an insomniac this book will d...   2,838  11-Dec-18      n  "
      ]
     },
     "execution_count": 14,
     "metadata": {},
     "output_type": "execute_result"
    }
   ],
   "source": [
    "data.head()"
   ]
  },
  {
   "cell_type": "code",
   "execution_count": 37,
   "id": "4264013e-eb57-4faf-9ac7-29193c376a62",
   "metadata": {},
   "outputs": [
    {
     "name": "stdout",
     "output_type": "stream",
     "text": [
      "['\\n\\n  Slow and boring and self boasting.\\n\\n', '\\n\\n  The last thing I wanted to read was a shallow minded patting on the back. I thought with the education, the time would be well spent. I was wrong.\\n\\n', '\\n\\n  I believe I always loved Michelle Obama.  Her grace and dignity always seemed to come as a gift from above.  Her spirit is so incredibly deep and strong.  The stories from her childhood, her brother, her neighborhood, her family, inform us in a brilliant voice about what it was like in the place and time she grew up.Michelle Obama has the empathy and the depth of character so missing in her media portrayal.  I always felt worried that we were suffocating her.  But there is a Michelle Obama who is bigger than the words on a page.  She knows our pains, and she understands our lives.  And we know her in this book.  In this most private book, we know her in a way we could not have otherwise.  Interesting that nothing here surprises me, it only affirms what I felt like I know:  Michelle Obama is a person like us.  She worked and suffered and overcame.Her storytelling skills are exquisite. It left me a little breathless to hear her voice, unfettered and real.I love the photographs.\\n\\n', '\\n\\n  Worst piece of crap ever\\n\\n', '\\n\\n  If you are an insomniac this book will definitely help that.  A real snoozer.\\n\\n']\n"
     ]
    }
   ],
   "source": [
    "#transform the sentences of the reviews to a list\n",
    "review_sent = data['reviews'].values.tolist()\n",
    "print(review_sent[:5])\n",
    "\n",
    "#clean the list with the reviews from \\n\n",
    "reviews = review_sent"
   ]
  },
  {
   "cell_type": "code",
   "execution_count": 39,
   "id": "5b0aeb4b-7fde-4da9-9fe8-ef11c9fc5734",
   "metadata": {},
   "outputs": [
    {
     "data": {
      "text/html": [
       "<div>\n",
       "<style scoped>\n",
       "    .dataframe tbody tr th:only-of-type {\n",
       "        vertical-align: middle;\n",
       "    }\n",
       "\n",
       "    .dataframe tbody tr th {\n",
       "        vertical-align: top;\n",
       "    }\n",
       "\n",
       "    .dataframe thead th {\n",
       "        text-align: right;\n",
       "    }\n",
       "</style>\n",
       "<table border=\"1\" class=\"dataframe\">\n",
       "  <thead>\n",
       "    <tr style=\"text-align: right;\">\n",
       "      <th></th>\n",
       "      <th>index</th>\n",
       "      <th>asin</th>\n",
       "      <th>product name</th>\n",
       "      <th>ratings</th>\n",
       "      <th>reviews</th>\n",
       "      <th>helpful</th>\n",
       "      <th>date</th>\n",
       "      <th>target</th>\n",
       "    </tr>\n",
       "  </thead>\n",
       "  <tbody>\n",
       "    <tr>\n",
       "      <th>0</th>\n",
       "      <td>0</td>\n",
       "      <td>1524763136</td>\n",
       "      <td>Becoming</td>\n",
       "      <td>5</td>\n",
       "      <td>\\n\\n  Slow and boring and self boasting.\\n\\n</td>\n",
       "      <td>4,100</td>\n",
       "      <td>13-Dec-18</td>\n",
       "      <td>1</td>\n",
       "    </tr>\n",
       "    <tr>\n",
       "      <th>1</th>\n",
       "      <td>1</td>\n",
       "      <td>1524763136</td>\n",
       "      <td>Becoming</td>\n",
       "      <td>5</td>\n",
       "      <td>\\n\\n  The last thing I wanted to read was a sh...</td>\n",
       "      <td>3,892</td>\n",
       "      <td>11-Dec-18</td>\n",
       "      <td>1</td>\n",
       "    </tr>\n",
       "    <tr>\n",
       "      <th>2</th>\n",
       "      <td>2</td>\n",
       "      <td>1524763136</td>\n",
       "      <td>Becoming</td>\n",
       "      <td>1</td>\n",
       "      <td>\\n\\n  I believe I always loved Michelle Obama....</td>\n",
       "      <td>2,824</td>\n",
       "      <td>13-Nov-18</td>\n",
       "      <td>0</td>\n",
       "    </tr>\n",
       "    <tr>\n",
       "      <th>3</th>\n",
       "      <td>3</td>\n",
       "      <td>1524763136</td>\n",
       "      <td>Becoming</td>\n",
       "      <td>1</td>\n",
       "      <td>\\n\\n  Worst piece of crap ever\\n\\n</td>\n",
       "      <td>3,182</td>\n",
       "      <td>11-Dec-18</td>\n",
       "      <td>0</td>\n",
       "    </tr>\n",
       "    <tr>\n",
       "      <th>4</th>\n",
       "      <td>4</td>\n",
       "      <td>1524763136</td>\n",
       "      <td>Becoming</td>\n",
       "      <td>1</td>\n",
       "      <td>\\n\\n  If you are an insomniac this book will d...</td>\n",
       "      <td>2,838</td>\n",
       "      <td>11-Dec-18</td>\n",
       "      <td>0</td>\n",
       "    </tr>\n",
       "  </tbody>\n",
       "</table>\n",
       "</div>"
      ],
      "text/plain": [
       "   index        asin product name  ratings  \\\n",
       "0      0  1524763136     Becoming        5   \n",
       "1      1  1524763136     Becoming        5   \n",
       "2      2  1524763136     Becoming        1   \n",
       "3      3  1524763136     Becoming        1   \n",
       "4      4  1524763136     Becoming        1   \n",
       "\n",
       "                                             reviews helpful       date  \\\n",
       "0       \\n\\n  Slow and boring and self boasting.\\n\\n   4,100  13-Dec-18   \n",
       "1  \\n\\n  The last thing I wanted to read was a sh...   3,892  11-Dec-18   \n",
       "2  \\n\\n  I believe I always loved Michelle Obama....   2,824  13-Nov-18   \n",
       "3                 \\n\\n  Worst piece of crap ever\\n\\n   3,182  11-Dec-18   \n",
       "4  \\n\\n  If you are an insomniac this book will d...   2,838  11-Dec-18   \n",
       "\n",
       "   target  \n",
       "0       1  \n",
       "1       1  \n",
       "2       0  \n",
       "3       0  \n",
       "4       0  "
      ]
     },
     "execution_count": 39,
     "metadata": {},
     "output_type": "execute_result"
    }
   ],
   "source": [
    "#define the target values as 0 (negative review) and 1 (positive review)\n",
    "\n",
    "# Initialisiere den LabelEncoder\n",
    "le = LabelEncoder()\n",
    "\n",
    "# Wende den Encoder auf die Spalte an\n",
    "data['target'] = le.fit_transform(data['target'])\n",
    "\n",
    "data.head()"
   ]
  },
  {
   "cell_type": "code",
   "execution_count": 41,
   "id": "5664e6d3-8ba9-46e4-aa2a-b6bfb129da87",
   "metadata": {},
   "outputs": [
    {
     "name": "stdout",
     "output_type": "stream",
     "text": [
      "[1, 1, 0, 0, 0]\n"
     ]
    }
   ],
   "source": [
    "#transform the target values to a list\n",
    "target = data['target'].values.tolist()\n",
    "print(target[:5])"
   ]
  },
  {
   "cell_type": "markdown",
   "id": "b92c91c3-d114-4dd2-a34c-d2228ae97397",
   "metadata": {},
   "source": [
    "--------------"
   ]
  },
  {
   "cell_type": "markdown",
   "id": "d1f1a698-2e96-4ef5-a10d-60ac3b438742",
   "metadata": {},
   "source": [
    "#### make a prediction on the reviews"
   ]
  },
  {
   "cell_type": "code",
   "execution_count": 54,
   "id": "3bbf66d1-1020-4521-bacd-4278e7ef0123",
   "metadata": {},
   "outputs": [
    {
     "name": "stdout",
     "output_type": "stream",
     "text": [
      "prediction: positive\n"
     ]
    }
   ],
   "source": [
    "#load spacy (english)\n",
    "nlp = spacy.load(\"en_core_web_sm\")\n",
    "\n",
    "#load reviews and sentiment labels\n",
    "texts = reviews\n",
    "labels = target\n",
    "\n",
    "#lemmatize the reviews\n",
    "lemmatized_texts = [\" \".join([token.lemma_ for token in nlp(text)]) for text in texts]\n",
    "\n",
    "#feature extraction: transform text to vector\n",
    "vectorizer = CountVectorizer()\n",
    "X = vectorizer.fit_transform(lemmatized_texts)\n",
    "\n",
    "#train the modell using naive bayes for text classification\n",
    "model = MultinomialNB()\n",
    "model.fit(X, labels)"
   ]
  },
  {
   "cell_type": "code",
   "execution_count": 68,
   "id": "7e407c78-dc50-448f-aa82-6ff67cd221f5",
   "metadata": {},
   "outputs": [
    {
     "name": "stdout",
     "output_type": "stream",
     "text": [
      "Accuracy: 0.8868\n"
     ]
    }
   ],
   "source": [
    "accuracy = model.score(X, labels)\n",
    "print(\"Accuracy:\", accuracy)"
   ]
  },
  {
   "cell_type": "code",
   "execution_count": 74,
   "id": "4e56e32e-c050-48bb-b1b1-36304a8ad528",
   "metadata": {
    "scrolled": true
   },
   "outputs": [
    {
     "data": {
      "image/png": "[encoded data removed]",
      "text/plain": [
       "<Figure size 800x600 with 1 Axes>"
      ]
     },
     "metadata": {},
     "output_type": "display_data"
    }
   ],
   "source": [
    "#check probabilities\n",
    "y_probs = model.predict_proba(X)[:, 1]  \n",
    "\n",
    "#calc roc curve\n",
    "fpr, tpr, _ = roc_curve(labels, y_probs)\n",
    "roc_auc = auc(fpr, tpr)\n",
    "\n",
    "#plot roc curve\n",
    "plt.figure(figsize=(8, 6))\n",
    "plt.plot(fpr, tpr, color='blue', lw=2, label=f'ROC curve (AUC = {roc_auc:.2f})')\n",
    "plt.plot([0, 1], [0, 1], color='gray', linestyle='--')  #diagonal line\n",
    "plt.xlim([0.0, 1.0])\n",
    "plt.ylim([0.0, 1.0])\n",
    "plt.xlabel('False Positive Rate')\n",
    "plt.ylabel('True Positive Rate')\n",
    "plt.title('ROC Curve - Naive Bayes Text Classification')\n",
    "plt.legend(loc=\"lower right\")\n",
    "plt.show()"
   ]
  },
  {
   "cell_type": "code",
   "execution_count": 90,
   "id": "24c413bd-aa57-441f-8ac6-512661eb6f27",
   "metadata": {},
   "outputs": [
    {
     "name": "stdout",
     "output_type": "stream",
     "text": [
      "short overview confusion matrix\n",
      " [[ 143  534]\n",
      " [  32 4291]]\n",
      "\n",
      "Confusion Matrix:\n"
     ]
    },
    {
     "data": {
      "image/png": "[encoded data removed]",
      "text/plain": [
       "<Figure size 600x400 with 2 Axes>"
      ]
     },
     "metadata": {},
     "output_type": "display_data"
    }
   ],
   "source": [
    "#model prediction\n",
    "y_pred = model.predict(X)\n",
    "\n",
    "#calculate confusion matrix\n",
    "cm = confusion_matrix(labels, y_pred)\n",
    "print(f'short overview confusion matrix\\n {cm}\\n')\n",
    "\n",
    "#plot heat map\n",
    "print(\"confusion matrix (visualized):\")\n",
    "plt.figure(figsize=(6, 4))\n",
    "sns.heatmap(cm, annot=True, fmt=\"d\", cmap=\"Blues\", xticklabels=['negative', 'positive'], yticklabels=['negative', 'positive'])\n",
    "plt.xlabel(\"Predicted Label\")\n",
    "plt.ylabel(\"True Label\")\n",
    "plt.title(\"Confusion Matrix - Naive Bayes Text Classification\")\n",
    "plt.show()"
   ]
  },
  {
   "cell_type": "code",
   "execution_count": null,
   "id": "77a6b4b9-c5cb-4e7d-a19a-164927b58012",
   "metadata": {},
   "outputs": [],
   "source": [
    "#enter an example text for your own classification based on the reviews\n",
    "test_text = input(\"Enter a short review textx\")\n",
    "lemmatized_test_text = \" \".join([token.lemma_ for token in nlp(test_text[0])])  #lemmatization of the example text\n",
    "X_test = vectorizer.transform([lemmatized_test_text])\n",
    "prediction = model.predict(X_test)\n",
    "\n",
    "#result (positive or negative)\n",
    "print(\"prediction:\", \"positive\" if prediction[0] == 1 else \"negative\")"
   ]
  }
 ],
 "metadata": {
  "kernelspec": {
   "display_name": "Python [conda env:base] *",
   "language": "python",
   "name": "conda-base-py"
  },
  "language_info": {
   "codemirror_mode": {
    "name": "ipython",
    "version": 3
   },
   "file_extension": ".py",
   "mimetype": "text/x-python",
   "name": "python",
   "nbconvert_exporter": "python",
   "pygments_lexer": "ipython3",
   "version": "3.11.7"
  }
 },
 "nbformat": 4,
 "nbformat_minor": 5
}
