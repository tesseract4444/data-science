{
 "cells": [
  {
   "cell_type": "code",
   "execution_count": 41,
   "id": "6b7988a3-02e7-460d-affc-305abfb926ec",
   "metadata": {},
   "outputs": [],
   "source": [
    "import numpy as np\n",
    "import pandas as pd\n",
    "import matplotlib.pyplot as plt\n",
    "import seaborn as sns"
   ]
  },
  {
   "cell_type": "code",
   "execution_count": 25,
   "id": "39d6e03f-8fb7-498d-9ed9-913896377c26",
   "metadata": {},
   "outputs": [
    {
     "name": "stdout",
     "output_type": "stream",
     "text": [
      "    customer_id  revenue customer_category\n",
      "0             1     1557            medium\n",
      "1             2     1933            medium\n",
      "2             3     4644              high\n",
      "3             4     4038              high\n",
      "4             5     2824            medium\n",
      "..          ...      ...               ...\n",
      "95           96     1204            medium\n",
      "96           97     4884              high\n",
      "97           98     4470              high\n",
      "98           99     1542            medium\n",
      "99          100     1966            medium\n",
      "\n",
      "[100 rows x 3 columns]\n"
     ]
    }
   ],
   "source": [
    "#generate random customer revenue data\n",
    "customer_data = {\n",
    "    \"customer_id\": np.arange(1, 101),  #100 customers\n",
    "    \"revenue\": np.random.randint(100, 5000, size=100)  #revenue between $100 and $5000\n",
    "}\n",
    "\n",
    "df_customers = pd.DataFrame(customer_data)\n",
    "\n",
    "#categorize customers based on revenue\n",
    "df_customers[\"customer_category\"] = pd.cut(df_customers[\"revenue\"], \n",
    "                                           bins=[0, 1000, 3000, float(\"inf\")], \n",
    "                                           labels=[\"low\", \"medium\", \"high\"])\n",
    "\n",
    "print(df_customers)"
   ]
  },
  {
   "cell_type": "code",
   "execution_count": 29,
   "id": "79944846-763e-48fa-9287-aec51b038761",
   "metadata": {},
   "outputs": [
    {
     "data": {
      "text/plain": [
       "customer_category\n",
       "high      46\n",
       "medium    40\n",
       "low       14\n",
       "Name: count, dtype: int64"
      ]
     },
     "execution_count": 29,
     "metadata": {},
     "output_type": "execute_result"
    }
   ],
   "source": [
    "df_customers[\"customer_category\"].value_counts()"
   ]
  },
  {
   "cell_type": "code",
   "execution_count": 31,
   "id": "41b6f52d-72c3-4397-8b7d-3434de5ba33c",
   "metadata": {},
   "outputs": [
    {
     "data": {
      "text/plain": [
       "214"
      ]
     },
     "execution_count": 31,
     "metadata": {},
     "output_type": "execute_result"
    }
   ],
   "source": [
    "df_customers[\"revenue\"].min()"
   ]
  },
  {
   "cell_type": "code",
   "execution_count": 33,
   "id": "9f4e8ba3-4f26-43d0-96d6-dd23a6ad3c6f",
   "metadata": {},
   "outputs": [
    {
     "data": {
      "text/plain": [
       "4986"
      ]
     },
     "execution_count": 33,
     "metadata": {},
     "output_type": "execute_result"
    }
   ],
   "source": [
    "df_customers[\"revenue\"].max()"
   ]
  },
  {
   "cell_type": "code",
   "execution_count": 79,
   "id": "ff7c0e09-f2b0-48e9-9e52-8c2fa98aba68",
   "metadata": {},
   "outputs": [
    {
     "data": {
      "text/plain": [
       "<Figure size 1000x600 with 0 Axes>"
      ]
     },
     "metadata": {},
     "output_type": "display_data"
    },
    {
     "data": {
      "image/png": "[encoded data removed]",
      "text/plain": [
       "<Figure size 644.986x500 with 1 Axes>"
      ]
     },
     "metadata": {},
     "output_type": "display_data"
    }
   ],
   "source": [
    "#plot income category distribution\n",
    "plt.figure(figsize=(10, 6))\n",
    "palette = [\"green\", \"yellow\", \"red\"]\n",
    "sns.displot(data=df_customers, x=\"customer_category\", hue=\"customer_category\", kde=False, palette=palette)\n",
    "plt.title('Income category distribution')\n",
    "plt.show()"
   ]
  },
  {
   "cell_type": "code",
   "execution_count": null,
   "id": "62a6c743-8bed-4bc0-9dd6-4a484c961dda",
   "metadata": {},
   "outputs": [],
   "source": []
  }
 ],
 "metadata": {
  "kernelspec": {
   "display_name": "Python [conda env:base] *",
   "language": "python",
   "name": "conda-base-py"
  },
  "language_info": {
   "codemirror_mode": {
    "name": "ipython",
    "version": 3
   },
   "file_extension": ".py",
   "mimetype": "text/x-python",
   "name": "python",
   "nbconvert_exporter": "python",
   "pygments_lexer": "ipython3",
   "version": "3.11.7"
  }
 },
 "nbformat": 4,
 "nbformat_minor": 5
}
