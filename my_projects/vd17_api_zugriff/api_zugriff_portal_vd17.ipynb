{
 "cells": [
  {
   "cell_type": "markdown",
   "id": "9ca3e0c6",
   "metadata": {},
   "source": [
    "### Code wurde erstellt von: Nina Eberlein und Simon Donath"
   ]
  },
  {
   "cell_type": "markdown",
   "id": "d91f3a27",
   "metadata": {},
   "source": [
    "### Vorbereitung (nicht direkt teil der Aufgaben)"
   ]
  },
  {
   "cell_type": "markdown",
   "id": "a8a38061",
   "metadata": {},
   "source": [
    "####  Gesamte Suchausgabe für \"Gretser\""
   ]
  },
  {
   "cell_type": "code",
   "execution_count": 3,
   "id": "92d403cb",
   "metadata": {},
   "outputs": [
    {
     "name": "stdout",
     "output_type": "stream",
     "text": [
      "Anzahl der Dokumente: 260\n"
     ]
    }
   ],
   "source": [
    "#parameter für die suche, schema: mods\n",
    "params = up.urlencode({'version': '2.0', \n",
    "                       'operation': 'searchRetrieve', \n",
    "                       'query': 'pica.per=gretser', \n",
    "                       'maximumRecords': 500,    \n",
    "                       'startRecord': 1,       \n",
    "                       'recordSchema': 'mods'  \n",
    "                      })\n",
    "\n",
    "#anfrage ausführen\n",
    "tree = etree.parse('http://sru.k10plus.de/vd17?' + params)\n",
    "\n",
    "records = tree.xpath('//m:mods', namespaces={'m': 'http://www.loc.gov/mods/v3'})\n",
    "#records\n",
    "\n",
    "#anzahl der gefundenen dokumente zählen und ausgeben\n",
    "count = len(records)\n",
    "print(\"Anzahl der Dokumente:\", count)"
   ]
  },
  {
   "cell_type": "markdown",
   "id": "20057ee1",
   "metadata": {},
   "source": [
    "#### XML-Code ausgeben"
   ]
  },
  {
   "cell_type": "code",
   "execution_count": 3,
   "id": "ad7ca433",
   "metadata": {
    "scrolled": true
   },
   "outputs": [
    {
     "name": "stdout",
     "output_type": "stream",
     "text": [
      "Datei wurde gespeichert...\n"
     ]
    }
   ],
   "source": [
    "#request durchführen und parameter integrieren\n",
    "response = requests.get('http://sru.k10plus.de/vd17',\n",
    "                        params={'version': '2.0',\n",
    "                                'operation': 'searchRetrieve',\n",
    "                                'query': 'pica.per=gretser',\n",
    "                                'maximumRecords': 500,\n",
    "                                'startRecord': 1,\n",
    "                                'recordSchema': 'mods'\n",
    "                                })\n",
    "\n",
    "result = response.text\n",
    "\n",
    "#datei als xml speichern\n",
    "with open('xml-file.txt', 'w') as file:\n",
    "    file.write(result)\n",
    "\n",
    "print(\"Datei wurde gespeichert...\")"
   ]
  },
  {
   "cell_type": "markdown",
   "id": "3a6be89d",
   "metadata": {},
   "source": [
    " "
   ]
  },
  {
   "cell_type": "markdown",
   "id": "c51afca7",
   "metadata": {},
   "source": [
    "#### Modul-Importe"
   ]
  },
  {
   "cell_type": "code",
   "execution_count": 2,
   "id": "a0fb1410",
   "metadata": {},
   "outputs": [],
   "source": [
    "import urllib.parse as up\n",
    "import lxml.etree as etree\n",
    "import requests"
   ]
  },
  {
   "cell_type": "markdown",
   "id": "690f7abb",
   "metadata": {},
   "source": [
    "  "
   ]
  },
  {
   "cell_type": "markdown",
   "id": "f783c725",
   "metadata": {},
   "source": [
    "### Aufgaben"
   ]
  },
  {
   "cell_type": "markdown",
   "id": "0b08d058",
   "metadata": {},
   "source": [
    "### 1. Wie viele Dokumente mit der Beteiligung von Jacob Gretser (1562–1625) sind verzeichnet?"
   ]
  },
  {
   "cell_type": "code",
   "execution_count": 6,
   "id": "3dc822ee",
   "metadata": {},
   "outputs": [
    {
     "name": "stdout",
     "output_type": "stream",
     "text": [
      "Dokumente unter Beteiligung von Jacob Gretser: 66\n"
     ]
    }
   ],
   "source": [
    "#parameter für die suche, schema: mods\n",
    "params = up.urlencode({\n",
    "    'version': '2.0',\n",
    "    'operation': 'searchRetrieve',\n",
    "    'query': 'pica.per=\"gretser, jacob\"',\n",
    "    'maximumRecords': 500,\n",
    "    'startRecord': 1,\n",
    "    'recordSchema': 'mods'\n",
    "})\n",
    "\n",
    "\n",
    "r = requests.get('http://sru.k10plus.de/vd17?' + params)\n",
    "tree = etree.fromstring(r.content)\n",
    "res = tree.xpath('//m:name[@type=\"personal\"]/m:role/m:roleTerm[text()=\"oth\"]/../../m:namePart[1]/text()[contains(., \"Gretser, Jacob\")]', namespaces={'m': 'http://www.loc.gov/mods/v3'})\n",
    "print(f'Dokumente unter Beteiligung von Jacob Gretser: {len(res)}')"
   ]
  },
  {
   "cell_type": "markdown",
   "id": "84662798",
   "metadata": {},
   "source": [
    "### 2. Wie viele Dokumente, die Gretser (mit-)verfasst hat, sind verzeichnet?"
   ]
  },
  {
   "cell_type": "code",
   "execution_count": 5,
   "id": "ff92680b",
   "metadata": {},
   "outputs": [
    {
     "name": "stdout",
     "output_type": "stream",
     "text": [
      "Dokumente, die Jaocb Gretser (mit-)verfasst hat: 174\n"
     ]
    }
   ],
   "source": [
    "#parameter für die suche, schema: mods\n",
    "params = up.urlencode({\n",
    "    'version': '2.0',\n",
    "    'operation': 'searchRetrieve',\n",
    "    'query': 'pica.per=\"gretser, jacob\"',\n",
    "    'maximumRecords': 500,\n",
    "    'startRecord': 1,\n",
    "    'recordSchema': 'mods'\n",
    "})\n",
    "\n",
    "\n",
    "r = requests.get('http://sru.k10plus.de/vd17?' + params)\n",
    "tree = etree.fromstring(r.content)\n",
    "res = tree.xpath('//m:name[@type=\"personal\"]/m:role/m:roleTerm[text()=\"aut\"]/../../m:namePart[1]/text()[contains(., \"Gretser, Jacob\")]', namespaces={'m': 'http://www.loc.gov/mods/v3'})\n",
    "\n",
    "print(f'Dokumente, die Jaocb Gretser (mit-)verfasst hat: {len(res)}')"
   ]
  },
  {
   "cell_type": "markdown",
   "id": "296fc0dc",
   "metadata": {},
   "source": [
    "### 3. Mit welchen Co-Autoren hat Gretser gearbeitet?"
   ]
  },
  {
   "cell_type": "code",
   "execution_count": 14,
   "id": "c90c84be",
   "metadata": {
    "scrolled": false
   },
   "outputs": [
    {
     "name": "stdout",
     "output_type": "stream",
     "text": [
      "Anzahl der Co-Autoren: 13 \n",
      "\n",
      "Jacob Gretser hat mit folgenden Co-Autoren zusammengearbeitet:\n",
      " ['Bèze, Théodore de', 'ImHoff, Johann Jacob', 'Wilhelm, Peter', 'Wilhelm, Peter', 'Stengel, Georg', 'Waizenegger, Jacob', 'Stengel, Georg', 'Waizenegger, Jacobus', 'Im Hoff, Johann Jacob', 'Maurer, Virgil', 'Stengel, Georg', 'Nebelmair, Stephan', 'Vetter, Conrad']\n"
     ]
    }
   ],
   "source": [
    "#parameter für die suche, schema: mods\n",
    "params = up.urlencode({\n",
    "    'version': '2.0',\n",
    "    'operation': 'searchRetrieve',               \n",
    "    'query': 'pica.per=\"gretser, jacob\"',               \n",
    "    'maximumRecords': 500,                       \n",
    "    'startRecord': 1,                            \n",
    "    'recordSchema': 'mods'                     \n",
    "})\n",
    "\n",
    "\n",
    "r = requests.get('http://sru.k10plus.de/vd17?' + params)\n",
    "tree = etree.fromstring(r.content)\n",
    "#res = tree.xpath('(//m:name[preceding-sibling::m:name[m:namePart[contains(text(), \"Gretser\")]]/m:role/m:roleTerm[contains(text(), \"aut\")]][1]/m:namePart[1] | /m:role/m:roleTerm[contains(text(), \"aut\")])', namespaces={'m': 'http://www.loc.gov/mods/v3'})\n",
    "#res = tree.xpath('m:name/m:namePart[contains(text(), \"Gretser\")]//m:role/m:roleTerm[contains(text(), \"aut\")](//m:name/m:namePart[not(contains(text(), \"Gretser\"))])//m:role/m:roleTerm[contains(text(), \"aut\")]//m:recordInfo//m:namePart[contains(., \"Gretser, Jacob\")]/../..//m:roleTerm[text()=\"aut\"]/../../m:namePart[1][not(contains(., \"Gretser, Jacob\"))]\n",
    "\n",
    "res = tree.xpath('//m:mods//m:namePart[contains(., \"Gretser, Jacob\")]/..//m:roleTerm[text()=\"aut\"]/../../../..//m:roleTerm[text()=\"aut\"]/../../m:namePart[1][not(contains(., \"Gretser, Jacob\"))]', namespaces={'m': 'http://www.loc.gov/mods/v3'})\n",
    "\n",
    "\n",
    "\n",
    "print(f'Anzahl der Co-Autoren: {len(set(res))} \\n')\n",
    "print(f'Jacob Gretser hat mit folgenden Co-Autoren zusammengearbeitet:\\n {[elem.text for elem in set(res)]}')"
   ]
  },
  {
   "cell_type": "markdown",
   "id": "f8fc1267",
   "metadata": {},
   "source": [
    "### 4. Welchen Personen hat er Werke gewidmet? Wurden ihm selbst Werke gewidmet?"
   ]
  },
  {
   "cell_type": "markdown",
   "id": "e6f517d4",
   "metadata": {},
   "source": [
    "#### Aufgabenteil a)"
   ]
  },
  {
   "cell_type": "code",
   "execution_count": 7,
   "id": "7d6ed0b6",
   "metadata": {},
   "outputs": [
    {
     "name": "stdout",
     "output_type": "stream",
     "text": [
      "Anzahl der Personen, denen Jacob Gretser Werke gewidmet hat: 126 \n",
      "\n",
      "Personen, denen Jacob Gretser Werke gewidmet hat:\n",
      " {'Joannes', 'Kostka, Joannes', 'Kostka, Nicolaus Raphael', 'Vischerus, Sixtus', 'Syskowski, Martinus', 'Leonhard, des Klosters zum H. Kreuz in Donauwörth Abt', 'Georgius', 'Fugger, Marx', 'Albrecht Pfaltzgraf bey Rhein', 'Joannes Christophorus', 'Fürstenberg, Ottilie von', 'Gewold, Christoph', 'Rudolphus Augustus', 'Hohenburg, Georgius Herwardus ab', 'Fornerus, Fridericus', 'Brassart, Joannes', 'Johann Christoph', 'Stetten, Albertus a', 'Otho, Episcopus Augustanus', 'Maximilian', 'Welserus, Antonius Felix', 'Maximilianus Comes Palatino Rheni utriusque Bavariae Dux', 'Herwadus Ab Hohenburg, Joannes Georgius', 'Aschausen, Joannes Godefridus ab', 'Paller, Wolfgangus', 'Neustetter, Johann Christoph', 'Fridericus Quartus, Comes Palatinus Ad Rhenum', 'Stein, Henricus A', 'Heinrich', 'Maria Stuart', 'PPaulus', 'Schönberg, Casparus von', 'Fuggerus, Christophorus', 'Uder, Fridericus ab', 'Lautherius, Georg', 'Fuggerus, Ioannes Ernestus', 'Joann Christoph, Bischof zu Eichstätt', 'Herwardus Ab Hohenburg, Joannes Georgius', 'Guilhelmus', 'Augustus', 'Zobelius, Martinus', 'Enderis, Philippus', 'Susanna, Äbtissin des Klosters bei S. Walburgen zu Eichstätt', 'Hohenburg, Johannes Georgius Herwardus', 'Güntherus, Albertus', 'Ferdinand', 'Albertus', 'Jacobus Christophorus Episcopus Basileensis', 'Benedictus Celebris Monasterii Schirensis in Bavaria Abbas', 'Herwardus ab Hohenburg, Joannes Georgius', 'Gerich, Adamus', 'Herwart von Hohenburg, Hans Georg', 'Philippus Ludovicus', 'Laelius Ruinus', 'Herward Ab Hohenburg, Joannes Georgius', 'Volzius, Melior', 'Gustav Adolf', 'Sartorius, Adamus', 'Scheffelius, Elias', 'Schaller, Corona', 'Fugger, Christoph', 'Christianus II.', 'Macarius, Joannes', 'Johann Gottfried', 'Fuggerus, Marcus', 'Velserus, Antonius', 'Firley, Andreas', 'Otho', 'Erdeodus ab Eberau, Joannes', 'Henricus, Episcopus Augustanus', 'Ruinus, Laelius', 'Albertus Comes Palatinus Rheni', 'Johannes Conradus', 'Oetingen, Gothofredus Comes in', 'Joannes Abt und Prälat des Stifts und Klosters S. Ulrichs und S. Afrae in Augsburg', 'Fuggerus, Joannes Ernestus', 'Maximilianus', 'Rudolphus Augustus, Dux Brunsvicensis Ac Lunaeburgensis', 'Klesl, Melchior', 'Polweiler, Rudolf', 'Bemelberg et Hohenburg, Conradus a', 'Fridericus Quartus, Comes Palatino Ad Rhenum', 'Kenkelius, Stephanus', 'Christianus Albertus, Electus Episcopus Lubecensis', 'Stephanus', 'Velserus, Marcus', 'Widmann, Paulus', 'Kotzau, Hektor von', 'Maximilianus Comes Palatinus Rheni, Utriusque Bavariae Dux', 'Wolfgang', 'Friedrich', 'Stephanus Monasterii Schirensis Abbas', 'Denichius, Joachimus', 'Weilhamer, Wilhelmus', 'Henricus', 'Leoninus, Quirinus', 'Jacobus Ecclesiae Constantiensis Episcopus', 'Fugger, Heinrich', 'Albert', 'Walter, Hienymus', 'Reitberger, Stephan', 'Nebelmarius, Stephanus', 'Joannes, Monasterii Caesarensis Abbas', 'Bechlerus, Fridericus', 'Detten, Joannes a', 'Lautherius, Georgius', 'Pogwisch, Bartram', 'Fugger, Christoff', 'Brunner, Georgius', 'Heselbachius, Georgius', 'Langus, Martinus', 'Stevartius, Petrus', 'Fuggerus, Otho Henricus', 'Johannes Georgius', 'Christianus Albertus', 'Ferdinandus', 'Gonzaga, Ferdinandus', 'Fugger, Johann Ernst', 'Menzelius, Leo', 'Kreüt, Wolfgangus Wilhelmus a', 'Maximilianus, Archidux Austriae', 'Petrus', 'Crausius, Leonhard', 'Pemerus, Nicolaus', 'Urbanus', 'Steiniger, Johannes'}\n"
     ]
    }
   ],
   "source": [
    "#parameter für die suche, schema: mods\n",
    "params = up.urlencode({\n",
    "    'version': '2.0',\n",
    "    'operation': 'searchRetrieve',\n",
    "    'query': 'pica.per=\"gretser, jacob\"',\n",
    "    'maximumRecords': 500,\n",
    "    'startRecord': 1,\n",
    "    'recordSchema': 'mods'\n",
    "})\n",
    "\n",
    "\n",
    "r = requests.get('http://sru.k10plus.de/vd17?' + params)\n",
    "tree = etree.fromstring(r.content)\n",
    "res = tree.xpath('//m:name[@type=\"personal\"]/m:role/m:roleTerm[text()=\"WidmungsempfängerIn\"]/../../m:namePart[1]/text()[not(contains(., \"Gretser, Jacob\"))]', namespaces={'m': 'http://www.loc.gov/mods/v3'})\n",
    "print(f'Anzahl der Personen, denen Jacob Gretser Werke gewidmet hat: {len(set(res))} \\n')\n",
    "print(f'Personen, denen Jacob Gretser Werke gewidmet hat:\\n {set(res)}')"
   ]
  },
  {
   "cell_type": "markdown",
   "id": "a2295aba",
   "metadata": {},
   "source": [
    "#### Aufgabenteil b)"
   ]
  },
  {
   "cell_type": "code",
   "execution_count": 8,
   "id": "a6af4523",
   "metadata": {},
   "outputs": [
    {
     "name": "stdout",
     "output_type": "stream",
     "text": [
      "Anzahl der Personen, die Jacob Gretser ihre Werke gewidmet haben: 0 \n",
      "\n",
      "Personen, die Jacob Gretser ihre Werke gewidmet haben:\n",
      " [None]\n"
     ]
    }
   ],
   "source": [
    "#parameter für die suche, schema: mods\n",
    "params = up.urlencode({\n",
    "    'version': '2.0',\n",
    "    'operation': 'searchRetrieve',\n",
    "    'query': 'pica.per=gretser, jacob',\n",
    "    'maximumRecords': 500,\n",
    "    'startRecord': 1,\n",
    "    'recordSchema': 'mods'\n",
    "})\n",
    "\n",
    "\n",
    "r = requests.get('http://sru.k10plus.de/vd17?' + params)\n",
    "tree = etree.fromstring(r.content)\n",
    "res = tree.xpath('//m:name[@type=\"personal\"]/m:role/m:roleTerm[text()=\"Widmungsempfänger\"]/../../m:namePart[1]/text()[contains(., \"Gretser, Jacob\")]', namespaces={'m': 'http://www.loc.gov/mods/v3'})\n",
    "print(f'Anzahl der Personen, die Jacob Gretser ihre Werke gewidmet haben: {len(set(res))} \\n')\n",
    "print(f'Personen, die Jacob Gretser ihre Werke gewidmet haben:\\n {[None if len(set(res))==0 else set(res)]}')"
   ]
  },
  {
   "cell_type": "code",
   "execution_count": null,
   "id": "a2d4d339",
   "metadata": {},
   "outputs": [],
   "source": []
  }
 ],
 "metadata": {
  "kernelspec": {
   "display_name": "Python 3 (ipykernel)",
   "language": "python",
   "name": "python3"
  },
  "language_info": {
   "codemirror_mode": {
    "name": "ipython",
    "version": 3
   },
   "file_extension": ".py",
   "mimetype": "text/x-python",
   "name": "python",
   "nbconvert_exporter": "python",
   "pygments_lexer": "ipython3",
   "version": "3.9.16"
  }
 },
 "nbformat": 4,
 "nbformat_minor": 5
}
