{
 "cells": [
  {
   "cell_type": "code",
   "execution_count": 1,
   "id": "7fff2da5",
   "metadata": {},
   "outputs": [],
   "source": [
    "import numpy as np\n",
    "import pandas as pd\n",
    "import seaborn as sns3\n",
    "import matplotlib.pyplot as plt\n",
    "\n",
    "#read our covid csv\n",
    "#source: https://github.com/casus/covid-19-Infektion_Tod_in_Deutschland/blob/main/Germany_States_COVID19_Death_Infections.csv\n",
    "df = pd.read_csv(\"covid19_de.csv\")"
   ]
  },
  {
   "cell_type": "code",
   "execution_count": 2,
   "id": "656e234f",
   "metadata": {},
   "outputs": [
    {
     "name": "stdout",
     "output_type": "stream",
     "text": [
      "(339434, 6)\n"
     ]
    }
   ],
   "source": [
    "#shows the shape\n",
    "print(df.shape)"
   ]
  },
  {
   "cell_type": "code",
   "execution_count": 3,
   "id": "81319943",
   "metadata": {},
   "outputs": [
    {
     "name": "stdout",
     "output_type": "stream",
     "text": [
      "2036604\n"
     ]
    }
   ],
   "source": [
    "#number of data in the data set\n",
    "print(df.size)"
   ]
  },
  {
   "cell_type": "code",
   "execution_count": 4,
   "id": "a74c6647",
   "metadata": {},
   "outputs": [
    {
     "name": "stdout",
     "output_type": "stream",
     "text": [
      "   region       name        date  dead  infected  population\n",
      "0    1001  Flensburg  2020-03-14     0         4       89504\n",
      "1    1001  Flensburg  2020-03-18     0         2       89504\n",
      "2    1001  Flensburg  2020-03-19     0         4       89504\n",
      "3    1001  Flensburg  2020-03-20     0         2       89504\n",
      "4    1001  Flensburg  2020-03-21     0         1       89504\n"
     ]
    }
   ],
   "source": [
    "#first 5 entries\n",
    "print(df.head())"
   ]
  },
  {
   "cell_type": "code",
   "execution_count": 5,
   "id": "0356c509",
   "metadata": {},
   "outputs": [
    {
     "name": "stdout",
     "output_type": "stream",
     "text": [
      "        region              name        date  dead  infected  population\n",
      "339429   16077  Altenburger Land  2022-12-04     0        12       90118\n",
      "339430   16077  Altenburger Land  2022-12-05     0        29       90118\n",
      "339431   16077  Altenburger Land  2022-12-06     0        48       90118\n",
      "339432   16077  Altenburger Land  2022-12-07     0        40       90118\n",
      "339433   16077  Altenburger Land  2022-12-08     0        24       90118\n"
     ]
    }
   ],
   "source": [
    "#last 5 entries\n",
    "print(df.tail())"
   ]
  },
  {
   "cell_type": "code",
   "execution_count": 6,
   "id": "c3c5834d",
   "metadata": {},
   "outputs": [
    {
     "name": "stdout",
     "output_type": "stream",
     "text": [
      "36757178\n"
     ]
    }
   ],
   "source": [
    "#count total covid infections\n",
    "total_infect = df['infected'].sum()\n",
    "print(total_infect)"
   ]
  },
  {
   "cell_type": "code",
   "execution_count": 7,
   "id": "9e7dcfea",
   "metadata": {},
   "outputs": [
    {
     "name": "stdout",
     "output_type": "stream",
     "text": [
      "158944\n"
     ]
    }
   ],
   "source": [
    "#count total covid deaths\n",
    "total_deaths = df['dead'].sum()\n",
    "print(total_deaths)"
   ]
  },
  {
   "cell_type": "code",
   "execution_count": 8,
   "id": "776ae5e0",
   "metadata": {},
   "outputs": [
    {
     "name": "stdout",
     "output_type": "stream",
     "text": [
      "2020-01-02\n",
      "2022-12-09\n"
     ]
    }
   ],
   "source": [
    "#earliest entry?\n",
    "print(df['date'].min())\n",
    "#latest entry?\n",
    "print(df['date'].max())"
   ]
  },
  {
   "cell_type": "code",
   "execution_count": 9,
   "id": "db18edbf",
   "metadata": {},
   "outputs": [
    {
     "name": "stdout",
     "output_type": "stream",
     "text": [
      "          region        date  dead  infected  population\n",
      "name                                                    \n",
      "Würzburg    9663  2020-03-05     0         1      127880\n",
      "Würzburg    9663  2020-03-09     0         2      127880\n",
      "Würzburg    9663  2020-03-10     2         5      127880\n",
      "Würzburg    9663  2020-03-11     0         1      127880\n",
      "Würzburg    9663  2020-03-12     2         4      127880\n",
      "...          ...         ...   ...       ...         ...\n",
      "Würzburg    9663  2022-12-05     0        76      127880\n",
      "Würzburg    9663  2022-12-06     0        54      127880\n",
      "Würzburg    9663  2022-12-07     0        38      127880\n",
      "Würzburg    9663  2022-12-08     0        28      127880\n",
      "Würzburg    9663  2022-12-09     0        29      127880\n",
      "\n",
      "[846 rows x 5 columns]\n"
     ]
    }
   ],
   "source": [
    "#a german city we all know\n",
    "df = pd.read_csv(\"covid19_de.csv\", index_col='name')\n",
    "df_wue = df.loc['Würzburg']\n",
    "print(df_wue)"
   ]
  },
  {
   "cell_type": "code",
   "execution_count": 10,
   "id": "1f335b8e",
   "metadata": {},
   "outputs": [
    {
     "name": "stdout",
     "output_type": "stream",
     "text": [
      "count    846.000000\n",
      "mean      78.560284\n",
      "std      128.440184\n",
      "min        1.000000\n",
      "25%        7.000000\n",
      "50%       21.000000\n",
      "75%       79.000000\n",
      "max      692.000000\n",
      "Name: infected, dtype: float64\n"
     ]
    }
   ],
   "source": [
    "#statistics for covid infections in wuerzburg\n",
    "wue_infect = df_wue.loc['Würzburg']['infected'].describe()\n",
    "print(wue_infect)"
   ]
  },
  {
   "cell_type": "code",
   "execution_count": 11,
   "id": "133efd8a",
   "metadata": {},
   "outputs": [
    {
     "data": {
      "text/html": [
       "<div>\n",
       "<style scoped>\n",
       "    .dataframe tbody tr th:only-of-type {\n",
       "        vertical-align: middle;\n",
       "    }\n",
       "\n",
       "    .dataframe tbody tr th {\n",
       "        vertical-align: top;\n",
       "    }\n",
       "\n",
       "    .dataframe thead th {\n",
       "        text-align: right;\n",
       "    }\n",
       "</style>\n",
       "<table border=\"1\" class=\"dataframe\">\n",
       "  <thead>\n",
       "    <tr style=\"text-align: right;\">\n",
       "      <th></th>\n",
       "      <th>region</th>\n",
       "      <th>date</th>\n",
       "      <th>dead</th>\n",
       "      <th>infected</th>\n",
       "      <th>population</th>\n",
       "    </tr>\n",
       "    <tr>\n",
       "      <th>name</th>\n",
       "      <th></th>\n",
       "      <th></th>\n",
       "      <th></th>\n",
       "      <th></th>\n",
       "      <th></th>\n",
       "    </tr>\n",
       "  </thead>\n",
       "  <tbody>\n",
       "    <tr>\n",
       "      <th>Würzburg</th>\n",
       "      <td>9663</td>\n",
       "      <td>2022-03-25</td>\n",
       "      <td>0</td>\n",
       "      <td>692</td>\n",
       "      <td>127880</td>\n",
       "    </tr>\n",
       "  </tbody>\n",
       "</table>\n",
       "</div>"
      ],
      "text/plain": [
       "          region        date  dead  infected  population\n",
       "name                                                    \n",
       "Würzburg    9663  2022-03-25     0       692      127880"
      ]
     },
     "execution_count": 11,
     "metadata": {},
     "output_type": "execute_result"
    }
   ],
   "source": [
    "#now we will find out when most people got infected\n",
    "df_wue[df_wue['infected'] == 692]"
   ]
  },
  {
   "cell_type": "code",
   "execution_count": 12,
   "id": "a26917a7",
   "metadata": {},
   "outputs": [
    {
     "name": "stdout",
     "output_type": "stream",
     "text": [
      "count    846.000000\n",
      "mean       0.264775\n",
      "std        0.720528\n",
      "min        0.000000\n",
      "25%        0.000000\n",
      "50%        0.000000\n",
      "75%        0.000000\n",
      "max        7.000000\n",
      "Name: dead, dtype: float64\n"
     ]
    }
   ],
   "source": [
    "#statistics for covid deaths in wuerzburg\n",
    "wue_deaths = df_wue.loc['Würzburg']['dead'].describe()\n",
    "print(wue_deaths)"
   ]
  },
  {
   "cell_type": "code",
   "execution_count": 13,
   "id": "3a3091c9",
   "metadata": {},
   "outputs": [
    {
     "data": {
      "text/html": [
       "<div>\n",
       "<style scoped>\n",
       "    .dataframe tbody tr th:only-of-type {\n",
       "        vertical-align: middle;\n",
       "    }\n",
       "\n",
       "    .dataframe tbody tr th {\n",
       "        vertical-align: top;\n",
       "    }\n",
       "\n",
       "    .dataframe thead th {\n",
       "        text-align: right;\n",
       "    }\n",
       "</style>\n",
       "<table border=\"1\" class=\"dataframe\">\n",
       "  <thead>\n",
       "    <tr style=\"text-align: right;\">\n",
       "      <th></th>\n",
       "      <th>region</th>\n",
       "      <th>date</th>\n",
       "      <th>dead</th>\n",
       "      <th>infected</th>\n",
       "      <th>population</th>\n",
       "    </tr>\n",
       "    <tr>\n",
       "      <th>name</th>\n",
       "      <th></th>\n",
       "      <th></th>\n",
       "      <th></th>\n",
       "      <th></th>\n",
       "      <th></th>\n",
       "    </tr>\n",
       "  </thead>\n",
       "  <tbody>\n",
       "    <tr>\n",
       "      <th>Würzburg</th>\n",
       "      <td>9663</td>\n",
       "      <td>2020-03-28</td>\n",
       "      <td>7</td>\n",
       "      <td>23</td>\n",
       "      <td>127880</td>\n",
       "    </tr>\n",
       "  </tbody>\n",
       "</table>\n",
       "</div>"
      ],
      "text/plain": [
       "          region        date  dead  infected  population\n",
       "name                                                    \n",
       "Würzburg    9663  2020-03-28     7        23      127880"
      ]
     },
     "execution_count": 13,
     "metadata": {},
     "output_type": "execute_result"
    }
   ],
   "source": [
    "#now we will find out when the 7 people died\n",
    "df_wue[df_wue['dead'] == 7]"
   ]
  },
  {
   "cell_type": "code",
   "execution_count": 14,
   "id": "127b046c",
   "metadata": {},
   "outputs": [
    {
     "name": "stdout",
     "output_type": "stream",
     "text": [
      "infections wue to germany: 0.18081366311635785\n",
      "deaths wue to germny: 0.14093013891685122\n",
      "wue deaths to wue infections: 0.3370346965183112\n",
      "DE deaths to DE infections: 0.432416220853516\n"
     ]
    }
   ],
   "source": [
    "#relation wue infections to germany\n",
    "print('infections wue to germany:', df_wue['infected'].sum()/df['infected'].sum()*100)\n",
    "#relation wue deaths to germany\n",
    "print('deaths wue to germny:', df_wue['dead'].sum()/df['dead'].sum()*100)\n",
    "\n",
    "#relation wue deaths to wue infections\n",
    "print('wue deaths to wue infections:', df_wue['dead'].sum()/df_wue['infected'].sum()*100)\n",
    "#relation germany deaths to germany infections\n",
    "print('DE deaths to DE infections:', df['dead'].sum()/df['infected'].sum()*100)"
   ]
  },
  {
   "cell_type": "code",
   "execution_count": 15,
   "id": "7912710f",
   "metadata": {},
   "outputs": [
    {
     "name": "stdout",
     "output_type": "stream",
     "text": [
      "cases of death\n",
      "45843\n",
      "113101\n",
      "\n",
      "infections:\n",
      "1638388\n",
      "35118790\n",
      "\n",
      "cases of death/infections before the vac:\n",
      "2.7980551615368277\n",
      "\n",
      "cases of death / infections after the vac:\n",
      "0.3220526675321103\n",
      "\n",
      "not considered: weaker covid variants - as we all know it started with the deadliest one and got weaker from time to time - this would be quite important but would exceed the amount of time and used data for this little presentation\n"
     ]
    }
   ],
   "source": [
    "df = pd.read_csv(\"covid19_de.csv\")\n",
    "\n",
    "print('cases of death')\n",
    "query_date1 = df.query(\"date < '2020-12-26'\")\n",
    "print(query_date1['dead'].sum())\n",
    "query_date2 = df.query(\"date >= '2020-12-26'\")\n",
    "print(query_date2['dead'].sum())\n",
    "\n",
    "print('\\ninfections:')\n",
    "query_date1 = df.query(\"date < '2020-12-26'\")\n",
    "print(query_date1['infected'].sum())\n",
    "query_date2 = df.query(\"date >= '2020-12-26'\")\n",
    "print(query_date2['infected'].sum())\n",
    "\n",
    "print('\\ncases of death/infections before the vac:')\n",
    "print(query_date1['dead'].sum()/query_date1['infected'].sum()*100)\n",
    "\n",
    "print('\\ncases of death / infections after the vac:')\n",
    "print(query_date2['dead'].sum()/query_date2['infected'].sum()*100)\n",
    "\n",
    "print('\\nnot considered: weaker covid variants - as we all know it started with the deadliest one and got weaker from time to time - this would be quite important but would exceed the amount of time and used data for this little presentation')"
   ]
  },
  {
   "cell_type": "code",
   "execution_count": null,
   "id": "9ef6217e",
   "metadata": {},
   "outputs": [],
   "source": []
  },
  {
   "cell_type": "code",
   "execution_count": null,
   "id": "81be3ab4",
   "metadata": {},
   "outputs": [],
   "source": []
  }
 ],
 "metadata": {
  "kernelspec": {
   "display_name": "Python 3 (ipykernel)",
   "language": "python",
   "name": "python3"
  },
  "language_info": {
   "codemirror_mode": {
    "name": "ipython",
    "version": 3
   },
   "file_extension": ".py",
   "mimetype": "text/x-python",
   "name": "python",
   "nbconvert_exporter": "python",
   "pygments_lexer": "ipython3",
   "version": "3.11.7"
  }
 },
 "nbformat": 4,
 "nbformat_minor": 5
}
